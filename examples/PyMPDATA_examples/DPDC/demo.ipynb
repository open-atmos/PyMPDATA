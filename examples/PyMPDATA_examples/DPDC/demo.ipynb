{
 "cells": [
  {
   "cell_type": "markdown",
   "metadata": {},
   "source": [
    "[![Binder](https://mybinder.org/badge_logo.svg)](https://mybinder.org/v2/gh/open-atmos/PyMPDATA.git/master?filepath=examples/PyMPDATA_examples/DPDC/demo.ipynb)\n",
    "[![Open In Colab](https://colab.research.google.com/assets/colab-badge.svg)](https://colab.research.google.com/github/open-atmos/PyMPDATA/blob/main/examples/PyMPDATA_examples/DPDC/demo.ipynb)"
   ]
  },
  {
   "cell_type": "code",
   "execution_count": null,
   "metadata": {},
   "outputs": [],
   "source": [
    "import sys\n",
    "if 'google.colab' in sys.modules:\n",
    "    !pip --quiet install open-atmos-jupyter-utils\n",
    "    from open_atmos_jupyter_utils import pip_install_on_colab\n",
    "    pip_install_on_colab('PyMPDATA-examples')"
   ]
  },
  {
   "cell_type": "code",
   "execution_count": null,
   "metadata": {},
   "outputs": [],
   "source": [
    "import numpy as np\n",
    "from matplotlib import pyplot\n",
    "\n",
    "from PyMPDATA import Options, Stepper, Solver\n",
    "from PyMPDATA import ScalarField, VectorField\n",
    "from PyMPDATA.boundary_conditions import Periodic\n",
    "\n",
    "from open_atmos_jupyter_utils import show_plot"
   ]
  },
  {
   "cell_type": "code",
   "execution_count": null,
   "metadata": {},
   "outputs": [],
   "source": [
    "from pylab import rcParams\n",
    "rcParams['figure.figsize'] = 7, 10"
   ]
  },
  {
   "cell_type": "code",
   "execution_count": null,
   "metadata": {},
   "outputs": [],
   "source": [
    "def analytical_solution(psi_0,x_start,x_end,dt,nt,v):\n",
    "    p = ((x-v*nt*dt - x_start) % (x_end-x_start) )+ x_start\n",
    "    return psi_0(p)"
   ]
  },
  {
   "cell_type": "code",
   "execution_count": null,
   "metadata": {},
   "outputs": [],
   "source": [
    "def psi_0(x):\n",
    "    a = 5\n",
    "    return 8*a**3 / (x**2 + 4*a**2)\n",
    "\n",
    "nx = 100\n",
    "x_start = - 100\n",
    "x_end = 100\n",
    "dx = (x_end - x_start)/nx\n",
    "x  = np.arange(-100, 100, dx)\n",
    "dt = 1\n",
    "nt = 1000\n",
    "v = -1"
   ]
  },
  {
   "cell_type": "code",
   "execution_count": null,
   "metadata": {},
   "outputs": [],
   "source": [
    "optionsDPDC = Options(n_iters=2, DPDC=True)\n",
    "stepperDPDC = Stepper(options=optionsDPDC, grid=(nx,))\n",
    "optionsMPDATA_1 = Options(n_iters=2, DPDC=False)\n",
    "stepperMPDATA_1 = Stepper(options=optionsMPDATA_1, grid=(nx,))\n",
    "optionsMPDATA_2 = Options(n_iters=3, DPDC=False)\n",
    "stepperMPDATA_2 = Stepper(options=optionsMPDATA_2, grid=(nx,))\n",
    "optionsMPDATA_3 = Options(n_iters=4, DPDC=False)\n",
    "stepperMPDATA_3 = Stepper(options=optionsMPDATA_3, grid=(nx,))"
   ]
  },
  {
   "cell_type": "code",
   "execution_count": null,
   "metadata": {},
   "outputs": [],
   "source": [
    "halo = optionsDPDC.n_halo\n",
    "advecteeDPDC = ScalarField(\n",
    "    data=psi_0(x), \n",
    "    halo=halo, \n",
    "    boundary_conditions=(Periodic(),)\n",
    ")\n",
    "advector = VectorField(\n",
    "    data=(np.full(nx+1, v*dt/dx),),\n",
    "    halo=halo,\n",
    "    boundary_conditions=(Periodic(),)\n",
    ")\n",
    "advecteeMPDATA_1 = ScalarField(\n",
    "    data=psi_0(x), \n",
    "    halo=halo, \n",
    "    boundary_conditions=(Periodic(),)\n",
    ")\n",
    "advecteeMPDATA_2 = ScalarField(\n",
    "    data=psi_0(x), \n",
    "    halo=halo, \n",
    "    boundary_conditions=(Periodic(),)\n",
    ")\n",
    "advecteeMPDATA_3 = ScalarField(\n",
    "    data=psi_0(x), \n",
    "    halo=halo, \n",
    "    boundary_conditions=(Periodic(),)\n",
    ")"
   ]
  },
  {
   "cell_type": "code",
   "execution_count": null,
   "metadata": {},
   "outputs": [],
   "source": [
    "solverDPDC = Solver(stepper=stepperDPDC, advectee=advecteeDPDC, advector=VectorField.clone(advector))\n",
    "solverMPDATA_1 = Solver(stepper=stepperMPDATA_1, advectee=advecteeMPDATA_1, advector=VectorField.clone(advector))\n",
    "solverMPDATA_2 = Solver(stepper=stepperMPDATA_2, advectee=advecteeMPDATA_2, advector=VectorField.clone(advector))\n",
    "solverMPDATA_3 = Solver(stepper=stepperMPDATA_3, advectee=advecteeMPDATA_3, advector=VectorField.clone(advector))\n",
    "solverMPDATA_1.advance(nt)\n",
    "solverMPDATA_2.advance(nt)\n",
    "solverMPDATA_3.advance(nt)\n",
    "solverDPDC.advance(nt)\n",
    "true_solution = analytical_solution(psi_0,x_start,x_end,dt,nt,v)"
   ]
  },
  {
   "cell_type": "code",
   "execution_count": null,
   "metadata": {},
   "outputs": [],
   "source": [
    "pyplot.step(x, solverDPDC.advectee.get(),label=\"DPDC\" ,where='mid')\n",
    "pyplot.step(x, solverMPDATA_1.advectee.get(),label=\"MPData corr_num = 1\" ,where='mid')\n",
    "pyplot.step(x, solverMPDATA_2.advectee.get(),label=\"MPData corr_num = 2\" ,where='mid')\n",
    "pyplot.step(x, solverMPDATA_3.advectee.get(),label=\"MPData corr_num = 3\" ,where='mid')\n",
    "pyplot.step(x, true_solution,label=\"Analytical solution\" ,where='mid')\n",
    "pyplot.grid()\n",
    "pyplot.legend()\n",
    "show_plot()"
   ]
  },
  {
   "cell_type": "code",
   "execution_count": null,
   "metadata": {},
   "outputs": [],
   "source": [
    "print(\"Error plot: Analytical - Numerical solution\")\n",
    "pyplot.step(x,true_solution - solverDPDC.advectee.get(),label=\"DPDC\" ,where='mid')\n",
    "pyplot.step(x,true_solution - solverMPDATA_1.advectee.get(),label=\"MPData corr_num = 1\" ,where='mid')\n",
    "pyplot.step(x,true_solution - solverMPDATA_2.advectee.get(),label=\"MPData corr_num = 2\" ,where='mid')\n",
    "pyplot.step(x,true_solution - solverMPDATA_3.advectee.get(),label=\"MPData corr_num = 3\" ,where='mid')\n",
    "pyplot.grid()\n",
    "pyplot.legend()\n",
    "show_plot()"
   ]
  },
  {
   "cell_type": "code",
   "execution_count": null,
   "metadata": {},
   "outputs": [],
   "source": [
    "def psi_1(x):\n",
    "    return abs(x)**(1/2)/10\n",
    "x_start = - 100\n",
    "x_end =   100\n",
    "x  = np.arange(-100, 100, dx)\n",
    "dx = 2\n",
    "dt = 1\n",
    "nt = 1000\n",
    "v = - 1"
   ]
  },
  {
   "cell_type": "code",
   "execution_count": null,
   "metadata": {},
   "outputs": [],
   "source": [
    "optionsDPDC = Options(n_iters=2, DPDC=True)\n",
    "stepperDPDC = Stepper(options=optionsDPDC, grid=(nx,))\n",
    "optionsMPDATA_1 = Options(n_iters=2, DPDC=False,infinite_gauge = True)\n",
    "stepperMPDATA_1 = Stepper(options=optionsMPDATA_1, grid=(nx,))\n",
    "optionsMPDATA_2 = Options(n_iters=3, DPDC=False)\n",
    "stepperMPDATA_2 = Stepper(options=optionsMPDATA_2, grid=(nx,))\n",
    "optionsMPDATA_3 = Options(n_iters=4, DPDC=False)\n",
    "stepperMPDATA_3 = Stepper(options=optionsMPDATA_3, grid=(nx,))\n",
    "halo = optionsDPDC.n_halo\n",
    "advecteeDPDC = ScalarField(\n",
    "    data=psi_1(x), \n",
    "    halo=halo, \n",
    "    boundary_conditions=(Periodic(),)\n",
    ")\n",
    "advector = VectorField(\n",
    "    data=(np.full(nx+1, v*dt/dx),),\n",
    "    halo=halo,\n",
    "    boundary_conditions=(Periodic(),)\n",
    ")\n",
    "advecteeMPDATA_1 = ScalarField(\n",
    "    data=psi_1(x), \n",
    "    halo=halo, \n",
    "    boundary_conditions=(Periodic(),)\n",
    ")\n",
    "advecteeMPDATA_2 = ScalarField(\n",
    "    data=psi_1(x), \n",
    "    halo=halo, \n",
    "    boundary_conditions=(Periodic(),)\n",
    ")\n",
    "advecteeMPDATA_3 = ScalarField(\n",
    "    data=psi_1(x), \n",
    "    halo=halo, \n",
    "    boundary_conditions=(Periodic(),)\n",
    ")"
   ]
  },
  {
   "cell_type": "code",
   "execution_count": null,
   "metadata": {},
   "outputs": [],
   "source": [
    "solverDPDC = Solver(stepper=stepperDPDC, advectee=advecteeDPDC, advector=advector)\n",
    "solverMPDATA_1 = Solver(stepper=stepperMPDATA_1, advectee=advecteeMPDATA_1, advector=VectorField.clone(advector))\n",
    "solverMPDATA_2 = Solver(stepper=stepperMPDATA_2, advectee=advecteeMPDATA_2, advector=VectorField.clone(advector))\n",
    "solverMPDATA_3 = Solver(stepper=stepperMPDATA_3, advectee=advecteeMPDATA_3, advector=VectorField.clone(advector))\n",
    "solverMPDATA_1.advance(nt)\n",
    "solverMPDATA_2.advance(nt)\n",
    "solverMPDATA_3.advance(nt)\n",
    "solverDPDC.advance(nt)\n",
    "true_solution = analytical_solution(psi_1,x_start,x_end,dt,nt,v)"
   ]
  },
  {
   "cell_type": "code",
   "execution_count": null,
   "metadata": {},
   "outputs": [],
   "source": [
    "pyplot.step(x, solverDPDC.advectee.get(),label=\"DPDC\" ,where='mid')\n",
    "pyplot.step(x, solverMPDATA_1.advectee.get(),label=\"MPData corr_num = 1\" ,where='mid')\n",
    "pyplot.step(x, solverMPDATA_2.advectee.get(),label=\"MPData corr_num = 2\" ,where='mid')\n",
    "pyplot.step(x, solverMPDATA_3.advectee.get(),label=\"MPData corr_num = 3\" ,where='mid')\n",
    "pyplot.step(x, true_solution, label=\"Analitical solution\" ,where='mid')\n",
    "pyplot.grid()\n",
    "pyplot.legend()\n",
    "show_plot()"
   ]
  },
  {
   "cell_type": "code",
   "execution_count": null,
   "metadata": {},
   "outputs": [],
   "source": [
    "pyplot.step(x,true_solution - solverDPDC.advectee.get(),label=\"DPDC\" ,where='mid')\n",
    "pyplot.step(x,true_solution - solverMPDATA_1.advectee.get(),label=\"MPData corr_num = 1\" ,where='mid')\n",
    "pyplot.step(x,true_solution - solverMPDATA_2.advectee.get(),label=\"MPData corr_num = 2\" ,where='mid')\n",
    "pyplot.step(x,true_solution - solverMPDATA_3.advectee.get(),label=\"MPData corr_num = 3\" ,where='mid')\n",
    "pyplot.grid()\n",
    "pyplot.legend()\n",
    "show_plot()"
   ]
  },
  {
   "cell_type": "code",
   "execution_count": null,
   "metadata": {},
   "outputs": [],
   "source": []
  },
  {
   "cell_type": "code",
   "execution_count": null,
   "metadata": {},
   "outputs": [],
   "source": []
  }
 ],
 "metadata": {
  "kernelspec": {
   "display_name": "Python 3",
   "language": "python",
   "name": "python3"
  },
  "language_info": {
   "codemirror_mode": {
    "name": "ipython",
    "version": 3
   },
   "file_extension": ".py",
   "mimetype": "text/x-python",
   "name": "python",
   "nbconvert_exporter": "python",
   "pygments_lexer": "ipython3",
   "version": "3.8.7"
  }
 },
 "nbformat": 4,
 "nbformat_minor": 4
}
