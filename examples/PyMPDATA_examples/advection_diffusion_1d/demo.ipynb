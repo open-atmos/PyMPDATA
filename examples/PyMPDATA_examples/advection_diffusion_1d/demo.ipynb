{
 "cells": [
  {
   "cell_type": "markdown",
   "metadata": {},
   "source": [
    "  [![Binder](https://mybinder.org/badge_logo.svg)](https://mybinder.org/v2/gh/open-atmos/PyMPDATA.git/main?filepath=examples/PyMPDATA_examples/advection_diffusion_1d/demo.ipynb)\n",
    "  [![Open In Colab](https://colab.research.google.com/assets/colab-badge.svg)](https://colab.research.google.com/github/open-atmos/PyMPDATA/blob/main/examples/PyMPDATA_examples/advection_diffusion_1d/demo.ipynb)"
   ]
  },
  {
   "cell_type": "code",
   "execution_count": null,
   "metadata": {},
   "outputs": [],
   "source": [
    "import sys\n",
    "if 'google.colab' in sys.modules:\n",
    "    !pip --quiet install open-atmos-jupyter-utils\n",
    "    from open_atmos_jupyter_utils import pip_install_on_colab\n",
    "    pip_install_on_colab('PyMPDATA-examples')"
   ]
  },
  {
   "cell_type": "code",
   "execution_count": null,
   "metadata": {},
   "outputs": [],
   "source": [
    "import os\n",
    "import numpy as np\n",
    "import sympy as sp\n",
    "from IPython.display import HTML, display\n",
    "import matplotlib.pyplot as plt\n",
    "from matplotlib.animation import FuncAnimation\n",
    "from open_atmos_jupyter_utils import show_plot\n",
    "from PyMPDATA import Solver, ScalarField, VectorField, Stepper, Options\n",
    "from PyMPDATA.boundary_conditions import Periodic"
   ]
  },
  {
   "cell_type": "code",
   "execution_count": null,
   "metadata": {},
   "outputs": [],
   "source": [
    "#Eq parameters\n",
    "mu = 0.05\n",
    "\n",
    "solution_symbolic = sp.sympify(\"sin(pi*(x-c*t))*exp(-mu*pi**2*t) + 2\", rational=True)\n",
    "u0_symbolic = solution_symbolic.subs({\"t\":0})#sp.sympify(\"sin(pi * x) + 2\", rational=True)\n",
    "\n",
    "#Sim Parameters\n",
    "steps_per_iter = 1\n",
    "opts = Options(n_iters=3, non_zero_mu_coeff=True, infinite_gauge=True, nonoscillatory=True)\n",
    "\n",
    "#Plot Parameters\n",
    "r_array = np.arange(1, 7, 2)\n",
    "c_array = np.linspace(0.05, 0.7, 7)"
   ]
  },
  {
   "cell_type": "code",
   "execution_count": null,
   "metadata": {},
   "outputs": [],
   "source": [
    "results = {}\n",
    "domains = {}\n",
    "solutions = {}\n",
    "max_error = {}\n",
    "\n",
    "for r in r_array:\n",
    "    print(f\"R {r}\")\n",
    "    nx = 16 * 2**r\n",
    "\n",
    "    domain_symbolic = [-1+sp.Rational(2*i, nx) for i in range(nx)]\n",
    "    domain = np.array(domain_symbolic, dtype=np.float)\n",
    "    u0 = np.array([u0_symbolic.subs(\"x\", x) for x in domain_symbolic], dtype=np.float)\n",
    "\n",
    "    boundary_conditions = (Periodic(),)\n",
    "    stepper = Stepper(options=opts, n_dims=len(u0.shape), non_unit_g_factor=False)\n",
    "    solver = Solver(stepper=stepper,\n",
    "                    advectee=ScalarField(u0.astype(dtype=opts.dtype), halo=opts.n_halo,\n",
    "                                         boundary_conditions=boundary_conditions),\n",
    "                    advector=VectorField((np.full(u0.shape[0] + 1, 0, dtype=opts.dtype),), halo=opts.n_halo,\n",
    "                                         boundary_conditions=boundary_conditions)\n",
    "                    )\n",
    "\n",
    "    for C in c_array:\n",
    "        print(\"\\t\", C)\n",
    "\n",
    "        #Params\n",
    "        dx = 2 / nx\n",
    "        phys_c = 2 * C / nx\n",
    "        phys_mu = mu * dx**2\n",
    "        nt = int(4 / C / dx)\n",
    "\n",
    "        solution = solution_symbolic.subs({\"c\" : phys_c, \"mu\" : phys_mu})\n",
    "        #display(solution)\n",
    "\n",
    "        ###SIM\n",
    "        solver.advector.data[0][:] = C\n",
    "        solver.advectee.get()[:] = u0\n",
    "\n",
    "        numerical_results = [solver.advectee.get().copy()]\n",
    "        for i in range(nt):\n",
    "            solver.advance(steps_per_iter, mu_coeff=(mu,))\n",
    "            numerical_results.append(solver.advectee.get().copy())\n",
    "\n",
    "        numerical_results = np.array(numerical_results)\n",
    "        key = (r, C)\n",
    "        results[key] = numerical_results\n",
    "        domains[key] = domain\n",
    "        solutions[key] = solution\n",
    "        \n",
    "        ###ERR\n",
    "        u = sp.lambdify(\"x,t\", solution)\n",
    "        steps = np.arange(nt + 1, dtype=int).reshape(-1, 1) * steps_per_iter\n",
    "        error = np.sqrt(np.sum((u(domain, steps) - numerical_results)**2, axis=1)/nx)\n",
    "        max_idx = np.argmax(error)\n",
    "        max_error[key] = error[max_idx]\n"
   ]
  },
  {
   "cell_type": "code",
   "execution_count": null,
   "metadata": {},
   "outputs": [],
   "source": [
    "theta_array = c_array * np.pi/2\n",
    "\n",
    "X, Y = np.meshgrid(theta_array, r_array)\n",
    "Z = np.array(list(max_error.values())).reshape(len(r_array), len(theta_array))\n",
    "Z = np.log2(Z)\n",
    "Z[Z>0] = 0\n",
    "\n",
    "ax = plt.subplot(111, projection='polar')\n",
    "\n",
    "cnt = ax.contourf(X, Y, Z)\n",
    "legend = plt.colorbar(cnt, ax=ax, pad=0.1)\n",
    "\n",
    "\n",
    "ax.set_rlim(0, max(r_array)+1)\n",
    "ax.set_thetalim(0, np.pi/2)\n",
    "ax.set_rticks(range(0, max(r_array)+1))\n",
    "ax.set_rlabel_position(-22.5)\n",
    "theta_ticks = np.linspace(0, 90, 11)\n",
    "ax.set_thetagrids(theta_ticks, theta_ticks/90)\n",
    "ax.grid(True)\n",
    "\n",
    "ax.set_title(\"Error log vs R and C\", va='bottom')\n",
    "show_plot()"
   ]
  },
  {
   "cell_type": "code",
   "execution_count": null,
   "metadata": {},
   "outputs": [],
   "source": [
    "key = (1,.05)\n",
    "numerical_result = results[key]\n",
    "domain = domains[key]\n",
    "u = sp.lambdify(\"x,t\", solutions[key])\n",
    "\n",
    "\n",
    "fig = plt.figure(figsize=(9, 6))\n",
    "ax = fig.add_subplot(121)\n",
    "ax.set_title(\"Numerical and analytical solution\", pad = 20)\n",
    "#ax = fig.add_axes([0, 0, 1, 1], frameon=False)\n",
    "ax.set_xlim(-1, 1)\n",
    "ax.set_ylim(1, 3)\n",
    "line, = ax.step(domain, numerical_result[0], where='mid')\n",
    "line2, = ax.plot(domain, u(domain, 0))\n",
    "ax = fig.add_subplot(122)\n",
    "ax.set_title(\"Difference between analytical and numerical solution\", pad = 20)\n",
    "line3, = ax.plot(domain, u(domain, 0) - numerical_result[0])\n",
    "ax.set_ylim(-.1, .1)\n",
    "ax.set_xlim( -1, 1)\n",
    "\n",
    "interval = 25 #ms\n",
    "frame_list = np.arange(len(numerical_result), dtype=int)\n",
    "\n",
    "def update(frame_num):\n",
    "    line.set_ydata(numerical_result[frame_num])\n",
    "    line2.set_ydata(u(domain, frame_num * steps_per_iter))\n",
    "    line3.set_ydata(u(domain, frame_num * steps_per_iter) - numerical_result[frame_num])\n",
    "    return line, line2, line3\n",
    "\n",
    "animation = FuncAnimation(fig, update, frames=frame_list, interval=interval, blit=True)\n",
    "fig.show()"
   ]
  },
  {
   "cell_type": "code",
   "execution_count": null,
   "metadata": {},
   "outputs": [],
   "source": [
    "if 'CI' not in os.environ:\n",
    "    display(HTML(animation.to_html5_video()))"
   ]
  },
  {
   "cell_type": "code",
   "execution_count": null,
   "metadata": {},
   "outputs": [],
   "source": []
  }
 ],
 "metadata": {
  "kernelspec": {
   "display_name": "Python 3",
   "language": "python",
   "name": "python3"
  },
  "language_info": {
   "codemirror_mode": {
    "name": "ipython",
    "version": 3
   },
   "file_extension": ".py",
   "mimetype": "text/x-python",
   "name": "python",
   "nbconvert_exporter": "python",
   "pygments_lexer": "ipython3",
   "version": "3.8.2"
  }
 },
 "nbformat": 4,
 "nbformat_minor": 4
}
