{
 "cells": [
  {
   "cell_type": "markdown",
   "metadata": {},
   "source": [
    "[![preview notebook](https://img.shields.io/static/v1?label=render%20on&logo=github&color=87ce3e&message=GitHub)](https://github.com/open-atmos/PyMPDATA/blob/main/examples/PyMPDATA_examples/Olesik_et_al_2022/demo_wall_times.ipynb)\n",
    "[![launch on mybinder.org](https://mybinder.org/badge_logo.svg)](https://mybinder.org/v2/gh/open-atmos/PyMPDATA.git/main?urlpath=lab/tree/examples/PyMPDATA_examples/Olesik_et_al_2022/demo_wall_times.ipynb)\n",
    "[![launch on Colab](https://colab.research.google.com/assets/colab-badge.svg)](https://colab.research.google.com/github/open-atmos/PyMPDATA/blob/main/examples/PyMPDATA_examples/Olesik_et_al_2022/demo_wall_times.ipynb)"
   ]
  },
  {
   "cell_type": "markdown",
   "metadata": {},
   "source": [
    "see [Olesik et al. 2022](https://doi.org/10.5194/gmd-15-3879-2022)"
   ]
  },
  {
   "cell_type": "code",
   "execution_count": 1,
   "metadata": {},
   "outputs": [],
   "source": [
    "import sys\n",
    "if 'google.colab' in sys.modules:\n",
    "    !pip --quiet install open-atmos-jupyter-utils\n",
    "    from open_atmos_jupyter_utils import pip_install_on_colab\n",
    "    pip_install_on_colab('PyMPDATA-examples')"
   ]
  },
  {
   "cell_type": "code",
   "execution_count": 2,
   "metadata": {},
   "outputs": [],
   "source": [
    "from PyMPDATA_examples.Olesik_et_al_2022.wall_time import test_wall_time"
   ]
  },
  {
   "cell_type": "code",
   "execution_count": 3,
   "metadata": {},
   "outputs": [
    {
     "name": "stdout",
     "output_type": "stream",
     "text": [
      "\\begin{table}[]\n",
      "\\begin{tabular}{| l | l |}\n",
      "\\hline Variant  & Elapsed Real Time (wrt upwind) \\\\ \\hline\n",
      "\\hline {'n_iters': 1}(x_log_of_pn) & 1.0 \\\\ \\hline\n",
      "\\hline {'n_iters': 2}(x_log_of_pn) & 2.5 \\\\ \\hline\n",
      "\\hline {'n_iters': 2, 'infinite_gauge': True}(x_log_of_pn) & 2.3 \\\\ \\hline\n",
      "\\hline {'n_iters': 2, 'infinite_gauge': True, 'nonoscillatory': True}(x_log_of_pn) & 8.7 \\\\ \\hline\n",
      "\\hline {'n_iters': 2, 'DPDC': True, 'infinite_gauge': True, 'nonoscillatory': True}(x_log_of_pn) & 8.4 \\\\ \\hline\n",
      "\\hline {'n_iters': 3, 'third_order_terms': True}(x_log_of_pn) & 7.1 \\\\ \\hline\n",
      "\\hline {'n_iters': 3}(x_log_of_pn) & 4.7 \\\\ \\hline\n",
      "\\hline {'n_iters': 3, 'third_order_terms': True, 'infinite_gauge': True, 'nonoscillatory': True}(x_log_of_pn) & 14.8 \\\\ \\hline\n",
      "\\end{tabular}\n",
      "\\end{table}\n"
     ]
    }
   ],
   "source": [
    "test_wall_time(generate=False, print_tab=True)"
   ]
  },
  {
   "cell_type": "code",
   "execution_count": null,
   "metadata": {},
   "outputs": [],
   "source": []
  }
 ],
 "metadata": {
  "kernelspec": {
   "display_name": "Python 3 (ipykernel)",
   "language": "python",
   "name": "python3"
  },
  "language_info": {
   "codemirror_mode": {
    "name": "ipython",
    "version": 3
   },
   "file_extension": ".py",
   "mimetype": "text/x-python",
   "name": "python",
   "nbconvert_exporter": "python",
   "pygments_lexer": "ipython3",
   "version": "3.9.2"
  }
 },
 "nbformat": 4,
 "nbformat_minor": 4
}
