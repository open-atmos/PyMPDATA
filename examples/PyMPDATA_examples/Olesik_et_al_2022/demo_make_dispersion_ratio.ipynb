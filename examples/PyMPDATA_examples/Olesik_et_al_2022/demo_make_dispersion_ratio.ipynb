{
 "cells": [
  {
   "cell_type": "markdown",
   "metadata": {},
   "source": [
    "[![Binder](https://mybinder.org/badge_logo.svg)](https://mybinder.org/v2/gh/open-atmos/PyMPDATA.git/main?filepath=examples/PyMPDATA_examples/Olesik_et_al_2022/demo_make_dispersion_ratio.ipynb)\n",
    "[![Open In Colab](https://colab.research.google.com/assets/colab-badge.svg)](https://colab.research.google.com/github/open-atmos/PyMPDATA/blob/main/examples/PyMPDATA_examples/Olesik_et_al_2022/demo_make_dispersion_ratio.ipynb)"
   ]
  },
  {
   "cell_type": "code",
   "execution_count": null,
   "metadata": {},
   "outputs": [],
   "source": [
    "import sys\n",
    "if 'google.colab' in sys.modules:\n",
    "    !pip --quiet install open-atmos-jupyter-utils\n",
    "    from open_atmos_jupyter_utils import pip_install_on_colab\n",
    "    pip_install_on_colab('PyMPDATA-examples')"
   ]
  },
  {
   "cell_type": "code",
   "execution_count": null,
   "metadata": {},
   "outputs": [],
   "source": [
    "from PyMPDATA_examples.Olesik_et_al_2022.analysis import compute_figure_data, rel_disp\n",
    "from PyMPDATA_examples.Olesik_et_al_2022.coordinates import x_p2, x_log_of_pn\n",
    "from PyMPDATA_examples.Olesik_et_al_2022.settings import default_opt_set"
   ]
  },
  {
   "cell_type": "code",
   "execution_count": null,
   "metadata": {},
   "outputs": [],
   "source": [
    "plot_steps = [0, 2, 4, 6, 8, 10]\n",
    "def compute_table_data(psi_coord, grid_layout, n_bins, GC_max, variants):\n",
    "    results, _ = compute_figure_data(\n",
    "        psi_coord=psi_coord, \n",
    "        grid_layouts=(grid_layout,),\n",
    "        nr=n_bins,\n",
    "        GC_max = GC_max,\n",
    "        opt_set=tuple(default_opt_set[variant] for variant in variants)\n",
    "    )\n",
    "    return_value = {}\n",
    "    for result in results.values():\n",
    "        out_steps = result['grid']['out_steps']\n",
    "        for i, _ in enumerate(out_steps):\n",
    "            dp_dr = psi_coord.dx_dr(result['grid']['r'])\n",
    "            analytic_rel_d = rel_disp(result['grid']['rh'], result['analytical'][i]/dp_dr, psi_coord)\n",
    "            print(analytic_rel_d)\n",
    "    return return_value"
   ]
  },
  {
   "cell_type": "code",
   "execution_count": null,
   "metadata": {},
   "outputs": [],
   "source": [
    "n_bins = 75\n",
    "plot_setup_radius_square_mass_doubling = {\"psi_coord\":x_p2(), \"grid_layout\":x_log_of_pn(r0=1, base=2), \"GC_max\":.26,\"n_bins\":n_bins}\n",
    "plot_setup_default = plot_setup_radius_square_mass_doubling"
   ]
  },
  {
   "cell_type": "code",
   "execution_count": null,
   "metadata": {},
   "outputs": [],
   "source": [
    "compute_table_data(**plot_setup_default, variants=('a',));"
   ]
  },
  {
   "cell_type": "code",
   "execution_count": null,
   "metadata": {},
   "outputs": [],
   "source": []
  }
 ],
 "metadata": {
  "kernelspec": {
   "display_name": "Python 3",
   "language": "python",
   "name": "python3"
  },
  "language_info": {
   "codemirror_mode": {
    "name": "ipython",
    "version": 3
   },
   "file_extension": ".py",
   "mimetype": "text/x-python",
   "name": "python",
   "nbconvert_exporter": "python",
   "pygments_lexer": "ipython3",
   "version": "3.8.2"
  }
 },
 "nbformat": 4,
 "nbformat_minor": 2
}
