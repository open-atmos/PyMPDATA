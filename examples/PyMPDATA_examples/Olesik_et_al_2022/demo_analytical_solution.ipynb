{
 "cells": [
  {
   "cell_type": "markdown",
   "metadata": {},
   "source": [
    "[![Binder](https://mybinder.org/badge_logo.svg)](https://mybinder.org/v2/gh/open-atmos/PyMPDATA.git/main?filepath=examples/PyMPDATA_examples/Olesik_et_al_2022/demo_analytical_solution.ipynb)\n",
    "[![Open In Colab](https://colab.research.google.com/assets/colab-badge.svg)](https://colab.research.google.com/github/open-atmos/PyMPDATA/blob/main/examplesPyMPDATA_examples/Olesik_et_al_2022/demo_analytical_solution.ipynb)"
   ]
  },
  {
   "cell_type": "code",
   "execution_count": null,
   "metadata": {},
   "outputs": [],
   "source": [
    "import sys\n",
    "if 'google.colab' in sys.modules:\n",
    "    !pip --quiet install open-atmos-jupyter-utils\n",
    "    from open_atmos_jupyter_utils import pip_install_on_colab\n",
    "    pip_install_on_colab('PyMPDATA-examples')"
   ]
  },
  {
   "cell_type": "code",
   "execution_count": null,
   "metadata": {},
   "outputs": [],
   "source": [
    "import math\n",
    "import numpy as np\n",
    "from matplotlib import pyplot\n",
    "from scipy import optimize, integrate\n",
    "import pint"
   ]
  },
  {
   "cell_type": "code",
   "execution_count": null,
   "metadata": {},
   "outputs": [],
   "source": [
    "si = pint.UnitRegistry()\n",
    "si.setup_matplotlib()\n",
    "t_unit = si.s\n",
    "r_unit = si.um\n",
    "p_unit = r_unit **2\n",
    "n_unit = si.cm ** -3 / r_unit\n",
    "\n",
    "def mgn(quantity, unit):\n",
    "    return quantity.to(unit).magnitude"
   ]
  },
  {
   "cell_type": "code",
   "execution_count": null,
   "metadata": {},
   "outputs": [],
   "source": [
    "rho_w = 1 * si.kg / si.dm ** 3\n",
    "rho_a = 1 * si.kg / si.m ** 3\n",
    "\n",
    "r_min = 1 * si.um\n",
    "r_max = 25 * si.um\n",
    "nr = 100\n",
    "mixing_ratios = np.array([1, 4,10])\n",
    "\n",
    "ksi_0 = 100 * si.um ** 2 / si.s\n",
    "S = 1.00075\n",
    "ksi = (S - 1)* ksi_0\n",
    "def drdt(r):\n",
    "    return ksi / r  \n",
    "\n",
    "def unnormalised_pdf(r):\n",
    "    return ((700 / si.cm**3 * si.um) / r *\n",
    "                np.exp(- 22 * (np.log10(r / (7 * si.um)) ** 2)) *\n",
    "                (1 / si.um))\n",
    "\n",
    "def mixing_ratio(arg):\n",
    "    r_min = .1 * si.um\n",
    "    while not np.isfinite(arg(r_min).magnitude):\n",
    "        r_min *= 1.01\n",
    "    def pdfarg(r_nounit):\n",
    "        r = r_nounit * r_unit\n",
    "        result = arg(r) * r ** 3\n",
    "        return result.to(n_unit * r_unit ** 3).magnitude\n",
    "    I = integrate.quad(pdfarg,\n",
    "                       r_min.to(r_unit).magnitude,\n",
    "                       np.inf\n",
    "                       )[0] * n_unit * r_unit ** 4\n",
    "    return (I * 4 / 3 * np.pi * rho_w / rho_a).to(si.g / si.kg)\n",
    "\n",
    "norm = (1 * si.g / si.kg) / mixing_ratio(unnormalised_pdf)\n",
    "\n",
    "def pdf(r):\n",
    "    return unnormalised_pdf(r) * norm\n",
    "\n",
    "def pdfevolver(pdf, _, t):\n",
    "    def pdf_t(r):\n",
    "        return r /  np.sqrt(r ** 2 - 2 * ksi * t) * pdf(np.sqrt(r ** 2 - 2 * ksi * t))\n",
    "    return pdf_t\n",
    "\n",
    "out_times = []\n",
    "\n",
    "for mr in mixing_ratios * si.g / si.kg:\n",
    "    def findroot(ti):\n",
    "        return (mr - mixing_ratio(pdfevolver(pdf, drdt, ti * t_unit))).magnitude\n",
    "    t_unit = si.second\n",
    "    t = optimize.brentq(findroot, 0, (1 * si.hour).to(t_unit).magnitude)\n",
    "    out_times.append(t)"
   ]
  },
  {
   "cell_type": "code",
   "execution_count": null,
   "metadata": {},
   "outputs": [],
   "source": [
    "def calculate_dt(r_min, r_max, _, drdt_of_r):\n",
    "    def dp_dr(r):\n",
    "        return 2 * r\n",
    "    xh, dx = np.linspace(\n",
    "        np.log(r_min**3) / np.log(np.e),\n",
    "        np.log(r_max**3) / np.log(np.e),\n",
    "        nr + 1,\n",
    "        retstep=True\n",
    "    )\n",
    "    rh = np.e**(xh/3)\n",
    "    dp_dt = drdt_of_r(rh) * dp_dr(rh)\n",
    "    dt = 0.9 * dx / np.amax(dp_dt)\n",
    "    return dt\n",
    "\n",
    "dt = calculate_dt(\n",
    "            mgn(r_min, r_unit),\n",
    "            mgn(r_max, r_unit),\n",
    "            lambda r: mgn(pdf(r * r_unit), n_unit),\n",
    "            lambda r: mgn(drdt(r * r_unit), r_unit / t_unit)\n",
    "        ) \n",
    "out_steps = tuple(math.ceil(t/dt) for t in out_times)\n",
    "dt *= t_unit"
   ]
  },
  {
   "cell_type": "code",
   "execution_count": null,
   "metadata": {},
   "outputs": [],
   "source": [
    "x = np.linspace(\n",
    "            r_min.magnitude,\n",
    "            r_max.magnitude,\n",
    "            512\n",
    "        ) *r_unit\n",
    "\n",
    "fig, axs = pyplot.subplots(1, 1, figsize=(10,6))\n",
    "axs.yaxis.set_units(1 / si.um / si.cm ** 3)\n",
    "axs.xaxis.set_units(si.um)\n",
    "axs.grid()\n",
    "axs.set_title('$dN/dr$')\n",
    "for out_step in out_steps:\n",
    "    t = out_step * dt\n",
    "    print('T =', t)\n",
    "    pdf_t = pdfevolver(pdf, drdt, t)\n",
    "    y = pdf_t(x)\n",
    "    axs.plot(x, y, color='red')\n",
    "pyplot.show()"
   ]
  },
  {
   "cell_type": "code",
   "execution_count": null,
   "metadata": {},
   "outputs": [],
   "source": []
  }
 ],
 "metadata": {
  "kernelspec": {
   "display_name": "Python 3",
   "language": "python",
   "name": "python3"
  },
  "language_info": {
   "codemirror_mode": {
    "name": "ipython",
    "version": 3
   },
   "file_extension": ".py",
   "mimetype": "text/x-python",
   "name": "python",
   "nbconvert_exporter": "python",
   "pygments_lexer": "ipython3",
   "version": "3.8.2"
  }
 },
 "nbformat": 4,
 "nbformat_minor": 4
}
