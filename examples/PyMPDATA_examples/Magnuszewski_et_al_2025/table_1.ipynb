{
 "cells": [
  {
   "cell_type": "markdown",
   "id": "1ca2e1ba-a004-42b4-bbe6-e30808109d30",
   "metadata": {},
   "source": [
    "[![preview notebook](https://img.shields.io/static/v1?label=render%20on&logo=github&color=87ce3e&message=GitHub)](https://github.com/open-atmos/PyMPDATA/blob/main/examples/PyMPDATA_examples/Magnuszewski_et_al_2025/table_1.ipynb)\n",
    "[![launch on mybinder.org](https://mybinder.org/badge_logo.svg)](https://mybinder.org/v2/gh/open-atmos/PyMPDATA.git/main?urlpath=lab/tree/examples/PyMPDATA_examples/Magnuszewski_et_al_2025/table_1.ipynb)\n",
    "[![launch on Colab](https://colab.research.google.com/assets/colab-badge.svg)](https://colab.research.google.com/github/open-atmos/PyMPDATA/blob/main/examples/PyMPDATA_examples/Magnuszewski_et_al_2025/table_1.ipynb)"
   ]
  },
  {
   "cell_type": "markdown",
   "id": "b8325a51-c6f7-4015-be80-d1fe1b26c6ad",
   "metadata": {},
   "source": [
    "## Paweł Magnuszewski MSc project\n",
    "\n",
    "Tamble comparing herein computed UPWIND, MPDATA and Monte-Carlo solutions with data from literature"
   ]
  },
  {
   "cell_type": "code",
   "execution_count": null,
   "id": "initial_id",
   "metadata": {},
   "outputs": [],
   "source": [
    "import sys\n",
    "if 'google.colab' in sys.modules:\n",
    "    !pip --quiet install open-atmos-jupyter-utils\n",
    "    from open_atmos_jupyter_utils import pip_install_on_colab\n",
    "    pip_install_on_colab('PyMPDATA-examples')"
   ]
  },
  {
   "cell_type": "code",
   "execution_count": null,
   "id": "bd8f8eaef8662792",
   "metadata": {
    "ExecuteTime": {
     "end_time": "2025-05-14T12:34:51.015292Z",
     "start_time": "2025-05-14T12:34:44.533229Z"
    }
   },
   "outputs": [],
   "source": [
    "import os\n",
    "import time\n",
    "\n",
    "import matplotlib.pyplot as plt\n",
    "import pandas\n",
    "import numpy as np\n",
    "from matplotlib import pyplot\n",
    "import pandas as pd\n",
    "from ipywidgets import IntProgress\n",
    "\n",
    "from PyMPDATA_examples.Magnuszewski_et_al_2025.asian_option import AsianArithmetic, Settings\n",
    "from PyMPDATA_examples.Magnuszewski_et_al_2025.common import OPTIONS\n",
    "from PyMPDATA_examples.Magnuszewski_et_al_2025.monte_carlo import BSModel, FixedStrikeGeometricAsianOption, FixedStrikeArithmeticAsianOption\n",
    "import PyMPDATA_examples.utils.financial_formulae.asian_option as asian_analytic\n",
    "from PyMPDATA_examples.Magnuszewski_et_al_2025 import barraquand_data\n",
    "\n",
    "pandas.options.display.float_format = '{:,.3f}'.format"
   ]
  },
  {
   "cell_type": "code",
   "execution_count": null,
   "id": "a3343de8c7b970db",
   "metadata": {
    "ExecuteTime": {
     "end_time": "2025-05-14T12:34:54.476783Z",
     "start_time": "2025-05-14T12:34:54.466786Z"
    }
   },
   "outputs": [],
   "source": [
    "CI = 'CI' in os.environ\n",
    "\n",
    "s_min = 50\n",
    "s_max = 200\n",
    "\n",
    "mc_n_paths = [1000, 10000] if not CI else [10, 100]\n",
    "mc_seed = 42\n",
    "mc_path_points = 1000 if not CI else 10\n",
    "\n",
    "spot = 100\n",
    "risk_free_rate = 0.1"
   ]
  },
  {
   "cell_type": "code",
   "execution_count": null,
   "id": "546e4f22be847ea4",
   "metadata": {
    "ExecuteTime": {
     "end_time": "2025-05-14T12:34:55.308586Z",
     "start_time": "2025-05-14T12:34:55.299594Z"
    }
   },
   "outputs": [],
   "source": [
    "def run_numeric_and_mc(params, *, nx, ny, nt, variant):\n",
    "    settings = Settings(**params, r=risk_free_rate, S_max=s_max, S_min=s_min)\n",
    "    mc_model = BSModel(T=params['T'],\n",
    "                       sigma=params['sgma'],\n",
    "                       r=risk_free_rate,\n",
    "                       M=mc_path_points,\n",
    "                       S0=spot,\n",
    "                       seed=mc_seed)\n",
    "    simulations = {k:AsianArithmetic(settings, nx=nx, ny=ny, nt=nt, variant=variant, options=OPTIONS[k]) for k in OPTIONS}\n",
    "    results = {}\n",
    "    \n",
    "    for k, simulation in simulations.items():\n",
    "        simulation.step(simulation.nt)\n",
    "        simulation_price = simulation.solver.advectee.get()[:, 0]\n",
    "        results[k] = np.interp(spot, simulation.S, simulation_price)\n",
    "    for mc_n_path in mc_n_paths:\n",
    "        arithmetic_option = FixedStrikeArithmeticAsianOption(params['T'], params['K'], variant, mc_model, mc_n_path)\n",
    "        results[f\"MC_{mc_n_path}\"] = arithmetic_option.price_by_mc()\n",
    "    return results"
   ]
  },
  {
   "cell_type": "code",
   "execution_count": null,
   "id": "6fe9451c9cf9abef",
   "metadata": {
    "ExecuteTime": {
     "end_time": "2025-05-14T12:34:57.268663Z",
     "start_time": "2025-05-14T12:34:57.243666Z"
    }
   },
   "outputs": [],
   "source": [
    "discretization_parameters = {\n",
    "    (.1,.25, 95):{'nx': 201, 'ny': 400, 'nt': 1500},\n",
    "    (.1,.25,100):{'nx': 201, 'ny': 400, 'nt': 1500},\n",
    "    (.1,.25,105):{'nx': 201, 'ny': 400, 'nt': 1500},\n",
    "    (.1,.5,  95):{'nx': 201, 'ny': 300, 'nt': 1500},\n",
    "    (.1,.5, 100):{'nx': 201, 'ny': 300, 'nt': 1500},\n",
    "    (.1,.5, 105):{'nx': 201, 'ny': 300, 'nt': 1500},\n",
    "    (.1,1.,  95):{'nx': 251, 'ny': 250, 'nt': 1500},\n",
    "    (.1,1., 100):{'nx': 251, 'ny': 250, 'nt': 1500},\n",
    "    (.1,1., 105):{'nx': 251, 'ny': 250, 'nt': 1500},\n",
    "    (.2,.25, 95):{'nx': 251, 'ny': 250, 'nt': 1000},\n",
    "    (.2,.25,100):{'nx': 251, 'ny': 250, 'nt': 1000},\n",
    "    (.2,.25,105):{'nx': 251, 'ny': 250, 'nt': 1000},\n",
    "    (.2,.5,  95):{'nx': 101, 'ny': 200, 'nt': 1000},\n",
    "    (.2,.5, 100):{'nx': 101, 'ny': 200, 'nt': 1000},\n",
    "    (.2,.5, 105):{'nx': 101, 'ny': 200, 'nt': 1000},\n",
    "    (.2,1.,  95):{'nx': 101, 'ny': 200, 'nt': 1500},\n",
    "    (.2,1., 100):{'nx': 101, 'ny': 200, 'nt': 1500},\n",
    "    (.2,1., 105):{'nx': 101, 'ny': 200, 'nt': 1200},\n",
    "    (.4,.25, 95):{'nx': 101, 'ny': 110, 'nt': 2200},\n",
    "    (.4,.25,100):{'nx': 101, 'ny': 200, 'nt': 1000},\n",
    "    (.4,.25,105):{'nx': 101, 'ny': 200, 'nt': 1500},\n",
    "    (.4,.5,  95):{'nx': 101, 'ny': 110, 'nt': 1000},\n",
    "    (.4,.5, 100):{'nx': 101, 'ny': 110, 'nt': 1000},\n",
    "    (.4,.5, 105):{'nx': 101, 'ny': 110, 'nt': 1000},\n",
    "    (.4,1.,  95):{'nx': 101, 'ny': 100, 'nt': 1800},\n",
    "    (.4,1., 100):{'nx': 101, 'ny': 100, 'nt': 1780},\n",
    "    (.4,1., 105):{'nx': 101, 'ny': 100, 'nt': 1760},\n",
    "} if not CI else {\n",
    "    (.1,.25, 95):{'nx': 21, 'ny': 40, 'nt': 40},\n",
    "    (.1,.25,100):{'nx': 21, 'ny': 40, 'nt': 40},\n",
    "}"
   ]
  },
  {
   "cell_type": "code",
   "execution_count": null,
   "id": "f637d8792f021807",
   "metadata": {
    "ExecuteTime": {
     "end_time": "2025-05-14T12:35:37.149616Z",
     "start_time": "2025-05-14T12:35:37.101636Z"
    }
   },
   "outputs": [],
   "source": [
    "barraquand_df = pd.DataFrame(columns=barraquand_data.headers)\n",
    "for line in barraquand_data.table.strip('\\n').split('\\n'):\n",
    "    data_row = line.split(',')\n",
    "    if len(data_row) > 0:\n",
    "        barraquand_df.loc[len(barraquand_df)] = data_row\n",
    "barraquand_df['call_price'] = barraquand_df['call_price'].astype(float)\n",
    "barraquand_df['put_price'] = barraquand_df['put_price'].astype(float)"
   ]
  },
  {
   "cell_type": "code",
   "execution_count": null,
   "id": "631de666facd4b8b",
   "metadata": {
    "ExecuteTime": {
     "end_time": "2025-05-14T12:35:37.539650Z",
     "start_time": "2025-05-14T12:35:37.522660Z"
    }
   },
   "outputs": [],
   "source": [
    "def calculate_row(row_idx):\n",
    "    row_data = barraquand_df.iloc[row_idx].astype(float)\n",
    "    nx,ny,nt = discretization_parameters[(row_data['sigma'], row_data['T'], row_data['K'])].values()\n",
    "    simulation_params = {\n",
    "        'sgma':row_data['sigma'],\n",
    "        'T':row_data['T'],\n",
    "        'K':row_data['K']\n",
    "    }\n",
    "    call_price = row_data['call_price']\n",
    "    put_price = row_data['put_price']\n",
    "    results_call = run_numeric_and_mc(simulation_params, nx=nx, ny=ny, nt=nt, variant='call')\n",
    "    results_put = run_numeric_and_mc(simulation_params, nx=nx, ny=ny, nt=nt, variant='put')\n",
    "    return (\n",
    "        {k: round(v,3) for k, v in results_call.items()},\n",
    "        {k: round(v,3) for k, v in results_put.items()},\n",
    "        simulation_params, call_price, put_price\n",
    "    )"
   ]
  },
  {
   "cell_type": "code",
   "execution_count": null,
   "id": "d06572e595454125",
   "metadata": {
    "ExecuteTime": {
     "end_time": "2025-05-14T12:49:15.192937Z",
     "start_time": "2025-05-14T12:45:55.901556Z"
    }
   },
   "outputs": [],
   "source": [
    "results_df = pd.DataFrame(columns=[\n",
    "    'sigma', 'T', 'K',\n",
    "    'BP_call',\n",
    "    'UPWIND_call', 'MPDATA_call',\n",
    "    f'MC_{mc_n_paths[0]}_call', f'MC_{mc_n_paths[1]}_call',\n",
    "    'BP_put', 'UPWIND_put',\n",
    "    'MPDATA_put',\n",
    "    f'MC_{mc_n_paths[0]}_put', f'MC_{mc_n_paths[1]}_put'\n",
    "])\n",
    "progbar = IntProgress(max=len(discretization_parameters))\n",
    "display(progbar)\n",
    "for i, _ in enumerate(discretization_parameters):\n",
    "    call, put, params, call_bp, put_bp = calculate_row(i)\n",
    "    new_row = [*params.values(), call_bp, *call.values(), put_bp, *put.values()]\n",
    "    results_df.loc[len(results_df)] = new_row\n",
    "    progbar.value += 1\n",
    "results_df['K'] = results_df['K'].astype(int)\n",
    "display(results_df)"
   ]
  }
 ],
 "metadata": {
  "kernelspec": {
   "display_name": "Python 3 (ipykernel)",
   "language": "python",
   "name": "python3"
  },
  "language_info": {
   "codemirror_mode": {
    "name": "ipython",
    "version": 3
   },
   "file_extension": ".py",
   "mimetype": "text/x-python",
   "name": "python",
   "nbconvert_exporter": "python",
   "pygments_lexer": "ipython3",
   "version": "3.9.2"
  }
 },
 "nbformat": 4,
 "nbformat_minor": 5
}
