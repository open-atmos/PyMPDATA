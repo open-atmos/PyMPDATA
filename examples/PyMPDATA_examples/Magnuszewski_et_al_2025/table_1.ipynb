{
 "cells": [
  {
   "cell_type": "markdown",
   "id": "1ca2e1ba-a004-42b4-bbe6-e30808109d30",
   "metadata": {},
   "source": [
    "[![preview notebook](https://img.shields.io/static/v1?label=render%20on&logo=github&color=87ce3e&message=GitHub)](https://github.com/open-atmos/PyMPDATA/blob/main/examples/PyMPDATA_examples/Magnuszewski_et_al_2025/table_1.ipynb)\n",
    "[![launch on mybinder.org](https://mybinder.org/badge_logo.svg)](https://mybinder.org/v2/gh/open-atmos/PyMPDATA.git/main?urlpath=lab/tree/examples/PyMPDATA_examples/Magnuszewski_et_al_2025/table_1.ipynb)\n",
    "[![launch on Colab](https://colab.research.google.com/assets/colab-badge.svg)](https://colab.research.google.com/github/open-atmos/PyMPDATA/blob/main/examples/PyMPDATA_examples/Magnuszewski_et_al_2025/table_1.ipynb)"
   ]
  },
  {
   "cell_type": "markdown",
   "id": "b8325a51-c6f7-4015-be80-d1fe1b26c6ad",
   "metadata": {},
   "source": [
    "## Paweł Magnuszewski MSc project\n",
    "\n",
    "Tamble comparing herein computed UPWIND, MPDATA and Monte-Carlo solutions with data from literature"
   ]
  },
  {
   "cell_type": "code",
   "execution_count": null,
   "id": "initial_id",
   "metadata": {},
   "outputs": [],
   "source": [
    "import sys\n",
    "if 'google.colab' in sys.modules:\n",
    "    !pip --quiet install open-atmos-jupyter-utils\n",
    "    from open_atmos_jupyter_utils import pip_install_on_colab\n",
    "    pip_install_on_colab('PyMPDATA-examples')"
   ]
  },
  {
   "cell_type": "code",
   "execution_count": null,
   "id": "bd8f8eaef8662792",
   "metadata": {
    "ExecuteTime": {
     "end_time": "2025-05-14T12:34:51.015292Z",
     "start_time": "2025-05-14T12:34:44.533229Z"
    }
   },
   "outputs": [],
   "source": [
    "import os\n",
    "\n",
    "import numpy as np\n",
    "import pandas as pd\n",
    "from ipywidgets import IntProgress\n",
    "from IPython.display import display\n",
    "\n",
    "from PyMPDATA_examples.Magnuszewski_et_al_2025.asian_option import AsianArithmetic, Settings\n",
    "from PyMPDATA_examples.Magnuszewski_et_al_2025.common import OPTIONS\n",
    "from PyMPDATA_examples.Magnuszewski_et_al_2025.monte_carlo import BSModel, FixedStrikeArithmeticAsianOption\n",
    "from PyMPDATA_examples.Magnuszewski_et_al_2025 import barraquand_data\n",
    "\n",
    "pd.options.display.float_format = '{:,.3f}'.format"
   ]
  },
  {
   "cell_type": "code",
   "execution_count": null,
   "id": "a3343de8c7b970db",
   "metadata": {
    "ExecuteTime": {
     "end_time": "2025-05-14T12:34:54.476783Z",
     "start_time": "2025-05-14T12:34:54.466786Z"
    }
   },
   "outputs": [],
   "source": [
    "CI = 'CI' in os.environ\n",
    "\n",
    "s_min = 50\n",
    "s_max = 200\n",
    "\n",
    "mc_n_paths = [1000, 10000] if not CI else [10, 100]\n",
    "mc_seed = 42\n",
    "mc_path_points = 1000 if not CI else 10\n",
    "\n",
    "spot = 100\n",
    "risk_free_rate = 0.1"
   ]
  },
  {
   "cell_type": "code",
   "execution_count": null,
   "id": "546e4f22be847ea4",
   "metadata": {
    "ExecuteTime": {
     "end_time": "2025-05-14T12:34:55.308586Z",
     "start_time": "2025-05-14T12:34:55.299594Z"
    }
   },
   "outputs": [],
   "source": [
    "def run_numeric_and_mc(params, *, nx, ny, nt, variant):\n",
    "    settings = Settings(**params, r=risk_free_rate, S_max=s_max, S_min=s_min)\n",
    "    mc_model = BSModel(T=params['T'],\n",
    "                       sigma=params['sgma'],\n",
    "                       r=risk_free_rate,\n",
    "                       M=mc_path_points,\n",
    "                       S0=spot,\n",
    "                       seed=mc_seed)\n",
    "    simulations = {k:AsianArithmetic(settings, nx=nx, ny=ny, nt=nt, variant=variant, options=opt) for k, opt in OPTIONS.items()}\n",
    "    results = {}\n",
    "    \n",
    "    for k, simulation in simulations.items():\n",
    "        simulation.step(simulation.nt)\n",
    "        simulation_price = simulation.solver.advectee.get()[:, 0]\n",
    "        results[k] = np.interp(spot, simulation.S, simulation_price)\n",
    "    for mc_n_path in mc_n_paths:\n",
    "        arithmetic_option = FixedStrikeArithmeticAsianOption(params['T'], params['K'], variant, mc_model, mc_n_path)\n",
    "        results[f\"MC_{mc_n_path}_{variant}\"] = arithmetic_option.price_by_mc()\n",
    "    return results"
   ]
  },
  {
   "cell_type": "code",
   "execution_count": null,
   "id": "6fe9451c9cf9abef",
   "metadata": {
    "ExecuteTime": {
     "end_time": "2025-05-14T12:34:57.268663Z",
     "start_time": "2025-05-14T12:34:57.243666Z"
    }
   },
   "outputs": [],
   "source": [
    "discretization_parameters = {\n",
    "    'put' : {\n",
    "        (.1,.25,95):{'nx': 201, 'ny': 400, 'nt': 1500},\n",
    "        (.1,.25,100):{'nx': 201, 'ny': 400, 'nt': 1500},\n",
    "        (.1,.25,105):{'nx': 201, 'ny': 400, 'nt': 1500},\n",
    "        (.1,.5,95):{'nx': 201, 'ny': 300, 'nt': 1500},\n",
    "        (.1,.5,100):{'nx': 201, 'ny': 300, 'nt': 1500},\n",
    "        (.1,.5,105):{'nx': 201, 'ny': 300, 'nt': 1500},\n",
    "        (.1,1,95):{'nx': 251, 'ny': 250, 'nt': 1500},\n",
    "        (.1,1,100):{'nx': 251, 'ny': 250, 'nt': 1500},\n",
    "        (.1,1,105):{'nx': 251, 'ny': 250, 'nt': 1500},\n",
    "        (.2,.25,95):{'nx': 251, 'ny': 250, 'nt': 1000},\n",
    "        (.2,.25,100):{'nx': 251, 'ny': 250, 'nt': 1000},\n",
    "        (.2,.25,105):{'nx': 251, 'ny': 250, 'nt': 1000},\n",
    "        (.2,.5,95):{'nx': 101, 'ny': 200, 'nt': 1000},\n",
    "        (.2,.5,100):{'nx': 101, 'ny': 200, 'nt': 1000},\n",
    "        (.2,.5,105):{'nx': 101, 'ny': 200, 'nt': 1000},\n",
    "        (.2,1,95):{'nx': 101, 'ny': 200, 'nt': 1500},\n",
    "        (.2,1,100):{'nx': 101, 'ny': 200, 'nt': 1500},\n",
    "        (.2,1,105):{'nx': 101, 'ny': 200, 'nt': 1200},\n",
    "        (.4,.25,95):{'nx': 101, 'ny': 110, 'nt': 2200},\n",
    "        (.4,.25,100):{'nx': 101, 'ny': 200, 'nt': 1000},\n",
    "        (.4,.25,105):{'nx': 101, 'ny': 200, 'nt': 1500},\n",
    "        (.4,.5,95):{'nx': 101, 'ny': 110, 'nt': 1000},\n",
    "        (.4,.5,100):{'nx': 101, 'ny': 110, 'nt': 1000},\n",
    "        (.4,.5,105):{'nx': 101, 'ny': 110, 'nt': 1000},\n",
    "        (.4,1,95):{'nx': 101, 'ny': 100, 'nt': 1800},\n",
    "        (.4,1,100):{'nx': 101, 'ny': 100, 'nt': 1780},\n",
    "        (.4,1,105):{'nx': 101, 'ny': 100, 'nt': 1760}\n",
    "    },\n",
    "    'call': {\n",
    "        (.1,.25,95):{'nx': 121, 'ny': 500, 'nt': 1500},\n",
    "        (.1,.25,100):{'nx': 101, 'ny': 500, 'nt': 1500},\n",
    "        (.1,.25,105):{'nx': 101, 'ny': 500, 'nt': 1500},\n",
    "        (.1,.5,95):{'nx': 101, 'ny': 500, 'nt': 1500},\n",
    "        (.1,.5,100):{'nx': 71, 'ny': 400, 'nt': 1500},\n",
    "        (.1,.5,105):{'nx': 101, 'ny': 400, 'nt': 2000},\n",
    "        (.1,1,95):{'nx': 101, 'ny': 500, 'nt': 2500},\n",
    "        (.1,1,100):{'nx': 101, 'ny': 500, 'nt': 2500},\n",
    "        (.1,1,105):{'nx': 171, 'ny': 600, 'nt': 3000},\n",
    "        (.2,.25,95):{'nx': 101, 'ny': 500, 'nt': 3000},\n",
    "        (.2,.25,100):{'nx': 101, 'ny': 500, 'nt': 3000},\n",
    "        (.2,.25,105):{'nx': 151, 'ny': 800, 'nt': 3000},\n",
    "        (.2,.5,95):{'nx': 101, 'ny': 300, 'nt': 3000},\n",
    "        (.2,.5,100):{'nx': 101, 'ny': 300, 'nt': 3000},\n",
    "        (.2,.5,105):{'nx': 101, 'ny': 400, 'nt': 3000},\n",
    "        (.2,1,95):{'nx': 101, 'ny': 200, 'nt': 1500},\n",
    "        (.2,1,100):{'nx': 121, 'ny': 200, 'nt': 4000},\n",
    "        (.2,1,105):{'nx': 101, 'ny': 250, 'nt': 5000},\n",
    "        (.4,.25,95):{'nx': 101, 'ny': 110, 'nt': 2200},\n",
    "        (.4,.25,100):{'nx': 101, 'ny': 200, 'nt': 3000},\n",
    "        (.4,.25,105):{'nx': 81, 'ny': 200, 'nt': 5000},\n",
    "        (.4,.5,95):{'nx': 101, 'ny': 110, 'nt': 1000},\n",
    "        (.4,.5,100):{'nx': 101, 'ny': 110, 'nt': 1000},\n",
    "        (.4,.5,105):{'nx': 81, 'ny': 150, 'nt': 5000},\n",
    "        (.4,1,95):{'nx': 101, 'ny': 102, 'nt': 4000},\n",
    "        (.4,1,100):{'nx': 101, 'ny': 100, 'nt': 1780},\n",
    "        (.4,1,105):{'nx': 101, 'ny': 100, 'nt': 1760}\n",
    "    }\n",
    "} if not CI else {\n",
    "    'put' : {\n",
    "        (.1,.25,95):{'nx': 21, 'ny': 40, 'nt': 40},\n",
    "        (.1,.25,100):{'nx': 21, 'ny': 40, 'nt': 40},\n",
    "        (.1,.25,105):{'nx': 21, 'ny': 40, 'nt': 40},\n",
    "    },\n",
    "    'call': {\n",
    "        (.1,.25,95):{'nx': 21, 'ny': 40, 'nt': 40},\n",
    "        (.1,.25,100):{'nx': 21, 'ny': 40, 'nt': 40},\n",
    "        (.1,.25,105):{'nx': 21, 'ny': 40, 'nt': 40},\n",
    "    }\n",
    "}"
   ]
  },
  {
   "cell_type": "code",
   "execution_count": null,
   "id": "f637d8792f021807",
   "metadata": {
    "ExecuteTime": {
     "end_time": "2025-05-14T12:35:37.149616Z",
     "start_time": "2025-05-14T12:35:37.101636Z"
    }
   },
   "outputs": [],
   "source": [
    "barraquand_df = pd.DataFrame(columns=barraquand_data.headers)\n",
    "for line in barraquand_data.table.strip('\\n').split('\\n'):\n",
    "    data_row = line.split(',')\n",
    "    if len(data_row) > 0:\n",
    "        barraquand_df.loc[len(barraquand_df)] = data_row\n",
    "barraquand_df['call_price'] = barraquand_df['call_price'].astype(float)\n",
    "barraquand_df['put_price'] = barraquand_df['put_price'].astype(float)"
   ]
  },
  {
   "cell_type": "code",
   "execution_count": null,
   "id": "631de666facd4b8b",
   "metadata": {
    "ExecuteTime": {
     "end_time": "2025-05-14T12:35:37.539650Z",
     "start_time": "2025-05-14T12:35:37.522660Z"
    }
   },
   "outputs": [],
   "source": [
    "def calculate_row(row_idx):\n",
    "    row_data = barraquand_df.iloc[row_idx].astype(float)\n",
    "    nx_put,ny_put,nt_put = discretization_parameters['put'][(row_data['sigma'], row_data['T'], row_data['K'])].values()\n",
    "    nx_call,ny_call,nt_call = discretization_parameters['call'][(row_data['sigma'], row_data['T'], row_data['K'])].values()\n",
    "\n",
    "    simulation_params = {\n",
    "        'sgma':row_data['sigma'],\n",
    "        'T':row_data['T'],\n",
    "        'K':row_data['K']\n",
    "    }\n",
    "    call_price = row_data['call_price']\n",
    "    put_price = row_data['put_price']\n",
    "    results_call = run_numeric_and_mc(simulation_params, nx=nx_call, ny=ny_call, nt=nt_call, variant='call')\n",
    "    results_put = run_numeric_and_mc(simulation_params, nx=nx_put, ny=ny_put, nt=nt_put, variant='put')\n",
    "    return {k: round(v,3) for k, v in results_call.items()}, {k: round(v,3) for k, v in results_put.items()}, simulation_params, call_price, put_price"
   ]
  },
  {
   "cell_type": "code",
   "execution_count": null,
   "id": "d06572e595454125",
   "metadata": {
    "ExecuteTime": {
     "end_time": "2025-05-14T12:49:15.192937Z",
     "start_time": "2025-05-14T12:45:55.901556Z"
    }
   },
   "outputs": [],
   "source": [
    "results_df = pd.DataFrame(columns=[\n",
    "    'sigma', 'T', 'K',\n",
    "    'BP_call',\n",
    "    'UPWIND_call', 'MPDATA_call',\n",
    "    f'MC_{mc_n_paths[0]}_call', f'MC_{mc_n_paths[1]}_call',\n",
    "    'BP_put', 'UPWIND_put',\n",
    "    'MPDATA_put',\n",
    "    f'MC_{mc_n_paths[0]}_put', f'MC_{mc_n_paths[1]}_put'\n",
    "])\n",
    "\n",
    "assert len(discretization_parameters['put']) == len(discretization_parameters['call'])\n",
    "progbar = IntProgress(max=len(discretization_parameters['put']))\n",
    "display(progbar)\n",
    "for i, _ in enumerate(discretization_parameters['put']):\n",
    "    call, put, params, call_bp, put_bp = calculate_row(i)\n",
    "    new_row = [*params.values(), call_bp, *call.values(), put_bp, *put.values()]\n",
    "    results_df.loc[len(results_df)] = new_row\n",
    "    progbar.value += 1\n",
    "results_df['K'] = results_df['K'].astype(int)\n",
    "display(results_df)"
   ]
  },
  {
   "cell_type": "code",
   "execution_count": null,
   "id": "f358f554-9542-407a-a188-f304f39ab021",
   "metadata": {},
   "outputs": [],
   "source": [
    "results_df = results_df.drop(columns=[f'MC_{mc_n_paths[0]}_call', f'MC_{mc_n_paths[0]}_put'])"
   ]
  },
  {
   "cell_type": "code",
   "execution_count": null,
   "id": "33074197-51ea-4b72-9482-5260db819252",
   "metadata": {},
   "outputs": [],
   "source": [
    "latex_header = \"\"\"\n",
    "\\\\begin{tabular}{ccc|cccc|cccc}\n",
    "\\\\toprule\n",
    "& & & \\\\multicolumn{4}{c|}{\\\\textbf{Call Option}} & \\\\multicolumn{4}{c}{\\\\textbf{Put Option}} \\\\\\\\\n",
    "$\\\\sigma$ & $T$ & $K$ & \\\\cite{Barraquand_1996} & UPWIND & MPDATA & M-C & \\\\cite{Barraquand_1996} & UPWIND & MPDATA & M-C \\\\\\\\\n",
    "\"\"\""
   ]
  },
  {
   "cell_type": "code",
   "execution_count": null,
   "id": "b22bc662-fb70-482f-bd3c-a029f0c013f4",
   "metadata": {},
   "outputs": [],
   "source": [
    "def dump_row_values(row_idx):\n",
    "    row = results_df.iloc[row_idx]\n",
    "    ret = f\" & {int(row['K'])} & \"\n",
    "    ret += \" & \".join([\"{:.3}\".format(x) for x in row[results_df.columns[3:]].values])\n",
    "    ret += \" \\\\\\\\\"\n",
    "    return ret"
   ]
  },
  {
   "cell_type": "code",
   "execution_count": null,
   "id": "e9fb304a-4104-41a4-ab4f-d27ef80afc4f",
   "metadata": {},
   "outputs": [],
   "source": [
    "with open(\"table.tex\", 'w', encoding='utf-8') as f:\n",
    "    f.write(latex_header)\n",
    "    for group in range(len(results_df) // 3):\n",
    "        group_start_idx = group * 3\n",
    "        sigma = results_df.iloc[group_start_idx]['sigma']\n",
    "        time_to_maturity = int(results_df.iloc[group_start_idx]['T'] * 12)\n",
    "        for i in range(3):\n",
    "            if i == 0:\n",
    "                group_start_line = f\"\\\\midrule\\n\\\\multirow{{3}}{{*}}{{{sigma}}} & \\\\multirow{{3}}{{*}}{{{time_to_maturity}}}\"\n",
    "            else:\n",
    "                group_start_line = \"&\"\n",
    "            line_to_save = group_start_line + dump_row_values(group_start_idx+i) + \"\\n\"\n",
    "            f.write(line_to_save)\n",
    "    f.write(\"\\\\bottomrule\\n\\\\end{tabular}\")"
   ]
  },
  {
   "cell_type": "code",
   "execution_count": null,
   "id": "f28e4453-91ee-4355-ba92-712bebc079b6",
   "metadata": {},
   "outputs": [],
   "source": []
  },
  {
   "cell_type": "code",
   "execution_count": null,
   "id": "a3f5d6a7-2632-4e88-b24f-7a6361a9004e",
   "metadata": {},
   "outputs": [],
   "source": []
  }
 ],
 "metadata": {
  "kernelspec": {
   "display_name": "Python 3 (ipykernel)",
   "language": "python",
   "name": "python3"
  },
  "language_info": {
   "codemirror_mode": {
    "name": "ipython",
    "version": 3
   },
   "file_extension": ".py",
   "mimetype": "text/x-python",
   "name": "python",
   "nbconvert_exporter": "python",
   "pygments_lexer": "ipython3",
   "version": "3.9.2"
  }
 },
 "nbformat": 4,
 "nbformat_minor": 5
}
