{
 "cells": [
  {
   "cell_type": "markdown",
   "id": "1ca2e1ba-a004-42b4-bbe6-e30808109d30",
   "metadata": {},
   "source": [
    "[![preview notebook](https://img.shields.io/static/v1?label=render%20on&logo=github&color=87ce3e&message=GitHub)](https://github.com/open-atmos/PyMPDATA/blob/main/examples/PyMPDATA_examples/Magnuszewski_et_al_2025/table_1.ipynb)\n",
    "[![launch on mybinder.org](https://mybinder.org/badge_logo.svg)](https://mybinder.org/v2/gh/open-atmos/PyMPDATA.git/main?urlpath=lab/tree/examples/PyMPDATA_examples/Magnuszewski_et_al_2025/table_1.ipynb)\n",
    "[![launch on Colab](https://colab.research.google.com/assets/colab-badge.svg)](https://colab.research.google.com/github/open-atmos/PyMPDATA/blob/main/examples/PyMPDATA_examples/Magnuszewski_et_al_2025/table_1.ipynb)"
   ]
  },
  {
   "cell_type": "markdown",
   "id": "b8325a51-c6f7-4015-be80-d1fe1b26c6ad",
   "metadata": {},
   "source": [
    "## Paweł Magnuszewski MSc project\n",
    "\n",
    "Tamble comparing herein computed UPWIND, MPDATA and Monte-Carlo solutions with data from literature"
   ]
  },
  {
   "cell_type": "code",
   "execution_count": 14,
   "id": "initial_id",
   "metadata": {},
   "outputs": [],
   "source": [
    "import sys\n",
    "if 'google.colab' in sys.modules:\n",
    "    !pip --quiet install open-atmos-jupyter-utils\n",
    "    from open_atmos_jupyter_utils import pip_install_on_colab\n",
    "    pip_install_on_colab('PyMPDATA-examples')"
   ]
  },
  {
   "cell_type": "code",
   "execution_count": 15,
   "id": "bd8f8eaef8662792",
   "metadata": {
    "ExecuteTime": {
     "end_time": "2025-05-14T12:34:51.015292Z",
     "start_time": "2025-05-14T12:34:44.533229Z"
    }
   },
   "outputs": [],
   "source": [
    "import os\n",
    "\n",
    "import numpy as np\n",
    "import pandas as pd\n",
    "from ipywidgets import IntProgress\n",
    "from IPython.display import display\n",
    "\n",
    "from PyMPDATA_examples.Magnuszewski_et_al_2025.asian_option import AsianArithmetic, Settings\n",
    "from PyMPDATA_examples.Magnuszewski_et_al_2025.common import OPTIONS\n",
    "from PyMPDATA_examples.Magnuszewski_et_al_2025.monte_carlo import BSModel, FixedStrikeArithmeticAsianOption\n",
    "from PyMPDATA_examples.Magnuszewski_et_al_2025 import barraquand_data\n",
    "\n",
    "pd.options.display.float_format = '{:,.3f}'.format"
   ]
  },
  {
   "cell_type": "code",
   "execution_count": 16,
   "id": "a3343de8c7b970db",
   "metadata": {
    "ExecuteTime": {
     "end_time": "2025-05-14T12:34:54.476783Z",
     "start_time": "2025-05-14T12:34:54.466786Z"
    }
   },
   "outputs": [],
   "source": [
    "CI = 'CI' in os.environ\n",
    "\n",
    "s_min = 50\n",
    "s_max = 200\n",
    "\n",
    "mc_n_paths = [10000, 100000] if not CI else [10, 100]\n",
    "mc_seed = 42\n",
    "mc_path_points = 1000 if not CI else 10\n",
    "\n",
    "fd_nx = 101\n",
    "fd_ny = 120\n",
    "fd_nt_of_T = {1.: 1760, .5: .5*1760}\n",
    "fd_eps = 1e-5\n",
    "\n",
    "spot = 100\n",
    "risk_free_rate = 0.1"
   ]
  },
  {
   "cell_type": "code",
   "execution_count": 17,
   "id": "546e4f22be847ea4",
   "metadata": {
    "ExecuteTime": {
     "end_time": "2025-05-14T12:34:55.308586Z",
     "start_time": "2025-05-14T12:34:55.299594Z"
    }
   },
   "outputs": [],
   "source": [
    "def run_numeric_and_mc(params, variant):\n",
    "    settings = Settings(**params, r=risk_free_rate, S_max=s_max, S_min=s_min)\n",
    "    mc_model = BSModel(\n",
    "        T=params['T'],\n",
    "        sigma=params['sgma'],\n",
    "        r=risk_free_rate,\n",
    "        M=mc_path_points,\n",
    "        S0=spot,\n",
    "        seed=mc_seed\n",
    "    )\n",
    "    simulations = {\n",
    "        k: AsianArithmetic(settings, variant=variant, options=opt, nx=fd_nx, ny=fd_ny, nt=fd_nt_of_T[params['T']]) \n",
    "        for k, opt in dict(list(OPTIONS.items())[:2]).items()\n",
    "    }\n",
    "    results = {}\n",
    "    \n",
    "    for k, simulation in simulations.items():\n",
    "        simulation.step(simulation.nt)\n",
    "        simulation_price = simulation.solver.advectee.get()[:, 0]\n",
    "        results[k] = np.interp(spot, simulation.S, simulation_price)\n",
    "\n",
    "        # just a sanity check also catching NaNs\n",
    "        assert results[k] < 100\n",
    "    for mc_n_path in mc_n_paths:\n",
    "        arithmetic_option = FixedStrikeArithmeticAsianOption(params['T'], params['K'], variant, mc_model, mc_n_path)\n",
    "        results[f\"MC_{mc_n_path}_{variant}\"] = arithmetic_option.price_by_mc()\n",
    "    return results"
   ]
  },
  {
   "cell_type": "code",
   "execution_count": 18,
   "id": "f637d8792f021807",
   "metadata": {
    "ExecuteTime": {
     "end_time": "2025-05-14T12:35:37.149616Z",
     "start_time": "2025-05-14T12:35:37.101636Z"
    }
   },
   "outputs": [],
   "source": [
    "barraquand_df = pd.DataFrame(columns=barraquand_data.headers)\n",
    "for line in barraquand_data.table.strip('\\n').split('\\n'):\n",
    "    data_row = line.split(',')\n",
    "    if len(data_row) > 0:\n",
    "        barraquand_df.loc[len(barraquand_df)] = data_row\n",
    "barraquand_df['call_price'] = barraquand_df['call_price'].astype(float)\n",
    "barraquand_df['put_price'] = barraquand_df['put_price'].astype(float)"
   ]
  },
  {
   "cell_type": "code",
   "execution_count": 19,
   "id": "631de666facd4b8b",
   "metadata": {
    "ExecuteTime": {
     "end_time": "2025-05-14T12:35:37.539650Z",
     "start_time": "2025-05-14T12:35:37.522660Z"
    }
   },
   "outputs": [],
   "source": [
    "def calculate_row(row_idx):\n",
    "    row_data = barraquand_df.iloc[row_idx].astype(float)\n",
    "    simulation_params = {\n",
    "        'sgma':row_data['sigma'],\n",
    "        'T':row_data['T'],\n",
    "        'K':row_data['K']\n",
    "    }\n",
    "    return (\n",
    "        {k: round(v,3) for k, v in run_numeric_and_mc(simulation_params, variant='call').items()},\n",
    "        {k: round(v,3) for k, v in run_numeric_and_mc(simulation_params, variant='put').items()}, \n",
    "        simulation_params, \n",
    "        row_data['call_price'],\n",
    "        row_data['put_price']\n",
    "    )"
   ]
  },
  {
   "cell_type": "code",
   "execution_count": 20,
   "id": "d06572e595454125",
   "metadata": {
    "ExecuteTime": {
     "end_time": "2025-05-14T12:49:15.192937Z",
     "start_time": "2025-05-14T12:45:55.901556Z"
    }
   },
   "outputs": [
    {
     "data": {
      "application/vnd.jupyter.widget-view+json": {
       "model_id": "5ba37774c7594277b18e0bbd7f168d42",
       "version_major": 2,
       "version_minor": 0
      },
      "text/plain": [
       "IntProgress(value=0, max=8)"
      ]
     },
     "metadata": {},
     "output_type": "display_data"
    },
    {
     "data": {
      "text/html": [
       "<div>\n",
       "<style scoped>\n",
       "    .dataframe tbody tr th:only-of-type {\n",
       "        vertical-align: middle;\n",
       "    }\n",
       "\n",
       "    .dataframe tbody tr th {\n",
       "        vertical-align: top;\n",
       "    }\n",
       "\n",
       "    .dataframe thead th {\n",
       "        text-align: right;\n",
       "    }\n",
       "</style>\n",
       "<table border=\"1\" class=\"dataframe\">\n",
       "  <thead>\n",
       "    <tr style=\"text-align: right;\">\n",
       "      <th></th>\n",
       "      <th>sigma</th>\n",
       "      <th>T</th>\n",
       "      <th>K</th>\n",
       "      <th>BP_call</th>\n",
       "      <th>UPWIND_call</th>\n",
       "      <th>MPDATA_call</th>\n",
       "      <th>MC_10000_call</th>\n",
       "      <th>MC_100000_call</th>\n",
       "      <th>BP_put</th>\n",
       "      <th>UPWIND_put</th>\n",
       "      <th>MPDATA_put</th>\n",
       "      <th>MC_10000_put</th>\n",
       "      <th>MC_100000_put</th>\n",
       "    </tr>\n",
       "  </thead>\n",
       "  <tbody>\n",
       "    <tr>\n",
       "      <th>0</th>\n",
       "      <td>0.200</td>\n",
       "      <td>0.500</td>\n",
       "      <td>100</td>\n",
       "      <td>4.548</td>\n",
       "      <td>7.118</td>\n",
       "      <td>4.772</td>\n",
       "      <td>4.505</td>\n",
       "      <td>4.473</td>\n",
       "      <td>2.102</td>\n",
       "      <td>4.607</td>\n",
       "      <td>2.390</td>\n",
       "      <td>2.093</td>\n",
       "      <td>2.088</td>\n",
       "    </tr>\n",
       "    <tr>\n",
       "      <th>1</th>\n",
       "      <td>0.200</td>\n",
       "      <td>0.500</td>\n",
       "      <td>105</td>\n",
       "      <td>2.241</td>\n",
       "      <td>4.802</td>\n",
       "      <td>2.645</td>\n",
       "      <td>2.211</td>\n",
       "      <td>2.184</td>\n",
       "      <td>4.552</td>\n",
       "      <td>7.032</td>\n",
       "      <td>4.725</td>\n",
       "      <td>4.555</td>\n",
       "      <td>4.554</td>\n",
       "    </tr>\n",
       "    <tr>\n",
       "      <th>2</th>\n",
       "      <td>0.200</td>\n",
       "      <td>1.000</td>\n",
       "      <td>100</td>\n",
       "      <td>7.079</td>\n",
       "      <td>9.143</td>\n",
       "      <td>7.189</td>\n",
       "      <td>7.043</td>\n",
       "      <td>6.997</td>\n",
       "      <td>2.369</td>\n",
       "      <td>4.309</td>\n",
       "      <td>2.549</td>\n",
       "      <td>2.375</td>\n",
       "      <td>2.364</td>\n",
       "    </tr>\n",
       "    <tr>\n",
       "      <th>3</th>\n",
       "      <td>0.200</td>\n",
       "      <td>1.000</td>\n",
       "      <td>105</td>\n",
       "      <td>4.539</td>\n",
       "      <td>6.711</td>\n",
       "      <td>4.764</td>\n",
       "      <td>4.507</td>\n",
       "      <td>4.471</td>\n",
       "      <td>4.356</td>\n",
       "      <td>6.379</td>\n",
       "      <td>4.494</td>\n",
       "      <td>4.362</td>\n",
       "      <td>4.362</td>\n",
       "    </tr>\n",
       "    <tr>\n",
       "      <th>4</th>\n",
       "      <td>0.400</td>\n",
       "      <td>0.500</td>\n",
       "      <td>100</td>\n",
       "      <td>7.650</td>\n",
       "      <td>9.336</td>\n",
       "      <td>7.758</td>\n",
       "      <td>7.564</td>\n",
       "      <td>7.511</td>\n",
       "      <td>5.197</td>\n",
       "      <td>6.803</td>\n",
       "      <td>5.266</td>\n",
       "      <td>5.165</td>\n",
       "      <td>5.160</td>\n",
       "    </tr>\n",
       "    <tr>\n",
       "      <th>5</th>\n",
       "      <td>0.400</td>\n",
       "      <td>0.500</td>\n",
       "      <td>105</td>\n",
       "      <td>5.444</td>\n",
       "      <td>7.107</td>\n",
       "      <td>5.592</td>\n",
       "      <td>5.377</td>\n",
       "      <td>5.321</td>\n",
       "      <td>7.748</td>\n",
       "      <td>9.300</td>\n",
       "      <td>7.787</td>\n",
       "      <td>7.734</td>\n",
       "      <td>7.727</td>\n",
       "    </tr>\n",
       "    <tr>\n",
       "      <th>6</th>\n",
       "      <td>0.400</td>\n",
       "      <td>1.000</td>\n",
       "      <td>100</td>\n",
       "      <td>11.213</td>\n",
       "      <td>12.549</td>\n",
       "      <td>11.311</td>\n",
       "      <td>11.109</td>\n",
       "      <td>11.039</td>\n",
       "      <td>6.465</td>\n",
       "      <td>7.679</td>\n",
       "      <td>6.533</td>\n",
       "      <td>6.464</td>\n",
       "      <td>6.455</td>\n",
       "    </tr>\n",
       "    <tr>\n",
       "      <th>7</th>\n",
       "      <td>0.400</td>\n",
       "      <td>1.000</td>\n",
       "      <td>105</td>\n",
       "      <td>8.989</td>\n",
       "      <td>10.338</td>\n",
       "      <td>9.114</td>\n",
       "      <td>8.906</td>\n",
       "      <td>8.837</td>\n",
       "      <td>8.767</td>\n",
       "      <td>9.963</td>\n",
       "      <td>8.829</td>\n",
       "      <td>8.786</td>\n",
       "      <td>8.777</td>\n",
       "    </tr>\n",
       "  </tbody>\n",
       "</table>\n",
       "</div>"
      ],
      "text/plain": [
       "   sigma     T    K  BP_call  UPWIND_call  MPDATA_call  MC_10000_call   \n",
       "0  0.200 0.500  100    4.548        7.118        4.772          4.505  \\\n",
       "1  0.200 0.500  105    2.241        4.802        2.645          2.211   \n",
       "2  0.200 1.000  100    7.079        9.143        7.189          7.043   \n",
       "3  0.200 1.000  105    4.539        6.711        4.764          4.507   \n",
       "4  0.400 0.500  100    7.650        9.336        7.758          7.564   \n",
       "5  0.400 0.500  105    5.444        7.107        5.592          5.377   \n",
       "6  0.400 1.000  100   11.213       12.549       11.311         11.109   \n",
       "7  0.400 1.000  105    8.989       10.338        9.114          8.906   \n",
       "\n",
       "   MC_100000_call  BP_put  UPWIND_put  MPDATA_put  MC_10000_put  MC_100000_put  \n",
       "0           4.473   2.102       4.607       2.390         2.093          2.088  \n",
       "1           2.184   4.552       7.032       4.725         4.555          4.554  \n",
       "2           6.997   2.369       4.309       2.549         2.375          2.364  \n",
       "3           4.471   4.356       6.379       4.494         4.362          4.362  \n",
       "4           7.511   5.197       6.803       5.266         5.165          5.160  \n",
       "5           5.321   7.748       9.300       7.787         7.734          7.727  \n",
       "6          11.039   6.465       7.679       6.533         6.464          6.455  \n",
       "7           8.837   8.767       9.963       8.829         8.786          8.777  "
      ]
     },
     "metadata": {},
     "output_type": "display_data"
    }
   ],
   "source": [
    "results_df = pd.DataFrame(columns=[\n",
    "    'sigma', 'T', 'K',\n",
    "    'BP_call',\n",
    "    'UPWIND_call', 'MPDATA_call',\n",
    "    f'MC_{mc_n_paths[0]}_call', f'MC_{mc_n_paths[1]}_call',\n",
    "    'BP_put', 'UPWIND_put',\n",
    "    'MPDATA_put',\n",
    "    f'MC_{mc_n_paths[0]}_put', f'MC_{mc_n_paths[1]}_put'\n",
    "])\n",
    "\n",
    "progbar = IntProgress(max=len(barraquand_df))\n",
    "display(progbar)\n",
    "for i in range(len(barraquand_df)):\n",
    "    call, put, params, call_bp, put_bp = calculate_row(i)\n",
    "\n",
    "    # absolute and relative error assertions wrt B&P\n",
    "    rtol_max = .2\n",
    "    atol_max = .75\n",
    "    assert abs(call['MPDATA (2 it.)'] - call_bp) < atol_max\n",
    "    assert abs(put['MPDATA (2 it.)'] - put_bp) < atol_max\n",
    "    assert abs(call['MPDATA (2 it.)'] - call_bp) / call_bp < rtol_max\n",
    "    assert abs(put['MPDATA (2 it.)'] - put_bp) / put_bp < rtol_max\n",
    "    \n",
    "    new_row = [*params.values(), call_bp, *call.values(), put_bp, *put.values()]\n",
    "    results_df.loc[len(results_df)] = new_row\n",
    "    progbar.value += 1\n",
    "results_df['K'] = results_df['K'].astype(int)\n",
    "display(results_df)"
   ]
  },
  {
   "cell_type": "code",
   "execution_count": 21,
   "id": "33074197-51ea-4b72-9482-5260db819252",
   "metadata": {},
   "outputs": [],
   "source": [
    "latex_header = \"\"\"\n",
    "\\\\begin{tabular}{ccr|d{2.3}d{2.3}d{2.3}d{2.3}d{2.3}|d{2.3}d{2.3}d{2.3}d{2.3}d{2.3}}\n",
    "& & & \\\\multicolumn{5}{l|}{\\\\textbf{Call Option}} & \\\\multicolumn{5}{l}{\\\\textbf{Put Option}} \\\\\\\\\n",
    "$\\\\sigma$ & $T$ & $K$ & \n",
    " \\\\multicolumn{1}{c}{\\\\rotatebox[origin=l]{90}{\\\\cite{Barraquand_1996}}} &\n",
    " \\\\multicolumn{1}{c}{\\\\rotatebox[origin=l]{90}{UPWIND}} & \n",
    " \\\\multicolumn{1}{c}{\\\\rotatebox[origin=l]{90}{\\\\bf MPDATA (2 it.)}} & \n",
    " \\\\multicolumn{1}{c}{\\\\rotatebox[origin=l]{90}{MC $N=\"\"\" + str(mc_n_paths[0]) + \"\"\"$}} &\n",
    " \\\\multicolumn{1}{c|}{\\\\rotatebox[origin=l]{90}{MC $N=\"\"\" + str(mc_n_paths[1]) + \"\"\"$}} &\n",
    " \\\\multicolumn{1}{c}{\\\\rotatebox[origin=l]{90}{\\\\cite{Barraquand_1996}}} &\n",
    " \\\\multicolumn{1}{c}{\\\\rotatebox[origin=l]{90}{UPWIND}} & \n",
    " \\\\multicolumn{1}{c}{\\\\rotatebox[origin=l]{90}{\\\\bf MPDATA (2 it.)}} &\n",
    " \\\\multicolumn{1}{c}{\\\\rotatebox[origin=l]{90}{MC $N=\"\"\" + str(mc_n_paths[0]) + \"\"\"$}} &\n",
    " \\\\multicolumn{1}{c}{\\\\rotatebox[origin=l]{90}{MC $N=\"\"\" + str(mc_n_paths[1]) + \"\"\"$}} \\\\\\\\\n",
    "\"\"\""
   ]
  },
  {
   "cell_type": "code",
   "execution_count": 22,
   "id": "b22bc662-fb70-482f-bd3c-a029f0c013f4",
   "metadata": {},
   "outputs": [],
   "source": [
    "def dump_row_values(row_idx):\n",
    "    row = results_df.iloc[row_idx]\n",
    "    ret = f\" & {int(row['K'])} & \"\n",
    "    ret += \" & \".join([f\"{x:#.3g}\" for x in row[results_df.columns[3:]].values])\n",
    "    ret += \" \\\\\\\\\"\n",
    "    return ret"
   ]
  },
  {
   "cell_type": "code",
   "execution_count": 23,
   "id": "e9fb304a-4104-41a4-ab4f-d27ef80afc4f",
   "metadata": {},
   "outputs": [],
   "source": [
    "with open(\"table.tex\", 'w', encoding='utf-8') as f:\n",
    "    f.write(latex_header)\n",
    "    for group in range(len(results_df) // 2):\n",
    "        group_start_idx = group * 2\n",
    "        sigma = results_df.iloc[group_start_idx]['sigma']\n",
    "        time_to_maturity = int(results_df.iloc[group_start_idx]['T'] * 12)\n",
    "        for i in range(2):\n",
    "            if i == 0:\n",
    "                group_start_line = f\"\\\\midrule\\n\\\\multirow{{3}}{{*}}{{{sigma}}} & \\\\multirow{{3}}{{*}}{{{time_to_maturity}}}\"\n",
    "            else:\n",
    "                group_start_line = \"&\"\n",
    "            line_to_save = group_start_line + dump_row_values(group_start_idx+i) + \"\\n\"\n",
    "            f.write(line_to_save)\n",
    "    f.write(\"\\n\\\\end{tabular}\")"
   ]
  },
  {
   "cell_type": "code",
   "execution_count": null,
   "id": "05260262-4097-411a-ad3c-0434976809e1",
   "metadata": {},
   "outputs": [],
   "source": []
  }
 ],
 "metadata": {
  "kernelspec": {
   "display_name": "Python 3 (ipykernel)",
   "language": "python",
   "name": "python3"
  },
  "language_info": {
   "codemirror_mode": {
    "name": "ipython",
    "version": 3
   },
   "file_extension": ".py",
   "mimetype": "text/x-python",
   "name": "python",
   "nbconvert_exporter": "python",
   "pygments_lexer": "ipython3",
   "version": "3.9.2"
  }
 },
 "nbformat": 4,
 "nbformat_minor": 5
}
