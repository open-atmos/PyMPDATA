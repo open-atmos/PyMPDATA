{
 "cells": [
  {
   "cell_type": "code",
   "id": "initial_id",
   "metadata": {
    "collapsed": true
   },
   "source": [
    "import sys\n",
    "\n",
    "from tests.smoke_tests.olesik_et_al_2022.test_simulation import settings\n",
    "\n",
    "if 'google.colab' in sys.modules:\n",
    "    !pip --quiet install open-atmos-jupyter-utils\n",
    "    from open_atmos_jupyter_utils import pip_install_on_colab\n",
    "    pip_install_on_colab('PyMPDATA-examples')"
   ],
   "outputs": [],
   "execution_count": null
  },
  {
   "metadata": {
    "ExecuteTime": {
     "end_time": "2025-03-19T21:39:38.472019Z",
     "start_time": "2025-03-19T21:39:37.939182Z"
    }
   },
   "cell_type": "code",
   "source": [
    "import os\n",
    "os.environ[\"NUMBA_DISABLE_JIT\"] = \"1\"\n",
    "\n",
    "from asian_option import AsianArithmetic, Settings, plot_solution, plot_difference_arithmetic\n",
    "\n",
    "import numpy as np\n",
    "from matplotlib import pyplot\n",
    "from ipywidgets import IntProgress\n",
    "from tqdm import tqdm\n",
    "\n",
    "from open_atmos_jupyter_utils import show_plot, show_anim\n",
    "from monte_carlo import BSModel, FixedStrikeGeometricAsianOption, FixedStrikeArithmeticAsianOption"
   ],
   "id": "bd8f8eaef8662792",
   "outputs": [],
   "execution_count": 1
  },
  {
   "metadata": {
    "ExecuteTime": {
     "end_time": "2025-03-19T21:40:08.615506Z",
     "start_time": "2025-03-19T21:40:08.613598Z"
    }
   },
   "cell_type": "code",
   "source": [
    "params_list=[\n",
    "    {\n",
    "        'T': 1,\n",
    "        'K': 100,\n",
    "        'r': 0.1,\n",
    "        'sgma': 0.1,\n",
    "        'spot': 100,\n",
    "        'true_price': 5.279,\n",
    "    },\n",
    "    {\n",
    "        'T': 1,\n",
    "        'K': 100,\n",
    "        'r': 0.2,\n",
    "        'sgma': 0.1,\n",
    "        'spot': 100,\n",
    "        'true_price': 1.869,\n",
    "    },\n",
    "    {\n",
    "        'T': 1,\n",
    "        'K': 100,\n",
    "        'r': 0.3,\n",
    "        'sgma': 0.1,\n",
    "        'spot': 100,\n",
    "        'true_price': 0.151,\n",
    "    },\n",
    "]"
   ],
   "id": "616992ebee4ce8a",
   "outputs": [],
   "execution_count": 5
  },
  {
   "metadata": {
    "ExecuteTime": {
     "end_time": "2025-03-19T21:48:24.079232Z",
     "start_time": "2025-03-19T21:48:24.074061Z"
    }
   },
   "cell_type": "code",
   "source": [
    "def run_numeric_and_mc(params, nx=31, ny=41, nt=300):\n",
    "    settings = Settings(T=params['T'], K=params['K'], r=params['r'], sgma=params['sgma'], S_max=params['spot']*2, S_min=params['spot']/2)\n",
    "    simulation = AsianArithmetic(settings, nx=nx, ny=ny, nt=nt)\n",
    "    arithmetic_by_mc = np.zeros_like(simulation.S)\n",
    "    arithmetic_option = FixedStrikeArithmeticAsianOption(settings.params.T, settings.params.K, 'call')\n",
    "    for idx, spot in tqdm(enumerate(simulation.S)):\n",
    "        model = BSModel(spot, settings.params.r, settings.params.sgma, settings.params.T, 1000)\n",
    "        arithmetic_by_mc[idx] = arithmetic_option.price_by_mc(model, 100000)\n",
    "    \n",
    "    history = []\n",
    "    progbar = IntProgress(max = simulation.nt)\n",
    "    display(progbar)\n",
    "    for progbar.value in range(simulation.nt + 1):\n",
    "        if progbar.value != 0:\n",
    "            res = simulation.step()\n",
    "        history.append(simulation.solver.advectee.get().copy())\n",
    "        \n",
    "    _, ax = pyplot.subplots(1, 1, figsize=(10, 5))\n",
    "    plot_solution(settings=settings,\n",
    "                  frame_index=-1,\n",
    "                  ax=ax,\n",
    "                  history=history,\n",
    "                  arithmetic_by_mc=arithmetic_by_mc,\n",
    "                  S_linspace=simulation.S,\n",
    "                  option_type='arithmetic call')\n",
    "    show_plot('numeric_vs_analytic.pdf')\n",
    "    _, ax = pyplot.subplots(1, 1, figsize=(10, 5))\n",
    "    plot_difference_arithmetic(settings=settings,\n",
    "                  frame_index=-1,\n",
    "                  ax=ax,\n",
    "                  history=history,\n",
    "                  arithmetic_by_mc=arithmetic_by_mc,\n",
    "                  S_linspace=simulation.S,\n",
    "                  option_type='arithmetic call')\n",
    "    show_plot('numeric_vs_analytic_error.pdf')\n",
    "    \n",
    "    print(f\"True price: {params['true_price']}\")\n",
    "    print(f\"Numeric price: {np.interp(params['spot'], simulation.S, history[-1][:,0])}\")\n",
    "    print(f\"MC price: {np.interp(params['spot'], simulation.S, arithmetic_by_mc)}\")"
   ],
   "id": "546e4f22be847ea4",
   "outputs": [],
   "execution_count": 9
  },
  {
   "metadata": {
    "ExecuteTime": {
     "end_time": "2025-03-19T21:49:31.177638Z",
     "start_time": "2025-03-19T21:49:27.959619Z"
    }
   },
   "cell_type": "code",
   "source": [
    "params = {\n",
    "        'T': 1,\n",
    "        'K': 100,\n",
    "        'r': 0.1,\n",
    "        'sgma': 0.1,\n",
    "        'spot': 100,\n",
    "        'true_price': 5.279,\n",
    "    }\n",
    "run_numeric_and_mc(params, nx=61, ny=130, nt=300)"
   ],
   "id": "b50d733dbb6218d1",
   "outputs": [
    {
     "name": "stdout",
     "output_type": "stream",
     "text": [
      "self.l2=np.float64(15.494319180377357)\n",
      "dx: 0.022726137067539186, dy: 1.550387596899225, dt: 0.0033333333333333335, l2: 15.494319180377357\n",
      "CFL 0.4439340296032524\n",
      "courant_x=np.float64(0.013934029603252575), courant_y=np.float64(0.4299999999999998)\n",
      "x_dim_advector.shape=(62, 130), self.a_dim_advector.shape=(61, 131)\n"
     ]
    },
    {
     "name": "stderr",
     "output_type": "stream",
     "text": [
      "1it [00:03,  3.15s/it]\n"
     ]
    },
    {
     "ename": "KeyboardInterrupt",
     "evalue": "",
     "output_type": "error",
     "traceback": [
      "\u001B[31m---------------------------------------------------------------------------\u001B[39m",
      "\u001B[31mKeyboardInterrupt\u001B[39m                         Traceback (most recent call last)",
      "\u001B[36mCell\u001B[39m\u001B[36m \u001B[39m\u001B[32mIn[11]\u001B[39m\u001B[32m, line 9\u001B[39m\n\u001B[32m      1\u001B[39m params = {\n\u001B[32m      2\u001B[39m         \u001B[33m'\u001B[39m\u001B[33mT\u001B[39m\u001B[33m'\u001B[39m: \u001B[32m1\u001B[39m,\n\u001B[32m      3\u001B[39m         \u001B[33m'\u001B[39m\u001B[33mK\u001B[39m\u001B[33m'\u001B[39m: \u001B[32m100\u001B[39m,\n\u001B[32m   (...)\u001B[39m\u001B[32m      7\u001B[39m         \u001B[33m'\u001B[39m\u001B[33mtrue_price\u001B[39m\u001B[33m'\u001B[39m: \u001B[32m5.279\u001B[39m,\n\u001B[32m      8\u001B[39m     }\n\u001B[32m----> \u001B[39m\u001B[32m9\u001B[39m \u001B[43mrun_numeric_and_mc\u001B[49m\u001B[43m(\u001B[49m\u001B[43mparams\u001B[49m\u001B[43m,\u001B[49m\u001B[43m \u001B[49m\u001B[43mnx\u001B[49m\u001B[43m=\u001B[49m\u001B[32;43m61\u001B[39;49m\u001B[43m,\u001B[49m\u001B[43m \u001B[49m\u001B[43mny\u001B[49m\u001B[43m=\u001B[49m\u001B[32;43m130\u001B[39;49m\u001B[43m,\u001B[49m\u001B[43m \u001B[49m\u001B[43mnt\u001B[49m\u001B[43m=\u001B[49m\u001B[32;43m300\u001B[39;49m\u001B[43m)\u001B[49m\n",
      "\u001B[36mCell\u001B[39m\u001B[36m \u001B[39m\u001B[32mIn[9]\u001B[39m\u001B[32m, line 8\u001B[39m, in \u001B[36mrun_numeric_and_mc\u001B[39m\u001B[34m(params, nx, ny, nt)\u001B[39m\n\u001B[32m      6\u001B[39m \u001B[38;5;28;01mfor\u001B[39;00m idx, spot \u001B[38;5;129;01min\u001B[39;00m tqdm(\u001B[38;5;28menumerate\u001B[39m(simulation.S)):\n\u001B[32m      7\u001B[39m     model = BSModel(spot, settings.params.r, settings.params.sgma, settings.params.T, \u001B[32m1000\u001B[39m)\n\u001B[32m----> \u001B[39m\u001B[32m8\u001B[39m     arithmetic_by_mc[idx] = \u001B[43marithmetic_option\u001B[49m\u001B[43m.\u001B[49m\u001B[43mprice_by_mc\u001B[49m\u001B[43m(\u001B[49m\u001B[43mmodel\u001B[49m\u001B[43m,\u001B[49m\u001B[43m \u001B[49m\u001B[32;43m100000\u001B[39;49m\u001B[43m)\u001B[49m\n\u001B[32m     10\u001B[39m history = []\n\u001B[32m     11\u001B[39m progbar = IntProgress(\u001B[38;5;28mmax\u001B[39m = simulation.nt)\n",
      "\u001B[36mFile \u001B[39m\u001B[32m~/PycharmProjects/PyMPDATA/examples/PyMPDATA_examples/Magnuszewski_et_al_2025/monte_carlo.py:36\u001B[39m, in \u001B[36mPathDependentOption.price_by_mc\u001B[39m\u001B[34m(self, model, N)\u001B[39m\n\u001B[32m     34\u001B[39m sum_ct = \u001B[32m0.0\u001B[39m\n\u001B[32m     35\u001B[39m \u001B[38;5;28;01mfor\u001B[39;00m _ \u001B[38;5;129;01min\u001B[39;00m \u001B[38;5;28mrange\u001B[39m(N):\n\u001B[32m---> \u001B[39m\u001B[32m36\u001B[39m     path = \u001B[43mmodel\u001B[49m\u001B[43m.\u001B[49m\u001B[43mgenerate_path\u001B[49m\u001B[43m(\u001B[49m\u001B[43m)\u001B[49m\n\u001B[32m     37\u001B[39m     sum_ct += \u001B[38;5;28mself\u001B[39m.payoff(path)\n\u001B[32m     38\u001B[39m \u001B[38;5;28;01mreturn\u001B[39;00m np.exp(-model.r * \u001B[38;5;28mself\u001B[39m.T) * (sum_ct / N)\n",
      "\u001B[36mFile \u001B[39m\u001B[32m~/PycharmProjects/PyMPDATA/examples/PyMPDATA_examples/Magnuszewski_et_al_2025/monte_carlo.py:23\u001B[39m, in \u001B[36mBSModel.generate_path\u001B[39m\u001B[34m(self)\u001B[39m\n\u001B[32m     21\u001B[39m \u001B[38;5;28;01mdef\u001B[39;00m\u001B[38;5;250m \u001B[39m\u001B[34mgenerate_path\u001B[39m(\u001B[38;5;28mself\u001B[39m):\n\u001B[32m     22\u001B[39m     W = np.random.standard_normal(\u001B[38;5;28mself\u001B[39m.M)\n\u001B[32m---> \u001B[39m\u001B[32m23\u001B[39m     W = \u001B[43mnp\u001B[49m\u001B[43m.\u001B[49m\u001B[43mcumsum\u001B[49m\u001B[43m(\u001B[49m\u001B[43mW\u001B[49m\u001B[43m)\u001B[49m * \u001B[38;5;28mself\u001B[39m.sqrt_tm\n\u001B[32m     24\u001B[39m     S = \u001B[38;5;28mself\u001B[39m.S0 * np.exp(\u001B[38;5;28mself\u001B[39m.bt + \u001B[38;5;28mself\u001B[39m.sigma * W)\n\u001B[32m     25\u001B[39m     \u001B[38;5;28;01mreturn\u001B[39;00m S\n",
      "\u001B[36mFile \u001B[39m\u001B[32m~/PycharmProjects/PyMPDATA/venv/lib/python3.12/site-packages/numpy/_core/fromnumeric.py:2900\u001B[39m, in \u001B[36m_cumsum_dispatcher\u001B[39m\u001B[34m(a, axis, dtype, out)\u001B[39m\n\u001B[32m   2818\u001B[39m \u001B[38;5;250m    \u001B[39m\u001B[33;03m\"\"\"\u001B[39;00m\n\u001B[32m   2819\u001B[39m \u001B[33;03m    Return the cumulative sum of the elements along a given axis.\u001B[39;00m\n\u001B[32m   2820\u001B[39m \n\u001B[32m   (...)\u001B[39m\u001B[32m   2895\u001B[39m \n\u001B[32m   2896\u001B[39m \u001B[33;03m    \"\"\"\u001B[39;00m\n\u001B[32m   2897\u001B[39m     \u001B[38;5;28;01mreturn\u001B[39;00m _cumulative_func(x, um.add, axis, dtype, out, include_initial)\n\u001B[32m-> \u001B[39m\u001B[32m2900\u001B[39m \u001B[38;5;28;01mdef\u001B[39;00m\u001B[38;5;250m \u001B[39m\u001B[34m_cumsum_dispatcher\u001B[39m(a, axis=\u001B[38;5;28;01mNone\u001B[39;00m, dtype=\u001B[38;5;28;01mNone\u001B[39;00m, out=\u001B[38;5;28;01mNone\u001B[39;00m):\n\u001B[32m   2901\u001B[39m     \u001B[38;5;28;01mreturn\u001B[39;00m (a, out)\n\u001B[32m   2904\u001B[39m \u001B[38;5;129m@array_function_dispatch\u001B[39m(_cumsum_dispatcher)\n\u001B[32m   2905\u001B[39m \u001B[38;5;28;01mdef\u001B[39;00m\u001B[38;5;250m \u001B[39m\u001B[34mcumsum\u001B[39m(a, axis=\u001B[38;5;28;01mNone\u001B[39;00m, dtype=\u001B[38;5;28;01mNone\u001B[39;00m, out=\u001B[38;5;28;01mNone\u001B[39;00m):\n",
      "\u001B[31mKeyboardInterrupt\u001B[39m: "
     ]
    }
   ],
   "execution_count": 11
  },
  {
   "metadata": {
    "ExecuteTime": {
     "end_time": "2025-03-19T22:11:56.073254655Z",
     "start_time": "2025-03-19T21:50:14.213139Z"
    }
   },
   "cell_type": "code",
   "source": [
    "params = {\n",
    "        'T': 1,\n",
    "        'K': 100,\n",
    "        'r': 0.1,\n",
    "        'sgma': 0.2,\n",
    "        'spot': 100,\n",
    "        'true_price': 7.079,\n",
    "    }\n",
    "run_numeric_and_mc(params, nx=61, ny=130, nt=300)"
   ],
   "id": "c6bbee17c503c283",
   "outputs": [
    {
     "name": "stdout",
     "output_type": "stream",
     "text": [
      "self.l2=np.float64(3.873579795094339)\n",
      "dx: 0.022726137067539186, dy: 1.550387596899225, dt: 0.0033333333333333335, l2: 3.873579795094339\n",
      "CFL 0.44173391966589676\n",
      "courant_x=np.float64(0.011733919665896904), courant_y=np.float64(0.4299999999999998)\n",
      "x_dim_advector.shape=(62, 130), self.a_dim_advector.shape=(61, 131)\n"
     ]
    },
    {
     "name": "stderr",
     "output_type": "stream",
     "text": [
      "1it [00:02,  2.26s/it]\n"
     ]
    },
    {
     "ename": "KeyboardInterrupt",
     "evalue": "",
     "output_type": "error",
     "traceback": [
      "\u001B[31m---------------------------------------------------------------------------\u001B[39m",
      "\u001B[31mKeyboardInterrupt\u001B[39m                         Traceback (most recent call last)",
      "\u001B[36mCell\u001B[39m\u001B[36m \u001B[39m\u001B[32mIn[12]\u001B[39m\u001B[32m, line 9\u001B[39m\n\u001B[32m      1\u001B[39m params = {\n\u001B[32m      2\u001B[39m         \u001B[33m'\u001B[39m\u001B[33mT\u001B[39m\u001B[33m'\u001B[39m: \u001B[32m1\u001B[39m,\n\u001B[32m      3\u001B[39m         \u001B[33m'\u001B[39m\u001B[33mK\u001B[39m\u001B[33m'\u001B[39m: \u001B[32m100\u001B[39m,\n\u001B[32m   (...)\u001B[39m\u001B[32m      7\u001B[39m         \u001B[33m'\u001B[39m\u001B[33mtrue_price\u001B[39m\u001B[33m'\u001B[39m: \u001B[32m7.079\u001B[39m,\n\u001B[32m      8\u001B[39m     }\n\u001B[32m----> \u001B[39m\u001B[32m9\u001B[39m \u001B[43mrun_numeric_and_mc\u001B[49m\u001B[43m(\u001B[49m\u001B[43mparams\u001B[49m\u001B[43m,\u001B[49m\u001B[43m \u001B[49m\u001B[43mnx\u001B[49m\u001B[43m=\u001B[49m\u001B[32;43m61\u001B[39;49m\u001B[43m,\u001B[49m\u001B[43m \u001B[49m\u001B[43mny\u001B[49m\u001B[43m=\u001B[49m\u001B[32;43m130\u001B[39;49m\u001B[43m,\u001B[49m\u001B[43m \u001B[49m\u001B[43mnt\u001B[49m\u001B[43m=\u001B[49m\u001B[32;43m300\u001B[39;49m\u001B[43m)\u001B[49m\n",
      "\u001B[36mCell\u001B[39m\u001B[36m \u001B[39m\u001B[32mIn[9]\u001B[39m\u001B[32m, line 8\u001B[39m, in \u001B[36mrun_numeric_and_mc\u001B[39m\u001B[34m(params, nx, ny, nt)\u001B[39m\n\u001B[32m      6\u001B[39m \u001B[38;5;28;01mfor\u001B[39;00m idx, spot \u001B[38;5;129;01min\u001B[39;00m tqdm(\u001B[38;5;28menumerate\u001B[39m(simulation.S)):\n\u001B[32m      7\u001B[39m     model = BSModel(spot, settings.params.r, settings.params.sgma, settings.params.T, \u001B[32m1000\u001B[39m)\n\u001B[32m----> \u001B[39m\u001B[32m8\u001B[39m     arithmetic_by_mc[idx] = \u001B[43marithmetic_option\u001B[49m\u001B[43m.\u001B[49m\u001B[43mprice_by_mc\u001B[49m\u001B[43m(\u001B[49m\u001B[43mmodel\u001B[49m\u001B[43m,\u001B[49m\u001B[43m \u001B[49m\u001B[32;43m100000\u001B[39;49m\u001B[43m)\u001B[49m\n\u001B[32m     10\u001B[39m history = []\n\u001B[32m     11\u001B[39m progbar = IntProgress(\u001B[38;5;28mmax\u001B[39m = simulation.nt)\n",
      "\u001B[36mFile \u001B[39m\u001B[32m~/PycharmProjects/PyMPDATA/examples/PyMPDATA_examples/Magnuszewski_et_al_2025/monte_carlo.py:36\u001B[39m, in \u001B[36mPathDependentOption.price_by_mc\u001B[39m\u001B[34m(self, model, N)\u001B[39m\n\u001B[32m     34\u001B[39m sum_ct = \u001B[32m0.0\u001B[39m\n\u001B[32m     35\u001B[39m \u001B[38;5;28;01mfor\u001B[39;00m _ \u001B[38;5;129;01min\u001B[39;00m \u001B[38;5;28mrange\u001B[39m(N):\n\u001B[32m---> \u001B[39m\u001B[32m36\u001B[39m     path = \u001B[43mmodel\u001B[49m\u001B[43m.\u001B[49m\u001B[43mgenerate_path\u001B[49m\u001B[43m(\u001B[49m\u001B[43m)\u001B[49m\n\u001B[32m     37\u001B[39m     sum_ct += \u001B[38;5;28mself\u001B[39m.payoff(path)\n\u001B[32m     38\u001B[39m \u001B[38;5;28;01mreturn\u001B[39;00m np.exp(-model.r * \u001B[38;5;28mself\u001B[39m.T) * (sum_ct / N)\n",
      "\u001B[36mFile \u001B[39m\u001B[32m~/PycharmProjects/PyMPDATA/examples/PyMPDATA_examples/Magnuszewski_et_al_2025/monte_carlo.py:22\u001B[39m, in \u001B[36mBSModel.generate_path\u001B[39m\u001B[34m(self)\u001B[39m\n\u001B[32m     21\u001B[39m \u001B[38;5;28;01mdef\u001B[39;00m\u001B[38;5;250m \u001B[39m\u001B[34mgenerate_path\u001B[39m(\u001B[38;5;28mself\u001B[39m):\n\u001B[32m---> \u001B[39m\u001B[32m22\u001B[39m     W = \u001B[43mnp\u001B[49m\u001B[43m.\u001B[49m\u001B[43mrandom\u001B[49m\u001B[43m.\u001B[49m\u001B[43mstandard_normal\u001B[49m\u001B[43m(\u001B[49m\u001B[38;5;28;43mself\u001B[39;49m\u001B[43m.\u001B[49m\u001B[43mM\u001B[49m\u001B[43m)\u001B[49m\n\u001B[32m     23\u001B[39m     W = np.cumsum(W) * \u001B[38;5;28mself\u001B[39m.sqrt_tm\n\u001B[32m     24\u001B[39m     S = \u001B[38;5;28mself\u001B[39m.S0 * np.exp(\u001B[38;5;28mself\u001B[39m.bt + \u001B[38;5;28mself\u001B[39m.sigma * W)\n",
      "\u001B[31mKeyboardInterrupt\u001B[39m: "
     ]
    }
   ],
   "execution_count": 12
  },
  {
   "metadata": {
    "ExecuteTime": {
     "end_time": "2025-03-19T22:11:56.065592Z",
     "start_time": "2025-03-19T21:52:40.677448Z"
    }
   },
   "cell_type": "code",
   "source": [
    "params = {\n",
    "        'T': 1,\n",
    "        'K': 100,\n",
    "        'r': 0.1,\n",
    "        'sgma': 0.4,\n",
    "        'spot': 100,\n",
    "        'true_price': 11.213,\n",
    "    }\n",
    "run_numeric_and_mc(params, nx=61, ny=450, nt=1000)"
   ],
   "id": "78c78c7d547b1eac",
   "outputs": [
    {
     "name": "stdout",
     "output_type": "stream",
     "text": [
      "self.l2=np.float64(3.227983162578616)\n",
      "dx: 0.022726137067539186, dy: 0.44543429844098, dt: 0.001, l2: 3.227983162578616\n",
      "CFL 0.4498800439749421\n",
      "courant_x=np.float64(0.0008800439749422675), courant_y=np.float64(0.4489999999999998)\n",
      "x_dim_advector.shape=(62, 450), self.a_dim_advector.shape=(61, 451)\n"
     ]
    },
    {
     "name": "stderr",
     "output_type": "stream",
     "text": [
      "61it [01:57,  1.92s/it]\n"
     ]
    },
    {
     "data": {
      "text/plain": [
       "IntProgress(value=0, max=1000)"
      ],
      "application/vnd.jupyter.widget-view+json": {
       "version_major": 2,
       "version_minor": 0,
       "model_id": "5c84301b57ad41c38380579301cf601d"
      }
     },
     "metadata": {},
     "output_type": "display_data"
    },
    {
     "name": "stderr",
     "output_type": "stream",
     "text": [
      "/home/pawel/PycharmProjects/PyMPDATA/examples/PyMPDATA_examples/Magnuszewski_et_al_2025/asian_option.py:79: RuntimeWarning: overflow encountered in scalar multiply\n",
      "  ats(*focus_psi, -1) + (ats(*focus_psi, -1) - ats(*focus_psi, -2)) * cnst, 0\n",
      "/home/pawel/PycharmProjects/PyMPDATA/examples/PyMPDATA_examples/Magnuszewski_et_al_2025/asian_option.py:79: RuntimeWarning: overflow encountered in scalar multiply\n",
      "  ats(*focus_psi, -1) + (ats(*focus_psi, -1) - ats(*focus_psi, -2)) * cnst, 0\n",
      "/home/pawel/PycharmProjects/PyMPDATA/examples/PyMPDATA_examples/Magnuszewski_et_al_2025/asian_option.py:79: RuntimeWarning: overflow encountered in scalar multiply\n",
      "  ats(*focus_psi, -1) + (ats(*focus_psi, -1) - ats(*focus_psi, -2)) * cnst, 0\n",
      "/home/pawel/PycharmProjects/PyMPDATA/examples/PyMPDATA_examples/Magnuszewski_et_al_2025/asian_option.py:79: RuntimeWarning: overflow encountered in scalar multiply\n",
      "  ats(*focus_psi, -1) + (ats(*focus_psi, -1) - ats(*focus_psi, -2)) * cnst, 0\n",
      "/home/pawel/PycharmProjects/PyMPDATA/examples/PyMPDATA_examples/Magnuszewski_et_al_2025/asian_option.py:79: RuntimeWarning: overflow encountered in scalar multiply\n",
      "  ats(*focus_psi, -1) + (ats(*focus_psi, -1) - ats(*focus_psi, -2)) * cnst, 0\n",
      "/home/pawel/PycharmProjects/PyMPDATA/PyMPDATA/impl/formulae_antidiff.py:72: RuntimeWarning: invalid value encountered in scalar divide\n",
      "  return result / (\n",
      "/home/pawel/PycharmProjects/PyMPDATA/PyMPDATA/impl/formulae_antidiff.py:63: RuntimeWarning: invalid value encountered in scalar divide\n",
      "  return result / (ats(*psi, 1) + ats(*psi, 0) + epsilon)\n",
      "/home/pawel/PycharmProjects/PyMPDATA/examples/PyMPDATA_examples/Magnuszewski_et_al_2025/asian_option.py:79: RuntimeWarning: overflow encountered in scalar multiply\n",
      "  ats(*focus_psi, -1) + (ats(*focus_psi, -1) - ats(*focus_psi, -2)) * cnst, 0\n"
     ]
    },
    {
     "ename": "KeyboardInterrupt",
     "evalue": "",
     "output_type": "error",
     "traceback": [
      "\u001B[31m---------------------------------------------------------------------------\u001B[39m",
      "\u001B[31mKeyboardInterrupt\u001B[39m                         Traceback (most recent call last)",
      "\u001B[36mCell\u001B[39m\u001B[36m \u001B[39m\u001B[32mIn[23]\u001B[39m\u001B[32m, line 9\u001B[39m\n\u001B[32m      1\u001B[39m params = {\n\u001B[32m      2\u001B[39m         \u001B[33m'\u001B[39m\u001B[33mT\u001B[39m\u001B[33m'\u001B[39m: \u001B[32m1\u001B[39m,\n\u001B[32m      3\u001B[39m         \u001B[33m'\u001B[39m\u001B[33mK\u001B[39m\u001B[33m'\u001B[39m: \u001B[32m100\u001B[39m,\n\u001B[32m   (...)\u001B[39m\u001B[32m      7\u001B[39m         \u001B[33m'\u001B[39m\u001B[33mtrue_price\u001B[39m\u001B[33m'\u001B[39m: \u001B[32m11.213\u001B[39m,\n\u001B[32m      8\u001B[39m     }\n\u001B[32m----> \u001B[39m\u001B[32m9\u001B[39m \u001B[43mrun_numeric_and_mc\u001B[49m\u001B[43m(\u001B[49m\u001B[43mparams\u001B[49m\u001B[43m,\u001B[49m\u001B[43m \u001B[49m\u001B[43mnx\u001B[49m\u001B[43m=\u001B[49m\u001B[32;43m61\u001B[39;49m\u001B[43m,\u001B[49m\u001B[43m \u001B[49m\u001B[43mny\u001B[49m\u001B[43m=\u001B[49m\u001B[32;43m450\u001B[39;49m\u001B[43m,\u001B[49m\u001B[43m \u001B[49m\u001B[43mnt\u001B[49m\u001B[43m=\u001B[49m\u001B[32;43m1000\u001B[39;49m\u001B[43m)\u001B[49m\n",
      "\u001B[36mCell\u001B[39m\u001B[36m \u001B[39m\u001B[32mIn[9]\u001B[39m\u001B[32m, line 15\u001B[39m, in \u001B[36mrun_numeric_and_mc\u001B[39m\u001B[34m(params, nx, ny, nt)\u001B[39m\n\u001B[32m     13\u001B[39m \u001B[38;5;28;01mfor\u001B[39;00m progbar.value \u001B[38;5;129;01min\u001B[39;00m \u001B[38;5;28mrange\u001B[39m(simulation.nt + \u001B[32m1\u001B[39m):\n\u001B[32m     14\u001B[39m     \u001B[38;5;28;01mif\u001B[39;00m progbar.value != \u001B[32m0\u001B[39m:\n\u001B[32m---> \u001B[39m\u001B[32m15\u001B[39m         res = \u001B[43msimulation\u001B[49m\u001B[43m.\u001B[49m\u001B[43mstep\u001B[49m\u001B[43m(\u001B[49m\u001B[43m)\u001B[49m\n\u001B[32m     16\u001B[39m     history.append(simulation.solver.advectee.get().copy())\n\u001B[32m     18\u001B[39m _, ax = pyplot.subplots(\u001B[32m1\u001B[39m, \u001B[32m1\u001B[39m, figsize=(\u001B[32m10\u001B[39m, \u001B[32m5\u001B[39m))\n",
      "\u001B[36mFile \u001B[39m\u001B[32m~/PycharmProjects/PyMPDATA/examples/PyMPDATA_examples/Magnuszewski_et_al_2025/asian_option.py:211\u001B[39m, in \u001B[36mSimulation.step\u001B[39m\u001B[34m(self)\u001B[39m\n\u001B[32m    208\u001B[39m \u001B[38;5;28mself\u001B[39m.add_half_rhs()\n\u001B[32m    209\u001B[39m \u001B[38;5;28mself\u001B[39m.free_boundary(t=_t)\n\u001B[32m--> \u001B[39m\u001B[32m211\u001B[39m \u001B[38;5;28;43mself\u001B[39;49m\u001B[43m.\u001B[49m\u001B[43msolver\u001B[49m\u001B[43m.\u001B[49m\u001B[43madvance\u001B[49m\u001B[43m(\u001B[49m\u001B[32;43m1\u001B[39;49m\u001B[43m,\u001B[49m\u001B[43m \u001B[49m\u001B[38;5;28;43mself\u001B[39;49m\u001B[43m.\u001B[49m\u001B[43mmu_coeff\u001B[49m\u001B[43m)\u001B[49m\n\u001B[32m    213\u001B[39m \u001B[38;5;28mself\u001B[39m.add_half_rhs()\n\u001B[32m    214\u001B[39m \u001B[38;5;28mself\u001B[39m.free_boundary(t=_t)\n",
      "\u001B[36mFile \u001B[39m\u001B[32m~/PycharmProjects/PyMPDATA/PyMPDATA/solver.py:150\u001B[39m, in \u001B[36mSolver.advance\u001B[39m\u001B[34m(self, n_steps, mu_coeff, post_step, post_iter)\u001B[39m\n\u001B[32m    147\u001B[39m post_step = post_step \u001B[38;5;129;01mor\u001B[39;00m PostStepNull()\n\u001B[32m    148\u001B[39m post_iter = post_iter \u001B[38;5;129;01mor\u001B[39;00m PostIterNull()\n\u001B[32m--> \u001B[39m\u001B[32m150\u001B[39m \u001B[38;5;28;01mreturn\u001B[39;00m \u001B[38;5;28;43mself\u001B[39;49m\u001B[43m.\u001B[49m\u001B[43m__stepper\u001B[49m\u001B[43m(\u001B[49m\n\u001B[32m    151\u001B[39m \u001B[43m    \u001B[49m\u001B[43mn_steps\u001B[49m\u001B[43m=\u001B[49m\u001B[43mn_steps\u001B[49m\u001B[43m,\u001B[49m\n\u001B[32m    152\u001B[39m \u001B[43m    \u001B[49m\u001B[43mmu_coeff\u001B[49m\u001B[43m=\u001B[49m\u001B[43mmu_coeff\u001B[49m\u001B[43m,\u001B[49m\n\u001B[32m    153\u001B[39m \u001B[43m    \u001B[49m\u001B[43mpost_step\u001B[49m\u001B[43m=\u001B[49m\u001B[43mpost_step\u001B[49m\u001B[43m,\u001B[49m\n\u001B[32m    154\u001B[39m \u001B[43m    \u001B[49m\u001B[43mpost_iter\u001B[49m\u001B[43m=\u001B[49m\u001B[43mpost_iter\u001B[49m\u001B[43m,\u001B[49m\n\u001B[32m    155\u001B[39m \u001B[43m    \u001B[49m\u001B[43mfields\u001B[49m\u001B[43m=\u001B[49m\u001B[38;5;28;43mself\u001B[39;49m\u001B[43m.\u001B[49m\u001B[43m__fields\u001B[49m\u001B[43m,\u001B[49m\n\u001B[32m    156\u001B[39m \u001B[43m\u001B[49m\u001B[43m)\u001B[49m\n",
      "\u001B[36mFile \u001B[39m\u001B[32m~/PycharmProjects/PyMPDATA/PyMPDATA/stepper.py:97\u001B[39m, in \u001B[36mStepper.__call__\u001B[39m\u001B[34m(self, n_steps, mu_coeff, post_step, post_iter, fields)\u001B[39m\n\u001B[32m     95\u001B[39m \u001B[38;5;28;01mwith\u001B[39;00m warnings.catch_warnings():\n\u001B[32m     96\u001B[39m     warnings.simplefilter(\u001B[33m\"\u001B[39m\u001B[33mignore\u001B[39m\u001B[33m\"\u001B[39m, category=NumbaExperimentalFeatureWarning)\n\u001B[32m---> \u001B[39m\u001B[32m97\u001B[39m     wall_time_per_timestep = \u001B[38;5;28;43mself\u001B[39;49m\u001B[43m.\u001B[49m\u001B[43m__call\u001B[49m\u001B[43m(\u001B[49m\n\u001B[32m     98\u001B[39m \u001B[43m        \u001B[49m\u001B[43mn_steps\u001B[49m\u001B[43m,\u001B[49m\n\u001B[32m     99\u001B[39m \u001B[43m        \u001B[49m\u001B[43mmu_coeff\u001B[49m\u001B[43m,\u001B[49m\n\u001B[32m    100\u001B[39m \u001B[43m        \u001B[49m\u001B[43mpost_step\u001B[49m\u001B[43m,\u001B[49m\n\u001B[32m    101\u001B[39m \u001B[43m        \u001B[49m\u001B[43mpost_iter\u001B[49m\u001B[43m,\u001B[49m\n\u001B[32m    102\u001B[39m \u001B[43m        \u001B[49m\u001B[43m*\u001B[49m\u001B[43m(\u001B[49m\n\u001B[32m    103\u001B[39m \u001B[43m            \u001B[49m\u001B[43m_Impl\u001B[49m\u001B[43m(\u001B[49m\u001B[43mfield\u001B[49m\u001B[43m=\u001B[49m\u001B[43mv\u001B[49m\u001B[43m.\u001B[49m\u001B[43mimpl\u001B[49m\u001B[43m[\u001B[49m\u001B[43mIMPL_META_AND_DATA\u001B[49m\u001B[43m]\u001B[49m\u001B[43m,\u001B[49m\u001B[43m \u001B[49m\u001B[43mbc\u001B[49m\u001B[43m=\u001B[49m\u001B[43mv\u001B[49m\u001B[43m.\u001B[49m\u001B[43mimpl\u001B[49m\u001B[43m[\u001B[49m\u001B[43mIMPL_BC\u001B[49m\u001B[43m]\u001B[49m\u001B[43m)\u001B[49m\n\u001B[32m    104\u001B[39m \u001B[43m            \u001B[49m\u001B[38;5;28;43;01mfor\u001B[39;49;00m\u001B[43m \u001B[49m\u001B[43mv\u001B[49m\u001B[43m \u001B[49m\u001B[38;5;129;43;01min\u001B[39;49;00m\u001B[43m \u001B[49m\u001B[43mfields\u001B[49m\u001B[43m.\u001B[49m\u001B[43mvalues\u001B[49m\u001B[43m(\u001B[49m\u001B[43m)\u001B[49m\n\u001B[32m    105\u001B[39m \u001B[43m        \u001B[49m\u001B[43m)\u001B[49m\u001B[43m,\u001B[49m\n\u001B[32m    106\u001B[39m \u001B[43m        \u001B[49m\u001B[38;5;28;43mself\u001B[39;49m\u001B[43m.\u001B[49m\u001B[43mtraversals\u001B[49m\u001B[43m.\u001B[49m\u001B[43mdata\u001B[49m\u001B[43m,\u001B[49m\n\u001B[32m    107\u001B[39m \u001B[43m    \u001B[49m\u001B[43m)\u001B[49m\n\u001B[32m    108\u001B[39m \u001B[38;5;28;01mreturn\u001B[39;00m wall_time_per_timestep\n",
      "\u001B[36mFile \u001B[39m\u001B[32m~/PycharmProjects/PyMPDATA/PyMPDATA/stepper.py:215\u001B[39m, in \u001B[36mmake_step_impl.<locals>.step\u001B[39m\u001B[34m(n_steps, mu_coeff, post_step, post_iter, advectee, advector, g_factor, vectmp_a, vectmp_b, vectmp_c, psi_extrema, beta, null_impl)\u001B[39m\n\u001B[32m    213\u001B[39m         \u001B[38;5;66;03m# note: in libmpdata++, the oscillatory advector from prev iter is used\u001B[39;00m\n\u001B[32m    214\u001B[39m         nonoscillatory_correction(null_impl, advector_nonos, beta)\n\u001B[32m--> \u001B[39m\u001B[32m215\u001B[39m         \u001B[43mflux_subsequent\u001B[49m\u001B[43m(\u001B[49m\u001B[43mnull_impl\u001B[49m\u001B[43m,\u001B[49m\u001B[43m \u001B[49m\u001B[43mflux\u001B[49m\u001B[43m,\u001B[49m\u001B[43m \u001B[49m\u001B[43madvectee\u001B[49m\u001B[43m,\u001B[49m\u001B[43m \u001B[49m\u001B[43madvector_nonos\u001B[49m\u001B[43m)\u001B[49m\n\u001B[32m    216\u001B[39m upwind(null_impl, advectee, flux, g_factor)\n\u001B[32m    217\u001B[39m post_iter.call(flux.field, g_factor.field, step, iteration)\n",
      "\u001B[36mFile \u001B[39m\u001B[32m~/PycharmProjects/PyMPDATA/PyMPDATA/impl/formulae_flux.py:70\u001B[39m, in \u001B[36mmake_flux_subsequent.<locals>.apply\u001B[39m\u001B[34m(traversals_data, flux, psi, g_c_corr)\u001B[39m\n\u001B[32m     67\u001B[39m \u001B[38;5;129m@numba\u001B[39m.njit(**options.jit_flags)\n\u001B[32m     68\u001B[39m \u001B[38;5;28;01mdef\u001B[39;00m\u001B[38;5;250m \u001B[39m\u001B[34mapply\u001B[39m(traversals_data, flux, psi, g_c_corr):\n\u001B[32m     69\u001B[39m     null_scalarfield, null_bc = traversals_data.null_scalar_field\n\u001B[32m---> \u001B[39m\u001B[32m70\u001B[39m     \u001B[38;5;28;01mreturn\u001B[39;00m \u001B[43mapply_vector\u001B[49m\u001B[43m(\u001B[49m\n\u001B[32m     71\u001B[39m \u001B[43m        \u001B[49m\u001B[43m*\u001B[49m\u001B[43mformulae_flux_subsequent\u001B[49m\u001B[43m,\u001B[49m\n\u001B[32m     72\u001B[39m \u001B[43m        \u001B[49m\u001B[43m*\u001B[49m\u001B[43mflux\u001B[49m\u001B[43m.\u001B[49m\u001B[43mfield\u001B[49m\u001B[43m,\u001B[49m\n\u001B[32m     73\u001B[39m \u001B[43m        \u001B[49m\u001B[43m*\u001B[49m\u001B[43mpsi\u001B[49m\u001B[43m.\u001B[49m\u001B[43mfield\u001B[49m\u001B[43m,\u001B[49m\n\u001B[32m     74\u001B[39m \u001B[43m        \u001B[49m\u001B[43mpsi\u001B[49m\u001B[43m.\u001B[49m\u001B[43mbc\u001B[49m\u001B[43m,\u001B[49m\n\u001B[32m     75\u001B[39m \u001B[43m        \u001B[49m\u001B[43m*\u001B[49m\u001B[43mg_c_corr\u001B[49m\u001B[43m.\u001B[49m\u001B[43mfield\u001B[49m\u001B[43m,\u001B[49m\n\u001B[32m     76\u001B[39m \u001B[43m        \u001B[49m\u001B[43mg_c_corr\u001B[49m\u001B[43m.\u001B[49m\u001B[43mbc\u001B[49m\u001B[43m,\u001B[49m\n\u001B[32m     77\u001B[39m \u001B[43m        \u001B[49m\u001B[43m*\u001B[49m\u001B[43mnull_scalarfield\u001B[49m\u001B[43m,\u001B[49m\n\u001B[32m     78\u001B[39m \u001B[43m        \u001B[49m\u001B[43mnull_bc\u001B[49m\u001B[43m,\u001B[49m\n\u001B[32m     79\u001B[39m \u001B[43m        \u001B[49m\u001B[43mtraversals_data\u001B[49m\u001B[43m.\u001B[49m\u001B[43mbuffer\u001B[49m\n\u001B[32m     80\u001B[39m \u001B[43m    \u001B[49m\u001B[43m)\u001B[49m\n",
      "\u001B[36mFile \u001B[39m\u001B[32m~/PycharmProjects/PyMPDATA/PyMPDATA/impl/traversals_vector.py:153\u001B[39m, in \u001B[36m_make_apply_vector.<locals>.apply_vector\u001B[39m\u001B[34m(fun_outer, fun_mid3d, fun_inner, out_meta, out_outer, out_mid3d, out_inner, arg1s_meta, arg1s_data, arg1s_bc, arg2v_meta, arg2v_data_o, arg2v_data_m, arg2v_data_i, arg2v_bc, arg3s_meta, arg3s_data, arg3s_bc, buffer)\u001B[39m\n\u001B[32m    149\u001B[39m     arg3s_meta[META_HALO_VALID] = \u001B[38;5;28;01mTrue\u001B[39;00m\n\u001B[32m    151\u001B[39m \u001B[38;5;28;01mfor\u001B[39;00m thread_id \u001B[38;5;129;01min\u001B[39;00m \u001B[38;5;28mrange\u001B[39m(\u001B[32m1\u001B[39m) \u001B[38;5;28;01mif\u001B[39;00m n_threads == \u001B[32m1\u001B[39m \u001B[38;5;28;01melse\u001B[39;00m numba.prange(n_threads):\n\u001B[32m    152\u001B[39m     \u001B[38;5;66;03m# pylint: disable=duplicate-code\u001B[39;00m\n\u001B[32m--> \u001B[39m\u001B[32m153\u001B[39m     \u001B[43mapply_vector_impl\u001B[49m\u001B[43m(\u001B[49m\n\u001B[32m    154\u001B[39m \u001B[43m        \u001B[49m\u001B[43mthread_id\u001B[49m\u001B[43m,\u001B[49m\n\u001B[32m    155\u001B[39m \u001B[43m        \u001B[49m\u001B[43mout_meta\u001B[49m\u001B[43m,\u001B[49m\n\u001B[32m    156\u001B[39m \u001B[43m        \u001B[49m\u001B[43mfun_outer\u001B[49m\u001B[43m,\u001B[49m\n\u001B[32m    157\u001B[39m \u001B[43m        \u001B[49m\u001B[43mfun_mid3d\u001B[49m\u001B[43m,\u001B[49m\n\u001B[32m    158\u001B[39m \u001B[43m        \u001B[49m\u001B[43mfun_inner\u001B[49m\u001B[43m,\u001B[49m\n\u001B[32m    159\u001B[39m \u001B[43m        \u001B[49m\u001B[43mout_outer\u001B[49m\u001B[43m,\u001B[49m\n\u001B[32m    160\u001B[39m \u001B[43m        \u001B[49m\u001B[43mout_mid3d\u001B[49m\u001B[43m,\u001B[49m\n\u001B[32m    161\u001B[39m \u001B[43m        \u001B[49m\u001B[43mout_inner\u001B[49m\u001B[43m,\u001B[49m\n\u001B[32m    162\u001B[39m \u001B[43m        \u001B[49m\u001B[43marg1s_data\u001B[49m\u001B[43m,\u001B[49m\n\u001B[32m    163\u001B[39m \u001B[43m        \u001B[49m\u001B[43marg2v_data_o\u001B[49m\u001B[43m,\u001B[49m\n\u001B[32m    164\u001B[39m \u001B[43m        \u001B[49m\u001B[43marg2v_data_m\u001B[49m\u001B[43m,\u001B[49m\n\u001B[32m    165\u001B[39m \u001B[43m        \u001B[49m\u001B[43marg2v_data_i\u001B[49m\u001B[43m,\u001B[49m\n\u001B[32m    166\u001B[39m \u001B[43m        \u001B[49m\u001B[43marg3s_data\u001B[49m\u001B[43m,\u001B[49m\n\u001B[32m    167\u001B[39m \u001B[43m    \u001B[49m\u001B[43m)\u001B[49m\n\u001B[32m    168\u001B[39m out_meta[META_HALO_VALID] = \u001B[38;5;28;01mFalse\u001B[39;00m\n",
      "\u001B[36mFile \u001B[39m\u001B[32m~/PycharmProjects/PyMPDATA/PyMPDATA/impl/traversals_vector.py:85\u001B[39m, in \u001B[36m_make_apply_vector.<locals>.apply_vector_impl\u001B[39m\u001B[34m(thread_id, out_meta, fun_outer, fun_mid3d, fun_inner, out_outer, out_mid3d, out_inner, scal_arg1, vec_arg2_outer, vec_arg2_mid3d, vec_arg2_inner, scal_arg3)\u001B[39m\n\u001B[32m     78\u001B[39m focus = (i, j, k)\n\u001B[32m     79\u001B[39m \u001B[38;5;28;01mif\u001B[39;00m n_dims > \u001B[32m1\u001B[39m:\n\u001B[32m     80\u001B[39m     set_value(\n\u001B[32m     81\u001B[39m         out_outer,\n\u001B[32m     82\u001B[39m         i,\n\u001B[32m     83\u001B[39m         j,\n\u001B[32m     84\u001B[39m         k,\n\u001B[32m---> \u001B[39m\u001B[32m85\u001B[39m         \u001B[43mfun_outer\u001B[49m\u001B[43m(\u001B[49m\n\u001B[32m     86\u001B[39m \u001B[43m            \u001B[49m\u001B[43m(\u001B[49m\u001B[43mfocus\u001B[49m\u001B[43m,\u001B[49m\u001B[43m \u001B[49m\u001B[43mscal_arg1\u001B[49m\u001B[43m)\u001B[49m\u001B[43m,\u001B[49m\u001B[43m \u001B[49m\u001B[43m(\u001B[49m\u001B[43mfocus\u001B[49m\u001B[43m,\u001B[49m\u001B[43m \u001B[49m\u001B[43marg2\u001B[49m\u001B[43m)\u001B[49m\u001B[43m,\u001B[49m\u001B[43m \u001B[49m\u001B[43m(\u001B[49m\u001B[43mfocus\u001B[49m\u001B[43m,\u001B[49m\u001B[43m \u001B[49m\u001B[43mscal_arg3\u001B[49m\u001B[43m)\u001B[49m\n\u001B[32m     87\u001B[39m \u001B[43m        \u001B[49m\u001B[43m)\u001B[49m,\n\u001B[32m     88\u001B[39m     )\n\u001B[32m     89\u001B[39m     \u001B[38;5;28;01mif\u001B[39;00m n_dims > \u001B[32m2\u001B[39m:\n\u001B[32m     90\u001B[39m         set_value(\n\u001B[32m     91\u001B[39m             out_mid3d,\n\u001B[32m     92\u001B[39m             i,\n\u001B[32m   (...)\u001B[39m\u001B[32m     99\u001B[39m             ),\n\u001B[32m    100\u001B[39m         )\n",
      "\u001B[36mFile \u001B[39m\u001B[32m~/PycharmProjects/PyMPDATA/PyMPDATA/impl/formulae_flux.py:105\u001B[39m, in \u001B[36m__make_flux.<locals>.flux\u001B[39m\u001B[34m(advectee, advector, __)\u001B[39m\n\u001B[32m    102\u001B[39m \u001B[38;5;129m@numba\u001B[39m.njit(**jit_flags)\n\u001B[32m    103\u001B[39m \u001B[38;5;28;01mdef\u001B[39;00m\u001B[38;5;250m \u001B[39m\u001B[34mflux\u001B[39m(advectee, advector, __):\n\u001B[32m    104\u001B[39m     \u001B[38;5;28;01mreturn\u001B[39;00m maximum_0(atv(*advector, +\u001B[32m0.5\u001B[39m)) * ats(*advectee, \u001B[32m0\u001B[39m) + minimum_0(\n\u001B[32m--> \u001B[39m\u001B[32m105\u001B[39m         \u001B[43matv\u001B[49m\u001B[43m(\u001B[49m\u001B[43m*\u001B[49m\u001B[43madvector\u001B[49m\u001B[43m,\u001B[49m\u001B[43m \u001B[49m\u001B[43m+\u001B[49m\u001B[32;43m0.5\u001B[39;49m\u001B[43m)\u001B[49m\n\u001B[32m    106\u001B[39m     ) * ats(*advectee, \u001B[32m1\u001B[39m)\n",
      "\u001B[36mFile \u001B[39m\u001B[32m~/PycharmProjects/PyMPDATA/PyMPDATA/impl/indexers.py:55\u001B[39m, in \u001B[36mmake_indexers.<locals>._2D.atv_axis0\u001B[39m\u001B[34m(focus, arrs, i, k, _)\u001B[39m\n\u001B[32m     50\u001B[39m \u001B[38;5;129m@staticmethod\u001B[39m\n\u001B[32m     51\u001B[39m \u001B[38;5;129m@numba\u001B[39m.njit(**jit_flags)\n\u001B[32m     52\u001B[39m \u001B[38;5;28;01mdef\u001B[39;00m\u001B[38;5;250m \u001B[39m\u001B[34mats_axis1\u001B[39m(focus, arr, k, i=\u001B[32m0\u001B[39m, _=INVALID_INDEX):\n\u001B[32m     53\u001B[39m     \u001B[38;5;28;01mreturn\u001B[39;00m arr[focus[OUTER] + i, focus[INNER] + k]\n\u001B[32m---> \u001B[39m\u001B[32m55\u001B[39m \u001B[38;5;129m@staticmethod\u001B[39m\n\u001B[32m     56\u001B[39m \u001B[38;5;129m@numba\u001B[39m.njit(**jit_flags)\n\u001B[32m     57\u001B[39m \u001B[38;5;28;01mdef\u001B[39;00m\u001B[38;5;250m \u001B[39m\u001B[34matv_axis0\u001B[39m(focus, arrs, i, k=\u001B[32m0\u001B[39m, _=INVALID_INDEX):\n\u001B[32m     58\u001B[39m     \u001B[38;5;28;01mif\u001B[39;00m _is_integral(i):\n\u001B[32m     59\u001B[39m         dim, _ii, _kk = INNER, \u001B[38;5;28mint\u001B[39m(i), \u001B[38;5;28mint\u001B[39m(k - \u001B[32m0.5\u001B[39m)\n",
      "\u001B[31mKeyboardInterrupt\u001B[39m: "
     ]
    }
   ],
   "execution_count": 23
  },
  {
   "metadata": {},
   "cell_type": "code",
   "outputs": [],
   "execution_count": null,
   "source": "",
   "id": "55b997b81d97f4f6"
  },
  {
   "metadata": {},
   "cell_type": "code",
   "source": "",
   "id": "575881dc4cd2d6e1",
   "outputs": [],
   "execution_count": null
  },
  {
   "metadata": {},
   "cell_type": "code",
   "source": "",
   "id": "b1ed79f5552414df",
   "outputs": [],
   "execution_count": null
  },
  {
   "metadata": {},
   "cell_type": "code",
   "source": "",
   "id": "52ab1c5adb568508",
   "outputs": [],
   "execution_count": null
  },
  {
   "metadata": {},
   "cell_type": "code",
   "source": "",
   "id": "e5a56cc7ac5597a4",
   "outputs": [],
   "execution_count": null
  },
  {
   "metadata": {},
   "cell_type": "code",
   "source": "",
   "id": "5938ee3678f411f5",
   "outputs": [],
   "execution_count": null
  },
  {
   "metadata": {},
   "cell_type": "code",
   "source": "",
   "id": "e52bb3aa743f783c",
   "outputs": [],
   "execution_count": null
  },
  {
   "metadata": {},
   "cell_type": "code",
   "source": "",
   "id": "ba1e4bbea2fea16",
   "outputs": [],
   "execution_count": null
  },
  {
   "metadata": {},
   "cell_type": "code",
   "source": "",
   "id": "474bd4d2c8e7b65b",
   "outputs": [],
   "execution_count": null
  },
  {
   "metadata": {},
   "cell_type": "code",
   "source": "",
   "id": "75135a4b98ce14d5",
   "outputs": [],
   "execution_count": null
  }
 ],
 "metadata": {
  "kernelspec": {
   "display_name": "Python 3",
   "language": "python",
   "name": "python3"
  },
  "language_info": {
   "codemirror_mode": {
    "name": "ipython",
    "version": 2
   },
   "file_extension": ".py",
   "mimetype": "text/x-python",
   "name": "python",
   "nbconvert_exporter": "python",
   "pygments_lexer": "ipython2",
   "version": "2.7.6"
  }
 },
 "nbformat": 4,
 "nbformat_minor": 5
}
