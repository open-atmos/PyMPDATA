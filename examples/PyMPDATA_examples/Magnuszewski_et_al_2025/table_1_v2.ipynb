{
 "cells": [
  {
   "cell_type": "code",
   "execution_count": null,
   "id": "initial_id",
   "metadata": {
    "collapsed": true
   },
   "outputs": [],
   "source": [
    "# import os\n",
    "# os.environ[\"NUMBA_DISABLE_JIT\"] = \"1\"\n",
    "\n",
    "from asian_option import AsianArithmetic, Settings, plot_solution, plot_difference_arithmetic\n",
    "\n",
    "import numpy as np\n",
    "from matplotlib import pyplot\n",
    "from ipywidgets import IntProgress\n",
    "from tqdm import tqdm\n",
    "\n",
    "from open_atmos_jupyter_utils import show_plot, show_anim\n",
    "from monte_carlo import BSModel, FixedStrikeGeometricAsianOption, FixedStrikeArithmeticAsianOption\n",
    "import time"
   ]
  },
  {
   "metadata": {},
   "cell_type": "code",
   "outputs": [],
   "execution_count": null,
   "source": [
    "def run_numeric_and_mc(params, nx=31, ny=41, nt=300, variant='call'):\n",
    "    s_max = params.get('S_max', params['spot']*2)\n",
    "    s_min = params.get('S_min', params['spot']/2)\n",
    "    settings = Settings(T=params['T'], K=params['K'], r=params['r'], sgma=params['sgma'], S_max=s_max, S_min=s_min)\n",
    "    simulation = AsianArithmetic(settings, nx=nx, ny=ny, nt=nt, variant=variant)\n",
    "    \n",
    "    \n",
    "    history = []\n",
    "    progbar = IntProgress(max = simulation.nt)\n",
    "    display(progbar)\n",
    "    start = time.time()\n",
    "    for progbar.value in range(simulation.nt + 1):\n",
    "        if progbar.value != 0:\n",
    "            res = simulation.step()\n",
    "        history.append(simulation.solver.advectee.get().copy())\n",
    "    end = time.time()\n",
    "    print(f\"MPDATA elapsed time: {end - start}\")\n",
    "    print(f\"Numeric price: {np.interp(params['spot'], simulation.S, history[-1][:,0])}\")\n",
    "    start = time.time()\n",
    "    arithmetic_by_mc = np.zeros_like(simulation.S)\n",
    "    for idx, spot in tqdm(enumerate(simulation.S)):\n",
    "        model = BSModel(spot, settings.params.r, settings.params.sgma, settings.params.T, 1000)\n",
    "        arithmetic_option = FixedStrikeArithmeticAsianOption(settings.params.T, settings.params.K, variant, model,  100000)\n",
    "        arithmetic_by_mc[idx] = arithmetic_option.price_by_mc()\n",
    "    end = time.time()\n",
    "    print(f\"MC elapsed time: {end - start}\")\n",
    "    _, ax = pyplot.subplots(1, 1, figsize=(10, 5))\n",
    "    plot_solution(settings=settings,\n",
    "                  frame_index=-1,\n",
    "                  ax=ax,\n",
    "                  history=history,\n",
    "                  arithmetic_by_mc=arithmetic_by_mc,\n",
    "                  S_linspace=simulation.S,\n",
    "                  option_type='arithmetic call',\n",
    "                  variant=variant)\n",
    "    show_plot('numeric_vs_analytic.pdf')\n",
    "    _, ax = pyplot.subplots(1, 1, figsize=(10, 5))\n",
    "    plot_difference_arithmetic(settings=settings,\n",
    "                  frame_index=-1,\n",
    "                  ax=ax,\n",
    "                  history=history,\n",
    "                  arithmetic_by_mc=arithmetic_by_mc,\n",
    "                  S_linspace=simulation.S,\n",
    "                  option_type=f'arithmetic {variant}')\n",
    "    show_plot('numeric_vs_analytic_error.pdf')\n",
    "    \n",
    "    print(f\"True price: {params['true_price']}\")\n",
    "    print(f\"Numeric price: {np.interp(params['spot'], simulation.S, history[-1][:,0])}\")\n",
    "    print(f\"MC price: {np.interp(params['spot'], simulation.S, arithmetic_by_mc)}\")"
   ],
   "id": "ca9aa67fdd306bf0"
  },
  {
   "metadata": {},
   "cell_type": "code",
   "outputs": [],
   "execution_count": null,
   "source": [
    "params = {\n",
    "        'T': 0.25,\n",
    "        'K': 95,\n",
    "        'r': 0.1,\n",
    "        'sgma': 0.1,\n",
    "        'spot': 100,\n",
    "        'true_price': 6.132,\n",
    "        'S_max': 120,\n",
    "        'S_min': 80\n",
    "    }\n",
    "run_numeric_and_mc(params, nx=121, ny=500, nt=1500)"
   ],
   "id": "5ba7647d2511c71c"
  }
 ],
 "metadata": {
  "kernelspec": {
   "display_name": "Python 3",
   "language": "python",
   "name": "python3"
  },
  "language_info": {
   "codemirror_mode": {
    "name": "ipython",
    "version": 2
   },
   "file_extension": ".py",
   "mimetype": "text/x-python",
   "name": "python",
   "nbconvert_exporter": "python",
   "pygments_lexer": "ipython2",
   "version": "2.7.6"
  }
 },
 "nbformat": 4,
 "nbformat_minor": 5
}
