{
 "cells": [
  {
   "cell_type": "code",
   "id": "initial_id",
   "metadata": {
    "collapsed": true,
    "ExecuteTime": {
     "end_time": "2025-03-26T13:12:05.473882Z",
     "start_time": "2025-03-26T13:12:04.746729Z"
    }
   },
   "source": "from monte_carlo import BSModel, FixedStrikeGeometricAsianOption, FixedStrikeArithmeticAsianOption",
   "outputs": [],
   "execution_count": 1
  },
  {
   "metadata": {
    "ExecuteTime": {
     "end_time": "2025-03-26T13:12:05.514726Z",
     "start_time": "2025-03-26T13:12:05.482165Z"
    }
   },
   "cell_type": "code",
   "source": [
    "s0 = 100\n",
    "r = 0.1\n",
    "sigma = 0.1\n",
    "T = 2\n",
    "K = 100\n",
    "true_price = 3.028\n",
    "arithm_bp = 3.100\n",
    "\n",
    "M = 1000\n",
    "N = 100000\n",
    "model = BSModel(s0, r, sigma, T, M)\n",
    "arithmetic_option = FixedStrikeArithmeticAsianOption(T, K, 'call', model, N)\n",
    "# geometric_option = FixedStrikeGeometricAsianOption(T, K, 'call', model, N)"
   ],
   "id": "1844a74546da6e65",
   "outputs": [],
   "execution_count": 2
  },
  {
   "metadata": {
    "ExecuteTime": {
     "end_time": "2025-03-26T13:12:27.147208Z",
     "start_time": "2025-03-26T13:12:16.886139Z"
    }
   },
   "cell_type": "code",
   "source": [
    "arithm_price = arithmetic_option.price_by_mc()\n",
    "# geo_price = geometric_option.price_by_mc(model, N)"
   ],
   "id": "95d1d5556a41a618",
   "outputs": [],
   "execution_count": 4
  },
  {
   "metadata": {
    "ExecuteTime": {
     "end_time": "2025-03-13T17:26:10.868058Z",
     "start_time": "2025-03-13T17:26:02.004283Z"
    }
   },
   "cell_type": "code",
   "source": [
    "print(arithmetic_option.price_by_mc(model, 1000))\n",
    "print(arithmetic_option.price_by_mc(model, 10000))\n",
    "print(arithmetic_option.price_by_mc(model, 100000))"
   ],
   "id": "86d4256a676cab2f",
   "outputs": [
    {
     "name": "stderr",
     "output_type": "stream",
     "text": [
      "Pricing by MC: 100%|█████████████████████████████████████████| 1000/1000 [00:00<00:00, 11911.30it/s]\n"
     ]
    },
    {
     "name": "stdout",
     "output_type": "stream",
     "text": [
      "8.710956126536196\n"
     ]
    },
    {
     "name": "stderr",
     "output_type": "stream",
     "text": [
      "Pricing by MC: 100%|███████████████████████████████████████| 10000/10000 [00:00<00:00, 11906.89it/s]\n"
     ]
    },
    {
     "name": "stdout",
     "output_type": "stream",
     "text": [
      "9.101791585524897\n"
     ]
    },
    {
     "name": "stderr",
     "output_type": "stream",
     "text": [
      "Pricing by MC: 100%|█████████████████████████████████████| 100000/100000 [00:07<00:00, 12646.48it/s]"
     ]
    },
    {
     "name": "stdout",
     "output_type": "stream",
     "text": [
      "9.140055184423701\n"
     ]
    },
    {
     "name": "stderr",
     "output_type": "stream",
     "text": [
      "\n"
     ]
    }
   ],
   "execution_count": 4
  },
  {
   "metadata": {
    "ExecuteTime": {
     "end_time": "2025-03-13T17:18:26.296216400Z",
     "start_time": "2025-03-13T15:21:26.958391Z"
    }
   },
   "cell_type": "code",
   "source": [
    "geom_error = abs(geo_price - true_price)/true_price\n",
    "arithm_error = abs(arithm_price - arithm_bp)/arithm_bp\n",
    "\n",
    "print(f'Geometric Asian Call Price: {geo_price}')\n",
    "print(f'Geometric Asian Call Error: {geom_error}')\n",
    "print(f'Arithmetic Asian Call Price: {arithm_price}')\n",
    "print(f'Arithmetic Asian Call Error: {arithm_error}')"
   ],
   "id": "eb00ae1e3835d3e4",
   "outputs": [
    {
     "name": "stdout",
     "output_type": "stream",
     "text": [
      "Geometric Asian Call Price: 8.858897106549337\n",
      "Geometric Asian Call Error: 1.9256595464165576\n",
      "Arithmetic Asian Call Price: 9.176177239116097\n",
      "Arithmetic Asian Call Error: 1.9600571739084183\n"
     ]
    }
   ],
   "execution_count": 35
  },
  {
   "metadata": {},
   "cell_type": "code",
   "outputs": [],
   "execution_count": null,
   "source": "",
   "id": "b59f537babe46f99"
  }
 ],
 "metadata": {
  "kernelspec": {
   "display_name": "Python 3",
   "language": "python",
   "name": "python3"
  },
  "language_info": {
   "codemirror_mode": {
    "name": "ipython",
    "version": 2
   },
   "file_extension": ".py",
   "mimetype": "text/x-python",
   "name": "python",
   "nbconvert_exporter": "python",
   "pygments_lexer": "ipython2",
   "version": "2.7.6"
  }
 },
 "nbformat": 4,
 "nbformat_minor": 5
}
