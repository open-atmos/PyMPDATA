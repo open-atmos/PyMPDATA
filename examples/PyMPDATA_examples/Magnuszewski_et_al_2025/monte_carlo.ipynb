{
 "cells": [
  {
   "cell_type": "code",
   "id": "initial_id",
   "metadata": {
    "collapsed": true,
    "ExecuteTime": {
     "end_time": "2025-03-05T20:50:37.019008Z",
     "start_time": "2025-03-05T20:50:36.884240Z"
    }
   },
   "source": "from monte_carlo import BSModel, FixedStrikeGeometricAsianOption, FixedStrikeArithmeticAsianOption",
   "outputs": [],
   "execution_count": 1
  },
  {
   "metadata": {
    "ExecuteTime": {
     "end_time": "2025-03-05T20:50:48.333508Z",
     "start_time": "2025-03-05T20:50:48.317500Z"
    }
   },
   "cell_type": "code",
   "source": [
    "s0 = 100\n",
    "r = 0.1\n",
    "sigma = 0.1\n",
    "T = 0.5\n",
    "K = 100\n",
    "true_price = 3.028\n",
    "arithm_bp = 3.100\n",
    "\n",
    "M = 1000\n",
    "N = 100000\n",
    "model = BSModel(s0, r, sigma, T, M)\n",
    "arithmetic_option = FixedStrikeArithmeticAsianOption(T, M, K, 'call')\n",
    "geometric_option = FixedStrikeGeometricAsianOption(T, M, K, 'call')"
   ],
   "id": "1844a74546da6e65",
   "outputs": [],
   "execution_count": 7
  },
  {
   "metadata": {
    "ExecuteTime": {
     "end_time": "2025-03-05T20:50:58.151666Z",
     "start_time": "2025-03-05T20:50:48.607546Z"
    }
   },
   "cell_type": "code",
   "source": [
    "arithm_price = arithmetic_option.price_by_mc(model, N)\n",
    "geo_price = geometric_option.price_by_mc(model, N)"
   ],
   "id": "95d1d5556a41a618",
   "outputs": [
    {
     "name": "stderr",
     "output_type": "stream",
     "text": [
      "Pricing by MC: 100%|█████████████████████████████████████| 100000/100000 [00:04<00:00, 22536.13it/s]\n",
      "Pricing by MC: 100%|█████████████████████████████████████| 100000/100000 [00:05<00:00, 19625.75it/s]\n"
     ]
    }
   ],
   "execution_count": 8
  },
  {
   "metadata": {
    "ExecuteTime": {
     "end_time": "2025-03-05T20:51:00.302274Z",
     "start_time": "2025-03-05T20:51:00.292273Z"
    }
   },
   "cell_type": "code",
   "source": [
    "geom_error = abs(geo_price - true_price)/true_price\n",
    "arithm_error = abs(arithm_price - arithm_bp)/arithm_bp\n",
    "\n",
    "print(f'Geometric Asian Call Price: {geo_price}')\n",
    "print(f'Geometric Asian Call Error: {geom_error}')\n",
    "print(f'Arithmetic Asian Call Price: {arithm_price}')\n",
    "print(f'Arithmetic Asian Call Error: {arithm_error}')"
   ],
   "id": "eb00ae1e3835d3e4",
   "outputs": [
    {
     "name": "stdout",
     "output_type": "stream",
     "text": [
      "Geometric Asian Call Price: 3.0154180715151844\n",
      "Geometric Asian Call Error: 0.004155194347693412\n",
      "Arithmetic Asian Call Price: 3.0791125654474794\n",
      "Arithmetic Asian Call Error: 0.006737882113716366\n"
     ]
    }
   ],
   "execution_count": 9
  },
  {
   "metadata": {},
   "cell_type": "code",
   "outputs": [],
   "execution_count": null,
   "source": "",
   "id": "b59f537babe46f99"
  }
 ],
 "metadata": {
  "kernelspec": {
   "display_name": "Python 3",
   "language": "python",
   "name": "python3"
  },
  "language_info": {
   "codemirror_mode": {
    "name": "ipython",
    "version": 2
   },
   "file_extension": ".py",
   "mimetype": "text/x-python",
   "name": "python",
   "nbconvert_exporter": "python",
   "pygments_lexer": "ipython2",
   "version": "2.7.6"
  }
 },
 "nbformat": 4,
 "nbformat_minor": 5
}
