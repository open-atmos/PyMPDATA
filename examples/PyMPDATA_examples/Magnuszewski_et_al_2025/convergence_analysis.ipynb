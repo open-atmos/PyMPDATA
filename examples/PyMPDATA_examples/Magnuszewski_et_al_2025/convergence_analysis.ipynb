{
 "cells": [
  {
   "cell_type": "code",
   "id": "initial_id",
   "metadata": {
    "collapsed": true,
    "ExecuteTime": {
     "end_time": "2025-06-05T19:09:22.414762Z",
     "start_time": "2025-06-05T19:09:22.354024Z"
    }
   },
   "source": [
    "import sys\n",
    "\n",
    "from PyMPDATA_examples.Arabas_and_Farhat_2020.options import OPTIONS\n",
    "\n",
    "if 'google.colab' in sys.modules:\n",
    "    !pip --quiet install open-atmos-jupyter-utils\n",
    "    from open_atmos_jupyter_utils import pip_install_on_colab\n",
    "    pip_install_on_colab('PyMPDATA-examples')"
   ],
   "outputs": [],
   "execution_count": 1
  },
  {
   "metadata": {
    "ExecuteTime": {
     "end_time": "2025-06-14T13:10:59.601495Z",
     "start_time": "2025-06-14T13:10:52.107367Z"
    }
   },
   "cell_type": "code",
   "source": [
    "import os\n",
    "import numpy as np\n",
    "from scipy.interpolate import make_interp_spline\n",
    "from matplotlib import pyplot, colors, colormaps, patches\n",
    "from open_atmos_jupyter_utils import show_plot\n",
    "# from PyMPDATA_examples.Magnuszewski_et_al_2025.common import OPTIONS\n",
    "from PyMPDATA import Options\n",
    "\n",
    "from PyMPDATA_examples.Magnuszewski_et_al_2025.asian_option import AsianArithmetic, Settings\n",
    "from PyMPDATA_examples.Magnuszewski_et_al_2025.monte_carlo import BSModel, FixedStrikeArithmeticAsianOption\n",
    "from PyMPDATA_examples.utils.financial_formulae import Black_Scholes_1973\n",
    "import PyMPDATA_examples.utils.financial_formulae.asian_option as asian_analytic\n",
    "from tqdm import tqdm\n",
    "from PyMPDATA_examples.Magnuszewski_et_al_2025.monte_carlo import BSModel, FixedStrikeArithmeticAsianOption"
   ],
   "id": "4b3abd89c25f506a",
   "outputs": [],
   "execution_count": 1
  },
  {
   "metadata": {
    "ExecuteTime": {
     "end_time": "2025-06-14T13:10:59.631758Z",
     "start_time": "2025-06-14T13:10:59.620559Z"
    }
   },
   "cell_type": "code",
   "source": [
    "# base_nx = 21\n",
    "# base_ny = 31\n",
    "\n",
    "mc_n_paths = 1000000\n",
    "mc_seed = 42\n",
    "mc_path_points = 1000\n",
    "\n",
    "spot=100\n",
    "\n",
    "SETTINGS = Settings(\n",
    "    T=1,\n",
    "    K=100,\n",
    "    r=.05,\n",
    "    sgma=.4,\n",
    "    S_max=200,\n",
    "    S_min=50,\n",
    ")\n",
    "variant = \"call\"\n",
    "\n",
    "OPTIONS_mpdata_4 = Options(\n",
    "        n_iters=4,\n",
    "        nonoscillatory=True,\n",
    "        non_zero_mu_coeff=True,\n",
    "    )\n",
    "\n",
    "OPTIONS_mpdata = Options(\n",
    "        n_iters=2,\n",
    "        nonoscillatory=True,\n",
    "        non_zero_mu_coeff=True,\n",
    "    )\n",
    "\n",
    "OPTIONS_upwind = Options(\n",
    "        n_iters=1,\n",
    "        non_zero_mu_coeff=True,\n",
    "    )\n"
   ],
   "id": "571c590f1c556e87",
   "outputs": [],
   "execution_count": 2
  },
  {
   "metadata": {
    "ExecuteTime": {
     "end_time": "2025-06-14T13:10:59.662519Z",
     "start_time": "2025-06-14T13:10:59.654740Z"
    }
   },
   "cell_type": "code",
   "source": "# global_sim_s = {}",
   "id": "b0d9d95468a89537",
   "outputs": [],
   "execution_count": 3
  },
  {
   "metadata": {
    "ExecuteTime": {
     "end_time": "2025-06-14T13:12:32.014607Z",
     "start_time": "2025-06-14T13:12:32.003028Z"
    }
   },
   "cell_type": "code",
   "source": "import time",
   "id": "66849cf25affbad8",
   "outputs": [],
   "execution_count": 4
  },
  {
   "metadata": {
    "ExecuteTime": {
     "end_time": "2025-06-14T13:19:09.214339Z",
     "start_time": "2025-06-14T13:12:56.657870Z"
    }
   },
   "cell_type": "code",
   "source": [
    "mc_model = BSModel(\n",
    "        T=1,\n",
    "        sigma=0.4,\n",
    "        r=0.05,\n",
    "        M=mc_path_points,\n",
    "        S0=spot,\n",
    "        seed=mc_seed\n",
    "    )\n",
    "arithmetic_option = FixedStrikeArithmeticAsianOption(1, spot, variant, mc_model, 1000000)\n",
    "start = time.time()\n",
    "price_by_mc = arithmetic_option.price_by_mc()\n",
    "end = time.time()\n",
    "print(f\"Price by MC: {price_by_mc} N=1000000 {end - start:.2f} seconds\")\n",
    "arithmetic_option = FixedStrikeArithmeticAsianOption(1, spot, variant, mc_model, 10000000)\n",
    "start = time.time()\n",
    "price_by_mc = arithmetic_option.price_by_mc()\n",
    "end = time.time()\n",
    "print(f\"Price by MC: {price_by_mc} N=10000000 {end - start:.2f} seconds\")"
   ],
   "id": "c552371967db957f",
   "outputs": [
    {
     "name": "stdout",
     "output_type": "stream",
     "text": [
      "Price by MC: 10.160773093782307 N=1000000 35.61 seconds\n",
      "Price by MC: 10.14270342017405 N=10000000 336.93 seconds\n"
     ]
    }
   ],
   "execution_count": 5
  },
  {
   "metadata": {
    "ExecuteTime": {
     "end_time": "2025-06-14T13:37:46.481427Z",
     "start_time": "2025-06-14T13:32:41.362893Z"
    }
   },
   "cell_type": "code",
   "source": [
    "mc_model = BSModel(\n",
    "        T=1,\n",
    "        sigma=0.4,\n",
    "        r=0.05,\n",
    "        M=10000,\n",
    "        S0=spot,\n",
    "        seed=mc_seed\n",
    "    )\n",
    "arithmetic_option = FixedStrikeArithmeticAsianOption(1, spot, variant, mc_model, 1000000)\n",
    "\n",
    "start = time.time()\n",
    "price_by_mc = arithmetic_option.price_by_mc()\n",
    "end = time.time()\n",
    "print(f\"Price by MC: {price_by_mc} N=1000000 {end - start:.2f} seconds\")\n",
    "# arithmetic_option = FixedStrikeArithmeticAsianOption(1, spot, variant, mc_model, 10000000)\n",
    "# price_by_mc = arithmetic_option.price_by_mc()\n",
    "# print(f\"Price by MC: {price_by_mc} N=10000000\")"
   ],
   "id": "52f339a10ba94c3",
   "outputs": [
    {
     "name": "stdout",
     "output_type": "stream",
     "text": [
      "Price by MC: 10.12774081992246 N=1000000 305.10 seconds\n"
     ]
    }
   ],
   "execution_count": 6
  },
  {
   "metadata": {
    "ExecuteTime": {
     "end_time": "2025-06-11T08:43:38.479051Z",
     "start_time": "2025-06-11T08:43:38.460733Z"
    }
   },
   "cell_type": "code",
   "source": [
    "def asian_mc_at_spot(spot):\n",
    "    mc_model = BSModel(\n",
    "        T=1,\n",
    "        sigma=0.4,\n",
    "        r=0.05,\n",
    "        M=mc_path_points,\n",
    "        S0=spot,\n",
    "        seed=mc_seed\n",
    "    )\n",
    "    arithmetic_option = FixedStrikeArithmeticAsianOption(1, 100, variant, mc_model, mc_n_paths)\n",
    "    return arithmetic_option.price_by_mc()"
   ],
   "id": "141d71e1f84c0a19",
   "outputs": [],
   "execution_count": 3
  },
  {
   "metadata": {
    "ExecuteTime": {
     "end_time": "2025-06-11T08:43:39.040363Z",
     "start_time": "2025-06-11T08:43:39.021912Z"
    }
   },
   "cell_type": "code",
   "source": [
    "def calculate_l2_norm(array1, array2, ny, nt):\n",
    "    nx = len(array1)\n",
    "    return np.sqrt(np.sum((array1 - array2) ** 2) / (nx * ny * nt))"
   ],
   "id": "4639aba6ce04de41",
   "outputs": [],
   "execution_count": 4
  },
  {
   "metadata": {
    "ExecuteTime": {
     "end_time": "2025-06-11T08:43:40.010671Z",
     "start_time": "2025-06-11T08:43:40.000388Z"
    }
   },
   "cell_type": "code",
   "source": "# price_by_mc",
   "id": "3104ccf04b31ffc9",
   "outputs": [],
   "execution_count": 5
  },
  {
   "metadata": {
    "ExecuteTime": {
     "end_time": "2025-06-11T08:43:40.273964Z",
     "start_time": "2025-06-11T08:43:40.258340Z"
    }
   },
   "cell_type": "code",
   "source": "# price_by_mc=10.73305",
   "id": "daa96bf28b32ed24",
   "outputs": [],
   "execution_count": 6
  },
  {
   "metadata": {
    "ExecuteTime": {
     "end_time": "2025-06-11T09:17:39.485905Z",
     "start_time": "2025-06-11T09:17:39.481903Z"
    }
   },
   "cell_type": "code",
   "source": "scales = [1, 2, 4, 8, 16]",
   "id": "6747213ab9f7f28b",
   "outputs": [],
   "execution_count": 20
  },
  {
   "metadata": {
    "ExecuteTime": {
     "end_time": "2025-06-11T09:17:40.651476Z",
     "start_time": "2025-06-11T09:17:40.643465Z"
    }
   },
   "cell_type": "code",
   "source": [
    "resolution_1 = {\n",
    "    'nt': 100,\n",
    "    'nx': 5,\n",
    "    'ny': 5,\n",
    "}\n",
    "errors_1 = {\"MPDATA\": [],\n",
    "            \"MPDATA_4\": [],\n",
    "             \"UPWIND\": []}"
   ],
   "id": "c1fb1f4f82ff53f7",
   "outputs": [],
   "execution_count": 21
  },
  {
   "metadata": {
    "ExecuteTime": {
     "end_time": "2025-06-11T09:50:10.569935Z",
     "start_time": "2025-06-11T09:17:42.291303Z"
    }
   },
   "cell_type": "code",
   "source": [
    "biggest_scale = max(scales)\n",
    "dummy_resolution = {k: v * biggest_scale + 1 for k, v in resolution_1.items()}\n",
    "dummy_simulation = AsianArithmetic(SETTINGS, **dummy_resolution, options=OPTIONS_mpdata, variant=variant)\n",
    "most_discretized_domain = dummy_simulation.S.copy()\n",
    "\n",
    "max_mc_domain = np.zeros_like(most_discretized_domain)\n",
    "for idx, spot in tqdm(enumerate(most_discretized_domain), total=len(most_discretized_domain), desc=\"Calculating MC prices at discretized domain\"):\n",
    "    max_mc_domain[idx] = asian_mc_at_spot(spot)"
   ],
   "id": "b4d508d8ffe1c16c",
   "outputs": [
    {
     "name": "stdout",
     "output_type": "stream",
     "text": [
      "courant_number_x=0.0010948622577639548\n",
      "courant_y=0.04996876951905057\n",
      "cfl_condition=0.05106363177681453\n"
     ]
    },
    {
     "name": "stderr",
     "output_type": "stream",
     "text": [
      "Calculating MC prices at discretized domain: 100%|██████████| 81/81 [32:28<00:00, 24.05s/it]\n"
     ]
    }
   ],
   "execution_count": 22
  },
  {
   "metadata": {
    "ExecuteTime": {
     "end_time": "2025-06-11T08:44:24.589846Z",
     "start_time": "2025-06-11T08:44:24.530356Z"
    }
   },
   "cell_type": "code",
   "source": [
    "# if os.path.exists('mc_1m_1k.npz'):\n",
    "#     data = np.load('mc_1m_1k.npz')\n",
    "#     most_discretized_domain = data['most_discretized_domain']\n",
    "#     max_mc_domain = data['max_mc_domain']"
   ],
   "id": "a596754242820924",
   "outputs": [],
   "execution_count": 9
  },
  {
   "metadata": {
    "ExecuteTime": {
     "end_time": "2025-06-11T09:50:17.268180Z",
     "start_time": "2025-06-11T09:50:17.260255Z"
    }
   },
   "cell_type": "code",
   "source": "np.savez('mc_1m_1k_scale16.npz', most_discretized_domain=most_discretized_domain, max_mc_domain=max_mc_domain)",
   "id": "c0bea260d4ce20f0",
   "outputs": [],
   "execution_count": 24
  },
  {
   "metadata": {
    "ExecuteTime": {
     "end_time": "2025-06-10T16:01:07.976960Z",
     "start_time": "2025-06-10T16:01:07.967784Z"
    }
   },
   "cell_type": "code",
   "source": "# np.savez('mc_1m_1k.npz', most_discretized_domain=most_discretized_domain, max_mc_domain=max_mc_domain)",
   "id": "386677d3bc9e095f",
   "outputs": [],
   "execution_count": 43
  },
  {
   "metadata": {},
   "cell_type": "code",
   "outputs": [],
   "execution_count": null,
   "source": "# np.savez('mc_10m_1k.npz', most_discretized_domain=most_discretized_domain, max_mc_domain=max_mc_domain)",
   "id": "d721ece37c16f0ef"
  },
  {
   "metadata": {
    "ExecuteTime": {
     "end_time": "2025-06-11T09:50:22.395778Z",
     "start_time": "2025-06-11T09:50:21.297791Z"
    }
   },
   "cell_type": "code",
   "source": [
    "for scale in scales:\n",
    "    resolution_scaled = {k: v * scale + 1 for k, v in resolution_1.items()}\n",
    "    simulation_mpdata = AsianArithmetic(SETTINGS, **resolution_scaled, options=OPTIONS_mpdata, variant=variant)\n",
    "    simulation_mpdata.step(simulation_mpdata.nt)\n",
    "    simulation_price_mpdata = simulation_mpdata.solver.advectee.get()[:, 0]\n",
    "    \n",
    "    simulation_mpdata_4 = AsianArithmetic(SETTINGS, **resolution_scaled, options=OPTIONS_mpdata_4, variant=variant)\n",
    "    simulation_mpdata_4.step(simulation_mpdata_4.nt)\n",
    "    simulation_price_mpdata_4 = simulation_mpdata_4.solver.advectee.get()[:, 0]\n",
    "    \n",
    "    simulation_upwind = AsianArithmetic(SETTINGS, **resolution_scaled, options=OPTIONS_upwind, variant=variant)\n",
    "    simulation_upwind.step(simulation_upwind.nt)\n",
    "    simulation_price_upwind = simulation_upwind.solver.advectee.get()[:, 0]\n",
    "    \n",
    "    arithmetic_by_mc = np.interp(simulation_mpdata.S, most_discretized_domain, max_mc_domain)\n",
    "    errors_1[\"MPDATA\"].append(calculate_l2_norm(simulation_price_mpdata, arithmetic_by_mc, simulation_mpdata.ny, simulation_mpdata.nt))\n",
    "    errors_1[\"MPDATA_4\"].append(calculate_l2_norm(simulation_price_mpdata_4, arithmetic_by_mc, simulation_mpdata_4.ny, simulation_mpdata_4.nt))\n",
    "    errors_1[\"UPWIND\"].append(calculate_l2_norm(simulation_price_upwind, arithmetic_by_mc, simulation_upwind.ny, simulation_upwind.nt))"
   ],
   "id": "9181f3aff9fd0736",
   "outputs": [
    {
     "name": "stdout",
     "output_type": "stream",
     "text": [
      "courant_number_x=0.0012855698384159088\n",
      "courant_y=0.049504950495049486\n",
      "cfl_condition=0.05079052033346539\n",
      "courant_number_x=0.0012855698384159088\n",
      "courant_y=0.049504950495049486\n",
      "cfl_condition=0.05079052033346539\n",
      "courant_number_x=0.0012855698384159088\n",
      "courant_y=0.049504950495049486\n",
      "cfl_condition=0.05079052033346539\n",
      "courant_number_x=0.0011843018992372095\n",
      "courant_y=0.0497512437810945\n",
      "cfl_condition=0.05093554568033171\n",
      "courant_number_x=0.0011843018992372095\n",
      "courant_y=0.0497512437810945\n",
      "cfl_condition=0.05093554568033171\n",
      "courant_number_x=0.0011843018992372095\n",
      "courant_y=0.0497512437810945\n",
      "cfl_condition=0.05093554568033171\n",
      "courant_number_x=0.001133289121895321\n",
      "courant_y=0.04987531172069823\n",
      "cfl_condition=0.05100860084259355\n",
      "courant_number_x=0.001133289121895321\n",
      "courant_y=0.04987531172069823\n",
      "cfl_condition=0.05100860084259355\n",
      "courant_number_x=0.001133289121895321\n",
      "courant_y=0.04987531172069823\n",
      "cfl_condition=0.05100860084259355\n",
      "courant_number_x=0.0011076872036787928\n",
      "courant_y=0.049937578027465644\n",
      "cfl_condition=0.051045265231144436\n",
      "courant_number_x=0.0011076872036787928\n",
      "courant_y=0.049937578027465644\n",
      "cfl_condition=0.051045265231144436\n",
      "courant_number_x=0.0011076872036787928\n",
      "courant_y=0.049937578027465644\n",
      "cfl_condition=0.051045265231144436\n",
      "courant_number_x=0.0010948622577639548\n",
      "courant_y=0.04996876951905057\n",
      "cfl_condition=0.05106363177681453\n",
      "courant_number_x=0.0010948622577639548\n",
      "courant_y=0.04996876951905057\n",
      "cfl_condition=0.05106363177681453\n",
      "courant_number_x=0.0010948622577639548\n",
      "courant_y=0.04996876951905057\n",
      "cfl_condition=0.05106363177681453\n"
     ]
    }
   ],
   "execution_count": 25
  },
  {
   "metadata": {
    "ExecuteTime": {
     "end_time": "2025-06-11T09:50:23.883161Z",
     "start_time": "2025-06-11T09:50:23.870739Z"
    }
   },
   "cell_type": "code",
   "source": "divisions = [np.log2(scale) for scale in scales]",
   "id": "bf136c160b092e9e",
   "outputs": [],
   "execution_count": 26
  },
  {
   "metadata": {
    "ExecuteTime": {
     "end_time": "2025-06-12T08:38:49.932911Z",
     "start_time": "2025-06-12T08:38:48.752306Z"
    }
   },
   "cell_type": "code",
   "source": [
    "# simulate error decreasing like x^2, starting from first scale, first value of errors_1[\"MPDATA\"]\n",
    "simulated_errors_upwind = [errors_1[\"UPWIND\"][0] / (scale ** 2) for scale in scales]\n",
    "simulated_errors_mpdata_t2 = [errors_1[\"MPDATA\"][0] / (scale ** 2) for scale in scales]\n",
    "simulated_errors_mpdata = [errors_1[\"MPDATA\"][0] / (scale ** 3) for scale in scales]\n",
    "\n",
    "simulated_errors_mpdata_4_t2 = [errors_1[\"MPDATA_4\"][0] / (scale ** 2) for scale in scales]\n",
    "simulated_errors_mpdata_4 = [errors_1[\"MPDATA_4\"][0] / (scale ** 3) for scale in scales]\n",
    "# simulated_errors_mpdata4 = [errors_1[\"MPDATA_4\"][0] / (scale ** 3) for scale in scales]\n",
    "\n",
    "fig, ax = pyplot.subplots(figsize=(6, 4))\n",
    "# ax.set_title('Convergence Analysis of Asian Arithmetic Option Pricing')\n",
    "# ax.set_xlabel(f'$log_2$(number of divisions)')\n",
    "ax.set_xlabel(\"Number of dx, dy, dt halvings\")\n",
    "ax.set_xticks(divisions)\n",
    "ax.set_ylabel(f'log$_2$(error)')\n",
    "ax.set_yscale('log', base=2)\n",
    "# ax.set_xscale('log', base=2)\n",
    "ax.grid(True, which='both', linestyle='--', linewidth=0.5)\n",
    "ax.plot(divisions, errors_1[\"UPWIND\"], marker='o', linestyle='-', color='g', label='UPWIND')\n",
    "ax.plot(divisions, simulated_errors_upwind, linestyle=':', color='k', label='error ∝ $x^2$')\n",
    "# ax.plot([10*x for x in scales], errors_2[\"UPWIND\"], marker='x', linestyle='--', color='b', label='UPWIND C=0.005')\n",
    "# ax.plot([10*x for x in scales], errors_3[\"UPWIND\"], marker='x', linestyle='--', color='g', label='UPWIND C=0.01')\n",
    "\n",
    "ax.plot(divisions, errors_1[\"MPDATA\"], marker='o', linestyle='-', color='r', label='MPDATA 2 iter')\n",
    "ax.plot(divisions, simulated_errors_mpdata_t2, linestyle=':', color='k')\n",
    "ax.plot(divisions, simulated_errors_mpdata, linestyle='--', color='k', label='error ∝ $x^3$')\n",
    "\n",
    "# ax.plot(divisions, errors_1[\"MPDATA_4\"], marker='o', linestyle='-', color='b', label='MPDATA 4 iter')\n",
    "# ax.plot(divisions, simulated_errors_mpdata_4_t2, marker='.', linestyle=':', color='b', label='error ∝ $x^2$')\n",
    "# ax.plot(divisions, simulated_errors_mpdata_4, marker='.', linestyle=':', color='b', label='error ∝ $x^3$')\n",
    "\n",
    "# ax.plot([10*x for x in scales], errors_2[\"MPDATA\"], marker='o', linestyle='-', color='b', label='MPDATA C=0.005')\n",
    "# ax.plot([10*x for x in scales], errors_3[\"MPDATA\"], marker='o', linestyle='-', color='g', label='MPDATA C=0.01')\n",
    "# ax.set_xticks([10*x for x in scales])\n",
    "# ax.set_xticks([10*x for x in scales[::2]])\n",
    "ax.legend()\n",
    "show_plot(\"convergence_analysis.pdf\", inline_format='png')\n"
   ],
   "id": "5e6ffe28d1fcd983",
   "outputs": [
    {
     "data": {
      "text/plain": [
       "<Figure size 600x400 with 1 Axes>"
      ],
      "image/png": "[encoded data removed]"
     },
     "metadata": {},
     "output_type": "display_data"
    },
    {
     "data": {
      "text/plain": [
       "HBox(children=(HTML(value=\"<a href='.\\\\convergence_analysis.pdf' target='_blank'>.\\\\convergence_analysis.pdf</…"
      ],
      "application/vnd.jupyter.widget-view+json": {
       "version_major": 2,
       "version_minor": 0,
       "model_id": "81dce5edb09644438ad48ad6863fa68e"
      }
     },
     "metadata": {},
     "output_type": "display_data"
    }
   ],
   "execution_count": 44
  },
  {
   "metadata": {
    "ExecuteTime": {
     "end_time": "2025-06-11T08:50:43.384968Z",
     "start_time": "2025-06-11T08:50:43.353692Z"
    }
   },
   "cell_type": "code",
   "source": "errors_1",
   "id": "abfaad3f6a0d9f1c",
   "outputs": [
    {
     "data": {
      "text/plain": [
       "{'MPDATA': [0.2612317055511223,\n",
       "  0.06337006284475517,\n",
       "  0.013258473968370063,\n",
       "  0.002354126298593921],\n",
       " 'MPDATA_4': [0.28065852735841607,\n",
       "  0.03966082851967339,\n",
       "  0.007551607582401164,\n",
       "  0.0015218903926132712],\n",
       " 'UPWIND': [0.5801485758785443,\n",
       "  0.16876376194650494,\n",
       "  0.04698747437433893,\n",
       "  0.012610722164236528]}"
      ]
     },
     "execution_count": 15,
     "metadata": {},
     "output_type": "execute_result"
    }
   ],
   "execution_count": 15
  },
  {
   "metadata": {},
   "cell_type": "code",
   "outputs": [],
   "execution_count": null,
   "source": "",
   "id": "6253286ec51fd341"
  },
  {
   "metadata": {},
   "cell_type": "code",
   "outputs": [],
   "execution_count": null,
   "source": "",
   "id": "764001d3e1cc8525"
  }
 ],
 "metadata": {
  "kernelspec": {
   "display_name": "Python 3",
   "language": "python",
   "name": "python3"
  },
  "language_info": {
   "codemirror_mode": {
    "name": "ipython",
    "version": 2
   },
   "file_extension": ".py",
   "mimetype": "text/x-python",
   "name": "python",
   "nbconvert_exporter": "python",
   "pygments_lexer": "ipython2",
   "version": "2.7.6"
  }
 },
 "nbformat": 4,
 "nbformat_minor": 5
}
