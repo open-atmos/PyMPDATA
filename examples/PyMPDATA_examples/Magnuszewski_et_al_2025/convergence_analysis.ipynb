{
 "cells": [
  {
   "cell_type": "code",
   "id": "initial_id",
   "metadata": {
    "collapsed": true,
    "ExecuteTime": {
     "end_time": "2025-06-05T19:09:22.414762Z",
     "start_time": "2025-06-05T19:09:22.354024Z"
    }
   },
   "source": [
    "import sys\n",
    "\n",
    "from PyMPDATA_examples.Arabas_and_Farhat_2020.options import OPTIONS\n",
    "\n",
    "if 'google.colab' in sys.modules:\n",
    "    !pip --quiet install open-atmos-jupyter-utils\n",
    "    from open_atmos_jupyter_utils import pip_install_on_colab\n",
    "    pip_install_on_colab('PyMPDATA-examples')"
   ],
   "outputs": [],
   "execution_count": 1
  },
  {
   "metadata": {
    "ExecuteTime": {
     "end_time": "2025-06-05T19:39:52.687589Z",
     "start_time": "2025-06-05T19:39:52.638693Z"
    }
   },
   "cell_type": "code",
   "source": [
    "import os\n",
    "import numpy as np\n",
    "from scipy.interpolate import make_interp_spline\n",
    "from matplotlib import pyplot, colors, colormaps, patches\n",
    "from open_atmos_jupyter_utils import show_plot\n",
    "# from PyMPDATA_examples.Magnuszewski_et_al_2025.common import OPTIONS\n",
    "from PyMPDATA import Options\n",
    "\n",
    "from PyMPDATA_examples.Magnuszewski_et_al_2025.asian_option import AsianArithmetic, Settings\n",
    "from PyMPDATA_examples.Magnuszewski_et_al_2025.monte_carlo import BSModel, FixedStrikeArithmeticAsianOption\n",
    "from PyMPDATA_examples.utils.financial_formulae import Black_Scholes_1973\n",
    "import PyMPDATA_examples.utils.financial_formulae.asian_option as asian_analytic\n",
    "from tqdm import tqdm\n",
    "from PyMPDATA_examples.Magnuszewski_et_al_2025.monte_carlo import BSModel, FixedStrikeArithmeticAsianOption"
   ],
   "id": "4b3abd89c25f506a",
   "outputs": [],
   "execution_count": 38
  },
  {
   "metadata": {
    "ExecuteTime": {
     "end_time": "2025-06-05T19:45:09.798211Z",
     "start_time": "2025-06-05T19:45:09.782596Z"
    }
   },
   "cell_type": "code",
   "source": [
    "# base_nx = 21\n",
    "# base_ny = 31\n",
    "\n",
    "mc_n_paths = 100000\n",
    "mc_seed = 42\n",
    "mc_path_points = 1000\n",
    "\n",
    "\n",
    "SETTINGS = Settings(\n",
    "    T=1,\n",
    "    K=100,\n",
    "    r=.08,\n",
    "    sgma=.4,\n",
    "    S_max=200,\n",
    "    S_min=50,\n",
    ")\n",
    "variant = \"call\"\n",
    "\n",
    "OPTIONS = Options(\n",
    "        n_iters=2,\n",
    "        nonoscillatory=True,\n",
    "        non_zero_mu_coeff=True,\n",
    "    )\n"
   ],
   "id": "571c590f1c556e87",
   "outputs": [],
   "execution_count": 55
  },
  {
   "metadata": {
    "ExecuteTime": {
     "end_time": "2025-06-05T19:45:10.455580Z",
     "start_time": "2025-06-05T19:45:10.427907Z"
    }
   },
   "cell_type": "code",
   "source": [
    "\n",
    "# scale=4\n",
    "spot=100\n",
    "# resolution2 = {k:v*scale for k,v in resolution.items()}"
   ],
   "id": "bd22637408a52ecc",
   "outputs": [],
   "execution_count": 56
  },
  {
   "metadata": {
    "ExecuteTime": {
     "end_time": "2025-06-05T19:45:28.880209Z",
     "start_time": "2025-06-05T19:45:24.509071Z"
    }
   },
   "cell_type": "code",
   "source": [
    "mc_model = BSModel(\n",
    "        T=1,\n",
    "        sigma=0.4,\n",
    "        r=0.08,\n",
    "        M=mc_path_points,\n",
    "        S0=spot,\n",
    "        seed=mc_seed\n",
    "    )\n",
    "arithmetic_option = FixedStrikeArithmeticAsianOption(1, 100, variant, mc_model, mc_n_paths)\n",
    "price_by_mc = arithmetic_option.price_by_mc()"
   ],
   "id": "c552371967db957f",
   "outputs": [],
   "execution_count": 58
  },
  {
   "metadata": {
    "ExecuteTime": {
     "end_time": "2025-06-05T19:46:02.080715Z",
     "start_time": "2025-06-05T19:46:02.070571Z"
    }
   },
   "cell_type": "code",
   "source": "price_by_mc",
   "id": "daa96bf28b32ed24",
   "outputs": [
    {
     "data": {
      "text/plain": [
       "10.643044762553435"
      ]
     },
     "execution_count": 59,
     "metadata": {},
     "output_type": "execute_result"
    }
   ],
   "execution_count": 59
  },
  {
   "metadata": {
    "ExecuteTime": {
     "end_time": "2025-06-05T19:55:37.613562Z",
     "start_time": "2025-06-05T19:55:37.596949Z"
    }
   },
   "cell_type": "code",
   "source": [
    "resolution = {\n",
    "    'nt': 2000,\n",
    "    'nx': 11,\n",
    "    'ny': 16,\n",
    "}"
   ],
   "id": "7c516ff671138bf2",
   "outputs": [],
   "execution_count": 67
  },
  {
   "metadata": {
    "ExecuteTime": {
     "end_time": "2025-06-05T19:56:34.815577Z",
     "start_time": "2025-06-05T19:56:07.178933Z"
    }
   },
   "cell_type": "code",
   "source": [
    "scales = [1, 2, 4, 8, 16]\n",
    "results = {}\n",
    "for scale in scales:\n",
    "    resolution_scaled = {k: v * scale for k, v in resolution.items()}\n",
    "    simulation = AsianArithmetic(SETTINGS, **resolution_scaled, options=OPTIONS, variant=variant)\n",
    "    simulation.step(simulation.nt)\n",
    "    simulation_price = simulation.solver.advectee.get()[:, 0]\n",
    "    results[scale] = np.interp(spot, simulation.S, simulation_price)\n",
    "    \n"
   ],
   "id": "c1fb1f4f82ff53f7",
   "outputs": [
    {
     "name": "stdout",
     "output_type": "stream",
     "text": [
      "courant_number_x=5.505889303431891e-20\n",
      "cfl_condition=0.007499999999999996\n",
      "courant_number_x=5.505889303431891e-20\n",
      "cfl_condition=0.0077499999999999965\n",
      "courant_number_x=5.505889303431891e-20\n",
      "cfl_condition=0.007874999999999997\n",
      "courant_number_x=5.505889303431891e-20\n",
      "cfl_condition=0.007937499999999995\n",
      "courant_number_x=5.505889303431891e-20\n",
      "cfl_condition=0.007968749999999997\n"
     ]
    }
   ],
   "execution_count": 70
  },
  {
   "metadata": {
    "ExecuteTime": {
     "end_time": "2025-06-05T19:56:34.861321Z",
     "start_time": "2025-06-05T19:56:34.825701Z"
    }
   },
   "cell_type": "code",
   "source": "results",
   "id": "49a40eb8ee143241",
   "outputs": [
    {
     "data": {
      "text/plain": [
       "{1: 14.125965307980703,\n",
       " 2: 12.042222803433566,\n",
       " 4: nan,\n",
       " 8: 10.926467884458024,\n",
       " 16: nan}"
      ]
     },
     "execution_count": 71,
     "metadata": {},
     "output_type": "execute_result"
    }
   ],
   "execution_count": 71
  },
  {
   "metadata": {},
   "cell_type": "code",
   "outputs": [],
   "execution_count": null,
   "source": "",
   "id": "24b9e919cef70361"
  },
  {
   "metadata": {},
   "cell_type": "code",
   "outputs": [],
   "execution_count": null,
   "source": "",
   "id": "5e6ffe28d1fcd983"
  },
  {
   "metadata": {},
   "cell_type": "code",
   "outputs": [],
   "execution_count": null,
   "source": "",
   "id": "6253286ec51fd341"
  },
  {
   "metadata": {},
   "cell_type": "code",
   "outputs": [],
   "execution_count": null,
   "source": "",
   "id": "764001d3e1cc8525"
  }
 ],
 "metadata": {
  "kernelspec": {
   "display_name": "Python 3",
   "language": "python",
   "name": "python3"
  },
  "language_info": {
   "codemirror_mode": {
    "name": "ipython",
    "version": 2
   },
   "file_extension": ".py",
   "mimetype": "text/x-python",
   "name": "python",
   "nbconvert_exporter": "python",
   "pygments_lexer": "ipython2",
   "version": "2.7.6"
  }
 },
 "nbformat": 4,
 "nbformat_minor": 5
}
