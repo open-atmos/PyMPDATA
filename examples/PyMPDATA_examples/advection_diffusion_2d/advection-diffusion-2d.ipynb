{
 "cells": [
  {
   "cell_type": "markdown",
   "id": "e333839d",
   "metadata": {},
   "source": [
    "[![View notebook](https://img.shields.io/static/v1?label=render%20on&logo=github&color=87ce3e&message=GitHub)](https://github.com/open-atmos/PyMPDATA/blob/main/examples/PyMPDATA_examples/advection_diffusion_2d/advection-diffusion-2d.ipynb)\n",
    "[![Binder](https://mybinder.org/badge_logo.svg)](https://mybinder.org/v2/gh/open-atmos/PyMPDATA.git/main?urlpath=lab/tree/examples/PyMPDATA_examples/advection_diffusion_2d/advection-diffusion-2d.ipynb)\n",
    "[![Open In Colab](https://colab.research.google.com/assets/colab-badge.svg)](https://colab.research.google.com/github/open-atmos/PyMPDATA/blob/main/examples/PyMPDATA_examples/advection_diffusion_2d/advection-diffusion-2d.ipynb)"
   ]
  },
  {
   "cell_type": "code",
   "id": "e333666d",
   "execution_count": null,
   "metadata": {
    "pycharm": {
     "name": "#%%\n"
    }
   },
   "outputs": [],
   "source": [
    "import sys\n",
    "if 'google.colab' in sys.modules:\n",
    "    !pip --quiet install open-atmos-jupyter-utils\n",
    "    from open_atmos_jupyter_utils import pip_install_on_colab\n",
    "    pip_install_on_colab('PyMPDATA-examples')"
   ]
  },
  {
   "cell_type": "code",
   "id": "43d2893d-f472-43ac-ad5b-bf342a3783b9",
   "metadata": {},
   "source": [
    "from open_atmos_jupyter_utils import show_plot"
   ],
   "outputs": [],
   "execution_count": null
  },
  {
   "cell_type": "code",
   "id": "9aaadc4a5234804a",
   "metadata": {},
   "source": [
    "import os\n",
    "import numpy as np\n",
    "import imageio\n",
    "from IPython.display import display\n",
    "from ipywidgets import FloatProgress\n",
    "import matplotlib.pyplot as plt\n",
    "from PyMPDATA import Solver, ScalarField, VectorField, Stepper, Options\n",
    "from PyMPDATA.boundary_conditions import Periodic"
   ],
   "outputs": [],
   "execution_count": null
  },
  {
   "cell_type": "code",
   "id": "a563a769a256feba",
   "metadata": {},
   "source": [
    "mu = 0.0005 # diffusion coefficient\n",
    "dt = 0.025\n",
    "tmax = 5.0\n",
    "nt = int(tmax / dt)\n",
    "\n",
    "nx = 32\n",
    "ny = 32\n",
    "ux  = 0.25\n",
    "uy = 0.25\n",
    "\n",
    "omega = np.pi\n",
    "\n",
    "min_x, min_y = -1, -1\n",
    "max_x, max_y = 1, 1\n",
    "dx = (max_x - min_x) / nx\n",
    "dy = (max_y - min_y) / ny\n",
    "Cx = ux * dt / dx\n",
    "Cy = uy * dt / dy"
   ],
   "outputs": [],
   "execution_count": null
  },
  {
   "cell_type": "code",
   "id": "9a0f60b51e32ce3e",
   "metadata": {},
   "source": [
    "opt = Options(n_iters=3, non_zero_mu_coeff=True)\n",
    "boundary_conditions = (Periodic(), Periodic())"
   ],
   "outputs": [],
   "execution_count": null
  },
  {
   "cell_type": "code",
   "id": "cab790be5c425ea5",
   "metadata": {},
   "source": [
    "def analytic_solution(x, y, t):\n",
    "    return np.sin(omega*(x-ux*t+y-uy*t))*np.exp(-2*mu*t*omega**2) + 1"
   ],
   "outputs": [],
   "execution_count": null
  },
  {
   "cell_type": "code",
   "id": "b454a74473b8f900",
   "metadata": {},
   "source": [
    "def z(t):\n",
    "    return np.array(\n",
    "    [\n",
    "        analytic_solution(x, y, t=t) for x in np.linspace(min_x, max_x, nx)\n",
    "        for y in np.linspace(min_y, max_y, ny)\n",
    "    ],\n",
    "    dtype=float\n",
    ").reshape((nx, ny))\n",
    "\n",
    "advectee = ScalarField(data=z(t=0), halo=opt.n_halo, boundary_conditions=boundary_conditions)"
   ],
   "outputs": [],
   "execution_count": null
  },
  {
   "cell_type": "code",
   "id": "fb28f958a4920cd",
   "metadata": {},
   "source": [
    "field_x = np.full((nx+1, ny), Cx, dtype=opt.dtype)\n",
    "field_y = np.full((nx, ny+1), Cy, dtype=opt.dtype)\n",
    "\n",
    "advector = VectorField(\n",
    "    data=(field_x, field_y),\n",
    "    halo=opt.n_halo,\n",
    "    boundary_conditions=(boundary_conditions[0], Periodic())\n",
    ")"
   ],
   "outputs": [],
   "execution_count": null
  },
  {
   "cell_type": "code",
   "id": "45c8ea60d8490cd4",
   "metadata": {},
   "source": [
    "stepper = Stepper(options=opt, n_dims=2)\n",
    "solver = Solver(stepper=stepper, advector=advector, advectee=advectee)"
   ],
   "outputs": [],
   "execution_count": null
  },
  {
   "cell_type": "code",
   "id": "bd4722c47297508c",
   "metadata": {},
   "source": [
    "vmin = np.min(solver.advectee.get())\n",
    "vmax = np.max(solver.advectee.get())"
   ],
   "outputs": [],
   "execution_count": null
  },
  {
   "cell_type": "code",
   "id": "d7a5cd43651621e6",
   "metadata": {},
   "source": [
    "plt.figure(figsize=(6, 6))\n",
    "plt.imshow(solver.advectee.get().copy(), cmap='viridis', vmin=vmin, vmax=vmax)\n",
    "plt.colorbar()\n",
    "plt.xlabel('x')\n",
    "plt.ylabel('y')\n",
    "plt.title('Initial condition')\n",
    "show_plot(\"fig_1\")"
   ],
   "outputs": [],
   "execution_count": null
  },
  {
   "cell_type": "code",
   "id": "2b279996b00be430",
   "metadata": {},
   "source": [
    "progbar = FloatProgress(value=0, min=0, max=1)\n",
    "display(progbar)\n",
    "\n",
    "states_history = [solver.advectee.get().copy()]\n",
    "for i in range(nt//10):\n",
    "    solver.advance(n_steps=10, mu_coeff=(mu, mu))\n",
    "    states_history.append(solver.advectee.get().copy())\n",
    "    progbar.value = (i + 1.) / (nt//10)"
   ],
   "outputs": [],
   "execution_count": null
  },
  {
   "cell_type": "code",
   "id": "2576fcdbfa20c032",
   "metadata": {},
   "source": [
    "plt.figure(figsize=(6, 6))\n",
    "plt.imshow(solver.advectee.get().copy(), cmap='viridis', vmin=vmin, vmax=vmax)\n",
    "plt.colorbar()\n",
    "plt.xlabel('x')\n",
    "plt.ylabel('y')\n",
    "plt.title('Final condition')\n",
    "show_plot(\"fig_2\")"
   ],
   "outputs": [],
   "execution_count": null
  },
  {
   "cell_type": "code",
   "id": "556684f5a2e2483d",
   "metadata": {},
   "source": [
    "assert np.allclose(solver.advectee.get(), z(t=nt*dt), atol=0.25)"
   ],
   "outputs": [],
   "execution_count": null
  },
  {
   "cell_type": "code",
   "id": "cc07e0075e5b9857",
   "metadata": {},
   "source": [
    "os.makedirs(\"animation\", exist_ok=True)\n",
    "for i, state in enumerate(states_history):\n",
    "    state = np.flipud(state)\n",
    "    plt.imshow(state, cmap='viridis')\n",
    "    plt.axis('off')\n",
    "    plt.tight_layout()\n",
    "    plt.colorbar()\n",
    "    plt.savefig(f\"animation/frame_{i:03d}.png\")\n",
    "    plt.close()"
   ],
   "outputs": [],
   "execution_count": null
  },
  {
   "cell_type": "code",
   "id": "1888a38e39bf2395",
   "metadata": {},
   "source": [
    "def merge_images_into_gif(image_folder, gif_name, duration=0.01):\n",
    "    with imageio.get_writer(gif_name, mode='I', duration=duration) as writer:\n",
    "        for filename in sorted(os.listdir(image_folder)):\n",
    "            image = imageio.v3.imread(os.path.join(image_folder, filename))\n",
    "            writer.append_data(image)"
   ],
   "outputs": [],
   "execution_count": null
  },
  {
   "cell_type": "code",
   "id": "52bc22d60805baa6",
   "metadata": {},
   "source": [
    "merge_images_into_gif(\"animation\", \"advection_diffusion.gif\", duration=0.01)"
   ],
   "outputs": [],
   "execution_count": null
  },
  {
   "cell_type": "code",
   "id": "5403105d000206da",
   "metadata": {},
   "source": [],
   "outputs": [],
   "execution_count": null
  }
 ],
 "metadata": {
  "kernelspec": {
   "display_name": "Python 3 (ipykernel)",
   "language": "python",
   "name": "python3"
  },
  "language_info": {
   "codemirror_mode": {
    "name": "ipython",
    "version": 3
   },
   "file_extension": ".py",
   "mimetype": "text/x-python",
   "name": "python",
   "nbconvert_exporter": "python",
   "pygments_lexer": "ipython3",
   "version": "3.10.14"
  }
 },
 "nbformat": 4,
 "nbformat_minor": 5
}
