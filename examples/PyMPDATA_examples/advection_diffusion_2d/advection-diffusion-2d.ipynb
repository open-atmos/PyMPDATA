{
 "cells": [
  {
   "cell_type": "markdown",
   "id": "e333839d",
   "metadata": {},
   "source": [
    "[![Binder](https://mybinder.org/badge_logo.svg)](https://mybinder.org/v2/gh/open-atmos/PyMPDATA.git/main?urlpath=lab/tree/examples/PyMPDATA_examples/advection_diffusion_2d/advection-diffusion-2d.ipynb)\n",
    "[![Open In Colab](https://colab.research.google.com/assets/colab-badge.svg)](https://colab.research.google.com/github/open-atmos/examples/blob/main/examples/PyMPDATA_examples/advection_diffusion_2d/advection-diffusion-2d.ipynb)"
   ]
  },
  {
   "cell_type": "code",
   "id": "43d2893d-f472-43ac-ad5b-bf342a3783b9",
   "metadata": {},
   "source": [
    "from open_atmos_jupyter_utils import show_plot"
   ],
   "outputs": [],
   "execution_count": null
  },
  {
   "metadata": {
    "ExecuteTime": {
     "end_time": "2024-09-02T14:58:40.347578Z",
     "start_time": "2024-09-02T14:58:40.335592Z"
    }
   },
   "cell_type": "code",
   "source": [
    "import os\n",
    "import sympy as sp\n",
    "import numpy as np\n",
    "import imageio\n",
    "from IPython.display import display\n",
    "from ipywidgets import FloatProgress\n",
    "import matplotlib.pyplot as plt\n",
    "from PyMPDATA import Solver, ScalarField, VectorField, Stepper, Options\n",
    "from PyMPDATA.boundary_conditions import Periodic"
   ],
   "id": "9aaadc4a5234804a",
   "outputs": [],
   "execution_count": 13
  },
  {
   "metadata": {
    "ExecuteTime": {
     "end_time": "2024-09-02T15:04:47.022336Z",
     "start_time": "2024-09-02T15:04:47.009333Z"
    }
   },
   "cell_type": "code",
   "source": [
    "mu = 0.05 # diffusion coefficient\n",
    "dt = 0.025\n",
    "tmax = 50.0\n",
    "nt = int(tmax / dt)\n",
    "\n",
    "nx = 32\n",
    "ny = 32\n",
    "ux  = 0.5\n",
    "uy = 0.25\n",
    "\n",
    "min_x, min_y = -1, -1\n",
    "max_x, max_y = 1, 1\n",
    "dx = (max_x - min_x) / nx\n",
    "dy = (max_y - min_y) / ny\n",
    "Cx = ux * dt / dx\n",
    "Cy = uy * dt / dy"
   ],
   "id": "a563a769a256feba",
   "outputs": [],
   "execution_count": 47
  },
  {
   "metadata": {
    "ExecuteTime": {
     "end_time": "2024-09-02T15:04:47.278144Z",
     "start_time": "2024-09-02T15:04:47.264480Z"
    }
   },
   "cell_type": "code",
   "source": [
    "opt = Options(n_iters=3, non_zero_mu_coeff=True, infinite_gauge=True, nonoscillatory=True)\n",
    "boundary_conditions = (Periodic(), Periodic())"
   ],
   "id": "9a0f60b51e32ce3e",
   "outputs": [],
   "execution_count": 48
  },
  {
   "metadata": {
    "ExecuteTime": {
     "end_time": "2024-09-02T15:04:47.414980Z",
     "start_time": "2024-09-02T15:04:47.398151Z"
    }
   },
   "cell_type": "code",
   "source": [
    "solution_symbolic = sp.sympify(\"sin(pi*(x+y))*exp(-mu*pi**2*t) + 1\", rational=True)\n",
    "solution = solution_symbolic.subs({\"mu\": mu})"
   ],
   "id": "1f2e59f8bb5f083a",
   "outputs": [],
   "execution_count": 49
  },
  {
   "metadata": {
    "ExecuteTime": {
     "end_time": "2024-09-02T15:04:47.765595Z",
     "start_time": "2024-09-02T15:04:47.759405Z"
    }
   },
   "cell_type": "code",
   "source": [
    "def init_conditions(x, y):\n",
    "    return solution_symbolic.subs({\"t\":0, \"x\": x, \"y\": y}).evalf()"
   ],
   "id": "cab790be5c425ea5",
   "outputs": [],
   "execution_count": 50
  },
  {
   "metadata": {
    "ExecuteTime": {
     "end_time": "2024-09-02T15:04:48.772265Z",
     "start_time": "2024-09-02T15:04:48.070762Z"
    }
   },
   "cell_type": "code",
   "source": [
    "z = np.array(\n",
    "    [\n",
    "        # [\n",
    "            init_conditions(x, y) for x in np.linspace(min_x, max_x, nx)\n",
    "        # ]\n",
    "        for y in np.linspace(min_y, max_y, ny)\n",
    "    ],\n",
    "    dtype=float\n",
    ").reshape((nx, ny))\n",
    "\n",
    "advectee = ScalarField(data=z, halo=opt.n_halo, boundary_conditions=boundary_conditions)"
   ],
   "id": "b454a74473b8f900",
   "outputs": [],
   "execution_count": 51
  },
  {
   "metadata": {
    "ExecuteTime": {
     "end_time": "2024-09-02T15:04:48.784821Z",
     "start_time": "2024-09-02T15:04:48.774301Z"
    }
   },
   "cell_type": "code",
   "source": [
    "field_x = np.full((nx+1, ny), Cx, dtype=opt.dtype)\n",
    "field_y = np.full((nx, ny+1), Cy, dtype=opt.dtype)\n",
    "\n",
    "advector = VectorField(\n",
    "    data=(field_x, field_y),\n",
    "    halo=opt.n_halo,\n",
    "    boundary_conditions=(boundary_conditions[0], Periodic())\n",
    ")"
   ],
   "id": "fb28f958a4920cd",
   "outputs": [],
   "execution_count": 52
  },
  {
   "metadata": {
    "ExecuteTime": {
     "end_time": "2024-09-02T15:04:48.835614Z",
     "start_time": "2024-09-02T15:04:48.825932Z"
    }
   },
   "cell_type": "code",
   "source": [
    "stepper = Stepper(options=opt, n_dims=2)\n",
    "solver = Solver(stepper=stepper, advector=advector, advectee=advectee)\n"
   ],
   "id": "45c8ea60d8490cd4",
   "outputs": [],
   "execution_count": 53
  },
  {
   "metadata": {
    "ExecuteTime": {
     "end_time": "2024-09-02T15:04:49.519445Z",
     "start_time": "2024-09-02T15:04:49.225828Z"
    }
   },
   "cell_type": "code",
   "source": [
    "plt.imshow(solver.advectee.get().copy(), cmap='viridis')\n",
    "plt.colorbar()\n",
    "show_plot()"
   ],
   "id": "d7a5cd43651621e6",
   "outputs": [
    {
     "ename": "NameError",
     "evalue": "name 'show_plot' is not defined",
     "output_type": "error",
     "traceback": [
      "\u001B[1;31m---------------------------------------------------------------------------\u001B[0m",
      "\u001B[1;31mNameError\u001B[0m                                 Traceback (most recent call last)",
      "Cell \u001B[1;32mIn[54], line 3\u001B[0m\n\u001B[0;32m      1\u001B[0m plt\u001B[38;5;241m.\u001B[39mimshow(solver\u001B[38;5;241m.\u001B[39madvectee\u001B[38;5;241m.\u001B[39mget()\u001B[38;5;241m.\u001B[39mcopy(), cmap\u001B[38;5;241m=\u001B[39m\u001B[38;5;124m'\u001B[39m\u001B[38;5;124mviridis\u001B[39m\u001B[38;5;124m'\u001B[39m)\n\u001B[0;32m      2\u001B[0m plt\u001B[38;5;241m.\u001B[39mcolorbar()\n\u001B[1;32m----> 3\u001B[0m \u001B[43mshow_plot\u001B[49m()\n",
      "\u001B[1;31mNameError\u001B[0m: name 'show_plot' is not defined"
     ]
    },
    {
     "data": {
      "text/plain": [
       "<Figure size 640x480 with 2 Axes>"
      ],
      "image/png": "[encoded data removed]"
     },
     "metadata": {},
     "output_type": "display_data"
    }
   ],
   "execution_count": 54
  },
  {
   "metadata": {
    "ExecuteTime": {
     "end_time": "2024-09-02T15:04:55.179273Z",
     "start_time": "2024-09-02T15:04:50.621710Z"
    }
   },
   "cell_type": "code",
   "source": [
    "progbar = FloatProgress(value=0, min=0, max=1)\n",
    "display(progbar)\n",
    "\n",
    "states_history = [solver.advectee.get().copy()]\n",
    "for i in range(nt//10): # save every 10th step\n",
    "    solver.advance(n_steps=10, mu_coeff=(mu, mu))\n",
    "    states_history.append(solver.advectee.get().copy())\n",
    "    progbar.value = (i + 1.) / (nt//10)"
   ],
   "id": "2b279996b00be430",
   "outputs": [
    {
     "data": {
      "text/plain": [
       "FloatProgress(value=0.0, max=1.0)"
      ],
      "application/vnd.jupyter.widget-view+json": {
       "version_major": 2,
       "version_minor": 0,
       "model_id": "6ed7ebee8acd412fb134826169ea616f"
      }
     },
     "metadata": {},
     "output_type": "display_data"
    }
   ],
   "execution_count": 55
  },
  {
   "metadata": {
    "ExecuteTime": {
     "end_time": "2024-09-02T15:04:55.446683Z",
     "start_time": "2024-09-02T15:04:55.179273Z"
    }
   },
   "cell_type": "code",
   "source": [
    "plt.imshow(solver.advectee.get().copy(), cmap='viridis')\n",
    "plt.colorbar()"
   ],
   "id": "2576fcdbfa20c032",
   "outputs": [
    {
     "data": {
      "text/plain": [
       "<matplotlib.colorbar.Colorbar at 0x1ed0781f6e0>"
      ]
     },
     "execution_count": 56,
     "metadata": {},
     "output_type": "execute_result"
    },
    {
     "data": {
      "text/plain": [
       "<Figure size 640x480 with 2 Axes>"
      ],
      "image/png": "[encoded data removed]"
     },
     "metadata": {},
     "output_type": "display_data"
    }
   ],
   "execution_count": 56
  },
  {
   "metadata": {
    "ExecuteTime": {
     "end_time": "2024-09-02T15:05:41.104159Z",
     "start_time": "2024-09-02T15:04:59.271047Z"
    }
   },
   "cell_type": "code",
   "source": [
    "os.makedirs(\"animation\", exist_ok=True)\n",
    "for i, state in enumerate(states_history):\n",
    "    state = np.flipud(state)\n",
    "    plt.imshow(state, cmap='viridis')\n",
    "    plt.axis('off')\n",
    "    plt.tight_layout()\n",
    "    plt.colorbar()\n",
    "    plt.savefig(f\"animation/frame_{i:03d}.png\")\n",
    "    plt.close()"
   ],
   "id": "cc07e0075e5b9857",
   "outputs": [],
   "execution_count": 57
  },
  {
   "metadata": {
    "ExecuteTime": {
     "end_time": "2024-09-02T15:05:41.109857Z",
     "start_time": "2024-09-02T15:05:41.104159Z"
    }
   },
   "cell_type": "code",
   "source": [
    "def merge_images_into_gif(image_folder, gif_name, duration=0.01):\n",
    "    with imageio.get_writer(gif_name, mode='I', duration=duration) as writer:\n",
    "        for filename in sorted(os.listdir(image_folder)):\n",
    "            image = imageio.v3.imread(os.path.join(image_folder, filename))\n",
    "            writer.append_data(image)"
   ],
   "id": "1888a38e39bf2395",
   "outputs": [],
   "execution_count": 58
  },
  {
   "metadata": {
    "ExecuteTime": {
     "end_time": "2024-09-02T15:05:47.666838Z",
     "start_time": "2024-09-02T15:05:41.109857Z"
    }
   },
   "cell_type": "code",
   "source": [
    "merge_images_into_gif(\"animation\", \"advection_diffusion.gif\", duration=0.01)"
   ],
   "id": "52bc22d60805baa6",
   "outputs": [],
   "execution_count": 59
  },
  {
   "metadata": {},
   "cell_type": "code",
   "outputs": [],
   "execution_count": null,
   "source": "",
   "id": "5403105d000206da"
  }
 ],
 "metadata": {
  "kernelspec": {
   "display_name": "Python 3 (ipykernel)",
   "language": "python",
   "name": "python3"
  },
  "language_info": {
   "codemirror_mode": {
    "name": "ipython",
    "version": 3
   },
   "file_extension": ".py",
   "mimetype": "text/x-python",
   "name": "python",
   "nbconvert_exporter": "python",
   "pygments_lexer": "ipython3",
   "version": "3.9.2"
  }
 },
 "nbformat": 4,
 "nbformat_minor": 5
}
