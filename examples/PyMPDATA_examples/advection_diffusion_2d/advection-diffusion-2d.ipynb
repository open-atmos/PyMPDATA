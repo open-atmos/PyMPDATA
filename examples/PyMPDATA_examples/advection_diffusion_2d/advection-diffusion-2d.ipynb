{
 "cells": [
  {
   "cell_type": "markdown",
   "id": "e333839d",
   "metadata": {
    "id": "e333839d"
   },
   "source": [
    "[![View notebook](https://img.shields.io/static/v1?label=render%20on&logo=github&color=87ce3e&message=GitHub)](https://github.com/open-atmos/PyMPDATA/blob/main/examples/PyMPDATA_examples/advection_diffusion_2d/advection-diffusion-2d.ipynb)\n",
    "[![Binder](https://mybinder.org/badge_logo.svg)](https://mybinder.org/v2/gh/open-atmos/PyMPDATA.git/main?urlpath=lab/tree/examples/PyMPDATA_examples/advection_diffusion_2d/advection-diffusion-2d.ipynb)\n",
    "[![Open In Colab](https://colab.research.google.com/assets/colab-badge.svg)](https://colab.research.google.com/github/open-atmos/PyMPDATA/blob/main/examples/PyMPDATA_examples/advection_diffusion_2d/advection-diffusion-2d.ipynb)"
   ]
  },
  {
   "metadata": {},
   "cell_type": "markdown",
   "source": [
    "This notebook is a short example of solving the advection-diffusion equation in 2D using PyMPDATA.\n",
    "\n",
    "The initial condition is given by the following formula:\n",
    "$$\n",
    "z(x, y, t) = \\sin(\\omega(x - u_x t + y - u_y t)) \\exp(-2 \\mu t \\omega^2) + 1\n",
    "$$\n",
    "After the simulation, the final condition is compared with the analytical solution at $t = nt*dt$.\n",
    "At the end a gif animation is created showing the evolution of the solution."
   ],
   "id": "cbf5150bc68107de"
  },
  {
   "metadata": {
    "ExecuteTime": {
     "end_time": "2024-10-06T23:11:26.258690Z",
     "start_time": "2024-10-06T23:11:26.253715Z"
    }
   },
   "cell_type": "code",
   "source": [
    "import sys\n",
    "if 'google.colab' in sys.modules:\n",
    "    !pip --quiet install open-atmos-jupyter-utils\n",
    "    from open_atmos_jupyter_utils import pip_install_on_colab\n",
    "    pip_install_on_colab('PyMPDATA-examples')"
   ],
   "id": "e333666d",
   "outputs": [],
   "execution_count": 1
  },
  {
   "cell_type": "code",
   "id": "43d2893d-f472-43ac-ad5b-bf342a3783b9",
   "metadata": {
    "id": "43d2893d-f472-43ac-ad5b-bf342a3783b9",
    "ExecuteTime": {
     "end_time": "2024-10-06T23:11:26.863898Z",
     "start_time": "2024-10-06T23:11:26.259697Z"
    }
   },
   "source": [
    "from open_atmos_jupyter_utils import show_plot"
   ],
   "outputs": [],
   "execution_count": 2
  },
  {
   "cell_type": "code",
   "id": "9aaadc4a5234804a",
   "metadata": {
    "id": "9aaadc4a5234804a",
    "ExecuteTime": {
     "end_time": "2024-10-06T23:11:27.160564Z",
     "start_time": "2024-10-06T23:11:26.864904Z"
    }
   },
   "source": [
    "import os\n",
    "import numpy as np\n",
    "import imageio\n",
    "from IPython.display import display\n",
    "from ipywidgets import FloatProgress\n",
    "import matplotlib.pyplot as plt\n",
    "from PyMPDATA import Solver, ScalarField, VectorField, Stepper, Options\n",
    "from PyMPDATA.boundary_conditions import Periodic"
   ],
   "outputs": [],
   "execution_count": 3
  },
  {
   "cell_type": "code",
   "id": "a563a769a256feba",
   "metadata": {
    "id": "a563a769a256feba",
    "ExecuteTime": {
     "end_time": "2024-10-06T23:11:27.164785Z",
     "start_time": "2024-10-06T23:11:27.160564Z"
    }
   },
   "source": [
    "mu = 0.0005 # diffusion coefficient\n",
    "dt = 0.025\n",
    "tmax = 5.0\n",
    "nt = int(tmax / dt)\n",
    "\n",
    "nx = 32\n",
    "ny = 32\n",
    "ux  = 0.25\n",
    "uy = 0.25\n",
    "\n",
    "omega = np.pi\n",
    "\n",
    "min_x, min_y = -1, -1\n",
    "max_x, max_y = 1, 1\n",
    "dx = (max_x - min_x) / nx\n",
    "dy = (max_y - min_y) / ny\n",
    "Cx = ux * dt / dx\n",
    "Cy = uy * dt / dy"
   ],
   "outputs": [],
   "execution_count": 4
  },
  {
   "cell_type": "code",
   "id": "9a0f60b51e32ce3e",
   "metadata": {
    "id": "9a0f60b51e32ce3e",
    "ExecuteTime": {
     "end_time": "2024-10-06T23:11:27.175714Z",
     "start_time": "2024-10-06T23:11:27.166800Z"
    }
   },
   "source": [
    "opt = Options(n_iters=3, non_zero_mu_coeff=True)\n",
    "boundary_conditions = (Periodic(), Periodic())"
   ],
   "outputs": [],
   "execution_count": 5
  },
  {
   "cell_type": "code",
   "id": "cab790be5c425ea5",
   "metadata": {
    "id": "cab790be5c425ea5",
    "ExecuteTime": {
     "end_time": "2024-10-06T23:11:27.183911Z",
     "start_time": "2024-10-06T23:11:27.176708Z"
    }
   },
   "source": [
    "def analytic_solution(x, y, t):\n",
    "    return np.sin(omega*(x-ux*t+y-uy*t))*np.exp(-2*mu*t*omega**2) + 1"
   ],
   "outputs": [],
   "execution_count": 6
  },
  {
   "cell_type": "code",
   "id": "b454a74473b8f900",
   "metadata": {
    "id": "b454a74473b8f900",
    "ExecuteTime": {
     "end_time": "2024-10-06T23:11:27.196754Z",
     "start_time": "2024-10-06T23:11:27.184906Z"
    }
   },
   "source": [
    "def z(t):\n",
    "    return np.array(\n",
    "    [\n",
    "        analytic_solution(x, y, t=t) for x in np.linspace(min_x, max_x, nx)\n",
    "        for y in np.linspace(min_y, max_y, ny)\n",
    "    ],\n",
    "    dtype=float\n",
    ").reshape((nx, ny))\n",
    "\n",
    "advectee = ScalarField(data=z(t=0), halo=opt.n_halo, boundary_conditions=boundary_conditions)"
   ],
   "outputs": [],
   "execution_count": 7
  },
  {
   "cell_type": "code",
   "id": "fb28f958a4920cd",
   "metadata": {
    "id": "fb28f958a4920cd",
    "ExecuteTime": {
     "end_time": "2024-10-06T23:11:27.205460Z",
     "start_time": "2024-10-06T23:11:27.197758Z"
    }
   },
   "source": [
    "field_x = np.full((nx+1, ny), Cx, dtype=opt.dtype)\n",
    "field_y = np.full((nx, ny+1), Cy, dtype=opt.dtype)\n",
    "\n",
    "advector = VectorField(\n",
    "    data=(field_x, field_y),\n",
    "    halo=opt.n_halo,\n",
    "    boundary_conditions=(boundary_conditions[0], Periodic())\n",
    ")"
   ],
   "outputs": [],
   "execution_count": 8
  },
  {
   "cell_type": "code",
   "id": "45c8ea60d8490cd4",
   "metadata": {
    "id": "45c8ea60d8490cd4",
    "ExecuteTime": {
     "end_time": "2024-10-06T23:11:27.793980Z",
     "start_time": "2024-10-06T23:11:27.206463Z"
    }
   },
   "source": [
    "stepper = Stepper(options=opt, n_dims=2)\n",
    "solver = Solver(stepper=stepper, advector=advector, advectee=advectee)"
   ],
   "outputs": [],
   "execution_count": 9
  },
  {
   "cell_type": "code",
   "id": "bd4722c47297508c",
   "metadata": {
    "id": "bd4722c47297508c",
    "ExecuteTime": {
     "end_time": "2024-10-06T23:11:27.798983Z",
     "start_time": "2024-10-06T23:11:27.793980Z"
    }
   },
   "source": [
    "vmin = np.min(solver.advectee.get())\n",
    "vmax = np.max(solver.advectee.get())"
   ],
   "outputs": [],
   "execution_count": 10
  },
  {
   "cell_type": "code",
   "id": "d7a5cd43651621e6",
   "metadata": {
    "id": "d7a5cd43651621e6",
    "outputId": "dcf9d10e-7f93-4491-8c26-a24e322eb4ee",
    "colab": {
     "base_uri": "https://localhost:8080/",
     "height": 536,
     "referenced_widgets": [
      "b9d1816d5a654d6ebe8ae2e16d208a19",
      "e663abfe8286438eb9167e754bd34acf",
      "d8192599570541fdb63ee75a58ed85bd",
      "836e153bf47940cdaeec16935e1446c7",
      "3728933c94ef4d52a7550178efb974c0",
      "af3810389cc94bf7a6acd1959ebd9589",
      "6c73b2ac6e234f9fb3417c68fa6ddf27",
      "7beb942afc804d6fb76cf4857c273eed"
     ]
    },
    "ExecuteTime": {
     "end_time": "2024-10-06T23:11:28.131045Z",
     "start_time": "2024-10-06T23:11:27.799983Z"
    }
   },
   "source": [
    "plt.figure(figsize=(6, 6))\n",
    "plt.imshow(solver.advectee.get().copy(), cmap='viridis', vmin=vmin, vmax=vmax)\n",
    "plt.colorbar()\n",
    "plt.xlabel('x')\n",
    "plt.ylabel('y')\n",
    "plt.title('Initial condition')\n",
    "show_plot(\"fig_1\")"
   ],
   "outputs": [
    {
     "data": {
      "text/plain": [
       "<Figure size 600x600 with 2 Axes>"
      ],
      "image/svg+xml": "<?xml version=\"1.0\" encoding=\"utf-8\" standalone=\"no\"?>\n<!DOCTYPE svg PUBLIC \"-//W3C//DTD SVG 1.1//EN\"\n  \"http://www.w3.org/Graphics/SVG/1.1/DTD/svg11.dtd\">\n<svg xmlns:xlink=\"http://www.w3.org/1999/xlink\" width=\"378.28075pt\" height=\"347.04pt\" viewBox=\"0 0 378.28075 347.04\" xmlns=\"http://www.w3.org/2000/svg\" version=\"1.1\">\n <metadata>\n  <rdf:RDF xmlns:dc=\"http://purl.org/dc/elements/1.1/\" xmlns:cc=\"http://creativecommons.org/ns#\" xmlns:rdf=\"http://www.w3.org/1999/02/22-rdf-syntax-ns#\">\n   <cc:Work>\n    <dc:type rdf:resource=\"http://purl.org/dc/dcmitype/StillImage\"/>\n    <dc:date>2024-10-07T01:11:28.082121</dc:date>\n    <dc:format>image/svg+xml</dc:format>\n    <dc:creator>\n     <cc:Agent>\n      <dc:title>Matplotlib v3.9.1, https://matplotlib.org/</dc:title>\n     </cc:Agent>\n    </dc:creator>\n   </cc:Work>\n  </rdf:RDF>\n </metadata>\n <defs>\n  <style type=\"text/css\">*{stroke-linejoin: round; stroke-linecap: butt}</style>\n </defs>\n <g id=\"figure_1\">\n  <g id=\"patch_1\">\n   <path d=\"M 0 347.04 \nL 378.28075 347.04 \nL 378.28075 -0 \nL 0 -0 \nz\n\" style=\"fill: #ffffff\"/>\n  </g>\n  <g id=\"axes_1\">\n   <g id=\"patch_2\">\n    <path d=\"M 40.603125 307.44 \nL 308.443125 307.44 \nL 308.443125 39.6 \nL 40.603125 39.6 \nz\n\" style=\"fill: #ffffff\"/>\n   </g>\n   <g clip-path=\"url(#p50c9bb12ff)\">\n    <image xlink:href=\"data:image/png;base64,\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\" id=\"image9379462ea6\" transform=\"scale(1 -1) translate(0 -268.56)\" x=\"40.603125\" y=\"-38.88\" width=\"268.56\" height=\"268.56\"/>\n   </g>\n   <g id=\"matplotlib.axis_1\">\n    <g id=\"xtick_1\">\n     <g id=\"line2d_1\">\n      <defs>\n       <path id=\"mba4843abe6\" d=\"M 0 0 \nL 0 3.5 \n\" style=\"stroke: #000000; stroke-width: 0.8\"/>\n      </defs>\n      <g>\n       <use xlink:href=\"#mba4843abe6\" x=\"44.788125\" y=\"307.44\" style=\"stroke: #000000; stroke-width: 0.8\"/>\n      </g>\n     </g>\n     <g id=\"text_1\">\n      <!-- 0 -->\n      <g transform=\"translate(41.606875 322.038438) scale(0.1 -0.1)\">\n       <defs>\n        <path id=\"DejaVuSans-30\" d=\"M 2034 4250 \nQ 1547 4250 1301 3770 \nQ 1056 3291 1056 2328 \nQ 1056 1369 1301 889 \nQ 1547 409 2034 409 \nQ 2525 409 2770 889 \nQ 3016 1369 3016 2328 \nQ 3016 3291 2770 3770 \nQ 2525 4250 2034 4250 \nz\nM 2034 4750 \nQ 2819 4750 3233 4129 \nQ 3647 3509 3647 2328 \nQ 3647 1150 3233 529 \nQ 2819 -91 2034 -91 \nQ 1250 -91 836 529 \nQ 422 1150 422 2328 \nQ 422 3509 836 4129 \nQ 1250 4750 2034 4750 \nz\n\" transform=\"scale(0.015625)\"/>\n       </defs>\n       <use xlink:href=\"#DejaVuSans-30\"/>\n      </g>\n     </g>\n    </g>\n    <g id=\"xtick_2\">\n     <g id=\"line2d_2\">\n      <g>\n       <use xlink:href=\"#mba4843abe6\" x=\"86.638125\" y=\"307.44\" style=\"stroke: #000000; stroke-width: 0.8\"/>\n      </g>\n     </g>\n     <g id=\"text_2\">\n      <!-- 5 -->\n      <g transform=\"translate(83.456875 322.038438) scale(0.1 -0.1)\">\n       <defs>\n        <path id=\"DejaVuSans-35\" d=\"M 691 4666 \nL 3169 4666 \nL 3169 4134 \nL 1269 4134 \nL 1269 2991 \nQ 1406 3038 1543 3061 \nQ 1681 3084 1819 3084 \nQ 2600 3084 3056 2656 \nQ 3513 2228 3513 1497 \nQ 3513 744 3044 326 \nQ 2575 -91 1722 -91 \nQ 1428 -91 1123 -41 \nQ 819 9 494 109 \nL 494 744 \nQ 775 591 1075 516 \nQ 1375 441 1709 441 \nQ 2250 441 2565 725 \nQ 2881 1009 2881 1497 \nQ 2881 1984 2565 2268 \nQ 2250 2553 1709 2553 \nQ 1456 2553 1204 2497 \nQ 953 2441 691 2322 \nL 691 4666 \nz\n\" transform=\"scale(0.015625)\"/>\n       </defs>\n       <use xlink:href=\"#DejaVuSans-35\"/>\n      </g>\n     </g>\n    </g>\n    <g id=\"xtick_3\">\n     <g id=\"line2d_3\">\n      <g>\n       <use xlink:href=\"#mba4843abe6\" x=\"128.488125\" y=\"307.44\" style=\"stroke: #000000; stroke-width: 0.8\"/>\n      </g>\n     </g>\n     <g id=\"text_3\">\n      <!-- 10 -->\n      <g transform=\"translate(122.125625 322.038438) scale(0.1 -0.1)\">\n       <defs>\n        <path id=\"DejaVuSans-31\" d=\"M 794 531 \nL 1825 531 \nL 1825 4091 \nL 703 3866 \nL 703 4441 \nL 1819 4666 \nL 2450 4666 \nL 2450 531 \nL 3481 531 \nL 3481 0 \nL 794 0 \nL 794 531 \nz\n\" transform=\"scale(0.015625)\"/>\n       </defs>\n       <use xlink:href=\"#DejaVuSans-31\"/>\n       <use xlink:href=\"#DejaVuSans-30\" x=\"63.623047\"/>\n      </g>\n     </g>\n    </g>\n    <g id=\"xtick_4\">\n     <g id=\"line2d_4\">\n      <g>\n       <use xlink:href=\"#mba4843abe6\" x=\"170.338125\" y=\"307.44\" style=\"stroke: #000000; stroke-width: 0.8\"/>\n      </g>\n     </g>\n     <g id=\"text_4\">\n      <!-- 15 -->\n      <g transform=\"translate(163.975625 322.038438) scale(0.1 -0.1)\">\n       <use xlink:href=\"#DejaVuSans-31\"/>\n       <use xlink:href=\"#DejaVuSans-35\" x=\"63.623047\"/>\n      </g>\n     </g>\n    </g>\n    <g id=\"xtick_5\">\n     <g id=\"line2d_5\">\n      <g>\n       <use xlink:href=\"#mba4843abe6\" x=\"212.188125\" y=\"307.44\" style=\"stroke: #000000; stroke-width: 0.8\"/>\n      </g>\n     </g>\n     <g id=\"text_5\">\n      <!-- 20 -->\n      <g transform=\"translate(205.825625 322.038438) scale(0.1 -0.1)\">\n       <defs>\n        <path id=\"DejaVuSans-32\" d=\"M 1228 531 \nL 3431 531 \nL 3431 0 \nL 469 0 \nL 469 531 \nQ 828 903 1448 1529 \nQ 2069 2156 2228 2338 \nQ 2531 2678 2651 2914 \nQ 2772 3150 2772 3378 \nQ 2772 3750 2511 3984 \nQ 2250 4219 1831 4219 \nQ 1534 4219 1204 4116 \nQ 875 4013 500 3803 \nL 500 4441 \nQ 881 4594 1212 4672 \nQ 1544 4750 1819 4750 \nQ 2544 4750 2975 4387 \nQ 3406 4025 3406 3419 \nQ 3406 3131 3298 2873 \nQ 3191 2616 2906 2266 \nQ 2828 2175 2409 1742 \nQ 1991 1309 1228 531 \nz\n\" transform=\"scale(0.015625)\"/>\n       </defs>\n       <use xlink:href=\"#DejaVuSans-32\"/>\n       <use xlink:href=\"#DejaVuSans-30\" x=\"63.623047\"/>\n      </g>\n     </g>\n    </g>\n    <g id=\"xtick_6\">\n     <g id=\"line2d_6\">\n      <g>\n       <use xlink:href=\"#mba4843abe6\" x=\"254.038125\" y=\"307.44\" style=\"stroke: #000000; stroke-width: 0.8\"/>\n      </g>\n     </g>\n     <g id=\"text_6\">\n      <!-- 25 -->\n      <g transform=\"translate(247.675625 322.038438) scale(0.1 -0.1)\">\n       <use xlink:href=\"#DejaVuSans-32\"/>\n       <use xlink:href=\"#DejaVuSans-35\" x=\"63.623047\"/>\n      </g>\n     </g>\n    </g>\n    <g id=\"xtick_7\">\n     <g id=\"line2d_7\">\n      <g>\n       <use xlink:href=\"#mba4843abe6\" x=\"295.888125\" y=\"307.44\" style=\"stroke: #000000; stroke-width: 0.8\"/>\n      </g>\n     </g>\n     <g id=\"text_7\">\n      <!-- 30 -->\n      <g transform=\"translate(289.525625 322.038438) scale(0.1 -0.1)\">\n       <defs>\n        <path id=\"DejaVuSans-33\" d=\"M 2597 2516 \nQ 3050 2419 3304 2112 \nQ 3559 1806 3559 1356 \nQ 3559 666 3084 287 \nQ 2609 -91 1734 -91 \nQ 1441 -91 1130 -33 \nQ 819 25 488 141 \nL 488 750 \nQ 750 597 1062 519 \nQ 1375 441 1716 441 \nQ 2309 441 2620 675 \nQ 2931 909 2931 1356 \nQ 2931 1769 2642 2001 \nQ 2353 2234 1838 2234 \nL 1294 2234 \nL 1294 2753 \nL 1863 2753 \nQ 2328 2753 2575 2939 \nQ 2822 3125 2822 3475 \nQ 2822 3834 2567 4026 \nQ 2313 4219 1838 4219 \nQ 1578 4219 1281 4162 \nQ 984 4106 628 3988 \nL 628 4550 \nQ 988 4650 1302 4700 \nQ 1616 4750 1894 4750 \nQ 2613 4750 3031 4423 \nQ 3450 4097 3450 3541 \nQ 3450 3153 3228 2886 \nQ 3006 2619 2597 2516 \nz\n\" transform=\"scale(0.015625)\"/>\n       </defs>\n       <use xlink:href=\"#DejaVuSans-33\"/>\n       <use xlink:href=\"#DejaVuSans-30\" x=\"63.623047\"/>\n      </g>\n     </g>\n    </g>\n    <g id=\"text_8\">\n     <!-- x -->\n     <g transform=\"translate(171.56375 335.716563) scale(0.1 -0.1)\">\n      <defs>\n       <path id=\"DejaVuSans-78\" d=\"M 3513 3500 \nL 2247 1797 \nL 3578 0 \nL 2900 0 \nL 1881 1375 \nL 863 0 \nL 184 0 \nL 1544 1831 \nL 300 3500 \nL 978 3500 \nL 1906 2253 \nL 2834 3500 \nL 3513 3500 \nz\n\" transform=\"scale(0.015625)\"/>\n      </defs>\n      <use xlink:href=\"#DejaVuSans-78\"/>\n     </g>\n    </g>\n   </g>\n   <g id=\"matplotlib.axis_2\">\n    <g id=\"ytick_1\">\n     <g id=\"line2d_8\">\n      <defs>\n       <path id=\"m54b6be512e\" d=\"M 0 0 \nL -3.5 0 \n\" style=\"stroke: #000000; stroke-width: 0.8\"/>\n      </defs>\n      <g>\n       <use xlink:href=\"#m54b6be512e\" x=\"40.603125\" y=\"43.785\" style=\"stroke: #000000; stroke-width: 0.8\"/>\n      </g>\n     </g>\n     <g id=\"text_9\">\n      <!-- 0 -->\n      <g transform=\"translate(27.240625 47.584219) scale(0.1 -0.1)\">\n       <use xlink:href=\"#DejaVuSans-30\"/>\n      </g>\n     </g>\n    </g>\n    <g id=\"ytick_2\">\n     <g id=\"line2d_9\">\n      <g>\n       <use xlink:href=\"#m54b6be512e\" x=\"40.603125\" y=\"85.635\" style=\"stroke: #000000; stroke-width: 0.8\"/>\n      </g>\n     </g>\n     <g id=\"text_10\">\n      <!-- 5 -->\n      <g transform=\"translate(27.240625 89.434219) scale(0.1 -0.1)\">\n       <use xlink:href=\"#DejaVuSans-35\"/>\n      </g>\n     </g>\n    </g>\n    <g id=\"ytick_3\">\n     <g id=\"line2d_10\">\n      <g>\n       <use xlink:href=\"#m54b6be512e\" x=\"40.603125\" y=\"127.485\" style=\"stroke: #000000; stroke-width: 0.8\"/>\n      </g>\n     </g>\n     <g id=\"text_11\">\n      <!-- 10 -->\n      <g transform=\"translate(20.878125 131.284219) scale(0.1 -0.1)\">\n       <use xlink:href=\"#DejaVuSans-31\"/>\n       <use xlink:href=\"#DejaVuSans-30\" x=\"63.623047\"/>\n      </g>\n     </g>\n    </g>\n    <g id=\"ytick_4\">\n     <g id=\"line2d_11\">\n      <g>\n       <use xlink:href=\"#m54b6be512e\" x=\"40.603125\" y=\"169.335\" style=\"stroke: #000000; stroke-width: 0.8\"/>\n      </g>\n     </g>\n     <g id=\"text_12\">\n      <!-- 15 -->\n      <g transform=\"translate(20.878125 173.134219) scale(0.1 -0.1)\">\n       <use xlink:href=\"#DejaVuSans-31\"/>\n       <use xlink:href=\"#DejaVuSans-35\" x=\"63.623047\"/>\n      </g>\n     </g>\n    </g>\n    <g id=\"ytick_5\">\n     <g id=\"line2d_12\">\n      <g>\n       <use xlink:href=\"#m54b6be512e\" x=\"40.603125\" y=\"211.185\" style=\"stroke: #000000; stroke-width: 0.8\"/>\n      </g>\n     </g>\n     <g id=\"text_13\">\n      <!-- 20 -->\n      <g transform=\"translate(20.878125 214.984219) scale(0.1 -0.1)\">\n       <use xlink:href=\"#DejaVuSans-32\"/>\n       <use xlink:href=\"#DejaVuSans-30\" x=\"63.623047\"/>\n      </g>\n     </g>\n    </g>\n    <g id=\"ytick_6\">\n     <g id=\"line2d_13\">\n      <g>\n       <use xlink:href=\"#m54b6be512e\" x=\"40.603125\" y=\"253.035\" style=\"stroke: #000000; stroke-width: 0.8\"/>\n      </g>\n     </g>\n     <g id=\"text_14\">\n      <!-- 25 -->\n      <g transform=\"translate(20.878125 256.834219) scale(0.1 -0.1)\">\n       <use xlink:href=\"#DejaVuSans-32\"/>\n       <use xlink:href=\"#DejaVuSans-35\" x=\"63.623047\"/>\n      </g>\n     </g>\n    </g>\n    <g id=\"ytick_7\">\n     <g id=\"line2d_14\">\n      <g>\n       <use xlink:href=\"#m54b6be512e\" x=\"40.603125\" y=\"294.885\" style=\"stroke: #000000; stroke-width: 0.8\"/>\n      </g>\n     </g>\n     <g id=\"text_15\">\n      <!-- 30 -->\n      <g transform=\"translate(20.878125 298.684219) scale(0.1 -0.1)\">\n       <use xlink:href=\"#DejaVuSans-33\"/>\n       <use xlink:href=\"#DejaVuSans-30\" x=\"63.623047\"/>\n      </g>\n     </g>\n    </g>\n    <g id=\"text_16\">\n     <!-- y -->\n     <g transform=\"translate(14.798438 176.479375) rotate(-90) scale(0.1 -0.1)\">\n      <defs>\n       <path id=\"DejaVuSans-79\" d=\"M 2059 -325 \nQ 1816 -950 1584 -1140 \nQ 1353 -1331 966 -1331 \nL 506 -1331 \nL 506 -850 \nL 844 -850 \nQ 1081 -850 1212 -737 \nQ 1344 -625 1503 -206 \nL 1606 56 \nL 191 3500 \nL 800 3500 \nL 1894 763 \nL 2988 3500 \nL 3597 3500 \nL 2059 -325 \nz\n\" transform=\"scale(0.015625)\"/>\n      </defs>\n      <use xlink:href=\"#DejaVuSans-79\"/>\n     </g>\n    </g>\n   </g>\n   <g id=\"patch_3\">\n    <path d=\"M 40.603125 307.44 \nL 40.603125 39.6 \n\" style=\"fill: none; stroke: #000000; stroke-width: 0.8; stroke-linejoin: miter; stroke-linecap: square\"/>\n   </g>\n   <g id=\"patch_4\">\n    <path d=\"M 308.443125 307.44 \nL 308.443125 39.6 \n\" style=\"fill: none; stroke: #000000; stroke-width: 0.8; stroke-linejoin: miter; stroke-linecap: square\"/>\n   </g>\n   <g id=\"patch_5\">\n    <path d=\"M 40.603125 307.44 \nL 308.443125 307.44 \n\" style=\"fill: none; stroke: #000000; stroke-width: 0.8; stroke-linejoin: miter; stroke-linecap: square\"/>\n   </g>\n   <g id=\"patch_6\">\n    <path d=\"M 40.603125 39.6 \nL 308.443125 39.6 \n\" style=\"fill: none; stroke: #000000; stroke-width: 0.8; stroke-linejoin: miter; stroke-linecap: square\"/>\n   </g>\n   <g id=\"text_17\">\n    <!-- Initial condition -->\n    <g transform=\"translate(128.2725 33.6) scale(0.12 -0.12)\">\n     <defs>\n      <path id=\"DejaVuSans-49\" d=\"M 628 4666 \nL 1259 4666 \nL 1259 0 \nL 628 0 \nL 628 4666 \nz\n\" transform=\"scale(0.015625)\"/>\n      <path id=\"DejaVuSans-6e\" d=\"M 3513 2113 \nL 3513 0 \nL 2938 0 \nL 2938 2094 \nQ 2938 2591 2744 2837 \nQ 2550 3084 2163 3084 \nQ 1697 3084 1428 2787 \nQ 1159 2491 1159 1978 \nL 1159 0 \nL 581 0 \nL 581 3500 \nL 1159 3500 \nL 1159 2956 \nQ 1366 3272 1645 3428 \nQ 1925 3584 2291 3584 \nQ 2894 3584 3203 3211 \nQ 3513 2838 3513 2113 \nz\n\" transform=\"scale(0.015625)\"/>\n      <path id=\"DejaVuSans-69\" d=\"M 603 3500 \nL 1178 3500 \nL 1178 0 \nL 603 0 \nL 603 3500 \nz\nM 603 4863 \nL 1178 4863 \nL 1178 4134 \nL 603 4134 \nL 603 4863 \nz\n\" transform=\"scale(0.015625)\"/>\n      <path id=\"DejaVuSans-74\" d=\"M 1172 4494 \nL 1172 3500 \nL 2356 3500 \nL 2356 3053 \nL 1172 3053 \nL 1172 1153 \nQ 1172 725 1289 603 \nQ 1406 481 1766 481 \nL 2356 481 \nL 2356 0 \nL 1766 0 \nQ 1100 0 847 248 \nQ 594 497 594 1153 \nL 594 3053 \nL 172 3053 \nL 172 3500 \nL 594 3500 \nL 594 4494 \nL 1172 4494 \nz\n\" transform=\"scale(0.015625)\"/>\n      <path id=\"DejaVuSans-61\" d=\"M 2194 1759 \nQ 1497 1759 1228 1600 \nQ 959 1441 959 1056 \nQ 959 750 1161 570 \nQ 1363 391 1709 391 \nQ 2188 391 2477 730 \nQ 2766 1069 2766 1631 \nL 2766 1759 \nL 2194 1759 \nz\nM 3341 1997 \nL 3341 0 \nL 2766 0 \nL 2766 531 \nQ 2569 213 2275 61 \nQ 1981 -91 1556 -91 \nQ 1019 -91 701 211 \nQ 384 513 384 1019 \nQ 384 1609 779 1909 \nQ 1175 2209 1959 2209 \nL 2766 2209 \nL 2766 2266 \nQ 2766 2663 2505 2880 \nQ 2244 3097 1772 3097 \nQ 1472 3097 1187 3025 \nQ 903 2953 641 2809 \nL 641 3341 \nQ 956 3463 1253 3523 \nQ 1550 3584 1831 3584 \nQ 2591 3584 2966 3190 \nQ 3341 2797 3341 1997 \nz\n\" transform=\"scale(0.015625)\"/>\n      <path id=\"DejaVuSans-6c\" d=\"M 603 4863 \nL 1178 4863 \nL 1178 0 \nL 603 0 \nL 603 4863 \nz\n\" transform=\"scale(0.015625)\"/>\n      <path id=\"DejaVuSans-20\" transform=\"scale(0.015625)\"/>\n      <path id=\"DejaVuSans-63\" d=\"M 3122 3366 \nL 3122 2828 \nQ 2878 2963 2633 3030 \nQ 2388 3097 2138 3097 \nQ 1578 3097 1268 2742 \nQ 959 2388 959 1747 \nQ 959 1106 1268 751 \nQ 1578 397 2138 397 \nQ 2388 397 2633 464 \nQ 2878 531 3122 666 \nL 3122 134 \nQ 2881 22 2623 -34 \nQ 2366 -91 2075 -91 \nQ 1284 -91 818 406 \nQ 353 903 353 1747 \nQ 353 2603 823 3093 \nQ 1294 3584 2113 3584 \nQ 2378 3584 2631 3529 \nQ 2884 3475 3122 3366 \nz\n\" transform=\"scale(0.015625)\"/>\n      <path id=\"DejaVuSans-6f\" d=\"M 1959 3097 \nQ 1497 3097 1228 2736 \nQ 959 2375 959 1747 \nQ 959 1119 1226 758 \nQ 1494 397 1959 397 \nQ 2419 397 2687 759 \nQ 2956 1122 2956 1747 \nQ 2956 2369 2687 2733 \nQ 2419 3097 1959 3097 \nz\nM 1959 3584 \nQ 2709 3584 3137 3096 \nQ 3566 2609 3566 1747 \nQ 3566 888 3137 398 \nQ 2709 -91 1959 -91 \nQ 1206 -91 779 398 \nQ 353 888 353 1747 \nQ 353 2609 779 3096 \nQ 1206 3584 1959 3584 \nz\n\" transform=\"scale(0.015625)\"/>\n      <path id=\"DejaVuSans-64\" d=\"M 2906 2969 \nL 2906 4863 \nL 3481 4863 \nL 3481 0 \nL 2906 0 \nL 2906 525 \nQ 2725 213 2448 61 \nQ 2172 -91 1784 -91 \nQ 1150 -91 751 415 \nQ 353 922 353 1747 \nQ 353 2572 751 3078 \nQ 1150 3584 1784 3584 \nQ 2172 3584 2448 3432 \nQ 2725 3281 2906 2969 \nz\nM 947 1747 \nQ 947 1113 1208 752 \nQ 1469 391 1925 391 \nQ 2381 391 2643 752 \nQ 2906 1113 2906 1747 \nQ 2906 2381 2643 2742 \nQ 2381 3103 1925 3103 \nQ 1469 3103 1208 2742 \nQ 947 2381 947 1747 \nz\n\" transform=\"scale(0.015625)\"/>\n     </defs>\n     <use xlink:href=\"#DejaVuSans-49\"/>\n     <use xlink:href=\"#DejaVuSans-6e\" x=\"29.492188\"/>\n     <use xlink:href=\"#DejaVuSans-69\" x=\"92.871094\"/>\n     <use xlink:href=\"#DejaVuSans-74\" x=\"120.654297\"/>\n     <use xlink:href=\"#DejaVuSans-69\" x=\"159.863281\"/>\n     <use xlink:href=\"#DejaVuSans-61\" x=\"187.646484\"/>\n     <use xlink:href=\"#DejaVuSans-6c\" x=\"248.925781\"/>\n     <use xlink:href=\"#DejaVuSans-20\" x=\"276.708984\"/>\n     <use xlink:href=\"#DejaVuSans-63\" x=\"308.496094\"/>\n     <use xlink:href=\"#DejaVuSans-6f\" x=\"363.476562\"/>\n     <use xlink:href=\"#DejaVuSans-6e\" x=\"424.658203\"/>\n     <use xlink:href=\"#DejaVuSans-64\" x=\"488.037109\"/>\n     <use xlink:href=\"#DejaVuSans-69\" x=\"551.513672\"/>\n     <use xlink:href=\"#DejaVuSans-74\" x=\"579.296875\"/>\n     <use xlink:href=\"#DejaVuSans-69\" x=\"618.505859\"/>\n     <use xlink:href=\"#DejaVuSans-6f\" x=\"646.289062\"/>\n     <use xlink:href=\"#DejaVuSans-6e\" x=\"707.470703\"/>\n    </g>\n   </g>\n  </g>\n  <g id=\"axes_2\">\n   <g id=\"patch_7\">\n    <path d=\"M 325.183125 339.84 \nL 341.815125 339.84 \nL 341.815125 7.2 \nL 325.183125 7.2 \nz\n\" style=\"fill: #ffffff\"/>\n   </g>\n   <image xlink:href=\"data:image/png;base64,\niVBORw0KGgoAAAANSUhEUgAAABcAAAHOCAYAAABzbJLzAAACU0lEQVR4nO2d223kQBADR4/QLoTLPxTbAWz5kwYKqAqg0SDZPRqtDV3/rv/fZ8S9KnzOOe+5dvW3nV/3tSueLERRRN4j1nw4RNetNXQoyzqKaf6Jd/zfq60IFEXE3PlwcZllqXOgxYWYNR8ecxmK1Dli7nz7SsQqy7e282X5hgjZvhLxytIQEd4oejsviojX0BYX8p5d42pDGyJgPUS74l7NpxPaVkTEZ6hY8+VJ1G4h2ueIeOVO385lKNEQIS0uLl4UiaKIqDXfFffe/c2yaDtv/Anv+CcLUhSRNOfiZlms+9ys+a64V/MMRbyGpjnS4xwijqK389KCxWf/G37MstQ50hBx8WQh6hwpLX9fPEORNEfSHOkMRbyGeouXlr8vnqFImiNezd9z7V6KZCgiHiJv5/1MTKg7b3F9In7K9UZRa6h4iLxp6U5EFEWkxYVM0yI2dPhHf2JDG39kfBKdDP1kPf5p/kmaI9vx7yQiiiIiTstS87YiMu58WDzNke0QeXfLnaFAnSPTnBdFZDz+2ht0KxeLi6Oo7TzNCe/iylCkzpE6/6W49tEiQ4k6RxoiRG3o16x4miPbxzmxLNooPl7NxSvXmpbpGfpkKOA1tMWFvPfZpcVs6FCWhgh5H+/iWj6IimXRdt7pT3g1V8ti7Vx8Emk1Xx4W4kuu+AwVR1Gblu2dSGtoUQQaf2R7Enmj2BlKeG8W3vHPUKQ7ESJeuaUFi3tl8XY+/MBvmjPvsvr7iA21fodrWX39CO3VfPhpcnMUrZ2bo7ir703L+1xeWaSd/wB+8I6eHECmoAAAAABJRU5ErkJggg==\" id=\"image5071d2e9d7\" transform=\"scale(1 -1) translate(0 -332.64)\" x=\"325.44\" y=\"-7.2\" width=\"16.56\" height=\"332.64\"/>\n   <g id=\"matplotlib.axis_3\"/>\n   <g id=\"matplotlib.axis_4\">\n    <g id=\"ytick_8\">\n     <g id=\"line2d_15\">\n      <defs>\n       <path id=\"m88a8e92da6\" d=\"M 0 0 \nL 3.5 0 \n\" style=\"stroke: #000000; stroke-width: 0.8\"/>\n      </defs>\n      <g>\n       <use xlink:href=\"#m88a8e92da6\" x=\"341.815125\" y=\"298.420309\" style=\"stroke: #000000; stroke-width: 0.8\"/>\n      </g>\n     </g>\n     <g id=\"text_18\">\n      <!-- 0.25 -->\n      <g transform=\"translate(348.815125 302.219527) scale(0.1 -0.1)\">\n       <defs>\n        <path id=\"DejaVuSans-2e\" d=\"M 684 794 \nL 1344 794 \nL 1344 0 \nL 684 0 \nL 684 794 \nz\n\" transform=\"scale(0.015625)\"/>\n       </defs>\n       <use xlink:href=\"#DejaVuSans-30\"/>\n       <use xlink:href=\"#DejaVuSans-2e\" x=\"63.623047\"/>\n       <use xlink:href=\"#DejaVuSans-32\" x=\"95.410156\"/>\n       <use xlink:href=\"#DejaVuSans-35\" x=\"159.033203\"/>\n      </g>\n     </g>\n    </g>\n    <g id=\"ytick_9\">\n     <g id=\"line2d_16\">\n      <g>\n       <use xlink:href=\"#m88a8e92da6\" x=\"341.815125\" y=\"256.786872\" style=\"stroke: #000000; stroke-width: 0.8\"/>\n      </g>\n     </g>\n     <g id=\"text_19\">\n      <!-- 0.50 -->\n      <g transform=\"translate(348.815125 260.586091) scale(0.1 -0.1)\">\n       <use xlink:href=\"#DejaVuSans-30\"/>\n       <use xlink:href=\"#DejaVuSans-2e\" x=\"63.623047\"/>\n       <use xlink:href=\"#DejaVuSans-35\" x=\"95.410156\"/>\n       <use xlink:href=\"#DejaVuSans-30\" x=\"159.033203\"/>\n      </g>\n     </g>\n    </g>\n    <g id=\"ytick_10\">\n     <g id=\"line2d_17\">\n      <g>\n       <use xlink:href=\"#m88a8e92da6\" x=\"341.815125\" y=\"215.153436\" style=\"stroke: #000000; stroke-width: 0.8\"/>\n      </g>\n     </g>\n     <g id=\"text_20\">\n      <!-- 0.75 -->\n      <g transform=\"translate(348.815125 218.952655) scale(0.1 -0.1)\">\n       <defs>\n        <path id=\"DejaVuSans-37\" d=\"M 525 4666 \nL 3525 4666 \nL 3525 4397 \nL 1831 0 \nL 1172 0 \nL 2766 4134 \nL 525 4134 \nL 525 4666 \nz\n\" transform=\"scale(0.015625)\"/>\n       </defs>\n       <use xlink:href=\"#DejaVuSans-30\"/>\n       <use xlink:href=\"#DejaVuSans-2e\" x=\"63.623047\"/>\n       <use xlink:href=\"#DejaVuSans-37\" x=\"95.410156\"/>\n       <use xlink:href=\"#DejaVuSans-35\" x=\"159.033203\"/>\n      </g>\n     </g>\n    </g>\n    <g id=\"ytick_11\">\n     <g id=\"line2d_18\">\n      <g>\n       <use xlink:href=\"#m88a8e92da6\" x=\"341.815125\" y=\"173.52\" style=\"stroke: #000000; stroke-width: 0.8\"/>\n      </g>\n     </g>\n     <g id=\"text_21\">\n      <!-- 1.00 -->\n      <g transform=\"translate(348.815125 177.319219) scale(0.1 -0.1)\">\n       <use xlink:href=\"#DejaVuSans-31\"/>\n       <use xlink:href=\"#DejaVuSans-2e\" x=\"63.623047\"/>\n       <use xlink:href=\"#DejaVuSans-30\" x=\"95.410156\"/>\n       <use xlink:href=\"#DejaVuSans-30\" x=\"159.033203\"/>\n      </g>\n     </g>\n    </g>\n    <g id=\"ytick_12\">\n     <g id=\"line2d_19\">\n      <g>\n       <use xlink:href=\"#m88a8e92da6\" x=\"341.815125\" y=\"131.886564\" style=\"stroke: #000000; stroke-width: 0.8\"/>\n      </g>\n     </g>\n     <g id=\"text_22\">\n      <!-- 1.25 -->\n      <g transform=\"translate(348.815125 135.685783) scale(0.1 -0.1)\">\n       <use xlink:href=\"#DejaVuSans-31\"/>\n       <use xlink:href=\"#DejaVuSans-2e\" x=\"63.623047\"/>\n       <use xlink:href=\"#DejaVuSans-32\" x=\"95.410156\"/>\n       <use xlink:href=\"#DejaVuSans-35\" x=\"159.033203\"/>\n      </g>\n     </g>\n    </g>\n    <g id=\"ytick_13\">\n     <g id=\"line2d_20\">\n      <g>\n       <use xlink:href=\"#m88a8e92da6\" x=\"341.815125\" y=\"90.253128\" style=\"stroke: #000000; stroke-width: 0.8\"/>\n      </g>\n     </g>\n     <g id=\"text_23\">\n      <!-- 1.50 -->\n      <g transform=\"translate(348.815125 94.052346) scale(0.1 -0.1)\">\n       <use xlink:href=\"#DejaVuSans-31\"/>\n       <use xlink:href=\"#DejaVuSans-2e\" x=\"63.623047\"/>\n       <use xlink:href=\"#DejaVuSans-35\" x=\"95.410156\"/>\n       <use xlink:href=\"#DejaVuSans-30\" x=\"159.033203\"/>\n      </g>\n     </g>\n    </g>\n    <g id=\"ytick_14\">\n     <g id=\"line2d_21\">\n      <g>\n       <use xlink:href=\"#m88a8e92da6\" x=\"341.815125\" y=\"48.619691\" style=\"stroke: #000000; stroke-width: 0.8\"/>\n      </g>\n     </g>\n     <g id=\"text_24\">\n      <!-- 1.75 -->\n      <g transform=\"translate(348.815125 52.41891) scale(0.1 -0.1)\">\n       <use xlink:href=\"#DejaVuSans-31\"/>\n       <use xlink:href=\"#DejaVuSans-2e\" x=\"63.623047\"/>\n       <use xlink:href=\"#DejaVuSans-37\" x=\"95.410156\"/>\n       <use xlink:href=\"#DejaVuSans-35\" x=\"159.033203\"/>\n      </g>\n     </g>\n    </g>\n   </g>\n   <g id=\"LineCollection_1\"/>\n   <g id=\"patch_8\">\n    <path d=\"M 325.183125 339.84 \nL 333.499125 339.84 \nL 341.815125 339.84 \nL 341.815125 7.2 \nL 333.499125 7.2 \nL 325.183125 7.2 \nL 325.183125 339.84 \nz\n\" style=\"fill: none; stroke: #000000; stroke-width: 0.8; stroke-linejoin: miter; stroke-linecap: square\"/>\n   </g>\n  </g>\n </g>\n <defs>\n  <clipPath id=\"p50c9bb12ff\">\n   <rect x=\"40.603125\" y=\"39.6\" width=\"267.84\" height=\"267.84\"/>\n  </clipPath>\n </defs>\n</svg>\n"
     },
     "metadata": {},
     "output_type": "display_data"
    },
    {
     "data": {
      "text/plain": [
       "HTML(value=\"<a href='.\\\\fig_1' target='_blank'>.\\\\fig_1</a><br>\")"
      ],
      "application/vnd.jupyter.widget-view+json": {
       "version_major": 2,
       "version_minor": 0,
       "model_id": "31882c4c3d1645349d21566edefb13b4"
      }
     },
     "metadata": {},
     "output_type": "display_data"
    }
   ],
   "execution_count": 11
  },
  {
   "cell_type": "code",
   "id": "2b279996b00be430",
   "metadata": {
    "id": "2b279996b00be430",
    "outputId": "9b04d6f4-e170-42bc-f79b-18114f7c4164",
    "colab": {
     "base_uri": "https://localhost:8080/",
     "height": 69,
     "referenced_widgets": [
      "fe1fa30d40ef469a8260c49eeec4f550",
      "96e4e27500f74f5486ba2a6b5a9922fd",
      "7a868cee328b47b9813059a82ecd8eba"
     ]
    },
    "ExecuteTime": {
     "end_time": "2024-10-06T23:12:06.444773Z",
     "start_time": "2024-10-06T23:11:28.132050Z"
    }
   },
   "source": [
    "progbar = FloatProgress(value=0, min=0, max=1)\n",
    "display(progbar)\n",
    "\n",
    "states_history = [solver.advectee.get().copy()]\n",
    "for i in range(nt//10):\n",
    "    solver.advance(n_steps=10, mu_coeff=(mu, mu))\n",
    "    states_history.append(solver.advectee.get().copy())\n",
    "    progbar.value = (i + 1.) / (nt//10)"
   ],
   "outputs": [
    {
     "data": {
      "text/plain": [
       "FloatProgress(value=0.0, max=1.0)"
      ],
      "application/vnd.jupyter.widget-view+json": {
       "version_major": 2,
       "version_minor": 0,
       "model_id": "67310f218f274c52825c4d22d0285f25"
      }
     },
     "metadata": {},
     "output_type": "display_data"
    }
   ],
   "execution_count": 12
  },
  {
   "cell_type": "code",
   "id": "2576fcdbfa20c032",
   "metadata": {
    "id": "2576fcdbfa20c032",
    "outputId": "d47a4681-9734-4553-d424-3830b5549d6d",
    "colab": {
     "base_uri": "https://localhost:8080/",
     "height": 536,
     "referenced_widgets": [
      "cb7153eb86dc4f4baf5cfe40af365cda",
      "fe07e1102b83432b8238b6a1505f1138",
      "ec52cd6ae6ad473e954a73b9666dbc38",
      "4a39ac354eec4bd6a627387e20ac0941",
      "7854a682f7dd419fab0ed63b87a86267",
      "cd26d032280247b68c6c54026a15d9e1",
      "91c4794be5304716a57802b89fe0ae77",
      "62f53d9eb0e04b358ea043a7969e23dc"
     ]
    },
    "ExecuteTime": {
     "end_time": "2024-10-06T23:12:06.734529Z",
     "start_time": "2024-10-06T23:12:06.445769Z"
    }
   },
   "source": [
    "plt.figure(figsize=(6, 6))\n",
    "plt.imshow(solver.advectee.get().copy(), cmap='viridis', vmin=vmin, vmax=vmax)\n",
    "plt.colorbar()\n",
    "plt.xlabel('x')\n",
    "plt.ylabel('y')\n",
    "plt.title('Final condition')\n",
    "show_plot(\"fig_2\")"
   ],
   "outputs": [
    {
     "data": {
      "text/plain": [
       "<Figure size 600x600 with 2 Axes>"
      ],
      "image/svg+xml": "<?xml version=\"1.0\" encoding=\"utf-8\" standalone=\"no\"?>\n<!DOCTYPE svg PUBLIC \"-//W3C//DTD SVG 1.1//EN\"\n  \"http://www.w3.org/Graphics/SVG/1.1/DTD/svg11.dtd\">\n<svg xmlns:xlink=\"http://www.w3.org/1999/xlink\" width=\"378.28075pt\" height=\"347.04pt\" viewBox=\"0 0 378.28075 347.04\" xmlns=\"http://www.w3.org/2000/svg\" version=\"1.1\">\n <metadata>\n  <rdf:RDF xmlns:dc=\"http://purl.org/dc/elements/1.1/\" xmlns:cc=\"http://creativecommons.org/ns#\" xmlns:rdf=\"http://www.w3.org/1999/02/22-rdf-syntax-ns#\">\n   <cc:Work>\n    <dc:type rdf:resource=\"http://purl.org/dc/dcmitype/StillImage\"/>\n    <dc:date>2024-10-07T01:12:06.687839</dc:date>\n    <dc:format>image/svg+xml</dc:format>\n    <dc:creator>\n     <cc:Agent>\n      <dc:title>Matplotlib v3.9.1, https://matplotlib.org/</dc:title>\n     </cc:Agent>\n    </dc:creator>\n   </cc:Work>\n  </rdf:RDF>\n </metadata>\n <defs>\n  <style type=\"text/css\">*{stroke-linejoin: round; stroke-linecap: butt}</style>\n </defs>\n <g id=\"figure_1\">\n  <g id=\"patch_1\">\n   <path d=\"M 0 347.04 \nL 378.28075 347.04 \nL 378.28075 -0 \nL 0 -0 \nz\n\" style=\"fill: #ffffff\"/>\n  </g>\n  <g id=\"axes_1\">\n   <g id=\"patch_2\">\n    <path d=\"M 40.603125 307.44 \nL 308.443125 307.44 \nL 308.443125 39.6 \nL 40.603125 39.6 \nz\n\" style=\"fill: #ffffff\"/>\n   </g>\n   <g clip-path=\"url(#pa293dc67c6)\">\n    <image xlink:href=\"data:image/png;base64,\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\" id=\"image8961468476\" transform=\"scale(1 -1) translate(0 -268.56)\" x=\"40.603125\" y=\"-38.88\" width=\"268.56\" height=\"268.56\"/>\n   </g>\n   <g id=\"matplotlib.axis_1\">\n    <g id=\"xtick_1\">\n     <g id=\"line2d_1\">\n      <defs>\n       <path id=\"mf8ce9a3e5c\" d=\"M 0 0 \nL 0 3.5 \n\" style=\"stroke: #000000; stroke-width: 0.8\"/>\n      </defs>\n      <g>\n       <use xlink:href=\"#mf8ce9a3e5c\" x=\"44.788125\" y=\"307.44\" style=\"stroke: #000000; stroke-width: 0.8\"/>\n      </g>\n     </g>\n     <g id=\"text_1\">\n      <!-- 0 -->\n      <g transform=\"translate(41.606875 322.038438) scale(0.1 -0.1)\">\n       <defs>\n        <path id=\"DejaVuSans-30\" d=\"M 2034 4250 \nQ 1547 4250 1301 3770 \nQ 1056 3291 1056 2328 \nQ 1056 1369 1301 889 \nQ 1547 409 2034 409 \nQ 2525 409 2770 889 \nQ 3016 1369 3016 2328 \nQ 3016 3291 2770 3770 \nQ 2525 4250 2034 4250 \nz\nM 2034 4750 \nQ 2819 4750 3233 4129 \nQ 3647 3509 3647 2328 \nQ 3647 1150 3233 529 \nQ 2819 -91 2034 -91 \nQ 1250 -91 836 529 \nQ 422 1150 422 2328 \nQ 422 3509 836 4129 \nQ 1250 4750 2034 4750 \nz\n\" transform=\"scale(0.015625)\"/>\n       </defs>\n       <use xlink:href=\"#DejaVuSans-30\"/>\n      </g>\n     </g>\n    </g>\n    <g id=\"xtick_2\">\n     <g id=\"line2d_2\">\n      <g>\n       <use xlink:href=\"#mf8ce9a3e5c\" x=\"86.638125\" y=\"307.44\" style=\"stroke: #000000; stroke-width: 0.8\"/>\n      </g>\n     </g>\n     <g id=\"text_2\">\n      <!-- 5 -->\n      <g transform=\"translate(83.456875 322.038438) scale(0.1 -0.1)\">\n       <defs>\n        <path id=\"DejaVuSans-35\" d=\"M 691 4666 \nL 3169 4666 \nL 3169 4134 \nL 1269 4134 \nL 1269 2991 \nQ 1406 3038 1543 3061 \nQ 1681 3084 1819 3084 \nQ 2600 3084 3056 2656 \nQ 3513 2228 3513 1497 \nQ 3513 744 3044 326 \nQ 2575 -91 1722 -91 \nQ 1428 -91 1123 -41 \nQ 819 9 494 109 \nL 494 744 \nQ 775 591 1075 516 \nQ 1375 441 1709 441 \nQ 2250 441 2565 725 \nQ 2881 1009 2881 1497 \nQ 2881 1984 2565 2268 \nQ 2250 2553 1709 2553 \nQ 1456 2553 1204 2497 \nQ 953 2441 691 2322 \nL 691 4666 \nz\n\" transform=\"scale(0.015625)\"/>\n       </defs>\n       <use xlink:href=\"#DejaVuSans-35\"/>\n      </g>\n     </g>\n    </g>\n    <g id=\"xtick_3\">\n     <g id=\"line2d_3\">\n      <g>\n       <use xlink:href=\"#mf8ce9a3e5c\" x=\"128.488125\" y=\"307.44\" style=\"stroke: #000000; stroke-width: 0.8\"/>\n      </g>\n     </g>\n     <g id=\"text_3\">\n      <!-- 10 -->\n      <g transform=\"translate(122.125625 322.038438) scale(0.1 -0.1)\">\n       <defs>\n        <path id=\"DejaVuSans-31\" d=\"M 794 531 \nL 1825 531 \nL 1825 4091 \nL 703 3866 \nL 703 4441 \nL 1819 4666 \nL 2450 4666 \nL 2450 531 \nL 3481 531 \nL 3481 0 \nL 794 0 \nL 794 531 \nz\n\" transform=\"scale(0.015625)\"/>\n       </defs>\n       <use xlink:href=\"#DejaVuSans-31\"/>\n       <use xlink:href=\"#DejaVuSans-30\" x=\"63.623047\"/>\n      </g>\n     </g>\n    </g>\n    <g id=\"xtick_4\">\n     <g id=\"line2d_4\">\n      <g>\n       <use xlink:href=\"#mf8ce9a3e5c\" x=\"170.338125\" y=\"307.44\" style=\"stroke: #000000; stroke-width: 0.8\"/>\n      </g>\n     </g>\n     <g id=\"text_4\">\n      <!-- 15 -->\n      <g transform=\"translate(163.975625 322.038438) scale(0.1 -0.1)\">\n       <use xlink:href=\"#DejaVuSans-31\"/>\n       <use xlink:href=\"#DejaVuSans-35\" x=\"63.623047\"/>\n      </g>\n     </g>\n    </g>\n    <g id=\"xtick_5\">\n     <g id=\"line2d_5\">\n      <g>\n       <use xlink:href=\"#mf8ce9a3e5c\" x=\"212.188125\" y=\"307.44\" style=\"stroke: #000000; stroke-width: 0.8\"/>\n      </g>\n     </g>\n     <g id=\"text_5\">\n      <!-- 20 -->\n      <g transform=\"translate(205.825625 322.038438) scale(0.1 -0.1)\">\n       <defs>\n        <path id=\"DejaVuSans-32\" d=\"M 1228 531 \nL 3431 531 \nL 3431 0 \nL 469 0 \nL 469 531 \nQ 828 903 1448 1529 \nQ 2069 2156 2228 2338 \nQ 2531 2678 2651 2914 \nQ 2772 3150 2772 3378 \nQ 2772 3750 2511 3984 \nQ 2250 4219 1831 4219 \nQ 1534 4219 1204 4116 \nQ 875 4013 500 3803 \nL 500 4441 \nQ 881 4594 1212 4672 \nQ 1544 4750 1819 4750 \nQ 2544 4750 2975 4387 \nQ 3406 4025 3406 3419 \nQ 3406 3131 3298 2873 \nQ 3191 2616 2906 2266 \nQ 2828 2175 2409 1742 \nQ 1991 1309 1228 531 \nz\n\" transform=\"scale(0.015625)\"/>\n       </defs>\n       <use xlink:href=\"#DejaVuSans-32\"/>\n       <use xlink:href=\"#DejaVuSans-30\" x=\"63.623047\"/>\n      </g>\n     </g>\n    </g>\n    <g id=\"xtick_6\">\n     <g id=\"line2d_6\">\n      <g>\n       <use xlink:href=\"#mf8ce9a3e5c\" x=\"254.038125\" y=\"307.44\" style=\"stroke: #000000; stroke-width: 0.8\"/>\n      </g>\n     </g>\n     <g id=\"text_6\">\n      <!-- 25 -->\n      <g transform=\"translate(247.675625 322.038438) scale(0.1 -0.1)\">\n       <use xlink:href=\"#DejaVuSans-32\"/>\n       <use xlink:href=\"#DejaVuSans-35\" x=\"63.623047\"/>\n      </g>\n     </g>\n    </g>\n    <g id=\"xtick_7\">\n     <g id=\"line2d_7\">\n      <g>\n       <use xlink:href=\"#mf8ce9a3e5c\" x=\"295.888125\" y=\"307.44\" style=\"stroke: #000000; stroke-width: 0.8\"/>\n      </g>\n     </g>\n     <g id=\"text_7\">\n      <!-- 30 -->\n      <g transform=\"translate(289.525625 322.038438) scale(0.1 -0.1)\">\n       <defs>\n        <path id=\"DejaVuSans-33\" d=\"M 2597 2516 \nQ 3050 2419 3304 2112 \nQ 3559 1806 3559 1356 \nQ 3559 666 3084 287 \nQ 2609 -91 1734 -91 \nQ 1441 -91 1130 -33 \nQ 819 25 488 141 \nL 488 750 \nQ 750 597 1062 519 \nQ 1375 441 1716 441 \nQ 2309 441 2620 675 \nQ 2931 909 2931 1356 \nQ 2931 1769 2642 2001 \nQ 2353 2234 1838 2234 \nL 1294 2234 \nL 1294 2753 \nL 1863 2753 \nQ 2328 2753 2575 2939 \nQ 2822 3125 2822 3475 \nQ 2822 3834 2567 4026 \nQ 2313 4219 1838 4219 \nQ 1578 4219 1281 4162 \nQ 984 4106 628 3988 \nL 628 4550 \nQ 988 4650 1302 4700 \nQ 1616 4750 1894 4750 \nQ 2613 4750 3031 4423 \nQ 3450 4097 3450 3541 \nQ 3450 3153 3228 2886 \nQ 3006 2619 2597 2516 \nz\n\" transform=\"scale(0.015625)\"/>\n       </defs>\n       <use xlink:href=\"#DejaVuSans-33\"/>\n       <use xlink:href=\"#DejaVuSans-30\" x=\"63.623047\"/>\n      </g>\n     </g>\n    </g>\n    <g id=\"text_8\">\n     <!-- x -->\n     <g transform=\"translate(171.56375 335.716563) scale(0.1 -0.1)\">\n      <defs>\n       <path id=\"DejaVuSans-78\" d=\"M 3513 3500 \nL 2247 1797 \nL 3578 0 \nL 2900 0 \nL 1881 1375 \nL 863 0 \nL 184 0 \nL 1544 1831 \nL 300 3500 \nL 978 3500 \nL 1906 2253 \nL 2834 3500 \nL 3513 3500 \nz\n\" transform=\"scale(0.015625)\"/>\n      </defs>\n      <use xlink:href=\"#DejaVuSans-78\"/>\n     </g>\n    </g>\n   </g>\n   <g id=\"matplotlib.axis_2\">\n    <g id=\"ytick_1\">\n     <g id=\"line2d_8\">\n      <defs>\n       <path id=\"m947b796286\" d=\"M 0 0 \nL -3.5 0 \n\" style=\"stroke: #000000; stroke-width: 0.8\"/>\n      </defs>\n      <g>\n       <use xlink:href=\"#m947b796286\" x=\"40.603125\" y=\"43.785\" style=\"stroke: #000000; stroke-width: 0.8\"/>\n      </g>\n     </g>\n     <g id=\"text_9\">\n      <!-- 0 -->\n      <g transform=\"translate(27.240625 47.584219) scale(0.1 -0.1)\">\n       <use xlink:href=\"#DejaVuSans-30\"/>\n      </g>\n     </g>\n    </g>\n    <g id=\"ytick_2\">\n     <g id=\"line2d_9\">\n      <g>\n       <use xlink:href=\"#m947b796286\" x=\"40.603125\" y=\"85.635\" style=\"stroke: #000000; stroke-width: 0.8\"/>\n      </g>\n     </g>\n     <g id=\"text_10\">\n      <!-- 5 -->\n      <g transform=\"translate(27.240625 89.434219) scale(0.1 -0.1)\">\n       <use xlink:href=\"#DejaVuSans-35\"/>\n      </g>\n     </g>\n    </g>\n    <g id=\"ytick_3\">\n     <g id=\"line2d_10\">\n      <g>\n       <use xlink:href=\"#m947b796286\" x=\"40.603125\" y=\"127.485\" style=\"stroke: #000000; stroke-width: 0.8\"/>\n      </g>\n     </g>\n     <g id=\"text_11\">\n      <!-- 10 -->\n      <g transform=\"translate(20.878125 131.284219) scale(0.1 -0.1)\">\n       <use xlink:href=\"#DejaVuSans-31\"/>\n       <use xlink:href=\"#DejaVuSans-30\" x=\"63.623047\"/>\n      </g>\n     </g>\n    </g>\n    <g id=\"ytick_4\">\n     <g id=\"line2d_11\">\n      <g>\n       <use xlink:href=\"#m947b796286\" x=\"40.603125\" y=\"169.335\" style=\"stroke: #000000; stroke-width: 0.8\"/>\n      </g>\n     </g>\n     <g id=\"text_12\">\n      <!-- 15 -->\n      <g transform=\"translate(20.878125 173.134219) scale(0.1 -0.1)\">\n       <use xlink:href=\"#DejaVuSans-31\"/>\n       <use xlink:href=\"#DejaVuSans-35\" x=\"63.623047\"/>\n      </g>\n     </g>\n    </g>\n    <g id=\"ytick_5\">\n     <g id=\"line2d_12\">\n      <g>\n       <use xlink:href=\"#m947b796286\" x=\"40.603125\" y=\"211.185\" style=\"stroke: #000000; stroke-width: 0.8\"/>\n      </g>\n     </g>\n     <g id=\"text_13\">\n      <!-- 20 -->\n      <g transform=\"translate(20.878125 214.984219) scale(0.1 -0.1)\">\n       <use xlink:href=\"#DejaVuSans-32\"/>\n       <use xlink:href=\"#DejaVuSans-30\" x=\"63.623047\"/>\n      </g>\n     </g>\n    </g>\n    <g id=\"ytick_6\">\n     <g id=\"line2d_13\">\n      <g>\n       <use xlink:href=\"#m947b796286\" x=\"40.603125\" y=\"253.035\" style=\"stroke: #000000; stroke-width: 0.8\"/>\n      </g>\n     </g>\n     <g id=\"text_14\">\n      <!-- 25 -->\n      <g transform=\"translate(20.878125 256.834219) scale(0.1 -0.1)\">\n       <use xlink:href=\"#DejaVuSans-32\"/>\n       <use xlink:href=\"#DejaVuSans-35\" x=\"63.623047\"/>\n      </g>\n     </g>\n    </g>\n    <g id=\"ytick_7\">\n     <g id=\"line2d_14\">\n      <g>\n       <use xlink:href=\"#m947b796286\" x=\"40.603125\" y=\"294.885\" style=\"stroke: #000000; stroke-width: 0.8\"/>\n      </g>\n     </g>\n     <g id=\"text_15\">\n      <!-- 30 -->\n      <g transform=\"translate(20.878125 298.684219) scale(0.1 -0.1)\">\n       <use xlink:href=\"#DejaVuSans-33\"/>\n       <use xlink:href=\"#DejaVuSans-30\" x=\"63.623047\"/>\n      </g>\n     </g>\n    </g>\n    <g id=\"text_16\">\n     <!-- y -->\n     <g transform=\"translate(14.798438 176.479375) rotate(-90) scale(0.1 -0.1)\">\n      <defs>\n       <path id=\"DejaVuSans-79\" d=\"M 2059 -325 \nQ 1816 -950 1584 -1140 \nQ 1353 -1331 966 -1331 \nL 506 -1331 \nL 506 -850 \nL 844 -850 \nQ 1081 -850 1212 -737 \nQ 1344 -625 1503 -206 \nL 1606 56 \nL 191 3500 \nL 800 3500 \nL 1894 763 \nL 2988 3500 \nL 3597 3500 \nL 2059 -325 \nz\n\" transform=\"scale(0.015625)\"/>\n      </defs>\n      <use xlink:href=\"#DejaVuSans-79\"/>\n     </g>\n    </g>\n   </g>\n   <g id=\"patch_3\">\n    <path d=\"M 40.603125 307.44 \nL 40.603125 39.6 \n\" style=\"fill: none; stroke: #000000; stroke-width: 0.8; stroke-linejoin: miter; stroke-linecap: square\"/>\n   </g>\n   <g id=\"patch_4\">\n    <path d=\"M 308.443125 307.44 \nL 308.443125 39.6 \n\" style=\"fill: none; stroke: #000000; stroke-width: 0.8; stroke-linejoin: miter; stroke-linecap: square\"/>\n   </g>\n   <g id=\"patch_5\">\n    <path d=\"M 40.603125 307.44 \nL 308.443125 307.44 \n\" style=\"fill: none; stroke: #000000; stroke-width: 0.8; stroke-linejoin: miter; stroke-linecap: square\"/>\n   </g>\n   <g id=\"patch_6\">\n    <path d=\"M 40.603125 39.6 \nL 308.443125 39.6 \n\" style=\"fill: none; stroke: #000000; stroke-width: 0.8; stroke-linejoin: miter; stroke-linecap: square\"/>\n   </g>\n   <g id=\"text_17\">\n    <!-- Final condition -->\n    <g transform=\"translate(131.045625 33.6) scale(0.12 -0.12)\">\n     <defs>\n      <path id=\"DejaVuSans-46\" d=\"M 628 4666 \nL 3309 4666 \nL 3309 4134 \nL 1259 4134 \nL 1259 2759 \nL 3109 2759 \nL 3109 2228 \nL 1259 2228 \nL 1259 0 \nL 628 0 \nL 628 4666 \nz\n\" transform=\"scale(0.015625)\"/>\n      <path id=\"DejaVuSans-69\" d=\"M 603 3500 \nL 1178 3500 \nL 1178 0 \nL 603 0 \nL 603 3500 \nz\nM 603 4863 \nL 1178 4863 \nL 1178 4134 \nL 603 4134 \nL 603 4863 \nz\n\" transform=\"scale(0.015625)\"/>\n      <path id=\"DejaVuSans-6e\" d=\"M 3513 2113 \nL 3513 0 \nL 2938 0 \nL 2938 2094 \nQ 2938 2591 2744 2837 \nQ 2550 3084 2163 3084 \nQ 1697 3084 1428 2787 \nQ 1159 2491 1159 1978 \nL 1159 0 \nL 581 0 \nL 581 3500 \nL 1159 3500 \nL 1159 2956 \nQ 1366 3272 1645 3428 \nQ 1925 3584 2291 3584 \nQ 2894 3584 3203 3211 \nQ 3513 2838 3513 2113 \nz\n\" transform=\"scale(0.015625)\"/>\n      <path id=\"DejaVuSans-61\" d=\"M 2194 1759 \nQ 1497 1759 1228 1600 \nQ 959 1441 959 1056 \nQ 959 750 1161 570 \nQ 1363 391 1709 391 \nQ 2188 391 2477 730 \nQ 2766 1069 2766 1631 \nL 2766 1759 \nL 2194 1759 \nz\nM 3341 1997 \nL 3341 0 \nL 2766 0 \nL 2766 531 \nQ 2569 213 2275 61 \nQ 1981 -91 1556 -91 \nQ 1019 -91 701 211 \nQ 384 513 384 1019 \nQ 384 1609 779 1909 \nQ 1175 2209 1959 2209 \nL 2766 2209 \nL 2766 2266 \nQ 2766 2663 2505 2880 \nQ 2244 3097 1772 3097 \nQ 1472 3097 1187 3025 \nQ 903 2953 641 2809 \nL 641 3341 \nQ 956 3463 1253 3523 \nQ 1550 3584 1831 3584 \nQ 2591 3584 2966 3190 \nQ 3341 2797 3341 1997 \nz\n\" transform=\"scale(0.015625)\"/>\n      <path id=\"DejaVuSans-6c\" d=\"M 603 4863 \nL 1178 4863 \nL 1178 0 \nL 603 0 \nL 603 4863 \nz\n\" transform=\"scale(0.015625)\"/>\n      <path id=\"DejaVuSans-20\" transform=\"scale(0.015625)\"/>\n      <path id=\"DejaVuSans-63\" d=\"M 3122 3366 \nL 3122 2828 \nQ 2878 2963 2633 3030 \nQ 2388 3097 2138 3097 \nQ 1578 3097 1268 2742 \nQ 959 2388 959 1747 \nQ 959 1106 1268 751 \nQ 1578 397 2138 397 \nQ 2388 397 2633 464 \nQ 2878 531 3122 666 \nL 3122 134 \nQ 2881 22 2623 -34 \nQ 2366 -91 2075 -91 \nQ 1284 -91 818 406 \nQ 353 903 353 1747 \nQ 353 2603 823 3093 \nQ 1294 3584 2113 3584 \nQ 2378 3584 2631 3529 \nQ 2884 3475 3122 3366 \nz\n\" transform=\"scale(0.015625)\"/>\n      <path id=\"DejaVuSans-6f\" d=\"M 1959 3097 \nQ 1497 3097 1228 2736 \nQ 959 2375 959 1747 \nQ 959 1119 1226 758 \nQ 1494 397 1959 397 \nQ 2419 397 2687 759 \nQ 2956 1122 2956 1747 \nQ 2956 2369 2687 2733 \nQ 2419 3097 1959 3097 \nz\nM 1959 3584 \nQ 2709 3584 3137 3096 \nQ 3566 2609 3566 1747 \nQ 3566 888 3137 398 \nQ 2709 -91 1959 -91 \nQ 1206 -91 779 398 \nQ 353 888 353 1747 \nQ 353 2609 779 3096 \nQ 1206 3584 1959 3584 \nz\n\" transform=\"scale(0.015625)\"/>\n      <path id=\"DejaVuSans-64\" d=\"M 2906 2969 \nL 2906 4863 \nL 3481 4863 \nL 3481 0 \nL 2906 0 \nL 2906 525 \nQ 2725 213 2448 61 \nQ 2172 -91 1784 -91 \nQ 1150 -91 751 415 \nQ 353 922 353 1747 \nQ 353 2572 751 3078 \nQ 1150 3584 1784 3584 \nQ 2172 3584 2448 3432 \nQ 2725 3281 2906 2969 \nz\nM 947 1747 \nQ 947 1113 1208 752 \nQ 1469 391 1925 391 \nQ 2381 391 2643 752 \nQ 2906 1113 2906 1747 \nQ 2906 2381 2643 2742 \nQ 2381 3103 1925 3103 \nQ 1469 3103 1208 2742 \nQ 947 2381 947 1747 \nz\n\" transform=\"scale(0.015625)\"/>\n      <path id=\"DejaVuSans-74\" d=\"M 1172 4494 \nL 1172 3500 \nL 2356 3500 \nL 2356 3053 \nL 1172 3053 \nL 1172 1153 \nQ 1172 725 1289 603 \nQ 1406 481 1766 481 \nL 2356 481 \nL 2356 0 \nL 1766 0 \nQ 1100 0 847 248 \nQ 594 497 594 1153 \nL 594 3053 \nL 172 3053 \nL 172 3500 \nL 594 3500 \nL 594 4494 \nL 1172 4494 \nz\n\" transform=\"scale(0.015625)\"/>\n     </defs>\n     <use xlink:href=\"#DejaVuSans-46\"/>\n     <use xlink:href=\"#DejaVuSans-69\" x=\"50.269531\"/>\n     <use xlink:href=\"#DejaVuSans-6e\" x=\"78.052734\"/>\n     <use xlink:href=\"#DejaVuSans-61\" x=\"141.431641\"/>\n     <use xlink:href=\"#DejaVuSans-6c\" x=\"202.710938\"/>\n     <use xlink:href=\"#DejaVuSans-20\" x=\"230.494141\"/>\n     <use xlink:href=\"#DejaVuSans-63\" x=\"262.28125\"/>\n     <use xlink:href=\"#DejaVuSans-6f\" x=\"317.261719\"/>\n     <use xlink:href=\"#DejaVuSans-6e\" x=\"378.443359\"/>\n     <use xlink:href=\"#DejaVuSans-64\" x=\"441.822266\"/>\n     <use xlink:href=\"#DejaVuSans-69\" x=\"505.298828\"/>\n     <use xlink:href=\"#DejaVuSans-74\" x=\"533.082031\"/>\n     <use xlink:href=\"#DejaVuSans-69\" x=\"572.291016\"/>\n     <use xlink:href=\"#DejaVuSans-6f\" x=\"600.074219\"/>\n     <use xlink:href=\"#DejaVuSans-6e\" x=\"661.255859\"/>\n    </g>\n   </g>\n  </g>\n  <g id=\"axes_2\">\n   <g id=\"patch_7\">\n    <path d=\"M 325.183125 339.84 \nL 341.815125 339.84 \nL 341.815125 7.2 \nL 325.183125 7.2 \nz\n\" style=\"fill: #ffffff\"/>\n   </g>\n   <image xlink:href=\"data:image/png;base64,\niVBORw0KGgoAAAANSUhEUgAAABcAAAHOCAYAAABzbJLzAAACU0lEQVR4nO2d223kQBADR4/QLoTLPxTbAWz5kwYKqAqg0SDZPRqtDV3/rv/fZ8S9KnzOOe+5dvW3nV/3tSueLERRRN4j1nw4RNetNXQoyzqKaf6Jd/zfq60IFEXE3PlwcZllqXOgxYWYNR8ecxmK1Dli7nz7SsQqy7e282X5hgjZvhLxytIQEd4oejsviojX0BYX8p5d42pDGyJgPUS74l7NpxPaVkTEZ6hY8+VJ1G4h2ueIeOVO385lKNEQIS0uLl4UiaKIqDXfFffe/c2yaDtv/Anv+CcLUhSRNOfiZlms+9ys+a64V/MMRbyGpjnS4xwijqK389KCxWf/G37MstQ50hBx8WQh6hwpLX9fPEORNEfSHOkMRbyGeouXlr8vnqFImiNezd9z7V6KZCgiHiJv5/1MTKg7b3F9In7K9UZRa6h4iLxp6U5EFEWkxYVM0yI2dPhHf2JDG39kfBKdDP1kPf5p/kmaI9vx7yQiiiIiTstS87YiMu58WDzNke0QeXfLnaFAnSPTnBdFZDz+2ht0KxeLi6Oo7TzNCe/iylCkzpE6/6W49tEiQ4k6RxoiRG3o16x4miPbxzmxLNooPl7NxSvXmpbpGfpkKOA1tMWFvPfZpcVs6FCWhgh5H+/iWj6IimXRdt7pT3g1V8ti7Vx8Emk1Xx4W4kuu+AwVR1Gblu2dSGtoUQQaf2R7Enmj2BlKeG8W3vHPUKQ7ESJeuaUFi3tl8XY+/MBvmjPvsvr7iA21fodrWX39CO3VfPhpcnMUrZ2bo7ir703L+1xeWaSd/wB+8I6eHECmoAAAAABJRU5ErkJggg==\" id=\"image3273ad4070\" transform=\"scale(1 -1) translate(0 -332.64)\" x=\"325.44\" y=\"-7.2\" width=\"16.56\" height=\"332.64\"/>\n   <g id=\"matplotlib.axis_3\"/>\n   <g id=\"matplotlib.axis_4\">\n    <g id=\"ytick_8\">\n     <g id=\"line2d_15\">\n      <defs>\n       <path id=\"mf2cf8b752d\" d=\"M 0 0 \nL 3.5 0 \n\" style=\"stroke: #000000; stroke-width: 0.8\"/>\n      </defs>\n      <g>\n       <use xlink:href=\"#mf2cf8b752d\" x=\"341.815125\" y=\"298.420309\" style=\"stroke: #000000; stroke-width: 0.8\"/>\n      </g>\n     </g>\n     <g id=\"text_18\">\n      <!-- 0.25 -->\n      <g transform=\"translate(348.815125 302.219527) scale(0.1 -0.1)\">\n       <defs>\n        <path id=\"DejaVuSans-2e\" d=\"M 684 794 \nL 1344 794 \nL 1344 0 \nL 684 0 \nL 684 794 \nz\n\" transform=\"scale(0.015625)\"/>\n       </defs>\n       <use xlink:href=\"#DejaVuSans-30\"/>\n       <use xlink:href=\"#DejaVuSans-2e\" x=\"63.623047\"/>\n       <use xlink:href=\"#DejaVuSans-32\" x=\"95.410156\"/>\n       <use xlink:href=\"#DejaVuSans-35\" x=\"159.033203\"/>\n      </g>\n     </g>\n    </g>\n    <g id=\"ytick_9\">\n     <g id=\"line2d_16\">\n      <g>\n       <use xlink:href=\"#mf2cf8b752d\" x=\"341.815125\" y=\"256.786872\" style=\"stroke: #000000; stroke-width: 0.8\"/>\n      </g>\n     </g>\n     <g id=\"text_19\">\n      <!-- 0.50 -->\n      <g transform=\"translate(348.815125 260.586091) scale(0.1 -0.1)\">\n       <use xlink:href=\"#DejaVuSans-30\"/>\n       <use xlink:href=\"#DejaVuSans-2e\" x=\"63.623047\"/>\n       <use xlink:href=\"#DejaVuSans-35\" x=\"95.410156\"/>\n       <use xlink:href=\"#DejaVuSans-30\" x=\"159.033203\"/>\n      </g>\n     </g>\n    </g>\n    <g id=\"ytick_10\">\n     <g id=\"line2d_17\">\n      <g>\n       <use xlink:href=\"#mf2cf8b752d\" x=\"341.815125\" y=\"215.153436\" style=\"stroke: #000000; stroke-width: 0.8\"/>\n      </g>\n     </g>\n     <g id=\"text_20\">\n      <!-- 0.75 -->\n      <g transform=\"translate(348.815125 218.952655) scale(0.1 -0.1)\">\n       <defs>\n        <path id=\"DejaVuSans-37\" d=\"M 525 4666 \nL 3525 4666 \nL 3525 4397 \nL 1831 0 \nL 1172 0 \nL 2766 4134 \nL 525 4134 \nL 525 4666 \nz\n\" transform=\"scale(0.015625)\"/>\n       </defs>\n       <use xlink:href=\"#DejaVuSans-30\"/>\n       <use xlink:href=\"#DejaVuSans-2e\" x=\"63.623047\"/>\n       <use xlink:href=\"#DejaVuSans-37\" x=\"95.410156\"/>\n       <use xlink:href=\"#DejaVuSans-35\" x=\"159.033203\"/>\n      </g>\n     </g>\n    </g>\n    <g id=\"ytick_11\">\n     <g id=\"line2d_18\">\n      <g>\n       <use xlink:href=\"#mf2cf8b752d\" x=\"341.815125\" y=\"173.52\" style=\"stroke: #000000; stroke-width: 0.8\"/>\n      </g>\n     </g>\n     <g id=\"text_21\">\n      <!-- 1.00 -->\n      <g transform=\"translate(348.815125 177.319219) scale(0.1 -0.1)\">\n       <use xlink:href=\"#DejaVuSans-31\"/>\n       <use xlink:href=\"#DejaVuSans-2e\" x=\"63.623047\"/>\n       <use xlink:href=\"#DejaVuSans-30\" x=\"95.410156\"/>\n       <use xlink:href=\"#DejaVuSans-30\" x=\"159.033203\"/>\n      </g>\n     </g>\n    </g>\n    <g id=\"ytick_12\">\n     <g id=\"line2d_19\">\n      <g>\n       <use xlink:href=\"#mf2cf8b752d\" x=\"341.815125\" y=\"131.886564\" style=\"stroke: #000000; stroke-width: 0.8\"/>\n      </g>\n     </g>\n     <g id=\"text_22\">\n      <!-- 1.25 -->\n      <g transform=\"translate(348.815125 135.685783) scale(0.1 -0.1)\">\n       <use xlink:href=\"#DejaVuSans-31\"/>\n       <use xlink:href=\"#DejaVuSans-2e\" x=\"63.623047\"/>\n       <use xlink:href=\"#DejaVuSans-32\" x=\"95.410156\"/>\n       <use xlink:href=\"#DejaVuSans-35\" x=\"159.033203\"/>\n      </g>\n     </g>\n    </g>\n    <g id=\"ytick_13\">\n     <g id=\"line2d_20\">\n      <g>\n       <use xlink:href=\"#mf2cf8b752d\" x=\"341.815125\" y=\"90.253128\" style=\"stroke: #000000; stroke-width: 0.8\"/>\n      </g>\n     </g>\n     <g id=\"text_23\">\n      <!-- 1.50 -->\n      <g transform=\"translate(348.815125 94.052346) scale(0.1 -0.1)\">\n       <use xlink:href=\"#DejaVuSans-31\"/>\n       <use xlink:href=\"#DejaVuSans-2e\" x=\"63.623047\"/>\n       <use xlink:href=\"#DejaVuSans-35\" x=\"95.410156\"/>\n       <use xlink:href=\"#DejaVuSans-30\" x=\"159.033203\"/>\n      </g>\n     </g>\n    </g>\n    <g id=\"ytick_14\">\n     <g id=\"line2d_21\">\n      <g>\n       <use xlink:href=\"#mf2cf8b752d\" x=\"341.815125\" y=\"48.619691\" style=\"stroke: #000000; stroke-width: 0.8\"/>\n      </g>\n     </g>\n     <g id=\"text_24\">\n      <!-- 1.75 -->\n      <g transform=\"translate(348.815125 52.41891) scale(0.1 -0.1)\">\n       <use xlink:href=\"#DejaVuSans-31\"/>\n       <use xlink:href=\"#DejaVuSans-2e\" x=\"63.623047\"/>\n       <use xlink:href=\"#DejaVuSans-37\" x=\"95.410156\"/>\n       <use xlink:href=\"#DejaVuSans-35\" x=\"159.033203\"/>\n      </g>\n     </g>\n    </g>\n   </g>\n   <g id=\"LineCollection_1\"/>\n   <g id=\"patch_8\">\n    <path d=\"M 325.183125 339.84 \nL 333.499125 339.84 \nL 341.815125 339.84 \nL 341.815125 7.2 \nL 333.499125 7.2 \nL 325.183125 7.2 \nL 325.183125 339.84 \nz\n\" style=\"fill: none; stroke: #000000; stroke-width: 0.8; stroke-linejoin: miter; stroke-linecap: square\"/>\n   </g>\n  </g>\n </g>\n <defs>\n  <clipPath id=\"pa293dc67c6\">\n   <rect x=\"40.603125\" y=\"39.6\" width=\"267.84\" height=\"267.84\"/>\n  </clipPath>\n </defs>\n</svg>\n"
     },
     "metadata": {},
     "output_type": "display_data"
    },
    {
     "data": {
      "text/plain": [
       "HTML(value=\"<a href='.\\\\fig_2' target='_blank'>.\\\\fig_2</a><br>\")"
      ],
      "application/vnd.jupyter.widget-view+json": {
       "version_major": 2,
       "version_minor": 0,
       "model_id": "8e4bc8f3e67e48798fae7b6880d6f4cf"
      }
     },
     "metadata": {},
     "output_type": "display_data"
    }
   ],
   "execution_count": 13
  },
  {
   "cell_type": "code",
   "id": "556684f5a2e2483d",
   "metadata": {
    "id": "556684f5a2e2483d",
    "ExecuteTime": {
     "end_time": "2024-10-06T23:12:06.742991Z",
     "start_time": "2024-10-06T23:12:06.735522Z"
    }
   },
   "source": [
    "assert np.allclose(solver.advectee.get(), z(t=nt*dt), atol=0.25)"
   ],
   "outputs": [],
   "execution_count": 14
  },
  {
   "cell_type": "code",
   "id": "cc07e0075e5b9857",
   "metadata": {
    "id": "cc07e0075e5b9857",
    "ExecuteTime": {
     "end_time": "2024-10-06T23:12:08.808974Z",
     "start_time": "2024-10-06T23:12:06.743987Z"
    }
   },
   "source": [
    "os.makedirs(\"animation\", exist_ok=True)\n",
    "for i, state in enumerate(states_history):\n",
    "    state = np.flipud(state)\n",
    "    plt.imshow(state, cmap='viridis')\n",
    "    plt.axis('off')\n",
    "    plt.tight_layout()\n",
    "    plt.colorbar()\n",
    "    plt.savefig(f\"animation/frame_{i:03d}.png\")\n",
    "    plt.close()"
   ],
   "outputs": [],
   "execution_count": 15
  },
  {
   "cell_type": "code",
   "id": "1888a38e39bf2395",
   "metadata": {
    "id": "1888a38e39bf2395",
    "ExecuteTime": {
     "end_time": "2024-10-06T23:12:08.813996Z",
     "start_time": "2024-10-06T23:12:08.809978Z"
    }
   },
   "source": [
    "def merge_images_into_gif(image_folder, gif_name, duration=0.01):\n",
    "    with imageio.get_writer(gif_name, mode='I', duration=duration) as writer:\n",
    "        for filename in sorted(os.listdir(image_folder)):\n",
    "            image = imageio.v3.imread(os.path.join(image_folder, filename))\n",
    "            writer.append_data(image)"
   ],
   "outputs": [],
   "execution_count": 16
  },
  {
   "cell_type": "code",
   "id": "52bc22d60805baa6",
   "metadata": {
    "id": "52bc22d60805baa6",
    "ExecuteTime": {
     "end_time": "2024-10-06T23:12:09.469939Z",
     "start_time": "2024-10-06T23:12:08.815506Z"
    }
   },
   "source": [
    "merge_images_into_gif(\"animation\", \"advection_diffusion.gif\", duration=0.01)"
   ],
   "outputs": [],
   "execution_count": 17
  },
  {
   "cell_type": "code",
   "id": "5403105d000206da",
   "metadata": {
    "id": "5403105d000206da",
    "ExecuteTime": {
     "end_time": "2024-10-06T23:12:09.473264Z",
     "start_time": "2024-10-06T23:12:09.470928Z"
    }
   },
   "source": [],
   "outputs": [],
   "execution_count": 17
  }
 ],
 "metadata": {
  "kernelspec": {
   "display_name": "Python 3 (ipykernel)",
   "language": "python",
   "name": "python3"
  },
  "language_info": {
   "codemirror_mode": {
    "name": "ipython",
    "version": 3
   },
   "file_extension": ".py",
   "mimetype": "text/x-python",
   "name": "python",
   "nbconvert_exporter": "python",
   "pygments_lexer": "ipython3",
   "version": "3.10.14"
  },
  "colab": {
   "provenance": []
  },
  "widgets": {
   "application/vnd.jupyter.widget-state+json": {
    "b9d1816d5a654d6ebe8ae2e16d208a19": {
     "model_module": "@jupyter-widgets/controls",
     "model_name": "HBoxModel",
     "model_module_version": "1.5.0",
     "state": {
      "_dom_classes": [],
      "_model_module": "@jupyter-widgets/controls",
      "_model_module_version": "1.5.0",
      "_model_name": "HBoxModel",
      "_view_count": null,
      "_view_module": "@jupyter-widgets/controls",
      "_view_module_version": "1.5.0",
      "_view_name": "HBoxView",
      "box_style": "",
      "children": [
       "IPY_MODEL_e663abfe8286438eb9167e754bd34acf",
       "IPY_MODEL_d8192599570541fdb63ee75a58ed85bd"
      ],
      "layout": "IPY_MODEL_836e153bf47940cdaeec16935e1446c7"
     }
    },
    "e663abfe8286438eb9167e754bd34acf": {
     "model_module": "@jupyter-widgets/controls",
     "model_name": "ButtonModel",
     "model_module_version": "1.5.0",
     "state": {
      "_dom_classes": [],
      "_model_module": "@jupyter-widgets/controls",
      "_model_module_version": "1.5.0",
      "_model_name": "ButtonModel",
      "_view_count": null,
      "_view_module": "@jupyter-widgets/controls",
      "_view_module_version": "1.5.0",
      "_view_name": "ButtonView",
      "button_style": "",
      "description": "fig_1.pdf",
      "disabled": false,
      "icon": "",
      "layout": "IPY_MODEL_3728933c94ef4d52a7550178efb974c0",
      "style": "IPY_MODEL_af3810389cc94bf7a6acd1959ebd9589",
      "tooltip": ""
     }
    },
    "d8192599570541fdb63ee75a58ed85bd": {
     "model_module": "@jupyter-widgets/controls",
     "model_name": "ButtonModel",
     "model_module_version": "1.5.0",
     "state": {
      "_dom_classes": [],
      "_model_module": "@jupyter-widgets/controls",
      "_model_module_version": "1.5.0",
      "_model_name": "ButtonModel",
      "_view_count": null,
      "_view_module": "@jupyter-widgets/controls",
      "_view_module_version": "1.5.0",
      "_view_name": "ButtonView",
      "button_style": "",
      "description": "fig_1.svg",
      "disabled": false,
      "icon": "",
      "layout": "IPY_MODEL_6c73b2ac6e234f9fb3417c68fa6ddf27",
      "style": "IPY_MODEL_7beb942afc804d6fb76cf4857c273eed",
      "tooltip": ""
     }
    },
    "836e153bf47940cdaeec16935e1446c7": {
     "model_module": "@jupyter-widgets/base",
     "model_name": "LayoutModel",
     "model_module_version": "1.2.0",
     "state": {
      "_model_module": "@jupyter-widgets/base",
      "_model_module_version": "1.2.0",
      "_model_name": "LayoutModel",
      "_view_count": null,
      "_view_module": "@jupyter-widgets/base",
      "_view_module_version": "1.2.0",
      "_view_name": "LayoutView",
      "align_content": null,
      "align_items": null,
      "align_self": null,
      "border": null,
      "bottom": null,
      "display": null,
      "flex": null,
      "flex_flow": null,
      "grid_area": null,
      "grid_auto_columns": null,
      "grid_auto_flow": null,
      "grid_auto_rows": null,
      "grid_column": null,
      "grid_gap": null,
      "grid_row": null,
      "grid_template_areas": null,
      "grid_template_columns": null,
      "grid_template_rows": null,
      "height": null,
      "justify_content": null,
      "justify_items": null,
      "left": null,
      "margin": null,
      "max_height": null,
      "max_width": null,
      "min_height": null,
      "min_width": null,
      "object_fit": null,
      "object_position": null,
      "order": null,
      "overflow": null,
      "overflow_x": null,
      "overflow_y": null,
      "padding": null,
      "right": null,
      "top": null,
      "visibility": null,
      "width": null
     }
    },
    "3728933c94ef4d52a7550178efb974c0": {
     "model_module": "@jupyter-widgets/base",
     "model_name": "LayoutModel",
     "model_module_version": "1.2.0",
     "state": {
      "_model_module": "@jupyter-widgets/base",
      "_model_module_version": "1.2.0",
      "_model_name": "LayoutModel",
      "_view_count": null,
      "_view_module": "@jupyter-widgets/base",
      "_view_module_version": "1.2.0",
      "_view_name": "LayoutView",
      "align_content": null,
      "align_items": null,
      "align_self": null,
      "border": null,
      "bottom": null,
      "display": null,
      "flex": null,
      "flex_flow": null,
      "grid_area": null,
      "grid_auto_columns": null,
      "grid_auto_flow": null,
      "grid_auto_rows": null,
      "grid_column": null,
      "grid_gap": null,
      "grid_row": null,
      "grid_template_areas": null,
      "grid_template_columns": null,
      "grid_template_rows": null,
      "height": null,
      "justify_content": null,
      "justify_items": null,
      "left": null,
      "margin": null,
      "max_height": null,
      "max_width": null,
      "min_height": null,
      "min_width": null,
      "object_fit": null,
      "object_position": null,
      "order": null,
      "overflow": null,
      "overflow_x": null,
      "overflow_y": null,
      "padding": null,
      "right": null,
      "top": null,
      "visibility": null,
      "width": null
     }
    },
    "af3810389cc94bf7a6acd1959ebd9589": {
     "model_module": "@jupyter-widgets/controls",
     "model_name": "ButtonStyleModel",
     "model_module_version": "1.5.0",
     "state": {
      "_model_module": "@jupyter-widgets/controls",
      "_model_module_version": "1.5.0",
      "_model_name": "ButtonStyleModel",
      "_view_count": null,
      "_view_module": "@jupyter-widgets/base",
      "_view_module_version": "1.2.0",
      "_view_name": "StyleView",
      "button_color": null,
      "font_weight": ""
     }
    },
    "6c73b2ac6e234f9fb3417c68fa6ddf27": {
     "model_module": "@jupyter-widgets/base",
     "model_name": "LayoutModel",
     "model_module_version": "1.2.0",
     "state": {
      "_model_module": "@jupyter-widgets/base",
      "_model_module_version": "1.2.0",
      "_model_name": "LayoutModel",
      "_view_count": null,
      "_view_module": "@jupyter-widgets/base",
      "_view_module_version": "1.2.0",
      "_view_name": "LayoutView",
      "align_content": null,
      "align_items": null,
      "align_self": null,
      "border": null,
      "bottom": null,
      "display": null,
      "flex": null,
      "flex_flow": null,
      "grid_area": null,
      "grid_auto_columns": null,
      "grid_auto_flow": null,
      "grid_auto_rows": null,
      "grid_column": null,
      "grid_gap": null,
      "grid_row": null,
      "grid_template_areas": null,
      "grid_template_columns": null,
      "grid_template_rows": null,
      "height": null,
      "justify_content": null,
      "justify_items": null,
      "left": null,
      "margin": null,
      "max_height": null,
      "max_width": null,
      "min_height": null,
      "min_width": null,
      "object_fit": null,
      "object_position": null,
      "order": null,
      "overflow": null,
      "overflow_x": null,
      "overflow_y": null,
      "padding": null,
      "right": null,
      "top": null,
      "visibility": null,
      "width": null
     }
    },
    "7beb942afc804d6fb76cf4857c273eed": {
     "model_module": "@jupyter-widgets/controls",
     "model_name": "ButtonStyleModel",
     "model_module_version": "1.5.0",
     "state": {
      "_model_module": "@jupyter-widgets/controls",
      "_model_module_version": "1.5.0",
      "_model_name": "ButtonStyleModel",
      "_view_count": null,
      "_view_module": "@jupyter-widgets/base",
      "_view_module_version": "1.2.0",
      "_view_name": "StyleView",
      "button_color": null,
      "font_weight": ""
     }
    },
    "fe1fa30d40ef469a8260c49eeec4f550": {
     "model_module": "@jupyter-widgets/controls",
     "model_name": "FloatProgressModel",
     "model_module_version": "1.5.0",
     "state": {
      "_dom_classes": [],
      "_model_module": "@jupyter-widgets/controls",
      "_model_module_version": "1.5.0",
      "_model_name": "FloatProgressModel",
      "_view_count": null,
      "_view_module": "@jupyter-widgets/controls",
      "_view_module_version": "1.5.0",
      "_view_name": "ProgressView",
      "bar_style": "",
      "description": "",
      "description_tooltip": null,
      "layout": "IPY_MODEL_96e4e27500f74f5486ba2a6b5a9922fd",
      "max": 1,
      "min": 0,
      "orientation": "horizontal",
      "style": "IPY_MODEL_7a868cee328b47b9813059a82ecd8eba",
      "value": 1
     }
    },
    "96e4e27500f74f5486ba2a6b5a9922fd": {
     "model_module": "@jupyter-widgets/base",
     "model_name": "LayoutModel",
     "model_module_version": "1.2.0",
     "state": {
      "_model_module": "@jupyter-widgets/base",
      "_model_module_version": "1.2.0",
      "_model_name": "LayoutModel",
      "_view_count": null,
      "_view_module": "@jupyter-widgets/base",
      "_view_module_version": "1.2.0",
      "_view_name": "LayoutView",
      "align_content": null,
      "align_items": null,
      "align_self": null,
      "border": null,
      "bottom": null,
      "display": null,
      "flex": null,
      "flex_flow": null,
      "grid_area": null,
      "grid_auto_columns": null,
      "grid_auto_flow": null,
      "grid_auto_rows": null,
      "grid_column": null,
      "grid_gap": null,
      "grid_row": null,
      "grid_template_areas": null,
      "grid_template_columns": null,
      "grid_template_rows": null,
      "height": null,
      "justify_content": null,
      "justify_items": null,
      "left": null,
      "margin": null,
      "max_height": null,
      "max_width": null,
      "min_height": null,
      "min_width": null,
      "object_fit": null,
      "object_position": null,
      "order": null,
      "overflow": null,
      "overflow_x": null,
      "overflow_y": null,
      "padding": null,
      "right": null,
      "top": null,
      "visibility": null,
      "width": null
     }
    },
    "7a868cee328b47b9813059a82ecd8eba": {
     "model_module": "@jupyter-widgets/controls",
     "model_name": "ProgressStyleModel",
     "model_module_version": "1.5.0",
     "state": {
      "_model_module": "@jupyter-widgets/controls",
      "_model_module_version": "1.5.0",
      "_model_name": "ProgressStyleModel",
      "_view_count": null,
      "_view_module": "@jupyter-widgets/base",
      "_view_module_version": "1.2.0",
      "_view_name": "StyleView",
      "bar_color": null,
      "description_width": ""
     }
    },
    "cb7153eb86dc4f4baf5cfe40af365cda": {
     "model_module": "@jupyter-widgets/controls",
     "model_name": "HBoxModel",
     "model_module_version": "1.5.0",
     "state": {
      "_dom_classes": [],
      "_model_module": "@jupyter-widgets/controls",
      "_model_module_version": "1.5.0",
      "_model_name": "HBoxModel",
      "_view_count": null,
      "_view_module": "@jupyter-widgets/controls",
      "_view_module_version": "1.5.0",
      "_view_name": "HBoxView",
      "box_style": "",
      "children": [
       "IPY_MODEL_fe07e1102b83432b8238b6a1505f1138",
       "IPY_MODEL_ec52cd6ae6ad473e954a73b9666dbc38"
      ],
      "layout": "IPY_MODEL_4a39ac354eec4bd6a627387e20ac0941"
     }
    },
    "fe07e1102b83432b8238b6a1505f1138": {
     "model_module": "@jupyter-widgets/controls",
     "model_name": "ButtonModel",
     "model_module_version": "1.5.0",
     "state": {
      "_dom_classes": [],
      "_model_module": "@jupyter-widgets/controls",
      "_model_module_version": "1.5.0",
      "_model_name": "ButtonModel",
      "_view_count": null,
      "_view_module": "@jupyter-widgets/controls",
      "_view_module_version": "1.5.0",
      "_view_name": "ButtonView",
      "button_style": "",
      "description": "fig_2.pdf",
      "disabled": false,
      "icon": "",
      "layout": "IPY_MODEL_7854a682f7dd419fab0ed63b87a86267",
      "style": "IPY_MODEL_cd26d032280247b68c6c54026a15d9e1",
      "tooltip": ""
     }
    },
    "ec52cd6ae6ad473e954a73b9666dbc38": {
     "model_module": "@jupyter-widgets/controls",
     "model_name": "ButtonModel",
     "model_module_version": "1.5.0",
     "state": {
      "_dom_classes": [],
      "_model_module": "@jupyter-widgets/controls",
      "_model_module_version": "1.5.0",
      "_model_name": "ButtonModel",
      "_view_count": null,
      "_view_module": "@jupyter-widgets/controls",
      "_view_module_version": "1.5.0",
      "_view_name": "ButtonView",
      "button_style": "",
      "description": "fig_2.svg",
      "disabled": false,
      "icon": "",
      "layout": "IPY_MODEL_91c4794be5304716a57802b89fe0ae77",
      "style": "IPY_MODEL_62f53d9eb0e04b358ea043a7969e23dc",
      "tooltip": ""
     }
    },
    "4a39ac354eec4bd6a627387e20ac0941": {
     "model_module": "@jupyter-widgets/base",
     "model_name": "LayoutModel",
     "model_module_version": "1.2.0",
     "state": {
      "_model_module": "@jupyter-widgets/base",
      "_model_module_version": "1.2.0",
      "_model_name": "LayoutModel",
      "_view_count": null,
      "_view_module": "@jupyter-widgets/base",
      "_view_module_version": "1.2.0",
      "_view_name": "LayoutView",
      "align_content": null,
      "align_items": null,
      "align_self": null,
      "border": null,
      "bottom": null,
      "display": null,
      "flex": null,
      "flex_flow": null,
      "grid_area": null,
      "grid_auto_columns": null,
      "grid_auto_flow": null,
      "grid_auto_rows": null,
      "grid_column": null,
      "grid_gap": null,
      "grid_row": null,
      "grid_template_areas": null,
      "grid_template_columns": null,
      "grid_template_rows": null,
      "height": null,
      "justify_content": null,
      "justify_items": null,
      "left": null,
      "margin": null,
      "max_height": null,
      "max_width": null,
      "min_height": null,
      "min_width": null,
      "object_fit": null,
      "object_position": null,
      "order": null,
      "overflow": null,
      "overflow_x": null,
      "overflow_y": null,
      "padding": null,
      "right": null,
      "top": null,
      "visibility": null,
      "width": null
     }
    },
    "7854a682f7dd419fab0ed63b87a86267": {
     "model_module": "@jupyter-widgets/base",
     "model_name": "LayoutModel",
     "model_module_version": "1.2.0",
     "state": {
      "_model_module": "@jupyter-widgets/base",
      "_model_module_version": "1.2.0",
      "_model_name": "LayoutModel",
      "_view_count": null,
      "_view_module": "@jupyter-widgets/base",
      "_view_module_version": "1.2.0",
      "_view_name": "LayoutView",
      "align_content": null,
      "align_items": null,
      "align_self": null,
      "border": null,
      "bottom": null,
      "display": null,
      "flex": null,
      "flex_flow": null,
      "grid_area": null,
      "grid_auto_columns": null,
      "grid_auto_flow": null,
      "grid_auto_rows": null,
      "grid_column": null,
      "grid_gap": null,
      "grid_row": null,
      "grid_template_areas": null,
      "grid_template_columns": null,
      "grid_template_rows": null,
      "height": null,
      "justify_content": null,
      "justify_items": null,
      "left": null,
      "margin": null,
      "max_height": null,
      "max_width": null,
      "min_height": null,
      "min_width": null,
      "object_fit": null,
      "object_position": null,
      "order": null,
      "overflow": null,
      "overflow_x": null,
      "overflow_y": null,
      "padding": null,
      "right": null,
      "top": null,
      "visibility": null,
      "width": null
     }
    },
    "cd26d032280247b68c6c54026a15d9e1": {
     "model_module": "@jupyter-widgets/controls",
     "model_name": "ButtonStyleModel",
     "model_module_version": "1.5.0",
     "state": {
      "_model_module": "@jupyter-widgets/controls",
      "_model_module_version": "1.5.0",
      "_model_name": "ButtonStyleModel",
      "_view_count": null,
      "_view_module": "@jupyter-widgets/base",
      "_view_module_version": "1.2.0",
      "_view_name": "StyleView",
      "button_color": null,
      "font_weight": ""
     }
    },
    "91c4794be5304716a57802b89fe0ae77": {
     "model_module": "@jupyter-widgets/base",
     "model_name": "LayoutModel",
     "model_module_version": "1.2.0",
     "state": {
      "_model_module": "@jupyter-widgets/base",
      "_model_module_version": "1.2.0",
      "_model_name": "LayoutModel",
      "_view_count": null,
      "_view_module": "@jupyter-widgets/base",
      "_view_module_version": "1.2.0",
      "_view_name": "LayoutView",
      "align_content": null,
      "align_items": null,
      "align_self": null,
      "border": null,
      "bottom": null,
      "display": null,
      "flex": null,
      "flex_flow": null,
      "grid_area": null,
      "grid_auto_columns": null,
      "grid_auto_flow": null,
      "grid_auto_rows": null,
      "grid_column": null,
      "grid_gap": null,
      "grid_row": null,
      "grid_template_areas": null,
      "grid_template_columns": null,
      "grid_template_rows": null,
      "height": null,
      "justify_content": null,
      "justify_items": null,
      "left": null,
      "margin": null,
      "max_height": null,
      "max_width": null,
      "min_height": null,
      "min_width": null,
      "object_fit": null,
      "object_position": null,
      "order": null,
      "overflow": null,
      "overflow_x": null,
      "overflow_y": null,
      "padding": null,
      "right": null,
      "top": null,
      "visibility": null,
      "width": null
     }
    },
    "62f53d9eb0e04b358ea043a7969e23dc": {
     "model_module": "@jupyter-widgets/controls",
     "model_name": "ButtonStyleModel",
     "model_module_version": "1.5.0",
     "state": {
      "_model_module": "@jupyter-widgets/controls",
      "_model_module_version": "1.5.0",
      "_model_name": "ButtonStyleModel",
      "_view_count": null,
      "_view_module": "@jupyter-widgets/base",
      "_view_module_version": "1.2.0",
      "_view_name": "StyleView",
      "button_color": null,
      "font_weight": ""
     }
    }
   }
  }
 },
 "nbformat": 4,
 "nbformat_minor": 5
}
