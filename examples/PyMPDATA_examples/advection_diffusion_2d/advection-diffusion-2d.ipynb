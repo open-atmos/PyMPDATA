{
 "cells": [
  {
   "cell_type": "markdown",
   "id": "e333839d",
   "metadata": {},
   "source": [
    "[![Binder](https://mybinder.org/badge_logo.svg)](https://mybinder.org/v2/gh/open-atmos/PyMPDATA.git/main?urlpath=lab/tree/examples/PyMPDATA_examples/advection_diffusion_2d/advection-diffusion-2d.ipynb)\n",
    "[![Open In Colab](https://colab.research.google.com/assets/colab-badge.svg)](https://colab.research.google.com/github/open-atmos/examples/blob/main/examples/PyMPDATA_examples/advection_diffusion_2d/advection-diffusion-2d.ipynb)"
   ]
  },
  {
   "cell_type": "code",
   "id": "43d2893d-f472-43ac-ad5b-bf342a3783b9",
   "metadata": {
    "ExecuteTime": {
     "end_time": "2024-06-09T19:03:49.720769Z",
     "start_time": "2024-06-09T19:03:49.717435Z"
    }
   },
   "source": [
    "from open_atmos_jupyter_utils import show_plot"
   ],
   "outputs": [],
   "execution_count": 127
  },
  {
   "cell_type": "markdown",
   "id": "0f0ce965-3f51-41a7-82cd-5aa3892319f2",
   "metadata": {},
   "source": [
    "TOC:\n",
    "- run a basic constant-coefficient advection-diffusion simulation with Trixi.jl\n",
    "- run analogous simulation with PyMPDATA\n",
    "- compare output"
   ]
  },
  {
   "cell_type": "markdown",
   "id": "0f162ce9-5704-4464-8b67-be8c86ecabc8",
   "metadata": {},
   "source": [
    "## common settings"
   ]
  },
  {
   "cell_type": "code",
   "id": "cc93c40c-e96a-4cb4-85c9-6a1dc8785859",
   "metadata": {
    "ExecuteTime": {
     "end_time": "2024-06-09T19:03:50.766069Z",
     "start_time": "2024-06-09T19:03:50.761626Z"
    }
   },
   "source": [
    "SETUP = {\n",
    "    \"nx\": 32,\n",
    "    \"ny\": 32,\n",
    "    \"Cx\": 0.5,\n",
    "    \"Cy\": 0.25,\n",
    "    \"dt\": 0.025,\n",
    "    \"tmax\": 1.0\n",
    "}\n",
    "\n",
    "import json\n",
    "with open('setup.json', 'w', encoding='UTF-8') as f:\n",
    "    json.dump(SETUP, f)"
   ],
   "outputs": [],
   "execution_count": 128
  },
  {
   "cell_type": "markdown",
   "id": "b8c794cf-a332-4291-86b5-7a72d36bd630",
   "metadata": {},
   "source": [
    "## Trixi.jl"
   ]
  },
  {
   "cell_type": "code",
   "id": "e4ae33ef-e53b-45ef-9664-fb9d1cb7696f",
   "metadata": {
    "ExecuteTime": {
     "end_time": "2024-06-09T19:03:51.591956Z",
     "start_time": "2024-06-09T19:03:51.588616Z"
    }
   },
   "source": [
    "%%writefile trixi.jl\n",
    "import Pkg\n",
    "Pkg.add([\"JSON\", \"Trixi\", \"OrdinaryDiffEq\"])\n",
    "using JSON\n",
    "using Trixi\n",
    "using OrdinaryDiffEq\n",
    "\n",
    "\n",
    "setup = JSON.parsefile(\"setup.json\")\n",
    "advection_velocity = (setup[\"Cx\"], setup[\"Cy\"])\n",
    "equations = LinearScalarAdvectionEquation2D(advection_velocity)\n",
    "\n",
    "solver = DGSEM(polydeg = 3)\n",
    "\n",
    "cells_per_dimension = (setup[\"nx\"], setup[\"ny\"])\n",
    "coordinates_min = (-1.0, -1.0)\n",
    "coordinates_max = ( 1.0,  1.0)\n",
    "\n",
    "mesh = StructuredMesh(cells_per_dimension, coordinates_min, coordinates_max)\n",
    "semi = SemidiscretizationHyperbolic(mesh, equations, initial_condition_convergence_test, solver)\n",
    "\n",
    "tspan = (0.0, setup[\"tmax\"])\n",
    "ode = semidiscretize(semi, tspan);\n",
    "\n",
    "summary_callback = SummaryCallback()\n",
    "save_solution = SaveSolutionCallback(interval=100)\n",
    "\n",
    "stepsize_callback = StepsizeCallback(cfl = 1.6)\n",
    "\n",
    "callbacks = CallbackSet(summary_callback, save_solution, stepsize_callback)\n",
    "\n",
    "time_int_tol = 1e-6\n",
    "sol = solve(ode, CarpenterKennedy2N54();\n",
    "            abstol = time_int_tol,\n",
    "            reltol = time_int_tol,\n",
    "            dt = setup[\"dt\"],\n",
    "            ode_default_options()..., callback = callbacks);\n",
    "\n",
    "summary_callback()"
   ],
   "outputs": [
    {
     "name": "stdout",
     "output_type": "stream",
     "text": [
      "Overwriting trixi.jl\n"
     ]
    }
   ],
   "execution_count": 129
  },
  {
   "cell_type": "code",
   "id": "ff0181b0-62a9-4343-bdc1-ab4b25598cd2",
   "metadata": {
    "ExecuteTime": {
     "end_time": "2024-06-09T19:04:18.999726Z",
     "start_time": "2024-06-09T19:03:52.151805Z"
    }
   },
   "source": [
    "%%bash\n",
    "julia trixi.jl 2>&1"
   ],
   "outputs": [
    {
     "name": "stdout",
     "output_type": "stream",
     "text": [
      "   Resolving package versions...\n",
      "  No Changes to `~/.julia/environments/v1.10/Project.toml`\n",
      "  No Changes to `~/.julia/environments/v1.10/Manifest.toml`\n",
      "\n",
      "████████╗██████╗ ██╗██╗  ██╗██╗\n",
      "╚══██╔══╝██╔══██╗██║╚██╗██╔╝██║\n",
      "   ██║   ██████╔╝██║ ╚███╔╝ ██║\n",
      "   ██║   ██╔══██╗██║ ██╔██╗ ██║\n",
      "   ██║   ██║  ██║██║██╔╝ ██╗██║\n",
      "   ╚═╝   ╚═╝  ╚═╝╚═╝╚═╝  ╚═╝╚═╝\n",
      "┌──────────────────────────────────────────────────────────────────────────────────────────────────┐\n",
      "│ SemidiscretizationHyperbolic                                                                     │\n",
      "│ ════════════════════════════                                                                     │\n",
      "│ #spatial dimensions: ………………………… 2                                                                │\n",
      "│ mesh: ………………………………………………………………… StructuredMesh{2, Float64}                                       │\n",
      "│ equations: …………………………………………………… LinearScalarAdvectionEquation2D                                  │\n",
      "│ initial condition: ……………………………… initial_condition_convergence_test                               │\n",
      "│ boundary conditions: ………………………… Trixi.BoundaryConditionPeriodic                                  │\n",
      "│ source terms: …………………………………………… nothing                                                          │\n",
      "│ solver: …………………………………………………………… DG                                                               │\n",
      "│ total #DOFs per field: …………………… 16384                                                            │\n",
      "└──────────────────────────────────────────────────────────────────────────────────────────────────┘\n",
      "\n",
      "┌──────────────────────────────────────────────────────────────────────────────────────────────────┐\n",
      "│ StructuredMesh{2, Float64}                                                                       │\n",
      "│ ══════════════════════════                                                                       │\n",
      "│ size: ………………………………………………………………… (32, 32)                                                         │\n",
      "│ mapping: …………………………………………………………                                                                  │\n",
      "│ │ line 1: ……………………………………………………… coordinates_min = (-1.0, -1.0)\n",
      "c…ordinates_min, coordinates_max) │\n",
      "└──────────────────────────────────────────────────────────────────────────────────────────────────┘\n",
      "\n",
      "┌──────────────────────────────────────────────────────────────────────────────────────────────────┐\n",
      "│ LinearScalarAdvectionEquation2D                                                                  │\n",
      "│ ═══════════════════════════════                                                                  │\n",
      "│ #variables: ………………………………………………… 1                                                                │\n",
      "│ │ variable 1: …………………………………………… scalar                                                           │\n",
      "└──────────────────────────────────────────────────────────────────────────────────────────────────┘\n",
      "\n",
      "┌──────────────────────────────────────────────────────────────────────────────────────────────────┐\n",
      "│ DG{Float64}                                                                                      │\n",
      "│ ═══════════                                                                                      │\n",
      "│ basis: ……………………………………………………………… LobattoLegendreBasis{Float64}(polydeg=3)                         │\n",
      "│ mortar: …………………………………………………………… LobattoLegendreMortarL2{Float64}(polydeg=3)                      │\n",
      "│ surface integral: ………………………………… SurfaceIntegralWeakForm                                          │\n",
      "│ │ surface flux: ……………………………………… flux_central                                                     │\n",
      "│ volume integral: …………………………………… VolumeIntegralWeakForm                                           │\n",
      "└──────────────────────────────────────────────────────────────────────────────────────────────────┘\n",
      "┌──────────────────────────────────────────────────────────────────────────────────────────────────┐\n",
      "│ SaveSolutionCallback                                                                             │\n",
      "│ ════════════════════                                                                             │\n",
      "│ interval: ……………………………………………………… 100                                                              │\n",
      "│ solution variables: …………………………… cons2prim                                                        │\n",
      "│ save initial solution: …………………… yes                                                              │\n",
      "│ save final solution: ………………………… yes                                                              │\n",
      "│ output directory: ………………………………… /home/konrad/Development/PyMPDAT…ples/advection_diffusion_2d/out │\n",
      "└──────────────────────────────────────────────────────────────────────────────────────────────────┘\n",
      "┌──────────────────────────────────────────────────────────────────────────────────────────────────┐\n",
      "│ StepsizeCallback                                                                                 │\n",
      "│ ════════════════                                                                                 │\n",
      "│ CFL number: ………………………………………………… 1.6                                                              │\n",
      "└──────────────────────────────────────────────────────────────────────────────────────────────────┘\n",
      "\n",
      "┌──────────────────────────────────────────────────────────────────────────────────────────────────┐\n",
      "│ Time integration                                                                                 │\n",
      "│ ════════════════                                                                                 │\n",
      "│ Start time: ………………………………………………… 0.0                                                              │\n",
      "│ Final time: ………………………………………………… 1.0                                                              │\n",
      "│ time integrator: …………………………………… CarpenterKennedy2N54                                             │\n",
      "│ adaptive: ……………………………………………………… false                                                            │\n",
      "└──────────────────────────────────────────────────────────────────────────────────────────────────┘\n",
      "┌──────────────────────────────────────────────────────────────────────────────────────────────────┐\n",
      "│ Environment information                                                                          │\n",
      "│ ═══════════════════════                                                                          │\n",
      "│ #threads: ……………………………………………………… 1                                                                │\n",
      "└──────────────────────────────────────────────────────────────────────────────────────────────────┘\n",
      " ────────────────────────────────────────────────────────────────────────────────\n",
      "            Trixi.jl                    Time                    Allocations      \n",
      "                               ───────────────────────   ────────────────────────\n",
      "       Tot / % measured:            484ms /  80.4%           16.2MiB /  61.7%    \n",
      "\n",
      " Section               ncalls     time    %tot     avg     alloc    %tot      avg\n",
      " ────────────────────────────────────────────────────────────────────────────────\n",
      " I/O                        3    345ms   88.6%   115ms   10.0MiB   99.9%  3.32MiB\n",
      "   save solution            2    197ms   50.6%  98.3ms   9.74MiB   97.7%  4.87MiB\n",
      "   ~I/O~                    3    148ms   38.1%  49.4ms    228KiB    2.2%  76.1KiB\n",
      "   save mesh                2   2.86μs    0.0%  1.43μs     0.00B    0.0%    0.00B\n",
      "   get element vari...      2   2.86μs    0.0%  1.43μs     0.00B    0.0%    0.00B\n",
      "   get node variables       2   2.86μs    0.0%  1.43μs     0.00B    0.0%    0.00B\n",
      " rhs!                     156   43.2ms   11.1%   277μs   5.14KiB    0.1%    33.7B\n",
      "   volume integral        156   26.8ms    6.9%   172μs     0.00B    0.0%    0.00B\n",
      "   interface flux         156   8.59ms    2.2%  55.1μs     0.00B    0.0%    0.00B\n",
      "   Jacobian               156   3.04ms    0.8%  19.5μs     0.00B    0.0%    0.00B\n",
      "   surface integral       156   2.27ms    0.6%  14.5μs     0.00B    0.0%    0.00B\n",
      "   ~rhs!~                 156   1.67ms    0.4%  10.7μs   5.14KiB    0.1%    33.7B\n",
      "   reset ∂u/∂t            156    422μs    0.1%  2.70μs     0.00B    0.0%    0.00B\n",
      "   boundary flux          156    197μs    0.1%  1.26μs     0.00B    0.0%    0.00B\n",
      "   source terms           156    191μs    0.0%  1.23μs     0.00B    0.0%    0.00B\n",
      " calculate dt              32    960μs    0.2%  30.0μs     0.00B    0.0%    0.00B\n",
      " ────────────────────────────────────────────────────────────────────────────────\n"
     ]
    }
   ],
   "execution_count": 130
  },
  {
   "cell_type": "code",
   "id": "cbed45fc-b685-415e-b04c-7a0db4b732bc",
   "metadata": {
    "ExecuteTime": {
     "end_time": "2024-06-09T19:04:52.476251Z",
     "start_time": "2024-06-09T19:04:52.344870Z"
    }
   },
   "source": [
    "import h5py\n",
    "import matplotlib.pyplot as plt\n",
    "import numpy as np\n",
    "\n",
    "with h5py.File('out/solution_000031.h5', 'r') as f:\n",
    "    # average every 16 points to reduce the number of points\n",
    "    temp = np.array([np.mean(x) for x in f['variables_1'][:].reshape(-1, 16)])\n",
    "    plt.imshow(temp[:].reshape(SETUP['ny'], SETUP['nx']).transpose())\n",
    "    plt.show()"
   ],
   "outputs": [
    {
     "data": {
      "text/plain": "<Figure size 640x480 with 1 Axes>",
      "image/svg+xml": "<?xml version=\"1.0\" encoding=\"utf-8\" standalone=\"no\"?>\n<!DOCTYPE svg PUBLIC \"-//W3C//DTD SVG 1.1//EN\"\n  \"http://www.w3.org/Graphics/SVG/1.1/DTD/svg11.dtd\">\n<svg xmlns:xlink=\"http://www.w3.org/1999/xlink\" width=\"300.237pt\" height=\"297.190125pt\" viewBox=\"0 0 300.237 297.190125\" xmlns=\"http://www.w3.org/2000/svg\" version=\"1.1\">\n <metadata>\n  <rdf:RDF xmlns:dc=\"http://purl.org/dc/elements/1.1/\" xmlns:cc=\"http://creativecommons.org/ns#\" xmlns:rdf=\"http://www.w3.org/1999/02/22-rdf-syntax-ns#\">\n   <cc:Work>\n    <dc:type rdf:resource=\"http://purl.org/dc/dcmitype/StillImage\"/>\n    <dc:date>2024-06-09T21:04:52.444230</dc:date>\n    <dc:format>image/svg+xml</dc:format>\n    <dc:creator>\n     <cc:Agent>\n      <dc:title>Matplotlib v3.9.0, https://matplotlib.org/</dc:title>\n     </cc:Agent>\n    </dc:creator>\n   </cc:Work>\n  </rdf:RDF>\n </metadata>\n <defs>\n  <style type=\"text/css\">*{stroke-linejoin: round; stroke-linecap: butt}</style>\n </defs>\n <g id=\"figure_1\">\n  <g id=\"patch_1\">\n   <path d=\"M -0 297.190125 \nL 300.237 297.190125 \nL 300.237 0 \nL -0 0 \nz\n\" style=\"fill: #ffffff\"/>\n  </g>\n  <g id=\"axes_1\">\n   <g id=\"patch_2\">\n    <path d=\"M 26.925 273.312 \nL 293.037 273.312 \nL 293.037 7.2 \nL 26.925 7.2 \nz\n\" style=\"fill: #ffffff\"/>\n   </g>\n   <g clip-path=\"url(#p4b74a72439)\">\n    <image xlink:href=\"data:image/png;base64,\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\" id=\"image4bcebdfba8\" transform=\"scale(1 -1) translate(0 -266.4)\" x=\"26.925\" y=\"-6.912\" width=\"266.4\" height=\"266.4\"/>\n   </g>\n   <g id=\"matplotlib.axis_1\">\n    <g id=\"xtick_1\">\n     <g id=\"line2d_1\">\n      <defs>\n       <path id=\"m75a1ebf7bc\" d=\"M 0 0 \nL 0 3.5 \n\" style=\"stroke: #000000; stroke-width: 0.8\"/>\n      </defs>\n      <g>\n       <use xlink:href=\"#m75a1ebf7bc\" x=\"31.083\" y=\"273.312\" style=\"stroke: #000000; stroke-width: 0.8\"/>\n      </g>\n     </g>\n     <g id=\"text_1\">\n      <!-- 0 -->\n      <g transform=\"translate(27.90175 287.910437) scale(0.1 -0.1)\">\n       <defs>\n        <path id=\"DejaVuSans-30\" d=\"M 2034 4250 \nQ 1547 4250 1301 3770 \nQ 1056 3291 1056 2328 \nQ 1056 1369 1301 889 \nQ 1547 409 2034 409 \nQ 2525 409 2770 889 \nQ 3016 1369 3016 2328 \nQ 3016 3291 2770 3770 \nQ 2525 4250 2034 4250 \nz\nM 2034 4750 \nQ 2819 4750 3233 4129 \nQ 3647 3509 3647 2328 \nQ 3647 1150 3233 529 \nQ 2819 -91 2034 -91 \nQ 1250 -91 836 529 \nQ 422 1150 422 2328 \nQ 422 3509 836 4129 \nQ 1250 4750 2034 4750 \nz\n\" transform=\"scale(0.015625)\"/>\n       </defs>\n       <use xlink:href=\"#DejaVuSans-30\"/>\n      </g>\n     </g>\n    </g>\n    <g id=\"xtick_2\">\n     <g id=\"line2d_2\">\n      <g>\n       <use xlink:href=\"#m75a1ebf7bc\" x=\"72.663\" y=\"273.312\" style=\"stroke: #000000; stroke-width: 0.8\"/>\n      </g>\n     </g>\n     <g id=\"text_2\">\n      <!-- 5 -->\n      <g transform=\"translate(69.48175 287.910437) scale(0.1 -0.1)\">\n       <defs>\n        <path id=\"DejaVuSans-35\" d=\"M 691 4666 \nL 3169 4666 \nL 3169 4134 \nL 1269 4134 \nL 1269 2991 \nQ 1406 3038 1543 3061 \nQ 1681 3084 1819 3084 \nQ 2600 3084 3056 2656 \nQ 3513 2228 3513 1497 \nQ 3513 744 3044 326 \nQ 2575 -91 1722 -91 \nQ 1428 -91 1123 -41 \nQ 819 9 494 109 \nL 494 744 \nQ 775 591 1075 516 \nQ 1375 441 1709 441 \nQ 2250 441 2565 725 \nQ 2881 1009 2881 1497 \nQ 2881 1984 2565 2268 \nQ 2250 2553 1709 2553 \nQ 1456 2553 1204 2497 \nQ 953 2441 691 2322 \nL 691 4666 \nz\n\" transform=\"scale(0.015625)\"/>\n       </defs>\n       <use xlink:href=\"#DejaVuSans-35\"/>\n      </g>\n     </g>\n    </g>\n    <g id=\"xtick_3\">\n     <g id=\"line2d_3\">\n      <g>\n       <use xlink:href=\"#m75a1ebf7bc\" x=\"114.243\" y=\"273.312\" style=\"stroke: #000000; stroke-width: 0.8\"/>\n      </g>\n     </g>\n     <g id=\"text_3\">\n      <!-- 10 -->\n      <g transform=\"translate(107.8805 287.910437) scale(0.1 -0.1)\">\n       <defs>\n        <path id=\"DejaVuSans-31\" d=\"M 794 531 \nL 1825 531 \nL 1825 4091 \nL 703 3866 \nL 703 4441 \nL 1819 4666 \nL 2450 4666 \nL 2450 531 \nL 3481 531 \nL 3481 0 \nL 794 0 \nL 794 531 \nz\n\" transform=\"scale(0.015625)\"/>\n       </defs>\n       <use xlink:href=\"#DejaVuSans-31\"/>\n       <use xlink:href=\"#DejaVuSans-30\" x=\"63.623047\"/>\n      </g>\n     </g>\n    </g>\n    <g id=\"xtick_4\">\n     <g id=\"line2d_4\">\n      <g>\n       <use xlink:href=\"#m75a1ebf7bc\" x=\"155.823\" y=\"273.312\" style=\"stroke: #000000; stroke-width: 0.8\"/>\n      </g>\n     </g>\n     <g id=\"text_4\">\n      <!-- 15 -->\n      <g transform=\"translate(149.4605 287.910437) scale(0.1 -0.1)\">\n       <use xlink:href=\"#DejaVuSans-31\"/>\n       <use xlink:href=\"#DejaVuSans-35\" x=\"63.623047\"/>\n      </g>\n     </g>\n    </g>\n    <g id=\"xtick_5\">\n     <g id=\"line2d_5\">\n      <g>\n       <use xlink:href=\"#m75a1ebf7bc\" x=\"197.403\" y=\"273.312\" style=\"stroke: #000000; stroke-width: 0.8\"/>\n      </g>\n     </g>\n     <g id=\"text_5\">\n      <!-- 20 -->\n      <g transform=\"translate(191.0405 287.910437) scale(0.1 -0.1)\">\n       <defs>\n        <path id=\"DejaVuSans-32\" d=\"M 1228 531 \nL 3431 531 \nL 3431 0 \nL 469 0 \nL 469 531 \nQ 828 903 1448 1529 \nQ 2069 2156 2228 2338 \nQ 2531 2678 2651 2914 \nQ 2772 3150 2772 3378 \nQ 2772 3750 2511 3984 \nQ 2250 4219 1831 4219 \nQ 1534 4219 1204 4116 \nQ 875 4013 500 3803 \nL 500 4441 \nQ 881 4594 1212 4672 \nQ 1544 4750 1819 4750 \nQ 2544 4750 2975 4387 \nQ 3406 4025 3406 3419 \nQ 3406 3131 3298 2873 \nQ 3191 2616 2906 2266 \nQ 2828 2175 2409 1742 \nQ 1991 1309 1228 531 \nz\n\" transform=\"scale(0.015625)\"/>\n       </defs>\n       <use xlink:href=\"#DejaVuSans-32\"/>\n       <use xlink:href=\"#DejaVuSans-30\" x=\"63.623047\"/>\n      </g>\n     </g>\n    </g>\n    <g id=\"xtick_6\">\n     <g id=\"line2d_6\">\n      <g>\n       <use xlink:href=\"#m75a1ebf7bc\" x=\"238.983\" y=\"273.312\" style=\"stroke: #000000; stroke-width: 0.8\"/>\n      </g>\n     </g>\n     <g id=\"text_6\">\n      <!-- 25 -->\n      <g transform=\"translate(232.6205 287.910437) scale(0.1 -0.1)\">\n       <use xlink:href=\"#DejaVuSans-32\"/>\n       <use xlink:href=\"#DejaVuSans-35\" x=\"63.623047\"/>\n      </g>\n     </g>\n    </g>\n    <g id=\"xtick_7\">\n     <g id=\"line2d_7\">\n      <g>\n       <use xlink:href=\"#m75a1ebf7bc\" x=\"280.563\" y=\"273.312\" style=\"stroke: #000000; stroke-width: 0.8\"/>\n      </g>\n     </g>\n     <g id=\"text_7\">\n      <!-- 30 -->\n      <g transform=\"translate(274.2005 287.910437) scale(0.1 -0.1)\">\n       <defs>\n        <path id=\"DejaVuSans-33\" d=\"M 2597 2516 \nQ 3050 2419 3304 2112 \nQ 3559 1806 3559 1356 \nQ 3559 666 3084 287 \nQ 2609 -91 1734 -91 \nQ 1441 -91 1130 -33 \nQ 819 25 488 141 \nL 488 750 \nQ 750 597 1062 519 \nQ 1375 441 1716 441 \nQ 2309 441 2620 675 \nQ 2931 909 2931 1356 \nQ 2931 1769 2642 2001 \nQ 2353 2234 1838 2234 \nL 1294 2234 \nL 1294 2753 \nL 1863 2753 \nQ 2328 2753 2575 2939 \nQ 2822 3125 2822 3475 \nQ 2822 3834 2567 4026 \nQ 2313 4219 1838 4219 \nQ 1578 4219 1281 4162 \nQ 984 4106 628 3988 \nL 628 4550 \nQ 988 4650 1302 4700 \nQ 1616 4750 1894 4750 \nQ 2613 4750 3031 4423 \nQ 3450 4097 3450 3541 \nQ 3450 3153 3228 2886 \nQ 3006 2619 2597 2516 \nz\n\" transform=\"scale(0.015625)\"/>\n       </defs>\n       <use xlink:href=\"#DejaVuSans-33\"/>\n       <use xlink:href=\"#DejaVuSans-30\" x=\"63.623047\"/>\n      </g>\n     </g>\n    </g>\n   </g>\n   <g id=\"matplotlib.axis_2\">\n    <g id=\"ytick_1\">\n     <g id=\"line2d_8\">\n      <defs>\n       <path id=\"md21fbb1d30\" d=\"M 0 0 \nL -3.5 0 \n\" style=\"stroke: #000000; stroke-width: 0.8\"/>\n      </defs>\n      <g>\n       <use xlink:href=\"#md21fbb1d30\" x=\"26.925\" y=\"11.358\" style=\"stroke: #000000; stroke-width: 0.8\"/>\n      </g>\n     </g>\n     <g id=\"text_8\">\n      <!-- 0 -->\n      <g transform=\"translate(13.5625 15.157219) scale(0.1 -0.1)\">\n       <use xlink:href=\"#DejaVuSans-30\"/>\n      </g>\n     </g>\n    </g>\n    <g id=\"ytick_2\">\n     <g id=\"line2d_9\">\n      <g>\n       <use xlink:href=\"#md21fbb1d30\" x=\"26.925\" y=\"52.938\" style=\"stroke: #000000; stroke-width: 0.8\"/>\n      </g>\n     </g>\n     <g id=\"text_9\">\n      <!-- 5 -->\n      <g transform=\"translate(13.5625 56.737219) scale(0.1 -0.1)\">\n       <use xlink:href=\"#DejaVuSans-35\"/>\n      </g>\n     </g>\n    </g>\n    <g id=\"ytick_3\">\n     <g id=\"line2d_10\">\n      <g>\n       <use xlink:href=\"#md21fbb1d30\" x=\"26.925\" y=\"94.518\" style=\"stroke: #000000; stroke-width: 0.8\"/>\n      </g>\n     </g>\n     <g id=\"text_10\">\n      <!-- 10 -->\n      <g transform=\"translate(7.2 98.317219) scale(0.1 -0.1)\">\n       <use xlink:href=\"#DejaVuSans-31\"/>\n       <use xlink:href=\"#DejaVuSans-30\" x=\"63.623047\"/>\n      </g>\n     </g>\n    </g>\n    <g id=\"ytick_4\">\n     <g id=\"line2d_11\">\n      <g>\n       <use xlink:href=\"#md21fbb1d30\" x=\"26.925\" y=\"136.098\" style=\"stroke: #000000; stroke-width: 0.8\"/>\n      </g>\n     </g>\n     <g id=\"text_11\">\n      <!-- 15 -->\n      <g transform=\"translate(7.2 139.897219) scale(0.1 -0.1)\">\n       <use xlink:href=\"#DejaVuSans-31\"/>\n       <use xlink:href=\"#DejaVuSans-35\" x=\"63.623047\"/>\n      </g>\n     </g>\n    </g>\n    <g id=\"ytick_5\">\n     <g id=\"line2d_12\">\n      <g>\n       <use xlink:href=\"#md21fbb1d30\" x=\"26.925\" y=\"177.678\" style=\"stroke: #000000; stroke-width: 0.8\"/>\n      </g>\n     </g>\n     <g id=\"text_12\">\n      <!-- 20 -->\n      <g transform=\"translate(7.2 181.477219) scale(0.1 -0.1)\">\n       <use xlink:href=\"#DejaVuSans-32\"/>\n       <use xlink:href=\"#DejaVuSans-30\" x=\"63.623047\"/>\n      </g>\n     </g>\n    </g>\n    <g id=\"ytick_6\">\n     <g id=\"line2d_13\">\n      <g>\n       <use xlink:href=\"#md21fbb1d30\" x=\"26.925\" y=\"219.258\" style=\"stroke: #000000; stroke-width: 0.8\"/>\n      </g>\n     </g>\n     <g id=\"text_13\">\n      <!-- 25 -->\n      <g transform=\"translate(7.2 223.057219) scale(0.1 -0.1)\">\n       <use xlink:href=\"#DejaVuSans-32\"/>\n       <use xlink:href=\"#DejaVuSans-35\" x=\"63.623047\"/>\n      </g>\n     </g>\n    </g>\n    <g id=\"ytick_7\">\n     <g id=\"line2d_14\">\n      <g>\n       <use xlink:href=\"#md21fbb1d30\" x=\"26.925\" y=\"260.838\" style=\"stroke: #000000; stroke-width: 0.8\"/>\n      </g>\n     </g>\n     <g id=\"text_14\">\n      <!-- 30 -->\n      <g transform=\"translate(7.2 264.637219) scale(0.1 -0.1)\">\n       <use xlink:href=\"#DejaVuSans-33\"/>\n       <use xlink:href=\"#DejaVuSans-30\" x=\"63.623047\"/>\n      </g>\n     </g>\n    </g>\n   </g>\n   <g id=\"patch_3\">\n    <path d=\"M 26.925 273.312 \nL 26.925 7.2 \n\" style=\"fill: none; stroke: #000000; stroke-width: 0.8; stroke-linejoin: miter; stroke-linecap: square\"/>\n   </g>\n   <g id=\"patch_4\">\n    <path d=\"M 293.037 273.312 \nL 293.037 7.2 \n\" style=\"fill: none; stroke: #000000; stroke-width: 0.8; stroke-linejoin: miter; stroke-linecap: square\"/>\n   </g>\n   <g id=\"patch_5\">\n    <path d=\"M 26.925 273.312 \nL 293.037 273.312 \n\" style=\"fill: none; stroke: #000000; stroke-width: 0.8; stroke-linejoin: miter; stroke-linecap: square\"/>\n   </g>\n   <g id=\"patch_6\">\n    <path d=\"M 26.925 7.2 \nL 293.037 7.2 \n\" style=\"fill: none; stroke: #000000; stroke-width: 0.8; stroke-linejoin: miter; stroke-linecap: square\"/>\n   </g>\n  </g>\n </g>\n <defs>\n  <clipPath id=\"p4b74a72439\">\n   <rect x=\"26.925\" y=\"7.2\" width=\"266.112\" height=\"266.112\"/>\n  </clipPath>\n </defs>\n</svg>\n"
     },
     "metadata": {},
     "output_type": "display_data"
    }
   ],
   "execution_count": 131
  },
  {
   "cell_type": "markdown",
   "id": "75f6957f-ce10-4902-9d1f-f3485350218f",
   "metadata": {},
   "source": [
    "## PyMPDATA"
   ]
  },
  {
   "cell_type": "code",
   "id": "initial_id",
   "metadata": {
    "ExecuteTime": {
     "end_time": "2024-06-09T19:04:54.193778Z",
     "start_time": "2024-06-09T19:04:54.188059Z"
    }
   },
   "source": [
    "import os\n",
    "import numpy as np\n",
    "import sympy as sp\n",
    "from IPython.display import display\n",
    "from ipywidgets import FloatProgress\n",
    "from matplotlib.animation import FuncAnimation\n",
    "import matplotlib.pyplot as plt\n",
    "from PyMPDATA import Solver, ScalarField, VectorField, Stepper, Options\n",
    "from PyMPDATA.boundary_conditions import Periodic"
   ],
   "outputs": [],
   "execution_count": 132
  },
  {
   "cell_type": "code",
   "id": "d250dea0d2fa492f",
   "metadata": {
    "ExecuteTime": {
     "end_time": "2024-06-09T19:04:54.404432Z",
     "start_time": "2024-06-09T19:04:54.400541Z"
    }
   },
   "source": [
    "steps_per_iter = 1\n",
    "opt = Options(n_iters=3, non_zero_mu_coeff=True, infinite_gauge=True, nonoscillatory=True)"
   ],
   "outputs": [],
   "execution_count": 133
  },
  {
   "cell_type": "code",
   "id": "6f97795f4265b959",
   "metadata": {
    "ExecuteTime": {
     "end_time": "2024-06-09T19:04:54.577344Z",
     "start_time": "2024-06-09T19:04:54.572117Z"
    }
   },
   "source": [
    "x0 = -1.\n",
    "y0 = -1.\n",
    "boundary_conditions = (Periodic(), Periodic())"
   ],
   "outputs": [],
   "execution_count": 134
  },
  {
   "cell_type": "code",
   "id": "25b45beff0117518",
   "metadata": {
    "ExecuteTime": {
     "end_time": "2024-06-09T19:04:54.753245Z",
     "start_time": "2024-06-09T19:04:54.733764Z"
    }
   },
   "source": [
    "mu = 0.0\n",
    "c = 1.\n",
    "min_x, min_y = -1, -1\n",
    "max_x, max_y = 1, 1\n",
    "dx = (max_x - min_x) / SETUP['nx']\n",
    "dy = (max_y - min_y) / SETUP['ny']\n",
    "solution_symbolic = sp.sympify(\"sin(pi*(x+y))*exp(-mu*pi**2*t) + 1\", rational=True)\n",
    "solution = solution_symbolic.subs({\"mu\": mu})"
   ],
   "outputs": [],
   "execution_count": 135
  },
  {
   "cell_type": "code",
   "id": "c159d1f052dc2b64",
   "metadata": {
    "ExecuteTime": {
     "end_time": "2024-06-09T19:04:54.889136Z",
     "start_time": "2024-06-09T19:04:54.885608Z"
    }
   },
   "source": [
    "def init_conditions(x, y):\n",
    "    return solution_symbolic.subs({\"t\":0, \"x\": x, \"y\": y}).evalf()"
   ],
   "outputs": [],
   "execution_count": 136
  },
  {
   "cell_type": "code",
   "id": "b001ff332724502",
   "metadata": {
    "ExecuteTime": {
     "end_time": "2024-06-09T19:04:56.006865Z",
     "start_time": "2024-06-09T19:04:55.009087Z"
    }
   },
   "source": [
    "z = np.array(\n",
    "    [\n",
    "        # [\n",
    "            init_conditions(x, y) for x in np.linspace(min_x, max_x, SETUP['nx'])\n",
    "        # ]\n",
    "        for y in np.linspace(min_y, max_y, SETUP['ny'])\n",
    "    ],\n",
    "    dtype=float\n",
    ").reshape((SETUP['nx'], SETUP['ny']))"
   ],
   "outputs": [],
   "execution_count": 137
  },
  {
   "cell_type": "code",
   "id": "8f1be20a839a5d59",
   "metadata": {
    "ExecuteTime": {
     "end_time": "2024-06-09T19:04:56.010742Z",
     "start_time": "2024-06-09T19:04:56.008129Z"
    }
   },
   "source": [
    "advectee = ScalarField(data=z, halo=opt.n_halo, boundary_conditions=boundary_conditions)"
   ],
   "outputs": [],
   "execution_count": 138
  },
  {
   "cell_type": "code",
   "id": "70482d29c0d0c4ed",
   "metadata": {
    "ExecuteTime": {
     "end_time": "2024-06-09T19:04:56.020337Z",
     "start_time": "2024-06-09T19:04:56.012014Z"
    }
   },
   "source": [
    "field_x = np.full((SETUP['nx']+1, SETUP['ny']), SETUP['Cx'], dtype=opt.dtype)\n",
    "field_y = np.full((SETUP['nx'], SETUP['ny']+1), SETUP['Cy'], dtype=opt.dtype)\n",
    "advector = VectorField(\n",
    "    data=(field_x, field_y),\n",
    "    halo=opt.n_halo,\n",
    "    boundary_conditions=(boundary_conditions[0], Periodic())\n",
    ")"
   ],
   "outputs": [],
   "execution_count": 139
  },
  {
   "cell_type": "code",
   "id": "79a4fcc5da244dc2",
   "metadata": {
    "ExecuteTime": {
     "end_time": "2024-06-09T19:04:56.025179Z",
     "start_time": "2024-06-09T19:04:56.022048Z"
    }
   },
   "source": [
    "stepper = Stepper(options=opt, n_dims=2)"
   ],
   "outputs": [],
   "execution_count": 140
  },
  {
   "cell_type": "code",
   "id": "ef6bf4fc8253d460",
   "metadata": {
    "ExecuteTime": {
     "end_time": "2024-06-09T19:04:56.030485Z",
     "start_time": "2024-06-09T19:04:56.026490Z"
    }
   },
   "source": [
    "# create a solver\n",
    "solver = Solver(stepper=stepper, advector=advector, advectee=advectee)"
   ],
   "outputs": [],
   "execution_count": 141
  },
  {
   "cell_type": "code",
   "id": "488a82b9cfa32f85",
   "metadata": {
    "ExecuteTime": {
     "end_time": "2024-06-09T19:04:56.297822Z",
     "start_time": "2024-06-09T19:04:56.031651Z"
    }
   },
   "source": [
    "plt.imshow(solver.advectee.get().copy(), cmap='viridis')\n",
    "plt.colorbar()\n",
    "show_plot()"
   ],
   "outputs": [
    {
     "data": {
      "text/plain": "<Figure size 640x480 with 2 Axes>",
      "image/svg+xml": "<?xml version=\"1.0\" encoding=\"utf-8\" standalone=\"no\"?>\n<!DOCTYPE svg PUBLIC \"-//W3C//DTD SVG 1.1//EN\"\n  \"http://www.w3.org/Graphics/SVG/1.1/DTD/svg11.dtd\">\n<svg xmlns:xlink=\"http://www.w3.org/1999/xlink\" width=\"360.664225pt\" height=\"297.190125pt\" viewBox=\"0 0 360.664225 297.190125\" xmlns=\"http://www.w3.org/2000/svg\" version=\"1.1\">\n <metadata>\n  <rdf:RDF xmlns:dc=\"http://purl.org/dc/elements/1.1/\" xmlns:cc=\"http://creativecommons.org/ns#\" xmlns:rdf=\"http://www.w3.org/1999/02/22-rdf-syntax-ns#\">\n   <cc:Work>\n    <dc:type rdf:resource=\"http://purl.org/dc/dcmitype/StillImage\"/>\n    <dc:date>2024-06-09T21:04:56.250648</dc:date>\n    <dc:format>image/svg+xml</dc:format>\n    <dc:creator>\n     <cc:Agent>\n      <dc:title>Matplotlib v3.9.0, https://matplotlib.org/</dc:title>\n     </cc:Agent>\n    </dc:creator>\n   </cc:Work>\n  </rdf:RDF>\n </metadata>\n <defs>\n  <style type=\"text/css\">*{stroke-linejoin: round; stroke-linecap: butt}</style>\n </defs>\n <g id=\"figure_1\">\n  <g id=\"patch_1\">\n   <path d=\"M 0 297.190125 \nL 360.664225 297.190125 \nL 360.664225 0 \nL 0 0 \nz\n\" style=\"fill: #ffffff\"/>\n  </g>\n  <g id=\"axes_1\">\n   <g id=\"patch_2\">\n    <path d=\"M 26.925 273.312 \nL 293.037 273.312 \nL 293.037 7.2 \nL 26.925 7.2 \nz\n\" style=\"fill: #ffffff\"/>\n   </g>\n   <g clip-path=\"url(#p076f543c0d)\">\n    <image xlink:href=\"data:image/png;base64,\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\" id=\"image456fea4788\" transform=\"scale(1 -1) translate(0 -266.4)\" x=\"26.925\" y=\"-6.912\" width=\"266.4\" height=\"266.4\"/>\n   </g>\n   <g id=\"matplotlib.axis_1\">\n    <g id=\"xtick_1\">\n     <g id=\"line2d_1\">\n      <defs>\n       <path id=\"m86382d0416\" d=\"M 0 0 \nL 0 3.5 \n\" style=\"stroke: #000000; stroke-width: 0.8\"/>\n      </defs>\n      <g>\n       <use xlink:href=\"#m86382d0416\" x=\"31.083\" y=\"273.312\" style=\"stroke: #000000; stroke-width: 0.8\"/>\n      </g>\n     </g>\n     <g id=\"text_1\">\n      <!-- 0 -->\n      <g transform=\"translate(27.90175 287.910437) scale(0.1 -0.1)\">\n       <defs>\n        <path id=\"DejaVuSans-30\" d=\"M 2034 4250 \nQ 1547 4250 1301 3770 \nQ 1056 3291 1056 2328 \nQ 1056 1369 1301 889 \nQ 1547 409 2034 409 \nQ 2525 409 2770 889 \nQ 3016 1369 3016 2328 \nQ 3016 3291 2770 3770 \nQ 2525 4250 2034 4250 \nz\nM 2034 4750 \nQ 2819 4750 3233 4129 \nQ 3647 3509 3647 2328 \nQ 3647 1150 3233 529 \nQ 2819 -91 2034 -91 \nQ 1250 -91 836 529 \nQ 422 1150 422 2328 \nQ 422 3509 836 4129 \nQ 1250 4750 2034 4750 \nz\n\" transform=\"scale(0.015625)\"/>\n       </defs>\n       <use xlink:href=\"#DejaVuSans-30\"/>\n      </g>\n     </g>\n    </g>\n    <g id=\"xtick_2\">\n     <g id=\"line2d_2\">\n      <g>\n       <use xlink:href=\"#m86382d0416\" x=\"72.663\" y=\"273.312\" style=\"stroke: #000000; stroke-width: 0.8\"/>\n      </g>\n     </g>\n     <g id=\"text_2\">\n      <!-- 5 -->\n      <g transform=\"translate(69.48175 287.910437) scale(0.1 -0.1)\">\n       <defs>\n        <path id=\"DejaVuSans-35\" d=\"M 691 4666 \nL 3169 4666 \nL 3169 4134 \nL 1269 4134 \nL 1269 2991 \nQ 1406 3038 1543 3061 \nQ 1681 3084 1819 3084 \nQ 2600 3084 3056 2656 \nQ 3513 2228 3513 1497 \nQ 3513 744 3044 326 \nQ 2575 -91 1722 -91 \nQ 1428 -91 1123 -41 \nQ 819 9 494 109 \nL 494 744 \nQ 775 591 1075 516 \nQ 1375 441 1709 441 \nQ 2250 441 2565 725 \nQ 2881 1009 2881 1497 \nQ 2881 1984 2565 2268 \nQ 2250 2553 1709 2553 \nQ 1456 2553 1204 2497 \nQ 953 2441 691 2322 \nL 691 4666 \nz\n\" transform=\"scale(0.015625)\"/>\n       </defs>\n       <use xlink:href=\"#DejaVuSans-35\"/>\n      </g>\n     </g>\n    </g>\n    <g id=\"xtick_3\">\n     <g id=\"line2d_3\">\n      <g>\n       <use xlink:href=\"#m86382d0416\" x=\"114.243\" y=\"273.312\" style=\"stroke: #000000; stroke-width: 0.8\"/>\n      </g>\n     </g>\n     <g id=\"text_3\">\n      <!-- 10 -->\n      <g transform=\"translate(107.8805 287.910437) scale(0.1 -0.1)\">\n       <defs>\n        <path id=\"DejaVuSans-31\" d=\"M 794 531 \nL 1825 531 \nL 1825 4091 \nL 703 3866 \nL 703 4441 \nL 1819 4666 \nL 2450 4666 \nL 2450 531 \nL 3481 531 \nL 3481 0 \nL 794 0 \nL 794 531 \nz\n\" transform=\"scale(0.015625)\"/>\n       </defs>\n       <use xlink:href=\"#DejaVuSans-31\"/>\n       <use xlink:href=\"#DejaVuSans-30\" x=\"63.623047\"/>\n      </g>\n     </g>\n    </g>\n    <g id=\"xtick_4\">\n     <g id=\"line2d_4\">\n      <g>\n       <use xlink:href=\"#m86382d0416\" x=\"155.823\" y=\"273.312\" style=\"stroke: #000000; stroke-width: 0.8\"/>\n      </g>\n     </g>\n     <g id=\"text_4\">\n      <!-- 15 -->\n      <g transform=\"translate(149.4605 287.910437) scale(0.1 -0.1)\">\n       <use xlink:href=\"#DejaVuSans-31\"/>\n       <use xlink:href=\"#DejaVuSans-35\" x=\"63.623047\"/>\n      </g>\n     </g>\n    </g>\n    <g id=\"xtick_5\">\n     <g id=\"line2d_5\">\n      <g>\n       <use xlink:href=\"#m86382d0416\" x=\"197.403\" y=\"273.312\" style=\"stroke: #000000; stroke-width: 0.8\"/>\n      </g>\n     </g>\n     <g id=\"text_5\">\n      <!-- 20 -->\n      <g transform=\"translate(191.0405 287.910437) scale(0.1 -0.1)\">\n       <defs>\n        <path id=\"DejaVuSans-32\" d=\"M 1228 531 \nL 3431 531 \nL 3431 0 \nL 469 0 \nL 469 531 \nQ 828 903 1448 1529 \nQ 2069 2156 2228 2338 \nQ 2531 2678 2651 2914 \nQ 2772 3150 2772 3378 \nQ 2772 3750 2511 3984 \nQ 2250 4219 1831 4219 \nQ 1534 4219 1204 4116 \nQ 875 4013 500 3803 \nL 500 4441 \nQ 881 4594 1212 4672 \nQ 1544 4750 1819 4750 \nQ 2544 4750 2975 4387 \nQ 3406 4025 3406 3419 \nQ 3406 3131 3298 2873 \nQ 3191 2616 2906 2266 \nQ 2828 2175 2409 1742 \nQ 1991 1309 1228 531 \nz\n\" transform=\"scale(0.015625)\"/>\n       </defs>\n       <use xlink:href=\"#DejaVuSans-32\"/>\n       <use xlink:href=\"#DejaVuSans-30\" x=\"63.623047\"/>\n      </g>\n     </g>\n    </g>\n    <g id=\"xtick_6\">\n     <g id=\"line2d_6\">\n      <g>\n       <use xlink:href=\"#m86382d0416\" x=\"238.983\" y=\"273.312\" style=\"stroke: #000000; stroke-width: 0.8\"/>\n      </g>\n     </g>\n     <g id=\"text_6\">\n      <!-- 25 -->\n      <g transform=\"translate(232.6205 287.910437) scale(0.1 -0.1)\">\n       <use xlink:href=\"#DejaVuSans-32\"/>\n       <use xlink:href=\"#DejaVuSans-35\" x=\"63.623047\"/>\n      </g>\n     </g>\n    </g>\n    <g id=\"xtick_7\">\n     <g id=\"line2d_7\">\n      <g>\n       <use xlink:href=\"#m86382d0416\" x=\"280.563\" y=\"273.312\" style=\"stroke: #000000; stroke-width: 0.8\"/>\n      </g>\n     </g>\n     <g id=\"text_7\">\n      <!-- 30 -->\n      <g transform=\"translate(274.2005 287.910437) scale(0.1 -0.1)\">\n       <defs>\n        <path id=\"DejaVuSans-33\" d=\"M 2597 2516 \nQ 3050 2419 3304 2112 \nQ 3559 1806 3559 1356 \nQ 3559 666 3084 287 \nQ 2609 -91 1734 -91 \nQ 1441 -91 1130 -33 \nQ 819 25 488 141 \nL 488 750 \nQ 750 597 1062 519 \nQ 1375 441 1716 441 \nQ 2309 441 2620 675 \nQ 2931 909 2931 1356 \nQ 2931 1769 2642 2001 \nQ 2353 2234 1838 2234 \nL 1294 2234 \nL 1294 2753 \nL 1863 2753 \nQ 2328 2753 2575 2939 \nQ 2822 3125 2822 3475 \nQ 2822 3834 2567 4026 \nQ 2313 4219 1838 4219 \nQ 1578 4219 1281 4162 \nQ 984 4106 628 3988 \nL 628 4550 \nQ 988 4650 1302 4700 \nQ 1616 4750 1894 4750 \nQ 2613 4750 3031 4423 \nQ 3450 4097 3450 3541 \nQ 3450 3153 3228 2886 \nQ 3006 2619 2597 2516 \nz\n\" transform=\"scale(0.015625)\"/>\n       </defs>\n       <use xlink:href=\"#DejaVuSans-33\"/>\n       <use xlink:href=\"#DejaVuSans-30\" x=\"63.623047\"/>\n      </g>\n     </g>\n    </g>\n   </g>\n   <g id=\"matplotlib.axis_2\">\n    <g id=\"ytick_1\">\n     <g id=\"line2d_8\">\n      <defs>\n       <path id=\"m93852c39b8\" d=\"M 0 0 \nL -3.5 0 \n\" style=\"stroke: #000000; stroke-width: 0.8\"/>\n      </defs>\n      <g>\n       <use xlink:href=\"#m93852c39b8\" x=\"26.925\" y=\"11.358\" style=\"stroke: #000000; stroke-width: 0.8\"/>\n      </g>\n     </g>\n     <g id=\"text_8\">\n      <!-- 0 -->\n      <g transform=\"translate(13.5625 15.157219) scale(0.1 -0.1)\">\n       <use xlink:href=\"#DejaVuSans-30\"/>\n      </g>\n     </g>\n    </g>\n    <g id=\"ytick_2\">\n     <g id=\"line2d_9\">\n      <g>\n       <use xlink:href=\"#m93852c39b8\" x=\"26.925\" y=\"52.938\" style=\"stroke: #000000; stroke-width: 0.8\"/>\n      </g>\n     </g>\n     <g id=\"text_9\">\n      <!-- 5 -->\n      <g transform=\"translate(13.5625 56.737219) scale(0.1 -0.1)\">\n       <use xlink:href=\"#DejaVuSans-35\"/>\n      </g>\n     </g>\n    </g>\n    <g id=\"ytick_3\">\n     <g id=\"line2d_10\">\n      <g>\n       <use xlink:href=\"#m93852c39b8\" x=\"26.925\" y=\"94.518\" style=\"stroke: #000000; stroke-width: 0.8\"/>\n      </g>\n     </g>\n     <g id=\"text_10\">\n      <!-- 10 -->\n      <g transform=\"translate(7.2 98.317219) scale(0.1 -0.1)\">\n       <use xlink:href=\"#DejaVuSans-31\"/>\n       <use xlink:href=\"#DejaVuSans-30\" x=\"63.623047\"/>\n      </g>\n     </g>\n    </g>\n    <g id=\"ytick_4\">\n     <g id=\"line2d_11\">\n      <g>\n       <use xlink:href=\"#m93852c39b8\" x=\"26.925\" y=\"136.098\" style=\"stroke: #000000; stroke-width: 0.8\"/>\n      </g>\n     </g>\n     <g id=\"text_11\">\n      <!-- 15 -->\n      <g transform=\"translate(7.2 139.897219) scale(0.1 -0.1)\">\n       <use xlink:href=\"#DejaVuSans-31\"/>\n       <use xlink:href=\"#DejaVuSans-35\" x=\"63.623047\"/>\n      </g>\n     </g>\n    </g>\n    <g id=\"ytick_5\">\n     <g id=\"line2d_12\">\n      <g>\n       <use xlink:href=\"#m93852c39b8\" x=\"26.925\" y=\"177.678\" style=\"stroke: #000000; stroke-width: 0.8\"/>\n      </g>\n     </g>\n     <g id=\"text_12\">\n      <!-- 20 -->\n      <g transform=\"translate(7.2 181.477219) scale(0.1 -0.1)\">\n       <use xlink:href=\"#DejaVuSans-32\"/>\n       <use xlink:href=\"#DejaVuSans-30\" x=\"63.623047\"/>\n      </g>\n     </g>\n    </g>\n    <g id=\"ytick_6\">\n     <g id=\"line2d_13\">\n      <g>\n       <use xlink:href=\"#m93852c39b8\" x=\"26.925\" y=\"219.258\" style=\"stroke: #000000; stroke-width: 0.8\"/>\n      </g>\n     </g>\n     <g id=\"text_13\">\n      <!-- 25 -->\n      <g transform=\"translate(7.2 223.057219) scale(0.1 -0.1)\">\n       <use xlink:href=\"#DejaVuSans-32\"/>\n       <use xlink:href=\"#DejaVuSans-35\" x=\"63.623047\"/>\n      </g>\n     </g>\n    </g>\n    <g id=\"ytick_7\">\n     <g id=\"line2d_14\">\n      <g>\n       <use xlink:href=\"#m93852c39b8\" x=\"26.925\" y=\"260.838\" style=\"stroke: #000000; stroke-width: 0.8\"/>\n      </g>\n     </g>\n     <g id=\"text_14\">\n      <!-- 30 -->\n      <g transform=\"translate(7.2 264.637219) scale(0.1 -0.1)\">\n       <use xlink:href=\"#DejaVuSans-33\"/>\n       <use xlink:href=\"#DejaVuSans-30\" x=\"63.623047\"/>\n      </g>\n     </g>\n    </g>\n   </g>\n   <g id=\"patch_3\">\n    <path d=\"M 26.925 273.312 \nL 26.925 7.2 \n\" style=\"fill: none; stroke: #000000; stroke-width: 0.8; stroke-linejoin: miter; stroke-linecap: square\"/>\n   </g>\n   <g id=\"patch_4\">\n    <path d=\"M 293.037 273.312 \nL 293.037 7.2 \n\" style=\"fill: none; stroke: #000000; stroke-width: 0.8; stroke-linejoin: miter; stroke-linecap: square\"/>\n   </g>\n   <g id=\"patch_5\">\n    <path d=\"M 26.925 273.312 \nL 293.037 273.312 \n\" style=\"fill: none; stroke: #000000; stroke-width: 0.8; stroke-linejoin: miter; stroke-linecap: square\"/>\n   </g>\n   <g id=\"patch_6\">\n    <path d=\"M 26.925 7.2 \nL 293.037 7.2 \n\" style=\"fill: none; stroke: #000000; stroke-width: 0.8; stroke-linejoin: miter; stroke-linecap: square\"/>\n   </g>\n  </g>\n  <g id=\"axes_2\">\n   <g id=\"patch_7\">\n    <path d=\"M 310.893 273.312 \nL 324.1986 273.312 \nL 324.1986 7.2 \nL 310.893 7.2 \nz\n\" style=\"fill: #ffffff\"/>\n   </g>\n   <image xlink:href=\"data:image/png;base64,\niVBORw0KGgoAAAANSUhEUgAAABIAAAFyCAYAAAD4TYq5AAAB70lEQVR4nO2d0Q0CMQxD02tHYwT2H4UyQvh4Qk9WMoBVx47bHqdjvdb7FlAPAVJVdWoxWGc9iwGiVsT1KJhacdQYIFI1yNk+amWjhvkIlJ8KNh81TrVxdlfBqmU7e3bappSq6ajZVDtX2CMKyEct19mUjzD5g1Wboe3L6GwGx+jsmzu0F1JN6GzKkMl5JKTGqcYAZQ8tAyS8Qhjlh4CM1Ea1Dih4pw3OI+roZ6Q2hmyBdNMfHGxDra/oS41NNWFm63o01Poaav8ECu4R8jZcKan5ojZ4F9FRmx71JRza5KjNpTY9agtb0eRRX2PIH4Ci5WfOtcny+1SLNiQGlOpsX7OVzmbk9zVbqJpvaH09Gmf3QNDPIsbzkc+Q3NBWbI9WrvzR1CAgX9RiqmE9olYkDDYfNYiZkprO2U9yj3zUIKBg1R7ooBWsmtDZQ+0HIKGzKWrBqtmAwB5Rd1ohtWDVcvMIVO1DAel6lDy0kGrbR41TjemRcGj39KgFMjo7Nmp3MDVsg6SGllqRcTsSHrSGWgdETb9xF6GCTTi0wXnEqWYbWnCntakGzhp279f1KDizc/OIu6/pVAMNGfu0hgs24RlS9kjDOLS6N6LAPGLqbGGPoO9oUUsiMxujZvtwCaiajhqnGvRXBcYeYdRkn+H/AmwfjeY0lt0cAAAAAElFTkSuQmCC\" id=\"image88aa798fee\" transform=\"scale(1 -1) translate(0 -266.4)\" x=\"311.04\" y=\"-6.48\" width=\"12.96\" height=\"266.4\"/>\n   <g id=\"matplotlib.axis_3\"/>\n   <g id=\"matplotlib.axis_4\">\n    <g id=\"ytick_8\">\n     <g id=\"line2d_15\">\n      <defs>\n       <path id=\"mba5776a018\" d=\"M 0 0 \nL 3.5 0 \n\" style=\"stroke: #000000; stroke-width: 0.8\"/>\n      </defs>\n      <g>\n       <use xlink:href=\"#mba5776a018\" x=\"324.1986\" y=\"240.176247\" style=\"stroke: #000000; stroke-width: 0.8\"/>\n      </g>\n     </g>\n     <g id=\"text_15\">\n      <!-- 0.25 -->\n      <g transform=\"translate(331.1986 243.975466) scale(0.1 -0.1)\">\n       <defs>\n        <path id=\"DejaVuSans-2e\" d=\"M 684 794 \nL 1344 794 \nL 1344 0 \nL 684 0 \nL 684 794 \nz\n\" transform=\"scale(0.015625)\"/>\n       </defs>\n       <use xlink:href=\"#DejaVuSans-30\"/>\n       <use xlink:href=\"#DejaVuSans-2e\" x=\"63.623047\"/>\n       <use xlink:href=\"#DejaVuSans-32\" x=\"95.410156\"/>\n       <use xlink:href=\"#DejaVuSans-35\" x=\"159.033203\"/>\n      </g>\n     </g>\n    </g>\n    <g id=\"ytick_9\">\n     <g id=\"line2d_16\">\n      <g>\n       <use xlink:href=\"#mba5776a018\" x=\"324.1986\" y=\"206.869498\" style=\"stroke: #000000; stroke-width: 0.8\"/>\n      </g>\n     </g>\n     <g id=\"text_16\">\n      <!-- 0.50 -->\n      <g transform=\"translate(331.1986 210.668717) scale(0.1 -0.1)\">\n       <use xlink:href=\"#DejaVuSans-30\"/>\n       <use xlink:href=\"#DejaVuSans-2e\" x=\"63.623047\"/>\n       <use xlink:href=\"#DejaVuSans-35\" x=\"95.410156\"/>\n       <use xlink:href=\"#DejaVuSans-30\" x=\"159.033203\"/>\n      </g>\n     </g>\n    </g>\n    <g id=\"ytick_10\">\n     <g id=\"line2d_17\">\n      <g>\n       <use xlink:href=\"#mba5776a018\" x=\"324.1986\" y=\"173.562749\" style=\"stroke: #000000; stroke-width: 0.8\"/>\n      </g>\n     </g>\n     <g id=\"text_17\">\n      <!-- 0.75 -->\n      <g transform=\"translate(331.1986 177.361968) scale(0.1 -0.1)\">\n       <defs>\n        <path id=\"DejaVuSans-37\" d=\"M 525 4666 \nL 3525 4666 \nL 3525 4397 \nL 1831 0 \nL 1172 0 \nL 2766 4134 \nL 525 4134 \nL 525 4666 \nz\n\" transform=\"scale(0.015625)\"/>\n       </defs>\n       <use xlink:href=\"#DejaVuSans-30\"/>\n       <use xlink:href=\"#DejaVuSans-2e\" x=\"63.623047\"/>\n       <use xlink:href=\"#DejaVuSans-37\" x=\"95.410156\"/>\n       <use xlink:href=\"#DejaVuSans-35\" x=\"159.033203\"/>\n      </g>\n     </g>\n    </g>\n    <g id=\"ytick_11\">\n     <g id=\"line2d_18\">\n      <g>\n       <use xlink:href=\"#mba5776a018\" x=\"324.1986\" y=\"140.256\" style=\"stroke: #000000; stroke-width: 0.8\"/>\n      </g>\n     </g>\n     <g id=\"text_18\">\n      <!-- 1.00 -->\n      <g transform=\"translate(331.1986 144.055219) scale(0.1 -0.1)\">\n       <use xlink:href=\"#DejaVuSans-31\"/>\n       <use xlink:href=\"#DejaVuSans-2e\" x=\"63.623047\"/>\n       <use xlink:href=\"#DejaVuSans-30\" x=\"95.410156\"/>\n       <use xlink:href=\"#DejaVuSans-30\" x=\"159.033203\"/>\n      </g>\n     </g>\n    </g>\n    <g id=\"ytick_12\">\n     <g id=\"line2d_19\">\n      <g>\n       <use xlink:href=\"#mba5776a018\" x=\"324.1986\" y=\"106.949251\" style=\"stroke: #000000; stroke-width: 0.8\"/>\n      </g>\n     </g>\n     <g id=\"text_19\">\n      <!-- 1.25 -->\n      <g transform=\"translate(331.1986 110.74847) scale(0.1 -0.1)\">\n       <use xlink:href=\"#DejaVuSans-31\"/>\n       <use xlink:href=\"#DejaVuSans-2e\" x=\"63.623047\"/>\n       <use xlink:href=\"#DejaVuSans-32\" x=\"95.410156\"/>\n       <use xlink:href=\"#DejaVuSans-35\" x=\"159.033203\"/>\n      </g>\n     </g>\n    </g>\n    <g id=\"ytick_13\">\n     <g id=\"line2d_20\">\n      <g>\n       <use xlink:href=\"#mba5776a018\" x=\"324.1986\" y=\"73.642502\" style=\"stroke: #000000; stroke-width: 0.8\"/>\n      </g>\n     </g>\n     <g id=\"text_20\">\n      <!-- 1.50 -->\n      <g transform=\"translate(331.1986 77.441721) scale(0.1 -0.1)\">\n       <use xlink:href=\"#DejaVuSans-31\"/>\n       <use xlink:href=\"#DejaVuSans-2e\" x=\"63.623047\"/>\n       <use xlink:href=\"#DejaVuSans-35\" x=\"95.410156\"/>\n       <use xlink:href=\"#DejaVuSans-30\" x=\"159.033203\"/>\n      </g>\n     </g>\n    </g>\n    <g id=\"ytick_14\">\n     <g id=\"line2d_21\">\n      <g>\n       <use xlink:href=\"#mba5776a018\" x=\"324.1986\" y=\"40.335753\" style=\"stroke: #000000; stroke-width: 0.8\"/>\n      </g>\n     </g>\n     <g id=\"text_21\">\n      <!-- 1.75 -->\n      <g transform=\"translate(331.1986 44.134972) scale(0.1 -0.1)\">\n       <use xlink:href=\"#DejaVuSans-31\"/>\n       <use xlink:href=\"#DejaVuSans-2e\" x=\"63.623047\"/>\n       <use xlink:href=\"#DejaVuSans-37\" x=\"95.410156\"/>\n       <use xlink:href=\"#DejaVuSans-35\" x=\"159.033203\"/>\n      </g>\n     </g>\n    </g>\n   </g>\n   <g id=\"LineCollection_1\"/>\n   <g id=\"patch_8\">\n    <path d=\"M 310.893 273.312 \nL 317.5458 273.312 \nL 324.1986 273.312 \nL 324.1986 7.2 \nL 317.5458 7.2 \nL 310.893 7.2 \nL 310.893 273.312 \nz\n\" style=\"fill: none; stroke: #000000; stroke-width: 0.8; stroke-linejoin: miter; stroke-linecap: square\"/>\n   </g>\n  </g>\n </g>\n <defs>\n  <clipPath id=\"p076f543c0d\">\n   <rect x=\"26.925\" y=\"7.2\" width=\"266.112\" height=\"266.112\"/>\n  </clipPath>\n </defs>\n</svg>\n"
     },
     "metadata": {},
     "output_type": "display_data"
    },
    {
     "data": {
      "text/plain": "HTML(value=\"<a href='./tmpu2a6n9ht.pdf' target='_blank'>./tmpu2a6n9ht.pdf</a><br>\")",
      "application/vnd.jupyter.widget-view+json": {
       "version_major": 2,
       "version_minor": 0,
       "model_id": "a97a35975ef74535a0028474d657d995"
      }
     },
     "metadata": {},
     "output_type": "display_data"
    }
   ],
   "execution_count": 142
  },
  {
   "cell_type": "code",
   "id": "10c8b608e7cb6131",
   "metadata": {
    "ExecuteTime": {
     "end_time": "2024-06-09T19:04:56.619774Z",
     "start_time": "2024-06-09T19:04:56.452896Z"
    }
   },
   "source": [
    "progbar = FloatProgress(value=0, min=0, max=1)\n",
    "display(progbar)\n",
    "\n",
    "states_history = [solver.advectee.get().copy()]\n",
    "n_steps = 10\n",
    "n_range = int(SETUP['tmax'] / SETUP['dt']) // n_steps\n",
    "for i in range(n_range):\n",
    "    solver.advance(n_steps=n_steps, mu_coeff=(mu, mu))\n",
    "    states_history.append(solver.advectee.get().copy())\n",
    "    progbar.value = (i + 1.) / n_range"
   ],
   "outputs": [
    {
     "data": {
      "text/plain": "FloatProgress(value=0.0, max=1.0)",
      "application/vnd.jupyter.widget-view+json": {
       "version_major": 2,
       "version_minor": 0,
       "model_id": "4583a312bbbc4d0e9dfc0d80e15d0fc0"
      }
     },
     "metadata": {},
     "output_type": "display_data"
    }
   ],
   "execution_count": 143
  },
  {
   "cell_type": "code",
   "outputs": [
    {
     "name": "stdout",
     "output_type": "stream",
     "text": [
      "RMSE: 1.0485\n",
      "Min-max difference: 1.4822\n"
     ]
    }
   ],
   "source": [
    "trixi_result = temp[:].reshape(SETUP['ny'], SETUP['nx']).transpose()\n",
    "\n",
    "# Calculate rmse between Trixi and PyMPDATA output\n",
    "rmse = np.sqrt(np.mean((states_history[-1] - trixi_result) ** 2))\n",
    "print(f\"RMSE: {rmse:.4f}\")\n",
    "\n",
    "# Calculate min-max difference between Trixi and PyMPDATA output\n",
    "min_max_diff = np.max(np.abs(states_history[-1] - trixi_result))\n",
    "print(f\"Min-max difference: {min_max_diff:.4f}\")"
   ],
   "metadata": {
    "collapsed": false,
    "ExecuteTime": {
     "end_time": "2024-06-09T19:04:56.700814Z",
     "start_time": "2024-06-09T19:04:56.696085Z"
    }
   },
   "id": "75d7a0b55f1633a7",
   "execution_count": 144
  },
  {
   "cell_type": "code",
   "outputs": [],
   "source": [
    "with h5py.File('out/solution_000000.h5', 'r') as f:\n",
    "    trixi_init = np.array([np.mean(x) for x in f['variables_1'][:].reshape(-1, 16)])\n",
    "    trixi_init = trixi_init[:].reshape(SETUP['ny'], SETUP['nx']).transpose()"
   ],
   "metadata": {
    "collapsed": false,
    "ExecuteTime": {
     "end_time": "2024-06-09T19:04:56.852Z",
     "start_time": "2024-06-09T19:04:56.836260Z"
    }
   },
   "id": "a4b902e0f6d35daa",
   "execution_count": 145
  },
  {
   "cell_type": "code",
   "outputs": [],
   "source": [
    "assert np.abs(np.sum(states_history[-1]) - np.sum(states_history[0])) < 1e-6\n",
    "assert np.abs(np.sum(trixi_result) - np.sum(trixi_init)) < 1e-6"
   ],
   "metadata": {
    "collapsed": false,
    "ExecuteTime": {
     "end_time": "2024-06-09T19:04:57.336226Z",
     "start_time": "2024-06-09T19:04:57.333035Z"
    }
   },
   "id": "297f0399b46c4283",
   "execution_count": 146
  },
  {
   "cell_type": "code",
   "outputs": [
    {
     "data": {
      "text/plain": "<Figure size 640x480 with 2 Axes>",
      "image/svg+xml": "<?xml version=\"1.0\" encoding=\"utf-8\" standalone=\"no\"?>\n<!DOCTYPE svg PUBLIC \"-//W3C//DTD SVG 1.1//EN\"\n  \"http://www.w3.org/Graphics/SVG/1.1/DTD/svg11.dtd\">\n<svg xmlns:xlink=\"http://www.w3.org/1999/xlink\" width=\"360.664225pt\" height=\"297.190125pt\" viewBox=\"0 0 360.664225 297.190125\" xmlns=\"http://www.w3.org/2000/svg\" version=\"1.1\">\n <metadata>\n  <rdf:RDF xmlns:dc=\"http://purl.org/dc/elements/1.1/\" xmlns:cc=\"http://creativecommons.org/ns#\" xmlns:rdf=\"http://www.w3.org/1999/02/22-rdf-syntax-ns#\">\n   <cc:Work>\n    <dc:type rdf:resource=\"http://purl.org/dc/dcmitype/StillImage\"/>\n    <dc:date>2024-06-09T21:04:58.834910</dc:date>\n    <dc:format>image/svg+xml</dc:format>\n    <dc:creator>\n     <cc:Agent>\n      <dc:title>Matplotlib v3.9.0, https://matplotlib.org/</dc:title>\n     </cc:Agent>\n    </dc:creator>\n   </cc:Work>\n  </rdf:RDF>\n </metadata>\n <defs>\n  <style type=\"text/css\">*{stroke-linejoin: round; stroke-linecap: butt}</style>\n </defs>\n <g id=\"figure_1\">\n  <g id=\"patch_1\">\n   <path d=\"M 0 297.190125 \nL 360.664225 297.190125 \nL 360.664225 0 \nL 0 0 \nz\n\" style=\"fill: #ffffff\"/>\n  </g>\n  <g id=\"axes_1\">\n   <g id=\"patch_2\">\n    <path d=\"M 26.925 273.312 \nL 293.037 273.312 \nL 293.037 7.2 \nL 26.925 7.2 \nz\n\" style=\"fill: #ffffff\"/>\n   </g>\n   <g clip-path=\"url(#pbe420eca96)\">\n    <image xlink:href=\"data:image/png;base64,\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\" id=\"image0f201fbc2d\" transform=\"scale(1 -1) translate(0 -266.4)\" x=\"26.925\" y=\"-6.912\" width=\"266.4\" height=\"266.4\"/>\n   </g>\n   <g id=\"matplotlib.axis_1\">\n    <g id=\"xtick_1\">\n     <g id=\"line2d_1\">\n      <defs>\n       <path id=\"mfa27f42424\" d=\"M 0 0 \nL 0 3.5 \n\" style=\"stroke: #000000; stroke-width: 0.8\"/>\n      </defs>\n      <g>\n       <use xlink:href=\"#mfa27f42424\" x=\"31.083\" y=\"273.312\" style=\"stroke: #000000; stroke-width: 0.8\"/>\n      </g>\n     </g>\n     <g id=\"text_1\">\n      <!-- 0 -->\n      <g transform=\"translate(27.90175 287.910437) scale(0.1 -0.1)\">\n       <defs>\n        <path id=\"DejaVuSans-30\" d=\"M 2034 4250 \nQ 1547 4250 1301 3770 \nQ 1056 3291 1056 2328 \nQ 1056 1369 1301 889 \nQ 1547 409 2034 409 \nQ 2525 409 2770 889 \nQ 3016 1369 3016 2328 \nQ 3016 3291 2770 3770 \nQ 2525 4250 2034 4250 \nz\nM 2034 4750 \nQ 2819 4750 3233 4129 \nQ 3647 3509 3647 2328 \nQ 3647 1150 3233 529 \nQ 2819 -91 2034 -91 \nQ 1250 -91 836 529 \nQ 422 1150 422 2328 \nQ 422 3509 836 4129 \nQ 1250 4750 2034 4750 \nz\n\" transform=\"scale(0.015625)\"/>\n       </defs>\n       <use xlink:href=\"#DejaVuSans-30\"/>\n      </g>\n     </g>\n    </g>\n    <g id=\"xtick_2\">\n     <g id=\"line2d_2\">\n      <g>\n       <use xlink:href=\"#mfa27f42424\" x=\"72.663\" y=\"273.312\" style=\"stroke: #000000; stroke-width: 0.8\"/>\n      </g>\n     </g>\n     <g id=\"text_2\">\n      <!-- 5 -->\n      <g transform=\"translate(69.48175 287.910437) scale(0.1 -0.1)\">\n       <defs>\n        <path id=\"DejaVuSans-35\" d=\"M 691 4666 \nL 3169 4666 \nL 3169 4134 \nL 1269 4134 \nL 1269 2991 \nQ 1406 3038 1543 3061 \nQ 1681 3084 1819 3084 \nQ 2600 3084 3056 2656 \nQ 3513 2228 3513 1497 \nQ 3513 744 3044 326 \nQ 2575 -91 1722 -91 \nQ 1428 -91 1123 -41 \nQ 819 9 494 109 \nL 494 744 \nQ 775 591 1075 516 \nQ 1375 441 1709 441 \nQ 2250 441 2565 725 \nQ 2881 1009 2881 1497 \nQ 2881 1984 2565 2268 \nQ 2250 2553 1709 2553 \nQ 1456 2553 1204 2497 \nQ 953 2441 691 2322 \nL 691 4666 \nz\n\" transform=\"scale(0.015625)\"/>\n       </defs>\n       <use xlink:href=\"#DejaVuSans-35\"/>\n      </g>\n     </g>\n    </g>\n    <g id=\"xtick_3\">\n     <g id=\"line2d_3\">\n      <g>\n       <use xlink:href=\"#mfa27f42424\" x=\"114.243\" y=\"273.312\" style=\"stroke: #000000; stroke-width: 0.8\"/>\n      </g>\n     </g>\n     <g id=\"text_3\">\n      <!-- 10 -->\n      <g transform=\"translate(107.8805 287.910437) scale(0.1 -0.1)\">\n       <defs>\n        <path id=\"DejaVuSans-31\" d=\"M 794 531 \nL 1825 531 \nL 1825 4091 \nL 703 3866 \nL 703 4441 \nL 1819 4666 \nL 2450 4666 \nL 2450 531 \nL 3481 531 \nL 3481 0 \nL 794 0 \nL 794 531 \nz\n\" transform=\"scale(0.015625)\"/>\n       </defs>\n       <use xlink:href=\"#DejaVuSans-31\"/>\n       <use xlink:href=\"#DejaVuSans-30\" x=\"63.623047\"/>\n      </g>\n     </g>\n    </g>\n    <g id=\"xtick_4\">\n     <g id=\"line2d_4\">\n      <g>\n       <use xlink:href=\"#mfa27f42424\" x=\"155.823\" y=\"273.312\" style=\"stroke: #000000; stroke-width: 0.8\"/>\n      </g>\n     </g>\n     <g id=\"text_4\">\n      <!-- 15 -->\n      <g transform=\"translate(149.4605 287.910437) scale(0.1 -0.1)\">\n       <use xlink:href=\"#DejaVuSans-31\"/>\n       <use xlink:href=\"#DejaVuSans-35\" x=\"63.623047\"/>\n      </g>\n     </g>\n    </g>\n    <g id=\"xtick_5\">\n     <g id=\"line2d_5\">\n      <g>\n       <use xlink:href=\"#mfa27f42424\" x=\"197.403\" y=\"273.312\" style=\"stroke: #000000; stroke-width: 0.8\"/>\n      </g>\n     </g>\n     <g id=\"text_5\">\n      <!-- 20 -->\n      <g transform=\"translate(191.0405 287.910437) scale(0.1 -0.1)\">\n       <defs>\n        <path id=\"DejaVuSans-32\" d=\"M 1228 531 \nL 3431 531 \nL 3431 0 \nL 469 0 \nL 469 531 \nQ 828 903 1448 1529 \nQ 2069 2156 2228 2338 \nQ 2531 2678 2651 2914 \nQ 2772 3150 2772 3378 \nQ 2772 3750 2511 3984 \nQ 2250 4219 1831 4219 \nQ 1534 4219 1204 4116 \nQ 875 4013 500 3803 \nL 500 4441 \nQ 881 4594 1212 4672 \nQ 1544 4750 1819 4750 \nQ 2544 4750 2975 4387 \nQ 3406 4025 3406 3419 \nQ 3406 3131 3298 2873 \nQ 3191 2616 2906 2266 \nQ 2828 2175 2409 1742 \nQ 1991 1309 1228 531 \nz\n\" transform=\"scale(0.015625)\"/>\n       </defs>\n       <use xlink:href=\"#DejaVuSans-32\"/>\n       <use xlink:href=\"#DejaVuSans-30\" x=\"63.623047\"/>\n      </g>\n     </g>\n    </g>\n    <g id=\"xtick_6\">\n     <g id=\"line2d_6\">\n      <g>\n       <use xlink:href=\"#mfa27f42424\" x=\"238.983\" y=\"273.312\" style=\"stroke: #000000; stroke-width: 0.8\"/>\n      </g>\n     </g>\n     <g id=\"text_6\">\n      <!-- 25 -->\n      <g transform=\"translate(232.6205 287.910437) scale(0.1 -0.1)\">\n       <use xlink:href=\"#DejaVuSans-32\"/>\n       <use xlink:href=\"#DejaVuSans-35\" x=\"63.623047\"/>\n      </g>\n     </g>\n    </g>\n    <g id=\"xtick_7\">\n     <g id=\"line2d_7\">\n      <g>\n       <use xlink:href=\"#mfa27f42424\" x=\"280.563\" y=\"273.312\" style=\"stroke: #000000; stroke-width: 0.8\"/>\n      </g>\n     </g>\n     <g id=\"text_7\">\n      <!-- 30 -->\n      <g transform=\"translate(274.2005 287.910437) scale(0.1 -0.1)\">\n       <defs>\n        <path id=\"DejaVuSans-33\" d=\"M 2597 2516 \nQ 3050 2419 3304 2112 \nQ 3559 1806 3559 1356 \nQ 3559 666 3084 287 \nQ 2609 -91 1734 -91 \nQ 1441 -91 1130 -33 \nQ 819 25 488 141 \nL 488 750 \nQ 750 597 1062 519 \nQ 1375 441 1716 441 \nQ 2309 441 2620 675 \nQ 2931 909 2931 1356 \nQ 2931 1769 2642 2001 \nQ 2353 2234 1838 2234 \nL 1294 2234 \nL 1294 2753 \nL 1863 2753 \nQ 2328 2753 2575 2939 \nQ 2822 3125 2822 3475 \nQ 2822 3834 2567 4026 \nQ 2313 4219 1838 4219 \nQ 1578 4219 1281 4162 \nQ 984 4106 628 3988 \nL 628 4550 \nQ 988 4650 1302 4700 \nQ 1616 4750 1894 4750 \nQ 2613 4750 3031 4423 \nQ 3450 4097 3450 3541 \nQ 3450 3153 3228 2886 \nQ 3006 2619 2597 2516 \nz\n\" transform=\"scale(0.015625)\"/>\n       </defs>\n       <use xlink:href=\"#DejaVuSans-33\"/>\n       <use xlink:href=\"#DejaVuSans-30\" x=\"63.623047\"/>\n      </g>\n     </g>\n    </g>\n   </g>\n   <g id=\"matplotlib.axis_2\">\n    <g id=\"ytick_1\">\n     <g id=\"line2d_8\">\n      <defs>\n       <path id=\"m39be52fbc3\" d=\"M 0 0 \nL -3.5 0 \n\" style=\"stroke: #000000; stroke-width: 0.8\"/>\n      </defs>\n      <g>\n       <use xlink:href=\"#m39be52fbc3\" x=\"26.925\" y=\"11.358\" style=\"stroke: #000000; stroke-width: 0.8\"/>\n      </g>\n     </g>\n     <g id=\"text_8\">\n      <!-- 0 -->\n      <g transform=\"translate(13.5625 15.157219) scale(0.1 -0.1)\">\n       <use xlink:href=\"#DejaVuSans-30\"/>\n      </g>\n     </g>\n    </g>\n    <g id=\"ytick_2\">\n     <g id=\"line2d_9\">\n      <g>\n       <use xlink:href=\"#m39be52fbc3\" x=\"26.925\" y=\"52.938\" style=\"stroke: #000000; stroke-width: 0.8\"/>\n      </g>\n     </g>\n     <g id=\"text_9\">\n      <!-- 5 -->\n      <g transform=\"translate(13.5625 56.737219) scale(0.1 -0.1)\">\n       <use xlink:href=\"#DejaVuSans-35\"/>\n      </g>\n     </g>\n    </g>\n    <g id=\"ytick_3\">\n     <g id=\"line2d_10\">\n      <g>\n       <use xlink:href=\"#m39be52fbc3\" x=\"26.925\" y=\"94.518\" style=\"stroke: #000000; stroke-width: 0.8\"/>\n      </g>\n     </g>\n     <g id=\"text_10\">\n      <!-- 10 -->\n      <g transform=\"translate(7.2 98.317219) scale(0.1 -0.1)\">\n       <use xlink:href=\"#DejaVuSans-31\"/>\n       <use xlink:href=\"#DejaVuSans-30\" x=\"63.623047\"/>\n      </g>\n     </g>\n    </g>\n    <g id=\"ytick_4\">\n     <g id=\"line2d_11\">\n      <g>\n       <use xlink:href=\"#m39be52fbc3\" x=\"26.925\" y=\"136.098\" style=\"stroke: #000000; stroke-width: 0.8\"/>\n      </g>\n     </g>\n     <g id=\"text_11\">\n      <!-- 15 -->\n      <g transform=\"translate(7.2 139.897219) scale(0.1 -0.1)\">\n       <use xlink:href=\"#DejaVuSans-31\"/>\n       <use xlink:href=\"#DejaVuSans-35\" x=\"63.623047\"/>\n      </g>\n     </g>\n    </g>\n    <g id=\"ytick_5\">\n     <g id=\"line2d_12\">\n      <g>\n       <use xlink:href=\"#m39be52fbc3\" x=\"26.925\" y=\"177.678\" style=\"stroke: #000000; stroke-width: 0.8\"/>\n      </g>\n     </g>\n     <g id=\"text_12\">\n      <!-- 20 -->\n      <g transform=\"translate(7.2 181.477219) scale(0.1 -0.1)\">\n       <use xlink:href=\"#DejaVuSans-32\"/>\n       <use xlink:href=\"#DejaVuSans-30\" x=\"63.623047\"/>\n      </g>\n     </g>\n    </g>\n    <g id=\"ytick_6\">\n     <g id=\"line2d_13\">\n      <g>\n       <use xlink:href=\"#m39be52fbc3\" x=\"26.925\" y=\"219.258\" style=\"stroke: #000000; stroke-width: 0.8\"/>\n      </g>\n     </g>\n     <g id=\"text_13\">\n      <!-- 25 -->\n      <g transform=\"translate(7.2 223.057219) scale(0.1 -0.1)\">\n       <use xlink:href=\"#DejaVuSans-32\"/>\n       <use xlink:href=\"#DejaVuSans-35\" x=\"63.623047\"/>\n      </g>\n     </g>\n    </g>\n    <g id=\"ytick_7\">\n     <g id=\"line2d_14\">\n      <g>\n       <use xlink:href=\"#m39be52fbc3\" x=\"26.925\" y=\"260.838\" style=\"stroke: #000000; stroke-width: 0.8\"/>\n      </g>\n     </g>\n     <g id=\"text_14\">\n      <!-- 30 -->\n      <g transform=\"translate(7.2 264.637219) scale(0.1 -0.1)\">\n       <use xlink:href=\"#DejaVuSans-33\"/>\n       <use xlink:href=\"#DejaVuSans-30\" x=\"63.623047\"/>\n      </g>\n     </g>\n    </g>\n   </g>\n   <g id=\"patch_3\">\n    <path d=\"M 26.925 273.312 \nL 26.925 7.2 \n\" style=\"fill: none; stroke: #000000; stroke-width: 0.8; stroke-linejoin: miter; stroke-linecap: square\"/>\n   </g>\n   <g id=\"patch_4\">\n    <path d=\"M 293.037 273.312 \nL 293.037 7.2 \n\" style=\"fill: none; stroke: #000000; stroke-width: 0.8; stroke-linejoin: miter; stroke-linecap: square\"/>\n   </g>\n   <g id=\"patch_5\">\n    <path d=\"M 26.925 273.312 \nL 293.037 273.312 \n\" style=\"fill: none; stroke: #000000; stroke-width: 0.8; stroke-linejoin: miter; stroke-linecap: square\"/>\n   </g>\n   <g id=\"patch_6\">\n    <path d=\"M 26.925 7.2 \nL 293.037 7.2 \n\" style=\"fill: none; stroke: #000000; stroke-width: 0.8; stroke-linejoin: miter; stroke-linecap: square\"/>\n   </g>\n  </g>\n  <g id=\"axes_2\">\n   <g id=\"patch_7\">\n    <path d=\"M 310.893 273.312 \nL 324.1986 273.312 \nL 324.1986 7.2 \nL 310.893 7.2 \nz\n\" style=\"fill: #ffffff\"/>\n   </g>\n   <image xlink:href=\"data:image/png;base64,\niVBORw0KGgoAAAANSUhEUgAAABIAAAFyCAYAAAD4TYq5AAAB70lEQVR4nO2d0Q0CMQxD02tHYwT2H4UyQvh4Qk9WMoBVx47bHqdjvdb7FlAPAVJVdWoxWGc9iwGiVsT1KJhacdQYIFI1yNk+amWjhvkIlJ8KNh81TrVxdlfBqmU7e3bappSq6ajZVDtX2CMKyEct19mUjzD5g1Wboe3L6GwGx+jsmzu0F1JN6GzKkMl5JKTGqcYAZQ8tAyS8Qhjlh4CM1Ea1Dih4pw3OI+roZ6Q2hmyBdNMfHGxDra/oS41NNWFm63o01Poaav8ECu4R8jZcKan5ojZ4F9FRmx71JRza5KjNpTY9agtb0eRRX2PIH4Ci5WfOtcny+1SLNiQGlOpsX7OVzmbk9zVbqJpvaH09Gmf3QNDPIsbzkc+Q3NBWbI9WrvzR1CAgX9RiqmE9olYkDDYfNYiZkprO2U9yj3zUIKBg1R7ooBWsmtDZQ+0HIKGzKWrBqtmAwB5Rd1ohtWDVcvMIVO1DAel6lDy0kGrbR41TjemRcGj39KgFMjo7Nmp3MDVsg6SGllqRcTsSHrSGWgdETb9xF6GCTTi0wXnEqWYbWnCntakGzhp279f1KDizc/OIu6/pVAMNGfu0hgs24RlS9kjDOLS6N6LAPGLqbGGPoO9oUUsiMxujZvtwCaiajhqnGvRXBcYeYdRkn+H/AmwfjeY0lt0cAAAAAElFTkSuQmCC\" id=\"image54dc57485e\" transform=\"scale(1 -1) translate(0 -266.4)\" x=\"311.04\" y=\"-6.48\" width=\"12.96\" height=\"266.4\"/>\n   <g id=\"matplotlib.axis_3\"/>\n   <g id=\"matplotlib.axis_4\">\n    <g id=\"ytick_8\">\n     <g id=\"line2d_15\">\n      <defs>\n       <path id=\"m52a87ef2ef\" d=\"M 0 0 \nL 3.5 0 \n\" style=\"stroke: #000000; stroke-width: 0.8\"/>\n      </defs>\n      <g>\n       <use xlink:href=\"#m52a87ef2ef\" x=\"324.1986\" y=\"240.037328\" style=\"stroke: #000000; stroke-width: 0.8\"/>\n      </g>\n     </g>\n     <g id=\"text_15\">\n      <!-- 0.25 -->\n      <g transform=\"translate(331.1986 243.836547) scale(0.1 -0.1)\">\n       <defs>\n        <path id=\"DejaVuSans-2e\" d=\"M 684 794 \nL 1344 794 \nL 1344 0 \nL 684 0 \nL 684 794 \nz\n\" transform=\"scale(0.015625)\"/>\n       </defs>\n       <use xlink:href=\"#DejaVuSans-30\"/>\n       <use xlink:href=\"#DejaVuSans-2e\" x=\"63.623047\"/>\n       <use xlink:href=\"#DejaVuSans-32\" x=\"95.410156\"/>\n       <use xlink:href=\"#DejaVuSans-35\" x=\"159.033203\"/>\n      </g>\n     </g>\n    </g>\n    <g id=\"ytick_9\">\n     <g id=\"line2d_16\">\n      <g>\n       <use xlink:href=\"#m52a87ef2ef\" x=\"324.1986\" y=\"206.719887\" style=\"stroke: #000000; stroke-width: 0.8\"/>\n      </g>\n     </g>\n     <g id=\"text_16\">\n      <!-- 0.50 -->\n      <g transform=\"translate(331.1986 210.519106) scale(0.1 -0.1)\">\n       <use xlink:href=\"#DejaVuSans-30\"/>\n       <use xlink:href=\"#DejaVuSans-2e\" x=\"63.623047\"/>\n       <use xlink:href=\"#DejaVuSans-35\" x=\"95.410156\"/>\n       <use xlink:href=\"#DejaVuSans-30\" x=\"159.033203\"/>\n      </g>\n     </g>\n    </g>\n    <g id=\"ytick_10\">\n     <g id=\"line2d_17\">\n      <g>\n       <use xlink:href=\"#m52a87ef2ef\" x=\"324.1986\" y=\"173.402445\" style=\"stroke: #000000; stroke-width: 0.8\"/>\n      </g>\n     </g>\n     <g id=\"text_17\">\n      <!-- 0.75 -->\n      <g transform=\"translate(331.1986 177.201664) scale(0.1 -0.1)\">\n       <defs>\n        <path id=\"DejaVuSans-37\" d=\"M 525 4666 \nL 3525 4666 \nL 3525 4397 \nL 1831 0 \nL 1172 0 \nL 2766 4134 \nL 525 4134 \nL 525 4666 \nz\n\" transform=\"scale(0.015625)\"/>\n       </defs>\n       <use xlink:href=\"#DejaVuSans-30\"/>\n       <use xlink:href=\"#DejaVuSans-2e\" x=\"63.623047\"/>\n       <use xlink:href=\"#DejaVuSans-37\" x=\"95.410156\"/>\n       <use xlink:href=\"#DejaVuSans-35\" x=\"159.033203\"/>\n      </g>\n     </g>\n    </g>\n    <g id=\"ytick_11\">\n     <g id=\"line2d_18\">\n      <g>\n       <use xlink:href=\"#m52a87ef2ef\" x=\"324.1986\" y=\"140.085004\" style=\"stroke: #000000; stroke-width: 0.8\"/>\n      </g>\n     </g>\n     <g id=\"text_18\">\n      <!-- 1.00 -->\n      <g transform=\"translate(331.1986 143.884223) scale(0.1 -0.1)\">\n       <use xlink:href=\"#DejaVuSans-31\"/>\n       <use xlink:href=\"#DejaVuSans-2e\" x=\"63.623047\"/>\n       <use xlink:href=\"#DejaVuSans-30\" x=\"95.410156\"/>\n       <use xlink:href=\"#DejaVuSans-30\" x=\"159.033203\"/>\n      </g>\n     </g>\n    </g>\n    <g id=\"ytick_12\">\n     <g id=\"line2d_19\">\n      <g>\n       <use xlink:href=\"#m52a87ef2ef\" x=\"324.1986\" y=\"106.767563\" style=\"stroke: #000000; stroke-width: 0.8\"/>\n      </g>\n     </g>\n     <g id=\"text_19\">\n      <!-- 1.25 -->\n      <g transform=\"translate(331.1986 110.566781) scale(0.1 -0.1)\">\n       <use xlink:href=\"#DejaVuSans-31\"/>\n       <use xlink:href=\"#DejaVuSans-2e\" x=\"63.623047\"/>\n       <use xlink:href=\"#DejaVuSans-32\" x=\"95.410156\"/>\n       <use xlink:href=\"#DejaVuSans-35\" x=\"159.033203\"/>\n      </g>\n     </g>\n    </g>\n    <g id=\"ytick_13\">\n     <g id=\"line2d_20\">\n      <g>\n       <use xlink:href=\"#m52a87ef2ef\" x=\"324.1986\" y=\"73.450121\" style=\"stroke: #000000; stroke-width: 0.8\"/>\n      </g>\n     </g>\n     <g id=\"text_20\">\n      <!-- 1.50 -->\n      <g transform=\"translate(331.1986 77.24934) scale(0.1 -0.1)\">\n       <use xlink:href=\"#DejaVuSans-31\"/>\n       <use xlink:href=\"#DejaVuSans-2e\" x=\"63.623047\"/>\n       <use xlink:href=\"#DejaVuSans-35\" x=\"95.410156\"/>\n       <use xlink:href=\"#DejaVuSans-30\" x=\"159.033203\"/>\n      </g>\n     </g>\n    </g>\n    <g id=\"ytick_14\">\n     <g id=\"line2d_21\">\n      <g>\n       <use xlink:href=\"#m52a87ef2ef\" x=\"324.1986\" y=\"40.13268\" style=\"stroke: #000000; stroke-width: 0.8\"/>\n      </g>\n     </g>\n     <g id=\"text_21\">\n      <!-- 1.75 -->\n      <g transform=\"translate(331.1986 43.931899) scale(0.1 -0.1)\">\n       <use xlink:href=\"#DejaVuSans-31\"/>\n       <use xlink:href=\"#DejaVuSans-2e\" x=\"63.623047\"/>\n       <use xlink:href=\"#DejaVuSans-37\" x=\"95.410156\"/>\n       <use xlink:href=\"#DejaVuSans-35\" x=\"159.033203\"/>\n      </g>\n     </g>\n    </g>\n   </g>\n   <g id=\"LineCollection_1\"/>\n   <g id=\"patch_8\">\n    <path d=\"M 310.893 273.312 \nL 317.5458 273.312 \nL 324.1986 273.312 \nL 324.1986 7.2 \nL 317.5458 7.2 \nL 310.893 7.2 \nL 310.893 273.312 \nz\n\" style=\"fill: none; stroke: #000000; stroke-width: 0.8; stroke-linejoin: miter; stroke-linecap: square\"/>\n   </g>\n  </g>\n </g>\n <defs>\n  <clipPath id=\"pbe420eca96\">\n   <rect x=\"26.925\" y=\"7.2\" width=\"266.112\" height=\"266.112\"/>\n  </clipPath>\n </defs>\n</svg>\n"
     },
     "metadata": {},
     "output_type": "display_data"
    },
    {
     "data": {
      "text/plain": "HTML(value=\"<a href='./tmpafooi1fy.pdf' target='_blank'>./tmpafooi1fy.pdf</a><br>\")",
      "application/vnd.jupyter.widget-view+json": {
       "version_major": 2,
       "version_minor": 0,
       "model_id": "23da7b8f1cac411590eafe2d332216c4"
      }
     },
     "metadata": {},
     "output_type": "display_data"
    }
   ],
   "source": [
    "solution_symbolic_final = sp.sympify(\"sin(pi*(x-cx*t + y-cy*t)) + 1\", rational=True)\n",
    "def final_conditions(x, y):\n",
    "    return solution_symbolic_final.subs({\"cx\": SETUP['Cx'], \"cy\": SETUP['Cy'], \"t\":SETUP['tmax'], \"x\": x, \"y\": y}).evalf()\n",
    "\n",
    "z_final = np.array(\n",
    "    [\n",
    "        # [\n",
    "            final_conditions(x, y) for x in np.linspace(min_x, max_x, SETUP['nx'])\n",
    "        # ]\n",
    "        for y in np.linspace(min_y, max_y, SETUP['ny'])\n",
    "    ],\n",
    "    dtype=float\n",
    ").reshape((SETUP['nx'], SETUP['ny']))\n",
    "\n",
    "plt.imshow(z_final, cmap='viridis')\n",
    "plt.colorbar()\n",
    "show_plot()"
   ],
   "metadata": {
    "collapsed": false,
    "ExecuteTime": {
     "end_time": "2024-06-09T19:04:58.892447Z",
     "start_time": "2024-06-09T19:04:57.578971Z"
    }
   },
   "id": "bcb10541128e0d87",
   "execution_count": 147
  },
  {
   "cell_type": "code",
   "outputs": [
    {
     "name": "stdout",
     "output_type": "stream",
     "text": [
      "PyMPDATA - RMSE: 1.3924\n",
      "Trixi - RMSE: 0.3580\n"
     ]
    }
   ],
   "source": [
    "# Calculate rmse between analytical solution, Trixi and PyMPDATA output\n",
    "rmse = np.sqrt(np.mean((states_history[-1] - z_final) ** 2))\n",
    "print(f\"PyMPDATA - RMSE: {rmse:.4f}\")\n",
    "\n",
    "rmse = np.sqrt(np.mean((trixi_result - z_final) ** 2))\n",
    "print(f\"Trixi - RMSE: {rmse:.4f}\")"
   ],
   "metadata": {
    "collapsed": false,
    "ExecuteTime": {
     "end_time": "2024-06-09T19:04:58.897372Z",
     "start_time": "2024-06-09T19:04:58.893784Z"
    }
   },
   "id": "776c1a736d05835c",
   "execution_count": 148
  },
  {
   "cell_type": "code",
   "outputs": [
    {
     "name": "stdout",
     "output_type": "stream",
     "text": [
      "PyMPDATA - Min-max difference: 1.9893\n",
      "Trixi - Min-max difference: 0.5148\n"
     ]
    }
   ],
   "source": [
    "# Calculate min-max difference between analytical solution, Trixi and PyMPDATA output\n",
    "min_max_diff = np.max(np.abs(states_history[-1] - z_final))\n",
    "print(f\"PyMPDATA - Min-max difference: {min_max_diff:.4f}\")\n",
    "\n",
    "min_max_diff = np.max(np.abs(trixi_result - z_final))\n",
    "print(f\"Trixi - Min-max difference: {min_max_diff:.4f}\")"
   ],
   "metadata": {
    "collapsed": false,
    "ExecuteTime": {
     "end_time": "2024-06-09T19:04:58.905548Z",
     "start_time": "2024-06-09T19:04:58.898356Z"
    }
   },
   "id": "7353a605ee29fde8",
   "execution_count": 149
  },
  {
   "cell_type": "code",
   "id": "cc74f23aa445dae1",
   "metadata": {
    "ExecuteTime": {
     "end_time": "2024-06-09T19:04:59.534191Z",
     "start_time": "2024-06-09T19:04:58.957148Z"
    }
   },
   "source": [
    "# save each frame as a png to animation2 folder\n",
    "os.makedirs(\"animation2\", exist_ok=True)\n",
    "for i, state in enumerate(states_history):\n",
    "    # flip the image vertically\n",
    "    state = np.flipud(state)\n",
    "    plt.imshow(state, cmap='viridis')\n",
    "    plt.colorbar()\n",
    "    plt.savefig(f\"animation2/frame_{i:03d}.png\")\n",
    "    plt.close()"
   ],
   "outputs": [],
   "execution_count": 150
  },
  {
   "cell_type": "code",
   "id": "6bb1f2b386a12f37",
   "metadata": {},
   "source": [
    "def get_advection_diffusion_gif(states):\n",
    "    fig, ax = plt.subplots()\n",
    "    ax.set_xlim(0, SETUP['nx'])\n",
    "    ax.set_ylim(0, SETUP['ny'])\n",
    "    ax.set_xlabel(\"x\")\n",
    "    ax.set_ylabel(\"y\")\n",
    "    ax.set_title(\"Advection-Diffusion Equation\")\n",
    "    im = ax.imshow(states[0], cmap='viridis')\n",
    "    def update(i):\n",
    "        im.set_array(states[i])\n",
    "        return im,\n",
    "    anim = FuncAnimation(fig, update, frames=len(states), blit=True)\n",
    "    \n",
    "    anim.save(\"advection_diffusion.gif\", writer='imagemagick', fps=10)"
   ],
   "outputs": [],
   "execution_count": null
  },
  {
   "cell_type": "code",
   "id": "ccab8faafade1978",
   "metadata": {},
   "source": [
    "get_advection_diffusion_gif(states_history)"
   ],
   "outputs": [],
   "execution_count": null
  },
  {
   "metadata": {},
   "cell_type": "markdown",
   "source": "Load VTK file",
   "id": "32ae64cf9e8a5aa6"
  },
  {
   "cell_type": "code",
   "id": "89f1aba4e7df8dc3",
   "metadata": {},
   "source": [
    "from vtk.util.numpy_support import vtk_to_numpy\n",
    "import vtk\n",
    "import meshio\n",
    "import numpy as np\n",
    "import matplotlib.pyplot as plt"
   ],
   "outputs": [],
   "execution_count": null
  },
  {
   "metadata": {},
   "cell_type": "code",
   "source": "mesh = meshio.read(\"solution_000026.vtu\")",
   "id": "351b4c931bc8a28",
   "outputs": [],
   "execution_count": null
  },
  {
   "metadata": {},
   "cell_type": "code",
   "source": "# mesh.point_data[\"scalar\"]",
   "id": "9738e00e56021898",
   "outputs": [],
   "execution_count": null
  },
  {
   "metadata": {},
   "cell_type": "code",
   "source": "arr = np.array(mesh.point_data[\"scalar\"])",
   "id": "80916217a3b6c2b4",
   "outputs": [],
   "execution_count": null
  },
  {
   "metadata": {},
   "cell_type": "code",
   "source": "# [x.data for x in  mesh.cells]",
   "id": "40e58e427b925207",
   "outputs": [],
   "execution_count": null
  },
  {
   "metadata": {},
   "cell_type": "code",
   "source": "# mesh.cells[0].data.shape",
   "id": "e3b8b9c55d2b654b",
   "outputs": [],
   "execution_count": null
  },
  {
   "metadata": {},
   "cell_type": "code",
   "source": [
    "# for block in [x for x in mesh.cells]:\n",
    "#     print(np.array(block.data).shape)"
   ],
   "id": "38ae6160ca9075f0",
   "outputs": [],
   "execution_count": null
  },
  {
   "metadata": {},
   "cell_type": "code",
   "source": [
    "arr = arr[::16]\n",
    "plt.imshow(arr.reshape(16, 32, order=\"C\").transpose())\n",
    "plt.show()"
   ],
   "id": "e3b7661b4fca09c9",
   "outputs": [],
   "execution_count": null
  },
  {
   "cell_type": "code",
   "outputs": [
    {
     "data": {
      "text/plain": "<Figure size 1200x400 with 3 Axes>",
      "image/svg+xml": "<?xml version=\"1.0\" encoding=\"utf-8\" standalone=\"no\"?>\n<!DOCTYPE svg PUBLIC \"-//W3C//DTD SVG 1.1//EN\"\n  \"http://www.w3.org/Graphics/SVG/1.1/DTD/svg11.dtd\">\n<svg xmlns:xlink=\"http://www.w3.org/1999/xlink\" width=\"684pt\" height=\"266.228713pt\" viewBox=\"0 0 684 266.228713\" xmlns=\"http://www.w3.org/2000/svg\" version=\"1.1\">\n <metadata>\n  <rdf:RDF xmlns:dc=\"http://purl.org/dc/elements/1.1/\" xmlns:cc=\"http://creativecommons.org/ns#\" xmlns:rdf=\"http://www.w3.org/1999/02/22-rdf-syntax-ns#\">\n   <cc:Work>\n    <dc:type rdf:resource=\"http://purl.org/dc/dcmitype/StillImage\"/>\n    <dc:date>2024-06-09T21:05:28.426151</dc:date>\n    <dc:format>image/svg+xml</dc:format>\n    <dc:creator>\n     <cc:Agent>\n      <dc:title>Matplotlib v3.9.0, https://matplotlib.org/</dc:title>\n     </cc:Agent>\n    </dc:creator>\n   </cc:Work>\n  </rdf:RDF>\n </metadata>\n <defs>\n  <style type=\"text/css\">*{stroke-linejoin: round; stroke-linecap: butt}</style>\n </defs>\n <g id=\"figure_1\">\n  <g id=\"patch_1\">\n   <path d=\"M 0 266.228713 \nL 684 266.228713 \nL 684 0 \nL 0 0 \nz\n\" style=\"fill: #ffffff\"/>\n  </g>\n  <g id=\"axes_1\">\n   <g id=\"patch_2\">\n    <path d=\"M 7.2 245.350588 \nL 204.141176 245.350588 \nL 204.141176 48.409412 \nL 7.2 48.409412 \nz\n\" style=\"fill: #ffffff\"/>\n   </g>\n   <g clip-path=\"url(#pea9a5c839d)\">\n    <image xlink:href=\"data:image/png;base64,\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\" id=\"imageba466b25eb\" transform=\"scale(1 -1) translate(0 -197.28)\" x=\"7.2\" y=\"-48.070588\" width=\"197.28\" height=\"197.28\"/>\n   </g>\n   <g id=\"matplotlib.axis_1\">\n    <g id=\"text_1\">\n     <!-- (a) Trixi -->\n     <g transform=\"translate(87.006526 256.949026) scale(0.1 -0.1)\">\n      <defs>\n       <path id=\"DejaVuSans-28\" d=\"M 1984 4856 \nQ 1566 4138 1362 3434 \nQ 1159 2731 1159 2009 \nQ 1159 1288 1364 580 \nQ 1569 -128 1984 -844 \nL 1484 -844 \nQ 1016 -109 783 600 \nQ 550 1309 550 2009 \nQ 550 2706 781 3412 \nQ 1013 4119 1484 4856 \nL 1984 4856 \nz\n\" transform=\"scale(0.015625)\"/>\n       <path id=\"DejaVuSans-61\" d=\"M 2194 1759 \nQ 1497 1759 1228 1600 \nQ 959 1441 959 1056 \nQ 959 750 1161 570 \nQ 1363 391 1709 391 \nQ 2188 391 2477 730 \nQ 2766 1069 2766 1631 \nL 2766 1759 \nL 2194 1759 \nz\nM 3341 1997 \nL 3341 0 \nL 2766 0 \nL 2766 531 \nQ 2569 213 2275 61 \nQ 1981 -91 1556 -91 \nQ 1019 -91 701 211 \nQ 384 513 384 1019 \nQ 384 1609 779 1909 \nQ 1175 2209 1959 2209 \nL 2766 2209 \nL 2766 2266 \nQ 2766 2663 2505 2880 \nQ 2244 3097 1772 3097 \nQ 1472 3097 1187 3025 \nQ 903 2953 641 2809 \nL 641 3341 \nQ 956 3463 1253 3523 \nQ 1550 3584 1831 3584 \nQ 2591 3584 2966 3190 \nQ 3341 2797 3341 1997 \nz\n\" transform=\"scale(0.015625)\"/>\n       <path id=\"DejaVuSans-29\" d=\"M 513 4856 \nL 1013 4856 \nQ 1481 4119 1714 3412 \nQ 1947 2706 1947 2009 \nQ 1947 1309 1714 600 \nQ 1481 -109 1013 -844 \nL 513 -844 \nQ 928 -128 1133 580 \nQ 1338 1288 1338 2009 \nQ 1338 2731 1133 3434 \nQ 928 4138 513 4856 \nz\n\" transform=\"scale(0.015625)\"/>\n       <path id=\"DejaVuSans-20\" transform=\"scale(0.015625)\"/>\n       <path id=\"DejaVuSans-54\" d=\"M -19 4666 \nL 3928 4666 \nL 3928 4134 \nL 2272 4134 \nL 2272 0 \nL 1638 0 \nL 1638 4134 \nL -19 4134 \nL -19 4666 \nz\n\" transform=\"scale(0.015625)\"/>\n       <path id=\"DejaVuSans-72\" d=\"M 2631 2963 \nQ 2534 3019 2420 3045 \nQ 2306 3072 2169 3072 \nQ 1681 3072 1420 2755 \nQ 1159 2438 1159 1844 \nL 1159 0 \nL 581 0 \nL 581 3500 \nL 1159 3500 \nL 1159 2956 \nQ 1341 3275 1631 3429 \nQ 1922 3584 2338 3584 \nQ 2397 3584 2469 3576 \nQ 2541 3569 2628 3553 \nL 2631 2963 \nz\n\" transform=\"scale(0.015625)\"/>\n       <path id=\"DejaVuSans-69\" d=\"M 603 3500 \nL 1178 3500 \nL 1178 0 \nL 603 0 \nL 603 3500 \nz\nM 603 4863 \nL 1178 4863 \nL 1178 4134 \nL 603 4134 \nL 603 4863 \nz\n\" transform=\"scale(0.015625)\"/>\n       <path id=\"DejaVuSans-78\" d=\"M 3513 3500 \nL 2247 1797 \nL 3578 0 \nL 2900 0 \nL 1881 1375 \nL 863 0 \nL 184 0 \nL 1544 1831 \nL 300 3500 \nL 978 3500 \nL 1906 2253 \nL 2834 3500 \nL 3513 3500 \nz\n\" transform=\"scale(0.015625)\"/>\n      </defs>\n      <use xlink:href=\"#DejaVuSans-28\"/>\n      <use xlink:href=\"#DejaVuSans-61\" x=\"39.013672\"/>\n      <use xlink:href=\"#DejaVuSans-29\" x=\"100.292969\"/>\n      <use xlink:href=\"#DejaVuSans-20\" x=\"139.306641\"/>\n      <use xlink:href=\"#DejaVuSans-54\" x=\"171.09375\"/>\n      <use xlink:href=\"#DejaVuSans-72\" x=\"217.427734\"/>\n      <use xlink:href=\"#DejaVuSans-69\" x=\"258.541016\"/>\n      <use xlink:href=\"#DejaVuSans-78\" x=\"286.324219\"/>\n      <use xlink:href=\"#DejaVuSans-69\" x=\"345.503906\"/>\n     </g>\n    </g>\n   </g>\n   <g id=\"matplotlib.axis_2\"/>\n   <g id=\"patch_3\">\n    <path d=\"M 7.2 245.350588 \nL 7.2 48.409412 \n\" style=\"fill: none; stroke: #000000; stroke-width: 0.8; stroke-linejoin: miter; stroke-linecap: square\"/>\n   </g>\n   <g id=\"patch_4\">\n    <path d=\"M 204.141176 245.350588 \nL 204.141176 48.409412 \n\" style=\"fill: none; stroke: #000000; stroke-width: 0.8; stroke-linejoin: miter; stroke-linecap: square\"/>\n   </g>\n   <g id=\"patch_5\">\n    <path d=\"M 7.2 245.350588 \nL 204.141176 245.350588 \n\" style=\"fill: none; stroke: #000000; stroke-width: 0.8; stroke-linejoin: miter; stroke-linecap: square\"/>\n   </g>\n   <g id=\"patch_6\">\n    <path d=\"M 7.2 48.409412 \nL 204.141176 48.409412 \n\" style=\"fill: none; stroke: #000000; stroke-width: 0.8; stroke-linejoin: miter; stroke-linecap: square\"/>\n   </g>\n  </g>\n  <g id=\"axes_2\">\n   <g id=\"patch_7\">\n    <path d=\"M 243.529412 245.350588 \nL 440.470588 245.350588 \nL 440.470588 48.409412 \nL 243.529412 48.409412 \nz\n\" style=\"fill: #ffffff\"/>\n   </g>\n   <g clip-path=\"url(#p1b0aa827e1)\">\n    <image xlink:href=\"data:image/png;base64,\niVBORw0KGgoAAAANSUhEUgAAARIAAAESCAYAAAAxN1ojAAAQu0lEQVR4nO3dS29cV3bF8XXug/UgRUqUDceK2TKc7gQJEiCTID3KIMgHyifseSaNjNzdVsumLaktWaJI8VHio+69GXiYYK8D7ELBUv6/6T04vFUsLl6gFvYp//G7/5xk/P39l+H1f9//2m2h3/RvwuuPu87usWx2wut302D3uJnuwuurij1OhmLXPFsfhNe/vvlru8fvz38VXv/DyV/ZPd68vhdenz2L31NJ2n1ul2jxdgyvL19c2z365yfh9endud1jODdriv/dqTTh5Wan91vs7fqf8/BBePn6KP4MSdLVo/j39/4T/3pXn8cR0D2+tHvE7xgAVCBIAKQRJADSCBIAaQQJgDSCBEAaQQIgjSABkNZ9fxKXYmq0istIkjTuf2NW/GT3+KqPyzWz4otCjeI9+uILabOytmt2m1Nz/cbuUXMvzh/M9TeKC2s/86U1/z9pbnfYnQ7D676yKLXmui2sSZL5PI+3calRkprLK7vGVcX8OyZJrrRW87uL72SlPbsDTyQA0ggSAGkECYA0ggRAGkECII0gAZBGkABI69bf+++If6iYBZO2X7Mo7pp85WskvmtixzxJSzP4RpL6Ju6A9N3K77H41t+MMU7xvY4Vr/e0bKJrUvM/axFe3VXcM5Gkrok/rK5nIknDxUW8YKroTW2ga1LzZ+e7Jn44kv/d+TvhiQRAGkECII0gAZBGkABII0gApBEkANIIEgBpBAmAtG75Y8VJXCU+Nez7ilLT2hSjajT7rggUn+YnSY+7+GbdaX5SXanJDVA6bP373pbbeEFFYc0NnRonfx9/siukUzcgaZr5TWzRLy6sSdKuadh1FSftNVO8x+gKaz+v8itMae1DGo7EEwmANIIEQBpBAiCNIAGQRpAASCNIAKQRJADSusWbihKIyRvXM5Gk56avUNNn6Jr4u/mdezUHSsUHVx11/vv/vcZ/O9+6TkTF235gOi1fdqZnIkmLY79mA56YX1/Nx6yYrslUMVBKWoZX9yruo6Yn5Gyia/IhDUfiiQRAGkECII0gAZBGkABII0gApBEkANIIEgBpBAmAtG73LxWlJjfYpKIotDJFoRcVRaHfN0fh9WVT8Vp2n4aXb6Zzu8Wjzg+cedjEQ3hsYU2ypbU9d2qgfGmtXXxn9xi29P/Gj6WqGI7k7nWKP4eStGcGG7UVw5Fq+NLahzMciScSAGkECYA0ggRAGkECII0gAZBGkABII0gApHXzZ+/8qua+WeD7DGWMM+vK9Ewk6VkTf7//X82Xdg/nHxfP7Zrziq7Jl91leP3z1h/21Jd4xM5Mnd3DedT67s1vF3H3ZlNKiX+/ryc/YEdTvvMkxYO69ip2+P82HIknEgBpBAmANIIEQBpBAiCNIAGQRpAASCNIAKQRJADSOp3EJ89J0rxxlRRfFCqDKU+ZwpokXTZxUejYFNYkaTA/5/KBH57zN/Of7JqzPn5fr3o/xuerPi76zSoGG7nS2kHFv5K2+FKTNlBaa0whrTUnLUrSSz2IFxRTWJM0NaZOVnGyZFVpzQxIKhUDlIZzV47cznAknkgApBEkANIIEgBpBAmANIIEQBpBAiCNIAGQRpAASOumLZ3EVYb98Hoz+HKVmjj3LjpfFDoeTCHtzheWXh3cs2v+djcura1GX3y704/h9V93voC3bOLXs4kpa5J01JnS2gYKa30z2DWu1PaXYgprkqYS/25sYU3SVFNaM0XPtvX/51uzx3BWMQFxit/XseIAS55IAKQRJADSCBIAaQQJgDSCBEAaQQIgjSABkNZt6yQu25qY4p6JJE1mkM/Y+e/3rxSfcPfy1u9x/t43Z84O45MDL/b9HoPN+Rd2j193cQnA9Uykuq6JG9Ijcx+SNCy+Da+PU/7/Xs1n9cUGhiPJnJL4s/gzsokT/WruwnZNxor+TsXPAYAQQQIgjSABkEaQAEgjSACkESQA0ggSAGkECYC0rqZs4gab1JzEVUqcWTMztEiSxp24tDbMfN3IldauBz9w6PLG13yerOM14+TvtS/x72ZecQJer5fh9a96fx81J/rJzFg6qCi+HbU34fW7xXd2j+spLs/duBMfJa3NaYyv1n44Uln796wM8WekGeLCmiTtDvFJeu3g77Uxe4wXF34PuwIADIIEQBpBAiCNIAGQRpAASCNIAKQRJADS6k5HMl2TqgN0ruKuSfPWdzNmy7iLcLfrv3dfz+PsnCr6LLcVXYRr0xM5bg/tHkszDOigW9k97jXvw+vzcmr3+FXFwKjW9IRcz0TyXZOjitf7T/Pn4fV3a/8ZuVzHXaLVp74jcnntB3W1po/0/rDigKzr+PUsr9d2j+b+QbzgrmL4mV0BAAZBAiCNIAGQRpAASCNIAKQRJADSCBIAaQQJgLSu9H7gzHRnGmcVw5Gm23iPsWI4UnsSn0433/NFofU8fr1T6wf9lIoT3+IRPdKq9yft/TCPh9Ic9Nd2j8M2fl/vt77kNR/8ms+7+Fw4W1iT1Jtz4e5V7PG4iwt2Z4u4sCZJb+924z2u49MaJen6E/93dbOKy2Tdyn8Wrx/E71l77c/rm93Ef5vlwJfreCIBkEaQAEgjSACkESQA0ggSAGkECYA0ggRAWtfs+++Zh9N38YKaHslg1pieiSRN5/FBPf1r381YzMyQHv/VvcpYsch0Ta4b33k52Yl/N8czPxxpv4sHG91r4+uStFviQ7Yk3zV50PqBQn2Jfzez4gdKPWzjITy/2Xll9zgzA7LObn2P5OrW/35PP4tfz/tb30Vpb+LP4vVD/561N/Fgo/6uYjiSXQEABkECII0gAZBGkABII0gApBEkANIIEgBpBAmAtK4sfLmmNWWy4fzS/yRTWpsqSi/TKi5PNSdndo+5GVxUxniojSS1t77k05jDyWqGI70vccHuWXff7tE38fveNaPdY178SWt9eR1eb4ovvh008WexppA2Kn49n7W++PjP8x/C63f3/X3cjv50wvUQrzmvKD6uhri0Vgb/OWuG+GRBjb74yBMJgDSCBEAaQQIgjSABkEaQAEgjSACkESQA0rq7o0/sov6HKbzejvF1SRou4qFEGzlkyww+knxyzu/8fXRXfkhPt4q/32/ufM+gjPHdrio6L9/aFd44VQxyumeu78Q9E0lqFR/4tddUDK6SGQZU86/TDIPSouJd9dULNSX+u3lSPrV7nMkNJvPDkdybMpk+k98BACoQJADSCBIAaQQJgDSCBEAaQQIgjSABkEaQAEjrVo982WSpuBjTP/OFJVe/soU1SdPaDz9yxndxCajcVQzxeX9j1zSruCjUVpzWVkZzWpsprEnSe1Naqyms1RTS7Jr9ih9kSmuPTGFN8qU1W1iT1DTx+9q6wpqkZvlnv6bEQ5hcYU2SnpjBVKeNawpKUzGDjUrFcCS7AgAMggRAGkECII0gAZBGkABII0gApBEkANIIEgBp3fVhRZaYCUnLUjNlLb7u54X50lpNYW0y09yKOVVQkppbX1prr+PS2vz2wO5RhrjUViZTWJM/0W81uQlb0rFd4Q0V/7PG/T/GC3Ze2T1caa1mytpM8Ul6BxV/Mm3xJ/q1i6fxdXNqoCQ1ij/Pf7I7SKem+HbpCmviiQTABhAkANIIEgBpBAmANIIEQBpBAiCNIAGQ1l0e1Syz59PZHZaKuyauZyJtZjiSO9FvuvXf3Y8VXZNiOi1l7feYje5e/LSgqbhBPn5o0cqe5raZrolVNRwp7pp8Id/vWDbxe+Z6JrWOOtNHWny3kZ/juK7JacUePJEASCNIAKQRJADSCBIAaQQJgDSCBEAaQQIgjSABkNbdPvanxl3KDTapySM3HCk+zU+S+uN4AEsz+ZPJxquVWeCLYlNFIW0yg40aWzaTyhSv8eNmpKmYFpctrEmbKK0dV/yUjXCltYrhSF+Y666wJm2mtGYLa9JWSms1w5F4IgGQRpAASCNIAKQRJADSCBIAaQQJgDSCBEBa9+Dw0i46neIewaX89+pTiTNrqjiEZ3eMuyb9cUU3o8SvZbi8snvUdE00xWtGP19HjbkX3+6Q5uZAMMkf1KWK36/MZ+TjGo7k/WK6JlsajsQTCYA0ggRAGkECII0gAZBGkABII0gApBEkANIIEgBp3d8dvraL/Elc9+we/sQ3n2lljIcj7Q5+OFL34iS83va+JDSe+xLfdGcaZxWlNldac4U1yZfW/BmJUk1pbRsn+h3bHTZkC8ORpO2c6Let4Ug8kQBII0gApBEkANIIEgBpBAmANIIEQBpBAiCt+7cH39hFo+kAPKn4Qacl7ghcVgw2KmOce2Vc2j3ciu7Vmd2j7Xu7Zjx7F1+/vrZ7uK7J1oYjVazxXZP8QVwf03Ak6QM6iKuiZ8ITCYA0ggRAGkECII0gAZBGkABII0gApBEkANIIEgBp3b9UlE2GDeTNU9N8OqloRl0OcTWqDDX3GVfSFn1rd+je+MFGjSutvT21e4xXZnDRL2Q4klRTWtvEiX4f0XAkaSsn+m1rOBJPJADSCBIAaQQJgDSCBEAaQQIgjSABkEaQAEgjSACkdXUncT3N/6Ayhte/KZPd480YF5Ku1n7KmsvOsffVqvncl9Z23sSFtKbze+iNudeLC7/HFqasSds60e8jmrImbeVEv21NWeOJBEAaQQIgjSABkEaQAEgjSACkESQA0ggSAGndXvGnxrmuybD41u7RKu6R1BhMj+TtumYET/y9+vDa77Ce++/mF/M4o+evfI+kLTWvJ2a7JhsYjiRt60Q/hiP9L7+Q4Ug8kQBII0gApBEkANIIEgBpBAmANIIEQBpBAiCNIAGQ1s3KBk7iam/smtac6NdUDDZaT3HufT34ktfFFBeShh3/fsxOfalpmMX7jH184p8kLZr453STf8+cTQxHkrZzoh/Dkf4PprTW7ry0W3xurtcMR+KJBEAaQQIgjSABkEaQAEgjSACkESQA0ggSAGldW3yWuMEmBxVx1JZ4OFI7j3smknT3IO6J3Fb0SP5srl/uLOwew8J/rz68jd+Uofd9lamJuyZL0zORfNekVAxPGs7P7ZptHMT1MQ1HkrbUNakajhR3TVzPROKJBMAGECQA0ggSAGkECYA0ggRAGkECII0gAZBGkABI61YVTaFNnMTlfGFO85Ok3y6ehtdvDv2pgc7z/r5d827uS2urZVyNGisGKEmuYOfvw41PqhmO5Gt+0rCFE/0+puFI0odzot9gTvOTeCIBsAEECYA0ggRAGkECII0gAZBGkABII0gApHXPB9/f+MJcrzlAZxNdkyPTNfnXpRtb5P13716t9OPcD8f5aRZ3BM57P/hmauL3rJgDw34Wd00WFYONato5rmtieybSRzUcqUwf0UFcFcOReCIBkEaQAEgjSACkESQA0ggSAGkECYA0ggRAGkECIK374+2nftXO6/Cyr3BtZzjS425VcSNxaW3Z3Ngtnux8Ztd8v3MYX+/8oJ83TdwEmkpFVcyW1mpG/cSvRZL6MR6QVDUcyZ3o91ENR5K2caLfccVdbAJPJADSCBIAaQQJgDSCBEAaQQIgjSABkEaQAEjrfnf+D37V/tfxddMzkbYzHOl+M9o9ZLom88V3dovD7tKuedCbn9Ou7R6lxN2M16VmwE7cNSmj/18yFd+cWOpheH0jw5Fcz0SSpvgzMN76QV7bGY4kbeMgrk0MR5om/4p5IgGQRpAASCNIAKQRJADSCBIAaQQJgDSCBEAaQQIg7X8A7YXLjYp2/r8AAAAASUVORK5CYII=\" id=\"imagef0b900e4a8\" transform=\"scale(1 -1) translate(0 -197.28)\" x=\"243.529412\" y=\"-48.070588\" width=\"197.28\" height=\"197.28\"/>\n   </g>\n   <g id=\"matplotlib.axis_3\">\n    <g id=\"text_2\">\n     <!-- (b) PyMPDATA -->\n     <g transform=\"translate(307.15 256.949026) scale(0.1 -0.1)\">\n      <defs>\n       <path id=\"DejaVuSans-62\" d=\"M 3116 1747 \nQ 3116 2381 2855 2742 \nQ 2594 3103 2138 3103 \nQ 1681 3103 1420 2742 \nQ 1159 2381 1159 1747 \nQ 1159 1113 1420 752 \nQ 1681 391 2138 391 \nQ 2594 391 2855 752 \nQ 3116 1113 3116 1747 \nz\nM 1159 2969 \nQ 1341 3281 1617 3432 \nQ 1894 3584 2278 3584 \nQ 2916 3584 3314 3078 \nQ 3713 2572 3713 1747 \nQ 3713 922 3314 415 \nQ 2916 -91 2278 -91 \nQ 1894 -91 1617 61 \nQ 1341 213 1159 525 \nL 1159 0 \nL 581 0 \nL 581 4863 \nL 1159 4863 \nL 1159 2969 \nz\n\" transform=\"scale(0.015625)\"/>\n       <path id=\"DejaVuSans-50\" d=\"M 1259 4147 \nL 1259 2394 \nL 2053 2394 \nQ 2494 2394 2734 2622 \nQ 2975 2850 2975 3272 \nQ 2975 3691 2734 3919 \nQ 2494 4147 2053 4147 \nL 1259 4147 \nz\nM 628 4666 \nL 2053 4666 \nQ 2838 4666 3239 4311 \nQ 3641 3956 3641 3272 \nQ 3641 2581 3239 2228 \nQ 2838 1875 2053 1875 \nL 1259 1875 \nL 1259 0 \nL 628 0 \nL 628 4666 \nz\n\" transform=\"scale(0.015625)\"/>\n       <path id=\"DejaVuSans-79\" d=\"M 2059 -325 \nQ 1816 -950 1584 -1140 \nQ 1353 -1331 966 -1331 \nL 506 -1331 \nL 506 -850 \nL 844 -850 \nQ 1081 -850 1212 -737 \nQ 1344 -625 1503 -206 \nL 1606 56 \nL 191 3500 \nL 800 3500 \nL 1894 763 \nL 2988 3500 \nL 3597 3500 \nL 2059 -325 \nz\n\" transform=\"scale(0.015625)\"/>\n       <path id=\"DejaVuSans-4d\" d=\"M 628 4666 \nL 1569 4666 \nL 2759 1491 \nL 3956 4666 \nL 4897 4666 \nL 4897 0 \nL 4281 0 \nL 4281 4097 \nL 3078 897 \nL 2444 897 \nL 1241 4097 \nL 1241 0 \nL 628 0 \nL 628 4666 \nz\n\" transform=\"scale(0.015625)\"/>\n       <path id=\"DejaVuSans-44\" d=\"M 1259 4147 \nL 1259 519 \nL 2022 519 \nQ 2988 519 3436 956 \nQ 3884 1394 3884 2338 \nQ 3884 3275 3436 3711 \nQ 2988 4147 2022 4147 \nL 1259 4147 \nz\nM 628 4666 \nL 1925 4666 \nQ 3281 4666 3915 4102 \nQ 4550 3538 4550 2338 \nQ 4550 1131 3912 565 \nQ 3275 0 1925 0 \nL 628 0 \nL 628 4666 \nz\n\" transform=\"scale(0.015625)\"/>\n       <path id=\"DejaVuSans-41\" d=\"M 2188 4044 \nL 1331 1722 \nL 3047 1722 \nL 2188 4044 \nz\nM 1831 4666 \nL 2547 4666 \nL 4325 0 \nL 3669 0 \nL 3244 1197 \nL 1141 1197 \nL 716 0 \nL 50 0 \nL 1831 4666 \nz\n\" transform=\"scale(0.015625)\"/>\n      </defs>\n      <use xlink:href=\"#DejaVuSans-28\"/>\n      <use xlink:href=\"#DejaVuSans-62\" x=\"39.013672\"/>\n      <use xlink:href=\"#DejaVuSans-29\" x=\"102.490234\"/>\n      <use xlink:href=\"#DejaVuSans-20\" x=\"141.503906\"/>\n      <use xlink:href=\"#DejaVuSans-50\" x=\"173.291016\"/>\n      <use xlink:href=\"#DejaVuSans-79\" x=\"233.59375\"/>\n      <use xlink:href=\"#DejaVuSans-4d\" x=\"292.773438\"/>\n      <use xlink:href=\"#DejaVuSans-50\" x=\"379.052734\"/>\n      <use xlink:href=\"#DejaVuSans-44\" x=\"439.355469\"/>\n      <use xlink:href=\"#DejaVuSans-41\" x=\"514.607422\"/>\n      <use xlink:href=\"#DejaVuSans-54\" x=\"575.265625\"/>\n      <use xlink:href=\"#DejaVuSans-41\" x=\"628.599609\"/>\n     </g>\n    </g>\n   </g>\n   <g id=\"matplotlib.axis_4\"/>\n   <g id=\"patch_8\">\n    <path d=\"M 243.529412 245.350588 \nL 243.529412 48.409412 \n\" style=\"fill: none; stroke: #000000; stroke-width: 0.8; stroke-linejoin: miter; stroke-linecap: square\"/>\n   </g>\n   <g id=\"patch_9\">\n    <path d=\"M 440.470588 245.350588 \nL 440.470588 48.409412 \n\" style=\"fill: none; stroke: #000000; stroke-width: 0.8; stroke-linejoin: miter; stroke-linecap: square\"/>\n   </g>\n   <g id=\"patch_10\">\n    <path d=\"M 243.529412 245.350588 \nL 440.470588 245.350588 \n\" style=\"fill: none; stroke: #000000; stroke-width: 0.8; stroke-linejoin: miter; stroke-linecap: square\"/>\n   </g>\n   <g id=\"patch_11\">\n    <path d=\"M 243.529412 48.409412 \nL 440.470588 48.409412 \n\" style=\"fill: none; stroke: #000000; stroke-width: 0.8; stroke-linejoin: miter; stroke-linecap: square\"/>\n   </g>\n  </g>\n  <g id=\"axes_3\">\n   <g id=\"patch_12\">\n    <path d=\"M 479.858824 245.350588 \nL 676.8 245.350588 \nL 676.8 48.409412 \nL 479.858824 48.409412 \nz\n\" style=\"fill: #ffffff\"/>\n   </g>\n   <g clip-path=\"url(#pd36d1083c3)\">\n    <image xlink:href=\"data:image/png;base64,\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\" id=\"imageca709ac871\" transform=\"scale(1 -1) translate(0 -197.28)\" x=\"479.858824\" y=\"-48.070588\" width=\"197.28\" height=\"197.28\"/>\n   </g>\n   <g id=\"matplotlib.axis_5\">\n    <g id=\"text_3\">\n     <!-- (c) Analytical solution -->\n     <g transform=\"translate(524.148162 256.949026) scale(0.1 -0.1)\">\n      <defs>\n       <path id=\"DejaVuSans-63\" d=\"M 3122 3366 \nL 3122 2828 \nQ 2878 2963 2633 3030 \nQ 2388 3097 2138 3097 \nQ 1578 3097 1268 2742 \nQ 959 2388 959 1747 \nQ 959 1106 1268 751 \nQ 1578 397 2138 397 \nQ 2388 397 2633 464 \nQ 2878 531 3122 666 \nL 3122 134 \nQ 2881 22 2623 -34 \nQ 2366 -91 2075 -91 \nQ 1284 -91 818 406 \nQ 353 903 353 1747 \nQ 353 2603 823 3093 \nQ 1294 3584 2113 3584 \nQ 2378 3584 2631 3529 \nQ 2884 3475 3122 3366 \nz\n\" transform=\"scale(0.015625)\"/>\n       <path id=\"DejaVuSans-6e\" d=\"M 3513 2113 \nL 3513 0 \nL 2938 0 \nL 2938 2094 \nQ 2938 2591 2744 2837 \nQ 2550 3084 2163 3084 \nQ 1697 3084 1428 2787 \nQ 1159 2491 1159 1978 \nL 1159 0 \nL 581 0 \nL 581 3500 \nL 1159 3500 \nL 1159 2956 \nQ 1366 3272 1645 3428 \nQ 1925 3584 2291 3584 \nQ 2894 3584 3203 3211 \nQ 3513 2838 3513 2113 \nz\n\" transform=\"scale(0.015625)\"/>\n       <path id=\"DejaVuSans-6c\" d=\"M 603 4863 \nL 1178 4863 \nL 1178 0 \nL 603 0 \nL 603 4863 \nz\n\" transform=\"scale(0.015625)\"/>\n       <path id=\"DejaVuSans-74\" d=\"M 1172 4494 \nL 1172 3500 \nL 2356 3500 \nL 2356 3053 \nL 1172 3053 \nL 1172 1153 \nQ 1172 725 1289 603 \nQ 1406 481 1766 481 \nL 2356 481 \nL 2356 0 \nL 1766 0 \nQ 1100 0 847 248 \nQ 594 497 594 1153 \nL 594 3053 \nL 172 3053 \nL 172 3500 \nL 594 3500 \nL 594 4494 \nL 1172 4494 \nz\n\" transform=\"scale(0.015625)\"/>\n       <path id=\"DejaVuSans-73\" d=\"M 2834 3397 \nL 2834 2853 \nQ 2591 2978 2328 3040 \nQ 2066 3103 1784 3103 \nQ 1356 3103 1142 2972 \nQ 928 2841 928 2578 \nQ 928 2378 1081 2264 \nQ 1234 2150 1697 2047 \nL 1894 2003 \nQ 2506 1872 2764 1633 \nQ 3022 1394 3022 966 \nQ 3022 478 2636 193 \nQ 2250 -91 1575 -91 \nQ 1294 -91 989 -36 \nQ 684 19 347 128 \nL 347 722 \nQ 666 556 975 473 \nQ 1284 391 1588 391 \nQ 1994 391 2212 530 \nQ 2431 669 2431 922 \nQ 2431 1156 2273 1281 \nQ 2116 1406 1581 1522 \nL 1381 1569 \nQ 847 1681 609 1914 \nQ 372 2147 372 2553 \nQ 372 3047 722 3315 \nQ 1072 3584 1716 3584 \nQ 2034 3584 2315 3537 \nQ 2597 3491 2834 3397 \nz\n\" transform=\"scale(0.015625)\"/>\n       <path id=\"DejaVuSans-6f\" d=\"M 1959 3097 \nQ 1497 3097 1228 2736 \nQ 959 2375 959 1747 \nQ 959 1119 1226 758 \nQ 1494 397 1959 397 \nQ 2419 397 2687 759 \nQ 2956 1122 2956 1747 \nQ 2956 2369 2687 2733 \nQ 2419 3097 1959 3097 \nz\nM 1959 3584 \nQ 2709 3584 3137 3096 \nQ 3566 2609 3566 1747 \nQ 3566 888 3137 398 \nQ 2709 -91 1959 -91 \nQ 1206 -91 779 398 \nQ 353 888 353 1747 \nQ 353 2609 779 3096 \nQ 1206 3584 1959 3584 \nz\n\" transform=\"scale(0.015625)\"/>\n       <path id=\"DejaVuSans-75\" d=\"M 544 1381 \nL 544 3500 \nL 1119 3500 \nL 1119 1403 \nQ 1119 906 1312 657 \nQ 1506 409 1894 409 \nQ 2359 409 2629 706 \nQ 2900 1003 2900 1516 \nL 2900 3500 \nL 3475 3500 \nL 3475 0 \nL 2900 0 \nL 2900 538 \nQ 2691 219 2414 64 \nQ 2138 -91 1772 -91 \nQ 1169 -91 856 284 \nQ 544 659 544 1381 \nz\nM 1991 3584 \nL 1991 3584 \nz\n\" transform=\"scale(0.015625)\"/>\n      </defs>\n      <use xlink:href=\"#DejaVuSans-28\"/>\n      <use xlink:href=\"#DejaVuSans-63\" x=\"39.013672\"/>\n      <use xlink:href=\"#DejaVuSans-29\" x=\"93.994141\"/>\n      <use xlink:href=\"#DejaVuSans-20\" x=\"133.007812\"/>\n      <use xlink:href=\"#DejaVuSans-41\" x=\"164.794922\"/>\n      <use xlink:href=\"#DejaVuSans-6e\" x=\"233.203125\"/>\n      <use xlink:href=\"#DejaVuSans-61\" x=\"296.582031\"/>\n      <use xlink:href=\"#DejaVuSans-6c\" x=\"357.861328\"/>\n      <use xlink:href=\"#DejaVuSans-79\" x=\"385.644531\"/>\n      <use xlink:href=\"#DejaVuSans-74\" x=\"444.824219\"/>\n      <use xlink:href=\"#DejaVuSans-69\" x=\"484.033203\"/>\n      <use xlink:href=\"#DejaVuSans-63\" x=\"511.816406\"/>\n      <use xlink:href=\"#DejaVuSans-61\" x=\"566.796875\"/>\n      <use xlink:href=\"#DejaVuSans-6c\" x=\"628.076172\"/>\n      <use xlink:href=\"#DejaVuSans-20\" x=\"655.859375\"/>\n      <use xlink:href=\"#DejaVuSans-73\" x=\"687.646484\"/>\n      <use xlink:href=\"#DejaVuSans-6f\" x=\"739.746094\"/>\n      <use xlink:href=\"#DejaVuSans-6c\" x=\"800.927734\"/>\n      <use xlink:href=\"#DejaVuSans-75\" x=\"828.710938\"/>\n      <use xlink:href=\"#DejaVuSans-74\" x=\"892.089844\"/>\n      <use xlink:href=\"#DejaVuSans-69\" x=\"931.298828\"/>\n      <use xlink:href=\"#DejaVuSans-6f\" x=\"959.082031\"/>\n      <use xlink:href=\"#DejaVuSans-6e\" x=\"1020.263672\"/>\n     </g>\n    </g>\n   </g>\n   <g id=\"matplotlib.axis_6\"/>\n   <g id=\"patch_13\">\n    <path d=\"M 479.858824 245.350588 \nL 479.858824 48.409412 \n\" style=\"fill: none; stroke: #000000; stroke-width: 0.8; stroke-linejoin: miter; stroke-linecap: square\"/>\n   </g>\n   <g id=\"patch_14\">\n    <path d=\"M 676.8 245.350588 \nL 676.8 48.409412 \n\" style=\"fill: none; stroke: #000000; stroke-width: 0.8; stroke-linejoin: miter; stroke-linecap: square\"/>\n   </g>\n   <g id=\"patch_15\">\n    <path d=\"M 479.858824 245.350588 \nL 676.8 245.350588 \n\" style=\"fill: none; stroke: #000000; stroke-width: 0.8; stroke-linejoin: miter; stroke-linecap: square\"/>\n   </g>\n   <g id=\"patch_16\">\n    <path d=\"M 479.858824 48.409412 \nL 676.8 48.409412 \n\" style=\"fill: none; stroke: #000000; stroke-width: 0.8; stroke-linejoin: miter; stroke-linecap: square\"/>\n   </g>\n  </g>\n  <g id=\"text_4\">\n   <!-- Figure 1: Comparison of 2D Advection simulation results -->\n   <g transform=\"translate(162.334688 16.318125) scale(0.12 -0.12)\">\n    <defs>\n     <path id=\"DejaVuSans-46\" d=\"M 628 4666 \nL 3309 4666 \nL 3309 4134 \nL 1259 4134 \nL 1259 2759 \nL 3109 2759 \nL 3109 2228 \nL 1259 2228 \nL 1259 0 \nL 628 0 \nL 628 4666 \nz\n\" transform=\"scale(0.015625)\"/>\n     <path id=\"DejaVuSans-67\" d=\"M 2906 1791 \nQ 2906 2416 2648 2759 \nQ 2391 3103 1925 3103 \nQ 1463 3103 1205 2759 \nQ 947 2416 947 1791 \nQ 947 1169 1205 825 \nQ 1463 481 1925 481 \nQ 2391 481 2648 825 \nQ 2906 1169 2906 1791 \nz\nM 3481 434 \nQ 3481 -459 3084 -895 \nQ 2688 -1331 1869 -1331 \nQ 1566 -1331 1297 -1286 \nQ 1028 -1241 775 -1147 \nL 775 -588 \nQ 1028 -725 1275 -790 \nQ 1522 -856 1778 -856 \nQ 2344 -856 2625 -561 \nQ 2906 -266 2906 331 \nL 2906 616 \nQ 2728 306 2450 153 \nQ 2172 0 1784 0 \nQ 1141 0 747 490 \nQ 353 981 353 1791 \nQ 353 2603 747 3093 \nQ 1141 3584 1784 3584 \nQ 2172 3584 2450 3431 \nQ 2728 3278 2906 2969 \nL 2906 3500 \nL 3481 3500 \nL 3481 434 \nz\n\" transform=\"scale(0.015625)\"/>\n     <path id=\"DejaVuSans-65\" d=\"M 3597 1894 \nL 3597 1613 \nL 953 1613 \nQ 991 1019 1311 708 \nQ 1631 397 2203 397 \nQ 2534 397 2845 478 \nQ 3156 559 3463 722 \nL 3463 178 \nQ 3153 47 2828 -22 \nQ 2503 -91 2169 -91 \nQ 1331 -91 842 396 \nQ 353 884 353 1716 \nQ 353 2575 817 3079 \nQ 1281 3584 2069 3584 \nQ 2775 3584 3186 3129 \nQ 3597 2675 3597 1894 \nz\nM 3022 2063 \nQ 3016 2534 2758 2815 \nQ 2500 3097 2075 3097 \nQ 1594 3097 1305 2825 \nQ 1016 2553 972 2059 \nL 3022 2063 \nz\n\" transform=\"scale(0.015625)\"/>\n     <path id=\"DejaVuSans-31\" d=\"M 794 531 \nL 1825 531 \nL 1825 4091 \nL 703 3866 \nL 703 4441 \nL 1819 4666 \nL 2450 4666 \nL 2450 531 \nL 3481 531 \nL 3481 0 \nL 794 0 \nL 794 531 \nz\n\" transform=\"scale(0.015625)\"/>\n     <path id=\"DejaVuSans-3a\" d=\"M 750 794 \nL 1409 794 \nL 1409 0 \nL 750 0 \nL 750 794 \nz\nM 750 3309 \nL 1409 3309 \nL 1409 2516 \nL 750 2516 \nL 750 3309 \nz\n\" transform=\"scale(0.015625)\"/>\n     <path id=\"DejaVuSans-43\" d=\"M 4122 4306 \nL 4122 3641 \nQ 3803 3938 3442 4084 \nQ 3081 4231 2675 4231 \nQ 1875 4231 1450 3742 \nQ 1025 3253 1025 2328 \nQ 1025 1406 1450 917 \nQ 1875 428 2675 428 \nQ 3081 428 3442 575 \nQ 3803 722 4122 1019 \nL 4122 359 \nQ 3791 134 3420 21 \nQ 3050 -91 2638 -91 \nQ 1578 -91 968 557 \nQ 359 1206 359 2328 \nQ 359 3453 968 4101 \nQ 1578 4750 2638 4750 \nQ 3056 4750 3426 4639 \nQ 3797 4528 4122 4306 \nz\n\" transform=\"scale(0.015625)\"/>\n     <path id=\"DejaVuSans-6d\" d=\"M 3328 2828 \nQ 3544 3216 3844 3400 \nQ 4144 3584 4550 3584 \nQ 5097 3584 5394 3201 \nQ 5691 2819 5691 2113 \nL 5691 0 \nL 5113 0 \nL 5113 2094 \nQ 5113 2597 4934 2840 \nQ 4756 3084 4391 3084 \nQ 3944 3084 3684 2787 \nQ 3425 2491 3425 1978 \nL 3425 0 \nL 2847 0 \nL 2847 2094 \nQ 2847 2600 2669 2842 \nQ 2491 3084 2119 3084 \nQ 1678 3084 1418 2786 \nQ 1159 2488 1159 1978 \nL 1159 0 \nL 581 0 \nL 581 3500 \nL 1159 3500 \nL 1159 2956 \nQ 1356 3278 1631 3431 \nQ 1906 3584 2284 3584 \nQ 2666 3584 2933 3390 \nQ 3200 3197 3328 2828 \nz\n\" transform=\"scale(0.015625)\"/>\n     <path id=\"DejaVuSans-70\" d=\"M 1159 525 \nL 1159 -1331 \nL 581 -1331 \nL 581 3500 \nL 1159 3500 \nL 1159 2969 \nQ 1341 3281 1617 3432 \nQ 1894 3584 2278 3584 \nQ 2916 3584 3314 3078 \nQ 3713 2572 3713 1747 \nQ 3713 922 3314 415 \nQ 2916 -91 2278 -91 \nQ 1894 -91 1617 61 \nQ 1341 213 1159 525 \nz\nM 3116 1747 \nQ 3116 2381 2855 2742 \nQ 2594 3103 2138 3103 \nQ 1681 3103 1420 2742 \nQ 1159 2381 1159 1747 \nQ 1159 1113 1420 752 \nQ 1681 391 2138 391 \nQ 2594 391 2855 752 \nQ 3116 1113 3116 1747 \nz\n\" transform=\"scale(0.015625)\"/>\n     <path id=\"DejaVuSans-66\" d=\"M 2375 4863 \nL 2375 4384 \nL 1825 4384 \nQ 1516 4384 1395 4259 \nQ 1275 4134 1275 3809 \nL 1275 3500 \nL 2222 3500 \nL 2222 3053 \nL 1275 3053 \nL 1275 0 \nL 697 0 \nL 697 3053 \nL 147 3053 \nL 147 3500 \nL 697 3500 \nL 697 3744 \nQ 697 4328 969 4595 \nQ 1241 4863 1831 4863 \nL 2375 4863 \nz\n\" transform=\"scale(0.015625)\"/>\n     <path id=\"DejaVuSans-32\" d=\"M 1228 531 \nL 3431 531 \nL 3431 0 \nL 469 0 \nL 469 531 \nQ 828 903 1448 1529 \nQ 2069 2156 2228 2338 \nQ 2531 2678 2651 2914 \nQ 2772 3150 2772 3378 \nQ 2772 3750 2511 3984 \nQ 2250 4219 1831 4219 \nQ 1534 4219 1204 4116 \nQ 875 4013 500 3803 \nL 500 4441 \nQ 881 4594 1212 4672 \nQ 1544 4750 1819 4750 \nQ 2544 4750 2975 4387 \nQ 3406 4025 3406 3419 \nQ 3406 3131 3298 2873 \nQ 3191 2616 2906 2266 \nQ 2828 2175 2409 1742 \nQ 1991 1309 1228 531 \nz\n\" transform=\"scale(0.015625)\"/>\n     <path id=\"DejaVuSans-64\" d=\"M 2906 2969 \nL 2906 4863 \nL 3481 4863 \nL 3481 0 \nL 2906 0 \nL 2906 525 \nQ 2725 213 2448 61 \nQ 2172 -91 1784 -91 \nQ 1150 -91 751 415 \nQ 353 922 353 1747 \nQ 353 2572 751 3078 \nQ 1150 3584 1784 3584 \nQ 2172 3584 2448 3432 \nQ 2725 3281 2906 2969 \nz\nM 947 1747 \nQ 947 1113 1208 752 \nQ 1469 391 1925 391 \nQ 2381 391 2643 752 \nQ 2906 1113 2906 1747 \nQ 2906 2381 2643 2742 \nQ 2381 3103 1925 3103 \nQ 1469 3103 1208 2742 \nQ 947 2381 947 1747 \nz\n\" transform=\"scale(0.015625)\"/>\n     <path id=\"DejaVuSans-76\" d=\"M 191 3500 \nL 800 3500 \nL 1894 563 \nL 2988 3500 \nL 3597 3500 \nL 2284 0 \nL 1503 0 \nL 191 3500 \nz\n\" transform=\"scale(0.015625)\"/>\n    </defs>\n    <use xlink:href=\"#DejaVuSans-46\"/>\n    <use xlink:href=\"#DejaVuSans-69\" x=\"50.269531\"/>\n    <use xlink:href=\"#DejaVuSans-67\" x=\"78.052734\"/>\n    <use xlink:href=\"#DejaVuSans-75\" x=\"141.529297\"/>\n    <use xlink:href=\"#DejaVuSans-72\" x=\"204.908203\"/>\n    <use xlink:href=\"#DejaVuSans-65\" x=\"243.771484\"/>\n    <use xlink:href=\"#DejaVuSans-20\" x=\"305.294922\"/>\n    <use xlink:href=\"#DejaVuSans-31\" x=\"337.082031\"/>\n    <use xlink:href=\"#DejaVuSans-3a\" x=\"400.705078\"/>\n    <use xlink:href=\"#DejaVuSans-20\" x=\"434.396484\"/>\n    <use xlink:href=\"#DejaVuSans-43\" x=\"466.183594\"/>\n    <use xlink:href=\"#DejaVuSans-6f\" x=\"536.007812\"/>\n    <use xlink:href=\"#DejaVuSans-6d\" x=\"597.189453\"/>\n    <use xlink:href=\"#DejaVuSans-70\" x=\"694.601562\"/>\n    <use xlink:href=\"#DejaVuSans-61\" x=\"758.078125\"/>\n    <use xlink:href=\"#DejaVuSans-72\" x=\"819.357422\"/>\n    <use xlink:href=\"#DejaVuSans-69\" x=\"860.470703\"/>\n    <use xlink:href=\"#DejaVuSans-73\" x=\"888.253906\"/>\n    <use xlink:href=\"#DejaVuSans-6f\" x=\"940.353516\"/>\n    <use xlink:href=\"#DejaVuSans-6e\" x=\"1001.535156\"/>\n    <use xlink:href=\"#DejaVuSans-20\" x=\"1064.914062\"/>\n    <use xlink:href=\"#DejaVuSans-6f\" x=\"1096.701172\"/>\n    <use xlink:href=\"#DejaVuSans-66\" x=\"1157.882812\"/>\n    <use xlink:href=\"#DejaVuSans-20\" x=\"1193.087891\"/>\n    <use xlink:href=\"#DejaVuSans-32\" x=\"1224.875\"/>\n    <use xlink:href=\"#DejaVuSans-44\" x=\"1288.498047\"/>\n    <use xlink:href=\"#DejaVuSans-20\" x=\"1365.5\"/>\n    <use xlink:href=\"#DejaVuSans-41\" x=\"1397.287109\"/>\n    <use xlink:href=\"#DejaVuSans-64\" x=\"1463.945312\"/>\n    <use xlink:href=\"#DejaVuSans-76\" x=\"1527.421875\"/>\n    <use xlink:href=\"#DejaVuSans-65\" x=\"1586.601562\"/>\n    <use xlink:href=\"#DejaVuSans-63\" x=\"1648.125\"/>\n    <use xlink:href=\"#DejaVuSans-74\" x=\"1703.105469\"/>\n    <use xlink:href=\"#DejaVuSans-69\" x=\"1742.314453\"/>\n    <use xlink:href=\"#DejaVuSans-6f\" x=\"1770.097656\"/>\n    <use xlink:href=\"#DejaVuSans-6e\" x=\"1831.279297\"/>\n    <use xlink:href=\"#DejaVuSans-20\" x=\"1894.658203\"/>\n    <use xlink:href=\"#DejaVuSans-73\" x=\"1926.445312\"/>\n    <use xlink:href=\"#DejaVuSans-69\" x=\"1978.544922\"/>\n    <use xlink:href=\"#DejaVuSans-6d\" x=\"2006.328125\"/>\n    <use xlink:href=\"#DejaVuSans-75\" x=\"2103.740234\"/>\n    <use xlink:href=\"#DejaVuSans-6c\" x=\"2167.119141\"/>\n    <use xlink:href=\"#DejaVuSans-61\" x=\"2194.902344\"/>\n    <use xlink:href=\"#DejaVuSans-74\" x=\"2256.181641\"/>\n    <use xlink:href=\"#DejaVuSans-69\" x=\"2295.390625\"/>\n    <use xlink:href=\"#DejaVuSans-6f\" x=\"2323.173828\"/>\n    <use xlink:href=\"#DejaVuSans-6e\" x=\"2384.355469\"/>\n    <use xlink:href=\"#DejaVuSans-20\" x=\"2447.734375\"/>\n    <use xlink:href=\"#DejaVuSans-72\" x=\"2479.521484\"/>\n    <use xlink:href=\"#DejaVuSans-65\" x=\"2518.384766\"/>\n    <use xlink:href=\"#DejaVuSans-73\" x=\"2579.908203\"/>\n    <use xlink:href=\"#DejaVuSans-75\" x=\"2632.007812\"/>\n    <use xlink:href=\"#DejaVuSans-6c\" x=\"2695.386719\"/>\n    <use xlink:href=\"#DejaVuSans-74\" x=\"2723.169922\"/>\n    <use xlink:href=\"#DejaVuSans-73\" x=\"2762.378906\"/>\n   </g>\n  </g>\n </g>\n <defs>\n  <clipPath id=\"pea9a5c839d\">\n   <rect x=\"7.2\" y=\"48.409412\" width=\"196.941176\" height=\"196.941176\"/>\n  </clipPath>\n  <clipPath id=\"p1b0aa827e1\">\n   <rect x=\"243.529412\" y=\"48.409412\" width=\"196.941176\" height=\"196.941176\"/>\n  </clipPath>\n  <clipPath id=\"pd36d1083c3\">\n   <rect x=\"479.858824\" y=\"48.409412\" width=\"196.941176\" height=\"196.941176\"/>\n  </clipPath>\n </defs>\n</svg>\n"
     },
     "metadata": {},
     "output_type": "display_data"
    }
   ],
   "source": [
    "fig, axs = plt.subplots(1, 3, figsize=(12,4))\n",
    "\n",
    "# Title\n",
    "fig.suptitle(\"Figure 1: Comparison of 2D Advection simulation results\")\n",
    "\n",
    "# Plot Trixi output\n",
    "axs[0].imshow(trixi_result, cmap='viridis')\n",
    "axs[0].set_xticks([])\n",
    "axs[0].set_yticks([])\n",
    "axs[0].set_xlabel(\"(a) Trixi\")\n",
    "\n",
    "# Plot PyMPDATA output\n",
    "axs[1].imshow(states_history[-1], cmap='viridis')\n",
    "axs[1].set_xticks([])\n",
    "axs[1].set_yticks([])\n",
    "axs[1].set_xlabel(\"(b) PyMPDATA\")\n",
    "\n",
    "# Plot analytical solution\n",
    "axs[2].imshow(z_final, cmap='viridis')\n",
    "axs[2].set_xticks([])\n",
    "axs[2].set_yticks([])\n",
    "axs[2].set_xlabel(\"(c) Analytical solution\")\n",
    "\n",
    "plt.show()"
   ],
   "metadata": {
    "collapsed": false,
    "ExecuteTime": {
     "end_time": "2024-06-09T19:05:28.460688Z",
     "start_time": "2024-06-09T19:05:28.364707Z"
    }
   },
   "id": "ec1da5d877143550",
   "execution_count": 156
  },
  {
   "cell_type": "code",
   "outputs": [],
   "source": [
    " "
   ],
   "metadata": {
    "collapsed": false
   },
   "id": "42126fe4c45e3839"
  }
 ],
 "metadata": {
  "kernelspec": {
   "display_name": "Python 3 (ipykernel)",
   "language": "python",
   "name": "python3"
  },
  "language_info": {
   "codemirror_mode": {
    "name": "ipython",
    "version": 3
   },
   "file_extension": ".py",
   "mimetype": "text/x-python",
   "name": "python",
   "nbconvert_exporter": "python",
   "pygments_lexer": "ipython3",
   "version": "3.9.2"
  }
 },
 "nbformat": 4,
 "nbformat_minor": 5
}
