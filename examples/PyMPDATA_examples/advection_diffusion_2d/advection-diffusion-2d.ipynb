{
 "cells": [
  {
   "cell_type": "markdown",
   "id": "e333839d",
   "metadata": {},
   "source": [
    "[![Binder](https://mybinder.org/badge_logo.svg)](https://mybinder.org/v2/gh/open-atmos/PyMPDATA.git/main?urlpath=lab/tree/examples/PyMPDATA_examples/advection_diffusion_2d/advection-diffusion-2d.ipynb)\n",
    "[![Open In Colab](https://colab.research.google.com/assets/colab-badge.svg)](https://colab.research.google.com/github/open-atmos/examples/blob/main/examples/PyMPDATA_examples/advection_diffusion_2d/advection-diffusion-2d.ipynb)"
   ]
  },
  {
   "cell_type": "code",
   "id": "43d2893d-f472-43ac-ad5b-bf342a3783b9",
   "metadata": {},
   "source": [
    "from open_atmos_jupyter_utils import show_plot"
   ],
   "outputs": [],
   "execution_count": null
  },
  {
   "cell_type": "markdown",
   "id": "0f0ce965-3f51-41a7-82cd-5aa3892319f2",
   "metadata": {},
   "source": [
    "TOC:\n",
    "- run a basic constant-coefficient advection-diffusion simulation with Trixi.jl\n",
    "- run analogous simulation with PyMPDATA\n",
    "- compare output"
   ]
  },
  {
   "cell_type": "markdown",
   "id": "0f162ce9-5704-4464-8b67-be8c86ecabc8",
   "metadata": {},
   "source": [
    "## common settings"
   ]
  },
  {
   "metadata": {},
   "cell_type": "code",
   "source": [
    "SETUP = {\n",
    "    \"nx\": 32,\n",
    "    \"ny\": 32,\n",
    "    \"ux\": 0.5,\n",
    "    \"uy\": 0.25,\n",
    "    \"dt\": 0.025,\n",
    "    \"tmax\": 1.0\n",
    "}\n",
    "\n",
    "import json\n",
    "with open('setup1.json', 'w', encoding='UTF-8') as f:\n",
    "    json.dump(SETUP, f)"
   ],
   "id": "9f3013f406dd71b5",
   "outputs": [],
   "execution_count": null
  },
  {
   "metadata": {},
   "cell_type": "markdown",
   "source": "## Trixi.jl",
   "id": "e8632229f9fe6a7a"
  },
  {
   "metadata": {},
   "cell_type": "code",
   "source": [
    "%%writefile trixi.jl\n",
    "import Pkg\n",
    "Pkg.add([\"JSON\", \"Trixi\", \"OrdinaryDiffEq\"])\n",
    "using JSON\n",
    "using Trixi\n",
    "using OrdinaryDiffEq\n",
    "\n",
    "\n",
    "setup = JSON.parsefile(\"setup.json\")\n",
    "advection_velocity = (setup[\"Cx\"], setup[\"Cy\"])\n",
    "equations = LinearScalarAdvectionEquation2D(advection_velocity)\n",
    "\n",
    "solver = DGSEM(polydeg = 3)\n",
    "\n",
    "cells_per_dimension = (setup[\"nx\"], setup[\"ny\"])\n",
    "coordinates_min = (-1.0, -1.0)\n",
    "coordinates_max = ( 1.0,  1.0)\n",
    "\n",
    "mesh = StructuredMesh(cells_per_dimension, coordinates_min, coordinates_max)\n",
    "semi = SemidiscretizationHyperbolic(mesh, equations, initial_condition_convergence_test, solver)\n",
    "\n",
    "tspan = (0.0, setup[\"tmax\"])\n",
    "ode = semidiscretize(semi, tspan);\n",
    "\n",
    "summary_callback = SummaryCallback()\n",
    "save_solution = SaveSolutionCallback(interval=100)\n",
    "\n",
    "stepsize_callback = StepsizeCallback(cfl = 1.6)\n",
    "\n",
    "callbacks = CallbackSet(summary_callback, save_solution, stepsize_callback)\n",
    "\n",
    "time_int_tol = 1e-6\n",
    "sol = solve(ode, CarpenterKennedy2N54();\n",
    "            abstol = time_int_tol,\n",
    "            reltol = time_int_tol,\n",
    "            dt = setup[\"dt\"],\n",
    "            ode_default_options()..., callback = callbacks);\n",
    "\n",
    "summary_callback()"
   ],
   "id": "86dc8ee213290112",
   "outputs": [],
   "execution_count": null
  },
  {
   "metadata": {},
   "cell_type": "code",
   "source": [
    "%%bash\n",
    "julia trixi.jl 2>&1"
   ],
   "id": "8bee6fea8845cd5",
   "outputs": [],
   "execution_count": null
  },
  {
   "metadata": {},
   "cell_type": "code",
   "source": [
    "import h5py\n",
    "import matplotlib.pyplot as plt\n",
    "import numpy as np\n",
    "\n",
    "with h5py.File('C:/Users/Pawel/out/solution_000031.h5', 'r') as f:\n",
    "    # average every 16 points to reduce the number of points\n",
    "    temp = np.array([np.mean(x) for x in f['variables_1'][:].reshape(-1, 16)])\n",
    "    plt.imshow(temp[:].reshape(SETUP['ny'], SETUP['nx']).transpose())\n",
    "    plt.show()"
   ],
   "id": "35482728126c1fdd",
   "outputs": [],
   "execution_count": null
  },
  {
   "metadata": {},
   "cell_type": "markdown",
   "source": "## PyMPDATA",
   "id": "960bf06b5c3acafe"
  },
  {
   "metadata": {},
   "cell_type": "code",
   "source": [
    "import os\n",
    "import sympy as sp\n",
    "from IPython.display import display\n",
    "from ipywidgets import FloatProgress\n",
    "from PyMPDATA import Solver, ScalarField, VectorField, Stepper, Options\n",
    "from PyMPDATA.boundary_conditions import Periodic"
   ],
   "id": "d34641166b1fbcb9",
   "outputs": [],
   "execution_count": null
  },
  {
   "metadata": {},
   "cell_type": "code",
   "source": [
    "steps_per_iter = 1\n",
    "opt = Options(n_iters=3, non_zero_mu_coeff=True, infinite_gauge=True, nonoscillatory=True)"
   ],
   "id": "a78da62ea69f02f7",
   "outputs": [],
   "execution_count": null
  },
  {
   "metadata": {},
   "cell_type": "code",
   "source": [
    "x0 = -1.\n",
    "y0 = -1.\n",
    "boundary_conditions = (Periodic(), Periodic())"
   ],
   "id": "67828ba27c8dcab6",
   "outputs": [],
   "execution_count": null
  },
  {
   "metadata": {},
   "cell_type": "code",
   "source": [
    "mu = 0.05\n",
    "min_x, min_y = -1, -1\n",
    "max_x, max_y = 1, 1\n",
    "dx = (max_x - min_x) / SETUP['nx']\n",
    "dy = (max_y - min_y) / SETUP['ny']\n",
    "nt = int(SETUP['tmax'] / SETUP['dt'])\n",
    "Cx = SETUP['ux'] * SETUP['dt'] / dx\n",
    "Cy = SETUP['uy'] * SETUP['dt'] / dy\n",
    "# Cx = 0\n",
    "# Cy = 0\n",
    "# solution_symbolic = sp.sympify(\"sin(pi*(x+y))*exp(-mu*pi**2*t) + 1\", rational=True)\n",
    "solution_symbolic = sp.sympify(\"exp(-100*(x**2 + y**2)) + 1\", rational=True) #exp(-100 * (x[1]^2 + x[2]^2)))\n",
    "solution = solution_symbolic.subs({\"mu\": mu})"
   ],
   "id": "4c9e43528717e933",
   "outputs": [],
   "execution_count": null
  },
  {
   "metadata": {},
   "cell_type": "code",
   "source": [
    "def init_conditions(x, y):\n",
    "    return solution_symbolic.subs({\"t\":0, \"x\": x, \"y\": y}).evalf()"
   ],
   "id": "1437d3d1fdc8432d",
   "outputs": [],
   "execution_count": null
  },
  {
   "metadata": {},
   "cell_type": "code",
   "source": [
    "z = np.array(\n",
    "    [\n",
    "        # [\n",
    "            init_conditions(x, y) for x in np.linspace(min_x, max_x, SETUP['nx'])\n",
    "        # ]\n",
    "        for y in np.linspace(min_y, max_y, SETUP['ny'])\n",
    "    ],\n",
    "    dtype=float\n",
    ").reshape((SETUP['nx'], SETUP['ny']))"
   ],
   "id": "c45c0a6b32ee08",
   "outputs": [],
   "execution_count": null
  },
  {
   "metadata": {},
   "cell_type": "code",
   "source": "advectee = ScalarField(data=z, halo=opt.n_halo, boundary_conditions=boundary_conditions)",
   "id": "744dc112f1eb9b62",
   "outputs": [],
   "execution_count": null
  },
  {
   "metadata": {},
   "cell_type": "code",
   "source": [
    "field_x = np.full((SETUP['nx']+1, SETUP['ny']), Cx, dtype=opt.dtype)\n",
    "field_y = np.full((SETUP['nx'], SETUP['ny']+1), Cy, dtype=opt.dtype)\n",
    "advector = VectorField(\n",
    "    data=(field_x, field_y),\n",
    "    halo=opt.n_halo,\n",
    "    boundary_conditions=(boundary_conditions[0], Periodic())\n",
    ")"
   ],
   "id": "29b7967a55a43ab0",
   "outputs": [],
   "execution_count": null
  },
  {
   "metadata": {},
   "cell_type": "code",
   "source": "stepper = Stepper(options=opt, n_dims=2)",
   "id": "7192b1745b260291",
   "outputs": [],
   "execution_count": null
  },
  {
   "metadata": {},
   "cell_type": "code",
   "source": [
    "# create a solver\n",
    "solver = Solver(stepper=stepper, advector=advector, advectee=advectee)"
   ],
   "id": "bb3da2d073197feb",
   "outputs": [],
   "execution_count": null
  },
  {
   "metadata": {},
   "cell_type": "code",
   "source": [
    "plt.imshow(solver.advectee.get().copy(), cmap='viridis')\n",
    "plt.colorbar()\n",
    "show_plot()"
   ],
   "id": "64b2ac9deddb8a93",
   "outputs": [],
   "execution_count": null
  },
  {
   "metadata": {},
   "cell_type": "code",
   "source": [
    "progbar = FloatProgress(value=0, min=0, max=1)\n",
    "display(progbar)\n",
    "\n",
    "# states_history = [solver.advectee.get().copy()]\n",
    "# n_steps = 10\n",
    "# nt = int(SETUP['tmax'] / SETUP['dt'])\n",
    "# n_range = int(SETUP['tmax'] / SETUP['dt']) // n_steps\n",
    "# for i in range(n_range):\n",
    "#     solver.advance(n_steps=n_steps, mu_coeff=(mu, mu))\n",
    "#     states_history.append(solver.advectee.get().copy())\n",
    "#     progbar.value = (i + 1.) / n_range\n",
    "    \n",
    "states_history = [solver.advectee.get().copy()]\n",
    "for i in range(10*nt):\n",
    "    solver.advance(n_steps=1, mu_coeff=(mu, mu))\n",
    "    states_history.append(solver.advectee.get().copy())\n",
    "    progbar.value = (i + 1.) / (10*nt)"
   ],
   "id": "b21dec5644c4b1e6",
   "outputs": [],
   "execution_count": null
  },
  {
   "metadata": {},
   "cell_type": "code",
   "source": [
    "plt.imshow(states_history[-1], cmap='viridis')  \n",
    "plt.colorbar()\n",
    "plt.show()\n",
    "# show_plot()\n",
    "\n",
    "solution_symbolic_final = sp.sympify(\"sin(pi*(x-cx*dx*nt + y-cy*dx*nt)) + 1\", rational=True)\n",
    "def final_conditions(x, y):\n",
    "    return solution_symbolic_final.subs({\"cx\": Cx, \"cy\": Cy, \"t\":SETUP['tmax'], \"dx\": dx, \"dy\": dy, \"nt\": nt, \"x\": x, \"y\": y}).evalf()\n",
    "\n",
    "z_final = np.array(\n",
    "    [\n",
    "        # [\n",
    "            final_conditions(x, y) for x in np.linspace(min_x, max_x, SETUP['nx'])\n",
    "        # ]\n",
    "        for y in np.linspace(min_y, max_y, SETUP['ny'])\n",
    "    ],\n",
    "    dtype=float\n",
    ").reshape((SETUP['nx'], SETUP['ny']))\n",
    "plt.imshow(z_final, cmap='viridis')\n",
    "plt.colorbar()\n",
    "plt.show()\n",
    "with h5py.File('C:/Users/Pawel/out/solution_000031.h5', 'r') as f:\n",
    "    # average every 16 points to reduce the number of points\n",
    "    temp = np.array([np.mean(x) for x in f['variables_1'][:].reshape(-1, 16)])\n",
    "    plt.imshow(temp[:].reshape(SETUP['ny'], SETUP['nx']).transpose())\n",
    "    plt.show()"
   ],
   "id": "5bbc393f3f090865",
   "outputs": [],
   "execution_count": null
  },
  {
   "metadata": {},
   "cell_type": "code",
   "source": [
    "trixi_result = temp[:].reshape(SETUP['ny'], SETUP['nx']).transpose()\n",
    "\n",
    "# Calculate rmse between Trixi and PyMPDATA output\n",
    "rmse = np.sqrt(np.mean((states_history[-1] - trixi_result) ** 2))\n",
    "print(f\"RMSE: {rmse:.4f}\")\n",
    "\n",
    "# Calculate min-max difference between Trixi and PyMPDATA output\n",
    "min_max_diff = np.max(np.abs(states_history[-1] - trixi_result))\n",
    "print(f\"Min-max difference: {min_max_diff:.4f}\")"
   ],
   "id": "656bc3b116066f79",
   "outputs": [],
   "execution_count": null
  },
  {
   "metadata": {},
   "cell_type": "code",
   "source": [
    "with h5py.File('out/solution_000000.h5', 'r') as f:\n",
    "    trixi_init = np.array([np.mean(x) for x in f['variables_1'][:].reshape(-1, 16)])\n",
    "    trixi_init = trixi_init[:].reshape(SETUP['ny'], SETUP['nx']).transpose()"
   ],
   "id": "5400a059e673a5df",
   "outputs": [],
   "execution_count": null
  },
  {
   "metadata": {},
   "cell_type": "code",
   "source": [
    "assert np.abs(np.sum(states_history[-1]) - np.sum(states_history[0])) < 1e-6\n",
    "assert np.abs(np.sum(trixi_result) - np.sum(trixi_init)) < 1e-6"
   ],
   "id": "b6558d5868f029ac",
   "outputs": [],
   "execution_count": null
  },
  {
   "metadata": {},
   "cell_type": "code",
   "source": [
    "solution_symbolic_final = sp.sympify(\"sin(pi*(x-cx*t + y-cy*t)) + 1\", rational=True)\n",
    "def final_conditions(x, y):\n",
    "    return solution_symbolic_final.subs({\"cx\": SETUP['Cx'], \"cy\": SETUP['Cy'], \"t\":SETUP['tmax'], \"x\": x, \"y\": y}).evalf()\n",
    "\n",
    "z_final = np.array(\n",
    "    [\n",
    "        # [\n",
    "            final_conditions(x, y) for x in np.linspace(min_x, max_x, SETUP['nx'])\n",
    "        # ]\n",
    "        for y in np.linspace(min_y, max_y, SETUP['ny'])\n",
    "    ],\n",
    "    dtype=float\n",
    ").reshape((SETUP['nx'], SETUP['ny']))\n",
    "\n",
    "plt.imshow(z_final, cmap='viridis')\n",
    "plt.colorbar()\n",
    "show_plot()"
   ],
   "id": "50a3f12b8ff7bd8f",
   "outputs": [],
   "execution_count": null
  },
  {
   "metadata": {},
   "cell_type": "code",
   "source": [
    "# Calculate rmse between analytical solution, Trixi and PyMPDATA output\n",
    "rmse = np.sqrt(np.mean((states_history[-1] - z_final) ** 2))\n",
    "print(f\"PyMPDATA - RMSE: {rmse:.4f}\")\n",
    "\n",
    "rmse = np.sqrt(np.mean((trixi_result - z_final) ** 2))\n",
    "print(f\"Trixi - RMSE: {rmse:.4f}\")"
   ],
   "id": "de44fc47a04f1c47",
   "outputs": [],
   "execution_count": null
  },
  {
   "metadata": {},
   "cell_type": "code",
   "source": [
    "# Calculate min-max difference between analytical solution, Trixi and PyMPDATA output\n",
    "min_max_diff = np.max(np.abs(states_history[-1] - z_final))\n",
    "print(f\"PyMPDATA - Min-max difference: {min_max_diff:.4f}\")\n",
    "\n",
    "min_max_diff = np.max(np.abs(trixi_result - z_final))\n",
    "print(f\"Trixi - Min-max difference: {min_max_diff:.4f}\")"
   ],
   "id": "bac7047b04c697e",
   "outputs": [],
   "execution_count": null
  },
  {
   "metadata": {},
   "cell_type": "code",
   "source": [
    "os.makedirs(\"animation\", exist_ok=True)\n",
    "for i, state in enumerate(states_history):\n",
    "    state = np.flipud(state)\n",
    "    plt.imshow(state, cmap='viridis')\n",
    "    plt.axis('off')\n",
    "    plt.tight_layout()\n",
    "    plt.colorbar()\n",
    "    plt.savefig(f\"animation2/frame_{i:03d}.png\")\n",
    "    plt.close()"
   ],
   "id": "a349bb6ffd3f9f2c",
   "outputs": [],
   "execution_count": null
  },
  {
   "metadata": {},
   "cell_type": "code",
   "source": [
    "def merge_images_into_gif(image_folder, gif_name, duration=0.1):\n",
    "    import imageio\n",
    "    with imageio.get_writer(gif_name, mode='I', duration=duration) as writer:\n",
    "        for filename in sorted(os.listdir(image_folder)):\n",
    "            image = imageio.imread(os.path.join(image_folder, filename))\n",
    "            writer.append_data(image)"
   ],
   "id": "8312d1f27365d5be",
   "outputs": [],
   "execution_count": null
  },
  {
   "metadata": {},
   "cell_type": "code",
   "source": "merge_images_into_gif(\"animation2\", \"advection_diffusion.gif\", duration=0.01)",
   "id": "808757fef90cc196",
   "outputs": [],
   "execution_count": null
  },
  {
   "metadata": {},
   "cell_type": "code",
   "source": " ",
   "id": "603dc3cc8e952df0",
   "outputs": [],
   "execution_count": null
  }
 ],
 "metadata": {
  "kernelspec": {
   "display_name": "Python 3 (ipykernel)",
   "language": "python",
   "name": "python3"
  },
  "language_info": {
   "codemirror_mode": {
    "name": "ipython",
    "version": 3
   },
   "file_extension": ".py",
   "mimetype": "text/x-python",
   "name": "python",
   "nbconvert_exporter": "python",
   "pygments_lexer": "ipython3",
   "version": "3.9.2"
  }
 },
 "nbformat": 4,
 "nbformat_minor": 5
}
