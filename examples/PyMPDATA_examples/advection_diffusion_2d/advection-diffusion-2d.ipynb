{
 "cells": [
  {
   "cell_type": "markdown",
   "id": "0f0ce965-3f51-41a7-82cd-5aa3892319f2",
   "metadata": {},
   "source": [
    "TOC:\n",
    "- run a basic constant-coefficient advection-diffusion simulation with Trixi.jl\n",
    "- run analogous simulation with PyMPDATA\n",
    "- compare output"
   ]
  },
  {
   "cell_type": "markdown",
   "id": "b8c794cf-a332-4291-86b5-7a72d36bd630",
   "metadata": {},
   "source": [
    "## Trixi.jl"
   ]
  },
  {
   "cell_type": "code",
   "execution_count": 1,
   "id": "e4ae33ef-e53b-45ef-9664-fb9d1cb7696f",
   "metadata": {},
   "outputs": [
    {
     "name": "stdout",
     "output_type": "stream",
     "text": [
      "Overwriting hello.jl\n"
     ]
    }
   ],
   "source": [
    "%%writefile hello.jl\n",
    "print(\"Hello from Julia!\")"
   ]
  },
  {
   "cell_type": "code",
   "execution_count": 2,
   "id": "ff0181b0-62a9-4343-bdc1-ab4b25598cd2",
   "metadata": {},
   "outputs": [
    {
     "name": "stdout",
     "output_type": "stream",
     "text": [
      "Hello from Julia!"
     ]
    }
   ],
   "source": [
    "!julia hello.jl"
   ]
  },
  {
   "cell_type": "markdown",
   "id": "75f6957f-ce10-4902-9d1f-f3485350218f",
   "metadata": {},
   "source": [
    "## PyMPTADA"
   ]
  },
  {
   "cell_type": "code",
   "execution_count": 3,
   "id": "initial_id",
   "metadata": {
    "ExecuteTime": {
     "end_time": "2024-05-27T20:39:18.482931Z",
     "start_time": "2024-05-27T20:39:17.180403Z"
    }
   },
   "outputs": [],
   "source": [
    "import os\n",
    "import numpy as np\n",
    "import sympy as sp\n",
    "from IPython.display import display\n",
    "from ipywidgets import FloatProgress\n",
    "import matplotlib.pyplot as plt\n",
    "from matplotlib.animation import FuncAnimation\n",
    "# from open_atmos_jupyter_utils import show_plot\n",
    "from PyMPDATA import Solver, ScalarField, VectorField, Stepper, Options\n",
    "from PyMPDATA.boundary_conditions import Periodic"
   ]
  },
  {
   "cell_type": "code",
   "execution_count": 4,
   "id": "d250dea0d2fa492f",
   "metadata": {
    "ExecuteTime": {
     "end_time": "2024-05-27T20:48:32.245757Z",
     "start_time": "2024-05-27T20:48:32.238675Z"
    }
   },
   "outputs": [],
   "source": [
    "steps_per_iter = 1\n",
    "opt = Options(n_iters=3, non_zero_mu_coeff=True, infinite_gauge=True, nonoscillatory=True)"
   ]
  },
  {
   "cell_type": "code",
   "execution_count": 5,
   "id": "6f97795f4265b959",
   "metadata": {
    "ExecuteTime": {
     "end_time": "2024-05-27T21:01:07.417026Z",
     "start_time": "2024-05-27T21:01:07.412070Z"
    }
   },
   "outputs": [],
   "source": [
    "nx = 64\n",
    "ny = 64\n",
    "x0 = -1.\n",
    "y0 = -1.\n",
    "boundary_conditions = (Periodic(), Periodic())"
   ]
  },
  {
   "cell_type": "code",
   "execution_count": 6,
   "id": "25b45beff0117518",
   "metadata": {
    "ExecuteTime": {
     "end_time": "2024-05-27T21:01:08.064946Z",
     "start_time": "2024-05-27T21:01:08.056155Z"
    }
   },
   "outputs": [],
   "source": [
    "mu = 0.05\n",
    "c = 1.\n",
    "min_x, min_y = -1, -1\n",
    "max_x, max_y = 1, 1\n",
    "dx = (max_x - min_x) / nx\n",
    "dy = (max_y - min_y) / ny\n",
    "solution_symbolic = sp.sympify(\"sin(pi*(x+y))*exp(-mu*pi**2*t) + 1\", rational=True)\n",
    "solution = solution_symbolic.subs({\"mu\": mu})"
   ]
  },
  {
   "cell_type": "code",
   "execution_count": 7,
   "id": "c159d1f052dc2b64",
   "metadata": {
    "ExecuteTime": {
     "end_time": "2024-05-27T21:01:08.822754Z",
     "start_time": "2024-05-27T21:01:08.808637Z"
    }
   },
   "outputs": [],
   "source": [
    "def init_conditions(x, y):\n",
    "    return solution_symbolic.subs({\"t\":0, \"x\": x, \"y\": y}).evalf()"
   ]
  },
  {
   "cell_type": "code",
   "execution_count": 8,
   "id": "b001ff332724502",
   "metadata": {
    "ExecuteTime": {
     "end_time": "2024-05-27T21:15:24.067248Z",
     "start_time": "2024-05-27T21:15:21.997328Z"
    }
   },
   "outputs": [],
   "source": [
    "z = np.array([[init_conditions(x, y) for x in np.linspace(min_x, max_x, nx)] for y in np.linspace(min_y, max_y, ny)], dtype=float).reshape((nx, ny))"
   ]
  },
  {
   "cell_type": "code",
   "execution_count": 9,
   "id": "8f1be20a839a5d59",
   "metadata": {
    "ExecuteTime": {
     "end_time": "2024-05-27T21:15:24.082616Z",
     "start_time": "2024-05-27T21:15:24.070238Z"
    }
   },
   "outputs": [],
   "source": [
    "advectee = ScalarField(data=z, halo=opt.n_halo, boundary_conditions=boundary_conditions)"
   ]
  },
  {
   "cell_type": "code",
   "execution_count": 10,
   "id": "70482d29c0d0c4ed",
   "metadata": {
    "ExecuteTime": {
     "end_time": "2024-05-27T21:15:24.114445Z",
     "start_time": "2024-05-27T21:15:24.084166Z"
    }
   },
   "outputs": [],
   "source": [
    "# create a vector field for the velocity, 1.5 in x direction and 1 in y direction\n",
    "field_x = np.full((nx+1, ny), 0.15, dtype=opt.dtype)\n",
    "field_y = np.full((nx, ny+1), 0.1, dtype=opt.dtype)\n",
    "advector = VectorField(\n",
    "    data=(field_x, field_y),\n",
    "    halo=opt.n_halo,\n",
    "    boundary_conditions=(boundary_conditions[0], Periodic())\n",
    ")"
   ]
  },
  {
   "cell_type": "code",
   "execution_count": 11,
   "id": "79a4fcc5da244dc2",
   "metadata": {
    "ExecuteTime": {
     "end_time": "2024-05-27T21:15:24.129245Z",
     "start_time": "2024-05-27T21:15:24.116462Z"
    }
   },
   "outputs": [],
   "source": [
    "stepper = Stepper(options=opt, n_dims=2)"
   ]
  },
  {
   "cell_type": "code",
   "execution_count": 12,
   "id": "ef6bf4fc8253d460",
   "metadata": {
    "ExecuteTime": {
     "end_time": "2024-05-27T21:15:24.283410Z",
     "start_time": "2024-05-27T21:15:24.263992Z"
    }
   },
   "outputs": [],
   "source": [
    "# create a solver\n",
    "solver = Solver(stepper=stepper, advector=advector, advectee=advectee)"
   ]
  },
  {
   "cell_type": "code",
   "execution_count": 13,
   "id": "488a82b9cfa32f85",
   "metadata": {
    "ExecuteTime": {
     "end_time": "2024-05-27T21:15:24.793277Z",
     "start_time": "2024-05-27T21:15:24.572896Z"
    }
   },
   "outputs": [
    {
     "data": {
      "text/plain": [
       "<matplotlib.colorbar.Colorbar at 0x76fe89c0c940>"
      ]
     },
     "execution_count": 13,
     "metadata": {},
     "output_type": "execute_result"
    },
    {
     "data": {
      "image/png": "[encoded data removed]",
      "text/plain": [
       "<Figure size 640x480 with 2 Axes>"
      ]
     },
     "metadata": {},
     "output_type": "display_data"
    }
   ],
   "source": [
    "plt.imshow(solver.advectee.get().copy(), cmap='viridis')\n",
    "plt.colorbar()"
   ]
  },
  {
   "cell_type": "code",
   "execution_count": null,
   "id": "10c8b608e7cb6131",
   "metadata": {
    "ExecuteTime": {
     "end_time": "2024-05-27T21:15:26.465751Z",
     "start_time": "2024-05-27T21:15:24.883305Z"
    }
   },
   "outputs": [
    {
     "data": {
      "application/vnd.jupyter.widget-view+json": {
       "model_id": "aac90a32240d4e219ab40946863c85f5",
       "version_major": 2,
       "version_minor": 0
      },
      "text/plain": [
       "FloatProgress(value=0.0, max=1.0)"
      ]
     },
     "metadata": {},
     "output_type": "display_data"
    }
   ],
   "source": [
    "progbar = FloatProgress(value=0, min=0, max=1)\n",
    "display(progbar)\n",
    "\n",
    "states_history = [solver.advectee.get().copy()]\n",
    "n_range = 100\n",
    "for i in range(n_range):\n",
    "    solver.advance(n_steps=10, mu_coeff=(mu, mu))\n",
    "    states_history.append(solver.advectee.get().copy())\n",
    "    progbar.value = (i + 1.) / n_range"
   ]
  },
  {
   "cell_type": "code",
   "execution_count": null,
   "id": "cc74f23aa445dae1",
   "metadata": {
    "ExecuteTime": {
     "end_time": "2024-05-27T21:15:40.368402Z",
     "start_time": "2024-05-27T21:15:26.467753Z"
    }
   },
   "outputs": [],
   "source": [
    "# save each frame as a png to animation2 folder\n",
    "os.makedirs(\"animation2\", exist_ok=True)\n",
    "for i, state in enumerate(states_history):\n",
    "    # flip the image vertically\n",
    "    state = np.flipud(state)\n",
    "    plt.imshow(state, cmap='viridis')\n",
    "    plt.colorbar()\n",
    "    plt.savefig(f\"animation2/frame_{i:03d}.png\")\n",
    "    plt.close()"
   ]
  },
  {
   "cell_type": "code",
   "execution_count": null,
   "id": "6bb1f2b386a12f37",
   "metadata": {
    "ExecuteTime": {
     "end_time": "2024-05-27T21:17:16.738015Z",
     "start_time": "2024-05-27T21:17:16.721706Z"
    }
   },
   "outputs": [],
   "source": [
    "def get_advection_diffusion_gif(states):\n",
    "    fig, ax = plt.subplots()\n",
    "    ax.set_xlim(0, nx)\n",
    "    ax.set_ylim(0, ny)\n",
    "    ax.set_xlabel(\"x\")\n",
    "    ax.set_ylabel(\"y\")\n",
    "    ax.set_title(\"Advection-Diffusion Equation\")\n",
    "    im = ax.imshow(states[0], cmap='viridis')\n",
    "    def update(i):\n",
    "        im.set_array(states[i])\n",
    "        return im\n",
    "    anim = FuncAnimation(fig, update, frames=len(states), blit=True)\n",
    "    \n",
    "    anim.save(\"advection_diffusion.gif\", writer='imagemagick', fps=10)"
   ]
  },
  {
   "cell_type": "code",
   "execution_count": null,
   "id": "ccab8faafade1978",
   "metadata": {
    "ExecuteTime": {
     "end_time": "2024-05-27T21:18:42.725013Z",
     "start_time": "2024-05-27T21:17:18.464189Z"
    }
   },
   "outputs": [],
   "source": [
    "get_advection_diffusion_gif(states_history)"
   ]
  },
  {
   "cell_type": "code",
   "execution_count": null,
   "id": "89f1aba4e7df8dc3",
   "metadata": {},
   "outputs": [],
   "source": []
  }
 ],
 "metadata": {
  "kernelspec": {
   "display_name": "Python 3 (ipykernel)",
   "language": "python",
   "name": "python3"
  },
  "language_info": {
   "codemirror_mode": {
    "name": "ipython",
    "version": 3
   },
   "file_extension": ".py",
   "mimetype": "text/x-python",
   "name": "python",
   "nbconvert_exporter": "python",
   "pygments_lexer": "ipython3",
   "version": "3.9.2"
  }
 },
 "nbformat": 4,
 "nbformat_minor": 5
}
