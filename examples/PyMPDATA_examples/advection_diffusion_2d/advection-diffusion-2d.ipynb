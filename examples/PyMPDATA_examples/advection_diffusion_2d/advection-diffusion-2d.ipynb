{
 "cells": [
  {
   "cell_type": "markdown",
   "id": "e333839d",
   "metadata": {},
   "source": [
    "[![Binder](https://mybinder.org/badge_logo.svg)](https://mybinder.org/v2/gh/open-atmos/PyMPDATA.git/main?urlpath=lab/tree/examples/PyMPDATA_examples/advection_diffusion_2d/advection-diffusion-2d.ipynb)\n",
    "[![Open In Colab](https://colab.research.google.com/assets/colab-badge.svg)](https://colab.research.google.com/github/open-atmos/examples/blob/main/examples/PyMPDATA_examples/advection_diffusion_2d/advection-diffusion-2d.ipynb)"
   ]
  },
  {
   "cell_type": "code",
   "id": "43d2893d-f472-43ac-ad5b-bf342a3783b9",
   "metadata": {
    "ExecuteTime": {
     "end_time": "2024-09-06T09:33:26.426280Z",
     "start_time": "2024-09-06T09:33:25.835433Z"
    }
   },
   "source": [
    "from open_atmos_jupyter_utils import show_plot"
   ],
   "outputs": [],
   "execution_count": 1
  },
  {
   "metadata": {
    "ExecuteTime": {
     "end_time": "2024-09-06T09:33:26.710248Z",
     "start_time": "2024-09-06T09:33:26.426280Z"
    }
   },
   "cell_type": "code",
   "source": [
    "import os\n",
    "import numpy as np\n",
    "import imageio\n",
    "from IPython.display import display\n",
    "from ipywidgets import FloatProgress\n",
    "import matplotlib.pyplot as plt\n",
    "from PyMPDATA import Solver, ScalarField, VectorField, Stepper, Options\n",
    "from PyMPDATA.boundary_conditions import Periodic"
   ],
   "id": "9aaadc4a5234804a",
   "outputs": [],
   "execution_count": 2
  },
  {
   "metadata": {
    "ExecuteTime": {
     "end_time": "2024-09-06T09:33:26.714536Z",
     "start_time": "2024-09-06T09:33:26.710248Z"
    }
   },
   "cell_type": "code",
   "source": [
    "mu = 0.0005 # diffusion coefficient\n",
    "dt = 0.025\n",
    "tmax = 5.0\n",
    "nt = int(tmax / dt)\n",
    "\n",
    "nx = 32\n",
    "ny = 32\n",
    "ux  = 0.25\n",
    "uy = 0.25\n",
    "\n",
    "omega = np.pi\n",
    "\n",
    "min_x, min_y = -1, -1\n",
    "max_x, max_y = 1, 1\n",
    "dx = (max_x - min_x) / nx\n",
    "dy = (max_y - min_y) / ny\n",
    "Cx = ux * dt / dx\n",
    "Cy = uy * dt / dy"
   ],
   "id": "a563a769a256feba",
   "outputs": [],
   "execution_count": 3
  },
  {
   "metadata": {
    "ExecuteTime": {
     "end_time": "2024-09-06T09:33:27.142393Z",
     "start_time": "2024-09-06T09:33:27.139022Z"
    }
   },
   "cell_type": "code",
   "source": [
    "opt = Options(n_iters=3, non_zero_mu_coeff=True)\n",
    "boundary_conditions = (Periodic(), Periodic())"
   ],
   "id": "9a0f60b51e32ce3e",
   "outputs": [],
   "execution_count": 4
  },
  {
   "metadata": {
    "ExecuteTime": {
     "end_time": "2024-09-06T09:33:27.463192Z",
     "start_time": "2024-09-06T09:33:27.459668Z"
    }
   },
   "cell_type": "code",
   "source": [
    "def analytic_solution(x, y, t):\n",
    "    return np.sin(omega*(x-ux*t+y-uy*t))*np.exp(-2*mu*t*omega**2) + 1"
   ],
   "id": "cab790be5c425ea5",
   "outputs": [],
   "execution_count": 5
  },
  {
   "metadata": {
    "ExecuteTime": {
     "end_time": "2024-09-06T09:33:27.696725Z",
     "start_time": "2024-09-06T09:33:27.687964Z"
    }
   },
   "cell_type": "code",
   "source": [
    "def z(t):\n",
    "    return np.array(\n",
    "    [\n",
    "        analytic_solution(x, y, t=t) for x in np.linspace(min_x, max_x, nx)\n",
    "        for y in np.linspace(min_y, max_y, ny)\n",
    "    ],\n",
    "    dtype=float\n",
    ").reshape((nx, ny))\n",
    "\n",
    "advectee = ScalarField(data=z(t=0), halo=opt.n_halo, boundary_conditions=boundary_conditions)"
   ],
   "id": "b454a74473b8f900",
   "outputs": [],
   "execution_count": 6
  },
  {
   "metadata": {
    "ExecuteTime": {
     "end_time": "2024-09-06T09:33:28.441977Z",
     "start_time": "2024-09-06T09:33:28.437960Z"
    }
   },
   "cell_type": "code",
   "source": [
    "field_x = np.full((nx+1, ny), Cx, dtype=opt.dtype)\n",
    "field_y = np.full((nx, ny+1), Cy, dtype=opt.dtype)\n",
    "\n",
    "advector = VectorField(\n",
    "    data=(field_x, field_y),\n",
    "    halo=opt.n_halo,\n",
    "    boundary_conditions=(boundary_conditions[0], Periodic())\n",
    ")"
   ],
   "id": "fb28f958a4920cd",
   "outputs": [],
   "execution_count": 7
  },
  {
   "metadata": {
    "ExecuteTime": {
     "end_time": "2024-09-06T09:33:29.248347Z",
     "start_time": "2024-09-06T09:33:28.925906Z"
    }
   },
   "cell_type": "code",
   "source": [
    "stepper = Stepper(options=opt, n_dims=2)\n",
    "solver = Solver(stepper=stepper, advector=advector, advectee=advectee)"
   ],
   "id": "45c8ea60d8490cd4",
   "outputs": [],
   "execution_count": 8
  },
  {
   "metadata": {
    "ExecuteTime": {
     "end_time": "2024-09-06T09:33:29.252473Z",
     "start_time": "2024-09-06T09:33:29.249364Z"
    }
   },
   "cell_type": "code",
   "source": [
    "vmin = np.min(solver.advectee.get())\n",
    "vmax = np.max(solver.advectee.get())"
   ],
   "id": "bd4722c47297508c",
   "outputs": [],
   "execution_count": 9
  },
  {
   "metadata": {
    "ExecuteTime": {
     "end_time": "2024-09-06T09:33:30.257084Z",
     "start_time": "2024-09-06T09:33:29.523763Z"
    }
   },
   "cell_type": "code",
   "source": [
    "plt.imshow(solver.advectee.get().copy(), cmap='viridis', vmin=vmin, vmax=vmax)\n",
    "plt.colorbar()\n",
    "plt.xlabel('x')\n",
    "plt.ylabel('y')\n",
    "plt.title('Initial condition')\n",
    "show_plot()"
   ],
   "id": "d7a5cd43651621e6",
   "outputs": [
    {
     "data": {
      "text/plain": [
       "<Figure size 640x480 with 2 Axes>"
      ],
      "image/svg+xml": "<?xml version=\"1.0\" encoding=\"utf-8\" standalone=\"no\"?>\n<!DOCTYPE svg PUBLIC \"-//W3C//DTD SVG 1.1//EN\"\n  \"http://www.w3.org/Graphics/SVG/1.1/DTD/svg11.dtd\">\n<svg xmlns:xlink=\"http://www.w3.org/1999/xlink\" width=\"374.34235pt\" height=\"325.986375pt\" viewBox=\"0 0 374.34235 325.986375\" xmlns=\"http://www.w3.org/2000/svg\" version=\"1.1\">\n <metadata>\n  <rdf:RDF xmlns:dc=\"http://purl.org/dc/elements/1.1/\" xmlns:cc=\"http://creativecommons.org/ns#\" xmlns:rdf=\"http://www.w3.org/1999/02/22-rdf-syntax-ns#\">\n   <cc:Work>\n    <dc:type rdf:resource=\"http://purl.org/dc/dcmitype/StillImage\"/>\n    <dc:date>2024-09-06T11:33:30.205644</dc:date>\n    <dc:format>image/svg+xml</dc:format>\n    <dc:creator>\n     <cc:Agent>\n      <dc:title>Matplotlib v3.9.0, https://matplotlib.org/</dc:title>\n     </cc:Agent>\n    </dc:creator>\n   </cc:Work>\n  </rdf:RDF>\n </metadata>\n <defs>\n  <style type=\"text/css\">*{stroke-linejoin: round; stroke-linecap: butt}</style>\n </defs>\n <g id=\"figure_1\">\n  <g id=\"patch_1\">\n   <path d=\"M 0 325.986375 \nL 374.34235 325.986375 \nL 374.34235 0 \nL 0 0 \nz\n\" style=\"fill: #ffffff\"/>\n  </g>\n  <g id=\"axes_1\">\n   <g id=\"patch_2\">\n    <path d=\"M 40.603125 288.430125 \nL 306.715125 288.430125 \nL 306.715125 22.318125 \nL 40.603125 22.318125 \nz\n\" style=\"fill: #ffffff\"/>\n   </g>\n   <g clip-path=\"url(#p52912b31ad)\">\n    <image xlink:href=\"data:image/png;base64,\niVBORw0KGgoAAAANSUhEUgAAAXIAAAFyCAYAAADoJFEJAAAOxElEQVR4nO3cwc9m5wAF8DPTqzVKaYiZimg3NiyIv1PiPxMWbGxohI6QUmpU2xkLFpJ2cY/kxj2Z32993zfP973fd95nc86Dd37y4xcpPHzyj9PPvvP4T81b54dv/vb8s6+/W73391/93eln3z4+rd77jYdfPP3sKw8eVu/90YuPq+effvrR6Wd/9fFXq/f++bO3Tz/70w++U733L//4+PSz77/3RvXerz49que/9PsHp5/98nvd38qj987//xx/+KB67/zpz6cfff7Xv1Zv/eKTT84//OD87y9JHj561D3/5tdOP/v8G93f+EePXz/97IdPvlC994dvnf+9PHv8vHrvLlUAuB1BDjBOkAOME+QA4wQ5wDhBDjBOkAOME+QA4wQ5wDhBDjBOkAOMOx497bL8Wc7vivw6X2/PcxPnd1mS5O3j/H5Gs8uSJK896PYcHr/SPP2X6r2T35TPX+OX5fPvp9tmSZptluoXnhT/P90CSXfq9gbXbLNUuyxJnj97Vp7mvPbnfK16+vwuy781/8vdyd3IAcYJcoBxghxgnCAHGCfIAcYJcoBxghxgnCAHGCfIAcYJcoBxx+u/f1G+5Hz2N3X+5OWo9Dd1/uTaSn9X50+6Sv896vzJ1ZX+phifdJX+7rNvKv3tqZsbX1PnT3Yr/V2dP+kq/d00hxs5wDhBDjBOkAOME+QA4wQ5wDhBDjBOkAOME+QA4wQ5wDhBDjBOkAOMO15/7+PyJc0GQPc90WyzvAy7LMm12yzNLkvSbrM0uyzJ6jZLt8uSdCsn7RjO+c++2WVJulO3t8Mrt1nussuStNsszS6LGznAPEEOME6QA4wT5ADjBDnAOEEOME6QA4wT5ADjBDnAOEEOMO547emH5Uua6mhXAW++V5o6f6LS/3maOn/SVfq7On/SVfo36/xJW+lvivFJV+nvPvum0t+e+spKf1PnT+5T6e/q/G7kAPMEOcA4QQ4wTpADjBPkAOMEOcA4QQ4wTpADjBPkAOMEOcA4QQ4w7nj4x2bjot0AaHZZkm6bpfsOarZZdndZkmabpdllSbptlmaXJWm3Wbq/2dVtlm6XJelWTtoxnPOffbPLkly7zdLssiTdNstddln+l+cBuBlBDjBOkAOME+QA4wQ5wDhBDjBOkAOME+QA4wQ5wDhBDjDueP7+n6sXNMnf1fmTrtLfVcCbkzd1/mS50n++zp90lf6mzp90lf6uzp+sVvqbOn/SVvrbYnzzS+8++ysr/e1Ntan0N3X+5F6VfgBuRpADjBPkAOMEOcA4QQ4wTpADjBPkAOMEOcA4QQ4wTpADjBPkAOOOO/X/u22WZpcl6bZZupM32yy7uyxJs83S7LIk3TZLs8uSXL3Nco9dlqTbZul2WZJu4aT9hV+3zdIuyjT/+c0uS9Jts7S57EYOME6QA4wT5ADjBDnAOEEOME6QA4wT5ADjBDnAOEEOME6QA4wT5ADjjrx4Ub3gLtss3S5L0m2zdFsezcmbXZZkeZvl/C5L0m2zNLssydXbLM0uS3KXbZZmlyVpt1nahZPrtlmaXZakO3l7C262WZpdlv/lLADcjCAHGCfIAcYJcoBxghxgnCAHGCfIAcYJcoBxghxgnCAHGHc8OLo6bVMdvUudP2kr/U2dP+kq/d3JVfo/q6nzJ9dW+rs6f9JV+u9R50+6Sn9X50+urfR3n31T6W9P3fznN3X+9r0BuCFBDjBOkAOME+QA4wQ5wDhBDjBOkAOME+QA4wQ5wDhBDjBOkAOMOx5+5SvVC5oNgGaXJbnPNku3y5J02yzNLkty5TbLy7DLkly7zdLssiTtNkuzy5LcZZul2WVJrt5macdwzn/2zS5L0p26vWG7kQOME+QA4wQ5wDhBDjBOkAOME+QA4wQ5wDhBDjBOkAOME+QA4458/WvVC5rkb+r8SVfpv0udP2kr/U2dP7my0t/U+ROV/s/T1PmTrtLf1fmTrtJ/jzp/cnWlvynGJ12lv/vsm0p/e2o3coBxghxgnCAHGCfIAcYJcoBxghxgnCAHGCfIAcYJcoBxghxgnCAHGHd88s1mt6DbAGi/JZptlmaXJbnPNku3y5Jcu83SfULNNsvuLkvSbLM0uyxJt83S7LIk7TZLs8uSrG6zdLssSZdw7RjO+c++2WVJ3MgB5glygHGCHGCcIAcYJ8gBxglygHGCHGCcIAcYJ8gBxglygHHHsyfna6NJVx1tyq5J963S1PmTrtJ/lzp/cnWlv6uAN6dv6vzJcqX/fJ0/6Sr9TZ0/6Sr9XZ0/6Sr9m3X+pK30twnX/NK7z96NHGCcIAcYJ8gBxglygHGCHGCcIAcYJ8gBxglygHGCHGCcIAcYJ8gBxh1/e9KOLpzfAGh2WZJuuaD9Bmq2WZpdlmR5m6XZZUm6bZbu5M02y+4uS9JsszS7LEm3zdLssiTtNkuzy5KsbrN0uyxJl3BdLruRA4wT5ADjBDnAOEEOME6QA4wT5ADjBDnAOEEOME6QA4wT5ADjjr+/9aJ8SVMdPV8ZTrpKf1N2TbpvrKbOn3SV/ivr/En3c3Z1/qSr9HcV8ObkTZ0/Wa70n6/zJ12lv6nzJ12lv6vzJ6uV/qbOn7SV/i7h3MgBxglygHGCHGCcIAcYJ8gBxglygHGCHGCcIAcYJ8gBxglygHGCHGDc8c/H53dC/vOS4tl2dOH8/kOzy5J0p26/3ZptlmaXJbl2m6X9ObttlmaXJem2WbqT22b5rGaXJem2WZpdluTqbZZ77LIk3TZLt8viRg4wT5ADjBPkAOMEOcA4QQ4wTpADjBPkAOMEOcA4QQ4wTpADjBPkAOOON598UL2g2wBoFk6Sbpul289otlnaUzffhs0uS7K7zdLtsiTdNku35XHlNsvLsMuSdNsszS5LcvU2S7PLktxlm6XZZUncyAHmCXKAcYIcYJwgBxgnyAHGCXKAcYIcYJwgBxgnyAHGCXKAccf3vvG0ekFTHe3q/ElXjq96umkq/U2dP+lO3X5zXlnpv0udP2kr/U2dP7my0t/U+ZOXo9Lf1PmTayv9XZ0/6Sr996jzJ27kAPMEOcA4QQ4wTpADjBPkAOMEOcA4QQ4wTpADjBPkAOMEOcA4QQ4w7vjRG+9e9ubNLkvSbrM0CydJt83SbT802yztqa/cZml2WZL7bLN0uyzJtdss3SfUbLO8DLssybXbLM0uS9JuszS7LMmV2yxu5ADjBDnAOEEOME6QA4wT5ADjBDnAOEEOME6QA4wT5ADjBDnAuOMHj66rjbaaSn9X50+6cnzV001T6W/q/Mm1lf6mzp90lf671PmTqyv9XQW8OX1T509U+j9PU+dPukp/V+dPukp/l8tu5ADjBDnAOEEOME6QA4wT5ADjBDnAOEEOME6QA4wT5ADjBDnAOEEOMO747hea/n/SbgBcpdllSdptlnbhpBld6LYfrtxmab/Fm22WZpclWd5maXZZkm6bpTt5s82yu8uSNNsszS5L0m2zNLssSbvN0uWyGznAOEEOME6QA4wT5ADjBDnAOEEOME6QA4wT5ADjBDnAOEEOMO54/EpXSO6qo/eo8yddpb+r8yddMb7q6ebKSn87RNB86zd1/qSr9F9Z50+6n7P97+kq/V0FvDl5U+dPliv95+v8SVfpb+r8SVfp7+r8buQA8wQ5wDhBDjBOkAOME+QA4wQ5wDhBDjBOkAOME+QA4wQ5wDhBDjDuaPr/SbsB0OyyJHfZZml2WZJ2m6VdOLlum6XZZUm6k7c3hGabpdllSa7dZml/zm6bpdllSbptlu7kzTbL7i5L0myzNLssSbfN0uayGznAOEEOME6QA4wT5ADjBDnAOEEOME6QA4wT5ADjBDnAOEEOME6QA4w7Pn3xvHpBswHQ7bIk3TbLPXZZkm6bpdtlSa7dZjm//ZB02yztqZsbRbPLkuxus3S7LEm3zdJteTQnb3ZZkuVtlvO7LEm3zdLssiRu5ADzBDnAOEEOME6QA4wT5ADjBDnAOEEOME6QA4wT5ADjBDnAuOOD5+dro0lXHW3q/Elb6W/q/MldKv1NnT+5utLfbiic/+ybOn/Snbq9fVxZ6b9LnT9pK/1NnT/pKv3dyVX6P6up8ydu5ADzBDnAOEEOME6QA4wT5ADjBDnAOEEOME6QA4wT5ADjBDnAOEEOMO74zSfd3kazAdDssiTdNku3y5J02yz32GVJrt5maRZOkm6bpfvsm22W9tRXbrM0uyzJfbZZul2WpNtm6TaWrtxmeRl2WRI3coB5ghxgnCAHGCfIAcYJcoBxghxgnCAHGCfIAcYJcoBxghxg3PGLf36rfMn56mhT50+6Sn9T50/aSn9T509WK/1dnT/pyvHthsL5z76p8yfXVvqbOn/SVfrvUudP2kp/U+dPrqz0N3X+ZLfS70YOME6QA4wT5ADjBDnAOEEOME6QA4wT5ADjBDnAOEEOME6QA4wT5ADjjp99+J0L3/78LkvSbbM0uyxJt83S7bIk3TbL5i5L0m6ztAsnzS+9++yv3GZpb0LNNkuzy5LcZ5ul22VJrt1m6T6hZpvlTrssbuQA4wQ5wDhBDjBOkAOME+QA4wQ5wDhBDjBOkAOME+QA4wQ5wLjjZ+9/+/99hv9yvtLf1PmTrtLf1PmTttLf1PmT1Up/V+dPumJ8u6FwXaW/HSJobk5NnT/pKv13qfMnV1f6u//l5vRNnT+5ttLvRg4wTpADjBPkAOMEOcA4QQ4wTpADjBPkAOMEOcA4QQ4wTpADjBPkAOOOXz+9rv9/rfO7LEm3zdLssiTdNku3y5KsbrM0uyxJu83SLpxct83S7LIk3cnbW1azzdLssiTL2yzNLkvSbbN0J2+2WdpdFjdygHGCHGCcIAcYJ8gBxglygHGCHGCcIAcYJ8gBxglygHGCHGDc8fxpV0dvq6P3cb7S39T5k67S39T5k6sr/feo8yddpb+r8yfXVvq7/5+m0t+eurmVNXX+pKv0X1nnT7qfs6vzJ12lv/tfbk7e1Pm7dwbglgQ5wDhBDjBOkAOME+QA4wQ5wDhBDjBOkAOME+QA4wQ5wDhBDjDuX2W/aoTOEWYpAAAAAElFTkSuQmCC\" id=\"image0176624b32\" transform=\"scale(1 -1) translate(0 -266.4)\" x=\"40.603125\" y=\"-22.030125\" width=\"266.4\" height=\"266.4\"/>\n   </g>\n   <g id=\"matplotlib.axis_1\">\n    <g id=\"xtick_1\">\n     <g id=\"line2d_1\">\n      <defs>\n       <path id=\"m5d6b378bbd\" d=\"M 0 0 \nL 0 3.5 \n\" style=\"stroke: #000000; stroke-width: 0.8\"/>\n      </defs>\n      <g>\n       <use xlink:href=\"#m5d6b378bbd\" x=\"44.761125\" y=\"288.430125\" style=\"stroke: #000000; stroke-width: 0.8\"/>\n      </g>\n     </g>\n     <g id=\"text_1\">\n      <!-- 0 -->\n      <g transform=\"translate(41.579875 303.028562) scale(0.1 -0.1)\">\n       <defs>\n        <path id=\"DejaVuSans-30\" d=\"M 2034 4250 \nQ 1547 4250 1301 3770 \nQ 1056 3291 1056 2328 \nQ 1056 1369 1301 889 \nQ 1547 409 2034 409 \nQ 2525 409 2770 889 \nQ 3016 1369 3016 2328 \nQ 3016 3291 2770 3770 \nQ 2525 4250 2034 4250 \nz\nM 2034 4750 \nQ 2819 4750 3233 4129 \nQ 3647 3509 3647 2328 \nQ 3647 1150 3233 529 \nQ 2819 -91 2034 -91 \nQ 1250 -91 836 529 \nQ 422 1150 422 2328 \nQ 422 3509 836 4129 \nQ 1250 4750 2034 4750 \nz\n\" transform=\"scale(0.015625)\"/>\n       </defs>\n       <use xlink:href=\"#DejaVuSans-30\"/>\n      </g>\n     </g>\n    </g>\n    <g id=\"xtick_2\">\n     <g id=\"line2d_2\">\n      <g>\n       <use xlink:href=\"#m5d6b378bbd\" x=\"86.341125\" y=\"288.430125\" style=\"stroke: #000000; stroke-width: 0.8\"/>\n      </g>\n     </g>\n     <g id=\"text_2\">\n      <!-- 5 -->\n      <g transform=\"translate(83.159875 303.028562) scale(0.1 -0.1)\">\n       <defs>\n        <path id=\"DejaVuSans-35\" d=\"M 691 4666 \nL 3169 4666 \nL 3169 4134 \nL 1269 4134 \nL 1269 2991 \nQ 1406 3038 1543 3061 \nQ 1681 3084 1819 3084 \nQ 2600 3084 3056 2656 \nQ 3513 2228 3513 1497 \nQ 3513 744 3044 326 \nQ 2575 -91 1722 -91 \nQ 1428 -91 1123 -41 \nQ 819 9 494 109 \nL 494 744 \nQ 775 591 1075 516 \nQ 1375 441 1709 441 \nQ 2250 441 2565 725 \nQ 2881 1009 2881 1497 \nQ 2881 1984 2565 2268 \nQ 2250 2553 1709 2553 \nQ 1456 2553 1204 2497 \nQ 953 2441 691 2322 \nL 691 4666 \nz\n\" transform=\"scale(0.015625)\"/>\n       </defs>\n       <use xlink:href=\"#DejaVuSans-35\"/>\n      </g>\n     </g>\n    </g>\n    <g id=\"xtick_3\">\n     <g id=\"line2d_3\">\n      <g>\n       <use xlink:href=\"#m5d6b378bbd\" x=\"127.921125\" y=\"288.430125\" style=\"stroke: #000000; stroke-width: 0.8\"/>\n      </g>\n     </g>\n     <g id=\"text_3\">\n      <!-- 10 -->\n      <g transform=\"translate(121.558625 303.028562) scale(0.1 -0.1)\">\n       <defs>\n        <path id=\"DejaVuSans-31\" d=\"M 794 531 \nL 1825 531 \nL 1825 4091 \nL 703 3866 \nL 703 4441 \nL 1819 4666 \nL 2450 4666 \nL 2450 531 \nL 3481 531 \nL 3481 0 \nL 794 0 \nL 794 531 \nz\n\" transform=\"scale(0.015625)\"/>\n       </defs>\n       <use xlink:href=\"#DejaVuSans-31\"/>\n       <use xlink:href=\"#DejaVuSans-30\" x=\"63.623047\"/>\n      </g>\n     </g>\n    </g>\n    <g id=\"xtick_4\">\n     <g id=\"line2d_4\">\n      <g>\n       <use xlink:href=\"#m5d6b378bbd\" x=\"169.501125\" y=\"288.430125\" style=\"stroke: #000000; stroke-width: 0.8\"/>\n      </g>\n     </g>\n     <g id=\"text_4\">\n      <!-- 15 -->\n      <g transform=\"translate(163.138625 303.028562) scale(0.1 -0.1)\">\n       <use xlink:href=\"#DejaVuSans-31\"/>\n       <use xlink:href=\"#DejaVuSans-35\" x=\"63.623047\"/>\n      </g>\n     </g>\n    </g>\n    <g id=\"xtick_5\">\n     <g id=\"line2d_5\">\n      <g>\n       <use xlink:href=\"#m5d6b378bbd\" x=\"211.081125\" y=\"288.430125\" style=\"stroke: #000000; stroke-width: 0.8\"/>\n      </g>\n     </g>\n     <g id=\"text_5\">\n      <!-- 20 -->\n      <g transform=\"translate(204.718625 303.028562) scale(0.1 -0.1)\">\n       <defs>\n        <path id=\"DejaVuSans-32\" d=\"M 1228 531 \nL 3431 531 \nL 3431 0 \nL 469 0 \nL 469 531 \nQ 828 903 1448 1529 \nQ 2069 2156 2228 2338 \nQ 2531 2678 2651 2914 \nQ 2772 3150 2772 3378 \nQ 2772 3750 2511 3984 \nQ 2250 4219 1831 4219 \nQ 1534 4219 1204 4116 \nQ 875 4013 500 3803 \nL 500 4441 \nQ 881 4594 1212 4672 \nQ 1544 4750 1819 4750 \nQ 2544 4750 2975 4387 \nQ 3406 4025 3406 3419 \nQ 3406 3131 3298 2873 \nQ 3191 2616 2906 2266 \nQ 2828 2175 2409 1742 \nQ 1991 1309 1228 531 \nz\n\" transform=\"scale(0.015625)\"/>\n       </defs>\n       <use xlink:href=\"#DejaVuSans-32\"/>\n       <use xlink:href=\"#DejaVuSans-30\" x=\"63.623047\"/>\n      </g>\n     </g>\n    </g>\n    <g id=\"xtick_6\">\n     <g id=\"line2d_6\">\n      <g>\n       <use xlink:href=\"#m5d6b378bbd\" x=\"252.661125\" y=\"288.430125\" style=\"stroke: #000000; stroke-width: 0.8\"/>\n      </g>\n     </g>\n     <g id=\"text_6\">\n      <!-- 25 -->\n      <g transform=\"translate(246.298625 303.028562) scale(0.1 -0.1)\">\n       <use xlink:href=\"#DejaVuSans-32\"/>\n       <use xlink:href=\"#DejaVuSans-35\" x=\"63.623047\"/>\n      </g>\n     </g>\n    </g>\n    <g id=\"xtick_7\">\n     <g id=\"line2d_7\">\n      <g>\n       <use xlink:href=\"#m5d6b378bbd\" x=\"294.241125\" y=\"288.430125\" style=\"stroke: #000000; stroke-width: 0.8\"/>\n      </g>\n     </g>\n     <g id=\"text_7\">\n      <!-- 30 -->\n      <g transform=\"translate(287.878625 303.028562) scale(0.1 -0.1)\">\n       <defs>\n        <path id=\"DejaVuSans-33\" d=\"M 2597 2516 \nQ 3050 2419 3304 2112 \nQ 3559 1806 3559 1356 \nQ 3559 666 3084 287 \nQ 2609 -91 1734 -91 \nQ 1441 -91 1130 -33 \nQ 819 25 488 141 \nL 488 750 \nQ 750 597 1062 519 \nQ 1375 441 1716 441 \nQ 2309 441 2620 675 \nQ 2931 909 2931 1356 \nQ 2931 1769 2642 2001 \nQ 2353 2234 1838 2234 \nL 1294 2234 \nL 1294 2753 \nL 1863 2753 \nQ 2328 2753 2575 2939 \nQ 2822 3125 2822 3475 \nQ 2822 3834 2567 4026 \nQ 2313 4219 1838 4219 \nQ 1578 4219 1281 4162 \nQ 984 4106 628 3988 \nL 628 4550 \nQ 988 4650 1302 4700 \nQ 1616 4750 1894 4750 \nQ 2613 4750 3031 4423 \nQ 3450 4097 3450 3541 \nQ 3450 3153 3228 2886 \nQ 3006 2619 2597 2516 \nz\n\" transform=\"scale(0.015625)\"/>\n       </defs>\n       <use xlink:href=\"#DejaVuSans-33\"/>\n       <use xlink:href=\"#DejaVuSans-30\" x=\"63.623047\"/>\n      </g>\n     </g>\n    </g>\n    <g id=\"text_8\">\n     <!-- x -->\n     <g transform=\"translate(170.69975 316.706687) scale(0.1 -0.1)\">\n      <defs>\n       <path id=\"DejaVuSans-78\" d=\"M 3513 3500 \nL 2247 1797 \nL 3578 0 \nL 2900 0 \nL 1881 1375 \nL 863 0 \nL 184 0 \nL 1544 1831 \nL 300 3500 \nL 978 3500 \nL 1906 2253 \nL 2834 3500 \nL 3513 3500 \nz\n\" transform=\"scale(0.015625)\"/>\n      </defs>\n      <use xlink:href=\"#DejaVuSans-78\"/>\n     </g>\n    </g>\n   </g>\n   <g id=\"matplotlib.axis_2\">\n    <g id=\"ytick_1\">\n     <g id=\"line2d_8\">\n      <defs>\n       <path id=\"mf219ff7036\" d=\"M 0 0 \nL -3.5 0 \n\" style=\"stroke: #000000; stroke-width: 0.8\"/>\n      </defs>\n      <g>\n       <use xlink:href=\"#mf219ff7036\" x=\"40.603125\" y=\"26.476125\" style=\"stroke: #000000; stroke-width: 0.8\"/>\n      </g>\n     </g>\n     <g id=\"text_9\">\n      <!-- 0 -->\n      <g transform=\"translate(27.240625 30.275344) scale(0.1 -0.1)\">\n       <use xlink:href=\"#DejaVuSans-30\"/>\n      </g>\n     </g>\n    </g>\n    <g id=\"ytick_2\">\n     <g id=\"line2d_9\">\n      <g>\n       <use xlink:href=\"#mf219ff7036\" x=\"40.603125\" y=\"68.056125\" style=\"stroke: #000000; stroke-width: 0.8\"/>\n      </g>\n     </g>\n     <g id=\"text_10\">\n      <!-- 5 -->\n      <g transform=\"translate(27.240625 71.855344) scale(0.1 -0.1)\">\n       <use xlink:href=\"#DejaVuSans-35\"/>\n      </g>\n     </g>\n    </g>\n    <g id=\"ytick_3\">\n     <g id=\"line2d_10\">\n      <g>\n       <use xlink:href=\"#mf219ff7036\" x=\"40.603125\" y=\"109.636125\" style=\"stroke: #000000; stroke-width: 0.8\"/>\n      </g>\n     </g>\n     <g id=\"text_11\">\n      <!-- 10 -->\n      <g transform=\"translate(20.878125 113.435344) scale(0.1 -0.1)\">\n       <use xlink:href=\"#DejaVuSans-31\"/>\n       <use xlink:href=\"#DejaVuSans-30\" x=\"63.623047\"/>\n      </g>\n     </g>\n    </g>\n    <g id=\"ytick_4\">\n     <g id=\"line2d_11\">\n      <g>\n       <use xlink:href=\"#mf219ff7036\" x=\"40.603125\" y=\"151.216125\" style=\"stroke: #000000; stroke-width: 0.8\"/>\n      </g>\n     </g>\n     <g id=\"text_12\">\n      <!-- 15 -->\n      <g transform=\"translate(20.878125 155.015344) scale(0.1 -0.1)\">\n       <use xlink:href=\"#DejaVuSans-31\"/>\n       <use xlink:href=\"#DejaVuSans-35\" x=\"63.623047\"/>\n      </g>\n     </g>\n    </g>\n    <g id=\"ytick_5\">\n     <g id=\"line2d_12\">\n      <g>\n       <use xlink:href=\"#mf219ff7036\" x=\"40.603125\" y=\"192.796125\" style=\"stroke: #000000; stroke-width: 0.8\"/>\n      </g>\n     </g>\n     <g id=\"text_13\">\n      <!-- 20 -->\n      <g transform=\"translate(20.878125 196.595344) scale(0.1 -0.1)\">\n       <use xlink:href=\"#DejaVuSans-32\"/>\n       <use xlink:href=\"#DejaVuSans-30\" x=\"63.623047\"/>\n      </g>\n     </g>\n    </g>\n    <g id=\"ytick_6\">\n     <g id=\"line2d_13\">\n      <g>\n       <use xlink:href=\"#mf219ff7036\" x=\"40.603125\" y=\"234.376125\" style=\"stroke: #000000; stroke-width: 0.8\"/>\n      </g>\n     </g>\n     <g id=\"text_14\">\n      <!-- 25 -->\n      <g transform=\"translate(20.878125 238.175344) scale(0.1 -0.1)\">\n       <use xlink:href=\"#DejaVuSans-32\"/>\n       <use xlink:href=\"#DejaVuSans-35\" x=\"63.623047\"/>\n      </g>\n     </g>\n    </g>\n    <g id=\"ytick_7\">\n     <g id=\"line2d_14\">\n      <g>\n       <use xlink:href=\"#mf219ff7036\" x=\"40.603125\" y=\"275.956125\" style=\"stroke: #000000; stroke-width: 0.8\"/>\n      </g>\n     </g>\n     <g id=\"text_15\">\n      <!-- 30 -->\n      <g transform=\"translate(20.878125 279.755344) scale(0.1 -0.1)\">\n       <use xlink:href=\"#DejaVuSans-33\"/>\n       <use xlink:href=\"#DejaVuSans-30\" x=\"63.623047\"/>\n      </g>\n     </g>\n    </g>\n    <g id=\"text_16\">\n     <!-- y -->\n     <g transform=\"translate(14.798438 158.3335) rotate(-90) scale(0.1 -0.1)\">\n      <defs>\n       <path id=\"DejaVuSans-79\" d=\"M 2059 -325 \nQ 1816 -950 1584 -1140 \nQ 1353 -1331 966 -1331 \nL 506 -1331 \nL 506 -850 \nL 844 -850 \nQ 1081 -850 1212 -737 \nQ 1344 -625 1503 -206 \nL 1606 56 \nL 191 3500 \nL 800 3500 \nL 1894 763 \nL 2988 3500 \nL 3597 3500 \nL 2059 -325 \nz\n\" transform=\"scale(0.015625)\"/>\n      </defs>\n      <use xlink:href=\"#DejaVuSans-79\"/>\n     </g>\n    </g>\n   </g>\n   <g id=\"patch_3\">\n    <path d=\"M 40.603125 288.430125 \nL 40.603125 22.318125 \n\" style=\"fill: none; stroke: #000000; stroke-width: 0.8; stroke-linejoin: miter; stroke-linecap: square\"/>\n   </g>\n   <g id=\"patch_4\">\n    <path d=\"M 306.715125 288.430125 \nL 306.715125 22.318125 \n\" style=\"fill: none; stroke: #000000; stroke-width: 0.8; stroke-linejoin: miter; stroke-linecap: square\"/>\n   </g>\n   <g id=\"patch_5\">\n    <path d=\"M 40.603125 288.430125 \nL 306.715125 288.430125 \n\" style=\"fill: none; stroke: #000000; stroke-width: 0.8; stroke-linejoin: miter; stroke-linecap: square\"/>\n   </g>\n   <g id=\"patch_6\">\n    <path d=\"M 40.603125 22.318125 \nL 306.715125 22.318125 \n\" style=\"fill: none; stroke: #000000; stroke-width: 0.8; stroke-linejoin: miter; stroke-linecap: square\"/>\n   </g>\n   <g id=\"text_17\">\n    <!-- Initial condition -->\n    <g transform=\"translate(127.4085 16.318125) scale(0.12 -0.12)\">\n     <defs>\n      <path id=\"DejaVuSans-49\" d=\"M 628 4666 \nL 1259 4666 \nL 1259 0 \nL 628 0 \nL 628 4666 \nz\n\" transform=\"scale(0.015625)\"/>\n      <path id=\"DejaVuSans-6e\" d=\"M 3513 2113 \nL 3513 0 \nL 2938 0 \nL 2938 2094 \nQ 2938 2591 2744 2837 \nQ 2550 3084 2163 3084 \nQ 1697 3084 1428 2787 \nQ 1159 2491 1159 1978 \nL 1159 0 \nL 581 0 \nL 581 3500 \nL 1159 3500 \nL 1159 2956 \nQ 1366 3272 1645 3428 \nQ 1925 3584 2291 3584 \nQ 2894 3584 3203 3211 \nQ 3513 2838 3513 2113 \nz\n\" transform=\"scale(0.015625)\"/>\n      <path id=\"DejaVuSans-69\" d=\"M 603 3500 \nL 1178 3500 \nL 1178 0 \nL 603 0 \nL 603 3500 \nz\nM 603 4863 \nL 1178 4863 \nL 1178 4134 \nL 603 4134 \nL 603 4863 \nz\n\" transform=\"scale(0.015625)\"/>\n      <path id=\"DejaVuSans-74\" d=\"M 1172 4494 \nL 1172 3500 \nL 2356 3500 \nL 2356 3053 \nL 1172 3053 \nL 1172 1153 \nQ 1172 725 1289 603 \nQ 1406 481 1766 481 \nL 2356 481 \nL 2356 0 \nL 1766 0 \nQ 1100 0 847 248 \nQ 594 497 594 1153 \nL 594 3053 \nL 172 3053 \nL 172 3500 \nL 594 3500 \nL 594 4494 \nL 1172 4494 \nz\n\" transform=\"scale(0.015625)\"/>\n      <path id=\"DejaVuSans-61\" d=\"M 2194 1759 \nQ 1497 1759 1228 1600 \nQ 959 1441 959 1056 \nQ 959 750 1161 570 \nQ 1363 391 1709 391 \nQ 2188 391 2477 730 \nQ 2766 1069 2766 1631 \nL 2766 1759 \nL 2194 1759 \nz\nM 3341 1997 \nL 3341 0 \nL 2766 0 \nL 2766 531 \nQ 2569 213 2275 61 \nQ 1981 -91 1556 -91 \nQ 1019 -91 701 211 \nQ 384 513 384 1019 \nQ 384 1609 779 1909 \nQ 1175 2209 1959 2209 \nL 2766 2209 \nL 2766 2266 \nQ 2766 2663 2505 2880 \nQ 2244 3097 1772 3097 \nQ 1472 3097 1187 3025 \nQ 903 2953 641 2809 \nL 641 3341 \nQ 956 3463 1253 3523 \nQ 1550 3584 1831 3584 \nQ 2591 3584 2966 3190 \nQ 3341 2797 3341 1997 \nz\n\" transform=\"scale(0.015625)\"/>\n      <path id=\"DejaVuSans-6c\" d=\"M 603 4863 \nL 1178 4863 \nL 1178 0 \nL 603 0 \nL 603 4863 \nz\n\" transform=\"scale(0.015625)\"/>\n      <path id=\"DejaVuSans-20\" transform=\"scale(0.015625)\"/>\n      <path id=\"DejaVuSans-63\" d=\"M 3122 3366 \nL 3122 2828 \nQ 2878 2963 2633 3030 \nQ 2388 3097 2138 3097 \nQ 1578 3097 1268 2742 \nQ 959 2388 959 1747 \nQ 959 1106 1268 751 \nQ 1578 397 2138 397 \nQ 2388 397 2633 464 \nQ 2878 531 3122 666 \nL 3122 134 \nQ 2881 22 2623 -34 \nQ 2366 -91 2075 -91 \nQ 1284 -91 818 406 \nQ 353 903 353 1747 \nQ 353 2603 823 3093 \nQ 1294 3584 2113 3584 \nQ 2378 3584 2631 3529 \nQ 2884 3475 3122 3366 \nz\n\" transform=\"scale(0.015625)\"/>\n      <path id=\"DejaVuSans-6f\" d=\"M 1959 3097 \nQ 1497 3097 1228 2736 \nQ 959 2375 959 1747 \nQ 959 1119 1226 758 \nQ 1494 397 1959 397 \nQ 2419 397 2687 759 \nQ 2956 1122 2956 1747 \nQ 2956 2369 2687 2733 \nQ 2419 3097 1959 3097 \nz\nM 1959 3584 \nQ 2709 3584 3137 3096 \nQ 3566 2609 3566 1747 \nQ 3566 888 3137 398 \nQ 2709 -91 1959 -91 \nQ 1206 -91 779 398 \nQ 353 888 353 1747 \nQ 353 2609 779 3096 \nQ 1206 3584 1959 3584 \nz\n\" transform=\"scale(0.015625)\"/>\n      <path id=\"DejaVuSans-64\" d=\"M 2906 2969 \nL 2906 4863 \nL 3481 4863 \nL 3481 0 \nL 2906 0 \nL 2906 525 \nQ 2725 213 2448 61 \nQ 2172 -91 1784 -91 \nQ 1150 -91 751 415 \nQ 353 922 353 1747 \nQ 353 2572 751 3078 \nQ 1150 3584 1784 3584 \nQ 2172 3584 2448 3432 \nQ 2725 3281 2906 2969 \nz\nM 947 1747 \nQ 947 1113 1208 752 \nQ 1469 391 1925 391 \nQ 2381 391 2643 752 \nQ 2906 1113 2906 1747 \nQ 2906 2381 2643 2742 \nQ 2381 3103 1925 3103 \nQ 1469 3103 1208 2742 \nQ 947 2381 947 1747 \nz\n\" transform=\"scale(0.015625)\"/>\n     </defs>\n     <use xlink:href=\"#DejaVuSans-49\"/>\n     <use xlink:href=\"#DejaVuSans-6e\" x=\"29.492188\"/>\n     <use xlink:href=\"#DejaVuSans-69\" x=\"92.871094\"/>\n     <use xlink:href=\"#DejaVuSans-74\" x=\"120.654297\"/>\n     <use xlink:href=\"#DejaVuSans-69\" x=\"159.863281\"/>\n     <use xlink:href=\"#DejaVuSans-61\" x=\"187.646484\"/>\n     <use xlink:href=\"#DejaVuSans-6c\" x=\"248.925781\"/>\n     <use xlink:href=\"#DejaVuSans-20\" x=\"276.708984\"/>\n     <use xlink:href=\"#DejaVuSans-63\" x=\"308.496094\"/>\n     <use xlink:href=\"#DejaVuSans-6f\" x=\"363.476562\"/>\n     <use xlink:href=\"#DejaVuSans-6e\" x=\"424.658203\"/>\n     <use xlink:href=\"#DejaVuSans-64\" x=\"488.037109\"/>\n     <use xlink:href=\"#DejaVuSans-69\" x=\"551.513672\"/>\n     <use xlink:href=\"#DejaVuSans-74\" x=\"579.296875\"/>\n     <use xlink:href=\"#DejaVuSans-69\" x=\"618.505859\"/>\n     <use xlink:href=\"#DejaVuSans-6f\" x=\"646.289062\"/>\n     <use xlink:href=\"#DejaVuSans-6e\" x=\"707.470703\"/>\n    </g>\n   </g>\n  </g>\n  <g id=\"axes_2\">\n   <g id=\"patch_7\">\n    <path d=\"M 324.571125 288.430125 \nL 337.876725 288.430125 \nL 337.876725 22.318125 \nL 324.571125 22.318125 \nz\n\" style=\"fill: #ffffff\"/>\n   </g>\n   <image xlink:href=\"data:image/png;base64,\niVBORw0KGgoAAAANSUhEUgAAABIAAAFyCAYAAAD4TYq5AAAB8UlEQVR4nO2d2w0CMQwEnUtKowT6L4VQgvkYodHKLmCVfdhJjtOxXut9C6iHAKmqOrUYrLOexQBRK+I0CqZWHDUGiHQNSraPWtmoYTkC7acGm48a59oku6tg17KTPTttU0rXdNRsrp0r1IgC8lHLTTaVI8z+YNemafsyJpvBMSb75jbthVwTJpsKZPI8ElLjXGOAspuWARJeIYz2Q0BGauNaBxS80wbPI+roZ6Q2gWyBdN0fPNiGWl/Rlxqba8KZrdNoqPU11P4JFKwR8jZcKan5Rm3wLqKjNhr1JWza5FGbS200agtb0cyjviaQPwBF28+ca5Pt97kWHUgMKDXZPrGVyWbs94ktdM3XtD6NJtk9EPSziPF85Ask17QVq9HKtT+aGgSEdT8ltlAjHzVwO7JRg5gpqXG9huDUeZI18lGDgIJde6CDVrBrwmQPtR+AhMmmqAW7ZgMCNaLutEJqwa7lziPQtQ8FpNMouWkh17aPGucao5Gwafdo1AIZkx07ancwNWyDpJqWWpFxOxIetIZaB0R1v3EXoQabsGmD5xHnmq1pwZ3W5hrYa9i9X6dR8MzOnUfcfU3nGhjI2Kc13GATniFljzSMTat7IwqcR0ydLdQI+o4WtSRyZmPUbB8uAV3TUeNcg/6qwKgRRk32Gf4vtfqN5qlVmUMAAAAASUVORK5CYII=\" id=\"image2228cb01b7\" transform=\"scale(1 -1) translate(0 -266.4)\" x=\"324.72\" y=\"-21.6\" width=\"12.96\" height=\"266.4\"/>\n   <g id=\"matplotlib.axis_3\"/>\n   <g id=\"matplotlib.axis_4\">\n    <g id=\"ytick_8\">\n     <g id=\"line2d_15\">\n      <defs>\n       <path id=\"m823c2bded0\" d=\"M 0 0 \nL 3.5 0 \n\" style=\"stroke: #000000; stroke-width: 0.8\"/>\n      </defs>\n      <g>\n       <use xlink:href=\"#m823c2bded0\" x=\"337.876725\" y=\"255.294372\" style=\"stroke: #000000; stroke-width: 0.8\"/>\n      </g>\n     </g>\n     <g id=\"text_18\">\n      <!-- 0.25 -->\n      <g transform=\"translate(344.876725 259.093591) scale(0.1 -0.1)\">\n       <defs>\n        <path id=\"DejaVuSans-2e\" d=\"M 684 794 \nL 1344 794 \nL 1344 0 \nL 684 0 \nL 684 794 \nz\n\" transform=\"scale(0.015625)\"/>\n       </defs>\n       <use xlink:href=\"#DejaVuSans-30\"/>\n       <use xlink:href=\"#DejaVuSans-2e\" x=\"63.623047\"/>\n       <use xlink:href=\"#DejaVuSans-32\" x=\"95.410156\"/>\n       <use xlink:href=\"#DejaVuSans-35\" x=\"159.033203\"/>\n      </g>\n     </g>\n    </g>\n    <g id=\"ytick_9\">\n     <g id=\"line2d_16\">\n      <g>\n       <use xlink:href=\"#m823c2bded0\" x=\"337.876725\" y=\"221.987623\" style=\"stroke: #000000; stroke-width: 0.8\"/>\n      </g>\n     </g>\n     <g id=\"text_19\">\n      <!-- 0.50 -->\n      <g transform=\"translate(344.876725 225.786842) scale(0.1 -0.1)\">\n       <use xlink:href=\"#DejaVuSans-30\"/>\n       <use xlink:href=\"#DejaVuSans-2e\" x=\"63.623047\"/>\n       <use xlink:href=\"#DejaVuSans-35\" x=\"95.410156\"/>\n       <use xlink:href=\"#DejaVuSans-30\" x=\"159.033203\"/>\n      </g>\n     </g>\n    </g>\n    <g id=\"ytick_10\">\n     <g id=\"line2d_17\">\n      <g>\n       <use xlink:href=\"#m823c2bded0\" x=\"337.876725\" y=\"188.680874\" style=\"stroke: #000000; stroke-width: 0.8\"/>\n      </g>\n     </g>\n     <g id=\"text_20\">\n      <!-- 0.75 -->\n      <g transform=\"translate(344.876725 192.480093) scale(0.1 -0.1)\">\n       <defs>\n        <path id=\"DejaVuSans-37\" d=\"M 525 4666 \nL 3525 4666 \nL 3525 4397 \nL 1831 0 \nL 1172 0 \nL 2766 4134 \nL 525 4134 \nL 525 4666 \nz\n\" transform=\"scale(0.015625)\"/>\n       </defs>\n       <use xlink:href=\"#DejaVuSans-30\"/>\n       <use xlink:href=\"#DejaVuSans-2e\" x=\"63.623047\"/>\n       <use xlink:href=\"#DejaVuSans-37\" x=\"95.410156\"/>\n       <use xlink:href=\"#DejaVuSans-35\" x=\"159.033203\"/>\n      </g>\n     </g>\n    </g>\n    <g id=\"ytick_11\">\n     <g id=\"line2d_18\">\n      <g>\n       <use xlink:href=\"#m823c2bded0\" x=\"337.876725\" y=\"155.374125\" style=\"stroke: #000000; stroke-width: 0.8\"/>\n      </g>\n     </g>\n     <g id=\"text_21\">\n      <!-- 1.00 -->\n      <g transform=\"translate(344.876725 159.173344) scale(0.1 -0.1)\">\n       <use xlink:href=\"#DejaVuSans-31\"/>\n       <use xlink:href=\"#DejaVuSans-2e\" x=\"63.623047\"/>\n       <use xlink:href=\"#DejaVuSans-30\" x=\"95.410156\"/>\n       <use xlink:href=\"#DejaVuSans-30\" x=\"159.033203\"/>\n      </g>\n     </g>\n    </g>\n    <g id=\"ytick_12\">\n     <g id=\"line2d_19\">\n      <g>\n       <use xlink:href=\"#m823c2bded0\" x=\"337.876725\" y=\"122.067376\" style=\"stroke: #000000; stroke-width: 0.8\"/>\n      </g>\n     </g>\n     <g id=\"text_22\">\n      <!-- 1.25 -->\n      <g transform=\"translate(344.876725 125.866595) scale(0.1 -0.1)\">\n       <use xlink:href=\"#DejaVuSans-31\"/>\n       <use xlink:href=\"#DejaVuSans-2e\" x=\"63.623047\"/>\n       <use xlink:href=\"#DejaVuSans-32\" x=\"95.410156\"/>\n       <use xlink:href=\"#DejaVuSans-35\" x=\"159.033203\"/>\n      </g>\n     </g>\n    </g>\n    <g id=\"ytick_13\">\n     <g id=\"line2d_20\">\n      <g>\n       <use xlink:href=\"#m823c2bded0\" x=\"337.876725\" y=\"88.760627\" style=\"stroke: #000000; stroke-width: 0.8\"/>\n      </g>\n     </g>\n     <g id=\"text_23\">\n      <!-- 1.50 -->\n      <g transform=\"translate(344.876725 92.559846) scale(0.1 -0.1)\">\n       <use xlink:href=\"#DejaVuSans-31\"/>\n       <use xlink:href=\"#DejaVuSans-2e\" x=\"63.623047\"/>\n       <use xlink:href=\"#DejaVuSans-35\" x=\"95.410156\"/>\n       <use xlink:href=\"#DejaVuSans-30\" x=\"159.033203\"/>\n      </g>\n     </g>\n    </g>\n    <g id=\"ytick_14\">\n     <g id=\"line2d_21\">\n      <g>\n       <use xlink:href=\"#m823c2bded0\" x=\"337.876725\" y=\"55.453878\" style=\"stroke: #000000; stroke-width: 0.8\"/>\n      </g>\n     </g>\n     <g id=\"text_24\">\n      <!-- 1.75 -->\n      <g transform=\"translate(344.876725 59.253097) scale(0.1 -0.1)\">\n       <use xlink:href=\"#DejaVuSans-31\"/>\n       <use xlink:href=\"#DejaVuSans-2e\" x=\"63.623047\"/>\n       <use xlink:href=\"#DejaVuSans-37\" x=\"95.410156\"/>\n       <use xlink:href=\"#DejaVuSans-35\" x=\"159.033203\"/>\n      </g>\n     </g>\n    </g>\n   </g>\n   <g id=\"LineCollection_1\"/>\n   <g id=\"patch_8\">\n    <path d=\"M 324.571125 288.430125 \nL 331.223925 288.430125 \nL 337.876725 288.430125 \nL 337.876725 22.318125 \nL 331.223925 22.318125 \nL 324.571125 22.318125 \nL 324.571125 288.430125 \nz\n\" style=\"fill: none; stroke: #000000; stroke-width: 0.8; stroke-linejoin: miter; stroke-linecap: square\"/>\n   </g>\n  </g>\n </g>\n <defs>\n  <clipPath id=\"p52912b31ad\">\n   <rect x=\"40.603125\" y=\"22.318125\" width=\"266.112\" height=\"266.112\"/>\n  </clipPath>\n </defs>\n</svg>\n"
     },
     "metadata": {},
     "output_type": "display_data"
    },
    {
     "data": {
      "text/plain": [
       "HBox(children=(HTML(value=\"<a href='.\\\\tmpticf40e0.pdf' target='_blank'>.\\\\tmpticf40e0.pdf</a><br>\"), HTML(val…"
      ],
      "application/vnd.jupyter.widget-view+json": {
       "version_major": 2,
       "version_minor": 0,
       "model_id": "136af6436ac24094b27677f8ddff7aad"
      }
     },
     "metadata": {},
     "output_type": "display_data"
    }
   ],
   "execution_count": 10
  },
  {
   "metadata": {
    "ExecuteTime": {
     "end_time": "2024-09-06T09:34:10.460749Z",
     "start_time": "2024-09-06T09:33:30.258075Z"
    }
   },
   "cell_type": "code",
   "source": [
    "progbar = FloatProgress(value=0, min=0, max=1)\n",
    "display(progbar)\n",
    "\n",
    "states_history = [solver.advectee.get().copy()]\n",
    "for i in range(nt//10):\n",
    "    solver.advance(n_steps=10, mu_coeff=(mu, mu))\n",
    "    states_history.append(solver.advectee.get().copy())\n",
    "    progbar.value = (i + 1.) / (nt//10)"
   ],
   "id": "2b279996b00be430",
   "outputs": [
    {
     "data": {
      "text/plain": [
       "FloatProgress(value=0.0, max=1.0)"
      ],
      "application/vnd.jupyter.widget-view+json": {
       "version_major": 2,
       "version_minor": 0,
       "model_id": "379bd59874384a0ebacd89b564e39953"
      }
     },
     "metadata": {},
     "output_type": "display_data"
    }
   ],
   "execution_count": 11
  },
  {
   "metadata": {
    "ExecuteTime": {
     "end_time": "2024-09-06T09:34:10.906429Z",
     "start_time": "2024-09-06T09:34:10.461745Z"
    }
   },
   "cell_type": "code",
   "source": [
    "plt.imshow(solver.advectee.get().copy(), cmap='viridis', vmin=vmin, vmax=vmax)\n",
    "plt.colorbar()\n",
    "plt.xlabel('x')\n",
    "plt.ylabel('y')\n",
    "plt.title('Final condition')\n",
    "show_plot()"
   ],
   "id": "2576fcdbfa20c032",
   "outputs": [
    {
     "data": {
      "text/plain": [
       "<Figure size 640x480 with 2 Axes>"
      ],
      "image/svg+xml": "<?xml version=\"1.0\" encoding=\"utf-8\" standalone=\"no\"?>\n<!DOCTYPE svg PUBLIC \"-//W3C//DTD SVG 1.1//EN\"\n  \"http://www.w3.org/Graphics/SVG/1.1/DTD/svg11.dtd\">\n<svg xmlns:xlink=\"http://www.w3.org/1999/xlink\" width=\"374.34235pt\" height=\"325.986375pt\" viewBox=\"0 0 374.34235 325.986375\" xmlns=\"http://www.w3.org/2000/svg\" version=\"1.1\">\n <metadata>\n  <rdf:RDF xmlns:dc=\"http://purl.org/dc/elements/1.1/\" xmlns:cc=\"http://creativecommons.org/ns#\" xmlns:rdf=\"http://www.w3.org/1999/02/22-rdf-syntax-ns#\">\n   <cc:Work>\n    <dc:type rdf:resource=\"http://purl.org/dc/dcmitype/StillImage\"/>\n    <dc:date>2024-09-06T11:34:10.858857</dc:date>\n    <dc:format>image/svg+xml</dc:format>\n    <dc:creator>\n     <cc:Agent>\n      <dc:title>Matplotlib v3.9.0, https://matplotlib.org/</dc:title>\n     </cc:Agent>\n    </dc:creator>\n   </cc:Work>\n  </rdf:RDF>\n </metadata>\n <defs>\n  <style type=\"text/css\">*{stroke-linejoin: round; stroke-linecap: butt}</style>\n </defs>\n <g id=\"figure_1\">\n  <g id=\"patch_1\">\n   <path d=\"M 0 325.986375 \nL 374.34235 325.986375 \nL 374.34235 0 \nL 0 0 \nz\n\" style=\"fill: #ffffff\"/>\n  </g>\n  <g id=\"axes_1\">\n   <g id=\"patch_2\">\n    <path d=\"M 40.603125 288.430125 \nL 306.715125 288.430125 \nL 306.715125 22.318125 \nL 40.603125 22.318125 \nz\n\" style=\"fill: #ffffff\"/>\n   </g>\n   <g clip-path=\"url(#p14a0ffc978)\">\n    <image xlink:href=\"data:image/png;base64,\niVBORw0KGgoAAAANSUhEUgAAAXIAAAFyCAYAAADoJFEJAAAUSUlEQVR4nO3c244c6ZUd4B2HzDqwKErsltjN0cCDMQzMxVzZ7+Cn8BP7ygYMjI6kZgbT3eyDBIliZbGqMsMX9AP8q4GEa0Pfd73rZzAjcmXc7DX996v/sVViWYZHp8uL6Ojp5tnw7PHlT6KzP766Hp798GqNzr79chqePXxxis5eXh2i+X989f3w7H/92b9HZ/+3Z38Ynv0v+2+js79YjsOz19P4M1hVNdcczT/U+LW8P43PVlW9O+6HZ//w8Hl09v85/HJ49n//+e+is3/93S+GZw/f3ERnX36d3c/rb8Yj69m77P5cfnc3PLv88UN09vSXvw7PbrfZ9z57wgF4cgQ5QHOCHKA5QQ7QnCAHaE6QAzQnyAGaE+QAzQlygOYEOUBzghyguXXaj3c/VFVt9/fjs3cf0+sZtkzj/SZVVVnry3gvyydJN0v223moq2j+zfRZNH8ux8ruz8Puu+HZ18v4M1hV9WLOnvHraXz+csm6cy6n8Wu/nN5FZy/T+LUks6nfZLe+bivrZqlKulmyHpeqyzNMfpJcSfgReiMH6E6QAzQnyAGaE+QAzQlygOYEOUBzghygOUEO0JwgB2hOkAM0t07X2Qp4IlnnrzrzSn8wm63zV2Ur/ck6f1W+0j9+LW/CKzmn03Xw/9xnq+tV2XP4chl/Ai6mXXT2Oo8/ibsp+z7M9W0we74V/dRvwvkP07NgOv2+JUmRLekn02mxgDdygOYEOUBzghygOUEO0JwgB2hOkAM0J8gBmhPkAM0JcoDmBDlAc4IcoLl1+8lN9AfTmS6kKutmOWsvy7ZF81k3S9LLUnXObpakl6XqvN0sx3O+U4TdLMs0/hz+bM6uezeNt2i8mLIepGW9G5+dvovOfkp+U78Ynv1QSS9LVfZ9SxtRxttWshYXb+QA7QlygOYEOUBzghygOUEO0JwgB2hOkAM0J8gBmhPkAM0JcoDm1uPLbIU1WUp9Kuv8VWde6Z/G/6fZOn/VeVf6s9/xZKX/bXjz52m8FmGpU3Z4bHyl/7gcopNfLuNPwMW0i86+mccXu1/X+Dp/VVXtx1f6l+nc92dcss5fla70p/UZSXpmS/reyAGaE+QAzQlygOYEOUBzghygOUEO0JwgB2hOkAM0J8gBmhPkAM0JcoDm1rufZzv9yXTSLFD1dLpZtkPYQxFIP5NzdrNMW9oVMf67fztlHTFvps/Caxl3DN9X7rfxu/SwH+9l+XQt490sL+fx/pmqqut5Pzyb9LJUVb0Krrvqh+js49XTeZ9MulmyXpaqrJslS4qn8wkC8KMIcoDmBDlAc4IcoDlBDtCcIAdoTpADNCfIAZoT5ADNCXKA5tYPr9Kl8fHV3mwJuGrZxleS03X+LTi7Hh6ys+8+hlcz7qwr/dtVePpu/Ogpe0c4BCv9b8/Z5VBVj6fxa7/bxtfiP81/Mzz7n9a/RGf/vE7Ds1dTdt03U/BkLeH3Yf9dNv9EJOv8VVW3200wbUUf4G+KIAdoTpADNCfIAZoT5ADNCXKA5gQ5QHOCHKA5QQ7QnCAHaE6QAzS33n6RFlcEHQBb1raSTKcdJFPQtbLdhocH3Szn7GWpyvpqLpP+maqqGu9D2ebxXpaqqprG7+hhHr+Oqqo34X/z4RRcyynrLPl4Pf653F2M97JUVT3UH4dnX4V9KEnXStTLUnXWbpZlGu+fObffBLO3lfSyeCMHaE+QAzQnyAGaE+QAzQlygOYEOUBzghygOUEO0JwgB2hOkAM0J8gBmlvvvjxmf7ElXStpI8p428rlKSvQSDpI0vaZqJsl6GWp+hHdLMHnMoefYdKFs83PorNPyxqcnT1Xd1vWzfKvx/H3m8ND1ilzOI7P34Y9LvfB9+24+z46+/U6/hymXSvn7Wb5ITr6ePU03m1/HfYDPY2rBuBHE+QAzQlygOYEOUBzghygOUEO0JwgB2hOkAM0J8gBmhPkAM2tV1/8NfqDw3YzPDuFK/rJ/LQlC+NVl8HK6xKuridr8eHJ+Ur/x3ClP5D86l8uWdHBtgQr/eGKfloV8fF4NTz79WP2LnR/HL+Wj8fx2oKqquN2zvey8ZX+ZJ2/Kl/RfzGP35+l7qKza/9dNv9EeCMHaE6QAzQnyAGaE+QAzQlygOYEOUBzghygOUEO0JwgB2hOkAM0J8gBmlv/8+c/RH/w29N49h9O19nVJF0rp6yHok7j3SyXp1N09LIFDSpbdvYWXsv2+Dg+fDhEZyeWNes3uVzGn6ttHe/a+H9XE01PwTP+8THrCfku6GZ5PGbvWY9n7VoZt0xZX8my3EfzN9P4d/lmzjqZXgfdLMfdeP9MVdUpeG9Oe3Oexp0H4EcT5ADNCXKA5gQ5QHOCHKA5QQ7QnCAHaE6QAzQnyAGaE+QAza3//JOvoj+4P46vO785TtHZd8fxlf45XF+ejuMr/fMxWwG/OI6v6M/hyn0l6/9VVYfx+e0hWOevylb6g5X7qmyl/3KXrdxvU7ZGX8F6dLLOX1X18bgfnv3T9jw6+3fB7DqFNRTB/H46RmfvKqsJmWt8pf96Hv+8q7KV/tdrVnFxqvHqguOVFX2AvymCHKA5QQ7QnCAHaE6QAzQnyAGaE+QAzQlygOYEOUBzghygOUEO0Nz6T1dZ18rtaby74GPQb1JV9W+P4x0adw/jnQhVVfPDeO/L8pBd9xxcy+4x67iYT2HXyjHouQh7X7ZjMH+4i86ed7vh2XWX3Z/LOev8qQr6OYJelqqqaRu/lrsa/0yqqv403QzP/m7J7v3FMt7Lcz2Pd6FUVV1OD9H8bvrL8OwyZff+Yhr/zG/CDp9Xy3g3y93u++hsb+QAzQlygOYEOUBzghygOUEO0JwgB2hOkAM0J8gBmhPkAM0JcoDm1n/YZ6ug709X47PPszX6w8P4euy7+/F1/qqqu+Ds+SH7fZsfx8+eHsc/v6qqXbhGPyXz6fr/fbB6nVQFVNV293F4dnp/G529rtn9vIzGg3X+qkrenbZwvXxbxp/DH9bxdf6qqt8uPx+evVqylfuLOZtPVvqXGl+Lr6r6fBm/P7spy6Dn8/iz8moZ/z5UeSMHaE+QAzQnyAGaE+QAzQlygOYEOUBzghygOUEO0JwgB2hOkAM0J8gBmlu/WD5Ef/B+/93w7J+vr7OzHy+GZ2/vx3slqqre3z8fnp3v1+jspJtlOmbdHNMx61pZg/kp7ENJbI+P55sPelmqqub3WSfGGnScZG1CVVE3y5S9Z23z+PzdOv5dq6r6dh3//vx2N97LUlV1NQcdPlV1OY3P76avorOX6W549kXQnVJVNQfvzc/n7Jn1Rg7QnCAHaE6QAzQnyAGaE+QAzQlygOYEOUBzghygOUEO0JwgB2hu/WkY5X+3/Hl49sPlN9HZt6fxlde7Y7ai/7vH8ZXXu8dn0dnTcfzs6ZR94NMpW6W+3MZn1y0YrqrxxfWquhtfda6q2pIqgnD9vw7ZtSR3KP0ML6PGhWwFPFnpT9b5q6rulvEygn9ffhqdvZuzqoh1Hv8Q91NaQ/FuePK4ZFURyUr/rqzoA/xNEeQAzQlygOYEOUBzghygOUEO0JwgB2hOkAM0J8gBmhPkAM0JcoDm1usp2+n/fHkYnr2v76OzH67W8dktu+7HoOPkzSlqFam77Xp8OLzuOmXzSTfLFPaEJFcyTdlnWHdBb8Ux68/YPt5n1xL0vsyP2bXsHsfPnk5hF86WdLOEz2GQE3dT8H2oqrfho5JYKiq3yezHe1k+GX8On8/jWVjljRygPUEO0JwgB2hOkAM0J8gBmhPkAM0JcoDmBDlAc4IcoDlBDtCcIAdobp3DLH85j/c57Kes42JfXw3P7qbH6OzdNN6JMU9Zx8Xvp8+HZ9MeirgTI5nfLqOTk+n0qpO6jS3pZamq7TF7ViqZD8+egvn1ITv76uFZcB1X0dlJ588U9gMdTtl34k329Ywcz/luG3Sz/P003mlV5Y0coD1BDtCcIAdoTpADNCfIAZoT5ADNCXKA5gQ5QHOCHKA5QQ7Q3Ppxy9aAb+aL4dnPpjU6+2I3vnp9MX0dnX0ZrLwm6/xVVft5/DP89fyL6OzDdBPN1xSsRyezVVXT+JJ+tvyfrfQn6/xVVXU4RePb/fizsj1kq9Tb/XhtxRSevT6OP7dXx+wzmY7ja/TzMfve1xau9G/jVQS/37Kn5RTML5V9hvM0Pr+bxtf5q7yRA7QnyAGaE+QAzQlygOYEOUBzghygOUEO0JwgB2hOkAM0J8gBmhPkAM2tXx2zLoJfTuNdES/mq+jsF9P4/G4dv46qqv30bTCbda0k3SzztEVn/yosFvkwjfdQVIWdGFEjSta2kkyHDTE1bdlnXqfx+aQ75dN80J9yzJ7DCvpTlqCXparq6jj+mUyn8V6WT/O7bH4bf/88bNm1vAkflXNZKrsQb+QAzQlygOYEOUBzghygOUEO0JwgB2hOkAM0J8gBmhPkAM0JcoDm1l/dvwr/5F1w+iE6OVnpv5730dlfRtM/RNOVbQGf1a9q/H5+qGSdvypb6Q8X6bfxJf1s+f9HrPSH85FgpX8LVu6rquqQfd8SyRtfen/yL1Cy0p+9qx6Ca3kTnXxe3sgBmhPkAM0JcoDmBDlAc4IcoDlBDtCcIAdoTpADNCfIAZoT5ADNCXKA5tb/+eEfoz942MabK471dXT26+XD8OyLOWt0uJjGe0JeLVnHxbH+OD57nTV5nM7Y/JH0slSl3SxJL0tVBc9VTem9zz7DNZiflrDJ5cP4M173D9HR2/E4PvzxY3R2Yp6zzzu9PxXMb8H3/pPxd9ukl6XqvN0s3sgBmhPkAM0JcoDmBDlAc4IcoDlBDtCcIAdoTpADNCfIAZoT5ADNrf/rj7+M/uC0ja/HHsPfiYf9+Er/36930dkv5v3w7MW0i87++Ty+0n9cx9f5q6qOV0/ntzZZ6b/dbrLDkxX9ytbit/kimr8MNsbXJbs/0xzM395GZ9ddsHafrPNX1XZ/Pz7816CGoKqWcEU/u5vZGn1WLZHd+2Sl/02Qs/mVAPDkCHKA5gQ5QHOCHKA5QQ7QnCAHaE6QAzQnyAGaE+QAzQlygOYEOUBz69tvP/v/fQ0/ylJfRfPzOt4V8WK+jM6+Cbo8vqigD6Oqqr6PppdpvPdlri28lnH/Eh59iLpZsq6VmtNulvH7fxl2raxB18o8Z30bFXSWbB+D7pSqqoeH8bOTzpcfIbmbWS9LVdbNkvSyVCXvzYe6OtPJADxJghygOUEO0JwgB2hOkAM0J8gBmhPkAM0JcoDmBDlAc4IcoDlBDtDcenyX7fS/nV4Oz05TVrgxB/NLjXeKfDr76+DsrCsi6VpJZqvybpZl+mF89vp8XSunLesJ+ZfT+DvF3Zb0YVTVlHatjF/Ltuyjsy/X8c9lt2bvWXNw3TXdRmdHT0rQy1J13m6WsJUn7GYJn8OomyW899mFAPDUCHKA5gQ5QHOCHKA5QQ7QnCAHaE6QAzQnyAGaE+QAzQlygObWq2+yLL+dxtdS32Zb2mc1T+Mr/cv+m+js18Eafbqin87vpvH16KXG1/mrKtpIftiy5ej70/j68u+2z6Oz74JntqpqW8av/bTL/p+nYEX/cpd9N/fL+NnLFH455/H5Ldv+z1f6D3fhPzBu2cbLCLJvZlW20p+s83sjB2hPkAM0J8gBmhPkAM0JcoDmBDlAc4IcoDlBDtCcIAdoTpADNCfIAZpbr78e7xb4ZDz7D1vWcfEmuJRtezpFLsf9u+HZ15X1RDyf99H81TQ+/+WS/o6Pd7PcX2cdJEk3yym893+Ys2f8sI4/t6d92LUS9Kccd7vs7KBr5XLO7v0cdK2k38xzdrNsd+M9SKm0rybrZsmy0xs5QHOCHKA5QQ7QnCAHaE6QAzQnyAGaE+QAzQlygOYEOUBzghygufXZu8f0T4LZ7HfiEKylvn1CK/qnbfz/edp/E539er2P5n82Xw7PXofr/18Gs/e776Oz767H19GTdf6qqnU+RfN/WH82PPt+/yw6+xSs3Z922TO+LcF3M3hOqqougktJV9fncH67PYzP3mffn7Ou9Aez2Tq/N3KA9gQ5QHOCHKA5QQ7QnCAHaE6QAzQnyAGaE+QAzQlygOYEOUBzghygufXi3W34J+N9KFkvS1Xyu3Koq+jkt9PL4dlp2qKzE8fwt/NYX0fz83o3PPv5kvWEJN0sr9djdPbH7dvh2Yfr7LnaTdm1XC4Pw7P/th/vZamq+m7/fHj2dpc1bpyW8Wdrm7PPcJvGv2+Xc9adkjXnVJ2zZSnpZjlrL8uWZZA3coDmBDlAc4IcoDlBDtCcIAdoTpADNCfIAZoT5ADNCXKA5gQ5QHPr8qf30R9kS8PJOn9VttKf/QYdgmt5e8Yd4NN2zgXjqt30H8HsITr7xTy+pn0zZU/K63X8Wu7rm+js3fQYzV/P42vaz9dsTfvNbnz9/z/WF9HZhyWorZiyxfgtmr+Mzs6mq5Zp/Dv0VNb5q8670u+NHKA5QQ7QnCAHaE6QAzQnyAGaE+QAzQlygOYEOUBzghygOUEO0JwgB2hu3d7/NfqDpHEha9uoyrpZkl6WquQ363bKOmLebOOz25m7VpY6BbNfZYcHfSjX0z46+mbaDc++XrLOin19G80/m8fPf7HeRmc/390Nz14sWUfMvy4vh2cPc/aMR10rYY9LTefrZgmv5Ml0s6S9LN7IAZoT5ADNCXKA5gQ5QHOCHKA5QQ7QnCAHaE6QAzQnyAGaE+QAza3pKmgiXY/NVvqzFeNspT/7fTts49fy9swr+vM03hewm47h6e+GJ9M1+otp/P78dM7qGfZTtup+Pf8wPPt8Hl+5/zQf1BzM4yvdVVX7Zfx+/n7+LDr7MN2MD6cr+nFSjC/pZ8v/2ZU8lXX+Km/kAO0JcoDmBDlAc4IcoDlBDtCcIAdoTpADNCfIAZoT5ADNCXKA5gQ5QHP/F7YWyMKCq+Y4AAAAAElFTkSuQmCC\" id=\"image186ee89dce\" transform=\"scale(1 -1) translate(0 -266.4)\" x=\"40.603125\" y=\"-22.030125\" width=\"266.4\" height=\"266.4\"/>\n   </g>\n   <g id=\"matplotlib.axis_1\">\n    <g id=\"xtick_1\">\n     <g id=\"line2d_1\">\n      <defs>\n       <path id=\"m8fa15e4663\" d=\"M 0 0 \nL 0 3.5 \n\" style=\"stroke: #000000; stroke-width: 0.8\"/>\n      </defs>\n      <g>\n       <use xlink:href=\"#m8fa15e4663\" x=\"44.761125\" y=\"288.430125\" style=\"stroke: #000000; stroke-width: 0.8\"/>\n      </g>\n     </g>\n     <g id=\"text_1\">\n      <!-- 0 -->\n      <g transform=\"translate(41.579875 303.028562) scale(0.1 -0.1)\">\n       <defs>\n        <path id=\"DejaVuSans-30\" d=\"M 2034 4250 \nQ 1547 4250 1301 3770 \nQ 1056 3291 1056 2328 \nQ 1056 1369 1301 889 \nQ 1547 409 2034 409 \nQ 2525 409 2770 889 \nQ 3016 1369 3016 2328 \nQ 3016 3291 2770 3770 \nQ 2525 4250 2034 4250 \nz\nM 2034 4750 \nQ 2819 4750 3233 4129 \nQ 3647 3509 3647 2328 \nQ 3647 1150 3233 529 \nQ 2819 -91 2034 -91 \nQ 1250 -91 836 529 \nQ 422 1150 422 2328 \nQ 422 3509 836 4129 \nQ 1250 4750 2034 4750 \nz\n\" transform=\"scale(0.015625)\"/>\n       </defs>\n       <use xlink:href=\"#DejaVuSans-30\"/>\n      </g>\n     </g>\n    </g>\n    <g id=\"xtick_2\">\n     <g id=\"line2d_2\">\n      <g>\n       <use xlink:href=\"#m8fa15e4663\" x=\"86.341125\" y=\"288.430125\" style=\"stroke: #000000; stroke-width: 0.8\"/>\n      </g>\n     </g>\n     <g id=\"text_2\">\n      <!-- 5 -->\n      <g transform=\"translate(83.159875 303.028562) scale(0.1 -0.1)\">\n       <defs>\n        <path id=\"DejaVuSans-35\" d=\"M 691 4666 \nL 3169 4666 \nL 3169 4134 \nL 1269 4134 \nL 1269 2991 \nQ 1406 3038 1543 3061 \nQ 1681 3084 1819 3084 \nQ 2600 3084 3056 2656 \nQ 3513 2228 3513 1497 \nQ 3513 744 3044 326 \nQ 2575 -91 1722 -91 \nQ 1428 -91 1123 -41 \nQ 819 9 494 109 \nL 494 744 \nQ 775 591 1075 516 \nQ 1375 441 1709 441 \nQ 2250 441 2565 725 \nQ 2881 1009 2881 1497 \nQ 2881 1984 2565 2268 \nQ 2250 2553 1709 2553 \nQ 1456 2553 1204 2497 \nQ 953 2441 691 2322 \nL 691 4666 \nz\n\" transform=\"scale(0.015625)\"/>\n       </defs>\n       <use xlink:href=\"#DejaVuSans-35\"/>\n      </g>\n     </g>\n    </g>\n    <g id=\"xtick_3\">\n     <g id=\"line2d_3\">\n      <g>\n       <use xlink:href=\"#m8fa15e4663\" x=\"127.921125\" y=\"288.430125\" style=\"stroke: #000000; stroke-width: 0.8\"/>\n      </g>\n     </g>\n     <g id=\"text_3\">\n      <!-- 10 -->\n      <g transform=\"translate(121.558625 303.028562) scale(0.1 -0.1)\">\n       <defs>\n        <path id=\"DejaVuSans-31\" d=\"M 794 531 \nL 1825 531 \nL 1825 4091 \nL 703 3866 \nL 703 4441 \nL 1819 4666 \nL 2450 4666 \nL 2450 531 \nL 3481 531 \nL 3481 0 \nL 794 0 \nL 794 531 \nz\n\" transform=\"scale(0.015625)\"/>\n       </defs>\n       <use xlink:href=\"#DejaVuSans-31\"/>\n       <use xlink:href=\"#DejaVuSans-30\" x=\"63.623047\"/>\n      </g>\n     </g>\n    </g>\n    <g id=\"xtick_4\">\n     <g id=\"line2d_4\">\n      <g>\n       <use xlink:href=\"#m8fa15e4663\" x=\"169.501125\" y=\"288.430125\" style=\"stroke: #000000; stroke-width: 0.8\"/>\n      </g>\n     </g>\n     <g id=\"text_4\">\n      <!-- 15 -->\n      <g transform=\"translate(163.138625 303.028562) scale(0.1 -0.1)\">\n       <use xlink:href=\"#DejaVuSans-31\"/>\n       <use xlink:href=\"#DejaVuSans-35\" x=\"63.623047\"/>\n      </g>\n     </g>\n    </g>\n    <g id=\"xtick_5\">\n     <g id=\"line2d_5\">\n      <g>\n       <use xlink:href=\"#m8fa15e4663\" x=\"211.081125\" y=\"288.430125\" style=\"stroke: #000000; stroke-width: 0.8\"/>\n      </g>\n     </g>\n     <g id=\"text_5\">\n      <!-- 20 -->\n      <g transform=\"translate(204.718625 303.028562) scale(0.1 -0.1)\">\n       <defs>\n        <path id=\"DejaVuSans-32\" d=\"M 1228 531 \nL 3431 531 \nL 3431 0 \nL 469 0 \nL 469 531 \nQ 828 903 1448 1529 \nQ 2069 2156 2228 2338 \nQ 2531 2678 2651 2914 \nQ 2772 3150 2772 3378 \nQ 2772 3750 2511 3984 \nQ 2250 4219 1831 4219 \nQ 1534 4219 1204 4116 \nQ 875 4013 500 3803 \nL 500 4441 \nQ 881 4594 1212 4672 \nQ 1544 4750 1819 4750 \nQ 2544 4750 2975 4387 \nQ 3406 4025 3406 3419 \nQ 3406 3131 3298 2873 \nQ 3191 2616 2906 2266 \nQ 2828 2175 2409 1742 \nQ 1991 1309 1228 531 \nz\n\" transform=\"scale(0.015625)\"/>\n       </defs>\n       <use xlink:href=\"#DejaVuSans-32\"/>\n       <use xlink:href=\"#DejaVuSans-30\" x=\"63.623047\"/>\n      </g>\n     </g>\n    </g>\n    <g id=\"xtick_6\">\n     <g id=\"line2d_6\">\n      <g>\n       <use xlink:href=\"#m8fa15e4663\" x=\"252.661125\" y=\"288.430125\" style=\"stroke: #000000; stroke-width: 0.8\"/>\n      </g>\n     </g>\n     <g id=\"text_6\">\n      <!-- 25 -->\n      <g transform=\"translate(246.298625 303.028562) scale(0.1 -0.1)\">\n       <use xlink:href=\"#DejaVuSans-32\"/>\n       <use xlink:href=\"#DejaVuSans-35\" x=\"63.623047\"/>\n      </g>\n     </g>\n    </g>\n    <g id=\"xtick_7\">\n     <g id=\"line2d_7\">\n      <g>\n       <use xlink:href=\"#m8fa15e4663\" x=\"294.241125\" y=\"288.430125\" style=\"stroke: #000000; stroke-width: 0.8\"/>\n      </g>\n     </g>\n     <g id=\"text_7\">\n      <!-- 30 -->\n      <g transform=\"translate(287.878625 303.028562) scale(0.1 -0.1)\">\n       <defs>\n        <path id=\"DejaVuSans-33\" d=\"M 2597 2516 \nQ 3050 2419 3304 2112 \nQ 3559 1806 3559 1356 \nQ 3559 666 3084 287 \nQ 2609 -91 1734 -91 \nQ 1441 -91 1130 -33 \nQ 819 25 488 141 \nL 488 750 \nQ 750 597 1062 519 \nQ 1375 441 1716 441 \nQ 2309 441 2620 675 \nQ 2931 909 2931 1356 \nQ 2931 1769 2642 2001 \nQ 2353 2234 1838 2234 \nL 1294 2234 \nL 1294 2753 \nL 1863 2753 \nQ 2328 2753 2575 2939 \nQ 2822 3125 2822 3475 \nQ 2822 3834 2567 4026 \nQ 2313 4219 1838 4219 \nQ 1578 4219 1281 4162 \nQ 984 4106 628 3988 \nL 628 4550 \nQ 988 4650 1302 4700 \nQ 1616 4750 1894 4750 \nQ 2613 4750 3031 4423 \nQ 3450 4097 3450 3541 \nQ 3450 3153 3228 2886 \nQ 3006 2619 2597 2516 \nz\n\" transform=\"scale(0.015625)\"/>\n       </defs>\n       <use xlink:href=\"#DejaVuSans-33\"/>\n       <use xlink:href=\"#DejaVuSans-30\" x=\"63.623047\"/>\n      </g>\n     </g>\n    </g>\n    <g id=\"text_8\">\n     <!-- x -->\n     <g transform=\"translate(170.69975 316.706687) scale(0.1 -0.1)\">\n      <defs>\n       <path id=\"DejaVuSans-78\" d=\"M 3513 3500 \nL 2247 1797 \nL 3578 0 \nL 2900 0 \nL 1881 1375 \nL 863 0 \nL 184 0 \nL 1544 1831 \nL 300 3500 \nL 978 3500 \nL 1906 2253 \nL 2834 3500 \nL 3513 3500 \nz\n\" transform=\"scale(0.015625)\"/>\n      </defs>\n      <use xlink:href=\"#DejaVuSans-78\"/>\n     </g>\n    </g>\n   </g>\n   <g id=\"matplotlib.axis_2\">\n    <g id=\"ytick_1\">\n     <g id=\"line2d_8\">\n      <defs>\n       <path id=\"m3554e72905\" d=\"M 0 0 \nL -3.5 0 \n\" style=\"stroke: #000000; stroke-width: 0.8\"/>\n      </defs>\n      <g>\n       <use xlink:href=\"#m3554e72905\" x=\"40.603125\" y=\"26.476125\" style=\"stroke: #000000; stroke-width: 0.8\"/>\n      </g>\n     </g>\n     <g id=\"text_9\">\n      <!-- 0 -->\n      <g transform=\"translate(27.240625 30.275344) scale(0.1 -0.1)\">\n       <use xlink:href=\"#DejaVuSans-30\"/>\n      </g>\n     </g>\n    </g>\n    <g id=\"ytick_2\">\n     <g id=\"line2d_9\">\n      <g>\n       <use xlink:href=\"#m3554e72905\" x=\"40.603125\" y=\"68.056125\" style=\"stroke: #000000; stroke-width: 0.8\"/>\n      </g>\n     </g>\n     <g id=\"text_10\">\n      <!-- 5 -->\n      <g transform=\"translate(27.240625 71.855344) scale(0.1 -0.1)\">\n       <use xlink:href=\"#DejaVuSans-35\"/>\n      </g>\n     </g>\n    </g>\n    <g id=\"ytick_3\">\n     <g id=\"line2d_10\">\n      <g>\n       <use xlink:href=\"#m3554e72905\" x=\"40.603125\" y=\"109.636125\" style=\"stroke: #000000; stroke-width: 0.8\"/>\n      </g>\n     </g>\n     <g id=\"text_11\">\n      <!-- 10 -->\n      <g transform=\"translate(20.878125 113.435344) scale(0.1 -0.1)\">\n       <use xlink:href=\"#DejaVuSans-31\"/>\n       <use xlink:href=\"#DejaVuSans-30\" x=\"63.623047\"/>\n      </g>\n     </g>\n    </g>\n    <g id=\"ytick_4\">\n     <g id=\"line2d_11\">\n      <g>\n       <use xlink:href=\"#m3554e72905\" x=\"40.603125\" y=\"151.216125\" style=\"stroke: #000000; stroke-width: 0.8\"/>\n      </g>\n     </g>\n     <g id=\"text_12\">\n      <!-- 15 -->\n      <g transform=\"translate(20.878125 155.015344) scale(0.1 -0.1)\">\n       <use xlink:href=\"#DejaVuSans-31\"/>\n       <use xlink:href=\"#DejaVuSans-35\" x=\"63.623047\"/>\n      </g>\n     </g>\n    </g>\n    <g id=\"ytick_5\">\n     <g id=\"line2d_12\">\n      <g>\n       <use xlink:href=\"#m3554e72905\" x=\"40.603125\" y=\"192.796125\" style=\"stroke: #000000; stroke-width: 0.8\"/>\n      </g>\n     </g>\n     <g id=\"text_13\">\n      <!-- 20 -->\n      <g transform=\"translate(20.878125 196.595344) scale(0.1 -0.1)\">\n       <use xlink:href=\"#DejaVuSans-32\"/>\n       <use xlink:href=\"#DejaVuSans-30\" x=\"63.623047\"/>\n      </g>\n     </g>\n    </g>\n    <g id=\"ytick_6\">\n     <g id=\"line2d_13\">\n      <g>\n       <use xlink:href=\"#m3554e72905\" x=\"40.603125\" y=\"234.376125\" style=\"stroke: #000000; stroke-width: 0.8\"/>\n      </g>\n     </g>\n     <g id=\"text_14\">\n      <!-- 25 -->\n      <g transform=\"translate(20.878125 238.175344) scale(0.1 -0.1)\">\n       <use xlink:href=\"#DejaVuSans-32\"/>\n       <use xlink:href=\"#DejaVuSans-35\" x=\"63.623047\"/>\n      </g>\n     </g>\n    </g>\n    <g id=\"ytick_7\">\n     <g id=\"line2d_14\">\n      <g>\n       <use xlink:href=\"#m3554e72905\" x=\"40.603125\" y=\"275.956125\" style=\"stroke: #000000; stroke-width: 0.8\"/>\n      </g>\n     </g>\n     <g id=\"text_15\">\n      <!-- 30 -->\n      <g transform=\"translate(20.878125 279.755344) scale(0.1 -0.1)\">\n       <use xlink:href=\"#DejaVuSans-33\"/>\n       <use xlink:href=\"#DejaVuSans-30\" x=\"63.623047\"/>\n      </g>\n     </g>\n    </g>\n    <g id=\"text_16\">\n     <!-- y -->\n     <g transform=\"translate(14.798438 158.3335) rotate(-90) scale(0.1 -0.1)\">\n      <defs>\n       <path id=\"DejaVuSans-79\" d=\"M 2059 -325 \nQ 1816 -950 1584 -1140 \nQ 1353 -1331 966 -1331 \nL 506 -1331 \nL 506 -850 \nL 844 -850 \nQ 1081 -850 1212 -737 \nQ 1344 -625 1503 -206 \nL 1606 56 \nL 191 3500 \nL 800 3500 \nL 1894 763 \nL 2988 3500 \nL 3597 3500 \nL 2059 -325 \nz\n\" transform=\"scale(0.015625)\"/>\n      </defs>\n      <use xlink:href=\"#DejaVuSans-79\"/>\n     </g>\n    </g>\n   </g>\n   <g id=\"patch_3\">\n    <path d=\"M 40.603125 288.430125 \nL 40.603125 22.318125 \n\" style=\"fill: none; stroke: #000000; stroke-width: 0.8; stroke-linejoin: miter; stroke-linecap: square\"/>\n   </g>\n   <g id=\"patch_4\">\n    <path d=\"M 306.715125 288.430125 \nL 306.715125 22.318125 \n\" style=\"fill: none; stroke: #000000; stroke-width: 0.8; stroke-linejoin: miter; stroke-linecap: square\"/>\n   </g>\n   <g id=\"patch_5\">\n    <path d=\"M 40.603125 288.430125 \nL 306.715125 288.430125 \n\" style=\"fill: none; stroke: #000000; stroke-width: 0.8; stroke-linejoin: miter; stroke-linecap: square\"/>\n   </g>\n   <g id=\"patch_6\">\n    <path d=\"M 40.603125 22.318125 \nL 306.715125 22.318125 \n\" style=\"fill: none; stroke: #000000; stroke-width: 0.8; stroke-linejoin: miter; stroke-linecap: square\"/>\n   </g>\n   <g id=\"text_17\">\n    <!-- Final condition -->\n    <g transform=\"translate(130.181625 16.318125) scale(0.12 -0.12)\">\n     <defs>\n      <path id=\"DejaVuSans-46\" d=\"M 628 4666 \nL 3309 4666 \nL 3309 4134 \nL 1259 4134 \nL 1259 2759 \nL 3109 2759 \nL 3109 2228 \nL 1259 2228 \nL 1259 0 \nL 628 0 \nL 628 4666 \nz\n\" transform=\"scale(0.015625)\"/>\n      <path id=\"DejaVuSans-69\" d=\"M 603 3500 \nL 1178 3500 \nL 1178 0 \nL 603 0 \nL 603 3500 \nz\nM 603 4863 \nL 1178 4863 \nL 1178 4134 \nL 603 4134 \nL 603 4863 \nz\n\" transform=\"scale(0.015625)\"/>\n      <path id=\"DejaVuSans-6e\" d=\"M 3513 2113 \nL 3513 0 \nL 2938 0 \nL 2938 2094 \nQ 2938 2591 2744 2837 \nQ 2550 3084 2163 3084 \nQ 1697 3084 1428 2787 \nQ 1159 2491 1159 1978 \nL 1159 0 \nL 581 0 \nL 581 3500 \nL 1159 3500 \nL 1159 2956 \nQ 1366 3272 1645 3428 \nQ 1925 3584 2291 3584 \nQ 2894 3584 3203 3211 \nQ 3513 2838 3513 2113 \nz\n\" transform=\"scale(0.015625)\"/>\n      <path id=\"DejaVuSans-61\" d=\"M 2194 1759 \nQ 1497 1759 1228 1600 \nQ 959 1441 959 1056 \nQ 959 750 1161 570 \nQ 1363 391 1709 391 \nQ 2188 391 2477 730 \nQ 2766 1069 2766 1631 \nL 2766 1759 \nL 2194 1759 \nz\nM 3341 1997 \nL 3341 0 \nL 2766 0 \nL 2766 531 \nQ 2569 213 2275 61 \nQ 1981 -91 1556 -91 \nQ 1019 -91 701 211 \nQ 384 513 384 1019 \nQ 384 1609 779 1909 \nQ 1175 2209 1959 2209 \nL 2766 2209 \nL 2766 2266 \nQ 2766 2663 2505 2880 \nQ 2244 3097 1772 3097 \nQ 1472 3097 1187 3025 \nQ 903 2953 641 2809 \nL 641 3341 \nQ 956 3463 1253 3523 \nQ 1550 3584 1831 3584 \nQ 2591 3584 2966 3190 \nQ 3341 2797 3341 1997 \nz\n\" transform=\"scale(0.015625)\"/>\n      <path id=\"DejaVuSans-6c\" d=\"M 603 4863 \nL 1178 4863 \nL 1178 0 \nL 603 0 \nL 603 4863 \nz\n\" transform=\"scale(0.015625)\"/>\n      <path id=\"DejaVuSans-20\" transform=\"scale(0.015625)\"/>\n      <path id=\"DejaVuSans-63\" d=\"M 3122 3366 \nL 3122 2828 \nQ 2878 2963 2633 3030 \nQ 2388 3097 2138 3097 \nQ 1578 3097 1268 2742 \nQ 959 2388 959 1747 \nQ 959 1106 1268 751 \nQ 1578 397 2138 397 \nQ 2388 397 2633 464 \nQ 2878 531 3122 666 \nL 3122 134 \nQ 2881 22 2623 -34 \nQ 2366 -91 2075 -91 \nQ 1284 -91 818 406 \nQ 353 903 353 1747 \nQ 353 2603 823 3093 \nQ 1294 3584 2113 3584 \nQ 2378 3584 2631 3529 \nQ 2884 3475 3122 3366 \nz\n\" transform=\"scale(0.015625)\"/>\n      <path id=\"DejaVuSans-6f\" d=\"M 1959 3097 \nQ 1497 3097 1228 2736 \nQ 959 2375 959 1747 \nQ 959 1119 1226 758 \nQ 1494 397 1959 397 \nQ 2419 397 2687 759 \nQ 2956 1122 2956 1747 \nQ 2956 2369 2687 2733 \nQ 2419 3097 1959 3097 \nz\nM 1959 3584 \nQ 2709 3584 3137 3096 \nQ 3566 2609 3566 1747 \nQ 3566 888 3137 398 \nQ 2709 -91 1959 -91 \nQ 1206 -91 779 398 \nQ 353 888 353 1747 \nQ 353 2609 779 3096 \nQ 1206 3584 1959 3584 \nz\n\" transform=\"scale(0.015625)\"/>\n      <path id=\"DejaVuSans-64\" d=\"M 2906 2969 \nL 2906 4863 \nL 3481 4863 \nL 3481 0 \nL 2906 0 \nL 2906 525 \nQ 2725 213 2448 61 \nQ 2172 -91 1784 -91 \nQ 1150 -91 751 415 \nQ 353 922 353 1747 \nQ 353 2572 751 3078 \nQ 1150 3584 1784 3584 \nQ 2172 3584 2448 3432 \nQ 2725 3281 2906 2969 \nz\nM 947 1747 \nQ 947 1113 1208 752 \nQ 1469 391 1925 391 \nQ 2381 391 2643 752 \nQ 2906 1113 2906 1747 \nQ 2906 2381 2643 2742 \nQ 2381 3103 1925 3103 \nQ 1469 3103 1208 2742 \nQ 947 2381 947 1747 \nz\n\" transform=\"scale(0.015625)\"/>\n      <path id=\"DejaVuSans-74\" d=\"M 1172 4494 \nL 1172 3500 \nL 2356 3500 \nL 2356 3053 \nL 1172 3053 \nL 1172 1153 \nQ 1172 725 1289 603 \nQ 1406 481 1766 481 \nL 2356 481 \nL 2356 0 \nL 1766 0 \nQ 1100 0 847 248 \nQ 594 497 594 1153 \nL 594 3053 \nL 172 3053 \nL 172 3500 \nL 594 3500 \nL 594 4494 \nL 1172 4494 \nz\n\" transform=\"scale(0.015625)\"/>\n     </defs>\n     <use xlink:href=\"#DejaVuSans-46\"/>\n     <use xlink:href=\"#DejaVuSans-69\" x=\"50.269531\"/>\n     <use xlink:href=\"#DejaVuSans-6e\" x=\"78.052734\"/>\n     <use xlink:href=\"#DejaVuSans-61\" x=\"141.431641\"/>\n     <use xlink:href=\"#DejaVuSans-6c\" x=\"202.710938\"/>\n     <use xlink:href=\"#DejaVuSans-20\" x=\"230.494141\"/>\n     <use xlink:href=\"#DejaVuSans-63\" x=\"262.28125\"/>\n     <use xlink:href=\"#DejaVuSans-6f\" x=\"317.261719\"/>\n     <use xlink:href=\"#DejaVuSans-6e\" x=\"378.443359\"/>\n     <use xlink:href=\"#DejaVuSans-64\" x=\"441.822266\"/>\n     <use xlink:href=\"#DejaVuSans-69\" x=\"505.298828\"/>\n     <use xlink:href=\"#DejaVuSans-74\" x=\"533.082031\"/>\n     <use xlink:href=\"#DejaVuSans-69\" x=\"572.291016\"/>\n     <use xlink:href=\"#DejaVuSans-6f\" x=\"600.074219\"/>\n     <use xlink:href=\"#DejaVuSans-6e\" x=\"661.255859\"/>\n    </g>\n   </g>\n  </g>\n  <g id=\"axes_2\">\n   <g id=\"patch_7\">\n    <path d=\"M 324.571125 288.430125 \nL 337.876725 288.430125 \nL 337.876725 22.318125 \nL 324.571125 22.318125 \nz\n\" style=\"fill: #ffffff\"/>\n   </g>\n   <image xlink:href=\"data:image/png;base64,\niVBORw0KGgoAAAANSUhEUgAAABIAAAFyCAYAAAD4TYq5AAAB8UlEQVR4nO2d2w0CMQwEnUtKowT6L4VQgvkYodHKLmCVfdhJjtOxXut9C6iHAKmqOrUYrLOexQBRK+I0CqZWHDUGiHQNSraPWtmoYTkC7acGm48a59oku6tg17KTPTttU0rXdNRsrp0r1IgC8lHLTTaVI8z+YNemafsyJpvBMSb75jbthVwTJpsKZPI8ElLjXGOAspuWARJeIYz2Q0BGauNaBxS80wbPI+roZ6Q2gWyBdN0fPNiGWl/Rlxqba8KZrdNoqPU11P4JFKwR8jZcKan5Rm3wLqKjNhr1JWza5FGbS200agtb0cyjviaQPwBF28+ca5Pt97kWHUgMKDXZPrGVyWbs94ktdM3XtD6NJtk9EPSziPF85Ask17QVq9HKtT+aGgSEdT8ltlAjHzVwO7JRg5gpqXG9huDUeZI18lGDgIJde6CDVrBrwmQPtR+AhMmmqAW7ZgMCNaLutEJqwa7lziPQtQ8FpNMouWkh17aPGucao5Gwafdo1AIZkx07ancwNWyDpJqWWpFxOxIetIZaB0R1v3EXoQabsGmD5xHnmq1pwZ3W5hrYa9i9X6dR8MzOnUfcfU3nGhjI2Kc13GATniFljzSMTat7IwqcR0ydLdQI+o4WtSRyZmPUbB8uAV3TUeNcg/6qwKgRRk32Gf4vtfqN5qlVmUMAAAAASUVORK5CYII=\" id=\"image77bc435507\" transform=\"scale(1 -1) translate(0 -266.4)\" x=\"324.72\" y=\"-21.6\" width=\"12.96\" height=\"266.4\"/>\n   <g id=\"matplotlib.axis_3\"/>\n   <g id=\"matplotlib.axis_4\">\n    <g id=\"ytick_8\">\n     <g id=\"line2d_15\">\n      <defs>\n       <path id=\"m12f6a974e3\" d=\"M 0 0 \nL 3.5 0 \n\" style=\"stroke: #000000; stroke-width: 0.8\"/>\n      </defs>\n      <g>\n       <use xlink:href=\"#m12f6a974e3\" x=\"337.876725\" y=\"255.294372\" style=\"stroke: #000000; stroke-width: 0.8\"/>\n      </g>\n     </g>\n     <g id=\"text_18\">\n      <!-- 0.25 -->\n      <g transform=\"translate(344.876725 259.093591) scale(0.1 -0.1)\">\n       <defs>\n        <path id=\"DejaVuSans-2e\" d=\"M 684 794 \nL 1344 794 \nL 1344 0 \nL 684 0 \nL 684 794 \nz\n\" transform=\"scale(0.015625)\"/>\n       </defs>\n       <use xlink:href=\"#DejaVuSans-30\"/>\n       <use xlink:href=\"#DejaVuSans-2e\" x=\"63.623047\"/>\n       <use xlink:href=\"#DejaVuSans-32\" x=\"95.410156\"/>\n       <use xlink:href=\"#DejaVuSans-35\" x=\"159.033203\"/>\n      </g>\n     </g>\n    </g>\n    <g id=\"ytick_9\">\n     <g id=\"line2d_16\">\n      <g>\n       <use xlink:href=\"#m12f6a974e3\" x=\"337.876725\" y=\"221.987623\" style=\"stroke: #000000; stroke-width: 0.8\"/>\n      </g>\n     </g>\n     <g id=\"text_19\">\n      <!-- 0.50 -->\n      <g transform=\"translate(344.876725 225.786842) scale(0.1 -0.1)\">\n       <use xlink:href=\"#DejaVuSans-30\"/>\n       <use xlink:href=\"#DejaVuSans-2e\" x=\"63.623047\"/>\n       <use xlink:href=\"#DejaVuSans-35\" x=\"95.410156\"/>\n       <use xlink:href=\"#DejaVuSans-30\" x=\"159.033203\"/>\n      </g>\n     </g>\n    </g>\n    <g id=\"ytick_10\">\n     <g id=\"line2d_17\">\n      <g>\n       <use xlink:href=\"#m12f6a974e3\" x=\"337.876725\" y=\"188.680874\" style=\"stroke: #000000; stroke-width: 0.8\"/>\n      </g>\n     </g>\n     <g id=\"text_20\">\n      <!-- 0.75 -->\n      <g transform=\"translate(344.876725 192.480093) scale(0.1 -0.1)\">\n       <defs>\n        <path id=\"DejaVuSans-37\" d=\"M 525 4666 \nL 3525 4666 \nL 3525 4397 \nL 1831 0 \nL 1172 0 \nL 2766 4134 \nL 525 4134 \nL 525 4666 \nz\n\" transform=\"scale(0.015625)\"/>\n       </defs>\n       <use xlink:href=\"#DejaVuSans-30\"/>\n       <use xlink:href=\"#DejaVuSans-2e\" x=\"63.623047\"/>\n       <use xlink:href=\"#DejaVuSans-37\" x=\"95.410156\"/>\n       <use xlink:href=\"#DejaVuSans-35\" x=\"159.033203\"/>\n      </g>\n     </g>\n    </g>\n    <g id=\"ytick_11\">\n     <g id=\"line2d_18\">\n      <g>\n       <use xlink:href=\"#m12f6a974e3\" x=\"337.876725\" y=\"155.374125\" style=\"stroke: #000000; stroke-width: 0.8\"/>\n      </g>\n     </g>\n     <g id=\"text_21\">\n      <!-- 1.00 -->\n      <g transform=\"translate(344.876725 159.173344) scale(0.1 -0.1)\">\n       <use xlink:href=\"#DejaVuSans-31\"/>\n       <use xlink:href=\"#DejaVuSans-2e\" x=\"63.623047\"/>\n       <use xlink:href=\"#DejaVuSans-30\" x=\"95.410156\"/>\n       <use xlink:href=\"#DejaVuSans-30\" x=\"159.033203\"/>\n      </g>\n     </g>\n    </g>\n    <g id=\"ytick_12\">\n     <g id=\"line2d_19\">\n      <g>\n       <use xlink:href=\"#m12f6a974e3\" x=\"337.876725\" y=\"122.067376\" style=\"stroke: #000000; stroke-width: 0.8\"/>\n      </g>\n     </g>\n     <g id=\"text_22\">\n      <!-- 1.25 -->\n      <g transform=\"translate(344.876725 125.866595) scale(0.1 -0.1)\">\n       <use xlink:href=\"#DejaVuSans-31\"/>\n       <use xlink:href=\"#DejaVuSans-2e\" x=\"63.623047\"/>\n       <use xlink:href=\"#DejaVuSans-32\" x=\"95.410156\"/>\n       <use xlink:href=\"#DejaVuSans-35\" x=\"159.033203\"/>\n      </g>\n     </g>\n    </g>\n    <g id=\"ytick_13\">\n     <g id=\"line2d_20\">\n      <g>\n       <use xlink:href=\"#m12f6a974e3\" x=\"337.876725\" y=\"88.760627\" style=\"stroke: #000000; stroke-width: 0.8\"/>\n      </g>\n     </g>\n     <g id=\"text_23\">\n      <!-- 1.50 -->\n      <g transform=\"translate(344.876725 92.559846) scale(0.1 -0.1)\">\n       <use xlink:href=\"#DejaVuSans-31\"/>\n       <use xlink:href=\"#DejaVuSans-2e\" x=\"63.623047\"/>\n       <use xlink:href=\"#DejaVuSans-35\" x=\"95.410156\"/>\n       <use xlink:href=\"#DejaVuSans-30\" x=\"159.033203\"/>\n      </g>\n     </g>\n    </g>\n    <g id=\"ytick_14\">\n     <g id=\"line2d_21\">\n      <g>\n       <use xlink:href=\"#m12f6a974e3\" x=\"337.876725\" y=\"55.453878\" style=\"stroke: #000000; stroke-width: 0.8\"/>\n      </g>\n     </g>\n     <g id=\"text_24\">\n      <!-- 1.75 -->\n      <g transform=\"translate(344.876725 59.253097) scale(0.1 -0.1)\">\n       <use xlink:href=\"#DejaVuSans-31\"/>\n       <use xlink:href=\"#DejaVuSans-2e\" x=\"63.623047\"/>\n       <use xlink:href=\"#DejaVuSans-37\" x=\"95.410156\"/>\n       <use xlink:href=\"#DejaVuSans-35\" x=\"159.033203\"/>\n      </g>\n     </g>\n    </g>\n   </g>\n   <g id=\"LineCollection_1\"/>\n   <g id=\"patch_8\">\n    <path d=\"M 324.571125 288.430125 \nL 331.223925 288.430125 \nL 337.876725 288.430125 \nL 337.876725 22.318125 \nL 331.223925 22.318125 \nL 324.571125 22.318125 \nL 324.571125 288.430125 \nz\n\" style=\"fill: none; stroke: #000000; stroke-width: 0.8; stroke-linejoin: miter; stroke-linecap: square\"/>\n   </g>\n  </g>\n </g>\n <defs>\n  <clipPath id=\"p14a0ffc978\">\n   <rect x=\"40.603125\" y=\"22.318125\" width=\"266.112\" height=\"266.112\"/>\n  </clipPath>\n </defs>\n</svg>\n"
     },
     "metadata": {},
     "output_type": "display_data"
    },
    {
     "data": {
      "text/plain": [
       "HBox(children=(HTML(value=\"<a href='.\\\\tmp28jhi9uc.pdf' target='_blank'>.\\\\tmp28jhi9uc.pdf</a><br>\"), HTML(val…"
      ],
      "application/vnd.jupyter.widget-view+json": {
       "version_major": 2,
       "version_minor": 0,
       "model_id": "f0b819655ca540aca67b724163621470"
      }
     },
     "metadata": {},
     "output_type": "display_data"
    }
   ],
   "execution_count": 12
  },
  {
   "metadata": {
    "ExecuteTime": {
     "end_time": "2024-09-06T09:34:45.486389Z",
     "start_time": "2024-09-06T09:34:45.479218Z"
    }
   },
   "cell_type": "code",
   "source": "assert np.allclose(solver.advectee.get(), z(t=nt*dt), atol=0.25)",
   "id": "556684f5a2e2483d",
   "outputs": [],
   "execution_count": 19
  },
  {
   "metadata": {
    "ExecuteTime": {
     "end_time": "2024-09-06T09:34:18.324878Z",
     "start_time": "2024-09-06T09:34:16.129557Z"
    }
   },
   "cell_type": "code",
   "source": [
    "os.makedirs(\"animation\", exist_ok=True)\n",
    "for i, state in enumerate(states_history):\n",
    "    state = np.flipud(state)\n",
    "    plt.imshow(state, cmap='viridis')\n",
    "    plt.axis('off')\n",
    "    plt.tight_layout()\n",
    "    plt.colorbar()\n",
    "    plt.savefig(f\"animation/frame_{i:03d}.png\")\n",
    "    plt.close()"
   ],
   "id": "cc07e0075e5b9857",
   "outputs": [],
   "execution_count": 14
  },
  {
   "metadata": {
    "ExecuteTime": {
     "end_time": "2024-09-06T09:34:19.600400Z",
     "start_time": "2024-09-06T09:34:19.595140Z"
    }
   },
   "cell_type": "code",
   "source": [
    "def merge_images_into_gif(image_folder, gif_name, duration=0.01):\n",
    "    with imageio.get_writer(gif_name, mode='I', duration=duration) as writer:\n",
    "        for filename in sorted(os.listdir(image_folder)):\n",
    "            image = imageio.v3.imread(os.path.join(image_folder, filename))\n",
    "            writer.append_data(image)"
   ],
   "id": "1888a38e39bf2395",
   "outputs": [],
   "execution_count": 15
  },
  {
   "metadata": {
    "ExecuteTime": {
     "end_time": "2024-09-06T09:34:20.915947Z",
     "start_time": "2024-09-06T09:34:20.179615Z"
    }
   },
   "cell_type": "code",
   "source": [
    "merge_images_into_gif(\"animation\", \"advection_diffusion.gif\", duration=0.01)"
   ],
   "id": "52bc22d60805baa6",
   "outputs": [],
   "execution_count": 16
  },
  {
   "metadata": {},
   "cell_type": "code",
   "source": "",
   "id": "5403105d000206da",
   "outputs": [],
   "execution_count": null
  }
 ],
 "metadata": {
  "kernelspec": {
   "display_name": "Python 3 (ipykernel)",
   "language": "python",
   "name": "python3"
  },
  "language_info": {
   "codemirror_mode": {
    "name": "ipython",
    "version": 3
   },
   "file_extension": ".py",
   "mimetype": "text/x-python",
   "name": "python",
   "nbconvert_exporter": "python",
   "pygments_lexer": "ipython3",
   "version": "3.9.2"
  }
 },
 "nbformat": 4,
 "nbformat_minor": 5
}
