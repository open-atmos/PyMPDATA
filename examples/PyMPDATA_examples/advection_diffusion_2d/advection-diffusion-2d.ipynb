{
 "cells": [
  {
   "cell_type": "markdown",
   "metadata": {},
   "source": [
    "[![Binder](https://mybinder.org/badge_logo.svg)](https://mybinder.org/v2/gh/open-atmos/PyMPDATA.git/main?urlpath=lab/tree/examples/PyMPDATA_examples/advection_diffusion_2d/advection-diffusion-2d.ipynb)\n",
    "[![Open In Colab](https://colab.research.google.com/assets/colab-badge.svg)](https://colab.research.google.com/github/open-atmos/examples/blob/main/examples/PyMPDATA_examples/advection_diffusion_2d/advection-diffusion-2d.ipynb)"
   ]
  },

  {
   "cell_type": "markdown",
   "id": "0f0ce965-3f51-41a7-82cd-5aa3892319f2",
   "metadata": {},
   "source": [
    "TOC:\n",
    "- run a basic constant-coefficient advection-diffusion simulation with Trixi.jl\n",
    "- run analogous simulation with PyMPDATA\n",
    "- compare output"
   ]
  },
  {
   "cell_type": "markdown",
   "id": "b8c794cf-a332-4291-86b5-7a72d36bd630",
   "metadata": {},
   "source": [
    "## Trixi.jl"
   ]
  },
  {
   "cell_type": "code",
   "execution_count": 1,
   "id": "e4ae33ef-e53b-45ef-9664-fb9d1cb7696f",
   "metadata": {
    "ExecuteTime": {
     "end_time": "2024-06-04T17:24:45.051652Z",
     "start_time": "2024-06-04T17:24:45.045835Z"
    }
   },
   "outputs": [
    {
     "name": "stdout",
     "output_type": "stream",
     "text": [
      "Writing hello.jl\n"
     ]
    }
   ],
   "source": [
    "%%writefile hello.jl\n",
    "print(\"Hello from Julia!\")"
   ]
  },
  {
   "cell_type": "code",
   "execution_count": 2,
   "id": "ff0181b0-62a9-4343-bdc1-ab4b25598cd2",
   "metadata": {
    "ExecuteTime": {
     "end_time": "2024-06-04T17:24:46.774614Z",
     "start_time": "2024-06-04T17:24:46.264420Z"
    }
   },
   "outputs": [
    {
     "name": "stdout",
     "output_type": "stream",
     "text": [
      "Hello from Julia!"
     ]
    }
   ],
   "source": [
    "!julia hello.jl"
   ]
  },
  {
   "cell_type": "code",
   "outputs": [
    {
     "name": "stdout",
     "output_type": "stream",
     "text": [
      "\u001B[32m\u001B[1m   Resolving\u001B[22m\u001B[39m package versions...\r\n",
      "\u001B[32m\u001B[1m  No Changes\u001B[22m\u001B[39m to `~/.julia/environments/v1.10/Project.toml`\r\n",
      "\u001B[32m\u001B[1m  No Changes\u001B[22m\u001B[39m to `~/.julia/environments/v1.10/Manifest.toml`\r\n",
      "\u001B[?25l\u001B[?25h\u001B[2K\u001B[?25h\u001B[36m\u001B[1m[ \u001B[22m\u001B[39m\u001B[36m\u001B[1mInfo: \u001B[22m\u001B[39mYou just called `trixi_include`. Julia may now compile the code, please be patient.\r\n",
      "\r\n",
      "████████╗██████╗ ██╗██╗  ██╗██╗\r\n",
      "╚══██╔══╝██╔══██╗██║╚██╗██╔╝██║\r\n",
      "   ██║   ██████╔╝██║ ╚███╔╝ ██║\r\n",
      "   ██║   ██╔══██╗██║ ██╔██╗ ██║\r\n",
      "   ██║   ██║  ██║██║██╔╝ ██╗██║\r\n",
      "   ╚═╝   ╚═╝  ╚═╝╚═╝╚═╝  ╚═╝╚═╝\r\n",
      "\r\n",
      "┌──────────────────────────────────────────────────────────────────────────────────────────────────┐\r\n",
      "│ SemidiscretizationHyperbolicParabolic                                                            │\r\n",
      "│ ═════════════════════════════════════                                                            │\r\n",
      "│ #spatial dimensions: ………………………… 2                                                                │\r\n",
      "│ mesh: ………………………………………………………………… TreeMesh{2, Trixi.SerialTree{2}} with length 341                 │\r\n",
      "│ hyperbolic equations: ……………………… LinearScalarAdvectionEquation2D                                  │\r\n",
      "│ parabolic equations: ………………………… LaplaceDiffusion2D                                               │\r\n",
      "│ initial condition: ……………………………… initial_condition_diffusive_convergence_test                     │\r\n",
      "│ source terms: …………………………………………… nothing                                                          │\r\n",
      "│ solver: …………………………………………………………… DG                                                               │\r\n",
      "│ parabolic solver: ………………………………… ViscousFormulationBassiRebay1                                    │\r\n",
      "│ total #DOFs per field: …………………… 4096                                                             │\r\n",
      "└──────────────────────────────────────────────────────────────────────────────────────────────────┘\r\n",
      "\r\n",
      "┌──────────────────────────────────────────────────────────────────────────────────────────────────┐\r\n",
      "│ TreeMesh{2, Trixi.SerialTree{2}}                                                                 │\r\n",
      "│ ════════════════════════════════                                                                 │\r\n",
      "│ center: …………………………………………………………… [0.0, 0.0]                                                       │\r\n",
      "│ length: …………………………………………………………… 2.0                                                              │\r\n",
      "│ periodicity: ……………………………………………… (true, true)                                                     │\r\n",
      "│ current #cells: ……………………………………… 341                                                              │\r\n",
      "│ #leaf-cells: ……………………………………………… 256                                                              │\r\n",
      "│ maximum #cells: ……………………………………… 30000                                                            │\r\n",
      "└──────────────────────────────────────────────────────────────────────────────────────────────────┘\r\n",
      "\r\n",
      "┌──────────────────────────────────────────────────────────────────────────────────────────────────┐\r\n",
      "│ LinearScalarAdvectionEquation2D                                                                  │\r\n",
      "│ ═══════════════════════════════                                                                  │\r\n",
      "│ #variables: ………………………………………………… 1                                                                │\r\n",
      "│ │ variable 1: …………………………………………… scalar                                                           │\r\n",
      "└──────────────────────────────────────────────────────────────────────────────────────────────────┘\r\n",
      "\r\n",
      "┌──────────────────────────────────────────────────────────────────────────────────────────────────┐\r\n",
      "│ DG{Float64}                                                                                      │\r\n",
      "│ ═══════════                                                                                      │\r\n",
      "│ basis: ……………………………………………………………… LobattoLegendreBasis{Float64}(polydeg=3)                         │\r\n",
      "│ mortar: …………………………………………………………… LobattoLegendreMortarL2{Float64}(polydeg=3)                      │\r\n",
      "│ surface integral: ………………………………… SurfaceIntegralWeakForm                                          │\r\n",
      "│ │ surface flux: ……………………………………… FluxLaxFriedrichs(max_abs_speed_naive)                           │\r\n",
      "│ volume integral: …………………………………… VolumeIntegralWeakForm                                           │\r\n",
      "└──────────────────────────────────────────────────────────────────────────────────────────────────┘\r\n",
      "\r\n",
      "┌──────────────────────────────────────────────────────────────────────────────────────────────────┐\r\n",
      "│ AnalysisCallback                                                                                 │\r\n",
      "│ ════════════════                                                                                 │\r\n",
      "│ interval: ……………………………………………………… 100                                                              │\r\n",
      "│ analyzer: ……………………………………………………… LobattoLegendreAnalyzer{Float64}(polydeg=6)                      │\r\n",
      "│ │ error 1: …………………………………………………… l2_error                                                         │\r\n",
      "│ │ error 2: …………………………………………………… linf_error                                                       │\r\n",
      "│ │ integral 1: …………………………………………… entropy_timederivative                                           │\r\n",
      "│ save analysis to file: …………………… no                                                               │\r\n",
      "└──────────────────────────────────────────────────────────────────────────────────────────────────┘\r\n",
      "\r\n",
      "┌──────────────────────────────────────────────────────────────────────────────────────────────────┐\r\n",
      "│ AliveCallback                                                                                    │\r\n",
      "│ ═════════════                                                                                    │\r\n",
      "│ interval: ……………………………………………………… 10                                                               │\r\n",
      "└──────────────────────────────────────────────────────────────────────────────────────────────────┘\r\n",
      "\r\n",
      "┌──────────────────────────────────────────────────────────────────────────────────────────────────┐\r\n",
      "│ Time integration                                                                                 │\r\n",
      "│ ════════════════                                                                                 │\r\n",
      "│ Start time: ………………………………………………… 0.0                                                              │\r\n",
      "│ Final time: ………………………………………………… 1.5                                                              │\r\n",
      "│ time integrator: …………………………………… RDPK3SpFSAL49                                                    │\r\n",
      "│ adaptive: ……………………………………………………… true                                                             │\r\n",
      "│ abstol: …………………………………………………………… 1.0e-11                                                          │\r\n",
      "│ reltol: …………………………………………………………… 1.0e-11                                                          │\r\n",
      "│ controller: ………………………………………………… PIDController(beta=[0.38, -0.18,…iter=default_dt_factor_limiter) │\r\n",
      "└──────────────────────────────────────────────────────────────────────────────────────────────────┘\r\n",
      "┌──────────────────────────────────────────────────────────────────────────────────────────────────┐\r\n",
      "│ Environment information                                                                          │\r\n",
      "│ ═══════════════════════                                                                          │\r\n",
      "│ #threads: ……………………………………………………… 1                                                                │\r\n",
      "└──────────────────────────────────────────────────────────────────────────────────────────────────┘\r\n",
      "\r\n",
      "────────────────────────────────────────────────────────────────────────────────────────────────────\r\n",
      " Simulation running 'LinearScalarAdvectionEquation2D' with DGSEM(polydeg=3)\r\n",
      "────────────────────────────────────────────────────────────────────────────────────────────────────\r\n",
      " #timesteps:                  0                run time:       4.26000000e-06 s\r\n",
      " Δt:             0.00000000e+00                └── GC time:    0.00000000e+00 s (0.000%)\r\n",
      " sim. time:      0.00000000e+00 (0.000%)       time/DOF/rhs!:         NaN s\r\n",
      "                                               PID:                   Inf s\r\n",
      " #DOFs per field:          4096                alloc'd memory:        451.544 MiB\r\n",
      " #elements:                 256\r\n",
      "\r\n",
      " Variable:       scalar        \r\n",
      " L2 error:       3.94120825e-06\r\n",
      " Linf error:     1.23670425e-05\r\n",
      " ∑∂S/∂U ⋅ Uₜ :  -1.23370054e-01\r\n",
      "────────────────────────────────────────────────────────────────────────────────────────────────────\r\n",
      "\r\n",
      "#timesteps:     10 │ Δt: 1.4678e-03 │ sim. time: 8.9814e-03 (0.599%)   │ run time: 3.2157e-02 s\r\n",
      "#timesteps:     20 │ Δt: 2.2596e-03 │ sim. time: 2.8968e-02 (1.931%)   │ run time: 3.0133e-01 s\r\n",
      "#timesteps:     30 │ Δt: 2.4082e-03 │ sim. time: 5.2575e-02 (3.505%)   │ run time: 3.3929e-01 s\r\n",
      "#timesteps:     40 │ Δt: 2.4446e-03 │ sim. time: 7.6887e-02 (5.126%)   │ run time: 3.7174e-01 s\r\n",
      "#timesteps:     50 │ Δt: 2.4640e-03 │ sim. time: 1.0144e-01 (6.763%)   │ run time: 4.0297e-01 s\r\n",
      "#timesteps:     60 │ Δt: 2.4810e-03 │ sim. time: 1.2618e-01 (8.412%)   │ run time: 4.3327e-01 s\r\n",
      "#timesteps:     70 │ Δt: 2.4978e-03 │ sim. time: 1.5108e-01 (10.072%)  │ run time: 4.6398e-01 s\r\n",
      "#timesteps:     80 │ Δt: 2.5146e-03 │ sim. time: 1.7615e-01 (11.743%)  │ run time: 4.9457e-01 s\r\n",
      "#timesteps:     90 │ Δt: 2.5317e-03 │ sim. time: 2.0139e-01 (13.426%)  │ run time: 5.2530e-01 s\r\n",
      "\r\n",
      "────────────────────────────────────────────────────────────────────────────────────────────────────\r\n",
      " Simulation running 'LinearScalarAdvectionEquation2D' with DGSEM(polydeg=3)\r\n",
      "────────────────────────────────────────────────────────────────────────────────────────────────────\r\n",
      " #timesteps:                100                run time:       7.06491364e-01 s\r\n",
      " Δt:             2.54883246e-03                └── GC time:    0.00000000e+00 s (0.000%)\r\n",
      " sim. time:      2.26801997e-01 (15.120%)      time/DOF/rhs!:  8.47595498e-08 s\r\n",
      "                                               PID:            1.50356138e-07 s\r\n",
      " #DOFs per field:          4096                alloc'd memory:        471.591 MiB\r\n",
      " #elements:                 256\r\n",
      "\r\n",
      " Variable:       scalar        \r\n",
      " L2 error:       6.43554256e-06\r\n",
      " Linf error:     2.79026749e-05\r\n",
      " ∑∂S/∂U ⋅ Uₜ :  -7.88462092e-02\r\n",
      "────────────────────────────────────────────────────────────────────────────────────────────────────\r\n",
      "\r\n",
      "#timesteps:    110 │ Δt: 2.5662e-03 │ sim. time: 2.5239e-01 (16.826%)  │ run time: 5.8787e-01 s\r\n",
      "#timesteps:    120 │ Δt: 2.5837e-03 │ sim. time: 2.7814e-01 (18.543%)  │ run time: 6.2059e-01 s\r\n",
      "#timesteps:    130 │ Δt: 2.6014e-03 │ sim. time: 3.0408e-01 (20.272%)  │ run time: 6.5676e-01 s\r\n",
      "#timesteps:    140 │ Δt: 2.6192e-03 │ sim. time: 3.3019e-01 (22.013%)  │ run time: 6.8728e-01 s\r\n",
      "#timesteps:    150 │ Δt: 2.6373e-03 │ sim. time: 3.5648e-01 (23.765%)  │ run time: 7.1794e-01 s\r\n",
      "#timesteps:    160 │ Δt: 2.6556e-03 │ sim. time: 3.8295e-01 (25.530%)  │ run time: 7.4859e-01 s\r\n",
      "#timesteps:    170 │ Δt: 2.6740e-03 │ sim. time: 4.0961e-01 (27.307%)  │ run time: 7.7907e-01 s\r\n",
      "#timesteps:    180 │ Δt: 2.6927e-03 │ sim. time: 4.3645e-01 (29.097%)  │ run time: 8.0997e-01 s\r\n",
      "#timesteps:    190 │ Δt: 2.7115e-03 │ sim. time: 4.6348e-01 (30.899%)  │ run time: 8.4024e-01 s\r\n",
      "\r\n",
      "────────────────────────────────────────────────────────────────────────────────────────────────────\r\n",
      " Simulation running 'LinearScalarAdvectionEquation2D' with DGSEM(polydeg=3)\r\n",
      "────────────────────────────────────────────────────────────────────────────────────────────────────\r\n",
      " #timesteps:                200                run time:       1.02135418e+00 s\r\n",
      " Δt:             2.73061473e-03                └── GC time:    0.00000000e+00 s (0.000%)\r\n",
      " sim. time:      4.90704058e-01 (32.714%)      time/DOF/rhs!:  8.32517599e-08 s\r\n",
      "                                               PID:            8.51323964e-08 s\r\n",
      " #DOFs per field:          4096                alloc'd memory:        471.625 MiB\r\n",
      " #elements:                 256\r\n",
      "\r\n",
      " Variable:       scalar        \r\n",
      " L2 error:       4.95974109e-06\r\n",
      " Linf error:     2.11883310e-05\r\n",
      " ∑∂S/∂U ⋅ Uₜ :  -4.68325012e-02\r\n",
      "────────────────────────────────────────────────────────────────────────────────────────────────────\r\n",
      "\r\n",
      "#timesteps:    210 │ Δt: 2.7499e-03 │ sim. time: 5.1812e-01 (34.541%)  │ run time: 9.0227e-01 s\r\n",
      "#timesteps:    220 │ Δt: 2.7695e-03 │ sim. time: 5.4572e-01 (36.382%)  │ run time: 9.3395e-01 s\r\n",
      "#timesteps:    230 │ Δt: 2.7892e-03 │ sim. time: 5.7353e-01 (38.235%)  │ run time: 9.6768e-01 s\r\n",
      "#timesteps:    240 │ Δt: 2.8092e-03 │ sim. time: 6.0153e-01 (40.102%)  │ run time: 9.9859e-01 s\r\n",
      "#timesteps:    250 │ Δt: 2.8295e-03 │ sim. time: 6.2973e-01 (41.982%)  │ run time: 1.0292e+00 s\r\n",
      "#timesteps:    260 │ Δt: 2.8500e-03 │ sim. time: 6.5814e-01 (43.876%)  │ run time: 1.0598e+00 s\r\n",
      "#timesteps:    270 │ Δt: 2.8708e-03 │ sim. time: 6.8675e-01 (45.783%)  │ run time: 1.0905e+00 s\r\n",
      "#timesteps:    280 │ Δt: 2.8918e-03 │ sim. time: 7.1558e-01 (47.705%)  │ run time: 1.1211e+00 s\r\n",
      "#timesteps:    290 │ Δt: 2.9131e-03 │ sim. time: 7.4461e-01 (49.641%)  │ run time: 1.1518e+00 s\r\n",
      "\r\n",
      "────────────────────────────────────────────────────────────────────────────────────────────────────\r\n",
      " Simulation running 'LinearScalarAdvectionEquation2D' with DGSEM(polydeg=3)\r\n",
      "────────────────────────────────────────────────────────────────────────────────────────────────────\r\n",
      " #timesteps:                300                run time:       1.33326122e+00 s\r\n",
      " Δt:             2.93468575e-03                └── GC time:    0.00000000e+00 s (0.000%)\r\n",
      " sim. time:      7.73859776e-01 (51.591%)      time/DOF/rhs!:  8.24335238e-08 s\r\n",
      "                                               PID:            8.43378833e-08 s\r\n",
      " #DOFs per field:          4096                alloc'd memory:        471.659 MiB\r\n",
      " #elements:                 256\r\n",
      "\r\n",
      " Variable:       scalar        \r\n",
      " L2 error:       3.75066049e-06\r\n",
      " Linf error:     1.62620763e-05\r\n",
      " ∑∂S/∂U ⋅ Uₜ :  -2.67798686e-02\r\n",
      "────────────────────────────────────────────────────────────────────────────────────────────────────\r\n",
      "\r\n",
      "#timesteps:    310 │ Δt: 2.9566e-03 │ sim. time: 8.0333e-01 (53.555%)  │ run time: 1.2149e+00 s\r\n",
      "#timesteps:    320 │ Δt: 2.9787e-03 │ sim. time: 8.3301e-01 (55.534%)  │ run time: 1.2455e+00 s\r\n",
      "#timesteps:    330 │ Δt: 3.0012e-03 │ sim. time: 8.6292e-01 (57.528%)  │ run time: 1.2772e+00 s\r\n",
      "#timesteps:    340 │ Δt: 3.0240e-03 │ sim. time: 8.9306e-01 (59.537%)  │ run time: 1.3083e+00 s\r\n",
      "#timesteps:    350 │ Δt: 3.0471e-03 │ sim. time: 9.2343e-01 (61.562%)  │ run time: 1.3393e+00 s\r\n",
      "#timesteps:    360 │ Δt: 3.0705e-03 │ sim. time: 9.5403e-01 (63.602%)  │ run time: 1.3712e+00 s\r\n",
      "#timesteps:    370 │ Δt: 3.0943e-03 │ sim. time: 9.8486e-01 (65.658%)  │ run time: 1.4020e+00 s\r\n",
      "#timesteps:    380 │ Δt: 3.1184e-03 │ sim. time: 1.0159e+00 (67.729%)  │ run time: 1.4326e+00 s\r\n",
      "#timesteps:    390 │ Δt: 3.1429e-03 │ sim. time: 1.0473e+00 (69.817%)  │ run time: 1.4632e+00 s\r\n",
      "\r\n",
      "────────────────────────────────────────────────────────────────────────────────────────────────────\r\n",
      " Simulation running 'LinearScalarAdvectionEquation2D' with DGSEM(polydeg=3)\r\n",
      "────────────────────────────────────────────────────────────────────────────────────────────────────\r\n",
      " #timesteps:                400                run time:       1.64398077e+00 s\r\n",
      " Δt:             3.16771500e-03                └── GC time:    0.00000000e+00 s (0.000%)\r\n",
      " sim. time:      1.07882316e+00 (71.922%)      time/DOF/rhs!:  8.21569187e-08 s\r\n",
      "                                               PID:            8.39970768e-08 s\r\n",
      " #DOFs per field:          4096                alloc'd memory:        471.693 MiB\r\n",
      " #elements:                 256\r\n",
      "\r\n",
      " Variable:       scalar        \r\n",
      " L2 error:       2.77600143e-06\r\n",
      " Linf error:     1.19923535e-05\r\n",
      " ∑∂S/∂U ⋅ Uₜ :  -1.46681258e-02\r\n",
      "────────────────────────────────────────────────────────────────────────────────────────────────────\r\n",
      "\r\n",
      "#timesteps:    410 │ Δt: 3.1929e-03 │ sim. time: 1.1106e+00 (74.043%)  │ run time: 1.5253e+00 s\r\n",
      "#timesteps:    420 │ Δt: 3.2185e-03 │ sim. time: 1.1427e+00 (76.181%)  │ run time: 1.5558e+00 s\r\n",
      "#timesteps:    430 │ Δt: 3.2445e-03 │ sim. time: 1.1750e+00 (78.336%)  │ run time: 1.5862e+00 s\r\n",
      "#timesteps:    440 │ Δt: 3.2708e-03 │ sim. time: 1.2076e+00 (80.508%)  │ run time: 1.6167e+00 s\r\n",
      "#timesteps:    450 │ Δt: 3.2976e-03 │ sim. time: 1.2405e+00 (82.699%)  │ run time: 1.6469e+00 s\r\n",
      "#timesteps:    460 │ Δt: 3.3248e-03 │ sim. time: 1.2736e+00 (84.907%)  │ run time: 1.6771e+00 s\r\n",
      "#timesteps:    470 │ Δt: 3.3525e-03 │ sim. time: 1.3070e+00 (87.134%)  │ run time: 1.7075e+00 s\r\n",
      "#timesteps:    480 │ Δt: 3.3806e-03 │ sim. time: 1.3407e+00 (89.379%)  │ run time: 1.7377e+00 s\r\n",
      "#timesteps:    490 │ Δt: 3.4091e-03 │ sim. time: 1.3746e+00 (91.643%)  │ run time: 1.7685e+00 s\r\n",
      "\r\n",
      "────────────────────────────────────────────────────────────────────────────────────────────────────\r\n",
      " Simulation running 'LinearScalarAdvectionEquation2D' with DGSEM(polydeg=3)\r\n",
      "────────────────────────────────────────────────────────────────────────────────────────────────────\r\n",
      " #timesteps:                500                run time:       1.94921319e+00 s\r\n",
      " Δt:             3.43813274e-03                └── GC time:    0.00000000e+00 s (0.000%)\r\n",
      " sim. time:      1.40889786e+00 (93.927%)      time/DOF/rhs!:  8.08499185e-08 s\r\n",
      "                                               PID:            8.25260832e-08 s\r\n",
      " #DOFs per field:          4096                alloc'd memory:        471.727 MiB\r\n",
      " #elements:                 256\r\n",
      "\r\n",
      " Variable:       scalar        \r\n",
      " L2 error:       2.00438580e-06\r\n",
      " Linf error:     8.67164463e-06\r\n",
      " ∑∂S/∂U ⋅ Uₜ :  -7.64563942e-03\r\n",
      "────────────────────────────────────────────────────────────────────────────────────────────────────\r\n",
      "\r\n",
      "#timesteps:    510 │ Δt: 3.4676e-03 │ sim. time: 1.4434e+00 (96.229%)  │ run time: 1.8305e+00 s\r\n",
      "#timesteps:    520 │ Δt: 3.4976e-03 │ sim. time: 1.4783e+00 (98.552%)  │ run time: 1.8608e+00 s\r\n",
      "\r\n",
      "────────────────────────────────────────────────────────────────────────────────────────────────────\r\n",
      " Simulation running 'LinearScalarAdvectionEquation2D' with DGSEM(polydeg=3)\r\n",
      "────────────────────────────────────────────────────────────────────────────────────────────────────\r\n",
      " #timesteps:                527                run time:       2.03231776e+00 s\r\n",
      " Δt:             6.68694451e-04                └── GC time:    0.00000000e+00 s (0.000%)\r\n",
      " sim. time:      1.50000000e+00 (100.000%)     time/DOF/rhs!:  8.08330248e-08 s\r\n",
      "                                               PID:            8.25040479e-08 s\r\n",
      " #DOFs per field:          4096                alloc'd memory:        471.742 MiB\r\n",
      " #elements:                 256\r\n",
      "\r\n",
      " Variable:       scalar        \r\n",
      " L2 error:       1.83208518e-06\r\n",
      " Linf error:     7.87067759e-06\r\n",
      " ∑∂S/∂U ⋅ Uₜ :  -6.38727063e-03\r\n",
      "────────────────────────────────────────────────────────────────────────────────────────────────────\r\n",
      "\r\n",
      "────────────────────────────────────────────────────────────────────────────────────────────────────\r\n",
      "Trixi.jl simulation finished.  Final time: 1.5  Time steps: 527 (accepted), 527 (total)\r\n",
      "────────────────────────────────────────────────────────────────────────────────────────────────────\r\n",
      "\r\n",
      "\u001B[0m\u001B[1m ────────────────────────────────────────────────────────────────────────────────\u001B[22m\r\n",
      "\u001B[0m\u001B[1m            Trixi.jl           \u001B[22m         Time                    Allocations      \r\n",
      "                               ───────────────────────   ────────────────────────\r\n",
      "       Tot / % measured:            2.06s /  84.3%           22.2MiB /  34.7%    \r\n",
      "\r\n",
      " Section               ncalls     time    %tot     avg     alloc    %tot      avg\r\n",
      " ────────────────────────────────────────────────────────────────────────────────\r\n",
      " parabolic rhs!         4.75k    1.18s   68.0%   249μs   18.1KiB    0.2%    3.91B\r\n",
      "   calculate gradient   4.75k    571ms   32.8%   120μs   7.34KiB    0.1%    1.58B\r\n",
      "     volume integral    4.75k    313ms   18.0%  65.9μs     0.00B    0.0%    0.00B\r\n",
      "     ~calculate gra...  4.75k   67.0ms    3.9%  14.1μs   7.34KiB    0.1%    1.58B\r\n",
      "     Jacobian           4.75k   46.5ms    2.7%  9.80μs     0.00B    0.0%    0.00B\r\n",
      "     interface flux     4.75k   39.1ms    2.3%  8.25μs     0.00B    0.0%    0.00B\r\n",
      "     surface integral   4.75k   35.8ms    2.1%  7.54μs     0.00B    0.0%    0.00B\r\n",
      "     prolong2interf...  4.75k   35.5ms    2.0%  7.47μs     0.00B    0.0%    0.00B\r\n",
      "     reset gradients    4.75k   10.5ms    0.6%  2.22μs     0.00B    0.0%    0.00B\r\n",
      "     prolong2mortars    4.75k   5.99ms    0.3%  1.26μs     0.00B    0.0%    0.00B\r\n",
      "     prolong2bounda...  4.75k   5.93ms    0.3%  1.25μs     0.00B    0.0%    0.00B\r\n",
      "     mortar flux        4.75k   5.86ms    0.3%  1.24μs     0.00B    0.0%    0.00B\r\n",
      "     boundary flux      4.75k   5.65ms    0.3%  1.19μs     0.00B    0.0%    0.00B\r\n",
      "   volume integral      4.75k    207ms   11.9%  43.7μs     0.00B    0.0%    0.00B\r\n",
      "   calculate viscou...  4.75k    145ms    8.4%  30.6μs     0.00B    0.0%    0.00B\r\n",
      "   ~parabolic rhs!~     4.75k   84.9ms    4.9%  17.9μs   10.8KiB    0.1%    2.33B\r\n",
      "   interface flux       4.75k   39.0ms    2.2%  8.21μs     0.00B    0.0%    0.00B\r\n",
      "   transform variables  4.75k   38.4ms    2.2%  8.09μs     0.00B    0.0%    0.00B\r\n",
      "   prolong2interfaces   4.75k   34.6ms    2.0%  7.28μs     0.00B    0.0%    0.00B\r\n",
      "   surface integral     4.75k   22.0ms    1.3%  4.63μs     0.00B    0.0%    0.00B\r\n",
      "   Jacobian             4.75k   8.33ms    0.5%  1.75μs     0.00B    0.0%    0.00B\r\n",
      "   reset ∂u/∂t          4.75k   7.67ms    0.4%  1.62μs     0.00B    0.0%    0.00B\r\n",
      "   prolong2boundaries   4.75k   5.96ms    0.3%  1.26μs     0.00B    0.0%    0.00B\r\n",
      "   prolong2mortars      4.75k   5.91ms    0.3%  1.25μs     0.00B    0.0%    0.00B\r\n",
      "   mortar flux          4.75k   5.88ms    0.3%  1.24μs     0.00B    0.0%    0.00B\r\n",
      "   boundary flux        4.75k   5.60ms    0.3%  1.18μs     0.00B    0.0%    0.00B\r\n",
      " rhs!                   4.75k    401ms   23.0%  84.4μs   9.33KiB    0.1%    2.01B\r\n",
      "   volume integral      4.75k    194ms   11.2%  41.0μs     0.00B    0.0%    0.00B\r\n",
      "   ~rhs!~               4.75k   72.7ms    4.2%  15.3μs   9.33KiB    0.1%    2.01B\r\n",
      "   interface flux       4.75k   46.2ms    2.7%  9.74μs     0.00B    0.0%    0.00B\r\n",
      "   surface integral     4.75k   22.1ms    1.3%  4.65μs     0.00B    0.0%    0.00B\r\n",
      "   prolong2interfaces   4.75k   20.5ms    1.2%  4.32μs     0.00B    0.0%    0.00B\r\n",
      "   Jacobian             4.75k   8.23ms    0.5%  1.73μs     0.00B    0.0%    0.00B\r\n",
      "   reset ∂u/∂t          4.75k   7.75ms    0.4%  1.63μs     0.00B    0.0%    0.00B\r\n",
      "   prolong2mortars      4.75k   5.89ms    0.3%  1.24μs     0.00B    0.0%    0.00B\r\n",
      "   mortar flux          4.75k   5.88ms    0.3%  1.24μs     0.00B    0.0%    0.00B\r\n",
      "   prolong2boundaries   4.75k   5.84ms    0.3%  1.23μs     0.00B    0.0%    0.00B\r\n",
      "   source terms         4.75k   5.57ms    0.3%  1.17μs     0.00B    0.0%    0.00B\r\n",
      "   boundary flux        4.75k   5.57ms    0.3%  1.17μs     0.00B    0.0%    0.00B\r\n",
      " analyze solution           7    156ms    9.0%  22.3ms   7.67MiB   99.7%  1.10MiB\r\n",
      "\u001B[0m\u001B[1m ────────────────────────────────────────────────────────────────────────────────\u001B[22m\r\n",
      "\r\n",
      "(:u, :u_analytic, :errors, :t, :k, :prob, :alg, :interp, :dense, :tslocation, :stats, :alg_choice, :retcode)"
     ]
    }
   ],
   "source": [
    "!julia -e \"import Pkg; Pkg.add([\\\"OrdinaryDiffEq\\\", \\\"Trixi\\\", \\\"Plots\\\"]); using Trixi, OrdinaryDiffEq; trixi_include(joinpath(examples_dir(), \\\"tree_2d_dgsem\\\", \\\"elixir_advection_diffusion.jl\\\")); print(fieldnames(typeof(sol)))\""
   ],
   "metadata": {
    "collapsed": false,
    "ExecuteTime": {
     "end_time": "2024-06-04T17:59:04.749650Z",
     "start_time": "2024-06-04T17:58:23.761899Z"
    }
   },
   "id": "f04577faee6582f9",
   "execution_count": 25
  },
  {
   "cell_type": "markdown",
   "id": "75f6957f-ce10-4902-9d1f-f3485350218f",
   "metadata": {},
   "source": [
    "## PyMPDATA"
   ]
  },
  {
   "cell_type": "code",
   "execution_count": 3,
   "id": "initial_id",
   "metadata": {
    "ExecuteTime": {
     "end_time": "2024-05-27T20:39:18.482931Z",
     "start_time": "2024-05-27T20:39:17.180403Z"
    }
   },
   "outputs": [],
   "source": [
    "import os\n",
    "import numpy as np\n",
    "import sympy as sp\n",
    "from IPython.display import display\n",
    "from ipywidgets import FloatProgress\n",
    "import matplotlib.pyplot as plt\n",
    "from matplotlib.animation import FuncAnimation\n",
    "# from open_atmos_jupyter_utils import show_plot\n",
    "from PyMPDATA import Solver, ScalarField, VectorField, Stepper, Options\n",
    "from PyMPDATA.boundary_conditions import Periodic"
   ]
  },
  {
   "cell_type": "code",
   "execution_count": 4,
   "id": "d250dea0d2fa492f",
   "metadata": {
    "ExecuteTime": {
     "end_time": "2024-05-27T20:48:32.245757Z",
     "start_time": "2024-05-27T20:48:32.238675Z"
    }
   },
   "outputs": [],
   "source": [
    "steps_per_iter = 1\n",
    "opt = Options(n_iters=3, non_zero_mu_coeff=True, infinite_gauge=True, nonoscillatory=True)"
   ]
  },
  {
   "cell_type": "code",
   "execution_count": 5,
   "id": "6f97795f4265b959",
   "metadata": {
    "ExecuteTime": {
     "end_time": "2024-05-27T21:01:07.417026Z",
     "start_time": "2024-05-27T21:01:07.412070Z"
    }
   },
   "outputs": [],
   "source": [
    "nx = 64\n",
    "ny = 64\n",
    "x0 = -1.\n",
    "y0 = -1.\n",
    "boundary_conditions = (Periodic(), Periodic())"
   ]
  },
  {
   "cell_type": "code",
   "execution_count": 6,
   "id": "25b45beff0117518",
   "metadata": {
    "ExecuteTime": {
     "end_time": "2024-05-27T21:01:08.064946Z",
     "start_time": "2024-05-27T21:01:08.056155Z"
    }
   },
   "outputs": [],
   "source": [
    "mu = 0.05\n",
    "c = 1.\n",
    "min_x, min_y = -1, -1\n",
    "max_x, max_y = 1, 1\n",
    "dx = (max_x - min_x) / nx\n",
    "dy = (max_y - min_y) / ny\n",
    "solution_symbolic = sp.sympify(\"sin(pi*(x+y))*exp(-mu*pi**2*t) + 1\", rational=True)\n",
    "solution = solution_symbolic.subs({\"mu\": mu})"
   ]
  },
  {
   "cell_type": "code",
   "execution_count": 7,
   "id": "c159d1f052dc2b64",
   "metadata": {
    "ExecuteTime": {
     "end_time": "2024-05-27T21:01:08.822754Z",
     "start_time": "2024-05-27T21:01:08.808637Z"
    }
   },
   "outputs": [],
   "source": [
    "def init_conditions(x, y):\n",
    "    return solution_symbolic.subs({\"t\":0, \"x\": x, \"y\": y}).evalf()"
   ]
  },
  {
   "cell_type": "code",
   "execution_count": 8,
   "id": "b001ff332724502",
   "metadata": {
    "ExecuteTime": {
     "end_time": "2024-05-27T21:15:24.067248Z",
     "start_time": "2024-05-27T21:15:21.997328Z"
    }
   },
   "outputs": [],
   "source": [
    "z = np.array([[init_conditions(x, y) for x in np.linspace(min_x, max_x, nx)] for y in np.linspace(min_y, max_y, ny)], dtype=float).reshape((nx, ny))"
   ]
  },
  {
   "cell_type": "code",
   "execution_count": 9,
   "id": "8f1be20a839a5d59",
   "metadata": {
    "ExecuteTime": {
     "end_time": "2024-05-27T21:15:24.082616Z",
     "start_time": "2024-05-27T21:15:24.070238Z"
    }
   },
   "outputs": [],
   "source": [
    "advectee = ScalarField(data=z, halo=opt.n_halo, boundary_conditions=boundary_conditions)"
   ]
  },
  {
   "cell_type": "code",
   "execution_count": 10,
   "id": "70482d29c0d0c4ed",
   "metadata": {
    "ExecuteTime": {
     "end_time": "2024-05-27T21:15:24.114445Z",
     "start_time": "2024-05-27T21:15:24.084166Z"
    }
   },
   "outputs": [],
   "source": [
    "# create a vector field for the velocity, 1.5 in x direction and 1 in y direction\n",
    "field_x = np.full((nx+1, ny), 0.15, dtype=opt.dtype)\n",
    "field_y = np.full((nx, ny+1), 0.1, dtype=opt.dtype)\n",
    "advector = VectorField(\n",
    "    data=(field_x, field_y),\n",
    "    halo=opt.n_halo,\n",
    "    boundary_conditions=(boundary_conditions[0], Periodic())\n",
    ")"
   ]
  },
  {
   "cell_type": "code",
   "execution_count": 11,
   "id": "79a4fcc5da244dc2",
   "metadata": {
    "ExecuteTime": {
     "end_time": "2024-05-27T21:15:24.129245Z",
     "start_time": "2024-05-27T21:15:24.116462Z"
    }
   },
   "outputs": [],
   "source": [
    "stepper = Stepper(options=opt, n_dims=2)"
   ]
  },
  {
   "cell_type": "code",
   "execution_count": 12,
   "id": "ef6bf4fc8253d460",
   "metadata": {
    "ExecuteTime": {
     "end_time": "2024-05-27T21:15:24.283410Z",
     "start_time": "2024-05-27T21:15:24.263992Z"
    }
   },
   "outputs": [],
   "source": [
    "# create a solver\n",
    "solver = Solver(stepper=stepper, advector=advector, advectee=advectee)"
   ]
  },
  {
   "cell_type": "code",
   "execution_count": 13,
   "id": "488a82b9cfa32f85",
   "metadata": {
    "ExecuteTime": {
     "end_time": "2024-05-27T21:15:24.793277Z",
     "start_time": "2024-05-27T21:15:24.572896Z"
    }
   },
   "outputs": [
    {
     "data": {
      "text/plain": [
       "<matplotlib.colorbar.Colorbar at 0x76fe89c0c940>"
      ]
     },
     "execution_count": 13,
     "metadata": {},
     "output_type": "execute_result"
    },
    {
     "data": {
      "image/png": "[encoded data removed]",
      "text/plain": [
       "<Figure size 640x480 with 2 Axes>"
      ]
     },
     "metadata": {},
     "output_type": "display_data"
    }
   ],
   "source": [
    "plt.imshow(solver.advectee.get().copy(), cmap='viridis')\n",
    "plt.colorbar()"
   ]
  },
  {
   "cell_type": "code",
   "execution_count": null,
   "id": "10c8b608e7cb6131",
   "metadata": {
    "ExecuteTime": {
     "end_time": "2024-05-27T21:15:26.465751Z",
     "start_time": "2024-05-27T21:15:24.883305Z"
    }
   },
   "outputs": [
    {
     "data": {
      "application/vnd.jupyter.widget-view+json": {
       "model_id": "aac90a32240d4e219ab40946863c85f5",
       "version_major": 2,
       "version_minor": 0
      },
      "text/plain": [
       "FloatProgress(value=0.0, max=1.0)"
      ]
     },
     "metadata": {},
     "output_type": "display_data"
    }
   ],
   "source": [
    "progbar = FloatProgress(value=0, min=0, max=1)\n",
    "display(progbar)\n",
    "\n",
    "states_history = [solver.advectee.get().copy()]\n",
    "n_range = 100\n",
    "for i in range(n_range):\n",
    "    solver.advance(n_steps=10, mu_coeff=(mu, mu))\n",
    "    states_history.append(solver.advectee.get().copy())\n",
    "    progbar.value = (i + 1.) / n_range"
   ]
  },
  {
   "cell_type": "code",
   "execution_count": null,
   "id": "cc74f23aa445dae1",
   "metadata": {
    "ExecuteTime": {
     "end_time": "2024-05-27T21:15:40.368402Z",
     "start_time": "2024-05-27T21:15:26.467753Z"
    }
   },
   "outputs": [],
   "source": [
    "# save each frame as a png to animation2 folder\n",
    "os.makedirs(\"animation2\", exist_ok=True)\n",
    "for i, state in enumerate(states_history):\n",
    "    # flip the image vertically\n",
    "    state = np.flipud(state)\n",
    "    plt.imshow(state, cmap='viridis')\n",
    "    plt.colorbar()\n",
    "    plt.savefig(f\"animation2/frame_{i:03d}.png\")\n",
    "    plt.close()"
   ]
  },
  {
   "cell_type": "code",
   "execution_count": null,
   "id": "6bb1f2b386a12f37",
   "metadata": {
    "ExecuteTime": {
     "end_time": "2024-05-27T21:17:16.738015Z",
     "start_time": "2024-05-27T21:17:16.721706Z"
    }
   },
   "outputs": [],
   "source": [
    "def get_advection_diffusion_gif(states):\n",
    "    fig, ax = plt.subplots()\n",
    "    ax.set_xlim(0, nx)\n",
    "    ax.set_ylim(0, ny)\n",
    "    ax.set_xlabel(\"x\")\n",
    "    ax.set_ylabel(\"y\")\n",
    "    ax.set_title(\"Advection-Diffusion Equation\")\n",
    "    im = ax.imshow(states[0], cmap='viridis')\n",
    "    def update(i):\n",
    "        im.set_array(states[i])\n",
    "        return im\n",
    "    anim = FuncAnimation(fig, update, frames=len(states), blit=True)\n",
    "    \n",
    "    anim.save(\"advection_diffusion.gif\", writer='imagemagick', fps=10)"
   ]
  },
  {
   "cell_type": "code",
   "execution_count": null,
   "id": "ccab8faafade1978",
   "metadata": {
    "ExecuteTime": {
     "end_time": "2024-05-27T21:18:42.725013Z",
     "start_time": "2024-05-27T21:17:18.464189Z"
    }
   },
   "outputs": [],
   "source": [
    "get_advection_diffusion_gif(states_history)"
   ]
  },
  {
   "cell_type": "code",
   "execution_count": null,
   "id": "89f1aba4e7df8dc3",
   "metadata": {},
   "outputs": [],
   "source": []
  }
 ],
 "metadata": {
  "kernelspec": {
   "display_name": "Python 3 (ipykernel)",
   "language": "python",
   "name": "python3"
  },
  "language_info": {
   "codemirror_mode": {
    "name": "ipython",
    "version": 3
   },
   "file_extension": ".py",
   "mimetype": "text/x-python",
   "name": "python",
   "nbconvert_exporter": "python",
   "pygments_lexer": "ipython3",
   "version": "3.9.2"
  }
 },
 "nbformat": 4,
 "nbformat_minor": 5
}
