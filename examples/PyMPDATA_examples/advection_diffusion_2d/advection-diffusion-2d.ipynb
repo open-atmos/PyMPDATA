{
 "cells": [
  {
   "cell_type": "markdown",
   "id": "e333839d",
   "metadata": {},
   "source": [
    "[![Binder](https://mybinder.org/badge_logo.svg)](https://mybinder.org/v2/gh/open-atmos/PyMPDATA.git/main?urlpath=lab/tree/examples/PyMPDATA_examples/advection_diffusion_2d/advection-diffusion-2d.ipynb)\n",
    "[![Open In Colab](https://colab.research.google.com/assets/colab-badge.svg)](https://colab.research.google.com/github/open-atmos/examples/blob/main/examples/PyMPDATA_examples/advection_diffusion_2d/advection-diffusion-2d.ipynb)"
   ]
  },
  {
   "cell_type": "markdown",
   "id": "0f0ce965-3f51-41a7-82cd-5aa3892319f2",
   "metadata": {},
   "source": [
    "TOC:\n",
    "- run a basic constant-coefficient advection-diffusion simulation with Trixi.jl\n",
    "- run analogous simulation with PyMPDATA\n",
    "- compare output"
   ]
  },
  {
   "cell_type": "markdown",
   "id": "0f162ce9-5704-4464-8b67-be8c86ecabc8",
   "metadata": {},
   "source": [
    "## common settings"
   ]
  },
  {
   "cell_type": "code",
   "execution_count": 1,
   "id": "cc93c40c-e96a-4cb4-85c9-6a1dc8785859",
   "metadata": {},
   "outputs": [],
   "source": [
    "SETUP = {\n",
    "    \"nx\": 32,\n",
    "    \"ny\": 16,\n",
    "    \"Cx\": 0.5,\n",
    "    \"Cy\": 0.25,\n",
    "    \"dt\": 1.0\n",
    "}\n",
    "\n",
    "import json\n",
    "with open('setup.json', 'w', encoding='UTF-8') as f:\n",
    "    json.dump(SETUP, f)"
   ]
  },
  {
   "cell_type": "markdown",
   "id": "b8c794cf-a332-4291-86b5-7a72d36bd630",
   "metadata": {},
   "source": [
    "## Trixi.jl"
   ]
  },
  {
   "cell_type": "code",
   "execution_count": 2,
   "id": "e4ae33ef-e53b-45ef-9664-fb9d1cb7696f",
   "metadata": {
    "ExecuteTime": {
     "end_time": "2024-06-04T17:24:45.051652Z",
     "start_time": "2024-06-04T17:24:45.045835Z"
    }
   },
   "outputs": [
    {
     "name": "stdout",
     "output_type": "stream",
     "text": [
      "Overwriting trixi.jl\n"
     ]
    }
   ],
   "source": [
    "%%writefile trixi.jl\n",
    "import Pkg\n",
    "Pkg.add([\"JSON\", \"Trixi\", \"OrdinaryDiffEq\"])\n",
    "using JSON, Trixi, OrdinaryDiffEq\n",
    "\n",
    "setup = JSON.parsefile(\"setup.json\")\n",
    "\n",
    "solver = DGSEM(polydeg=0)\n",
    "equations = LinearScalarAdvectionEquation2D(setup[\"Cx\"], setup[\"Cy\"])\n",
    "\n",
    "function initial_condition(x, t, equations::LinearScalarAdvectionEquation2D)\n",
    "    return SVector(exp(-100 * (x[1]^2 + x[2]^2)))\n",
    "end\n",
    "\n",
    "cells_per_dimension = (setup[\"nx\"], setup[\"ny\"]) \n",
    "coordinates_min = (-1.0, -1.0)\n",
    "coordinates_max = ( 1.0,  1.0)\n",
    "\n",
    "mesh = StructuredMesh(cells_per_dimension, coordinates_min, coordinates_max; periodicity=true)\n",
    "semi = SemidiscretizationHyperbolic(mesh, equations, initial_condition, solver) \n",
    "\n",
    "tspan = (0.0, 0.1)\n",
    "ode = semidiscretize(semi, tspan)\n",
    "\n",
    "summary_callback = SummaryCallback()\n",
    "save_solution = SaveSolutionCallback(dt = setup[\"dt\"],\n",
    "                                     save_initial_solution = true,\n",
    "                                     save_final_solution = true)\n",
    "\n",
    "callbacks = CallbackSet(summary_callback, save_solution)\n",
    "\n",
    "time_int_tol = 1e-6\n",
    "sol = solve(ode, SSPRK33(); abstol = time_int_tol, reltol = time_int_tol,\n",
    "            dt = setup[\"dt\"], ode_default_options()..., callback = callbacks)\n",
    "\n",
    "summary_callback()"
   ]
  },
  {
   "cell_type": "code",
   "execution_count": 3,
   "id": "ff0181b0-62a9-4343-bdc1-ab4b25598cd2",
   "metadata": {
    "ExecuteTime": {
     "end_time": "2024-06-04T17:24:46.774614Z",
     "start_time": "2024-06-04T17:24:46.264420Z"
    }
   },
   "outputs": [
    {
     "name": "stdout",
     "output_type": "stream",
     "text": [
      "\u001b]0;Julia\u0007\u001b]0;Julia\u0007\u001b[32m\u001b[1m    Updating\u001b[22m\u001b[39m registry at `~/.julia/registries/General.toml`\n",
      "\u001b[?25h\u001b[2K[1mDownloading\u001b[22m\u001b[39m [=========================>               ]  61.2 %%.0 %\u001b[32m\u001b[1m   Resolving\u001b[22m\u001b[39m package versions...\n",
      "\u001b[32m\u001b[1m  No Changes\u001b[22m\u001b[39m to `~/.julia/environments/v1.10/Project.toml`\n",
      "\u001b[32m\u001b[1m  No Changes\u001b[22m\u001b[39m to `~/.julia/environments/v1.10/Manifest.toml`\n",
      "\u001b[?25l\u001b[?25h\u001b[2K\u001b[?25h\n",
      "████████╗██████╗ ██╗██╗  ██╗██╗\n",
      "╚══██╔══╝██╔══██╗██║╚██╗██╔╝██║\n",
      "   ██║   ██████╔╝██║ ╚███╔╝ ██║\n",
      "   ██║   ██╔══██╗██║ ██╔██╗ ██║\n",
      "   ██║   ██║  ██║██║██╔╝ ██╗██║\n",
      "   ╚═╝   ╚═╝  ╚═╝╚═╝╚═╝  ╚═╝╚═╝\n",
      "\n",
      "┌──────────────────────────────────────────────────────────────────────────────────────────────────┐\n",
      "│ SemidiscretizationHyperbolic                                                                     │\n",
      "│ ════════════════════════════                                                                     │\n",
      "│ #spatial dimensions: ………………………… 2                                                                │\n",
      "│ mesh: ………………………………………………………………… StructuredMesh{2, Float64}                                       │\n",
      "│ equations: …………………………………………………… LinearScalarAdvectionEquation2D                                  │\n",
      "│ initial condition: ……………………………… initial_condition                                                │\n",
      "│ boundary conditions: ………………………… Trixi.BoundaryConditionPeriodic                                  │\n",
      "│ source terms: …………………………………………… nothing                                                          │\n",
      "│ solver: …………………………………………………………… DG                                                               │\n",
      "│ total #DOFs per field: …………………… 512                                                              │\n",
      "└──────────────────────────────────────────────────────────────────────────────────────────────────┘\n",
      "\n",
      "┌──────────────────────────────────────────────────────────────────────────────────────────────────┐\n",
      "│ StructuredMesh{2, Float64}                                                                       │\n",
      "│ ══════════════════════════                                                                       │\n",
      "│ size: ………………………………………………………………… (32, 16)                                                         │\n",
      "│ mapping: …………………………………………………………                                                                  │\n",
      "│ │ line 1: ……………………………………………………… coordinates_min = (-1.0, -1.0)\n",
      "c…ordinates_min, coordinates_max) │\n",
      "└──────────────────────────────────────────────────────────────────────────────────────────────────┘\n",
      "\n",
      "┌──────────────────────────────────────────────────────────────────────────────────────────────────┐\n",
      "│ LinearScalarAdvectionEquation2D                                                                  │\n",
      "│ ═══════════════════════════════                                                                  │\n",
      "│ #variables: ………………………………………………… 1                                                                │\n",
      "│ │ variable 1: …………………………………………… scalar                                                           │\n",
      "└──────────────────────────────────────────────────────────────────────────────────────────────────┘\n",
      "\n",
      "┌──────────────────────────────────────────────────────────────────────────────────────────────────┐\n",
      "│ DG{Float64}                                                                                      │\n",
      "│ ═══════════                                                                                      │\n",
      "│ basis: ……………………………………………………………… LobattoLegendreBasis{Float64}(polydeg=0)                         │\n",
      "│ mortar: …………………………………………………………… LobattoLegendreMortarL2{Float64}(polydeg=0)                      │\n",
      "│ surface integral: ………………………………… SurfaceIntegralWeakForm                                          │\n",
      "│ │ surface flux: ……………………………………… flux_central                                                     │\n",
      "│ volume integral: …………………………………… VolumeIntegralWeakForm                                           │\n",
      "└──────────────────────────────────────────────────────────────────────────────────────────────────┘\n",
      "\n",
      "┌──────────────────────────────────────────────────────────────────────────────────────────────────┐\n",
      "│ SaveSolutionCallback                                                                             │\n",
      "│ ════════════════════                                                                             │\n",
      "│ dt: ……………………………………………………………………… 1.0                                                              │\n",
      "│ solution variables: …………………………… cons2prim                                                        │\n",
      "│ save initial solution: …………………… yes                                                              │\n",
      "│ save final solution: ………………………… yes                                                              │\n",
      "│ output directory: ………………………………… /home/user/devel/PyMPDATA/exampl…ples/advection_diffusion_2d/out │\n",
      "└──────────────────────────────────────────────────────────────────────────────────────────────────┘\n",
      "\n",
      "┌──────────────────────────────────────────────────────────────────────────────────────────────────┐\n",
      "│ Time integration                                                                                 │\n",
      "│ ════════════════                                                                                 │\n",
      "│ Start time: ………………………………………………… 0.0                                                              │\n",
      "│ Final time: ………………………………………………… 0.1                                                              │\n",
      "│ time integrator: …………………………………… SSPRK33                                                          │\n",
      "│ adaptive: ……………………………………………………… false                                                            │\n",
      "└──────────────────────────────────────────────────────────────────────────────────────────────────┘\n",
      "┌──────────────────────────────────────────────────────────────────────────────────────────────────┐\n",
      "│ Environment information                                                                          │\n",
      "│ ═══════════════════════                                                                          │\n",
      "│ #threads: ……………………………………………………… 1                                                                │\n",
      "└──────────────────────────────────────────────────────────────────────────────────────────────────┘\n",
      "\u001b[0m\u001b[1m ────────────────────────────────────────────────────────────────────────────────\u001b[22m\n",
      "\u001b[0m\u001b[1m            Trixi.jl           \u001b[22m         Time                    Allocations      \n",
      "                               ───────────────────────   ────────────────────────\n",
      "       Tot / % measured:            804ms /  96.3%           9.00MiB /  81.5%    \n",
      "\n",
      " Section               ncalls     time    %tot     avg     alloc    %tot      avg\n",
      " ────────────────────────────────────────────────────────────────────────────────\n",
      " I/O                        3    774ms  100.0%   258ms   7.33MiB   99.9%  2.44MiB\n",
      "   ~I/O~                    3    446ms   57.6%   149ms    228KiB    3.0%  76.1KiB\n",
      "   save solution            2    329ms   42.4%   164ms   7.11MiB   96.9%  3.55MiB\n",
      "   get element vari...      2   2.88μs    0.0%  1.44μs     0.00B    0.0%    0.00B\n",
      "   save mesh                2    477ns    0.0%   238ns     0.00B    0.0%    0.00B\n",
      "   get node variables       2    379ns    0.0%   190ns     0.00B    0.0%    0.00B\n",
      " rhs!                       3   70.8μs    0.0%  23.6μs   5.14KiB    0.1%  1.71KiB\n",
      "   interface flux           3   46.2μs    0.0%  15.4μs     0.00B    0.0%    0.00B\n",
      "   ~rhs!~                   3   11.5μs    0.0%  3.83μs   5.14KiB    0.1%  1.71KiB\n",
      "   volume integral          3   4.53μs    0.0%  1.51μs     0.00B    0.0%    0.00B\n",
      "   surface integral         3   3.70μs    0.0%  1.23μs     0.00B    0.0%    0.00B\n",
      "   Jacobian                 3   1.96μs    0.0%   653ns     0.00B    0.0%    0.00B\n",
      "   reset ∂u/∂t              3   1.40μs    0.0%   467ns     0.00B    0.0%    0.00B\n",
      "   boundary flux            3   1.05μs    0.0%   351ns     0.00B    0.0%    0.00B\n",
      "   source terms             3    476ns    0.0%   159ns     0.00B    0.0%    0.00B\n",
      "\u001b[0m\u001b[1m ────────────────────────────────────────────────────────────────────────────────\u001b[22m\n",
      "\n"
     ]
    }
   ],
   "source": [
    "!~/.juliaup/bin/julia trixi.jl"
   ]
  },
  {
   "cell_type": "code",
   "execution_count": 50,
   "id": "cbed45fc-b685-415e-b04c-7a0db4b732bc",
   "metadata": {},
   "outputs": [
    {
     "data": {
      "image/png": "[encoded data removed]",
      "text/plain": [
       "<Figure size 640x480 with 2 Axes>"
      ]
     },
     "metadata": {},
     "output_type": "display_data"
    }
   ],
   "source": [
    "import h5py\n",
    "import matplotlib.pyplot as plt\n",
    "\n",
    "with h5py.File('out/solution_000000.h5', 'r') as f:\n",
    "    plt.imshow(f['variables_1'][:].reshape(SETUP['ny'], SETUP['nx']).transpose())\n",
    "    plt.colorbar()"
   ]
  },
  {
   "cell_type": "markdown",
   "id": "75f6957f-ce10-4902-9d1f-f3485350218f",
   "metadata": {},
   "source": [
    "## PyMPDATA"
   ]
  },
  {
   "cell_type": "code",
   "execution_count": 5,
   "id": "initial_id",
   "metadata": {
    "ExecuteTime": {
     "end_time": "2024-05-27T20:39:18.482931Z",
     "start_time": "2024-05-27T20:39:17.180403Z"
    }
   },
   "outputs": [],
   "source": [
    "import os\n",
    "import numpy as np\n",
    "import sympy as sp\n",
    "from IPython.display import display\n",
    "from ipywidgets import FloatProgress\n",
    "from matplotlib.animation import FuncAnimation\n",
    "# from open_atmos_jupyter_utils import show_plot\n",
    "from PyMPDATA import Solver, ScalarField, VectorField, Stepper, Options\n",
    "from PyMPDATA.boundary_conditions import Periodic"
   ]
  },
  {
   "cell_type": "code",
   "execution_count": 6,
   "id": "d250dea0d2fa492f",
   "metadata": {
    "ExecuteTime": {
     "end_time": "2024-05-27T20:48:32.245757Z",
     "start_time": "2024-05-27T20:48:32.238675Z"
    }
   },
   "outputs": [],
   "source": [
    "steps_per_iter = 1\n",
    "opt = Options(n_iters=3, non_zero_mu_coeff=True, infinite_gauge=True, nonoscillatory=True)"
   ]
  },
  {
   "cell_type": "code",
   "execution_count": 7,
   "id": "6f97795f4265b959",
   "metadata": {
    "ExecuteTime": {
     "end_time": "2024-05-27T21:01:07.417026Z",
     "start_time": "2024-05-27T21:01:07.412070Z"
    }
   },
   "outputs": [],
   "source": [
    "x0 = -1.\n",
    "y0 = -1.\n",
    "boundary_conditions = (Periodic(), Periodic())"
   ]
  },
  {
   "cell_type": "code",
   "execution_count": 8,
   "id": "25b45beff0117518",
   "metadata": {
    "ExecuteTime": {
     "end_time": "2024-05-27T21:01:08.064946Z",
     "start_time": "2024-05-27T21:01:08.056155Z"
    }
   },
   "outputs": [],
   "source": [
    "mu = 0.05\n",
    "c = 1.\n",
    "min_x, min_y = -1, -1\n",
    "max_x, max_y = 1, 1\n",
    "dx = (max_x - min_x) / SETUP['nx']\n",
    "dy = (max_y - min_y) / SETUP['ny']\n",
    "solution_symbolic = sp.sympify(\"sin(pi*(x+y))*exp(-mu*pi**2*t) + 1\", rational=True)\n",
    "solution = solution_symbolic.subs({\"mu\": mu})"
   ]
  },
  {
   "cell_type": "code",
   "execution_count": 9,
   "id": "c159d1f052dc2b64",
   "metadata": {
    "ExecuteTime": {
     "end_time": "2024-05-27T21:01:08.822754Z",
     "start_time": "2024-05-27T21:01:08.808637Z"
    }
   },
   "outputs": [],
   "source": [
    "def init_conditions(x, y):\n",
    "    return solution_symbolic.subs({\"t\":0, \"x\": x, \"y\": y}).evalf()"
   ]
  },
  {
   "cell_type": "code",
   "execution_count": 44,
   "id": "b001ff332724502",
   "metadata": {
    "ExecuteTime": {
     "end_time": "2024-05-27T21:15:24.067248Z",
     "start_time": "2024-05-27T21:15:21.997328Z"
    }
   },
   "outputs": [],
   "source": [
    "z = np.array(\n",
    "    [\n",
    "        # [\n",
    "            init_conditions(x, y) for x in np.linspace(min_x, max_x, SETUP['nx'])\n",
    "        # ]\n",
    "        for y in np.linspace(min_y, max_y, SETUP['ny'])\n",
    "    ],\n",
    "    dtype=float\n",
    ").reshape((SETUP['nx'], SETUP['ny']))"
   ]
  },
  {
   "cell_type": "code",
   "execution_count": 45,
   "id": "8f1be20a839a5d59",
   "metadata": {
    "ExecuteTime": {
     "end_time": "2024-05-27T21:15:24.082616Z",
     "start_time": "2024-05-27T21:15:24.070238Z"
    }
   },
   "outputs": [],
   "source": [
    "advectee = ScalarField(data=z, halo=opt.n_halo, boundary_conditions=boundary_conditions)"
   ]
  },
  {
   "cell_type": "code",
   "execution_count": 46,
   "id": "70482d29c0d0c4ed",
   "metadata": {
    "ExecuteTime": {
     "end_time": "2024-05-27T21:15:24.114445Z",
     "start_time": "2024-05-27T21:15:24.084166Z"
    }
   },
   "outputs": [],
   "source": [
    "field_x = np.full((SETUP['nx']+1, SETUP['ny']), SETUP['Cx'], dtype=opt.dtype)\n",
    "field_y = np.full((SETUP['nx'], SETUP['ny']+1), SETUP['Cy'], dtype=opt.dtype)\n",
    "advector = VectorField(\n",
    "    data=(field_x, field_y),\n",
    "    halo=opt.n_halo,\n",
    "    boundary_conditions=(boundary_conditions[0], Periodic())\n",
    ")"
   ]
  },
  {
   "cell_type": "code",
   "execution_count": 47,
   "id": "79a4fcc5da244dc2",
   "metadata": {
    "ExecuteTime": {
     "end_time": "2024-05-27T21:15:24.129245Z",
     "start_time": "2024-05-27T21:15:24.116462Z"
    }
   },
   "outputs": [],
   "source": [
    "stepper = Stepper(options=opt, n_dims=2)"
   ]
  },
  {
   "cell_type": "code",
   "execution_count": 48,
   "id": "ef6bf4fc8253d460",
   "metadata": {
    "ExecuteTime": {
     "end_time": "2024-05-27T21:15:24.283410Z",
     "start_time": "2024-05-27T21:15:24.263992Z"
    }
   },
   "outputs": [],
   "source": [
    "# create a solver\n",
    "solver = Solver(stepper=stepper, advector=advector, advectee=advectee)"
   ]
  },
  {
   "cell_type": "code",
   "execution_count": 49,
   "id": "488a82b9cfa32f85",
   "metadata": {
    "ExecuteTime": {
     "end_time": "2024-05-27T21:15:24.793277Z",
     "start_time": "2024-05-27T21:15:24.572896Z"
    }
   },
   "outputs": [
    {
     "data": {
      "text/plain": [
       "<matplotlib.colorbar.Colorbar at 0x7cf25e6cc490>"
      ]
     },
     "execution_count": 49,
     "metadata": {},
     "output_type": "execute_result"
    },
    {
     "data": {
      "image/png": "[encoded data removed]",
      "text/plain": [
       "<Figure size 640x480 with 2 Axes>"
      ]
     },
     "metadata": {},
     "output_type": "display_data"
    }
   ],
   "source": [
    "plt.imshow(solver.advectee.get().copy(), cmap='viridis')\n",
    "plt.colorbar()"
   ]
  },
  {
   "cell_type": "code",
   "execution_count": null,
   "id": "10c8b608e7cb6131",
   "metadata": {
    "ExecuteTime": {
     "end_time": "2024-05-27T21:15:26.465751Z",
     "start_time": "2024-05-27T21:15:24.883305Z"
    }
   },
   "outputs": [],
   "source": [
    "progbar = FloatProgress(value=0, min=0, max=1)\n",
    "display(progbar)\n",
    "\n",
    "states_history = [solver.advectee.get().copy()]\n",
    "n_range = 100\n",
    "for i in range(n_range):\n",
    "    solver.advance(n_steps=10, mu_coeff=(mu, mu))\n",
    "    states_history.append(solver.advectee.get().copy())\n",
    "    progbar.value = (i + 1.) / n_range"
   ]
  },
  {
   "cell_type": "code",
   "execution_count": null,
   "id": "cc74f23aa445dae1",
   "metadata": {
    "ExecuteTime": {
     "end_time": "2024-05-27T21:15:40.368402Z",
     "start_time": "2024-05-27T21:15:26.467753Z"
    }
   },
   "outputs": [],
   "source": [
    "# save each frame as a png to animation2 folder\n",
    "os.makedirs(\"animation2\", exist_ok=True)\n",
    "for i, state in enumerate(states_history):\n",
    "    # flip the image vertically\n",
    "    state = np.flipud(state)\n",
    "    plt.imshow(state, cmap='viridis')\n",
    "    plt.colorbar()\n",
    "    plt.savefig(f\"animation2/frame_{i:03d}.png\")\n",
    "    plt.close()"
   ]
  },
  {
   "cell_type": "code",
   "execution_count": null,
   "id": "6bb1f2b386a12f37",
   "metadata": {
    "ExecuteTime": {
     "end_time": "2024-05-27T21:17:16.738015Z",
     "start_time": "2024-05-27T21:17:16.721706Z"
    }
   },
   "outputs": [],
   "source": [
    "def get_advection_diffusion_gif(states):\n",
    "    fig, ax = plt.subplots()\n",
    "    ax.set_xlim(0, SETUP['nx'])\n",
    "    ax.set_ylim(0, SETUP['ny'])\n",
    "    ax.set_xlabel(\"x\")\n",
    "    ax.set_ylabel(\"y\")\n",
    "    ax.set_title(\"Advection-Diffusion Equation\")\n",
    "    im = ax.imshow(states[0], cmap='viridis')\n",
    "    def update(i):\n",
    "        im.set_array(states[i])\n",
    "        return im\n",
    "    anim = FuncAnimation(fig, update, frames=len(states), blit=True)\n",
    "    \n",
    "    anim.save(\"advection_diffusion.gif\", writer='imagemagick', fps=10)"
   ]
  },
  {
   "cell_type": "code",
   "execution_count": null,
   "id": "ccab8faafade1978",
   "metadata": {
    "ExecuteTime": {
     "end_time": "2024-05-27T21:18:42.725013Z",
     "start_time": "2024-05-27T21:17:18.464189Z"
    }
   },
   "outputs": [],
   "source": [
    "get_advection_diffusion_gif(states_history)"
   ]
  },
  {
   "cell_type": "code",
   "execution_count": null,
   "id": "89f1aba4e7df8dc3",
   "metadata": {},
   "outputs": [],
   "source": []
  },
  {
   "cell_type": "code",
   "execution_count": null,
   "id": "03e19b56-22d8-4d40-ab5b-3204cda9cdd9",
   "metadata": {},
   "outputs": [],
   "source": []
  }
 ],
 "metadata": {
  "kernelspec": {
   "display_name": "Python 3 (ipykernel)",
   "language": "python",
   "name": "python3"
  },
  "language_info": {
   "codemirror_mode": {
    "name": "ipython",
    "version": 3
   },
   "file_extension": ".py",
   "mimetype": "text/x-python",
   "name": "python",
   "nbconvert_exporter": "python",
   "pygments_lexer": "ipython3",
   "version": "3.9.2"
  }
 },
 "nbformat": 4,
 "nbformat_minor": 5
}
