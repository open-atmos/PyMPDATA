{
 "cells": [
  {
   "cell_type": "markdown",
   "id": "e333839d",
   "metadata": {
    "id": "e333839d"
   },
   "source": [
    "[![preview notebook](https://img.shields.io/static/v1?label=render%20on&logo=github&color=87ce3e&message=GitHub)](https://github.com/open-atmos/PyMPDATA/blob/main/examples/PyMPDATA_examples/advection_diffusion_2d/advection-diffusion-2d.ipynb)\n",
    "[![launch on mybinder.org](https://mybinder.org/badge_logo.svg)](https://mybinder.org/v2/gh/open-atmos/PyMPDATA.git/main?urlpath=lab/tree/examples/PyMPDATA_examples/advection_diffusion_2d/advection-diffusion-2d.ipynb)\n",
    "[![launch on Colab](https://colab.research.google.com/assets/colab-badge.svg)](https://colab.research.google.com/github/open-atmos/PyMPDATA/blob/main/examples/PyMPDATA_examples/advection_diffusion_2d/advection-diffusion-2d.ipynb)"
   ]
  },
  {
   "cell_type": "markdown",
   "id": "cbf5150bc68107de",
   "metadata": {},
   "source": [
    "This notebook is a short example of solving the advection-diffusion equation in 2D using PyMPDATA.\n",
    "\n",
    "The initial condition is given by the following analytical formula at $t = 0$:\n",
    "$$\n",
    "z(x, y, t) = \\sin(\\omega(x - u_x t + y - u_y t)) \\exp(-2 \\mu t \\omega^2) + 1\n",
    "$$\n",
    "The analytical solution can be derived from [here](https://rsmith.math.ncsu.edu/MA573_F17/Anal_Tech_Adv_Diff.pdf).\n",
    "After the simulation, the final condition is compared with the analytical solution at $t = nt*dt$.\n",
    "At the end a gif animation is created showing the evolution of the solution."
   ]
  },
  {
   "cell_type": "code",
   "execution_count": 1,
   "id": "e333666d",
   "metadata": {
    "ExecuteTime": {
     "end_time": "2024-10-10T18:30:07.160534Z",
     "start_time": "2024-10-10T18:30:07.154497Z"
    }
   },
   "outputs": [],
   "source": [
    "import sys\n",
    "if 'google.colab' in sys.modules:\n",
    "    !pip --quiet install open-atmos-jupyter-utils\n",
    "    from open_atmos_jupyter_utils import pip_install_on_colab\n",
    "    pip_install_on_colab('PyMPDATA-examples')"
   ]
  },
  {
   "cell_type": "code",
   "execution_count": 2,
   "id": "43d2893d-f472-43ac-ad5b-bf342a3783b9",
   "metadata": {
    "ExecuteTime": {
     "end_time": "2024-10-10T18:30:08.508979Z",
     "start_time": "2024-10-10T18:30:07.162539Z"
    },
    "id": "43d2893d-f472-43ac-ad5b-bf342a3783b9"
   },
   "outputs": [],
   "source": [
    "from open_atmos_jupyter_utils import show_plot"
   ]
  },
  {
   "cell_type": "code",
   "execution_count": 3,
   "id": "9aaadc4a5234804a",
   "metadata": {
    "ExecuteTime": {
     "end_time": "2024-10-10T18:30:09.426364Z",
     "start_time": "2024-10-10T18:30:08.508979Z"
    },
    "id": "9aaadc4a5234804a"
   },
   "outputs": [],
   "source": [
    "import os\n",
    "import numpy as np\n",
    "import imageio\n",
    "from IPython.display import display\n",
    "from ipywidgets import FloatProgress\n",
    "import matplotlib.pyplot as plt\n",
    "from PyMPDATA import Solver, ScalarField, VectorField, Stepper, Options\n",
    "from PyMPDATA.boundary_conditions import Periodic"
   ]
  },
  {
   "cell_type": "code",
   "execution_count": 4,
   "id": "a563a769a256feba",
   "metadata": {
    "ExecuteTime": {
     "end_time": "2024-10-10T18:30:09.432980Z",
     "start_time": "2024-10-10T18:30:09.427370Z"
    },
    "id": "a563a769a256feba"
   },
   "outputs": [],
   "source": [
    "mu = 0.0005 # diffusion coefficient\n",
    "dt = 0.025\n",
    "tmax = 5.0\n",
    "nt = int(tmax / dt)\n",
    "\n",
    "nx = 32\n",
    "ny = 32\n",
    "ux  = 0.25\n",
    "uy = 0.25\n",
    "\n",
    "omega = np.pi\n",
    "\n",
    "min_x, min_y = -1, -1\n",
    "max_x, max_y = 1, 1\n",
    "dx = (max_x - min_x) / nx\n",
    "dy = (max_y - min_y) / ny\n",
    "Cx = ux * dt / dx\n",
    "Cy = uy * dt / dy"
   ]
  },
  {
   "cell_type": "code",
   "execution_count": 5,
   "id": "9a0f60b51e32ce3e",
   "metadata": {
    "ExecuteTime": {
     "end_time": "2024-10-10T18:30:09.442790Z",
     "start_time": "2024-10-10T18:30:09.433984Z"
    },
    "id": "9a0f60b51e32ce3e"
   },
   "outputs": [],
   "source": [
    "opt = Options(n_iters=3, non_zero_mu_coeff=True)\n",
    "boundary_conditions = (Periodic(), Periodic())"
   ]
  },
  {
   "cell_type": "code",
   "execution_count": 6,
   "id": "cab790be5c425ea5",
   "metadata": {
    "ExecuteTime": {
     "end_time": "2024-10-10T18:30:09.451908Z",
     "start_time": "2024-10-10T18:30:09.443796Z"
    },
    "id": "cab790be5c425ea5"
   },
   "outputs": [],
   "source": [
    "def analytic_solution(x, y, t):\n",
    "    return np.sin(omega*(x-ux*t+y-uy*t))*np.exp(-2*mu*t*omega**2) + 1"
   ]
  },
  {
   "cell_type": "code",
   "execution_count": 7,
   "id": "b454a74473b8f900",
   "metadata": {
    "ExecuteTime": {
     "end_time": "2024-10-10T18:30:09.464508Z",
     "start_time": "2024-10-10T18:30:09.452917Z"
    },
    "id": "b454a74473b8f900"
   },
   "outputs": [],
   "source": [
    "def z(t):\n",
    "    return np.array(\n",
    "    [\n",
    "        analytic_solution(x, y, t=t) for x in np.linspace(min_x, max_x, nx)\n",
    "        for y in np.linspace(min_y, max_y, ny)\n",
    "    ],\n",
    "    dtype=float\n",
    ").reshape((nx, ny))\n",
    "\n",
    "advectee = ScalarField(data=z(t=0), halo=opt.n_halo, boundary_conditions=boundary_conditions)"
   ]
  },
  {
   "cell_type": "code",
   "execution_count": 8,
   "id": "fb28f958a4920cd",
   "metadata": {
    "ExecuteTime": {
     "end_time": "2024-10-10T18:30:09.474302Z",
     "start_time": "2024-10-10T18:30:09.465513Z"
    },
    "id": "fb28f958a4920cd"
   },
   "outputs": [],
   "source": [
    "field_x = np.full((nx+1, ny), Cx, dtype=opt.dtype)\n",
    "field_y = np.full((nx, ny+1), Cy, dtype=opt.dtype)\n",
    "\n",
    "advector = VectorField(\n",
    "    data=(field_x, field_y),\n",
    "    halo=opt.n_halo,\n",
    "    boundary_conditions=(boundary_conditions[0], Periodic())\n",
    ")"
   ]
  },
  {
   "cell_type": "code",
   "execution_count": 9,
   "id": "45c8ea60d8490cd4",
   "metadata": {
    "ExecuteTime": {
     "end_time": "2024-10-10T18:30:10.886354Z",
     "start_time": "2024-10-10T18:30:09.476309Z"
    },
    "id": "45c8ea60d8490cd4"
   },
   "outputs": [],
   "source": [
    "stepper = Stepper(options=opt, n_dims=2)\n",
    "solver = Solver(stepper=stepper, advector=advector, advectee=advectee)"
   ]
  },
  {
   "cell_type": "code",
   "execution_count": 10,
   "id": "bd4722c47297508c",
   "metadata": {
    "ExecuteTime": {
     "end_time": "2024-10-10T18:30:10.890517Z",
     "start_time": "2024-10-10T18:30:10.886354Z"
    },
    "id": "bd4722c47297508c"
   },
   "outputs": [],
   "source": [
    "vmin = np.min(solver.advectee.get())\n",
    "vmax = np.max(solver.advectee.get())"
   ]
  },
  {
   "cell_type": "code",
   "execution_count": 11,
   "id": "0e66ee78-f623-4e5f-99ef-0e43a2c81da1",
   "metadata": {},
   "outputs": [],
   "source": [
    "def plot(*, data, title):\n",
    "    fig, axs = plt.subplots(1, 1, figsize=(6, 6))\n",
    "    ims = axs.imshow(data, cmap='viridis', vmin=vmin, vmax=vmax)\n",
    "    fig.colorbar(ims, ax=axs)\n",
    "    axs.set_xlabel('x')\n",
    "    axs.set_ylabel('y')\n",
    "    axs.set_title(title)"
   ]
  },
  {
   "cell_type": "code",
   "execution_count": 12,
   "id": "d7a5cd43651621e6",
   "metadata": {
    "ExecuteTime": {
     "end_time": "2024-10-10T18:30:11.275924Z",
     "start_time": "2024-10-10T18:30:10.891521Z"
    },
    "colab": {
     "base_uri": "https://localhost:8080/",
     "height": 536,
     "referenced_widgets": [
      "b9d1816d5a654d6ebe8ae2e16d208a19",
      "e663abfe8286438eb9167e754bd34acf",
      "d8192599570541fdb63ee75a58ed85bd",
      "836e153bf47940cdaeec16935e1446c7",
      "3728933c94ef4d52a7550178efb974c0",
      "af3810389cc94bf7a6acd1959ebd9589",
      "6c73b2ac6e234f9fb3417c68fa6ddf27",
      "7beb942afc804d6fb76cf4857c273eed"
     ]
    },
    "id": "d7a5cd43651621e6",
    "outputId": "dcf9d10e-7f93-4491-8c26-a24e322eb4ee"
   },
   "outputs": [
    {
     "data": {
      "image/png": "[encoded data removed]",
      "text/plain": [
       "<Figure size 600x600 with 2 Axes>"
      ]
     },
     "metadata": {},
     "output_type": "display_data"
    },
    {
     "data": {
      "application/vnd.jupyter.widget-view+json": {
       "model_id": "d6fdbacca62746459f4ff36aaae89d34",
       "version_major": 2,
       "version_minor": 0
      },
      "text/plain": [
       "HBox(children=(HTML(value=\"<a href='./fig_1.pdf' target='_blank'>./fig_1.pdf</a><br>\"), HTML(value=\"<a href='.…"
      ]
     },
     "metadata": {},
     "output_type": "display_data"
    }
   ],
   "source": [
    "plot(\n",
    "    data=solver.advectee.get().copy(),\n",
    "    title='Initial condition'\n",
    ")\n",
    "show_plot(\"fig_1\", inline_format='png')"
   ]
  },
  {
   "cell_type": "code",
   "execution_count": 13,
   "id": "2b279996b00be430",
   "metadata": {
    "ExecuteTime": {
     "end_time": "2024-10-10T18:30:49.915008Z",
     "start_time": "2024-10-10T18:30:11.276920Z"
    },
    "colab": {
     "base_uri": "https://localhost:8080/",
     "height": 69,
     "referenced_widgets": [
      "fe1fa30d40ef469a8260c49eeec4f550",
      "96e4e27500f74f5486ba2a6b5a9922fd",
      "7a868cee328b47b9813059a82ecd8eba"
     ]
    },
    "id": "2b279996b00be430",
    "outputId": "9b04d6f4-e170-42bc-f79b-18114f7c4164"
   },
   "outputs": [
    {
     "data": {
      "application/vnd.jupyter.widget-view+json": {
       "model_id": "c079f50692b9449cb47711c096647208",
       "version_major": 2,
       "version_minor": 0
      },
      "text/plain": [
       "FloatProgress(value=0.0, max=1.0)"
      ]
     },
     "metadata": {},
     "output_type": "display_data"
    }
   ],
   "source": [
    "progbar = FloatProgress(value=0, min=0, max=1)\n",
    "display(progbar)\n",
    "\n",
    "states_history = [solver.advectee.get().copy()]\n",
    "for i in range(nt//10):\n",
    "    solver.advance(n_steps=10, mu_coeff=(mu, mu))\n",
    "    states_history.append(solver.advectee.get().copy())\n",
    "    progbar.value = (i + 1.) / (nt//10)"
   ]
  },
  {
   "cell_type": "code",
   "execution_count": 14,
   "id": "2576fcdbfa20c032",
   "metadata": {
    "ExecuteTime": {
     "end_time": "2024-10-10T18:30:50.206389Z",
     "start_time": "2024-10-10T18:30:49.916003Z"
    },
    "colab": {
     "base_uri": "https://localhost:8080/",
     "height": 536,
     "referenced_widgets": [
      "cb7153eb86dc4f4baf5cfe40af365cda",
      "fe07e1102b83432b8238b6a1505f1138",
      "ec52cd6ae6ad473e954a73b9666dbc38",
      "4a39ac354eec4bd6a627387e20ac0941",
      "7854a682f7dd419fab0ed63b87a86267",
      "cd26d032280247b68c6c54026a15d9e1",
      "91c4794be5304716a57802b89fe0ae77",
      "62f53d9eb0e04b358ea043a7969e23dc"
     ]
    },
    "id": "2576fcdbfa20c032",
    "outputId": "d47a4681-9734-4553-d424-3830b5549d6d"
   },
   "outputs": [
    {
     "data": {
      "image/png": "[encoded data removed]",
      "text/plain": [
       "<Figure size 600x600 with 2 Axes>"
      ]
     },
     "metadata": {},
     "output_type": "display_data"
    },
    {
     "data": {
      "application/vnd.jupyter.widget-view+json": {
       "model_id": "7b34d1077e5a4b72ad14f6112fd85986",
       "version_major": 2,
       "version_minor": 0
      },
      "text/plain": [
       "HBox(children=(HTML(value=\"<a href='./fig_2.pdf' target='_blank'>./fig_2.pdf</a><br>\"), HTML(value=\"<a href='.…"
      ]
     },
     "metadata": {},
     "output_type": "display_data"
    }
   ],
   "source": [
    "plot(\n",
    "    data=solver.advectee.get().copy(),\n",
    "    title='Final condition'\n",
    ")\n",
    "show_plot(\"fig_2\", inline_format='png')"
   ]
  },
  {
   "cell_type": "code",
   "execution_count": 15,
   "id": "556684f5a2e2483d",
   "metadata": {
    "ExecuteTime": {
     "end_time": "2024-10-10T18:30:50.213674Z",
     "start_time": "2024-10-10T18:30:50.207377Z"
    },
    "id": "556684f5a2e2483d"
   },
   "outputs": [],
   "source": [
    "assert np.allclose(solver.advectee.get(), z(t=nt*dt), atol=0.25)"
   ]
  },
  {
   "cell_type": "code",
   "execution_count": 16,
   "id": "cc07e0075e5b9857",
   "metadata": {
    "ExecuteTime": {
     "end_time": "2024-10-10T18:30:52.377040Z",
     "start_time": "2024-10-10T18:30:50.214687Z"
    },
    "id": "cc07e0075e5b9857"
   },
   "outputs": [],
   "source": [
    "os.makedirs(\"animation\", exist_ok=True)\n",
    "for i, state in enumerate(states_history):\n",
    "    state = np.flipud(state)\n",
    "    plt.imshow(state, cmap='viridis')\n",
    "    plt.axis('off')\n",
    "    plt.tight_layout()\n",
    "    plt.colorbar()\n",
    "    plt.savefig(f\"animation/frame_{i:03d}.png\")\n",
    "    plt.close()"
   ]
  },
  {
   "cell_type": "code",
   "execution_count": 17,
   "id": "1888a38e39bf2395",
   "metadata": {
    "ExecuteTime": {
     "end_time": "2024-10-10T18:30:52.381500Z",
     "start_time": "2024-10-10T18:30:52.378029Z"
    },
    "id": "1888a38e39bf2395"
   },
   "outputs": [],
   "source": [
    "def merge_images_into_gif(image_folder, gif_name, duration=0.01):\n",
    "    with imageio.get_writer(gif_name, mode='I', duration=duration, loop=0) as writer:\n",
    "        for filename in sorted(os.listdir(image_folder)):\n",
    "            image = imageio.v3.imread(os.path.join(image_folder, filename))\n",
    "            writer.append_data(image)"
   ]
  },
  {
   "cell_type": "code",
   "execution_count": 18,
   "id": "52bc22d60805baa6",
   "metadata": {
    "ExecuteTime": {
     "end_time": "2024-10-10T18:30:53.093920Z",
     "start_time": "2024-10-10T18:30:52.382495Z"
    },
    "id": "52bc22d60805baa6"
   },
   "outputs": [],
   "source": [
    "merge_images_into_gif(\"animation\", \"advection_diffusion.gif\", duration=0.01)"
   ]
  },
  {
   "cell_type": "code",
   "execution_count": null,
   "id": "5403105d000206da",
   "metadata": {
    "ExecuteTime": {
     "end_time": "2024-10-10T18:30:53.097687Z",
     "start_time": "2024-10-10T18:30:53.094915Z"
    },
    "id": "5403105d000206da"
   },
   "outputs": [],
   "source": []
  }
 ],
 "metadata": {
  "colab": {
   "provenance": []
  },
  "kernelspec": {
   "display_name": "Python 3 (ipykernel)",
   "language": "python",
   "name": "python3"
  },
  "language_info": {
   "codemirror_mode": {
    "name": "ipython",
    "version": 3
   },
   "file_extension": ".py",
   "mimetype": "text/x-python",
   "name": "python",
   "nbconvert_exporter": "python",
   "pygments_lexer": "ipython3",
   "version": "3.9.2"
  },
  "widgets": {
   "application/vnd.jupyter.widget-state+json": {
    "3728933c94ef4d52a7550178efb974c0": {
     "model_module": "@jupyter-widgets/base",
     "model_module_version": "1.2.0",
     "model_name": "LayoutModel",
     "state": {
      "_model_module": "@jupyter-widgets/base",
      "_model_module_version": "1.2.0",
      "_model_name": "LayoutModel",
      "_view_count": null,
      "_view_module": "@jupyter-widgets/base",
      "_view_module_version": "1.2.0",
      "_view_name": "LayoutView",
      "align_content": null,
      "align_items": null,
      "align_self": null,
      "border": null,
      "bottom": null,
      "display": null,
      "flex": null,
      "flex_flow": null,
      "grid_area": null,
      "grid_auto_columns": null,
      "grid_auto_flow": null,
      "grid_auto_rows": null,
      "grid_column": null,
      "grid_gap": null,
      "grid_row": null,
      "grid_template_areas": null,
      "grid_template_columns": null,
      "grid_template_rows": null,
      "height": null,
      "justify_content": null,
      "justify_items": null,
      "left": null,
      "margin": null,
      "max_height": null,
      "max_width": null,
      "min_height": null,
      "min_width": null,
      "object_fit": null,
      "object_position": null,
      "order": null,
      "overflow": null,
      "overflow_x": null,
      "overflow_y": null,
      "padding": null,
      "right": null,
      "top": null,
      "visibility": null,
      "width": null
     }
    },
    "4a39ac354eec4bd6a627387e20ac0941": {
     "model_module": "@jupyter-widgets/base",
     "model_module_version": "1.2.0",
     "model_name": "LayoutModel",
     "state": {
      "_model_module": "@jupyter-widgets/base",
      "_model_module_version": "1.2.0",
      "_model_name": "LayoutModel",
      "_view_count": null,
      "_view_module": "@jupyter-widgets/base",
      "_view_module_version": "1.2.0",
      "_view_name": "LayoutView",
      "align_content": null,
      "align_items": null,
      "align_self": null,
      "border": null,
      "bottom": null,
      "display": null,
      "flex": null,
      "flex_flow": null,
      "grid_area": null,
      "grid_auto_columns": null,
      "grid_auto_flow": null,
      "grid_auto_rows": null,
      "grid_column": null,
      "grid_gap": null,
      "grid_row": null,
      "grid_template_areas": null,
      "grid_template_columns": null,
      "grid_template_rows": null,
      "height": null,
      "justify_content": null,
      "justify_items": null,
      "left": null,
      "margin": null,
      "max_height": null,
      "max_width": null,
      "min_height": null,
      "min_width": null,
      "object_fit": null,
      "object_position": null,
      "order": null,
      "overflow": null,
      "overflow_x": null,
      "overflow_y": null,
      "padding": null,
      "right": null,
      "top": null,
      "visibility": null,
      "width": null
     }
    },
    "62f53d9eb0e04b358ea043a7969e23dc": {
     "model_module": "@jupyter-widgets/controls",
     "model_module_version": "1.5.0",
     "model_name": "ButtonStyleModel",
     "state": {
      "_model_module": "@jupyter-widgets/controls",
      "_model_module_version": "1.5.0",
      "_model_name": "ButtonStyleModel",
      "_view_count": null,
      "_view_module": "@jupyter-widgets/base",
      "_view_module_version": "1.2.0",
      "_view_name": "StyleView",
      "button_color": null,
      "font_weight": ""
     }
    },
    "6c73b2ac6e234f9fb3417c68fa6ddf27": {
     "model_module": "@jupyter-widgets/base",
     "model_module_version": "1.2.0",
     "model_name": "LayoutModel",
     "state": {
      "_model_module": "@jupyter-widgets/base",
      "_model_module_version": "1.2.0",
      "_model_name": "LayoutModel",
      "_view_count": null,
      "_view_module": "@jupyter-widgets/base",
      "_view_module_version": "1.2.0",
      "_view_name": "LayoutView",
      "align_content": null,
      "align_items": null,
      "align_self": null,
      "border": null,
      "bottom": null,
      "display": null,
      "flex": null,
      "flex_flow": null,
      "grid_area": null,
      "grid_auto_columns": null,
      "grid_auto_flow": null,
      "grid_auto_rows": null,
      "grid_column": null,
      "grid_gap": null,
      "grid_row": null,
      "grid_template_areas": null,
      "grid_template_columns": null,
      "grid_template_rows": null,
      "height": null,
      "justify_content": null,
      "justify_items": null,
      "left": null,
      "margin": null,
      "max_height": null,
      "max_width": null,
      "min_height": null,
      "min_width": null,
      "object_fit": null,
      "object_position": null,
      "order": null,
      "overflow": null,
      "overflow_x": null,
      "overflow_y": null,
      "padding": null,
      "right": null,
      "top": null,
      "visibility": null,
      "width": null
     }
    },
    "7854a682f7dd419fab0ed63b87a86267": {
     "model_module": "@jupyter-widgets/base",
     "model_module_version": "1.2.0",
     "model_name": "LayoutModel",
     "state": {
      "_model_module": "@jupyter-widgets/base",
      "_model_module_version": "1.2.0",
      "_model_name": "LayoutModel",
      "_view_count": null,
      "_view_module": "@jupyter-widgets/base",
      "_view_module_version": "1.2.0",
      "_view_name": "LayoutView",
      "align_content": null,
      "align_items": null,
      "align_self": null,
      "border": null,
      "bottom": null,
      "display": null,
      "flex": null,
      "flex_flow": null,
      "grid_area": null,
      "grid_auto_columns": null,
      "grid_auto_flow": null,
      "grid_auto_rows": null,
      "grid_column": null,
      "grid_gap": null,
      "grid_row": null,
      "grid_template_areas": null,
      "grid_template_columns": null,
      "grid_template_rows": null,
      "height": null,
      "justify_content": null,
      "justify_items": null,
      "left": null,
      "margin": null,
      "max_height": null,
      "max_width": null,
      "min_height": null,
      "min_width": null,
      "object_fit": null,
      "object_position": null,
      "order": null,
      "overflow": null,
      "overflow_x": null,
      "overflow_y": null,
      "padding": null,
      "right": null,
      "top": null,
      "visibility": null,
      "width": null
     }
    },
    "7a868cee328b47b9813059a82ecd8eba": {
     "model_module": "@jupyter-widgets/controls",
     "model_module_version": "1.5.0",
     "model_name": "ProgressStyleModel",
     "state": {
      "_model_module": "@jupyter-widgets/controls",
      "_model_module_version": "1.5.0",
      "_model_name": "ProgressStyleModel",
      "_view_count": null,
      "_view_module": "@jupyter-widgets/base",
      "_view_module_version": "1.2.0",
      "_view_name": "StyleView",
      "bar_color": null,
      "description_width": ""
     }
    },
    "7beb942afc804d6fb76cf4857c273eed": {
     "model_module": "@jupyter-widgets/controls",
     "model_module_version": "1.5.0",
     "model_name": "ButtonStyleModel",
     "state": {
      "_model_module": "@jupyter-widgets/controls",
      "_model_module_version": "1.5.0",
      "_model_name": "ButtonStyleModel",
      "_view_count": null,
      "_view_module": "@jupyter-widgets/base",
      "_view_module_version": "1.2.0",
      "_view_name": "StyleView",
      "button_color": null,
      "font_weight": ""
     }
    },
    "836e153bf47940cdaeec16935e1446c7": {
     "model_module": "@jupyter-widgets/base",
     "model_module_version": "1.2.0",
     "model_name": "LayoutModel",
     "state": {
      "_model_module": "@jupyter-widgets/base",
      "_model_module_version": "1.2.0",
      "_model_name": "LayoutModel",
      "_view_count": null,
      "_view_module": "@jupyter-widgets/base",
      "_view_module_version": "1.2.0",
      "_view_name": "LayoutView",
      "align_content": null,
      "align_items": null,
      "align_self": null,
      "border": null,
      "bottom": null,
      "display": null,
      "flex": null,
      "flex_flow": null,
      "grid_area": null,
      "grid_auto_columns": null,
      "grid_auto_flow": null,
      "grid_auto_rows": null,
      "grid_column": null,
      "grid_gap": null,
      "grid_row": null,
      "grid_template_areas": null,
      "grid_template_columns": null,
      "grid_template_rows": null,
      "height": null,
      "justify_content": null,
      "justify_items": null,
      "left": null,
      "margin": null,
      "max_height": null,
      "max_width": null,
      "min_height": null,
      "min_width": null,
      "object_fit": null,
      "object_position": null,
      "order": null,
      "overflow": null,
      "overflow_x": null,
      "overflow_y": null,
      "padding": null,
      "right": null,
      "top": null,
      "visibility": null,
      "width": null
     }
    },
    "91c4794be5304716a57802b89fe0ae77": {
     "model_module": "@jupyter-widgets/base",
     "model_module_version": "1.2.0",
     "model_name": "LayoutModel",
     "state": {
      "_model_module": "@jupyter-widgets/base",
      "_model_module_version": "1.2.0",
      "_model_name": "LayoutModel",
      "_view_count": null,
      "_view_module": "@jupyter-widgets/base",
      "_view_module_version": "1.2.0",
      "_view_name": "LayoutView",
      "align_content": null,
      "align_items": null,
      "align_self": null,
      "border": null,
      "bottom": null,
      "display": null,
      "flex": null,
      "flex_flow": null,
      "grid_area": null,
      "grid_auto_columns": null,
      "grid_auto_flow": null,
      "grid_auto_rows": null,
      "grid_column": null,
      "grid_gap": null,
      "grid_row": null,
      "grid_template_areas": null,
      "grid_template_columns": null,
      "grid_template_rows": null,
      "height": null,
      "justify_content": null,
      "justify_items": null,
      "left": null,
      "margin": null,
      "max_height": null,
      "max_width": null,
      "min_height": null,
      "min_width": null,
      "object_fit": null,
      "object_position": null,
      "order": null,
      "overflow": null,
      "overflow_x": null,
      "overflow_y": null,
      "padding": null,
      "right": null,
      "top": null,
      "visibility": null,
      "width": null
     }
    },
    "96e4e27500f74f5486ba2a6b5a9922fd": {
     "model_module": "@jupyter-widgets/base",
     "model_module_version": "1.2.0",
     "model_name": "LayoutModel",
     "state": {
      "_model_module": "@jupyter-widgets/base",
      "_model_module_version": "1.2.0",
      "_model_name": "LayoutModel",
      "_view_count": null,
      "_view_module": "@jupyter-widgets/base",
      "_view_module_version": "1.2.0",
      "_view_name": "LayoutView",
      "align_content": null,
      "align_items": null,
      "align_self": null,
      "border": null,
      "bottom": null,
      "display": null,
      "flex": null,
      "flex_flow": null,
      "grid_area": null,
      "grid_auto_columns": null,
      "grid_auto_flow": null,
      "grid_auto_rows": null,
      "grid_column": null,
      "grid_gap": null,
      "grid_row": null,
      "grid_template_areas": null,
      "grid_template_columns": null,
      "grid_template_rows": null,
      "height": null,
      "justify_content": null,
      "justify_items": null,
      "left": null,
      "margin": null,
      "max_height": null,
      "max_width": null,
      "min_height": null,
      "min_width": null,
      "object_fit": null,
      "object_position": null,
      "order": null,
      "overflow": null,
      "overflow_x": null,
      "overflow_y": null,
      "padding": null,
      "right": null,
      "top": null,
      "visibility": null,
      "width": null
     }
    },
    "af3810389cc94bf7a6acd1959ebd9589": {
     "model_module": "@jupyter-widgets/controls",
     "model_module_version": "1.5.0",
     "model_name": "ButtonStyleModel",
     "state": {
      "_model_module": "@jupyter-widgets/controls",
      "_model_module_version": "1.5.0",
      "_model_name": "ButtonStyleModel",
      "_view_count": null,
      "_view_module": "@jupyter-widgets/base",
      "_view_module_version": "1.2.0",
      "_view_name": "StyleView",
      "button_color": null,
      "font_weight": ""
     }
    },
    "b9d1816d5a654d6ebe8ae2e16d208a19": {
     "model_module": "@jupyter-widgets/controls",
     "model_module_version": "1.5.0",
     "model_name": "HBoxModel",
     "state": {
      "_dom_classes": [],
      "_model_module": "@jupyter-widgets/controls",
      "_model_module_version": "1.5.0",
      "_model_name": "HBoxModel",
      "_view_count": null,
      "_view_module": "@jupyter-widgets/controls",
      "_view_module_version": "1.5.0",
      "_view_name": "HBoxView",
      "box_style": "",
      "children": [
       "IPY_MODEL_e663abfe8286438eb9167e754bd34acf",
       "IPY_MODEL_d8192599570541fdb63ee75a58ed85bd"
      ],
      "layout": "IPY_MODEL_836e153bf47940cdaeec16935e1446c7"
     }
    },
    "cb7153eb86dc4f4baf5cfe40af365cda": {
     "model_module": "@jupyter-widgets/controls",
     "model_module_version": "1.5.0",
     "model_name": "HBoxModel",
     "state": {
      "_dom_classes": [],
      "_model_module": "@jupyter-widgets/controls",
      "_model_module_version": "1.5.0",
      "_model_name": "HBoxModel",
      "_view_count": null,
      "_view_module": "@jupyter-widgets/controls",
      "_view_module_version": "1.5.0",
      "_view_name": "HBoxView",
      "box_style": "",
      "children": [
       "IPY_MODEL_fe07e1102b83432b8238b6a1505f1138",
       "IPY_MODEL_ec52cd6ae6ad473e954a73b9666dbc38"
      ],
      "layout": "IPY_MODEL_4a39ac354eec4bd6a627387e20ac0941"
     }
    },
    "cd26d032280247b68c6c54026a15d9e1": {
     "model_module": "@jupyter-widgets/controls",
     "model_module_version": "1.5.0",
     "model_name": "ButtonStyleModel",
     "state": {
      "_model_module": "@jupyter-widgets/controls",
      "_model_module_version": "1.5.0",
      "_model_name": "ButtonStyleModel",
      "_view_count": null,
      "_view_module": "@jupyter-widgets/base",
      "_view_module_version": "1.2.0",
      "_view_name": "StyleView",
      "button_color": null,
      "font_weight": ""
     }
    },
    "d8192599570541fdb63ee75a58ed85bd": {
     "model_module": "@jupyter-widgets/controls",
     "model_module_version": "1.5.0",
     "model_name": "ButtonModel",
     "state": {
      "_dom_classes": [],
      "_model_module": "@jupyter-widgets/controls",
      "_model_module_version": "1.5.0",
      "_model_name": "ButtonModel",
      "_view_count": null,
      "_view_module": "@jupyter-widgets/controls",
      "_view_module_version": "1.5.0",
      "_view_name": "ButtonView",
      "button_style": "",
      "description": "fig_1.svg",
      "disabled": false,
      "icon": "",
      "layout": "IPY_MODEL_6c73b2ac6e234f9fb3417c68fa6ddf27",
      "style": "IPY_MODEL_7beb942afc804d6fb76cf4857c273eed",
      "tooltip": ""
     }
    },
    "e663abfe8286438eb9167e754bd34acf": {
     "model_module": "@jupyter-widgets/controls",
     "model_module_version": "1.5.0",
     "model_name": "ButtonModel",
     "state": {
      "_dom_classes": [],
      "_model_module": "@jupyter-widgets/controls",
      "_model_module_version": "1.5.0",
      "_model_name": "ButtonModel",
      "_view_count": null,
      "_view_module": "@jupyter-widgets/controls",
      "_view_module_version": "1.5.0",
      "_view_name": "ButtonView",
      "button_style": "",
      "description": "fig_1.pdf",
      "disabled": false,
      "icon": "",
      "layout": "IPY_MODEL_3728933c94ef4d52a7550178efb974c0",
      "style": "IPY_MODEL_af3810389cc94bf7a6acd1959ebd9589",
      "tooltip": ""
     }
    },
    "ec52cd6ae6ad473e954a73b9666dbc38": {
     "model_module": "@jupyter-widgets/controls",
     "model_module_version": "1.5.0",
     "model_name": "ButtonModel",
     "state": {
      "_dom_classes": [],
      "_model_module": "@jupyter-widgets/controls",
      "_model_module_version": "1.5.0",
      "_model_name": "ButtonModel",
      "_view_count": null,
      "_view_module": "@jupyter-widgets/controls",
      "_view_module_version": "1.5.0",
      "_view_name": "ButtonView",
      "button_style": "",
      "description": "fig_2.svg",
      "disabled": false,
      "icon": "",
      "layout": "IPY_MODEL_91c4794be5304716a57802b89fe0ae77",
      "style": "IPY_MODEL_62f53d9eb0e04b358ea043a7969e23dc",
      "tooltip": ""
     }
    },
    "fe07e1102b83432b8238b6a1505f1138": {
     "model_module": "@jupyter-widgets/controls",
     "model_module_version": "1.5.0",
     "model_name": "ButtonModel",
     "state": {
      "_dom_classes": [],
      "_model_module": "@jupyter-widgets/controls",
      "_model_module_version": "1.5.0",
      "_model_name": "ButtonModel",
      "_view_count": null,
      "_view_module": "@jupyter-widgets/controls",
      "_view_module_version": "1.5.0",
      "_view_name": "ButtonView",
      "button_style": "",
      "description": "fig_2.pdf",
      "disabled": false,
      "icon": "",
      "layout": "IPY_MODEL_7854a682f7dd419fab0ed63b87a86267",
      "style": "IPY_MODEL_cd26d032280247b68c6c54026a15d9e1",
      "tooltip": ""
     }
    },
    "fe1fa30d40ef469a8260c49eeec4f550": {
     "model_module": "@jupyter-widgets/controls",
     "model_module_version": "1.5.0",
     "model_name": "FloatProgressModel",
     "state": {
      "_dom_classes": [],
      "_model_module": "@jupyter-widgets/controls",
      "_model_module_version": "1.5.0",
      "_model_name": "FloatProgressModel",
      "_view_count": null,
      "_view_module": "@jupyter-widgets/controls",
      "_view_module_version": "1.5.0",
      "_view_name": "ProgressView",
      "bar_style": "",
      "description": "",
      "description_tooltip": null,
      "layout": "IPY_MODEL_96e4e27500f74f5486ba2a6b5a9922fd",
      "max": 1,
      "min": 0,
      "orientation": "horizontal",
      "style": "IPY_MODEL_7a868cee328b47b9813059a82ecd8eba",
      "value": 1
     }
    }
   }
  }
 },
 "nbformat": 4,
 "nbformat_minor": 5
}
