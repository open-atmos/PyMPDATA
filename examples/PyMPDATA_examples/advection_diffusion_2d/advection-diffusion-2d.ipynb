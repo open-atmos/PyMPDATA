{
 "cells": [
  {
   "cell_type": "markdown",
   "id": "e333839d",
   "metadata": {},
   "source": [
    "[![Binder](https://mybinder.org/badge_logo.svg)](https://mybinder.org/v2/gh/open-atmos/PyMPDATA.git/main?urlpath=lab/tree/examples/PyMPDATA_examples/advection_diffusion_2d/advection-diffusion-2d.ipynb)\n",
    "[![Open In Colab](https://colab.research.google.com/assets/colab-badge.svg)](https://colab.research.google.com/github/open-atmos/examples/blob/main/examples/PyMPDATA_examples/advection_diffusion_2d/advection-diffusion-2d.ipynb)"
   ]
  },
  {
   "cell_type": "code",
   "id": "43d2893d-f472-43ac-ad5b-bf342a3783b9",
   "metadata": {},
   "source": [
    "from open_atmos_jupyter_utils import show_plot"
   ],
   "outputs": [],
   "execution_count": null
  },
  {
   "cell_type": "markdown",
   "id": "0f0ce965-3f51-41a7-82cd-5aa3892319f2",
   "metadata": {},
   "source": [
    "TOC:\n",
    "- run a basic constant-coefficient advection-diffusion simulation with Trixi.jl\n",
    "- run analogous simulation with PyMPDATA\n",
    "- compare output"
   ]
  },
  {
   "cell_type": "markdown",
   "id": "0f162ce9-5704-4464-8b67-be8c86ecabc8",
   "metadata": {},
   "source": [
    "## common settings"
   ]
  },
  {
   "cell_type": "code",
   "id": "cc93c40c-e96a-4cb4-85c9-6a1dc8785859",
   "metadata": {
    "ExecuteTime": {
     "end_time": "2024-06-09T15:09:24.073177Z",
     "start_time": "2024-06-09T15:09:24.065088Z"
    }
   },
   "source": [
    "SETUP = {\n",
    "    \"nx\": 32,\n",
    "    \"ny\": 16,\n",
    "    \"Cx\": 0.5,\n",
    "    \"Cy\": 0.25,\n",
    "    \"dt\": 0.025,\n",
    "    \"tmax\": 1.0\n",
    "}\n",
    "\n",
    "import json\n",
    "with open('setup1.json', 'w', encoding='UTF-8') as f:\n",
    "    json.dump(SETUP, f)"
   ],
   "outputs": [],
   "execution_count": 7
  },
  {
   "cell_type": "markdown",
   "id": "b8c794cf-a332-4291-86b5-7a72d36bd630",
   "metadata": {},
   "source": [
    "## Trixi.jl"
   ]
  },
  {
   "cell_type": "code",
   "id": "e4ae33ef-e53b-45ef-9664-fb9d1cb7696f",
   "metadata": {},
   "source": [
    "%%writefile trixi.jl\n",
    "import Pkg\n",
    "Pkg.add([\"JSON\", \"Trixi\", \"OrdinaryDiffEq\"])\n",
    "using JSON\n",
    "using Trixi\n",
    "using OrdinaryDiffEq\n",
    "\n",
    "\n",
    "setup = JSON.parsefile(\"setup.json\")\n",
    "advection_velocity = (setup[\"Cx\"], setup[\"Cy\"])\n",
    "equations = LinearScalarAdvectionEquation2D(advection_velocity)\n",
    "\n",
    "solver = DGSEM(polydeg = 3)\n",
    "\n",
    "cells_per_dimension = (setup[\"nx\"], setup[\"ny\"])\n",
    "coordinates_min = (-1.0, -1.0)\n",
    "coordinates_max = ( 1.0,  1.0)\n",
    "\n",
    "mesh = StructuredMesh(cells_per_dimension, coordinates_min, coordinates_max)\n",
    "semi = SemidiscretizationHyperbolic(mesh, equations, initial_condition_convergence_test, solver)\n",
    "\n",
    "tspan = (0.0, setup[\"tmax\"])\n",
    "ode = semidiscretize(semi, tspan);\n",
    "\n",
    "summary_callback = SummaryCallback()\n",
    "save_solution = SaveSolutionCallback(interval=100)\n",
    "\n",
    "stepsize_callback = StepsizeCallback(cfl = 1.6)\n",
    "\n",
    "callbacks = CallbackSet(summary_callback, save_solution, stepsize_callback)\n",
    "\n",
    "time_int_tol = 1e-6\n",
    "sol = solve(ode, CarpenterKennedy2N54();\n",
    "            abstol = time_int_tol,\n",
    "            reltol = time_int_tol,\n",
    "            dt = setup[\"dt\"],\n",
    "            ode_default_options()..., callback = callbacks);\n",
    "\n",
    "summary_callback()"
   ],
   "outputs": [],
   "execution_count": null
  },
  {
   "cell_type": "code",
   "id": "ff0181b0-62a9-4343-bdc1-ab4b25598cd2",
   "metadata": {},
   "source": [
    "%%bash\n",
    "julia trixi.jl 2>&1"
   ],
   "outputs": [],
   "execution_count": null
  },
  {
   "cell_type": "code",
   "id": "cbed45fc-b685-415e-b04c-7a0db4b732bc",
   "metadata": {
    "ExecuteTime": {
     "end_time": "2024-06-09T15:15:58.188749Z",
     "start_time": "2024-06-09T15:15:58.013720Z"
    }
   },
   "source": [
    "import h5py\n",
    "import matplotlib.pyplot as plt\n",
    "import numpy as np\n",
    "\n",
    "with h5py.File('out/solution_000026.h5', 'r') as f:\n",
    "    # average every 16 points to reduce the number of points\n",
    "    temp = np.array([np.mean(x) for x in f['variables_1'][:].reshape(-1, 16)])\n",
    "    plt.imshow(temp[:].reshape(SETUP['ny'], SETUP['nx']).transpose())\n",
    "    plt.show()"
   ],
   "outputs": [
    {
     "data": {
      "text/plain": "<Figure size 640x480 with 1 Axes>",
      "image/png": "[encoded data removed]"
     },
     "metadata": {},
     "output_type": "display_data"
    }
   ],
   "execution_count": 18
  },
  {
   "cell_type": "markdown",
   "id": "75f6957f-ce10-4902-9d1f-f3485350218f",
   "metadata": {},
   "source": [
    "## PyMPDATA"
   ]
  },
  {
   "cell_type": "code",
   "id": "initial_id",
   "metadata": {
    "ExecuteTime": {
     "end_time": "2024-06-09T15:09:19.874614Z",
     "start_time": "2024-06-09T15:09:18.661227Z"
    }
   },
   "source": [
    "import os\n",
    "import numpy as np\n",
    "import sympy as sp\n",
    "from IPython.display import display\n",
    "from ipywidgets import FloatProgress\n",
    "from matplotlib.animation import FuncAnimation\n",
    "import matplotlib.pyplot as plt\n",
    "from PyMPDATA import Solver, ScalarField, VectorField, Stepper, Options\n",
    "from PyMPDATA.boundary_conditions import Periodic"
   ],
   "outputs": [],
   "execution_count": 1
  },
  {
   "cell_type": "code",
   "id": "d250dea0d2fa492f",
   "metadata": {
    "ExecuteTime": {
     "end_time": "2024-06-09T15:09:19.883338Z",
     "start_time": "2024-06-09T15:09:19.877397Z"
    }
   },
   "source": [
    "steps_per_iter = 1\n",
    "opt = Options(n_iters=3, non_zero_mu_coeff=True, infinite_gauge=True, nonoscillatory=True)"
   ],
   "outputs": [],
   "execution_count": 2
  },
  {
   "cell_type": "code",
   "id": "6f97795f4265b959",
   "metadata": {
    "ExecuteTime": {
     "end_time": "2024-06-09T15:09:19.887809Z",
     "start_time": "2024-06-09T15:09:19.884589Z"
    }
   },
   "source": [
    "x0 = -1.\n",
    "y0 = -1.\n",
    "boundary_conditions = (Periodic(), Periodic())"
   ],
   "outputs": [],
   "execution_count": 3
  },
  {
   "cell_type": "code",
   "id": "25b45beff0117518",
   "metadata": {
    "ExecuteTime": {
     "end_time": "2024-06-09T15:09:26.731865Z",
     "start_time": "2024-06-09T15:09:26.647500Z"
    }
   },
   "source": [
    "mu = 0.0\n",
    "c = 1.\n",
    "min_x, min_y = -1, -1\n",
    "max_x, max_y = 1, 1\n",
    "dx = (max_x - min_x) / SETUP['nx']\n",
    "dy = (max_y - min_y) / SETUP['ny']\n",
    "solution_symbolic = sp.sympify(\"sin(pi*(x+y))*exp(-mu*pi**2*t) + 1\", rational=True)\n",
    "solution = solution_symbolic.subs({\"mu\": mu})"
   ],
   "outputs": [],
   "execution_count": 8
  },
  {
   "cell_type": "code",
   "id": "c159d1f052dc2b64",
   "metadata": {
    "ExecuteTime": {
     "end_time": "2024-06-09T15:09:26.948127Z",
     "start_time": "2024-06-09T15:09:26.944538Z"
    }
   },
   "source": [
    "def init_conditions(x, y):\n",
    "    return solution_symbolic.subs({\"t\":0, \"x\": x, \"y\": y}).evalf()"
   ],
   "outputs": [],
   "execution_count": 9
  },
  {
   "cell_type": "code",
   "id": "b001ff332724502",
   "metadata": {
    "ExecuteTime": {
     "end_time": "2024-06-09T15:09:28.858682Z",
     "start_time": "2024-06-09T15:09:27.142783Z"
    }
   },
   "source": [
    "z = np.array(\n",
    "    [\n",
    "        # [\n",
    "            init_conditions(x, y) for x in np.linspace(min_x, max_x, SETUP['nx'])\n",
    "        # ]\n",
    "        for y in np.linspace(min_y, max_y, SETUP['ny'])\n",
    "    ],\n",
    "    dtype=float\n",
    ").reshape((SETUP['nx'], SETUP['ny']))"
   ],
   "outputs": [],
   "execution_count": 10
  },
  {
   "cell_type": "code",
   "id": "8f1be20a839a5d59",
   "metadata": {
    "ExecuteTime": {
     "end_time": "2024-06-09T15:09:28.863705Z",
     "start_time": "2024-06-09T15:09:28.860362Z"
    }
   },
   "source": [
    "advectee = ScalarField(data=z, halo=opt.n_halo, boundary_conditions=boundary_conditions)"
   ],
   "outputs": [],
   "execution_count": 11
  },
  {
   "cell_type": "code",
   "id": "70482d29c0d0c4ed",
   "metadata": {
    "ExecuteTime": {
     "end_time": "2024-06-09T15:09:28.869826Z",
     "start_time": "2024-06-09T15:09:28.865303Z"
    }
   },
   "source": [
    "field_x = np.full((SETUP['nx']+1, SETUP['ny']), SETUP['Cx'], dtype=opt.dtype)\n",
    "field_y = np.full((SETUP['nx'], SETUP['ny']+1), SETUP['Cy'], dtype=opt.dtype)\n",
    "advector = VectorField(\n",
    "    data=(field_x, field_y),\n",
    "    halo=opt.n_halo,\n",
    "    boundary_conditions=(boundary_conditions[0], Periodic())\n",
    ")"
   ],
   "outputs": [],
   "execution_count": 12
  },
  {
   "cell_type": "code",
   "id": "79a4fcc5da244dc2",
   "metadata": {
    "ExecuteTime": {
     "end_time": "2024-06-09T15:09:29.317620Z",
     "start_time": "2024-06-09T15:09:28.871785Z"
    }
   },
   "source": [
    "stepper = Stepper(options=opt, n_dims=2)"
   ],
   "outputs": [],
   "execution_count": 13
  },
  {
   "cell_type": "code",
   "id": "ef6bf4fc8253d460",
   "metadata": {
    "ExecuteTime": {
     "end_time": "2024-06-09T15:09:29.324404Z",
     "start_time": "2024-06-09T15:09:29.318902Z"
    }
   },
   "source": [
    "# create a solver\n",
    "solver = Solver(stepper=stepper, advector=advector, advectee=advectee)"
   ],
   "outputs": [],
   "execution_count": 14
  },
  {
   "cell_type": "code",
   "id": "488a82b9cfa32f85",
   "metadata": {
    "ExecuteTime": {
     "end_time": "2024-06-09T15:09:29.883644Z",
     "start_time": "2024-06-09T15:09:29.644889Z"
    }
   },
   "source": [
    "plt.imshow(solver.advectee.get().copy(), cmap='viridis')\n",
    "plt.colorbar()\n",
    "show_plot()"
   ],
   "outputs": [
    {
     "ename": "NameError",
     "evalue": "name 'show_plot' is not defined",
     "output_type": "error",
     "traceback": [
      "\u001B[0;31m---------------------------------------------------------------------------\u001B[0m",
      "\u001B[0;31mNameError\u001B[0m                                 Traceback (most recent call last)",
      "Cell \u001B[0;32mIn[15], line 3\u001B[0m\n\u001B[1;32m      1\u001B[0m plt\u001B[38;5;241m.\u001B[39mimshow(solver\u001B[38;5;241m.\u001B[39madvectee\u001B[38;5;241m.\u001B[39mget()\u001B[38;5;241m.\u001B[39mcopy(), cmap\u001B[38;5;241m=\u001B[39m\u001B[38;5;124m'\u001B[39m\u001B[38;5;124mviridis\u001B[39m\u001B[38;5;124m'\u001B[39m)\n\u001B[1;32m      2\u001B[0m plt\u001B[38;5;241m.\u001B[39mcolorbar()\n\u001B[0;32m----> 3\u001B[0m \u001B[43mshow_plot\u001B[49m()\n",
      "\u001B[0;31mNameError\u001B[0m: name 'show_plot' is not defined"
     ]
    },
    {
     "data": {
      "text/plain": "<Figure size 640x480 with 2 Axes>",
      "image/png": "[encoded data removed]"
     },
     "metadata": {},
     "output_type": "display_data"
    }
   ],
   "execution_count": 15
  },
  {
   "cell_type": "code",
   "id": "10c8b608e7cb6131",
   "metadata": {
    "ExecuteTime": {
     "end_time": "2024-06-09T15:10:28.700207Z",
     "start_time": "2024-06-09T15:09:35.973126Z"
    }
   },
   "source": [
    "progbar = FloatProgress(value=0, min=0, max=1)\n",
    "display(progbar)\n",
    "\n",
    "states_history = [solver.advectee.get().copy()]\n",
    "n_steps = 10\n",
    "n_range = int(SETUP['tmax'] / SETUP['dt']) // n_steps\n",
    "for i in range(n_range):\n",
    "    solver.advance(n_steps=n_steps, mu_coeff=(mu, mu))\n",
    "    states_history.append(solver.advectee.get().copy())\n",
    "    progbar.value = (i + 1.) / n_range"
   ],
   "outputs": [
    {
     "data": {
      "text/plain": "FloatProgress(value=0.0, max=1.0)",
      "application/vnd.jupyter.widget-view+json": {
       "version_major": 2,
       "version_minor": 0,
       "model_id": "79c1f7eefa014cfba865aa3abe6ea4a6"
      }
     },
     "metadata": {},
     "output_type": "display_data"
    }
   ],
   "execution_count": 16
  },
  {
   "cell_type": "code",
   "outputs": [
    {
     "name": "stdout",
     "output_type": "stream",
     "text": [
      "RMSE: 0.5736000432480288\n",
      "Min-max difference: 0.9386086838491452\n"
     ]
    }
   ],
   "source": [
    "trixi_result = temp[:].reshape(SETUP['ny'], SETUP['nx']).transpose()\n",
    "\n",
    "# Calculate rmse between Trixi and PyMPDATA output\n",
    "rmse = np.sqrt(np.mean((states_history[-1] - trixi_result) ** 2))\n",
    "print(f\"RMSE: {rmse}\")\n",
    "\n",
    "# Calculate min-max difference between Trixi and PyMPDATA output\n",
    "min_max_diff = np.max(np.abs(states_history[-1] - trixi_result))\n",
    "print(f\"Min-max difference: {min_max_diff}\")"
   ],
   "metadata": {
    "collapsed": false,
    "ExecuteTime": {
     "end_time": "2024-06-09T15:18:36.417013Z",
     "start_time": "2024-06-09T15:18:36.409863Z"
    }
   },
   "id": "75d7a0b55f1633a7",
   "execution_count": 26
  },
  {
   "cell_type": "code",
   "outputs": [],
   "source": [
    "with h5py.File('out/solution_000000.h5', 'r') as f:\n",
    "    trixi_init = np.array([np.mean(x) for x in f['variables_1'][:].reshape(-1, 16)])\n",
    "    trixi_init = trixi_init[:].reshape(SETUP['ny'], SETUP['nx']).transpose()"
   ],
   "metadata": {
    "collapsed": false,
    "ExecuteTime": {
     "end_time": "2024-06-09T15:39:04.142516Z",
     "start_time": "2024-06-09T15:39:04.133161Z"
    }
   },
   "id": "a4b902e0f6d35daa",
   "execution_count": 32
  },
  {
   "cell_type": "code",
   "outputs": [],
   "source": [
    "assert np.abs(np.sum(states_history[-1]) - np.sum(states_history[0])) < 1e-6\n",
    "assert np.abs(np.sum(trixi_result) - np.sum(trixi_init)) < 1e-6"
   ],
   "metadata": {
    "collapsed": false,
    "ExecuteTime": {
     "end_time": "2024-06-09T15:39:04.606174Z",
     "start_time": "2024-06-09T15:39:04.603100Z"
    }
   },
   "id": "297f0399b46c4283",
   "execution_count": 33
  },
  {
   "cell_type": "code",
   "outputs": [
    {
     "ename": "NameError",
     "evalue": "name 'show_plot' is not defined",
     "output_type": "error",
     "traceback": [
      "\u001B[0;31m---------------------------------------------------------------------------\u001B[0m",
      "\u001B[0;31mNameError\u001B[0m                                 Traceback (most recent call last)",
      "Cell \u001B[0;32mIn[34], line 17\u001B[0m\n\u001B[1;32m     15\u001B[0m plt\u001B[38;5;241m.\u001B[39mimshow(z, cmap\u001B[38;5;241m=\u001B[39m\u001B[38;5;124m'\u001B[39m\u001B[38;5;124mviridis\u001B[39m\u001B[38;5;124m'\u001B[39m)\n\u001B[1;32m     16\u001B[0m plt\u001B[38;5;241m.\u001B[39mcolorbar()\n\u001B[0;32m---> 17\u001B[0m \u001B[43mshow_plot\u001B[49m()\n",
      "\u001B[0;31mNameError\u001B[0m: name 'show_plot' is not defined"
     ]
    },
    {
     "data": {
      "text/plain": "<Figure size 640x480 with 2 Axes>",
      "image/png": "[encoded data removed]"
     },
     "metadata": {},
     "output_type": "display_data"
    }
   ],
   "source": [
    "solution_symbolic_final = sp.sympify(\"sin(pi*(x-cx*t + y-cy*t)) + 1\", rational=True)\n",
    "def final_conditions(x, y):\n",
    "    return solution_symbolic_final.subs({\"cx\": SETUP['Cx'], \"cy\": SETUP['Cy'], \"t\":SETUP['tmax'], \"x\": x, \"y\": y}).evalf()\n",
    "\n",
    "z_final = np.array(\n",
    "    [\n",
    "        # [\n",
    "            final_conditions(x, y) for x in np.linspace(min_x, max_x, SETUP['nx'])\n",
    "        # ]\n",
    "        for y in np.linspace(min_y, max_y, SETUP['ny'])\n",
    "    ],\n",
    "    dtype=float\n",
    ").reshape((SETUP['nx'], SETUP['ny']))\n",
    "\n",
    "plt.imshow(z, cmap='viridis')\n",
    "plt.colorbar()\n",
    "show_plot()"
   ],
   "metadata": {
    "collapsed": false,
    "ExecuteTime": {
     "end_time": "2024-06-09T18:21:08.520852Z",
     "start_time": "2024-06-09T18:21:06.661244Z"
    }
   },
   "id": "bcb10541128e0d87",
   "execution_count": 34
  },
  {
   "cell_type": "code",
   "outputs": [
    {
     "name": "stdout",
     "output_type": "stream",
     "text": [
      "PyMPDATA - RMSE: 0.5819680013615011\n",
      "Trixi - RMSE: 0.36475393214749774\n"
     ]
    }
   ],
   "source": [
    "# Calculate rmse between analytical solution, Trixi and PyMPDATA output\n",
    "rmse = np.sqrt(np.mean((states_history[-1] - z_final) ** 2))\n",
    "print(f\"PyMPDATA - RMSE: {rmse}\")\n",
    "\n",
    "rmse = np.sqrt(np.mean((trixi_result - z_final) ** 2))\n",
    "print(f\"Trixi - RMSE: {rmse}\")"
   ],
   "metadata": {
    "collapsed": false,
    "ExecuteTime": {
     "end_time": "2024-06-09T18:22:36.755720Z",
     "start_time": "2024-06-09T18:22:36.749428Z"
    }
   },
   "id": "776c1a736d05835c",
   "execution_count": 35
  },
  {
   "cell_type": "code",
   "outputs": [
    {
     "name": "stdout",
     "output_type": "stream",
     "text": [
      "PyMPDATA - Min-max difference: 1.149813434544938\n",
      "Trixi - Min-max difference: 0.5395098189482272\n"
     ]
    }
   ],
   "source": [
    "# Calculate min-max difference between analytical solution, Trixi and PyMPDATA output\n",
    "min_max_diff = np.max(np.abs(states_history[-1] - z_final))\n",
    "print(f\"PyMPDATA - Min-max difference: {min_max_diff}\")\n",
    "\n",
    "min_max_diff = np.max(np.abs(trixi_result - z_final))\n",
    "print(f\"Trixi - Min-max difference: {min_max_diff}\")"
   ],
   "metadata": {
    "collapsed": false,
    "ExecuteTime": {
     "end_time": "2024-06-09T18:23:57.034820Z",
     "start_time": "2024-06-09T18:23:57.031007Z"
    }
   },
   "id": "7353a605ee29fde8",
   "execution_count": 36
  },
  {
   "cell_type": "code",
   "id": "cc74f23aa445dae1",
   "metadata": {},
   "source": [
    "# save each frame as a png to animation2 folder\n",
    "os.makedirs(\"animation2\", exist_ok=True)\n",
    "for i, state in enumerate(states_history):\n",
    "    # flip the image vertically\n",
    "    state = np.flipud(state)\n",
    "    plt.imshow(state, cmap='viridis')\n",
    "    plt.colorbar()\n",
    "    plt.savefig(f\"animation2/frame_{i:03d}.png\")\n",
    "    plt.close()"
   ],
   "outputs": [],
   "execution_count": null
  },
  {
   "cell_type": "code",
   "id": "6bb1f2b386a12f37",
   "metadata": {},
   "source": [
    "def get_advection_diffusion_gif(states):\n",
    "    fig, ax = plt.subplots()\n",
    "    ax.set_xlim(0, SETUP['nx'])\n",
    "    ax.set_ylim(0, SETUP['ny'])\n",
    "    ax.set_xlabel(\"x\")\n",
    "    ax.set_ylabel(\"y\")\n",
    "    ax.set_title(\"Advection-Diffusion Equation\")\n",
    "    im = ax.imshow(states[0], cmap='viridis')\n",
    "    def update(i):\n",
    "        im.set_array(states[i])\n",
    "        return im,\n",
    "    anim = FuncAnimation(fig, update, frames=len(states), blit=True)\n",
    "    \n",
    "    anim.save(\"advection_diffusion.gif\", writer='imagemagick', fps=10)"
   ],
   "outputs": [],
   "execution_count": null
  },
  {
   "cell_type": "code",
   "id": "ccab8faafade1978",
   "metadata": {},
   "source": [
    "get_advection_diffusion_gif(states_history)"
   ],
   "outputs": [],
   "execution_count": null
  },
  {
   "metadata": {},
   "cell_type": "markdown",
   "source": "Load VTK file",
   "id": "32ae64cf9e8a5aa6"
  },
  {
   "cell_type": "code",
   "id": "89f1aba4e7df8dc3",
   "metadata": {},
   "source": [
    "from vtk.util.numpy_support import vtk_to_numpy\n",
    "import vtk\n",
    "import meshio\n",
    "import numpy as np\n",
    "import matplotlib.pyplot as plt"
   ],
   "outputs": [],
   "execution_count": null
  },
  {
   "metadata": {},
   "cell_type": "code",
   "source": "mesh = meshio.read(\"solution_000026.vtu\")",
   "id": "351b4c931bc8a28",
   "outputs": [],
   "execution_count": null
  },
  {
   "metadata": {},
   "cell_type": "code",
   "source": "# mesh.point_data[\"scalar\"]",
   "id": "9738e00e56021898",
   "outputs": [],
   "execution_count": null
  },
  {
   "metadata": {},
   "cell_type": "code",
   "source": "arr = np.array(mesh.point_data[\"scalar\"])",
   "id": "80916217a3b6c2b4",
   "outputs": [],
   "execution_count": null
  },
  {
   "metadata": {},
   "cell_type": "code",
   "source": "# [x.data for x in  mesh.cells]",
   "id": "40e58e427b925207",
   "outputs": [],
   "execution_count": null
  },
  {
   "metadata": {},
   "cell_type": "code",
   "source": "# mesh.cells[0].data.shape",
   "id": "e3b8b9c55d2b654b",
   "outputs": [],
   "execution_count": null
  },
  {
   "metadata": {},
   "cell_type": "code",
   "source": [
    "# for block in [x for x in mesh.cells]:\n",
    "#     print(np.array(block.data).shape)"
   ],
   "id": "38ae6160ca9075f0",
   "outputs": [],
   "execution_count": null
  },
  {
   "metadata": {},
   "cell_type": "code",
   "source": [
    "arr = arr[::16]\n",
    "plt.imshow(arr.reshape(16, 32, order=\"C\").transpose())\n",
    "plt.show()"
   ],
   "id": "e3b7661b4fca09c9",
   "outputs": [],
   "execution_count": null
  },
  {
   "metadata": {},
   "cell_type": "code",
   "source": "",
   "id": "4989c7d922983f95",
   "outputs": [],
   "execution_count": null
  }
 ],
 "metadata": {
  "kernelspec": {
   "display_name": "Python 3 (ipykernel)",
   "language": "python",
   "name": "python3"
  },
  "language_info": {
   "codemirror_mode": {
    "name": "ipython",
    "version": 3
   },
   "file_extension": ".py",
   "mimetype": "text/x-python",
   "name": "python",
   "nbconvert_exporter": "python",
   "pygments_lexer": "ipython3",
   "version": "3.9.2"
  }
 },
 "nbformat": 4,
 "nbformat_minor": 5
}
