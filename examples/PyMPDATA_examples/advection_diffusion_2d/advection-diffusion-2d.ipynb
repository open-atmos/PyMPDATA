{
 "cells": [
  {
   "cell_type": "markdown",
   "id": "e333839d",
   "metadata": {},
   "source": [
    "[![Binder](https://mybinder.org/badge_logo.svg)](https://mybinder.org/v2/gh/open-atmos/PyMPDATA.git/main?urlpath=lab/tree/examples/PyMPDATA_examples/advection_diffusion_2d/advection-diffusion-2d.ipynb)\n",
    "[![Open In Colab](https://colab.research.google.com/assets/colab-badge.svg)](https://colab.research.google.com/github/open-atmos/examples/blob/main/examples/PyMPDATA_examples/advection_diffusion_2d/advection-diffusion-2d.ipynb)"
   ]
  },
  {
   "cell_type": "code",
   "id": "43d2893d-f472-43ac-ad5b-bf342a3783b9",
   "metadata": {
    "ExecuteTime": {
     "end_time": "2024-07-17T21:13:42.440515Z",
     "start_time": "2024-07-17T21:13:41.751506Z"
    }
   },
   "source": [
    "from open_atmos_jupyter_utils import show_plot"
   ],
   "outputs": [],
   "execution_count": 1
  },
  {
   "cell_type": "markdown",
   "id": "0f0ce965-3f51-41a7-82cd-5aa3892319f2",
   "metadata": {},
   "source": [
    "TOC:\n",
    "- run a basic constant-coefficient advection-diffusion simulation with Trixi.jl\n",
    "- run analogous simulation with PyMPDATA\n",
    "- compare output"
   ]
  },
  {
   "cell_type": "markdown",
   "id": "0f162ce9-5704-4464-8b67-be8c86ecabc8",
   "metadata": {},
   "source": [
    "## common settings"
   ]
  },
  {
   "metadata": {
    "ExecuteTime": {
     "end_time": "2024-07-17T21:13:42.448531Z",
     "start_time": "2024-07-17T21:13:42.442753Z"
    }
   },
   "cell_type": "code",
   "source": [
    "SETUP = {\n",
    "    \"nx\": 32,\n",
    "    \"ny\": 32,\n",
    "    \"ux\": 0.5,\n",
    "    \"uy\": 0.25,\n",
    "    \"dt\": 0.025,\n",
    "    \"tmax\": 1.0\n",
    "}\n",
    "\n",
    "import json\n",
    "with open('setup.json', 'w', encoding='UTF-8') as f:\n",
    "    json.dump(SETUP, f)"
   ],
   "id": "dff76910f0610a2d",
   "outputs": [],
   "execution_count": 2
  },
  {
   "metadata": {},
   "cell_type": "markdown",
   "source": [
    "## Trixi.jl"
   ],
   "id": "52cd27020f7efe9"
  },
  {
   "metadata": {},
   "cell_type": "code",
   "source": [
    "%%writefile trixi.jl\n",
    "import Pkg\n",
    "Pkg.add([\"JSON\", \"Trixi\", \"OrdinaryDiffEq\"])\n",
    "using JSON\n",
    "using Trixi\n",
    "using OrdinaryDiffEq\n",
    "\n",
    "setup = JSON.parsefile(\"./setup.json\")\n",
    "\n",
    "advection_velocity = (setup[\"ux\"], setup[\"uy\"])\n",
    "equations = LinearScalarAdvectionEquation2D(advection_velocity)\n",
    "solver = DGSEM(polydeg = 3)\n",
    "\n",
    "function initial_condition(x, t, equations::LinearScalarAdvectionEquation2D)\n",
    "    return SVector(exp(-100 * (x[1]^2 + x[2]^2)))\n",
    "end\n",
    "\n",
    "cells_per_dimension = (setup[\"nx\"], setup[\"ny\"])\n",
    "coordinates_min = (-1.0, -1.0)\n",
    "coordinates_max = ( 1.0,  1.0)\n",
    "\n",
    "mesh = StructuredMesh(cells_per_dimension, coordinates_min, coordinates_max)\n",
    "semi = SemidiscretizationHyperbolic(mesh, equations, initial_condition, solver)\n",
    "\n",
    "tspan = (0.0, setup[\"tmax\"])\n",
    "ode = semidiscretize(semi, tspan);\n",
    "\n",
    "summary_callback = SummaryCallback()\n",
    "save_solution = SaveSolutionCallback(interval=100)\n",
    "\n",
    "stepsize_callback = StepsizeCallback(cfl = 1.6)\n",
    "\n",
    "callbacks = CallbackSet(summary_callback, save_solution, stepsize_callback)\n",
    "\n",
    "time_int_tol = 1e-6\n",
    "sol = solve(ode, CarpenterKennedy2N54();\n",
    "            abstol = time_int_tol,\n",
    "            reltol = time_int_tol,\n",
    "            dt = setup[\"dt\"],\n",
    "            ode_default_options()..., callback = callbacks);\n",
    "\n",
    "summary_callback()"
   ],
   "id": "6586bff9a39d588f",
   "outputs": [],
   "execution_count": null
  },
  {
   "metadata": {},
   "cell_type": "code",
   "source": [
    "!julia trixi.jl"
   ],
   "id": "56fb8302adfc01e7",
   "outputs": [],
   "execution_count": null
  },
  {
   "metadata": {},
   "cell_type": "markdown",
   "source": [
    "## PyMPDATA"
   ],
   "id": "a30cc2b4961f1be7"
  },
  {
   "metadata": {
    "ExecuteTime": {
     "end_time": "2024-07-17T21:13:46.615644Z",
     "start_time": "2024-07-17T21:13:45.797271Z"
    }
   },
   "cell_type": "code",
   "source": [
    "import os\n",
    "import sympy as sp\n",
    "import h5py\n",
    "import numpy as np\n",
    "import imageio\n",
    "from IPython.display import display\n",
    "from ipywidgets import FloatProgress\n",
    "import matplotlib.pyplot as plt\n",
    "from PyMPDATA import Solver, ScalarField, VectorField, Stepper, Options\n",
    "from PyMPDATA.boundary_conditions import Periodic"
   ],
   "id": "9aaadc4a5234804a",
   "outputs": [],
   "execution_count": 3
  },
  {
   "metadata": {
    "ExecuteTime": {
     "end_time": "2024-07-17T21:13:46.631367Z",
     "start_time": "2024-07-17T21:13:46.618284Z"
    }
   },
   "cell_type": "code",
   "source": [
    "steps_per_iter = 1\n",
    "opt = Options(n_iters=3, non_zero_mu_coeff=True, infinite_gauge=True, nonoscillatory=True)"
   ],
   "id": "9a0f60b51e32ce3e",
   "outputs": [],
   "execution_count": 4
  },
  {
   "metadata": {
    "ExecuteTime": {
     "end_time": "2024-07-17T21:13:46.639951Z",
     "start_time": "2024-07-17T21:13:46.634065Z"
    }
   },
   "cell_type": "code",
   "source": [
    "x0 = -1.\n",
    "y0 = -1.\n",
    "boundary_conditions = (Periodic(), Periodic())"
   ],
   "id": "64e3274fa4ac14a6",
   "outputs": [],
   "execution_count": 5
  },
  {
   "metadata": {
    "ExecuteTime": {
     "end_time": "2024-07-17T21:13:46.693276Z",
     "start_time": "2024-07-17T21:13:46.643897Z"
    }
   },
   "cell_type": "code",
   "source": [
    "mu = 0.0\n",
    "min_x, min_y = -1, -1\n",
    "max_x, max_y = 1, 1\n",
    "dx = (max_x - min_x) / SETUP['nx']\n",
    "dy = (max_y - min_y) / SETUP['ny']\n",
    "nt = int(SETUP['tmax'] / SETUP['dt'])\n",
    "Cx = SETUP['ux'] * SETUP['dt'] / dx\n",
    "Cy = SETUP['uy'] * SETUP['dt'] / dy\n",
    "# solution_symbolic = sp.sympify(\"sin(pi*(x+y))*exp(-mu*pi**2*t) + 1\", rational=True)\n",
    "solution_symbolic = sp.sympify(\"exp(-5*(x**2 + y**2)) + 1\", rational=True) #exp(-100 * (x[1]^2 + x[2]^2)))\n",
    "solution = solution_symbolic.subs({\"mu\": mu})"
   ],
   "id": "1f2e59f8bb5f083a",
   "outputs": [],
   "execution_count": 6
  },
  {
   "metadata": {
    "ExecuteTime": {
     "end_time": "2024-07-17T21:13:46.697126Z",
     "start_time": "2024-07-17T21:13:46.694413Z"
    }
   },
   "cell_type": "code",
   "source": [
    "def init_conditions(x, y):\n",
    "    return solution_symbolic.subs({\"t\":0, \"x\": x, \"y\": y}).evalf()"
   ],
   "id": "cab790be5c425ea5",
   "outputs": [],
   "execution_count": 7
  },
  {
   "metadata": {
    "ExecuteTime": {
     "end_time": "2024-07-17T21:13:47.036523Z",
     "start_time": "2024-07-17T21:13:46.698631Z"
    }
   },
   "cell_type": "code",
   "source": [
    "z = np.array(\n",
    "    [\n",
    "        # [\n",
    "            init_conditions(x, y) for x in np.linspace(min_x, max_x, SETUP['nx'])\n",
    "        # ]\n",
    "        for y in np.linspace(min_y, max_y, SETUP['ny'])\n",
    "    ],\n",
    "    dtype=float\n",
    ").reshape((SETUP['nx'], SETUP['ny']))"
   ],
   "id": "b454a74473b8f900",
   "outputs": [],
   "execution_count": 8
  },
  {
   "metadata": {
    "ExecuteTime": {
     "end_time": "2024-07-17T21:13:47.043229Z",
     "start_time": "2024-07-17T21:13:47.037890Z"
    }
   },
   "cell_type": "code",
   "source": [
    "def get_fwhm_edges(field_array):\n",
    "    half_max = (np.max(field_array) - 1) / 2\n",
    "    cells_above_half = np.sign(field_array - half_max - 1)\n",
    "    cells_above_half.astype(int)\n",
    "    # find the edges of the shape\n",
    "    edge = np.zeros_like(cells_above_half)\n",
    "    for i in range(cells_above_half.shape[0]):\n",
    "        for j in range(cells_above_half.shape[1]):\n",
    "            if cells_above_half[i, j] == 1:\n",
    "                neighbor_north = cells_above_half[i-1, j] if i > 0 else cells_above_half[cells_above_half.shape[0]-1, j]\n",
    "                neighbor_south = cells_above_half[i+1, j] if i < cells_above_half.shape[0]-1 else cells_above_half[0, j]\n",
    "                neighbor_west = cells_above_half[i, j-1] if j > 0 else cells_above_half[i, cells_above_half.shape[1]-1]\n",
    "                neighbor_east = cells_above_half[i, j+1] if j < cells_above_half.shape[1]-1 else cells_above_half[i, 0]\n",
    "                if neighbor_north <= 0 or neighbor_south <= 0 or neighbor_west <= 0 or neighbor_east <= 0:\n",
    "                    edge[i, j] = 1\n",
    "    return edge"
   ],
   "id": "31ee4bca43c4de90",
   "outputs": [],
   "execution_count": 9
  },
  {
   "metadata": {
    "ExecuteTime": {
     "end_time": "2024-07-17T21:13:47.047767Z",
     "start_time": "2024-07-17T21:13:47.044830Z"
    }
   },
   "cell_type": "code",
   "source": [
    "advectee = ScalarField(data=z, halo=opt.n_halo, boundary_conditions=boundary_conditions)"
   ],
   "id": "8a1032af6d345bae",
   "outputs": [],
   "execution_count": 10
  },
  {
   "metadata": {
    "ExecuteTime": {
     "end_time": "2024-07-17T21:13:47.185843Z",
     "start_time": "2024-07-17T21:13:47.181793Z"
    }
   },
   "cell_type": "code",
   "source": [
    "field_x = np.full((SETUP['nx']+1, SETUP['ny']), Cx, dtype=opt.dtype)\n",
    "field_y = np.full((SETUP['nx'], SETUP['ny']+1), Cy, dtype=opt.dtype)\n",
    "advector = VectorField(\n",
    "    data=(field_x, field_y),\n",
    "    halo=opt.n_halo,\n",
    "    boundary_conditions=(boundary_conditions[0], Periodic())\n",
    ")"
   ],
   "id": "fb28f958a4920cd",
   "outputs": [],
   "execution_count": 11
  },
  {
   "metadata": {
    "ExecuteTime": {
     "end_time": "2024-07-17T21:13:47.903851Z",
     "start_time": "2024-07-17T21:13:47.323049Z"
    }
   },
   "cell_type": "code",
   "source": [
    "stepper = Stepper(options=opt, n_dims=2)"
   ],
   "id": "45c8ea60d8490cd4",
   "outputs": [],
   "execution_count": 12
  },
  {
   "metadata": {
    "ExecuteTime": {
     "end_time": "2024-07-17T21:13:47.914037Z",
     "start_time": "2024-07-17T21:13:47.906032Z"
    }
   },
   "cell_type": "code",
   "source": [
    "# create a solver\n",
    "solver = Solver(stepper=stepper, advector=advector, advectee=advectee)"
   ],
   "id": "da998d41aad1e889",
   "outputs": [],
   "execution_count": 13
  },
  {
   "metadata": {
    "ExecuteTime": {
     "end_time": "2024-07-17T21:13:48.402341Z",
     "start_time": "2024-07-17T21:13:47.916118Z"
    }
   },
   "cell_type": "code",
   "source": [
    "# plot initial conditions\n",
    "plt.imshow(solver.advectee.get().copy(), cmap='viridis')\n",
    "plt.colorbar()\n",
    "show_plot()"
   ],
   "id": "d7a5cd43651621e6",
   "outputs": [
    {
     "data": {
      "text/plain": "<Figure size 640x480 with 2 Axes>",
      "image/svg+xml": "<?xml version=\"1.0\" encoding=\"utf-8\" standalone=\"no\"?>\n<!DOCTYPE svg PUBLIC \"-//W3C//DTD SVG 1.1//EN\"\n  \"http://www.w3.org/Graphics/SVG/1.1/DTD/svg11.dtd\">\n<svg xmlns:xlink=\"http://www.w3.org/1999/xlink\" width=\"354.301725pt\" height=\"297.190125pt\" viewBox=\"0 0 354.301725 297.190125\" xmlns=\"http://www.w3.org/2000/svg\" version=\"1.1\">\n <metadata>\n  <rdf:RDF xmlns:dc=\"http://purl.org/dc/elements/1.1/\" xmlns:cc=\"http://creativecommons.org/ns#\" xmlns:rdf=\"http://www.w3.org/1999/02/22-rdf-syntax-ns#\">\n   <cc:Work>\n    <dc:type rdf:resource=\"http://purl.org/dc/dcmitype/StillImage\"/>\n    <dc:date>2024-07-17T23:13:48.351313</dc:date>\n    <dc:format>image/svg+xml</dc:format>\n    <dc:creator>\n     <cc:Agent>\n      <dc:title>Matplotlib v3.9.0, https://matplotlib.org/</dc:title>\n     </cc:Agent>\n    </dc:creator>\n   </cc:Work>\n  </rdf:RDF>\n </metadata>\n <defs>\n  <style type=\"text/css\">*{stroke-linejoin: round; stroke-linecap: butt}</style>\n </defs>\n <g id=\"figure_1\">\n  <g id=\"patch_1\">\n   <path d=\"M 0 297.190125 \nL 354.301725 297.190125 \nL 354.301725 0 \nL 0 0 \nz\n\" style=\"fill: #ffffff\"/>\n  </g>\n  <g id=\"axes_1\">\n   <g id=\"patch_2\">\n    <path d=\"M 26.925 273.312 \nL 293.037 273.312 \nL 293.037 7.2 \nL 26.925 7.2 \nz\n\" style=\"fill: #ffffff\"/>\n   </g>\n   <g clip-path=\"url(#p8cb0aa47b2)\">\n    <image xlink:href=\"data:image/png;base64,\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\" id=\"image164d942797\" transform=\"scale(1 -1) translate(0 -266.4)\" x=\"26.925\" y=\"-6.912\" width=\"266.4\" height=\"266.4\"/>\n   </g>\n   <g id=\"matplotlib.axis_1\">\n    <g id=\"xtick_1\">\n     <g id=\"line2d_1\">\n      <defs>\n       <path id=\"me955622c3f\" d=\"M 0 0 \nL 0 3.5 \n\" style=\"stroke: #000000; stroke-width: 0.8\"/>\n      </defs>\n      <g>\n       <use xlink:href=\"#me955622c3f\" x=\"31.083\" y=\"273.312\" style=\"stroke: #000000; stroke-width: 0.8\"/>\n      </g>\n     </g>\n     <g id=\"text_1\">\n      <!-- 0 -->\n      <g transform=\"translate(27.90175 287.910437) scale(0.1 -0.1)\">\n       <defs>\n        <path id=\"DejaVuSans-30\" d=\"M 2034 4250 \nQ 1547 4250 1301 3770 \nQ 1056 3291 1056 2328 \nQ 1056 1369 1301 889 \nQ 1547 409 2034 409 \nQ 2525 409 2770 889 \nQ 3016 1369 3016 2328 \nQ 3016 3291 2770 3770 \nQ 2525 4250 2034 4250 \nz\nM 2034 4750 \nQ 2819 4750 3233 4129 \nQ 3647 3509 3647 2328 \nQ 3647 1150 3233 529 \nQ 2819 -91 2034 -91 \nQ 1250 -91 836 529 \nQ 422 1150 422 2328 \nQ 422 3509 836 4129 \nQ 1250 4750 2034 4750 \nz\n\" transform=\"scale(0.015625)\"/>\n       </defs>\n       <use xlink:href=\"#DejaVuSans-30\"/>\n      </g>\n     </g>\n    </g>\n    <g id=\"xtick_2\">\n     <g id=\"line2d_2\">\n      <g>\n       <use xlink:href=\"#me955622c3f\" x=\"72.663\" y=\"273.312\" style=\"stroke: #000000; stroke-width: 0.8\"/>\n      </g>\n     </g>\n     <g id=\"text_2\">\n      <!-- 5 -->\n      <g transform=\"translate(69.48175 287.910437) scale(0.1 -0.1)\">\n       <defs>\n        <path id=\"DejaVuSans-35\" d=\"M 691 4666 \nL 3169 4666 \nL 3169 4134 \nL 1269 4134 \nL 1269 2991 \nQ 1406 3038 1543 3061 \nQ 1681 3084 1819 3084 \nQ 2600 3084 3056 2656 \nQ 3513 2228 3513 1497 \nQ 3513 744 3044 326 \nQ 2575 -91 1722 -91 \nQ 1428 -91 1123 -41 \nQ 819 9 494 109 \nL 494 744 \nQ 775 591 1075 516 \nQ 1375 441 1709 441 \nQ 2250 441 2565 725 \nQ 2881 1009 2881 1497 \nQ 2881 1984 2565 2268 \nQ 2250 2553 1709 2553 \nQ 1456 2553 1204 2497 \nQ 953 2441 691 2322 \nL 691 4666 \nz\n\" transform=\"scale(0.015625)\"/>\n       </defs>\n       <use xlink:href=\"#DejaVuSans-35\"/>\n      </g>\n     </g>\n    </g>\n    <g id=\"xtick_3\">\n     <g id=\"line2d_3\">\n      <g>\n       <use xlink:href=\"#me955622c3f\" x=\"114.243\" y=\"273.312\" style=\"stroke: #000000; stroke-width: 0.8\"/>\n      </g>\n     </g>\n     <g id=\"text_3\">\n      <!-- 10 -->\n      <g transform=\"translate(107.8805 287.910437) scale(0.1 -0.1)\">\n       <defs>\n        <path id=\"DejaVuSans-31\" d=\"M 794 531 \nL 1825 531 \nL 1825 4091 \nL 703 3866 \nL 703 4441 \nL 1819 4666 \nL 2450 4666 \nL 2450 531 \nL 3481 531 \nL 3481 0 \nL 794 0 \nL 794 531 \nz\n\" transform=\"scale(0.015625)\"/>\n       </defs>\n       <use xlink:href=\"#DejaVuSans-31\"/>\n       <use xlink:href=\"#DejaVuSans-30\" x=\"63.623047\"/>\n      </g>\n     </g>\n    </g>\n    <g id=\"xtick_4\">\n     <g id=\"line2d_4\">\n      <g>\n       <use xlink:href=\"#me955622c3f\" x=\"155.823\" y=\"273.312\" style=\"stroke: #000000; stroke-width: 0.8\"/>\n      </g>\n     </g>\n     <g id=\"text_4\">\n      <!-- 15 -->\n      <g transform=\"translate(149.4605 287.910437) scale(0.1 -0.1)\">\n       <use xlink:href=\"#DejaVuSans-31\"/>\n       <use xlink:href=\"#DejaVuSans-35\" x=\"63.623047\"/>\n      </g>\n     </g>\n    </g>\n    <g id=\"xtick_5\">\n     <g id=\"line2d_5\">\n      <g>\n       <use xlink:href=\"#me955622c3f\" x=\"197.403\" y=\"273.312\" style=\"stroke: #000000; stroke-width: 0.8\"/>\n      </g>\n     </g>\n     <g id=\"text_5\">\n      <!-- 20 -->\n      <g transform=\"translate(191.0405 287.910437) scale(0.1 -0.1)\">\n       <defs>\n        <path id=\"DejaVuSans-32\" d=\"M 1228 531 \nL 3431 531 \nL 3431 0 \nL 469 0 \nL 469 531 \nQ 828 903 1448 1529 \nQ 2069 2156 2228 2338 \nQ 2531 2678 2651 2914 \nQ 2772 3150 2772 3378 \nQ 2772 3750 2511 3984 \nQ 2250 4219 1831 4219 \nQ 1534 4219 1204 4116 \nQ 875 4013 500 3803 \nL 500 4441 \nQ 881 4594 1212 4672 \nQ 1544 4750 1819 4750 \nQ 2544 4750 2975 4387 \nQ 3406 4025 3406 3419 \nQ 3406 3131 3298 2873 \nQ 3191 2616 2906 2266 \nQ 2828 2175 2409 1742 \nQ 1991 1309 1228 531 \nz\n\" transform=\"scale(0.015625)\"/>\n       </defs>\n       <use xlink:href=\"#DejaVuSans-32\"/>\n       <use xlink:href=\"#DejaVuSans-30\" x=\"63.623047\"/>\n      </g>\n     </g>\n    </g>\n    <g id=\"xtick_6\">\n     <g id=\"line2d_6\">\n      <g>\n       <use xlink:href=\"#me955622c3f\" x=\"238.983\" y=\"273.312\" style=\"stroke: #000000; stroke-width: 0.8\"/>\n      </g>\n     </g>\n     <g id=\"text_6\">\n      <!-- 25 -->\n      <g transform=\"translate(232.6205 287.910437) scale(0.1 -0.1)\">\n       <use xlink:href=\"#DejaVuSans-32\"/>\n       <use xlink:href=\"#DejaVuSans-35\" x=\"63.623047\"/>\n      </g>\n     </g>\n    </g>\n    <g id=\"xtick_7\">\n     <g id=\"line2d_7\">\n      <g>\n       <use xlink:href=\"#me955622c3f\" x=\"280.563\" y=\"273.312\" style=\"stroke: #000000; stroke-width: 0.8\"/>\n      </g>\n     </g>\n     <g id=\"text_7\">\n      <!-- 30 -->\n      <g transform=\"translate(274.2005 287.910437) scale(0.1 -0.1)\">\n       <defs>\n        <path id=\"DejaVuSans-33\" d=\"M 2597 2516 \nQ 3050 2419 3304 2112 \nQ 3559 1806 3559 1356 \nQ 3559 666 3084 287 \nQ 2609 -91 1734 -91 \nQ 1441 -91 1130 -33 \nQ 819 25 488 141 \nL 488 750 \nQ 750 597 1062 519 \nQ 1375 441 1716 441 \nQ 2309 441 2620 675 \nQ 2931 909 2931 1356 \nQ 2931 1769 2642 2001 \nQ 2353 2234 1838 2234 \nL 1294 2234 \nL 1294 2753 \nL 1863 2753 \nQ 2328 2753 2575 2939 \nQ 2822 3125 2822 3475 \nQ 2822 3834 2567 4026 \nQ 2313 4219 1838 4219 \nQ 1578 4219 1281 4162 \nQ 984 4106 628 3988 \nL 628 4550 \nQ 988 4650 1302 4700 \nQ 1616 4750 1894 4750 \nQ 2613 4750 3031 4423 \nQ 3450 4097 3450 3541 \nQ 3450 3153 3228 2886 \nQ 3006 2619 2597 2516 \nz\n\" transform=\"scale(0.015625)\"/>\n       </defs>\n       <use xlink:href=\"#DejaVuSans-33\"/>\n       <use xlink:href=\"#DejaVuSans-30\" x=\"63.623047\"/>\n      </g>\n     </g>\n    </g>\n   </g>\n   <g id=\"matplotlib.axis_2\">\n    <g id=\"ytick_1\">\n     <g id=\"line2d_8\">\n      <defs>\n       <path id=\"m40ebd1a398\" d=\"M 0 0 \nL -3.5 0 \n\" style=\"stroke: #000000; stroke-width: 0.8\"/>\n      </defs>\n      <g>\n       <use xlink:href=\"#m40ebd1a398\" x=\"26.925\" y=\"11.358\" style=\"stroke: #000000; stroke-width: 0.8\"/>\n      </g>\n     </g>\n     <g id=\"text_8\">\n      <!-- 0 -->\n      <g transform=\"translate(13.5625 15.157219) scale(0.1 -0.1)\">\n       <use xlink:href=\"#DejaVuSans-30\"/>\n      </g>\n     </g>\n    </g>\n    <g id=\"ytick_2\">\n     <g id=\"line2d_9\">\n      <g>\n       <use xlink:href=\"#m40ebd1a398\" x=\"26.925\" y=\"52.938\" style=\"stroke: #000000; stroke-width: 0.8\"/>\n      </g>\n     </g>\n     <g id=\"text_9\">\n      <!-- 5 -->\n      <g transform=\"translate(13.5625 56.737219) scale(0.1 -0.1)\">\n       <use xlink:href=\"#DejaVuSans-35\"/>\n      </g>\n     </g>\n    </g>\n    <g id=\"ytick_3\">\n     <g id=\"line2d_10\">\n      <g>\n       <use xlink:href=\"#m40ebd1a398\" x=\"26.925\" y=\"94.518\" style=\"stroke: #000000; stroke-width: 0.8\"/>\n      </g>\n     </g>\n     <g id=\"text_10\">\n      <!-- 10 -->\n      <g transform=\"translate(7.2 98.317219) scale(0.1 -0.1)\">\n       <use xlink:href=\"#DejaVuSans-31\"/>\n       <use xlink:href=\"#DejaVuSans-30\" x=\"63.623047\"/>\n      </g>\n     </g>\n    </g>\n    <g id=\"ytick_4\">\n     <g id=\"line2d_11\">\n      <g>\n       <use xlink:href=\"#m40ebd1a398\" x=\"26.925\" y=\"136.098\" style=\"stroke: #000000; stroke-width: 0.8\"/>\n      </g>\n     </g>\n     <g id=\"text_11\">\n      <!-- 15 -->\n      <g transform=\"translate(7.2 139.897219) scale(0.1 -0.1)\">\n       <use xlink:href=\"#DejaVuSans-31\"/>\n       <use xlink:href=\"#DejaVuSans-35\" x=\"63.623047\"/>\n      </g>\n     </g>\n    </g>\n    <g id=\"ytick_5\">\n     <g id=\"line2d_12\">\n      <g>\n       <use xlink:href=\"#m40ebd1a398\" x=\"26.925\" y=\"177.678\" style=\"stroke: #000000; stroke-width: 0.8\"/>\n      </g>\n     </g>\n     <g id=\"text_12\">\n      <!-- 20 -->\n      <g transform=\"translate(7.2 181.477219) scale(0.1 -0.1)\">\n       <use xlink:href=\"#DejaVuSans-32\"/>\n       <use xlink:href=\"#DejaVuSans-30\" x=\"63.623047\"/>\n      </g>\n     </g>\n    </g>\n    <g id=\"ytick_6\">\n     <g id=\"line2d_13\">\n      <g>\n       <use xlink:href=\"#m40ebd1a398\" x=\"26.925\" y=\"219.258\" style=\"stroke: #000000; stroke-width: 0.8\"/>\n      </g>\n     </g>\n     <g id=\"text_13\">\n      <!-- 25 -->\n      <g transform=\"translate(7.2 223.057219) scale(0.1 -0.1)\">\n       <use xlink:href=\"#DejaVuSans-32\"/>\n       <use xlink:href=\"#DejaVuSans-35\" x=\"63.623047\"/>\n      </g>\n     </g>\n    </g>\n    <g id=\"ytick_7\">\n     <g id=\"line2d_14\">\n      <g>\n       <use xlink:href=\"#m40ebd1a398\" x=\"26.925\" y=\"260.838\" style=\"stroke: #000000; stroke-width: 0.8\"/>\n      </g>\n     </g>\n     <g id=\"text_14\">\n      <!-- 30 -->\n      <g transform=\"translate(7.2 264.637219) scale(0.1 -0.1)\">\n       <use xlink:href=\"#DejaVuSans-33\"/>\n       <use xlink:href=\"#DejaVuSans-30\" x=\"63.623047\"/>\n      </g>\n     </g>\n    </g>\n   </g>\n   <g id=\"patch_3\">\n    <path d=\"M 26.925 273.312 \nL 26.925 7.2 \n\" style=\"fill: none; stroke: #000000; stroke-width: 0.8; stroke-linejoin: miter; stroke-linecap: square\"/>\n   </g>\n   <g id=\"patch_4\">\n    <path d=\"M 293.037 273.312 \nL 293.037 7.2 \n\" style=\"fill: none; stroke: #000000; stroke-width: 0.8; stroke-linejoin: miter; stroke-linecap: square\"/>\n   </g>\n   <g id=\"patch_5\">\n    <path d=\"M 26.925 273.312 \nL 293.037 273.312 \n\" style=\"fill: none; stroke: #000000; stroke-width: 0.8; stroke-linejoin: miter; stroke-linecap: square\"/>\n   </g>\n   <g id=\"patch_6\">\n    <path d=\"M 26.925 7.2 \nL 293.037 7.2 \n\" style=\"fill: none; stroke: #000000; stroke-width: 0.8; stroke-linejoin: miter; stroke-linecap: square\"/>\n   </g>\n  </g>\n  <g id=\"axes_2\">\n   <g id=\"patch_7\">\n    <path d=\"M 310.893 273.312 \nL 324.1986 273.312 \nL 324.1986 7.2 \nL 310.893 7.2 \nz\n\" style=\"fill: #ffffff\"/>\n   </g>\n   <image xlink:href=\"data:image/png;base64,\niVBORw0KGgoAAAANSUhEUgAAABIAAAFyCAYAAAD4TYq5AAAB70lEQVR4nO2d0Q0CMQxD02tHYwT2H4UyQvh4Qk9WMoBVx47bHqdjvdb7FlAPAVJVdWoxWGc9iwGiVsT1KJhacdQYIFI1yNk+amWjhvkIlJ8KNh81TrVxdlfBqmU7e3bappSq6ajZVDtX2CMKyEct19mUjzD5g1Wboe3L6GwGx+jsmzu0F1JN6GzKkMl5JKTGqcYAZQ8tAyS8Qhjlh4CM1Ea1Dih4pw3OI+roZ6Q2hmyBdNMfHGxDra/oS41NNWFm63o01Poaav8ECu4R8jZcKan5ojZ4F9FRmx71JRza5KjNpTY9agtb0eRRX2PIH4Ci5WfOtcny+1SLNiQGlOpsX7OVzmbk9zVbqJpvaH09Gmf3QNDPIsbzkc+Q3NBWbI9WrvzR1CAgX9RiqmE9olYkDDYfNYiZkprO2U9yj3zUIKBg1R7ooBWsmtDZQ+0HIKGzKWrBqtmAwB5Rd1ohtWDVcvMIVO1DAel6lDy0kGrbR41TjemRcGj39KgFMjo7Nmp3MDVsg6SGllqRcTsSHrSGWgdETb9xF6GCTTi0wXnEqWYbWnCntakGzhp279f1KDizc/OIu6/pVAMNGfu0hgs24RlS9kjDOLS6N6LAPGLqbGGPoO9oUUsiMxujZvtwCaiajhqnGvRXBcYeYdRkn+H/AmwfjeY0lt0cAAAAAElFTkSuQmCC\" id=\"image276cb5cd27\" transform=\"scale(1 -1) translate(0 -266.4)\" x=\"311.04\" y=\"-6.48\" width=\"12.96\" height=\"266.4\"/>\n   <g id=\"matplotlib.axis_3\"/>\n   <g id=\"matplotlib.axis_4\">\n    <g id=\"ytick_8\">\n     <g id=\"line2d_15\">\n      <defs>\n       <path id=\"ma830811489\" d=\"M 0 0 \nL 3.5 0 \n\" style=\"stroke: #000000; stroke-width: 0.8\"/>\n      </defs>\n      <g>\n       <use xlink:href=\"#ma830811489\" x=\"324.1986\" y=\"219.542627\" style=\"stroke: #000000; stroke-width: 0.8\"/>\n      </g>\n     </g>\n     <g id=\"text_15\">\n      <!-- 1.2 -->\n      <g transform=\"translate(331.1986 223.341845) scale(0.1 -0.1)\">\n       <defs>\n        <path id=\"DejaVuSans-2e\" d=\"M 684 794 \nL 1344 794 \nL 1344 0 \nL 684 0 \nL 684 794 \nz\n\" transform=\"scale(0.015625)\"/>\n       </defs>\n       <use xlink:href=\"#DejaVuSans-31\"/>\n       <use xlink:href=\"#DejaVuSans-2e\" x=\"63.623047\"/>\n       <use xlink:href=\"#DejaVuSans-32\" x=\"95.410156\"/>\n      </g>\n     </g>\n    </g>\n    <g id=\"ytick_9\">\n     <g id=\"line2d_16\">\n      <g>\n       <use xlink:href=\"#ma830811489\" x=\"324.1986\" y=\"165.761045\" style=\"stroke: #000000; stroke-width: 0.8\"/>\n      </g>\n     </g>\n     <g id=\"text_16\">\n      <!-- 1.4 -->\n      <g transform=\"translate(331.1986 169.560263) scale(0.1 -0.1)\">\n       <defs>\n        <path id=\"DejaVuSans-34\" d=\"M 2419 4116 \nL 825 1625 \nL 2419 1625 \nL 2419 4116 \nz\nM 2253 4666 \nL 3047 4666 \nL 3047 1625 \nL 3713 1625 \nL 3713 1100 \nL 3047 1100 \nL 3047 0 \nL 2419 0 \nL 2419 1100 \nL 313 1100 \nL 313 1709 \nL 2253 4666 \nz\n\" transform=\"scale(0.015625)\"/>\n       </defs>\n       <use xlink:href=\"#DejaVuSans-31\"/>\n       <use xlink:href=\"#DejaVuSans-2e\" x=\"63.623047\"/>\n       <use xlink:href=\"#DejaVuSans-34\" x=\"95.410156\"/>\n      </g>\n     </g>\n    </g>\n    <g id=\"ytick_10\">\n     <g id=\"line2d_17\">\n      <g>\n       <use xlink:href=\"#ma830811489\" x=\"324.1986\" y=\"111.979463\" style=\"stroke: #000000; stroke-width: 0.8\"/>\n      </g>\n     </g>\n     <g id=\"text_17\">\n      <!-- 1.6 -->\n      <g transform=\"translate(331.1986 115.778682) scale(0.1 -0.1)\">\n       <defs>\n        <path id=\"DejaVuSans-36\" d=\"M 2113 2584 \nQ 1688 2584 1439 2293 \nQ 1191 2003 1191 1497 \nQ 1191 994 1439 701 \nQ 1688 409 2113 409 \nQ 2538 409 2786 701 \nQ 3034 994 3034 1497 \nQ 3034 2003 2786 2293 \nQ 2538 2584 2113 2584 \nz\nM 3366 4563 \nL 3366 3988 \nQ 3128 4100 2886 4159 \nQ 2644 4219 2406 4219 \nQ 1781 4219 1451 3797 \nQ 1122 3375 1075 2522 \nQ 1259 2794 1537 2939 \nQ 1816 3084 2150 3084 \nQ 2853 3084 3261 2657 \nQ 3669 2231 3669 1497 \nQ 3669 778 3244 343 \nQ 2819 -91 2113 -91 \nQ 1303 -91 875 529 \nQ 447 1150 447 2328 \nQ 447 3434 972 4092 \nQ 1497 4750 2381 4750 \nQ 2619 4750 2861 4703 \nQ 3103 4656 3366 4563 \nz\n\" transform=\"scale(0.015625)\"/>\n       </defs>\n       <use xlink:href=\"#DejaVuSans-31\"/>\n       <use xlink:href=\"#DejaVuSans-2e\" x=\"63.623047\"/>\n       <use xlink:href=\"#DejaVuSans-36\" x=\"95.410156\"/>\n      </g>\n     </g>\n    </g>\n    <g id=\"ytick_11\">\n     <g id=\"line2d_18\">\n      <g>\n       <use xlink:href=\"#ma830811489\" x=\"324.1986\" y=\"58.197881\" style=\"stroke: #000000; stroke-width: 0.8\"/>\n      </g>\n     </g>\n     <g id=\"text_18\">\n      <!-- 1.8 -->\n      <g transform=\"translate(331.1986 61.9971) scale(0.1 -0.1)\">\n       <defs>\n        <path id=\"DejaVuSans-38\" d=\"M 2034 2216 \nQ 1584 2216 1326 1975 \nQ 1069 1734 1069 1313 \nQ 1069 891 1326 650 \nQ 1584 409 2034 409 \nQ 2484 409 2743 651 \nQ 3003 894 3003 1313 \nQ 3003 1734 2745 1975 \nQ 2488 2216 2034 2216 \nz\nM 1403 2484 \nQ 997 2584 770 2862 \nQ 544 3141 544 3541 \nQ 544 4100 942 4425 \nQ 1341 4750 2034 4750 \nQ 2731 4750 3128 4425 \nQ 3525 4100 3525 3541 \nQ 3525 3141 3298 2862 \nQ 3072 2584 2669 2484 \nQ 3125 2378 3379 2068 \nQ 3634 1759 3634 1313 \nQ 3634 634 3220 271 \nQ 2806 -91 2034 -91 \nQ 1263 -91 848 271 \nQ 434 634 434 1313 \nQ 434 1759 690 2068 \nQ 947 2378 1403 2484 \nz\nM 1172 3481 \nQ 1172 3119 1398 2916 \nQ 1625 2713 2034 2713 \nQ 2441 2713 2670 2916 \nQ 2900 3119 2900 3481 \nQ 2900 3844 2670 4047 \nQ 2441 4250 2034 4250 \nQ 1625 4250 1398 4047 \nQ 1172 3844 1172 3481 \nz\n\" transform=\"scale(0.015625)\"/>\n       </defs>\n       <use xlink:href=\"#DejaVuSans-31\"/>\n       <use xlink:href=\"#DejaVuSans-2e\" x=\"63.623047\"/>\n       <use xlink:href=\"#DejaVuSans-38\" x=\"95.410156\"/>\n      </g>\n     </g>\n    </g>\n   </g>\n   <g id=\"LineCollection_1\"/>\n   <g id=\"patch_8\">\n    <path d=\"M 310.893 273.312 \nL 317.5458 273.312 \nL 324.1986 273.312 \nL 324.1986 7.2 \nL 317.5458 7.2 \nL 310.893 7.2 \nL 310.893 273.312 \nz\n\" style=\"fill: none; stroke: #000000; stroke-width: 0.8; stroke-linejoin: miter; stroke-linecap: square\"/>\n   </g>\n  </g>\n </g>\n <defs>\n  <clipPath id=\"p8cb0aa47b2\">\n   <rect x=\"26.925\" y=\"7.2\" width=\"266.112\" height=\"266.112\"/>\n  </clipPath>\n </defs>\n</svg>\n"
     },
     "metadata": {},
     "output_type": "display_data"
    },
    {
     "data": {
      "text/plain": "HTML(value=\"<a href='./tmppjek7352.pdf' target='_blank'>./tmppjek7352.pdf</a><br>\")",
      "application/vnd.jupyter.widget-view+json": {
       "version_major": 2,
       "version_minor": 0,
       "model_id": "67c008a754914da1bb754d765df2719e"
      }
     },
     "metadata": {},
     "output_type": "display_data"
    }
   ],
   "execution_count": 14
  },
  {
   "metadata": {
    "ExecuteTime": {
     "end_time": "2024-07-17T21:14:43.587779Z",
     "start_time": "2024-07-17T21:13:48.404423Z"
    }
   },
   "cell_type": "code",
   "source": [
    "progbar = FloatProgress(value=0, min=0, max=1)\n",
    "display(progbar)\n",
    "\n",
    "states_history = [solver.advectee.get().copy()]\n",
    "for i in range(nt//5):\n",
    "    solver.advance(n_steps=5, mu_coeff=(mu, mu))\n",
    "    states_history.append(solver.advectee.get().copy())\n",
    "    progbar.value = (i + 1.) / (nt//5)"
   ],
   "id": "2b279996b00be430",
   "outputs": [
    {
     "data": {
      "text/plain": "FloatProgress(value=0.0, max=1.0)",
      "application/vnd.jupyter.widget-view+json": {
       "version_major": 2,
       "version_minor": 0,
       "model_id": "e81c56120d824d5ab8e47daa1a4a22b5"
      }
     },
     "metadata": {},
     "output_type": "display_data"
    }
   ],
   "execution_count": 15
  },
  {
   "metadata": {
    "ExecuteTime": {
     "end_time": "2024-07-17T21:14:44.550597Z",
     "start_time": "2024-07-17T21:14:43.588888Z"
    }
   },
   "cell_type": "code",
   "source": [
    "os.makedirs(\"animation\", exist_ok=True)\n",
    "for i, state in enumerate(states_history):\n",
    "    state = np.flipud(state)\n",
    "    plt.imshow(state, cmap='viridis')\n",
    "    plt.axis('off')\n",
    "    plt.tight_layout()\n",
    "    plt.colorbar()\n",
    "    plt.savefig(f\"animation/frame_{i:03d}.png\")\n",
    "    plt.close()"
   ],
   "id": "cc07e0075e5b9857",
   "outputs": [],
   "execution_count": 16
  },
  {
   "metadata": {
    "ExecuteTime": {
     "end_time": "2024-07-17T21:14:44.554424Z",
     "start_time": "2024-07-17T21:14:44.551595Z"
    }
   },
   "cell_type": "code",
   "source": [
    "def merge_images_into_gif(image_folder, gif_name, duration=0.1):\n",
    "    with imageio.get_writer(gif_name, mode='I', duration=duration) as writer:\n",
    "        for filename in sorted(os.listdir(image_folder)):\n",
    "            image = imageio.imread(os.path.join(image_folder, filename))\n",
    "            writer.append_data(image)"
   ],
   "id": "1888a38e39bf2395",
   "outputs": [],
   "execution_count": 17
  },
  {
   "metadata": {
    "ExecuteTime": {
     "end_time": "2024-07-17T21:14:44.736565Z",
     "start_time": "2024-07-17T21:14:44.556229Z"
    }
   },
   "cell_type": "code",
   "source": [
    "merge_images_into_gif(\"animation\", \"advection_diffusion.gif\", duration=0.01)"
   ],
   "id": "52bc22d60805baa6",
   "outputs": [
    {
     "name": "stderr",
     "output_type": "stream",
     "text": [
      "/tmp/ipykernel_4551/4038964355.py:4: DeprecationWarning: Starting with ImageIO v3 the behavior of this function will switch to that of iio.v3.imread. To keep the current behavior (and make this warning disappear) use `import imageio.v2 as imageio` or call `imageio.v2.imread` directly.\n",
      "  image = imageio.imread(os.path.join(image_folder, filename))\n"
     ]
    }
   ],
   "execution_count": 18
  },
  {
   "metadata": {
    "ExecuteTime": {
     "end_time": "2024-07-17T21:14:44.853434Z",
     "start_time": "2024-07-17T21:14:44.737724Z"
    }
   },
   "cell_type": "code",
   "source": [
    "# read trixi output\n",
    "with h5py.File('out/solution_000031.h5', 'r') as f:\n",
    "    # average every 16 points to reduce the number of points\n",
    "    temp = np.array([np.mean(x) for x in f['variables_1'][:].reshape(-1, 16)])\n",
    "    plt.imshow(temp[:].reshape(SETUP['ny'], SETUP['nx']).transpose())\n",
    "    plt.show()"
   ],
   "id": "46d93e7dde3430e0",
   "outputs": [
    {
     "data": {
      "text/plain": "<Figure size 640x480 with 1 Axes>",
      "image/svg+xml": "<?xml version=\"1.0\" encoding=\"utf-8\" standalone=\"no\"?>\n<!DOCTYPE svg PUBLIC \"-//W3C//DTD SVG 1.1//EN\"\n  \"http://www.w3.org/Graphics/SVG/1.1/DTD/svg11.dtd\">\n<svg xmlns:xlink=\"http://www.w3.org/1999/xlink\" width=\"300.237pt\" height=\"297.190125pt\" viewBox=\"0 0 300.237 297.190125\" xmlns=\"http://www.w3.org/2000/svg\" version=\"1.1\">\n <metadata>\n  <rdf:RDF xmlns:dc=\"http://purl.org/dc/elements/1.1/\" xmlns:cc=\"http://creativecommons.org/ns#\" xmlns:rdf=\"http://www.w3.org/1999/02/22-rdf-syntax-ns#\">\n   <cc:Work>\n    <dc:type rdf:resource=\"http://purl.org/dc/dcmitype/StillImage\"/>\n    <dc:date>2024-07-17T23:14:44.810370</dc:date>\n    <dc:format>image/svg+xml</dc:format>\n    <dc:creator>\n     <cc:Agent>\n      <dc:title>Matplotlib v3.9.0, https://matplotlib.org/</dc:title>\n     </cc:Agent>\n    </dc:creator>\n   </cc:Work>\n  </rdf:RDF>\n </metadata>\n <defs>\n  <style type=\"text/css\">*{stroke-linejoin: round; stroke-linecap: butt}</style>\n </defs>\n <g id=\"figure_1\">\n  <g id=\"patch_1\">\n   <path d=\"M -0 297.190125 \nL 300.237 297.190125 \nL 300.237 0 \nL -0 0 \nz\n\" style=\"fill: #ffffff\"/>\n  </g>\n  <g id=\"axes_1\">\n   <g id=\"patch_2\">\n    <path d=\"M 26.925 273.312 \nL 293.037 273.312 \nL 293.037 7.2 \nL 26.925 7.2 \nz\n\" style=\"fill: #ffffff\"/>\n   </g>\n   <g clip-path=\"url(#p63bf3fe8ac)\">\n    <image xlink:href=\"data:image/png;base64,\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\" id=\"image0cf879c86c\" transform=\"scale(1 -1) translate(0 -266.4)\" x=\"26.925\" y=\"-6.912\" width=\"266.4\" height=\"266.4\"/>\n   </g>\n   <g id=\"matplotlib.axis_1\">\n    <g id=\"xtick_1\">\n     <g id=\"line2d_1\">\n      <defs>\n       <path id=\"m87dc2abf17\" d=\"M 0 0 \nL 0 3.5 \n\" style=\"stroke: #000000; stroke-width: 0.8\"/>\n      </defs>\n      <g>\n       <use xlink:href=\"#m87dc2abf17\" x=\"31.083\" y=\"273.312\" style=\"stroke: #000000; stroke-width: 0.8\"/>\n      </g>\n     </g>\n     <g id=\"text_1\">\n      <!-- 0 -->\n      <g transform=\"translate(27.90175 287.910437) scale(0.1 -0.1)\">\n       <defs>\n        <path id=\"DejaVuSans-30\" d=\"M 2034 4250 \nQ 1547 4250 1301 3770 \nQ 1056 3291 1056 2328 \nQ 1056 1369 1301 889 \nQ 1547 409 2034 409 \nQ 2525 409 2770 889 \nQ 3016 1369 3016 2328 \nQ 3016 3291 2770 3770 \nQ 2525 4250 2034 4250 \nz\nM 2034 4750 \nQ 2819 4750 3233 4129 \nQ 3647 3509 3647 2328 \nQ 3647 1150 3233 529 \nQ 2819 -91 2034 -91 \nQ 1250 -91 836 529 \nQ 422 1150 422 2328 \nQ 422 3509 836 4129 \nQ 1250 4750 2034 4750 \nz\n\" transform=\"scale(0.015625)\"/>\n       </defs>\n       <use xlink:href=\"#DejaVuSans-30\"/>\n      </g>\n     </g>\n    </g>\n    <g id=\"xtick_2\">\n     <g id=\"line2d_2\">\n      <g>\n       <use xlink:href=\"#m87dc2abf17\" x=\"72.663\" y=\"273.312\" style=\"stroke: #000000; stroke-width: 0.8\"/>\n      </g>\n     </g>\n     <g id=\"text_2\">\n      <!-- 5 -->\n      <g transform=\"translate(69.48175 287.910437) scale(0.1 -0.1)\">\n       <defs>\n        <path id=\"DejaVuSans-35\" d=\"M 691 4666 \nL 3169 4666 \nL 3169 4134 \nL 1269 4134 \nL 1269 2991 \nQ 1406 3038 1543 3061 \nQ 1681 3084 1819 3084 \nQ 2600 3084 3056 2656 \nQ 3513 2228 3513 1497 \nQ 3513 744 3044 326 \nQ 2575 -91 1722 -91 \nQ 1428 -91 1123 -41 \nQ 819 9 494 109 \nL 494 744 \nQ 775 591 1075 516 \nQ 1375 441 1709 441 \nQ 2250 441 2565 725 \nQ 2881 1009 2881 1497 \nQ 2881 1984 2565 2268 \nQ 2250 2553 1709 2553 \nQ 1456 2553 1204 2497 \nQ 953 2441 691 2322 \nL 691 4666 \nz\n\" transform=\"scale(0.015625)\"/>\n       </defs>\n       <use xlink:href=\"#DejaVuSans-35\"/>\n      </g>\n     </g>\n    </g>\n    <g id=\"xtick_3\">\n     <g id=\"line2d_3\">\n      <g>\n       <use xlink:href=\"#m87dc2abf17\" x=\"114.243\" y=\"273.312\" style=\"stroke: #000000; stroke-width: 0.8\"/>\n      </g>\n     </g>\n     <g id=\"text_3\">\n      <!-- 10 -->\n      <g transform=\"translate(107.8805 287.910437) scale(0.1 -0.1)\">\n       <defs>\n        <path id=\"DejaVuSans-31\" d=\"M 794 531 \nL 1825 531 \nL 1825 4091 \nL 703 3866 \nL 703 4441 \nL 1819 4666 \nL 2450 4666 \nL 2450 531 \nL 3481 531 \nL 3481 0 \nL 794 0 \nL 794 531 \nz\n\" transform=\"scale(0.015625)\"/>\n       </defs>\n       <use xlink:href=\"#DejaVuSans-31\"/>\n       <use xlink:href=\"#DejaVuSans-30\" x=\"63.623047\"/>\n      </g>\n     </g>\n    </g>\n    <g id=\"xtick_4\">\n     <g id=\"line2d_4\">\n      <g>\n       <use xlink:href=\"#m87dc2abf17\" x=\"155.823\" y=\"273.312\" style=\"stroke: #000000; stroke-width: 0.8\"/>\n      </g>\n     </g>\n     <g id=\"text_4\">\n      <!-- 15 -->\n      <g transform=\"translate(149.4605 287.910437) scale(0.1 -0.1)\">\n       <use xlink:href=\"#DejaVuSans-31\"/>\n       <use xlink:href=\"#DejaVuSans-35\" x=\"63.623047\"/>\n      </g>\n     </g>\n    </g>\n    <g id=\"xtick_5\">\n     <g id=\"line2d_5\">\n      <g>\n       <use xlink:href=\"#m87dc2abf17\" x=\"197.403\" y=\"273.312\" style=\"stroke: #000000; stroke-width: 0.8\"/>\n      </g>\n     </g>\n     <g id=\"text_5\">\n      <!-- 20 -->\n      <g transform=\"translate(191.0405 287.910437) scale(0.1 -0.1)\">\n       <defs>\n        <path id=\"DejaVuSans-32\" d=\"M 1228 531 \nL 3431 531 \nL 3431 0 \nL 469 0 \nL 469 531 \nQ 828 903 1448 1529 \nQ 2069 2156 2228 2338 \nQ 2531 2678 2651 2914 \nQ 2772 3150 2772 3378 \nQ 2772 3750 2511 3984 \nQ 2250 4219 1831 4219 \nQ 1534 4219 1204 4116 \nQ 875 4013 500 3803 \nL 500 4441 \nQ 881 4594 1212 4672 \nQ 1544 4750 1819 4750 \nQ 2544 4750 2975 4387 \nQ 3406 4025 3406 3419 \nQ 3406 3131 3298 2873 \nQ 3191 2616 2906 2266 \nQ 2828 2175 2409 1742 \nQ 1991 1309 1228 531 \nz\n\" transform=\"scale(0.015625)\"/>\n       </defs>\n       <use xlink:href=\"#DejaVuSans-32\"/>\n       <use xlink:href=\"#DejaVuSans-30\" x=\"63.623047\"/>\n      </g>\n     </g>\n    </g>\n    <g id=\"xtick_6\">\n     <g id=\"line2d_6\">\n      <g>\n       <use xlink:href=\"#m87dc2abf17\" x=\"238.983\" y=\"273.312\" style=\"stroke: #000000; stroke-width: 0.8\"/>\n      </g>\n     </g>\n     <g id=\"text_6\">\n      <!-- 25 -->\n      <g transform=\"translate(232.6205 287.910437) scale(0.1 -0.1)\">\n       <use xlink:href=\"#DejaVuSans-32\"/>\n       <use xlink:href=\"#DejaVuSans-35\" x=\"63.623047\"/>\n      </g>\n     </g>\n    </g>\n    <g id=\"xtick_7\">\n     <g id=\"line2d_7\">\n      <g>\n       <use xlink:href=\"#m87dc2abf17\" x=\"280.563\" y=\"273.312\" style=\"stroke: #000000; stroke-width: 0.8\"/>\n      </g>\n     </g>\n     <g id=\"text_7\">\n      <!-- 30 -->\n      <g transform=\"translate(274.2005 287.910437) scale(0.1 -0.1)\">\n       <defs>\n        <path id=\"DejaVuSans-33\" d=\"M 2597 2516 \nQ 3050 2419 3304 2112 \nQ 3559 1806 3559 1356 \nQ 3559 666 3084 287 \nQ 2609 -91 1734 -91 \nQ 1441 -91 1130 -33 \nQ 819 25 488 141 \nL 488 750 \nQ 750 597 1062 519 \nQ 1375 441 1716 441 \nQ 2309 441 2620 675 \nQ 2931 909 2931 1356 \nQ 2931 1769 2642 2001 \nQ 2353 2234 1838 2234 \nL 1294 2234 \nL 1294 2753 \nL 1863 2753 \nQ 2328 2753 2575 2939 \nQ 2822 3125 2822 3475 \nQ 2822 3834 2567 4026 \nQ 2313 4219 1838 4219 \nQ 1578 4219 1281 4162 \nQ 984 4106 628 3988 \nL 628 4550 \nQ 988 4650 1302 4700 \nQ 1616 4750 1894 4750 \nQ 2613 4750 3031 4423 \nQ 3450 4097 3450 3541 \nQ 3450 3153 3228 2886 \nQ 3006 2619 2597 2516 \nz\n\" transform=\"scale(0.015625)\"/>\n       </defs>\n       <use xlink:href=\"#DejaVuSans-33\"/>\n       <use xlink:href=\"#DejaVuSans-30\" x=\"63.623047\"/>\n      </g>\n     </g>\n    </g>\n   </g>\n   <g id=\"matplotlib.axis_2\">\n    <g id=\"ytick_1\">\n     <g id=\"line2d_8\">\n      <defs>\n       <path id=\"mb4500805c6\" d=\"M 0 0 \nL -3.5 0 \n\" style=\"stroke: #000000; stroke-width: 0.8\"/>\n      </defs>\n      <g>\n       <use xlink:href=\"#mb4500805c6\" x=\"26.925\" y=\"11.358\" style=\"stroke: #000000; stroke-width: 0.8\"/>\n      </g>\n     </g>\n     <g id=\"text_8\">\n      <!-- 0 -->\n      <g transform=\"translate(13.5625 15.157219) scale(0.1 -0.1)\">\n       <use xlink:href=\"#DejaVuSans-30\"/>\n      </g>\n     </g>\n    </g>\n    <g id=\"ytick_2\">\n     <g id=\"line2d_9\">\n      <g>\n       <use xlink:href=\"#mb4500805c6\" x=\"26.925\" y=\"52.938\" style=\"stroke: #000000; stroke-width: 0.8\"/>\n      </g>\n     </g>\n     <g id=\"text_9\">\n      <!-- 5 -->\n      <g transform=\"translate(13.5625 56.737219) scale(0.1 -0.1)\">\n       <use xlink:href=\"#DejaVuSans-35\"/>\n      </g>\n     </g>\n    </g>\n    <g id=\"ytick_3\">\n     <g id=\"line2d_10\">\n      <g>\n       <use xlink:href=\"#mb4500805c6\" x=\"26.925\" y=\"94.518\" style=\"stroke: #000000; stroke-width: 0.8\"/>\n      </g>\n     </g>\n     <g id=\"text_10\">\n      <!-- 10 -->\n      <g transform=\"translate(7.2 98.317219) scale(0.1 -0.1)\">\n       <use xlink:href=\"#DejaVuSans-31\"/>\n       <use xlink:href=\"#DejaVuSans-30\" x=\"63.623047\"/>\n      </g>\n     </g>\n    </g>\n    <g id=\"ytick_4\">\n     <g id=\"line2d_11\">\n      <g>\n       <use xlink:href=\"#mb4500805c6\" x=\"26.925\" y=\"136.098\" style=\"stroke: #000000; stroke-width: 0.8\"/>\n      </g>\n     </g>\n     <g id=\"text_11\">\n      <!-- 15 -->\n      <g transform=\"translate(7.2 139.897219) scale(0.1 -0.1)\">\n       <use xlink:href=\"#DejaVuSans-31\"/>\n       <use xlink:href=\"#DejaVuSans-35\" x=\"63.623047\"/>\n      </g>\n     </g>\n    </g>\n    <g id=\"ytick_5\">\n     <g id=\"line2d_12\">\n      <g>\n       <use xlink:href=\"#mb4500805c6\" x=\"26.925\" y=\"177.678\" style=\"stroke: #000000; stroke-width: 0.8\"/>\n      </g>\n     </g>\n     <g id=\"text_12\">\n      <!-- 20 -->\n      <g transform=\"translate(7.2 181.477219) scale(0.1 -0.1)\">\n       <use xlink:href=\"#DejaVuSans-32\"/>\n       <use xlink:href=\"#DejaVuSans-30\" x=\"63.623047\"/>\n      </g>\n     </g>\n    </g>\n    <g id=\"ytick_6\">\n     <g id=\"line2d_13\">\n      <g>\n       <use xlink:href=\"#mb4500805c6\" x=\"26.925\" y=\"219.258\" style=\"stroke: #000000; stroke-width: 0.8\"/>\n      </g>\n     </g>\n     <g id=\"text_13\">\n      <!-- 25 -->\n      <g transform=\"translate(7.2 223.057219) scale(0.1 -0.1)\">\n       <use xlink:href=\"#DejaVuSans-32\"/>\n       <use xlink:href=\"#DejaVuSans-35\" x=\"63.623047\"/>\n      </g>\n     </g>\n    </g>\n    <g id=\"ytick_7\">\n     <g id=\"line2d_14\">\n      <g>\n       <use xlink:href=\"#mb4500805c6\" x=\"26.925\" y=\"260.838\" style=\"stroke: #000000; stroke-width: 0.8\"/>\n      </g>\n     </g>\n     <g id=\"text_14\">\n      <!-- 30 -->\n      <g transform=\"translate(7.2 264.637219) scale(0.1 -0.1)\">\n       <use xlink:href=\"#DejaVuSans-33\"/>\n       <use xlink:href=\"#DejaVuSans-30\" x=\"63.623047\"/>\n      </g>\n     </g>\n    </g>\n   </g>\n   <g id=\"patch_3\">\n    <path d=\"M 26.925 273.312 \nL 26.925 7.2 \n\" style=\"fill: none; stroke: #000000; stroke-width: 0.8; stroke-linejoin: miter; stroke-linecap: square\"/>\n   </g>\n   <g id=\"patch_4\">\n    <path d=\"M 293.037 273.312 \nL 293.037 7.2 \n\" style=\"fill: none; stroke: #000000; stroke-width: 0.8; stroke-linejoin: miter; stroke-linecap: square\"/>\n   </g>\n   <g id=\"patch_5\">\n    <path d=\"M 26.925 273.312 \nL 293.037 273.312 \n\" style=\"fill: none; stroke: #000000; stroke-width: 0.8; stroke-linejoin: miter; stroke-linecap: square\"/>\n   </g>\n   <g id=\"patch_6\">\n    <path d=\"M 26.925 7.2 \nL 293.037 7.2 \n\" style=\"fill: none; stroke: #000000; stroke-width: 0.8; stroke-linejoin: miter; stroke-linecap: square\"/>\n   </g>\n  </g>\n </g>\n <defs>\n  <clipPath id=\"p63bf3fe8ac\">\n   <rect x=\"26.925\" y=\"7.2\" width=\"266.112\" height=\"266.112\"/>\n  </clipPath>\n </defs>\n</svg>\n"
     },
     "metadata": {},
     "output_type": "display_data"
    }
   ],
   "execution_count": 19
  },
  {
   "metadata": {
    "ExecuteTime": {
     "end_time": "2024-07-17T21:14:44.859133Z",
     "start_time": "2024-07-17T21:14:44.854989Z"
    }
   },
   "cell_type": "code",
   "source": [
    "trixi_result = temp[:].reshape(SETUP['ny'], SETUP['nx']).transpose()\n",
    "\n",
    "# Calculate rmse between Trixi and PyMPDATA output\n",
    "rmse = np.sqrt(np.mean((states_history[-1] - trixi_result) ** 2))\n",
    "print(f\"RMSE: {rmse:.4f}\")\n",
    "\n",
    "# Calculate min-max difference between Trixi and PyMPDATA output\n",
    "min_max_diff = np.max(np.abs(states_history[-1] - trixi_result))\n",
    "print(f\"Min-max difference: {min_max_diff:.4f}\")"
   ],
   "id": "91b5148d33a2ff23",
   "outputs": [
    {
     "name": "stdout",
     "output_type": "stream",
     "text": [
      "RMSE: 7.9836\n",
      "Min-max difference: 52.1232\n"
     ]
    }
   ],
   "execution_count": 20
  },
  {
   "metadata": {
    "ExecuteTime": {
     "end_time": "2024-07-17T21:14:44.872048Z",
     "start_time": "2024-07-17T21:14:44.860339Z"
    }
   },
   "cell_type": "code",
   "source": [
    "with h5py.File('out/solution_000000.h5', 'r') as f:\n",
    "    trixi_init = np.array([np.mean(x) for x in f['variables_1'][:].reshape(-1, 16)])\n",
    "    trixi_init = trixi_init[:].reshape(SETUP['ny'], SETUP['nx']).transpose()"
   ],
   "id": "fc241c4fc7340134",
   "outputs": [],
   "execution_count": 21
  },
  {
   "metadata": {
    "ExecuteTime": {
     "end_time": "2024-07-17T21:14:44.876501Z",
     "start_time": "2024-07-17T21:14:44.873177Z"
    }
   },
   "cell_type": "code",
   "source": [
    "assert np.abs(np.sum(states_history[-1]) - np.sum(states_history[0])) < 1e-6\n",
    "assert np.abs(np.sum(trixi_result) - np.sum(trixi_init)) < 1e-6"
   ],
   "id": "b903fe83728a60d9",
   "outputs": [],
   "execution_count": 22
  },
  {
   "metadata": {
    "ExecuteTime": {
     "end_time": "2024-07-17T21:14:46.399677Z",
     "start_time": "2024-07-17T21:14:44.878156Z"
    }
   },
   "cell_type": "code",
   "source": [
    "solution_symbolic_final = sp.sympify(\"sin(pi*(x-cx*t + y-cy*t)) + 1\", rational=True)\n",
    "def final_conditions(x, y):\n",
    "    return solution_symbolic_final.subs({\"cx\": Cx, \"cy\": Cy, \"t\":SETUP['tmax'], \"x\": x, \"y\": y}).evalf()\n",
    "\n",
    "z_final = np.array(\n",
    "    [\n",
    "        # [\n",
    "            final_conditions(x, y) for x in np.linspace(min_x, max_x, SETUP['nx'])\n",
    "        # ]\n",
    "        for y in np.linspace(min_y, max_y, SETUP['ny'])\n",
    "    ],\n",
    "    dtype=float\n",
    ").reshape((SETUP['nx'], SETUP['ny']))\n",
    "\n",
    "plt.imshow(z_final, cmap='viridis')\n",
    "plt.colorbar()\n",
    "show_plot()"
   ],
   "id": "aefcfb532de6a61b",
   "outputs": [
    {
     "data": {
      "text/plain": "<Figure size 640x480 with 2 Axes>",
      "image/svg+xml": "<?xml version=\"1.0\" encoding=\"utf-8\" standalone=\"no\"?>\n<!DOCTYPE svg PUBLIC \"-//W3C//DTD SVG 1.1//EN\"\n  \"http://www.w3.org/Graphics/SVG/1.1/DTD/svg11.dtd\">\n<svg xmlns:xlink=\"http://www.w3.org/1999/xlink\" width=\"360.664225pt\" height=\"297.190125pt\" viewBox=\"0 0 360.664225 297.190125\" xmlns=\"http://www.w3.org/2000/svg\" version=\"1.1\">\n <metadata>\n  <rdf:RDF xmlns:dc=\"http://purl.org/dc/elements/1.1/\" xmlns:cc=\"http://creativecommons.org/ns#\" xmlns:rdf=\"http://www.w3.org/1999/02/22-rdf-syntax-ns#\">\n   <cc:Work>\n    <dc:type rdf:resource=\"http://purl.org/dc/dcmitype/StillImage\"/>\n    <dc:date>2024-07-17T23:14:46.250685</dc:date>\n    <dc:format>image/svg+xml</dc:format>\n    <dc:creator>\n     <cc:Agent>\n      <dc:title>Matplotlib v3.9.0, https://matplotlib.org/</dc:title>\n     </cc:Agent>\n    </dc:creator>\n   </cc:Work>\n  </rdf:RDF>\n </metadata>\n <defs>\n  <style type=\"text/css\">*{stroke-linejoin: round; stroke-linecap: butt}</style>\n </defs>\n <g id=\"figure_1\">\n  <g id=\"patch_1\">\n   <path d=\"M 0 297.190125 \nL 360.664225 297.190125 \nL 360.664225 0 \nL 0 0 \nz\n\" style=\"fill: #ffffff\"/>\n  </g>\n  <g id=\"axes_1\">\n   <g id=\"patch_2\">\n    <path d=\"M 26.925 273.312 \nL 293.037 273.312 \nL 293.037 7.2 \nL 26.925 7.2 \nz\n\" style=\"fill: #ffffff\"/>\n   </g>\n   <g clip-path=\"url(#pa5ab593e2f)\">\n    <image xlink:href=\"data:image/png;base64,\niVBORw0KGgoAAAANSUhEUgAAAXIAAAFyCAYAAADoJFEJAAAOb0lEQVR4nO3cwc4l10EE4PL4YtljCxvFJDMIBEIgJFaQp+B9eM/ACikiCxAIT4IRNrLHkbHHWYwEm1l0LY7SNfm+dd+r1t+36z+bqnf+7s///ocUvvvD37987TfPP2i+Ol8/e/fytS+fvVN996+ff3f52o9+8lX13X/16a8uX/vTj/+t+u6fPv2X6vq//L3/unzt83ffq7776ZPu+saXr765fO1/fFf9ZPNP3z6rrv+Hl396+dp//OKPq+/+xa8+vXztt798Wn33B59df3+evuj+hh++uP7+vP/Zy+q73/38y+r6V19cv/7V19295NX3ly995/GovvrJRx9e/+4/+KT77upqAG5HkAOME+QA4wQ5wDhBDjBOkAOME+QA4wQ5wDhBDjBOkAOME+QA4x4//PcX3QeKa7ullfYT13clXrt+51/lo+qbf17eyVHVPMf1XZYked7cRrnL8vGT4tk/ru+yvPaivP4efpHruyxJ8k318M+9P+WPMO93N1LfeaPZZvnhu+v7M0ny6quvL1/bnrCdyAHGCXKAcYIcYJwgBxgnyAHGCXKAcYIcYJwgBxgnyAHGCXKAcY+mNpp0yd+UepO20t8OADTF3u7Om0r/bp0/aSr9TZ0/6Sr9VZ0/Uel/g67On5x8f05W+u9S50+6Sv/JXAbghgQ5wDhBDjBOkAOME+QA4wQ5wDhBDjBOkAOME+QA4wQ5wDhBDjDu0fT/k24DoP0v0Sw0tEsr3SfahYbrd97ssiTL2yzXd1mSbpul2WVJTm+zvP27LEm7zXLu/Xnt+r00uyzJfbZZ2lx2IgcYJ8gBxglygHGCHGCcIAcYJ8gBxglygHGCHGCcIAcYJ8gBxj3ypCulNtXRps6fdP9V2lJvV9JuBwCav2F357OV/qrOnzSV/qbOnxyu9Fd1/uR3odLf1fmTs5X+7l6aSv9d6vyJEznAPEEOME6QA4wT5ADjBDnAOEEOME6QA4wT5ADjBDnAOEEOME6QA4x7PPmw2yJoNgCaXZak22Zp/wM16wzt0kr3iZO7Et02y212WZJyEuP6Lktydpul2mVJym2Wt3+XJTm9zdKuMl2/l2aXJTm7zeJEDjBOkAOME+QA4wQ5wDhBDjBOkAOME+QA4wQ5wDhBDjBOkAOMezz55ONjX97U+ZOu0t/U+ZPuP1Zb6u1K2u0AwLlKf1PnT25U6W8b3Qcr/U2dPykr/VWdP1Hpf5OTkxjdD7Gp9Ld37UQOME6QA4wT5ADjBDnAOEEOME6QA4wT5ADjBDnAOEEOME6QA4wT5ADjHt9/2m2ttBsAjWabpdllSbptlva/W7PO0C6tnN1m6VZlmm2W2+yyJEe3WZpdlqTbZql2WZJym2VzlyXptlm6XZbk5PvT/BCbXZbEiRxgniAHGCfIAcYJcoBxghxgnCAHGCfIAcYJcoBxghxgnCAHGCfIAcY9fv282yJoNgDussuSdNsszS5L0v03bNcZzm6ztE/o+t03uyzJ8jbL9V2WpNtmaXZZknKbpdplSVa3WZpdlqTdZjn3/rQDQU7kAOMEOcA4QQ4wTpADjBPkAOMEOcA4QQ4wTpADjBPkAOMEOcC4x9fP2tL49epoU+dP7lPpb+r8SVfpb/9znq30twMAzRPq7ryp9O/W+ZOm0t/U+ZOu0l/V+ZOy0r9Z50+6Sn9X509Ovj9O5ADjBDnAOEEOME6QA4wT5ADjBDnAOEEOME6QA4wT5ADjBDnAOEEOMO7x8tk77UeKa7stgmab5S67LEm3zdLssiRnt1napZXuE+0Tun7nzS5LsrzNcn2XJem2WZpdlqTcZql2WZLVbZZmlyVpt1m698eJHGCcIAcYJ8gBxglygHGCHGCcIAcYJ8gBxglygHGCHGCcIAcY9/jm+fflR5rqaFMYT5r+clPnT+5T6W/q/MnZSn/7dLpKfzsAcO53NVvp7xYu0lT6mzp/0lX6qzp/otL/Bl2d34kcYJ4gBxgnyAHGCXKAcYIcYJwgBxgnyAHGCXKAcYIcYJwgBxgnyAHGPd77yfWdkKTdAGgXTpoNjW6LoNlmucsuS3J2m6X9L948nXZppfvEyd9Vt81ym12WpHwlru+yJN02S7PLkpzeZnn7d1kSJ3KAeYIcYJwgBxgnyAHGCXKAcYIcYJwgBxgnyAHGCXKAcYIcYNzjL378efWBpjra1fmTrnrd1a6b/nJT5092K/1NnT/p/uu3T6crabcDAOcq/U2dP7lRpb99NYtKf1PnTw5X+qs6f7Ja6XciBxgnyAHGCXKAcYIcYJwgBxgnyAHGCXKAcYIcYJwgBxgnyAHGCXKAcY+/+eTfj315s8uStNss5/Yz2iGKZpvl5C5L0m2zNLssSbfN0p4QmqfTLq2c3WbpVmWabZbb7LIk5StxfZclObvNUu2yJOU2y312WZzIAcYJcoBxghxgnCAHGCfIAcYJcoBxghxgnCAHGCfIAcYJcoBxj799+q+/7Xv4P02lv6vzJydr101/uanzJ2cr/U2dP+kq/U2dP+lOFO3TOVvpPzcV0dT5kxtV+ttX82Clv6nzJ2Wlv6rzJycr/U7kAOMEOcA4QQ4wTpADjBPkAOMEOcA4QQ4wTpADjBPkAOMEOcA4QQ4w7vHX753r/5/U7LIk7TbLuf2MdohidZul2WVJum2W9vRxdpulXXI5t/nTbLPcZpclObrN0uyyJN02S7XLkpTbLF0uO5EDjBPkAOMEOcA4QQ4wTpADjBPkAOMEOcA4QQ4wTpADjBPkAOMEOcC4xx893ik/8vZvs3S7LMnJ/YyT2yx32WVJum2WZpclObvN0i6tdJ84t/nT7LIky9ss13dZkm6bpdllScptlmqXxYkcYJ4gBxgnyAHGCXKAcYIcYJwgBxgnyAHGCXKAcYIcYJwgBxj3qGqjSVkdffvr/Elb6T9Xu37t+r00df7kPpX+ps6fnK30t0+ne9vaAYBzUxFNpX+3zp80lf6mzp90lf42l53IAcYJcoBxghxgnCAHGCfIAcYJcoBxghxgnCAHGCfIAcYJcoBxghxgXDsV0W0AVLssye/CNku3y5Kc3Wbp7qXZZrnLLktydpulPQk1T6ddWuk+ce531eyyJMvbLNd3WZJum6XZZUmcyAHmCXKAcYIcYJwgBxgnyAHGCXKAcYIcYJwgBxgnyAHGCXKAcY+Xr76tPtBUR6s6f1JW+t/+On9yutLfLjRcv5emzp/sVvqbOn/SnZzap9O9be0AwLnf1Wylv301i0p/U+dPnMgB5glygHGCHGCcIAcYJ8gBxglygHGCHGCcIAcYJ8gBxglygHGCHGDc47Pvu62VZgOg2WVJym2Wapclsc3yJu3CSbOh0Q1RNNssJ3dZkm6bpdllSbptlvaU1Tyddmml+8TJ31W3zXKbXZakfCWu77IkTuQA8wQ5wDhBDjBOkAOME+QA4wQ5wDhBDjBOkAOME+QA4wQ5wLjHP//vj8qPXK+ONnX+pKv0V3X+pKz0b9b5k67S39X5k6563dWum/5yU+dPzlb6mzp/0lX6mzp/0p3K2qfTvW3tAMC5Sn9T509uVOkvX00ncoBxghxgnCAHGCfIAcYJcoBxghxgnCAHGCfIAcYJcoBxghxgnCAHGPf42cs/6z5RbQBc32VJum2WZpclKbdZql2WZHWbpdllSdptlnP7Ge0Qxeo2S7PLknTbLO0Jrnk67dLK2W2WblWm2Wa5zS5LnMgB5glygHGCHGCcIAcYJ8gBxglygHGCHGCcIAcYJ8gBxglygHGCHGDc42df/sm5b+8mMdJsszS7LEm3zVLtsiTlNsvmLkvSbbN0uyzJyf2Mk9ssd9llSbptlmaXJelOfO3TObvNcm7zp9llSc5usziRA4wT5ADjBDnAOEEOME6QA4wT5ADjBDnAOEEOME6QA4wT5ADjHj///Me/7Xv4f1WT+nqdP+kq/U2dPykr/VWdP1mt9Dd1/qSt9J+rXb92/V6aOn9yn0p/U+dPukp/ezo8W+lvBwDOTUU0lf62zu9EDjBOkAOME+QA4wQ5wDhBDjBOkAOME+QA4wQ5wDhBDjBOkAOME+QA4x5f/fJ6/z/pNwCOqXZZkmabpdllSbptlmqXJbHN8gbdLktydpulu5dmm+UuuyxJt83S7LIkZ7dZ2qWV7hPnflfNLkviRA4wT5ADjBPkAOMEOcA4QQ4wTpADjBPkAOMEOcA4QQ4wTpADjHu8/1lTeO2qo7ep8ydlk/p6nT/pKv1NnT85Xel/++v8yelKf/f+ND/Eps6f3KfS39T5k7OV/vbpdG9bOwBw7nflRA4wTpADjBPkAOMEOcA4QQ4wTpADjBPkAOMEOcA4QQ4wTpADjBPkAOMeT1/80H7k8pXNLktyo22Wdpqj2GZpdlmSw9ss1S5LYpvlTdqFk2ZDo/shNtssd9llSc5us7Qn1ebptEsr3Se6J+REDjBOkAOME+QA4wQ5wDhBDjBOkAOME+QA4wQ5wDhBDjBOkAOMe3z44vvyI011tCm8dpX+29T5k7JJfb3On5yt9Fd1/qSs9G/W+ZOu0t/V+ZOT70/zQ2zq/Mlupb+p8yfdybZ9Ot3b1l3tRA4wTpADjBPkAOMEOcA4QQ4wTpADjBPkAOMEOcA4QQ4wTpADjBPkAOMeH3zW7Gck3QZAu9Bwfb2g2WVJbrTN0k5zHNxmaXZZknKbpdplSVa3WZpdlqTdZjn3/rQ/xGab5eQuS9JtszS7LEm3zdKegpunU64gOZEDrBPkAOMEOcA4QQ4wTpADjBPkAOMEOcA4QQ4wTpADjBPkAOMej//8n+oDXXW0LZo25d6m8NpV+m9T50+OVvqbOn/SVfqrOn9SVvo36/xJV+nv6vzJyfen+SE2df7kbKW/qfMnXaW/qfMn3am5fTpO5ADjBDnAOEEOME6QA4wT5ADjBDnAOEEOME6QA4wT5ADjBDnAOEEOMO43NoZLkWsvyXIAAAAASUVORK5CYII=\" id=\"image6c2e7e454f\" transform=\"scale(1 -1) translate(0 -266.4)\" x=\"26.925\" y=\"-6.912\" width=\"266.4\" height=\"266.4\"/>\n   </g>\n   <g id=\"matplotlib.axis_1\">\n    <g id=\"xtick_1\">\n     <g id=\"line2d_1\">\n      <defs>\n       <path id=\"m8c3b1cc806\" d=\"M 0 0 \nL 0 3.5 \n\" style=\"stroke: #000000; stroke-width: 0.8\"/>\n      </defs>\n      <g>\n       <use xlink:href=\"#m8c3b1cc806\" x=\"31.083\" y=\"273.312\" style=\"stroke: #000000; stroke-width: 0.8\"/>\n      </g>\n     </g>\n     <g id=\"text_1\">\n      <!-- 0 -->\n      <g transform=\"translate(27.90175 287.910437) scale(0.1 -0.1)\">\n       <defs>\n        <path id=\"DejaVuSans-30\" d=\"M 2034 4250 \nQ 1547 4250 1301 3770 \nQ 1056 3291 1056 2328 \nQ 1056 1369 1301 889 \nQ 1547 409 2034 409 \nQ 2525 409 2770 889 \nQ 3016 1369 3016 2328 \nQ 3016 3291 2770 3770 \nQ 2525 4250 2034 4250 \nz\nM 2034 4750 \nQ 2819 4750 3233 4129 \nQ 3647 3509 3647 2328 \nQ 3647 1150 3233 529 \nQ 2819 -91 2034 -91 \nQ 1250 -91 836 529 \nQ 422 1150 422 2328 \nQ 422 3509 836 4129 \nQ 1250 4750 2034 4750 \nz\n\" transform=\"scale(0.015625)\"/>\n       </defs>\n       <use xlink:href=\"#DejaVuSans-30\"/>\n      </g>\n     </g>\n    </g>\n    <g id=\"xtick_2\">\n     <g id=\"line2d_2\">\n      <g>\n       <use xlink:href=\"#m8c3b1cc806\" x=\"72.663\" y=\"273.312\" style=\"stroke: #000000; stroke-width: 0.8\"/>\n      </g>\n     </g>\n     <g id=\"text_2\">\n      <!-- 5 -->\n      <g transform=\"translate(69.48175 287.910437) scale(0.1 -0.1)\">\n       <defs>\n        <path id=\"DejaVuSans-35\" d=\"M 691 4666 \nL 3169 4666 \nL 3169 4134 \nL 1269 4134 \nL 1269 2991 \nQ 1406 3038 1543 3061 \nQ 1681 3084 1819 3084 \nQ 2600 3084 3056 2656 \nQ 3513 2228 3513 1497 \nQ 3513 744 3044 326 \nQ 2575 -91 1722 -91 \nQ 1428 -91 1123 -41 \nQ 819 9 494 109 \nL 494 744 \nQ 775 591 1075 516 \nQ 1375 441 1709 441 \nQ 2250 441 2565 725 \nQ 2881 1009 2881 1497 \nQ 2881 1984 2565 2268 \nQ 2250 2553 1709 2553 \nQ 1456 2553 1204 2497 \nQ 953 2441 691 2322 \nL 691 4666 \nz\n\" transform=\"scale(0.015625)\"/>\n       </defs>\n       <use xlink:href=\"#DejaVuSans-35\"/>\n      </g>\n     </g>\n    </g>\n    <g id=\"xtick_3\">\n     <g id=\"line2d_3\">\n      <g>\n       <use xlink:href=\"#m8c3b1cc806\" x=\"114.243\" y=\"273.312\" style=\"stroke: #000000; stroke-width: 0.8\"/>\n      </g>\n     </g>\n     <g id=\"text_3\">\n      <!-- 10 -->\n      <g transform=\"translate(107.8805 287.910437) scale(0.1 -0.1)\">\n       <defs>\n        <path id=\"DejaVuSans-31\" d=\"M 794 531 \nL 1825 531 \nL 1825 4091 \nL 703 3866 \nL 703 4441 \nL 1819 4666 \nL 2450 4666 \nL 2450 531 \nL 3481 531 \nL 3481 0 \nL 794 0 \nL 794 531 \nz\n\" transform=\"scale(0.015625)\"/>\n       </defs>\n       <use xlink:href=\"#DejaVuSans-31\"/>\n       <use xlink:href=\"#DejaVuSans-30\" x=\"63.623047\"/>\n      </g>\n     </g>\n    </g>\n    <g id=\"xtick_4\">\n     <g id=\"line2d_4\">\n      <g>\n       <use xlink:href=\"#m8c3b1cc806\" x=\"155.823\" y=\"273.312\" style=\"stroke: #000000; stroke-width: 0.8\"/>\n      </g>\n     </g>\n     <g id=\"text_4\">\n      <!-- 15 -->\n      <g transform=\"translate(149.4605 287.910437) scale(0.1 -0.1)\">\n       <use xlink:href=\"#DejaVuSans-31\"/>\n       <use xlink:href=\"#DejaVuSans-35\" x=\"63.623047\"/>\n      </g>\n     </g>\n    </g>\n    <g id=\"xtick_5\">\n     <g id=\"line2d_5\">\n      <g>\n       <use xlink:href=\"#m8c3b1cc806\" x=\"197.403\" y=\"273.312\" style=\"stroke: #000000; stroke-width: 0.8\"/>\n      </g>\n     </g>\n     <g id=\"text_5\">\n      <!-- 20 -->\n      <g transform=\"translate(191.0405 287.910437) scale(0.1 -0.1)\">\n       <defs>\n        <path id=\"DejaVuSans-32\" d=\"M 1228 531 \nL 3431 531 \nL 3431 0 \nL 469 0 \nL 469 531 \nQ 828 903 1448 1529 \nQ 2069 2156 2228 2338 \nQ 2531 2678 2651 2914 \nQ 2772 3150 2772 3378 \nQ 2772 3750 2511 3984 \nQ 2250 4219 1831 4219 \nQ 1534 4219 1204 4116 \nQ 875 4013 500 3803 \nL 500 4441 \nQ 881 4594 1212 4672 \nQ 1544 4750 1819 4750 \nQ 2544 4750 2975 4387 \nQ 3406 4025 3406 3419 \nQ 3406 3131 3298 2873 \nQ 3191 2616 2906 2266 \nQ 2828 2175 2409 1742 \nQ 1991 1309 1228 531 \nz\n\" transform=\"scale(0.015625)\"/>\n       </defs>\n       <use xlink:href=\"#DejaVuSans-32\"/>\n       <use xlink:href=\"#DejaVuSans-30\" x=\"63.623047\"/>\n      </g>\n     </g>\n    </g>\n    <g id=\"xtick_6\">\n     <g id=\"line2d_6\">\n      <g>\n       <use xlink:href=\"#m8c3b1cc806\" x=\"238.983\" y=\"273.312\" style=\"stroke: #000000; stroke-width: 0.8\"/>\n      </g>\n     </g>\n     <g id=\"text_6\">\n      <!-- 25 -->\n      <g transform=\"translate(232.6205 287.910437) scale(0.1 -0.1)\">\n       <use xlink:href=\"#DejaVuSans-32\"/>\n       <use xlink:href=\"#DejaVuSans-35\" x=\"63.623047\"/>\n      </g>\n     </g>\n    </g>\n    <g id=\"xtick_7\">\n     <g id=\"line2d_7\">\n      <g>\n       <use xlink:href=\"#m8c3b1cc806\" x=\"280.563\" y=\"273.312\" style=\"stroke: #000000; stroke-width: 0.8\"/>\n      </g>\n     </g>\n     <g id=\"text_7\">\n      <!-- 30 -->\n      <g transform=\"translate(274.2005 287.910437) scale(0.1 -0.1)\">\n       <defs>\n        <path id=\"DejaVuSans-33\" d=\"M 2597 2516 \nQ 3050 2419 3304 2112 \nQ 3559 1806 3559 1356 \nQ 3559 666 3084 287 \nQ 2609 -91 1734 -91 \nQ 1441 -91 1130 -33 \nQ 819 25 488 141 \nL 488 750 \nQ 750 597 1062 519 \nQ 1375 441 1716 441 \nQ 2309 441 2620 675 \nQ 2931 909 2931 1356 \nQ 2931 1769 2642 2001 \nQ 2353 2234 1838 2234 \nL 1294 2234 \nL 1294 2753 \nL 1863 2753 \nQ 2328 2753 2575 2939 \nQ 2822 3125 2822 3475 \nQ 2822 3834 2567 4026 \nQ 2313 4219 1838 4219 \nQ 1578 4219 1281 4162 \nQ 984 4106 628 3988 \nL 628 4550 \nQ 988 4650 1302 4700 \nQ 1616 4750 1894 4750 \nQ 2613 4750 3031 4423 \nQ 3450 4097 3450 3541 \nQ 3450 3153 3228 2886 \nQ 3006 2619 2597 2516 \nz\n\" transform=\"scale(0.015625)\"/>\n       </defs>\n       <use xlink:href=\"#DejaVuSans-33\"/>\n       <use xlink:href=\"#DejaVuSans-30\" x=\"63.623047\"/>\n      </g>\n     </g>\n    </g>\n   </g>\n   <g id=\"matplotlib.axis_2\">\n    <g id=\"ytick_1\">\n     <g id=\"line2d_8\">\n      <defs>\n       <path id=\"m35944db5f6\" d=\"M 0 0 \nL -3.5 0 \n\" style=\"stroke: #000000; stroke-width: 0.8\"/>\n      </defs>\n      <g>\n       <use xlink:href=\"#m35944db5f6\" x=\"26.925\" y=\"11.358\" style=\"stroke: #000000; stroke-width: 0.8\"/>\n      </g>\n     </g>\n     <g id=\"text_8\">\n      <!-- 0 -->\n      <g transform=\"translate(13.5625 15.157219) scale(0.1 -0.1)\">\n       <use xlink:href=\"#DejaVuSans-30\"/>\n      </g>\n     </g>\n    </g>\n    <g id=\"ytick_2\">\n     <g id=\"line2d_9\">\n      <g>\n       <use xlink:href=\"#m35944db5f6\" x=\"26.925\" y=\"52.938\" style=\"stroke: #000000; stroke-width: 0.8\"/>\n      </g>\n     </g>\n     <g id=\"text_9\">\n      <!-- 5 -->\n      <g transform=\"translate(13.5625 56.737219) scale(0.1 -0.1)\">\n       <use xlink:href=\"#DejaVuSans-35\"/>\n      </g>\n     </g>\n    </g>\n    <g id=\"ytick_3\">\n     <g id=\"line2d_10\">\n      <g>\n       <use xlink:href=\"#m35944db5f6\" x=\"26.925\" y=\"94.518\" style=\"stroke: #000000; stroke-width: 0.8\"/>\n      </g>\n     </g>\n     <g id=\"text_10\">\n      <!-- 10 -->\n      <g transform=\"translate(7.2 98.317219) scale(0.1 -0.1)\">\n       <use xlink:href=\"#DejaVuSans-31\"/>\n       <use xlink:href=\"#DejaVuSans-30\" x=\"63.623047\"/>\n      </g>\n     </g>\n    </g>\n    <g id=\"ytick_4\">\n     <g id=\"line2d_11\">\n      <g>\n       <use xlink:href=\"#m35944db5f6\" x=\"26.925\" y=\"136.098\" style=\"stroke: #000000; stroke-width: 0.8\"/>\n      </g>\n     </g>\n     <g id=\"text_11\">\n      <!-- 15 -->\n      <g transform=\"translate(7.2 139.897219) scale(0.1 -0.1)\">\n       <use xlink:href=\"#DejaVuSans-31\"/>\n       <use xlink:href=\"#DejaVuSans-35\" x=\"63.623047\"/>\n      </g>\n     </g>\n    </g>\n    <g id=\"ytick_5\">\n     <g id=\"line2d_12\">\n      <g>\n       <use xlink:href=\"#m35944db5f6\" x=\"26.925\" y=\"177.678\" style=\"stroke: #000000; stroke-width: 0.8\"/>\n      </g>\n     </g>\n     <g id=\"text_12\">\n      <!-- 20 -->\n      <g transform=\"translate(7.2 181.477219) scale(0.1 -0.1)\">\n       <use xlink:href=\"#DejaVuSans-32\"/>\n       <use xlink:href=\"#DejaVuSans-30\" x=\"63.623047\"/>\n      </g>\n     </g>\n    </g>\n    <g id=\"ytick_6\">\n     <g id=\"line2d_13\">\n      <g>\n       <use xlink:href=\"#m35944db5f6\" x=\"26.925\" y=\"219.258\" style=\"stroke: #000000; stroke-width: 0.8\"/>\n      </g>\n     </g>\n     <g id=\"text_13\">\n      <!-- 25 -->\n      <g transform=\"translate(7.2 223.057219) scale(0.1 -0.1)\">\n       <use xlink:href=\"#DejaVuSans-32\"/>\n       <use xlink:href=\"#DejaVuSans-35\" x=\"63.623047\"/>\n      </g>\n     </g>\n    </g>\n    <g id=\"ytick_7\">\n     <g id=\"line2d_14\">\n      <g>\n       <use xlink:href=\"#m35944db5f6\" x=\"26.925\" y=\"260.838\" style=\"stroke: #000000; stroke-width: 0.8\"/>\n      </g>\n     </g>\n     <g id=\"text_14\">\n      <!-- 30 -->\n      <g transform=\"translate(7.2 264.637219) scale(0.1 -0.1)\">\n       <use xlink:href=\"#DejaVuSans-33\"/>\n       <use xlink:href=\"#DejaVuSans-30\" x=\"63.623047\"/>\n      </g>\n     </g>\n    </g>\n   </g>\n   <g id=\"patch_3\">\n    <path d=\"M 26.925 273.312 \nL 26.925 7.2 \n\" style=\"fill: none; stroke: #000000; stroke-width: 0.8; stroke-linejoin: miter; stroke-linecap: square\"/>\n   </g>\n   <g id=\"patch_4\">\n    <path d=\"M 293.037 273.312 \nL 293.037 7.2 \n\" style=\"fill: none; stroke: #000000; stroke-width: 0.8; stroke-linejoin: miter; stroke-linecap: square\"/>\n   </g>\n   <g id=\"patch_5\">\n    <path d=\"M 26.925 273.312 \nL 293.037 273.312 \n\" style=\"fill: none; stroke: #000000; stroke-width: 0.8; stroke-linejoin: miter; stroke-linecap: square\"/>\n   </g>\n   <g id=\"patch_6\">\n    <path d=\"M 26.925 7.2 \nL 293.037 7.2 \n\" style=\"fill: none; stroke: #000000; stroke-width: 0.8; stroke-linejoin: miter; stroke-linecap: square\"/>\n   </g>\n  </g>\n  <g id=\"axes_2\">\n   <g id=\"patch_7\">\n    <path d=\"M 310.893 273.312 \nL 324.1986 273.312 \nL 324.1986 7.2 \nL 310.893 7.2 \nz\n\" style=\"fill: #ffffff\"/>\n   </g>\n   <image xlink:href=\"data:image/png;base64,\niVBORw0KGgoAAAANSUhEUgAAABIAAAFyCAYAAAD4TYq5AAAB70lEQVR4nO2d0Q0CMQxD02tHYwT2H4UyQvh4Qk9WMoBVx47bHqdjvdb7FlAPAVJVdWoxWGc9iwGiVsT1KJhacdQYIFI1yNk+amWjhvkIlJ8KNh81TrVxdlfBqmU7e3bappSq6ajZVDtX2CMKyEct19mUjzD5g1Wboe3L6GwGx+jsmzu0F1JN6GzKkMl5JKTGqcYAZQ8tAyS8Qhjlh4CM1Ea1Dih4pw3OI+roZ6Q2hmyBdNMfHGxDra/oS41NNWFm63o01Poaav8ECu4R8jZcKan5ojZ4F9FRmx71JRza5KjNpTY9agtb0eRRX2PIH4Ci5WfOtcny+1SLNiQGlOpsX7OVzmbk9zVbqJpvaH09Gmf3QNDPIsbzkc+Q3NBWbI9WrvzR1CAgX9RiqmE9olYkDDYfNYiZkprO2U9yj3zUIKBg1R7ooBWsmtDZQ+0HIKGzKWrBqtmAwB5Rd1ohtWDVcvMIVO1DAel6lDy0kGrbR41TjemRcGj39KgFMjo7Nmp3MDVsg6SGllqRcTsSHrSGWgdETb9xF6GCTTi0wXnEqWYbWnCntakGzhp279f1KDizc/OIu6/pVAMNGfu0hgs24RlS9kjDOLS6N6LAPGLqbGGPoO9oUUsiMxujZvtwCaiajhqnGvRXBcYeYdRkn+H/AmwfjeY0lt0cAAAAAElFTkSuQmCC\" id=\"image408f2f50c7\" transform=\"scale(1 -1) translate(0 -266.4)\" x=\"311.04\" y=\"-6.48\" width=\"12.96\" height=\"266.4\"/>\n   <g id=\"matplotlib.axis_3\"/>\n   <g id=\"matplotlib.axis_4\">\n    <g id=\"ytick_8\">\n     <g id=\"line2d_15\">\n      <defs>\n       <path id=\"mad029119b3\" d=\"M 0 0 \nL 3.5 0 \n\" style=\"stroke: #000000; stroke-width: 0.8\"/>\n      </defs>\n      <g>\n       <use xlink:href=\"#mad029119b3\" x=\"324.1986\" y=\"240.017229\" style=\"stroke: #000000; stroke-width: 0.8\"/>\n      </g>\n     </g>\n     <g id=\"text_15\">\n      <!-- 0.25 -->\n      <g transform=\"translate(331.1986 243.816448) scale(0.1 -0.1)\">\n       <defs>\n        <path id=\"DejaVuSans-2e\" d=\"M 684 794 \nL 1344 794 \nL 1344 0 \nL 684 0 \nL 684 794 \nz\n\" transform=\"scale(0.015625)\"/>\n       </defs>\n       <use xlink:href=\"#DejaVuSans-30\"/>\n       <use xlink:href=\"#DejaVuSans-2e\" x=\"63.623047\"/>\n       <use xlink:href=\"#DejaVuSans-32\" x=\"95.410156\"/>\n       <use xlink:href=\"#DejaVuSans-35\" x=\"159.033203\"/>\n      </g>\n     </g>\n    </g>\n    <g id=\"ytick_9\">\n     <g id=\"line2d_16\">\n      <g>\n       <use xlink:href=\"#mad029119b3\" x=\"324.1986\" y=\"206.695081\" style=\"stroke: #000000; stroke-width: 0.8\"/>\n      </g>\n     </g>\n     <g id=\"text_16\">\n      <!-- 0.50 -->\n      <g transform=\"translate(331.1986 210.4943) scale(0.1 -0.1)\">\n       <use xlink:href=\"#DejaVuSans-30\"/>\n       <use xlink:href=\"#DejaVuSans-2e\" x=\"63.623047\"/>\n       <use xlink:href=\"#DejaVuSans-35\" x=\"95.410156\"/>\n       <use xlink:href=\"#DejaVuSans-30\" x=\"159.033203\"/>\n      </g>\n     </g>\n    </g>\n    <g id=\"ytick_10\">\n     <g id=\"line2d_17\">\n      <g>\n       <use xlink:href=\"#mad029119b3\" x=\"324.1986\" y=\"173.372933\" style=\"stroke: #000000; stroke-width: 0.8\"/>\n      </g>\n     </g>\n     <g id=\"text_17\">\n      <!-- 0.75 -->\n      <g transform=\"translate(331.1986 177.172152) scale(0.1 -0.1)\">\n       <defs>\n        <path id=\"DejaVuSans-37\" d=\"M 525 4666 \nL 3525 4666 \nL 3525 4397 \nL 1831 0 \nL 1172 0 \nL 2766 4134 \nL 525 4134 \nL 525 4666 \nz\n\" transform=\"scale(0.015625)\"/>\n       </defs>\n       <use xlink:href=\"#DejaVuSans-30\"/>\n       <use xlink:href=\"#DejaVuSans-2e\" x=\"63.623047\"/>\n       <use xlink:href=\"#DejaVuSans-37\" x=\"95.410156\"/>\n       <use xlink:href=\"#DejaVuSans-35\" x=\"159.033203\"/>\n      </g>\n     </g>\n    </g>\n    <g id=\"ytick_11\">\n     <g id=\"line2d_18\">\n      <g>\n       <use xlink:href=\"#mad029119b3\" x=\"324.1986\" y=\"140.050786\" style=\"stroke: #000000; stroke-width: 0.8\"/>\n      </g>\n     </g>\n     <g id=\"text_18\">\n      <!-- 1.00 -->\n      <g transform=\"translate(331.1986 143.850004) scale(0.1 -0.1)\">\n       <use xlink:href=\"#DejaVuSans-31\"/>\n       <use xlink:href=\"#DejaVuSans-2e\" x=\"63.623047\"/>\n       <use xlink:href=\"#DejaVuSans-30\" x=\"95.410156\"/>\n       <use xlink:href=\"#DejaVuSans-30\" x=\"159.033203\"/>\n      </g>\n     </g>\n    </g>\n    <g id=\"ytick_12\">\n     <g id=\"line2d_19\">\n      <g>\n       <use xlink:href=\"#mad029119b3\" x=\"324.1986\" y=\"106.728638\" style=\"stroke: #000000; stroke-width: 0.8\"/>\n      </g>\n     </g>\n     <g id=\"text_19\">\n      <!-- 1.25 -->\n      <g transform=\"translate(331.1986 110.527857) scale(0.1 -0.1)\">\n       <use xlink:href=\"#DejaVuSans-31\"/>\n       <use xlink:href=\"#DejaVuSans-2e\" x=\"63.623047\"/>\n       <use xlink:href=\"#DejaVuSans-32\" x=\"95.410156\"/>\n       <use xlink:href=\"#DejaVuSans-35\" x=\"159.033203\"/>\n      </g>\n     </g>\n    </g>\n    <g id=\"ytick_13\">\n     <g id=\"line2d_20\">\n      <g>\n       <use xlink:href=\"#mad029119b3\" x=\"324.1986\" y=\"73.40649\" style=\"stroke: #000000; stroke-width: 0.8\"/>\n      </g>\n     </g>\n     <g id=\"text_20\">\n      <!-- 1.50 -->\n      <g transform=\"translate(331.1986 77.205709) scale(0.1 -0.1)\">\n       <use xlink:href=\"#DejaVuSans-31\"/>\n       <use xlink:href=\"#DejaVuSans-2e\" x=\"63.623047\"/>\n       <use xlink:href=\"#DejaVuSans-35\" x=\"95.410156\"/>\n       <use xlink:href=\"#DejaVuSans-30\" x=\"159.033203\"/>\n      </g>\n     </g>\n    </g>\n    <g id=\"ytick_14\">\n     <g id=\"line2d_21\">\n      <g>\n       <use xlink:href=\"#mad029119b3\" x=\"324.1986\" y=\"40.084342\" style=\"stroke: #000000; stroke-width: 0.8\"/>\n      </g>\n     </g>\n     <g id=\"text_21\">\n      <!-- 1.75 -->\n      <g transform=\"translate(331.1986 43.883561) scale(0.1 -0.1)\">\n       <use xlink:href=\"#DejaVuSans-31\"/>\n       <use xlink:href=\"#DejaVuSans-2e\" x=\"63.623047\"/>\n       <use xlink:href=\"#DejaVuSans-37\" x=\"95.410156\"/>\n       <use xlink:href=\"#DejaVuSans-35\" x=\"159.033203\"/>\n      </g>\n     </g>\n    </g>\n   </g>\n   <g id=\"LineCollection_1\"/>\n   <g id=\"patch_8\">\n    <path d=\"M 310.893 273.312 \nL 317.5458 273.312 \nL 324.1986 273.312 \nL 324.1986 7.2 \nL 317.5458 7.2 \nL 310.893 7.2 \nL 310.893 273.312 \nz\n\" style=\"fill: none; stroke: #000000; stroke-width: 0.8; stroke-linejoin: miter; stroke-linecap: square\"/>\n   </g>\n  </g>\n </g>\n <defs>\n  <clipPath id=\"pa5ab593e2f\">\n   <rect x=\"26.925\" y=\"7.2\" width=\"266.112\" height=\"266.112\"/>\n  </clipPath>\n </defs>\n</svg>\n"
     },
     "metadata": {},
     "output_type": "display_data"
    },
    {
     "data": {
      "text/plain": "HTML(value=\"<a href='./tmp04a_jlnm.pdf' target='_blank'>./tmp04a_jlnm.pdf</a><br>\")",
      "application/vnd.jupyter.widget-view+json": {
       "version_major": 2,
       "version_minor": 0,
       "model_id": "61ff29f63a47462c89091814f1d49557"
      }
     },
     "metadata": {},
     "output_type": "display_data"
    }
   ],
   "execution_count": 23
  },
  {
   "metadata": {
    "ExecuteTime": {
     "end_time": "2024-07-17T21:14:46.406205Z",
     "start_time": "2024-07-17T21:14:46.401527Z"
    }
   },
   "cell_type": "code",
   "source": [
    "# Calculate rmse between analytical solution, Trixi and PyMPDATA output\n",
    "rmse = np.sqrt(np.mean((states_history[-1] - z_final) ** 2))\n",
    "print(f\"PyMPDATA - RMSE: {rmse:.4f}\")\n",
    "\n",
    "rmse = np.sqrt(np.mean((trixi_result - z_final) ** 2))\n",
    "print(f\"Trixi - RMSE: {rmse:.4f}\")"
   ],
   "id": "554e3096675cb2fa",
   "outputs": [
    {
     "name": "stdout",
     "output_type": "stream",
     "text": [
      "PyMPDATA - RMSE: 0.6796\n",
      "Trixi - RMSE: 7.9917\n"
     ]
    }
   ],
   "execution_count": 24
  },
  {
   "metadata": {
    "ExecuteTime": {
     "end_time": "2024-07-17T21:14:46.415181Z",
     "start_time": "2024-07-17T21:14:46.407353Z"
    }
   },
   "cell_type": "code",
   "source": [
    "# Calculate min-max difference between analytical solution, Trixi and PyMPDATA output\n",
    "min_max_diff = np.max(np.abs(states_history[-1] - z_final))\n",
    "print(f\"PyMPDATA - Min-max difference: {min_max_diff:.4f}\")\n",
    "\n",
    "min_max_diff = np.max(np.abs(trixi_result - z_final))\n",
    "print(f\"Trixi - Min-max difference: {min_max_diff:.4f}\")"
   ],
   "id": "b0b636077e7fc8af",
   "outputs": [
    {
     "name": "stdout",
     "output_type": "stream",
     "text": [
      "PyMPDATA - Min-max difference: 1.1064\n",
      "Trixi - Min-max difference: 53.1039\n"
     ]
    }
   ],
   "execution_count": 25
  },
  {
   "cell_type": "code",
   "outputs": [
    {
     "data": {
      "text/plain": "<matplotlib.image.AxesImage at 0x79ecede328c0>"
     },
     "execution_count": 37,
     "metadata": {},
     "output_type": "execute_result"
    },
    {
     "data": {
      "text/plain": "<Figure size 640x480 with 1 Axes>",
      "image/svg+xml": "<?xml version=\"1.0\" encoding=\"utf-8\" standalone=\"no\"?>\n<!DOCTYPE svg PUBLIC \"-//W3C//DTD SVG 1.1//EN\"\n  \"http://www.w3.org/Graphics/SVG/1.1/DTD/svg11.dtd\">\n<svg xmlns:xlink=\"http://www.w3.org/1999/xlink\" width=\"300.237pt\" height=\"297.190125pt\" viewBox=\"0 0 300.237 297.190125\" xmlns=\"http://www.w3.org/2000/svg\" version=\"1.1\">\n <metadata>\n  <rdf:RDF xmlns:dc=\"http://purl.org/dc/elements/1.1/\" xmlns:cc=\"http://creativecommons.org/ns#\" xmlns:rdf=\"http://www.w3.org/1999/02/22-rdf-syntax-ns#\">\n   <cc:Work>\n    <dc:type rdf:resource=\"http://purl.org/dc/dcmitype/StillImage\"/>\n    <dc:date>2024-07-17T23:28:21.147886</dc:date>\n    <dc:format>image/svg+xml</dc:format>\n    <dc:creator>\n     <cc:Agent>\n      <dc:title>Matplotlib v3.9.0, https://matplotlib.org/</dc:title>\n     </cc:Agent>\n    </dc:creator>\n   </cc:Work>\n  </rdf:RDF>\n </metadata>\n <defs>\n  <style type=\"text/css\">*{stroke-linejoin: round; stroke-linecap: butt}</style>\n </defs>\n <g id=\"figure_1\">\n  <g id=\"patch_1\">\n   <path d=\"M -0 297.190125 \nL 300.237 297.190125 \nL 300.237 0 \nL -0 0 \nz\n\" style=\"fill: #ffffff\"/>\n  </g>\n  <g id=\"axes_1\">\n   <g id=\"patch_2\">\n    <path d=\"M 26.925 273.312 \nL 293.037 273.312 \nL 293.037 7.2 \nL 26.925 7.2 \nz\n\" style=\"fill: #ffffff\"/>\n   </g>\n   <g clip-path=\"url(#pd208213fcf)\">\n    <image xlink:href=\"data:image/png;base64,\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\" id=\"image83f200a15a\" transform=\"scale(1 -1) translate(0 -266.4)\" x=\"26.925\" y=\"-6.912\" width=\"266.4\" height=\"266.4\"/>\n   </g>\n   <g id=\"matplotlib.axis_1\">\n    <g id=\"xtick_1\">\n     <g id=\"line2d_1\">\n      <defs>\n       <path id=\"m4c4913f8f7\" d=\"M 0 0 \nL 0 3.5 \n\" style=\"stroke: #000000; stroke-width: 0.8\"/>\n      </defs>\n      <g>\n       <use xlink:href=\"#m4c4913f8f7\" x=\"31.083\" y=\"273.312\" style=\"stroke: #000000; stroke-width: 0.8\"/>\n      </g>\n     </g>\n     <g id=\"text_1\">\n      <!-- 0 -->\n      <g transform=\"translate(27.90175 287.910437) scale(0.1 -0.1)\">\n       <defs>\n        <path id=\"DejaVuSans-30\" d=\"M 2034 4250 \nQ 1547 4250 1301 3770 \nQ 1056 3291 1056 2328 \nQ 1056 1369 1301 889 \nQ 1547 409 2034 409 \nQ 2525 409 2770 889 \nQ 3016 1369 3016 2328 \nQ 3016 3291 2770 3770 \nQ 2525 4250 2034 4250 \nz\nM 2034 4750 \nQ 2819 4750 3233 4129 \nQ 3647 3509 3647 2328 \nQ 3647 1150 3233 529 \nQ 2819 -91 2034 -91 \nQ 1250 -91 836 529 \nQ 422 1150 422 2328 \nQ 422 3509 836 4129 \nQ 1250 4750 2034 4750 \nz\n\" transform=\"scale(0.015625)\"/>\n       </defs>\n       <use xlink:href=\"#DejaVuSans-30\"/>\n      </g>\n     </g>\n    </g>\n    <g id=\"xtick_2\">\n     <g id=\"line2d_2\">\n      <g>\n       <use xlink:href=\"#m4c4913f8f7\" x=\"72.663\" y=\"273.312\" style=\"stroke: #000000; stroke-width: 0.8\"/>\n      </g>\n     </g>\n     <g id=\"text_2\">\n      <!-- 5 -->\n      <g transform=\"translate(69.48175 287.910437) scale(0.1 -0.1)\">\n       <defs>\n        <path id=\"DejaVuSans-35\" d=\"M 691 4666 \nL 3169 4666 \nL 3169 4134 \nL 1269 4134 \nL 1269 2991 \nQ 1406 3038 1543 3061 \nQ 1681 3084 1819 3084 \nQ 2600 3084 3056 2656 \nQ 3513 2228 3513 1497 \nQ 3513 744 3044 326 \nQ 2575 -91 1722 -91 \nQ 1428 -91 1123 -41 \nQ 819 9 494 109 \nL 494 744 \nQ 775 591 1075 516 \nQ 1375 441 1709 441 \nQ 2250 441 2565 725 \nQ 2881 1009 2881 1497 \nQ 2881 1984 2565 2268 \nQ 2250 2553 1709 2553 \nQ 1456 2553 1204 2497 \nQ 953 2441 691 2322 \nL 691 4666 \nz\n\" transform=\"scale(0.015625)\"/>\n       </defs>\n       <use xlink:href=\"#DejaVuSans-35\"/>\n      </g>\n     </g>\n    </g>\n    <g id=\"xtick_3\">\n     <g id=\"line2d_3\">\n      <g>\n       <use xlink:href=\"#m4c4913f8f7\" x=\"114.243\" y=\"273.312\" style=\"stroke: #000000; stroke-width: 0.8\"/>\n      </g>\n     </g>\n     <g id=\"text_3\">\n      <!-- 10 -->\n      <g transform=\"translate(107.8805 287.910437) scale(0.1 -0.1)\">\n       <defs>\n        <path id=\"DejaVuSans-31\" d=\"M 794 531 \nL 1825 531 \nL 1825 4091 \nL 703 3866 \nL 703 4441 \nL 1819 4666 \nL 2450 4666 \nL 2450 531 \nL 3481 531 \nL 3481 0 \nL 794 0 \nL 794 531 \nz\n\" transform=\"scale(0.015625)\"/>\n       </defs>\n       <use xlink:href=\"#DejaVuSans-31\"/>\n       <use xlink:href=\"#DejaVuSans-30\" x=\"63.623047\"/>\n      </g>\n     </g>\n    </g>\n    <g id=\"xtick_4\">\n     <g id=\"line2d_4\">\n      <g>\n       <use xlink:href=\"#m4c4913f8f7\" x=\"155.823\" y=\"273.312\" style=\"stroke: #000000; stroke-width: 0.8\"/>\n      </g>\n     </g>\n     <g id=\"text_4\">\n      <!-- 15 -->\n      <g transform=\"translate(149.4605 287.910437) scale(0.1 -0.1)\">\n       <use xlink:href=\"#DejaVuSans-31\"/>\n       <use xlink:href=\"#DejaVuSans-35\" x=\"63.623047\"/>\n      </g>\n     </g>\n    </g>\n    <g id=\"xtick_5\">\n     <g id=\"line2d_5\">\n      <g>\n       <use xlink:href=\"#m4c4913f8f7\" x=\"197.403\" y=\"273.312\" style=\"stroke: #000000; stroke-width: 0.8\"/>\n      </g>\n     </g>\n     <g id=\"text_5\">\n      <!-- 20 -->\n      <g transform=\"translate(191.0405 287.910437) scale(0.1 -0.1)\">\n       <defs>\n        <path id=\"DejaVuSans-32\" d=\"M 1228 531 \nL 3431 531 \nL 3431 0 \nL 469 0 \nL 469 531 \nQ 828 903 1448 1529 \nQ 2069 2156 2228 2338 \nQ 2531 2678 2651 2914 \nQ 2772 3150 2772 3378 \nQ 2772 3750 2511 3984 \nQ 2250 4219 1831 4219 \nQ 1534 4219 1204 4116 \nQ 875 4013 500 3803 \nL 500 4441 \nQ 881 4594 1212 4672 \nQ 1544 4750 1819 4750 \nQ 2544 4750 2975 4387 \nQ 3406 4025 3406 3419 \nQ 3406 3131 3298 2873 \nQ 3191 2616 2906 2266 \nQ 2828 2175 2409 1742 \nQ 1991 1309 1228 531 \nz\n\" transform=\"scale(0.015625)\"/>\n       </defs>\n       <use xlink:href=\"#DejaVuSans-32\"/>\n       <use xlink:href=\"#DejaVuSans-30\" x=\"63.623047\"/>\n      </g>\n     </g>\n    </g>\n    <g id=\"xtick_6\">\n     <g id=\"line2d_6\">\n      <g>\n       <use xlink:href=\"#m4c4913f8f7\" x=\"238.983\" y=\"273.312\" style=\"stroke: #000000; stroke-width: 0.8\"/>\n      </g>\n     </g>\n     <g id=\"text_6\">\n      <!-- 25 -->\n      <g transform=\"translate(232.6205 287.910437) scale(0.1 -0.1)\">\n       <use xlink:href=\"#DejaVuSans-32\"/>\n       <use xlink:href=\"#DejaVuSans-35\" x=\"63.623047\"/>\n      </g>\n     </g>\n    </g>\n    <g id=\"xtick_7\">\n     <g id=\"line2d_7\">\n      <g>\n       <use xlink:href=\"#m4c4913f8f7\" x=\"280.563\" y=\"273.312\" style=\"stroke: #000000; stroke-width: 0.8\"/>\n      </g>\n     </g>\n     <g id=\"text_7\">\n      <!-- 30 -->\n      <g transform=\"translate(274.2005 287.910437) scale(0.1 -0.1)\">\n       <defs>\n        <path id=\"DejaVuSans-33\" d=\"M 2597 2516 \nQ 3050 2419 3304 2112 \nQ 3559 1806 3559 1356 \nQ 3559 666 3084 287 \nQ 2609 -91 1734 -91 \nQ 1441 -91 1130 -33 \nQ 819 25 488 141 \nL 488 750 \nQ 750 597 1062 519 \nQ 1375 441 1716 441 \nQ 2309 441 2620 675 \nQ 2931 909 2931 1356 \nQ 2931 1769 2642 2001 \nQ 2353 2234 1838 2234 \nL 1294 2234 \nL 1294 2753 \nL 1863 2753 \nQ 2328 2753 2575 2939 \nQ 2822 3125 2822 3475 \nQ 2822 3834 2567 4026 \nQ 2313 4219 1838 4219 \nQ 1578 4219 1281 4162 \nQ 984 4106 628 3988 \nL 628 4550 \nQ 988 4650 1302 4700 \nQ 1616 4750 1894 4750 \nQ 2613 4750 3031 4423 \nQ 3450 4097 3450 3541 \nQ 3450 3153 3228 2886 \nQ 3006 2619 2597 2516 \nz\n\" transform=\"scale(0.015625)\"/>\n       </defs>\n       <use xlink:href=\"#DejaVuSans-33\"/>\n       <use xlink:href=\"#DejaVuSans-30\" x=\"63.623047\"/>\n      </g>\n     </g>\n    </g>\n   </g>\n   <g id=\"matplotlib.axis_2\">\n    <g id=\"ytick_1\">\n     <g id=\"line2d_8\">\n      <defs>\n       <path id=\"m2cc127ab7a\" d=\"M 0 0 \nL -3.5 0 \n\" style=\"stroke: #000000; stroke-width: 0.8\"/>\n      </defs>\n      <g>\n       <use xlink:href=\"#m2cc127ab7a\" x=\"26.925\" y=\"11.358\" style=\"stroke: #000000; stroke-width: 0.8\"/>\n      </g>\n     </g>\n     <g id=\"text_8\">\n      <!-- 0 -->\n      <g transform=\"translate(13.5625 15.157219) scale(0.1 -0.1)\">\n       <use xlink:href=\"#DejaVuSans-30\"/>\n      </g>\n     </g>\n    </g>\n    <g id=\"ytick_2\">\n     <g id=\"line2d_9\">\n      <g>\n       <use xlink:href=\"#m2cc127ab7a\" x=\"26.925\" y=\"52.938\" style=\"stroke: #000000; stroke-width: 0.8\"/>\n      </g>\n     </g>\n     <g id=\"text_9\">\n      <!-- 5 -->\n      <g transform=\"translate(13.5625 56.737219) scale(0.1 -0.1)\">\n       <use xlink:href=\"#DejaVuSans-35\"/>\n      </g>\n     </g>\n    </g>\n    <g id=\"ytick_3\">\n     <g id=\"line2d_10\">\n      <g>\n       <use xlink:href=\"#m2cc127ab7a\" x=\"26.925\" y=\"94.518\" style=\"stroke: #000000; stroke-width: 0.8\"/>\n      </g>\n     </g>\n     <g id=\"text_10\">\n      <!-- 10 -->\n      <g transform=\"translate(7.2 98.317219) scale(0.1 -0.1)\">\n       <use xlink:href=\"#DejaVuSans-31\"/>\n       <use xlink:href=\"#DejaVuSans-30\" x=\"63.623047\"/>\n      </g>\n     </g>\n    </g>\n    <g id=\"ytick_4\">\n     <g id=\"line2d_11\">\n      <g>\n       <use xlink:href=\"#m2cc127ab7a\" x=\"26.925\" y=\"136.098\" style=\"stroke: #000000; stroke-width: 0.8\"/>\n      </g>\n     </g>\n     <g id=\"text_11\">\n      <!-- 15 -->\n      <g transform=\"translate(7.2 139.897219) scale(0.1 -0.1)\">\n       <use xlink:href=\"#DejaVuSans-31\"/>\n       <use xlink:href=\"#DejaVuSans-35\" x=\"63.623047\"/>\n      </g>\n     </g>\n    </g>\n    <g id=\"ytick_5\">\n     <g id=\"line2d_12\">\n      <g>\n       <use xlink:href=\"#m2cc127ab7a\" x=\"26.925\" y=\"177.678\" style=\"stroke: #000000; stroke-width: 0.8\"/>\n      </g>\n     </g>\n     <g id=\"text_12\">\n      <!-- 20 -->\n      <g transform=\"translate(7.2 181.477219) scale(0.1 -0.1)\">\n       <use xlink:href=\"#DejaVuSans-32\"/>\n       <use xlink:href=\"#DejaVuSans-30\" x=\"63.623047\"/>\n      </g>\n     </g>\n    </g>\n    <g id=\"ytick_6\">\n     <g id=\"line2d_13\">\n      <g>\n       <use xlink:href=\"#m2cc127ab7a\" x=\"26.925\" y=\"219.258\" style=\"stroke: #000000; stroke-width: 0.8\"/>\n      </g>\n     </g>\n     <g id=\"text_13\">\n      <!-- 25 -->\n      <g transform=\"translate(7.2 223.057219) scale(0.1 -0.1)\">\n       <use xlink:href=\"#DejaVuSans-32\"/>\n       <use xlink:href=\"#DejaVuSans-35\" x=\"63.623047\"/>\n      </g>\n     </g>\n    </g>\n    <g id=\"ytick_7\">\n     <g id=\"line2d_14\">\n      <g>\n       <use xlink:href=\"#m2cc127ab7a\" x=\"26.925\" y=\"260.838\" style=\"stroke: #000000; stroke-width: 0.8\"/>\n      </g>\n     </g>\n     <g id=\"text_14\">\n      <!-- 30 -->\n      <g transform=\"translate(7.2 264.637219) scale(0.1 -0.1)\">\n       <use xlink:href=\"#DejaVuSans-33\"/>\n       <use xlink:href=\"#DejaVuSans-30\" x=\"63.623047\"/>\n      </g>\n     </g>\n    </g>\n   </g>\n   <g id=\"patch_3\">\n    <path d=\"M 26.925 273.312 \nL 26.925 7.2 \n\" style=\"fill: none; stroke: #000000; stroke-width: 0.8; stroke-linejoin: miter; stroke-linecap: square\"/>\n   </g>\n   <g id=\"patch_4\">\n    <path d=\"M 293.037 273.312 \nL 293.037 7.2 \n\" style=\"fill: none; stroke: #000000; stroke-width: 0.8; stroke-linejoin: miter; stroke-linecap: square\"/>\n   </g>\n   <g id=\"patch_5\">\n    <path d=\"M 26.925 273.312 \nL 293.037 273.312 \n\" style=\"fill: none; stroke: #000000; stroke-width: 0.8; stroke-linejoin: miter; stroke-linecap: square\"/>\n   </g>\n   <g id=\"patch_6\">\n    <path d=\"M 26.925 7.2 \nL 293.037 7.2 \n\" style=\"fill: none; stroke: #000000; stroke-width: 0.8; stroke-linejoin: miter; stroke-linecap: square\"/>\n   </g>\n  </g>\n </g>\n <defs>\n  <clipPath id=\"pd208213fcf\">\n   <rect x=\"26.925\" y=\"7.2\" width=\"266.112\" height=\"266.112\"/>\n  </clipPath>\n </defs>\n</svg>\n"
     },
     "metadata": {},
     "output_type": "display_data"
    }
   ],
   "source": [
    "# Plot the edges of the shape with FWHM\n",
    "fwhm_edges = get_fwhm_edges(states_history[-1])\n",
    "plt.imshow(fwhm_edges)"
   ],
   "metadata": {
    "collapsed": false,
    "ExecuteTime": {
     "end_time": "2024-07-17T21:28:21.176342Z",
     "start_time": "2024-07-17T21:28:21.031925Z"
    }
   },
   "id": "ca297ea960634d83",
   "execution_count": 37
  },
  {
   "cell_type": "code",
   "outputs": [
    {
     "data": {
      "text/plain": "[<matplotlib.lines.Line2D at 0x79ecee3e4550>]"
     },
     "execution_count": 34,
     "metadata": {},
     "output_type": "execute_result"
    },
    {
     "data": {
      "text/plain": "<Figure size 640x480 with 1 Axes>",
      "image/svg+xml": "<?xml version=\"1.0\" encoding=\"utf-8\" standalone=\"no\"?>\n<!DOCTYPE svg PUBLIC \"-//W3C//DTD SVG 1.1//EN\"\n  \"http://www.w3.org/Graphics/SVG/1.1/DTD/svg11.dtd\">\n<svg xmlns:xlink=\"http://www.w3.org/1999/xlink\" width=\"300.237pt\" height=\"297.190125pt\" viewBox=\"0 0 300.237 297.190125\" xmlns=\"http://www.w3.org/2000/svg\" version=\"1.1\">\n <metadata>\n  <rdf:RDF xmlns:dc=\"http://purl.org/dc/elements/1.1/\" xmlns:cc=\"http://creativecommons.org/ns#\" xmlns:rdf=\"http://www.w3.org/1999/02/22-rdf-syntax-ns#\">\n   <cc:Work>\n    <dc:type rdf:resource=\"http://purl.org/dc/dcmitype/StillImage\"/>\n    <dc:date>2024-07-17T23:26:31.078175</dc:date>\n    <dc:format>image/svg+xml</dc:format>\n    <dc:creator>\n     <cc:Agent>\n      <dc:title>Matplotlib v3.9.0, https://matplotlib.org/</dc:title>\n     </cc:Agent>\n    </dc:creator>\n   </cc:Work>\n  </rdf:RDF>\n </metadata>\n <defs>\n  <style type=\"text/css\">*{stroke-linejoin: round; stroke-linecap: butt}</style>\n </defs>\n <g id=\"figure_1\">\n  <g id=\"patch_1\">\n   <path d=\"M -0 297.190125 \nL 300.237 297.190125 \nL 300.237 0 \nL -0 0 \nz\n\" style=\"fill: #ffffff\"/>\n  </g>\n  <g id=\"axes_1\">\n   <g id=\"patch_2\">\n    <path d=\"M 26.925 273.312 \nL 293.037 273.312 \nL 293.037 7.2 \nL 26.925 7.2 \nz\n\" style=\"fill: #ffffff\"/>\n   </g>\n   <g clip-path=\"url(#p92f250dd26)\">\n    <image xlink:href=\"data:image/png;base64,\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\" id=\"imagee177b9d348\" transform=\"scale(1 -1) translate(0 -266.4)\" x=\"26.925\" y=\"-6.912\" width=\"266.4\" height=\"266.4\"/>\n   </g>\n   <g id=\"matplotlib.axis_1\">\n    <g id=\"xtick_1\">\n     <g id=\"line2d_1\">\n      <defs>\n       <path id=\"mad69641ab9\" d=\"M 0 0 \nL 0 3.5 \n\" style=\"stroke: #000000; stroke-width: 0.8\"/>\n      </defs>\n      <g>\n       <use xlink:href=\"#mad69641ab9\" x=\"31.083\" y=\"273.312\" style=\"stroke: #000000; stroke-width: 0.8\"/>\n      </g>\n     </g>\n     <g id=\"text_1\">\n      <!-- 0 -->\n      <g transform=\"translate(27.90175 287.910437) scale(0.1 -0.1)\">\n       <defs>\n        <path id=\"DejaVuSans-30\" d=\"M 2034 4250 \nQ 1547 4250 1301 3770 \nQ 1056 3291 1056 2328 \nQ 1056 1369 1301 889 \nQ 1547 409 2034 409 \nQ 2525 409 2770 889 \nQ 3016 1369 3016 2328 \nQ 3016 3291 2770 3770 \nQ 2525 4250 2034 4250 \nz\nM 2034 4750 \nQ 2819 4750 3233 4129 \nQ 3647 3509 3647 2328 \nQ 3647 1150 3233 529 \nQ 2819 -91 2034 -91 \nQ 1250 -91 836 529 \nQ 422 1150 422 2328 \nQ 422 3509 836 4129 \nQ 1250 4750 2034 4750 \nz\n\" transform=\"scale(0.015625)\"/>\n       </defs>\n       <use xlink:href=\"#DejaVuSans-30\"/>\n      </g>\n     </g>\n    </g>\n    <g id=\"xtick_2\">\n     <g id=\"line2d_2\">\n      <g>\n       <use xlink:href=\"#mad69641ab9\" x=\"72.663\" y=\"273.312\" style=\"stroke: #000000; stroke-width: 0.8\"/>\n      </g>\n     </g>\n     <g id=\"text_2\">\n      <!-- 5 -->\n      <g transform=\"translate(69.48175 287.910437) scale(0.1 -0.1)\">\n       <defs>\n        <path id=\"DejaVuSans-35\" d=\"M 691 4666 \nL 3169 4666 \nL 3169 4134 \nL 1269 4134 \nL 1269 2991 \nQ 1406 3038 1543 3061 \nQ 1681 3084 1819 3084 \nQ 2600 3084 3056 2656 \nQ 3513 2228 3513 1497 \nQ 3513 744 3044 326 \nQ 2575 -91 1722 -91 \nQ 1428 -91 1123 -41 \nQ 819 9 494 109 \nL 494 744 \nQ 775 591 1075 516 \nQ 1375 441 1709 441 \nQ 2250 441 2565 725 \nQ 2881 1009 2881 1497 \nQ 2881 1984 2565 2268 \nQ 2250 2553 1709 2553 \nQ 1456 2553 1204 2497 \nQ 953 2441 691 2322 \nL 691 4666 \nz\n\" transform=\"scale(0.015625)\"/>\n       </defs>\n       <use xlink:href=\"#DejaVuSans-35\"/>\n      </g>\n     </g>\n    </g>\n    <g id=\"xtick_3\">\n     <g id=\"line2d_3\">\n      <g>\n       <use xlink:href=\"#mad69641ab9\" x=\"114.243\" y=\"273.312\" style=\"stroke: #000000; stroke-width: 0.8\"/>\n      </g>\n     </g>\n     <g id=\"text_3\">\n      <!-- 10 -->\n      <g transform=\"translate(107.8805 287.910437) scale(0.1 -0.1)\">\n       <defs>\n        <path id=\"DejaVuSans-31\" d=\"M 794 531 \nL 1825 531 \nL 1825 4091 \nL 703 3866 \nL 703 4441 \nL 1819 4666 \nL 2450 4666 \nL 2450 531 \nL 3481 531 \nL 3481 0 \nL 794 0 \nL 794 531 \nz\n\" transform=\"scale(0.015625)\"/>\n       </defs>\n       <use xlink:href=\"#DejaVuSans-31\"/>\n       <use xlink:href=\"#DejaVuSans-30\" x=\"63.623047\"/>\n      </g>\n     </g>\n    </g>\n    <g id=\"xtick_4\">\n     <g id=\"line2d_4\">\n      <g>\n       <use xlink:href=\"#mad69641ab9\" x=\"155.823\" y=\"273.312\" style=\"stroke: #000000; stroke-width: 0.8\"/>\n      </g>\n     </g>\n     <g id=\"text_4\">\n      <!-- 15 -->\n      <g transform=\"translate(149.4605 287.910437) scale(0.1 -0.1)\">\n       <use xlink:href=\"#DejaVuSans-31\"/>\n       <use xlink:href=\"#DejaVuSans-35\" x=\"63.623047\"/>\n      </g>\n     </g>\n    </g>\n    <g id=\"xtick_5\">\n     <g id=\"line2d_5\">\n      <g>\n       <use xlink:href=\"#mad69641ab9\" x=\"197.403\" y=\"273.312\" style=\"stroke: #000000; stroke-width: 0.8\"/>\n      </g>\n     </g>\n     <g id=\"text_5\">\n      <!-- 20 -->\n      <g transform=\"translate(191.0405 287.910437) scale(0.1 -0.1)\">\n       <defs>\n        <path id=\"DejaVuSans-32\" d=\"M 1228 531 \nL 3431 531 \nL 3431 0 \nL 469 0 \nL 469 531 \nQ 828 903 1448 1529 \nQ 2069 2156 2228 2338 \nQ 2531 2678 2651 2914 \nQ 2772 3150 2772 3378 \nQ 2772 3750 2511 3984 \nQ 2250 4219 1831 4219 \nQ 1534 4219 1204 4116 \nQ 875 4013 500 3803 \nL 500 4441 \nQ 881 4594 1212 4672 \nQ 1544 4750 1819 4750 \nQ 2544 4750 2975 4387 \nQ 3406 4025 3406 3419 \nQ 3406 3131 3298 2873 \nQ 3191 2616 2906 2266 \nQ 2828 2175 2409 1742 \nQ 1991 1309 1228 531 \nz\n\" transform=\"scale(0.015625)\"/>\n       </defs>\n       <use xlink:href=\"#DejaVuSans-32\"/>\n       <use xlink:href=\"#DejaVuSans-30\" x=\"63.623047\"/>\n      </g>\n     </g>\n    </g>\n    <g id=\"xtick_6\">\n     <g id=\"line2d_6\">\n      <g>\n       <use xlink:href=\"#mad69641ab9\" x=\"238.983\" y=\"273.312\" style=\"stroke: #000000; stroke-width: 0.8\"/>\n      </g>\n     </g>\n     <g id=\"text_6\">\n      <!-- 25 -->\n      <g transform=\"translate(232.6205 287.910437) scale(0.1 -0.1)\">\n       <use xlink:href=\"#DejaVuSans-32\"/>\n       <use xlink:href=\"#DejaVuSans-35\" x=\"63.623047\"/>\n      </g>\n     </g>\n    </g>\n    <g id=\"xtick_7\">\n     <g id=\"line2d_7\">\n      <g>\n       <use xlink:href=\"#mad69641ab9\" x=\"280.563\" y=\"273.312\" style=\"stroke: #000000; stroke-width: 0.8\"/>\n      </g>\n     </g>\n     <g id=\"text_7\">\n      <!-- 30 -->\n      <g transform=\"translate(274.2005 287.910437) scale(0.1 -0.1)\">\n       <defs>\n        <path id=\"DejaVuSans-33\" d=\"M 2597 2516 \nQ 3050 2419 3304 2112 \nQ 3559 1806 3559 1356 \nQ 3559 666 3084 287 \nQ 2609 -91 1734 -91 \nQ 1441 -91 1130 -33 \nQ 819 25 488 141 \nL 488 750 \nQ 750 597 1062 519 \nQ 1375 441 1716 441 \nQ 2309 441 2620 675 \nQ 2931 909 2931 1356 \nQ 2931 1769 2642 2001 \nQ 2353 2234 1838 2234 \nL 1294 2234 \nL 1294 2753 \nL 1863 2753 \nQ 2328 2753 2575 2939 \nQ 2822 3125 2822 3475 \nQ 2822 3834 2567 4026 \nQ 2313 4219 1838 4219 \nQ 1578 4219 1281 4162 \nQ 984 4106 628 3988 \nL 628 4550 \nQ 988 4650 1302 4700 \nQ 1616 4750 1894 4750 \nQ 2613 4750 3031 4423 \nQ 3450 4097 3450 3541 \nQ 3450 3153 3228 2886 \nQ 3006 2619 2597 2516 \nz\n\" transform=\"scale(0.015625)\"/>\n       </defs>\n       <use xlink:href=\"#DejaVuSans-33\"/>\n       <use xlink:href=\"#DejaVuSans-30\" x=\"63.623047\"/>\n      </g>\n     </g>\n    </g>\n   </g>\n   <g id=\"matplotlib.axis_2\">\n    <g id=\"ytick_1\">\n     <g id=\"line2d_8\">\n      <defs>\n       <path id=\"mf83f51f78c\" d=\"M 0 0 \nL -3.5 0 \n\" style=\"stroke: #000000; stroke-width: 0.8\"/>\n      </defs>\n      <g>\n       <use xlink:href=\"#mf83f51f78c\" x=\"26.925\" y=\"11.358\" style=\"stroke: #000000; stroke-width: 0.8\"/>\n      </g>\n     </g>\n     <g id=\"text_8\">\n      <!-- 0 -->\n      <g transform=\"translate(13.5625 15.157219) scale(0.1 -0.1)\">\n       <use xlink:href=\"#DejaVuSans-30\"/>\n      </g>\n     </g>\n    </g>\n    <g id=\"ytick_2\">\n     <g id=\"line2d_9\">\n      <g>\n       <use xlink:href=\"#mf83f51f78c\" x=\"26.925\" y=\"52.938\" style=\"stroke: #000000; stroke-width: 0.8\"/>\n      </g>\n     </g>\n     <g id=\"text_9\">\n      <!-- 5 -->\n      <g transform=\"translate(13.5625 56.737219) scale(0.1 -0.1)\">\n       <use xlink:href=\"#DejaVuSans-35\"/>\n      </g>\n     </g>\n    </g>\n    <g id=\"ytick_3\">\n     <g id=\"line2d_10\">\n      <g>\n       <use xlink:href=\"#mf83f51f78c\" x=\"26.925\" y=\"94.518\" style=\"stroke: #000000; stroke-width: 0.8\"/>\n      </g>\n     </g>\n     <g id=\"text_10\">\n      <!-- 10 -->\n      <g transform=\"translate(7.2 98.317219) scale(0.1 -0.1)\">\n       <use xlink:href=\"#DejaVuSans-31\"/>\n       <use xlink:href=\"#DejaVuSans-30\" x=\"63.623047\"/>\n      </g>\n     </g>\n    </g>\n    <g id=\"ytick_4\">\n     <g id=\"line2d_11\">\n      <g>\n       <use xlink:href=\"#mf83f51f78c\" x=\"26.925\" y=\"136.098\" style=\"stroke: #000000; stroke-width: 0.8\"/>\n      </g>\n     </g>\n     <g id=\"text_11\">\n      <!-- 15 -->\n      <g transform=\"translate(7.2 139.897219) scale(0.1 -0.1)\">\n       <use xlink:href=\"#DejaVuSans-31\"/>\n       <use xlink:href=\"#DejaVuSans-35\" x=\"63.623047\"/>\n      </g>\n     </g>\n    </g>\n    <g id=\"ytick_5\">\n     <g id=\"line2d_12\">\n      <g>\n       <use xlink:href=\"#mf83f51f78c\" x=\"26.925\" y=\"177.678\" style=\"stroke: #000000; stroke-width: 0.8\"/>\n      </g>\n     </g>\n     <g id=\"text_12\">\n      <!-- 20 -->\n      <g transform=\"translate(7.2 181.477219) scale(0.1 -0.1)\">\n       <use xlink:href=\"#DejaVuSans-32\"/>\n       <use xlink:href=\"#DejaVuSans-30\" x=\"63.623047\"/>\n      </g>\n     </g>\n    </g>\n    <g id=\"ytick_6\">\n     <g id=\"line2d_13\">\n      <g>\n       <use xlink:href=\"#mf83f51f78c\" x=\"26.925\" y=\"219.258\" style=\"stroke: #000000; stroke-width: 0.8\"/>\n      </g>\n     </g>\n     <g id=\"text_13\">\n      <!-- 25 -->\n      <g transform=\"translate(7.2 223.057219) scale(0.1 -0.1)\">\n       <use xlink:href=\"#DejaVuSans-32\"/>\n       <use xlink:href=\"#DejaVuSans-35\" x=\"63.623047\"/>\n      </g>\n     </g>\n    </g>\n    <g id=\"ytick_7\">\n     <g id=\"line2d_14\">\n      <g>\n       <use xlink:href=\"#mf83f51f78c\" x=\"26.925\" y=\"260.838\" style=\"stroke: #000000; stroke-width: 0.8\"/>\n      </g>\n     </g>\n     <g id=\"text_14\">\n      <!-- 30 -->\n      <g transform=\"translate(7.2 264.637219) scale(0.1 -0.1)\">\n       <use xlink:href=\"#DejaVuSans-33\"/>\n       <use xlink:href=\"#DejaVuSans-30\" x=\"63.623047\"/>\n      </g>\n     </g>\n    </g>\n   </g>\n   <g id=\"line2d_15\">\n    <defs>\n     <path id=\"m390ac4332e\" d=\"M 0 3 \nC 0.795609 3 1.55874 2.683901 2.12132 2.12132 \nC 2.683901 1.55874 3 0.795609 3 0 \nC 3 -0.795609 2.683901 -1.55874 2.12132 -2.12132 \nC 1.55874 -2.683901 0.795609 -3 0 -3 \nC -0.795609 -3 -1.55874 -2.683901 -2.12132 -2.12132 \nC -2.683901 -1.55874 -3 -0.795609 -3 0 \nC -3 0.795609 -2.683901 1.55874 -2.12132 2.12132 \nC -1.55874 2.683901 -0.795609 3 0 3 \nz\n\" style=\"stroke: #ff0000\"/>\n    </defs>\n    <g clip-path=\"url(#p92f250dd26)\">\n     <use xlink:href=\"#m390ac4332e\" x=\"197.403\" y=\"210.942\" style=\"fill: #ff0000; stroke: #ff0000\"/>\n    </g>\n   </g>\n   <g id=\"patch_3\">\n    <path d=\"M 26.925 273.312 \nL 26.925 7.2 \n\" style=\"fill: none; stroke: #000000; stroke-width: 0.8; stroke-linejoin: miter; stroke-linecap: square\"/>\n   </g>\n   <g id=\"patch_4\">\n    <path d=\"M 293.037 273.312 \nL 293.037 7.2 \n\" style=\"fill: none; stroke: #000000; stroke-width: 0.8; stroke-linejoin: miter; stroke-linecap: square\"/>\n   </g>\n   <g id=\"patch_5\">\n    <path d=\"M 26.925 273.312 \nL 293.037 273.312 \n\" style=\"fill: none; stroke: #000000; stroke-width: 0.8; stroke-linejoin: miter; stroke-linecap: square\"/>\n   </g>\n   <g id=\"patch_6\">\n    <path d=\"M 26.925 7.2 \nL 293.037 7.2 \n\" style=\"fill: none; stroke: #000000; stroke-width: 0.8; stroke-linejoin: miter; stroke-linecap: square\"/>\n   </g>\n  </g>\n </g>\n <defs>\n  <clipPath id=\"p92f250dd26\">\n   <rect x=\"26.925\" y=\"7.2\" width=\"266.112\" height=\"266.112\"/>\n  </clipPath>\n </defs>\n</svg>\n"
     },
     "metadata": {},
     "output_type": "display_data"
    }
   ],
   "source": [
    "# Find a point with the highest value\n",
    "max_value = np.max(states_history[-1])\n",
    "max_value_idx = np.where(states_history[-1] == max_value)\n",
    "\n",
    "# Plot the point with the highest value\n",
    "plt.imshow(states_history[-1])\n",
    "plt.plot(max_value_idx[1], max_value_idx[0], 'ro')"
   ],
   "metadata": {
    "collapsed": false,
    "ExecuteTime": {
     "end_time": "2024-07-17T21:26:31.111757Z",
     "start_time": "2024-07-17T21:26:30.946626Z"
    }
   },
   "id": "bc5bff4ca709978f",
   "execution_count": 34
  },
  {
   "cell_type": "code",
   "outputs": [],
   "source": [
    "# Calculate the distance between the point with the highest value and each point on the edge of the shape\n",
    "distances = np.zeros_like(fwhm_edges, dtype=float)\n",
    "for i in range(fwhm_edges.shape[0]):\n",
    "    for j in range(fwhm_edges.shape[1]):\n",
    "        if fwhm_edges[i, j] == 1:\n",
    "            distances[i, j] = np.sqrt((i - max_value_idx[0][0])**2 + (j - max_value_idx[1][0])**2)"
   ],
   "metadata": {
    "collapsed": false,
    "ExecuteTime": {
     "end_time": "2024-07-17T21:40:22.588022Z",
     "start_time": "2024-07-17T21:40:22.581705Z"
    }
   },
   "id": "6f8a7f8ea0ea102e",
   "execution_count": 38
  },
  {
   "cell_type": "code",
   "outputs": [
    {
     "name": "stdout",
     "output_type": "stream",
     "text": [
      "Max distance: 6.4031242374328485 at 19, 16\n",
      "Min distance: 4.47213595499958 at 26, 24\n"
     ]
    }
   ],
   "source": [
    "# Display the highest and shortest distance and its coordinates\n",
    "max_distance = np.max(distances)\n",
    "max_distance_idx = np.where(distances == max_distance)\n",
    "min_distance = np.min(np.where(distances > 0, distances, np.inf))\n",
    "min_distance_idx = np.where(distances == min_distance)\n",
    "print(f\"Max distance: {max_distance} at {max_distance_idx[0][0]}, {max_distance_idx[1][0]}\")\n",
    "print(f\"Min distance: {min_distance} at {min_distance_idx[0][0]}, {min_distance_idx[1][0]}\")"
   ],
   "metadata": {
    "collapsed": false,
    "ExecuteTime": {
     "end_time": "2024-07-17T21:45:36.579100Z",
     "start_time": "2024-07-17T21:45:36.572539Z"
    }
   },
   "id": "91c40543fbecdcf8",
   "execution_count": 46
  },
  {
   "cell_type": "code",
   "outputs": [
    {
     "data": {
      "text/plain": "[<matplotlib.lines.Line2D at 0x79ece389f4c0>]"
     },
     "execution_count": 58,
     "metadata": {},
     "output_type": "execute_result"
    },
    {
     "data": {
      "text/plain": "<Figure size 640x480 with 1 Axes>",
      "image/svg+xml": "<?xml version=\"1.0\" encoding=\"utf-8\" standalone=\"no\"?>\n<!DOCTYPE svg PUBLIC \"-//W3C//DTD SVG 1.1//EN\"\n  \"http://www.w3.org/Graphics/SVG/1.1/DTD/svg11.dtd\">\n<svg xmlns:xlink=\"http://www.w3.org/1999/xlink\" width=\"300.237pt\" height=\"297.190125pt\" viewBox=\"0 0 300.237 297.190125\" xmlns=\"http://www.w3.org/2000/svg\" version=\"1.1\">\n <metadata>\n  <rdf:RDF xmlns:dc=\"http://purl.org/dc/elements/1.1/\" xmlns:cc=\"http://creativecommons.org/ns#\" xmlns:rdf=\"http://www.w3.org/1999/02/22-rdf-syntax-ns#\">\n   <cc:Work>\n    <dc:type rdf:resource=\"http://purl.org/dc/dcmitype/StillImage\"/>\n    <dc:date>2024-07-17T23:54:07.373031</dc:date>\n    <dc:format>image/svg+xml</dc:format>\n    <dc:creator>\n     <cc:Agent>\n      <dc:title>Matplotlib v3.9.0, https://matplotlib.org/</dc:title>\n     </cc:Agent>\n    </dc:creator>\n   </cc:Work>\n  </rdf:RDF>\n </metadata>\n <defs>\n  <style type=\"text/css\">*{stroke-linejoin: round; stroke-linecap: butt}</style>\n </defs>\n <g id=\"figure_1\">\n  <g id=\"patch_1\">\n   <path d=\"M -0 297.190125 \nL 300.237 297.190125 \nL 300.237 0 \nL -0 0 \nz\n\" style=\"fill: #ffffff\"/>\n  </g>\n  <g id=\"axes_1\">\n   <g id=\"patch_2\">\n    <path d=\"M 26.925 273.312 \nL 293.037 273.312 \nL 293.037 7.2 \nL 26.925 7.2 \nz\n\" style=\"fill: #ffffff\"/>\n   </g>\n   <g clip-path=\"url(#pb99261c484)\">\n    <image xlink:href=\"data:image/png;base64,\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\" id=\"image95478dc240\" transform=\"scale(1 -1) translate(0 -266.4)\" x=\"26.925\" y=\"-6.912\" width=\"266.4\" height=\"266.4\"/>\n   </g>\n   <g id=\"matplotlib.axis_1\">\n    <g id=\"xtick_1\">\n     <g id=\"line2d_1\">\n      <defs>\n       <path id=\"meda32e4608\" d=\"M 0 0 \nL 0 3.5 \n\" style=\"stroke: #000000; stroke-width: 0.8\"/>\n      </defs>\n      <g>\n       <use xlink:href=\"#meda32e4608\" x=\"31.083\" y=\"273.312\" style=\"stroke: #000000; stroke-width: 0.8\"/>\n      </g>\n     </g>\n     <g id=\"text_1\">\n      <!-- 0 -->\n      <g transform=\"translate(27.90175 287.910437) scale(0.1 -0.1)\">\n       <defs>\n        <path id=\"DejaVuSans-30\" d=\"M 2034 4250 \nQ 1547 4250 1301 3770 \nQ 1056 3291 1056 2328 \nQ 1056 1369 1301 889 \nQ 1547 409 2034 409 \nQ 2525 409 2770 889 \nQ 3016 1369 3016 2328 \nQ 3016 3291 2770 3770 \nQ 2525 4250 2034 4250 \nz\nM 2034 4750 \nQ 2819 4750 3233 4129 \nQ 3647 3509 3647 2328 \nQ 3647 1150 3233 529 \nQ 2819 -91 2034 -91 \nQ 1250 -91 836 529 \nQ 422 1150 422 2328 \nQ 422 3509 836 4129 \nQ 1250 4750 2034 4750 \nz\n\" transform=\"scale(0.015625)\"/>\n       </defs>\n       <use xlink:href=\"#DejaVuSans-30\"/>\n      </g>\n     </g>\n    </g>\n    <g id=\"xtick_2\">\n     <g id=\"line2d_2\">\n      <g>\n       <use xlink:href=\"#meda32e4608\" x=\"72.663\" y=\"273.312\" style=\"stroke: #000000; stroke-width: 0.8\"/>\n      </g>\n     </g>\n     <g id=\"text_2\">\n      <!-- 5 -->\n      <g transform=\"translate(69.48175 287.910437) scale(0.1 -0.1)\">\n       <defs>\n        <path id=\"DejaVuSans-35\" d=\"M 691 4666 \nL 3169 4666 \nL 3169 4134 \nL 1269 4134 \nL 1269 2991 \nQ 1406 3038 1543 3061 \nQ 1681 3084 1819 3084 \nQ 2600 3084 3056 2656 \nQ 3513 2228 3513 1497 \nQ 3513 744 3044 326 \nQ 2575 -91 1722 -91 \nQ 1428 -91 1123 -41 \nQ 819 9 494 109 \nL 494 744 \nQ 775 591 1075 516 \nQ 1375 441 1709 441 \nQ 2250 441 2565 725 \nQ 2881 1009 2881 1497 \nQ 2881 1984 2565 2268 \nQ 2250 2553 1709 2553 \nQ 1456 2553 1204 2497 \nQ 953 2441 691 2322 \nL 691 4666 \nz\n\" transform=\"scale(0.015625)\"/>\n       </defs>\n       <use xlink:href=\"#DejaVuSans-35\"/>\n      </g>\n     </g>\n    </g>\n    <g id=\"xtick_3\">\n     <g id=\"line2d_3\">\n      <g>\n       <use xlink:href=\"#meda32e4608\" x=\"114.243\" y=\"273.312\" style=\"stroke: #000000; stroke-width: 0.8\"/>\n      </g>\n     </g>\n     <g id=\"text_3\">\n      <!-- 10 -->\n      <g transform=\"translate(107.8805 287.910437) scale(0.1 -0.1)\">\n       <defs>\n        <path id=\"DejaVuSans-31\" d=\"M 794 531 \nL 1825 531 \nL 1825 4091 \nL 703 3866 \nL 703 4441 \nL 1819 4666 \nL 2450 4666 \nL 2450 531 \nL 3481 531 \nL 3481 0 \nL 794 0 \nL 794 531 \nz\n\" transform=\"scale(0.015625)\"/>\n       </defs>\n       <use xlink:href=\"#DejaVuSans-31\"/>\n       <use xlink:href=\"#DejaVuSans-30\" x=\"63.623047\"/>\n      </g>\n     </g>\n    </g>\n    <g id=\"xtick_4\">\n     <g id=\"line2d_4\">\n      <g>\n       <use xlink:href=\"#meda32e4608\" x=\"155.823\" y=\"273.312\" style=\"stroke: #000000; stroke-width: 0.8\"/>\n      </g>\n     </g>\n     <g id=\"text_4\">\n      <!-- 15 -->\n      <g transform=\"translate(149.4605 287.910437) scale(0.1 -0.1)\">\n       <use xlink:href=\"#DejaVuSans-31\"/>\n       <use xlink:href=\"#DejaVuSans-35\" x=\"63.623047\"/>\n      </g>\n     </g>\n    </g>\n    <g id=\"xtick_5\">\n     <g id=\"line2d_5\">\n      <g>\n       <use xlink:href=\"#meda32e4608\" x=\"197.403\" y=\"273.312\" style=\"stroke: #000000; stroke-width: 0.8\"/>\n      </g>\n     </g>\n     <g id=\"text_5\">\n      <!-- 20 -->\n      <g transform=\"translate(191.0405 287.910437) scale(0.1 -0.1)\">\n       <defs>\n        <path id=\"DejaVuSans-32\" d=\"M 1228 531 \nL 3431 531 \nL 3431 0 \nL 469 0 \nL 469 531 \nQ 828 903 1448 1529 \nQ 2069 2156 2228 2338 \nQ 2531 2678 2651 2914 \nQ 2772 3150 2772 3378 \nQ 2772 3750 2511 3984 \nQ 2250 4219 1831 4219 \nQ 1534 4219 1204 4116 \nQ 875 4013 500 3803 \nL 500 4441 \nQ 881 4594 1212 4672 \nQ 1544 4750 1819 4750 \nQ 2544 4750 2975 4387 \nQ 3406 4025 3406 3419 \nQ 3406 3131 3298 2873 \nQ 3191 2616 2906 2266 \nQ 2828 2175 2409 1742 \nQ 1991 1309 1228 531 \nz\n\" transform=\"scale(0.015625)\"/>\n       </defs>\n       <use xlink:href=\"#DejaVuSans-32\"/>\n       <use xlink:href=\"#DejaVuSans-30\" x=\"63.623047\"/>\n      </g>\n     </g>\n    </g>\n    <g id=\"xtick_6\">\n     <g id=\"line2d_6\">\n      <g>\n       <use xlink:href=\"#meda32e4608\" x=\"238.983\" y=\"273.312\" style=\"stroke: #000000; stroke-width: 0.8\"/>\n      </g>\n     </g>\n     <g id=\"text_6\">\n      <!-- 25 -->\n      <g transform=\"translate(232.6205 287.910437) scale(0.1 -0.1)\">\n       <use xlink:href=\"#DejaVuSans-32\"/>\n       <use xlink:href=\"#DejaVuSans-35\" x=\"63.623047\"/>\n      </g>\n     </g>\n    </g>\n    <g id=\"xtick_7\">\n     <g id=\"line2d_7\">\n      <g>\n       <use xlink:href=\"#meda32e4608\" x=\"280.563\" y=\"273.312\" style=\"stroke: #000000; stroke-width: 0.8\"/>\n      </g>\n     </g>\n     <g id=\"text_7\">\n      <!-- 30 -->\n      <g transform=\"translate(274.2005 287.910437) scale(0.1 -0.1)\">\n       <defs>\n        <path id=\"DejaVuSans-33\" d=\"M 2597 2516 \nQ 3050 2419 3304 2112 \nQ 3559 1806 3559 1356 \nQ 3559 666 3084 287 \nQ 2609 -91 1734 -91 \nQ 1441 -91 1130 -33 \nQ 819 25 488 141 \nL 488 750 \nQ 750 597 1062 519 \nQ 1375 441 1716 441 \nQ 2309 441 2620 675 \nQ 2931 909 2931 1356 \nQ 2931 1769 2642 2001 \nQ 2353 2234 1838 2234 \nL 1294 2234 \nL 1294 2753 \nL 1863 2753 \nQ 2328 2753 2575 2939 \nQ 2822 3125 2822 3475 \nQ 2822 3834 2567 4026 \nQ 2313 4219 1838 4219 \nQ 1578 4219 1281 4162 \nQ 984 4106 628 3988 \nL 628 4550 \nQ 988 4650 1302 4700 \nQ 1616 4750 1894 4750 \nQ 2613 4750 3031 4423 \nQ 3450 4097 3450 3541 \nQ 3450 3153 3228 2886 \nQ 3006 2619 2597 2516 \nz\n\" transform=\"scale(0.015625)\"/>\n       </defs>\n       <use xlink:href=\"#DejaVuSans-33\"/>\n       <use xlink:href=\"#DejaVuSans-30\" x=\"63.623047\"/>\n      </g>\n     </g>\n    </g>\n   </g>\n   <g id=\"matplotlib.axis_2\">\n    <g id=\"ytick_1\">\n     <g id=\"line2d_8\">\n      <defs>\n       <path id=\"m2e73be0ec0\" d=\"M 0 0 \nL -3.5 0 \n\" style=\"stroke: #000000; stroke-width: 0.8\"/>\n      </defs>\n      <g>\n       <use xlink:href=\"#m2e73be0ec0\" x=\"26.925\" y=\"11.358\" style=\"stroke: #000000; stroke-width: 0.8\"/>\n      </g>\n     </g>\n     <g id=\"text_8\">\n      <!-- 0 -->\n      <g transform=\"translate(13.5625 15.157219) scale(0.1 -0.1)\">\n       <use xlink:href=\"#DejaVuSans-30\"/>\n      </g>\n     </g>\n    </g>\n    <g id=\"ytick_2\">\n     <g id=\"line2d_9\">\n      <g>\n       <use xlink:href=\"#m2e73be0ec0\" x=\"26.925\" y=\"52.938\" style=\"stroke: #000000; stroke-width: 0.8\"/>\n      </g>\n     </g>\n     <g id=\"text_9\">\n      <!-- 5 -->\n      <g transform=\"translate(13.5625 56.737219) scale(0.1 -0.1)\">\n       <use xlink:href=\"#DejaVuSans-35\"/>\n      </g>\n     </g>\n    </g>\n    <g id=\"ytick_3\">\n     <g id=\"line2d_10\">\n      <g>\n       <use xlink:href=\"#m2e73be0ec0\" x=\"26.925\" y=\"94.518\" style=\"stroke: #000000; stroke-width: 0.8\"/>\n      </g>\n     </g>\n     <g id=\"text_10\">\n      <!-- 10 -->\n      <g transform=\"translate(7.2 98.317219) scale(0.1 -0.1)\">\n       <use xlink:href=\"#DejaVuSans-31\"/>\n       <use xlink:href=\"#DejaVuSans-30\" x=\"63.623047\"/>\n      </g>\n     </g>\n    </g>\n    <g id=\"ytick_4\">\n     <g id=\"line2d_11\">\n      <g>\n       <use xlink:href=\"#m2e73be0ec0\" x=\"26.925\" y=\"136.098\" style=\"stroke: #000000; stroke-width: 0.8\"/>\n      </g>\n     </g>\n     <g id=\"text_11\">\n      <!-- 15 -->\n      <g transform=\"translate(7.2 139.897219) scale(0.1 -0.1)\">\n       <use xlink:href=\"#DejaVuSans-31\"/>\n       <use xlink:href=\"#DejaVuSans-35\" x=\"63.623047\"/>\n      </g>\n     </g>\n    </g>\n    <g id=\"ytick_5\">\n     <g id=\"line2d_12\">\n      <g>\n       <use xlink:href=\"#m2e73be0ec0\" x=\"26.925\" y=\"177.678\" style=\"stroke: #000000; stroke-width: 0.8\"/>\n      </g>\n     </g>\n     <g id=\"text_12\">\n      <!-- 20 -->\n      <g transform=\"translate(7.2 181.477219) scale(0.1 -0.1)\">\n       <use xlink:href=\"#DejaVuSans-32\"/>\n       <use xlink:href=\"#DejaVuSans-30\" x=\"63.623047\"/>\n      </g>\n     </g>\n    </g>\n    <g id=\"ytick_6\">\n     <g id=\"line2d_13\">\n      <g>\n       <use xlink:href=\"#m2e73be0ec0\" x=\"26.925\" y=\"219.258\" style=\"stroke: #000000; stroke-width: 0.8\"/>\n      </g>\n     </g>\n     <g id=\"text_13\">\n      <!-- 25 -->\n      <g transform=\"translate(7.2 223.057219) scale(0.1 -0.1)\">\n       <use xlink:href=\"#DejaVuSans-32\"/>\n       <use xlink:href=\"#DejaVuSans-35\" x=\"63.623047\"/>\n      </g>\n     </g>\n    </g>\n    <g id=\"ytick_7\">\n     <g id=\"line2d_14\">\n      <g>\n       <use xlink:href=\"#m2e73be0ec0\" x=\"26.925\" y=\"260.838\" style=\"stroke: #000000; stroke-width: 0.8\"/>\n      </g>\n     </g>\n     <g id=\"text_14\">\n      <!-- 30 -->\n      <g transform=\"translate(7.2 264.637219) scale(0.1 -0.1)\">\n       <use xlink:href=\"#DejaVuSans-33\"/>\n       <use xlink:href=\"#DejaVuSans-30\" x=\"63.623047\"/>\n      </g>\n     </g>\n    </g>\n   </g>\n   <g id=\"line2d_15\">\n    <defs>\n     <path id=\"m605508b09c\" d=\"M 0 3 \nC 0.795609 3 1.55874 2.683901 2.12132 2.12132 \nC 2.683901 1.55874 3 0.795609 3 0 \nC 3 -0.795609 2.683901 -1.55874 2.12132 -2.12132 \nC 1.55874 -2.683901 0.795609 -3 0 -3 \nC -0.795609 -3 -1.55874 -2.683901 -2.12132 -2.12132 \nC -2.683901 -1.55874 -3 -0.795609 -3 0 \nC -3 0.795609 -2.683901 1.55874 -2.12132 2.12132 \nC -1.55874 2.683901 -0.795609 3 0 3 \nz\n\" style=\"stroke: #ff0000\"/>\n    </defs>\n    <g clip-path=\"url(#pb99261c484)\">\n     <use xlink:href=\"#m605508b09c\" x=\"197.403\" y=\"210.942\" style=\"fill: #ff0000; stroke: #ff0000\"/>\n    </g>\n   </g>\n   <g id=\"line2d_16\">\n    <defs>\n     <path id=\"m233ba6f02f\" d=\"M 0 3 \nC 0.795609 3 1.55874 2.683901 2.12132 2.12132 \nC 2.683901 1.55874 3 0.795609 3 0 \nC 3 -0.795609 2.683901 -1.55874 2.12132 -2.12132 \nC 1.55874 -2.683901 0.795609 -3 0 -3 \nC -0.795609 -3 -1.55874 -2.683901 -2.12132 -2.12132 \nC -2.683901 -1.55874 -3 -0.795609 -3 0 \nC -3 0.795609 -2.683901 1.55874 -2.12132 2.12132 \nC -1.55874 2.683901 -0.795609 3 0 3 \nz\n\" style=\"stroke: #0000ff\"/>\n    </defs>\n    <g clip-path=\"url(#pb99261c484)\">\n     <use xlink:href=\"#m233ba6f02f\" x=\"164.139\" y=\"169.362\" style=\"fill: #0000ff; stroke: #0000ff\"/>\n    </g>\n   </g>\n   <g id=\"line2d_17\">\n    <defs>\n     <path id=\"m9f12449003\" d=\"M 0 3 \nC 0.795609 3 1.55874 2.683901 2.12132 2.12132 \nC 2.683901 1.55874 3 0.795609 3 0 \nC 3 -0.795609 2.683901 -1.55874 2.12132 -2.12132 \nC 1.55874 -2.683901 0.795609 -3 0 -3 \nC -0.795609 -3 -1.55874 -2.683901 -2.12132 -2.12132 \nC -2.683901 -1.55874 -3 -0.795609 -3 0 \nC -3 0.795609 -2.683901 1.55874 -2.12132 2.12132 \nC -1.55874 2.683901 -0.795609 3 0 3 \nz\n\" style=\"stroke: #008000\"/>\n    </defs>\n    <g clip-path=\"url(#pb99261c484)\">\n     <use xlink:href=\"#m9f12449003\" x=\"230.667\" y=\"227.574\" style=\"fill: #008000; stroke: #008000\"/>\n    </g>\n   </g>\n   <g id=\"patch_3\">\n    <path d=\"M 26.925 273.312 \nL 26.925 7.2 \n\" style=\"fill: none; stroke: #000000; stroke-width: 0.8; stroke-linejoin: miter; stroke-linecap: square\"/>\n   </g>\n   <g id=\"patch_4\">\n    <path d=\"M 293.037 273.312 \nL 293.037 7.2 \n\" style=\"fill: none; stroke: #000000; stroke-width: 0.8; stroke-linejoin: miter; stroke-linecap: square\"/>\n   </g>\n   <g id=\"patch_5\">\n    <path d=\"M 26.925 273.312 \nL 293.037 273.312 \n\" style=\"fill: none; stroke: #000000; stroke-width: 0.8; stroke-linejoin: miter; stroke-linecap: square\"/>\n   </g>\n   <g id=\"patch_6\">\n    <path d=\"M 26.925 7.2 \nL 293.037 7.2 \n\" style=\"fill: none; stroke: #000000; stroke-width: 0.8; stroke-linejoin: miter; stroke-linecap: square\"/>\n   </g>\n  </g>\n </g>\n <defs>\n  <clipPath id=\"pb99261c484\">\n   <rect x=\"26.925\" y=\"7.2\" width=\"266.112\" height=\"266.112\"/>\n  </clipPath>\n </defs>\n</svg>\n"
     },
     "metadata": {},
     "output_type": "display_data"
    }
   ],
   "source": [
    "# Plot the points with the highest and shortest distance\n",
    "plt.imshow(states_history[-1])\n",
    "plt.plot(max_value_idx[1], max_value_idx[0], 'ro')\n",
    "plt.plot(max_distance_idx[1][0], max_distance_idx[0][0], 'bo')\n",
    "plt.plot(min_distance_idx[1][0], min_distance_idx[0][0], 'go')"
   ],
   "metadata": {
    "collapsed": false,
    "ExecuteTime": {
     "end_time": "2024-07-17T21:54:07.403872Z",
     "start_time": "2024-07-17T21:54:07.273741Z"
    }
   },
   "id": "f5737b82442f2166",
   "execution_count": 58
  }
 ],
 "metadata": {
  "kernelspec": {
   "display_name": "Python 3 (ipykernel)",
   "language": "python",
   "name": "python3"
  },
  "language_info": {
   "codemirror_mode": {
    "name": "ipython",
    "version": 3
   },
   "file_extension": ".py",
   "mimetype": "text/x-python",
   "name": "python",
   "nbconvert_exporter": "python",
   "pygments_lexer": "ipython3",
   "version": "3.9.2"
  }
 },
 "nbformat": 4,
 "nbformat_minor": 5
}
