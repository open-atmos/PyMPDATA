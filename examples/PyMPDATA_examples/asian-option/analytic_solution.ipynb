{
 "cells": [
  {
   "cell_type": "code",
   "id": "initial_id",
   "metadata": {
    "collapsed": true,
    "ExecuteTime": {
     "end_time": "2024-11-20T11:09:47.784942Z",
     "start_time": "2024-11-20T11:09:43.365271Z"
    }
   },
   "source": [
    "import numpy as np\n",
    "from scipy.stats import norm"
   ],
   "outputs": [],
   "execution_count": 6
  },
  {
   "metadata": {
    "ExecuteTime": {
     "end_time": "2024-11-20T11:05:47.004915Z",
     "start_time": "2024-11-20T11:05:46.988923Z"
    }
   },
   "cell_type": "code",
   "source": [
    "r = 0.008\n",
    "sigma = 0.2\n",
    "s_t = 100\n",
    "T = 30\n",
    "K = 100\n",
    "T_0 = 0\n",
    "t = 0"
   ],
   "id": "30dc1eab9cd3b037",
   "outputs": [],
   "execution_count": 4
  },
  {
   "metadata": {
    "ExecuteTime": {
     "end_time": "2024-11-20T11:05:47.283883Z",
     "start_time": "2024-11-20T11:05:47.266659Z"
    }
   },
   "cell_type": "code",
   "source": [
    "d1 = ((T-T_0) * (np.log(s_t/K)) + ((r - 0.5 * sigma**2) * (T-t)**2) / 2 + (sigma**2 * (T-t)**3)/(3*(T-T_0)))/(sigma * np.sqrt((T-t)**3/3))\n",
    "\n",
    "d2 = ((T-T_0) * (np.log(s_t/K)) + ((r - 0.5 * sigma**2) * (T-t)**2) / 2)/(sigma * np.sqrt((T-t)**3/3))"
   ],
   "id": "222297cd30d79fa2",
   "outputs": [],
   "execution_count": 5
  },
  {
   "metadata": {
    "ExecuteTime": {
     "end_time": "2024-11-20T11:09:52.013399Z",
     "start_time": "2024-11-20T11:09:51.988583Z"
    }
   },
   "cell_type": "code",
   "source": "C_G = np.exp(-r*(T-t)) * (s_t * np.exp((r-0.5*sigma**2)*(T-T_0)*((T-t)**2)/2 + (sigma**2*(T-t)**3)/(6*(T-T_0)**2))*norm.cdf(d1) - K*norm.cdf(d2))",
   "id": "4eaf3f2d5ae10be1",
   "outputs": [],
   "execution_count": 7
  },
  {
   "metadata": {
    "ExecuteTime": {
     "end_time": "2024-11-20T11:09:59.879880Z",
     "start_time": "2024-11-20T11:09:59.861742Z"
    }
   },
   "cell_type": "code",
   "source": "C_G",
   "id": "84b93bfe89162904",
   "outputs": [
    {
     "data": {
      "text/plain": [
       "-30.51906811823487"
      ]
     },
     "execution_count": 9,
     "metadata": {},
     "output_type": "execute_result"
    }
   ],
   "execution_count": 9
  },
  {
   "metadata": {
    "ExecuteTime": {
     "end_time": "2024-11-20T11:12:39.080200Z",
     "start_time": "2024-11-20T11:12:39.063628Z"
    }
   },
   "cell_type": "code",
   "source": "P_G = np.exp(-r*(T-t)) * (K*norm.cdf(-d2) - s_t * np.exp((r-0.5*sigma**2)*((T-t)**2)/(2*(T-T_0)) + (sigma**2*(T-t)**3)/(6*(T-T_0)**2))*norm.cdf(-d1))",
   "id": "ec89b97be05b153",
   "outputs": [],
   "execution_count": 10
  },
  {
   "metadata": {
    "ExecuteTime": {
     "end_time": "2024-11-20T11:12:40.468900Z",
     "start_time": "2024-11-20T11:12:40.444538Z"
    }
   },
   "cell_type": "code",
   "source": "P_G",
   "id": "4baf215bb0ee64c9",
   "outputs": [
    {
     "data": {
      "text/plain": [
       "18.933942549168304"
      ]
     },
     "execution_count": 11,
     "metadata": {},
     "output_type": "execute_result"
    }
   ],
   "execution_count": 11
  },
  {
   "metadata": {},
   "cell_type": "code",
   "outputs": [],
   "execution_count": null,
   "source": "",
   "id": "275105417e4ae16d"
  }
 ],
 "metadata": {
  "kernelspec": {
   "display_name": "Python 3",
   "language": "python",
   "name": "python3"
  },
  "language_info": {
   "codemirror_mode": {
    "name": "ipython",
    "version": 2
   },
   "file_extension": ".py",
   "mimetype": "text/x-python",
   "name": "python",
   "nbconvert_exporter": "python",
   "pygments_lexer": "ipython2",
   "version": "2.7.6"
  }
 },
 "nbformat": 4,
 "nbformat_minor": 5
}
