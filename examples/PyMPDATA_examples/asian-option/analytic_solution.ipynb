{
 "cells": [
  {
   "cell_type": "code",
   "id": "initial_id",
   "metadata": {
    "collapsed": true,
    "ExecuteTime": {
     "end_time": "2024-11-24T14:28:48.553738Z",
     "start_time": "2024-11-24T14:28:47.661551Z"
    }
   },
   "source": [
    "import numpy as np\n",
    "from scipy.stats import norm\n",
    "import matplotlib.pyplot as plt"
   ],
   "outputs": [],
   "execution_count": 56
  },
  {
   "metadata": {
    "ExecuteTime": {
     "end_time": "2024-11-24T13:24:40.781103Z",
     "start_time": "2024-11-24T13:24:40.773008Z"
    }
   },
   "cell_type": "code",
   "source": [
    "r = 0.008\n",
    "sigma = 0.2\n",
    "s_t = 100\n",
    "T = 30\n",
    "K = 100\n",
    "T_0 = 0\n",
    "t = 0"
   ],
   "id": "30dc1eab9cd3b037",
   "outputs": [],
   "execution_count": 13
  },
  {
   "metadata": {},
   "cell_type": "markdown",
   "source": "kemna vorst p 11",
   "id": "d359e0f303c92ce0"
  },
  {
   "metadata": {
    "ExecuteTime": {
     "end_time": "2024-11-24T14:09:40.570414Z",
     "start_time": "2024-11-24T14:09:40.551001Z"
    }
   },
   "cell_type": "code",
   "source": [
    "def kemna_vorst(s_t=100, K=100, r=0.008, sigma=0.2, T=30, T_0=0):\n",
    "    d_star = (1/2)*(r-(sigma**2) / 6)*(T-T_0)\n",
    "    d = (np.log(s_t/K) + (1/2)*(r - (sigma**2) / 6)*(T-T_0))/(sigma*np.sqrt((T-T_0)/3))\n",
    "    C_val = np.exp(d_star)*s_t*norm.cdf(d) - K*norm.cdf(d-sigma*np.sqrt((T-T_0)/3))\n",
    "    return C_val"
   ],
   "id": "92b4e2ba2aa9fe45",
   "outputs": [],
   "execution_count": 32
  },
  {
   "metadata": {
    "ExecuteTime": {
     "end_time": "2024-11-24T14:09:41.062803Z",
     "start_time": "2024-11-24T14:09:41.052615Z"
    }
   },
   "cell_type": "code",
   "source": "kemna_vorst()",
   "id": "c36486141e47980e",
   "outputs": [
    {
     "data": {
      "text/plain": [
       "24.899334865127113"
      ]
     },
     "execution_count": 33,
     "metadata": {},
     "output_type": "execute_result"
    }
   ],
   "execution_count": 33
  },
  {
   "metadata": {},
   "cell_type": "markdown",
   "source": "mainfile p 70, continuous fixed strike geometric average call option",
   "id": "60b556dfa4b1476"
  },
  {
   "metadata": {
    "ExecuteTime": {
     "end_time": "2024-11-24T14:11:06.233220Z",
     "start_time": "2024-11-24T14:11:06.211662Z"
    }
   },
   "cell_type": "code",
   "source": [
    "def geometric_mkhize_general(s_t=100, K=100, r=0.008, sigma=0.2, T=30, T_0=0, t=0):\n",
    "    s_wave_t = s_t ** ((T-t)/(T-T_0))\n",
    "    d1 = ((T-T_0) * np.log(s_wave_t/K) + 0.5 * (r - 0.5 * sigma**2) * (T-t)**2 + (sigma**2 * (T-t)**3)/(3*(T-T_0)))/(sigma * np.sqrt(((T-t)**3)/3))\n",
    "    d2 = ((T-T_0) * np.log(s_wave_t/K) + 0.5 * (r - 0.5 * sigma**2) * (T-t)**2)/(sigma * np.sqrt(((T-t)**3)/3))\n",
    "    C_G = np.exp(-r*(T-t)) * (s_t * np.exp(((r-0.5*sigma**2)*((T-t)**2))/(2*(T-T_0)) + (sigma**2*((T-t)**3))/(6*(T-T_0)**2))*norm.cdf(d1) - K*norm.cdf(d2))\n",
    "    P_G = np.exp(-r*(T-t)) * (K*norm.cdf(-d2) - s_t * np.exp((r-0.5*sigma**2)*((T-t)**2)/(2*(T-T_0)) + (sigma**2*(T-t)**3)/(6*(T-T_0)**2))*norm.cdf(-d1))\n",
    "    return C_G, P_G"
   ],
   "id": "8f79b7d8fc8e11e4",
   "outputs": [],
   "execution_count": 34
  },
  {
   "metadata": {
    "ExecuteTime": {
     "end_time": "2024-11-24T14:11:09.894594Z",
     "start_time": "2024-11-24T14:11:09.881395Z"
    }
   },
   "cell_type": "code",
   "source": "geometric_mkhize_general()",
   "id": "fd6be04459954613",
   "outputs": [
    {
     "data": {
      "text/plain": [
       "(20.523036238760817, 18.933942549168304)"
      ]
     },
     "execution_count": 35,
     "metadata": {},
     "output_type": "execute_result"
    }
   ],
   "execution_count": 35
  },
  {
   "metadata": {
    "ExecuteTime": {
     "end_time": "2024-11-24T14:11:12.876374Z",
     "start_time": "2024-11-24T14:11:12.861174Z"
    }
   },
   "cell_type": "code",
   "source": "# s_wave_t = s_t ** ((T-t)/(T-T_0))",
   "id": "e5c67efa76bc6e3f",
   "outputs": [],
   "execution_count": 36
  },
  {
   "metadata": {
    "ExecuteTime": {
     "end_time": "2024-11-24T14:11:13.045907Z",
     "start_time": "2024-11-24T14:11:13.034704Z"
    }
   },
   "cell_type": "code",
   "source": [
    "# d1 = ((T-T_0) * np.log(s_wave_t/K) + 0.5 * (r - 0.5 * sigma**2) * (T-t)**2 + (sigma**2 * (T-t)**3)/(3*(T-T_0)))/(sigma * np.sqrt(((T-t)**3)/3))\n",
    "# \n",
    "# d2 = ((T-T_0) * np.log(s_wave_t/K) + 0.5 * (r - 0.5 * sigma**2) * (T-t)**2)/(sigma * np.sqrt(((T-t)**3)/3))"
   ],
   "id": "222297cd30d79fa2",
   "outputs": [],
   "execution_count": 37
  },
  {
   "metadata": {
    "ExecuteTime": {
     "end_time": "2024-11-24T14:11:13.230192Z",
     "start_time": "2024-11-24T14:11:13.213864Z"
    }
   },
   "cell_type": "code",
   "source": "# C_G = np.exp(-r*(T-t)) * (s_t * np.exp(((r-0.5*sigma**2)*((T-t)**2))/(2*(T-T_0)) + (sigma**2*((T-t)**3))/(6*(T-T_0)**2))*norm.cdf(d1) - K*norm.cdf(d2))",
   "id": "4eaf3f2d5ae10be1",
   "outputs": [],
   "execution_count": 38
  },
  {
   "metadata": {
    "ExecuteTime": {
     "end_time": "2024-11-24T14:11:13.398084Z",
     "start_time": "2024-11-24T14:11:13.379940Z"
    }
   },
   "cell_type": "code",
   "source": "# C_G",
   "id": "84b93bfe89162904",
   "outputs": [],
   "execution_count": 39
  },
  {
   "metadata": {
    "ExecuteTime": {
     "end_time": "2024-11-24T14:11:13.536851Z",
     "start_time": "2024-11-24T14:11:13.530854Z"
    }
   },
   "cell_type": "code",
   "source": "# P_G = np.exp(-r*(T-t)) * (K*norm.cdf(-d2) - s_t * np.exp((r-0.5*sigma**2)*((T-t)**2)/(2*(T-T_0)) + (sigma**2*(T-t)**3)/(6*(T-T_0)**2))*norm.cdf(-d1))",
   "id": "ec89b97be05b153",
   "outputs": [],
   "execution_count": 40
  },
  {
   "metadata": {
    "ExecuteTime": {
     "end_time": "2024-11-24T14:11:14.533022Z",
     "start_time": "2024-11-24T14:11:14.518785Z"
    }
   },
   "cell_type": "code",
   "source": "# P_G",
   "id": "4baf215bb0ee64c9",
   "outputs": [],
   "execution_count": 41
  },
  {
   "metadata": {},
   "cell_type": "markdown",
   "source": "mainfile p 69, continuous fixed strike geometric average call option, at t = T_0, should be the same as the previous one",
   "id": "41d38b51906947f9"
  },
  {
   "metadata": {
    "ExecuteTime": {
     "end_time": "2024-11-24T14:12:08.337465Z",
     "start_time": "2024-11-24T14:12:08.319053Z"
    }
   },
   "cell_type": "code",
   "source": [
    "def geometric_mkhize(s_t=100, K=100, r=0.008, sigma=0.2, T=30, T_0=0):\n",
    "    d_1 = (np.log(s_t/K) + 0.5*(r + (sigma**2)/6)*(T-T_0))/(sigma*np.sqrt((T-T_0)/3))\n",
    "    d_2 = d_1 - sigma*np.sqrt((T-T_0)/3)\n",
    "    tau = T - T_0\n",
    "    C_0 = s_t* np.exp(-0.5 * (r + (sigma**2)/6)*(T-T_0))*norm.cdf(d_1) - K*np.exp(-r*(T-T_0))*norm.cdf(d_2)\n",
    "    P_0 = K*np.exp(-r*(T-T_0))*norm.cdf(-d_2) - s_t*np.exp(-0.5*(r + (sigma**2)/6)*(T-T_0))*norm.cdf(-d_1)\n",
    "    return C_0, P_0"
   ],
   "id": "e65fc43add329912",
   "outputs": [],
   "execution_count": 42
  },
  {
   "metadata": {
    "ExecuteTime": {
     "end_time": "2024-11-24T14:12:21.655764Z",
     "start_time": "2024-11-24T14:12:21.638771Z"
    }
   },
   "cell_type": "code",
   "source": "geometric_mkhize()",
   "id": "275105417e4ae16d",
   "outputs": [
    {
     "data": {
      "text/plain": [
       "(20.52303623876081, 18.93394254916831)"
      ]
     },
     "execution_count": 43,
     "metadata": {},
     "output_type": "execute_result"
    }
   ],
   "execution_count": 43
  },
  {
   "metadata": {},
   "cell_type": "code",
   "outputs": [],
   "execution_count": null,
   "source": "",
   "id": "979d78a533a2b51e"
  },
  {
   "metadata": {
    "ExecuteTime": {
     "end_time": "2024-11-24T14:14:33.965898Z",
     "start_time": "2024-11-24T14:14:33.947770Z"
    }
   },
   "cell_type": "code",
   "source": "geometric_mkhize()[0]",
   "id": "207c5e609bd47aae",
   "outputs": [
    {
     "data": {
      "text/plain": [
       "20.52303623876081"
      ]
     },
     "execution_count": 46,
     "metadata": {},
     "output_type": "execute_result"
    }
   ],
   "execution_count": 46
  },
  {
   "metadata": {
    "ExecuteTime": {
     "end_time": "2024-11-24T14:14:34.151030Z",
     "start_time": "2024-11-24T14:14:34.139775Z"
    }
   },
   "cell_type": "code",
   "source": "geometric_mkhize_general(t=0)[0]",
   "id": "42b85cfcf09450fd",
   "outputs": [
    {
     "data": {
      "text/plain": [
       "20.523036238760817"
      ]
     },
     "execution_count": 47,
     "metadata": {},
     "output_type": "execute_result"
    }
   ],
   "execution_count": 47
  },
  {
   "metadata": {
    "ExecuteTime": {
     "end_time": "2024-11-24T14:15:05.317476Z",
     "start_time": "2024-11-24T14:15:05.311206Z"
    }
   },
   "cell_type": "code",
   "source": "assert np.allclose(geometric_mkhize(), geometric_mkhize_general(t=0), rtol=1e-5)",
   "id": "35b70b81099eee98",
   "outputs": [],
   "execution_count": 49
  },
  {
   "metadata": {},
   "cell_type": "markdown",
   "source": "Kemna Vorst p 12, asian is allways cheaper or equal to european",
   "id": "1c756eed94c18fc6"
  },
  {
   "metadata": {
    "ExecuteTime": {
     "end_time": "2024-11-24T14:27:13.822370Z",
     "start_time": "2024-11-24T14:27:13.816379Z"
    }
   },
   "cell_type": "code",
   "source": [
    "def european_option(s_t=100, K=100, r=0.008, sigma=0.2, T=30):\n",
    "    d_1 = (np.log(s_t/K) + (r + 0.5*sigma**2)*T)/(sigma*np.sqrt(T))\n",
    "    d_2 = d_1 - sigma*np.sqrt(T)\n",
    "    C_0 = s_t*norm.cdf(d_1) - K*np.exp(-r*T)*norm.cdf(d_2)\n",
    "    P_0 = K*np.exp(-r*T)*norm.cdf(-d_2) - s_t*norm.cdf(-d_1)\n",
    "    return C_0, P_0"
   ],
   "id": "66e30bebcf590a3",
   "outputs": [],
   "execution_count": 53
  },
  {
   "metadata": {
    "ExecuteTime": {
     "end_time": "2024-11-24T14:27:16.234361Z",
     "start_time": "2024-11-24T14:27:16.215377Z"
    }
   },
   "cell_type": "code",
   "source": "european_option()",
   "id": "3bcf51f6f44727a",
   "outputs": [
    {
     "data": {
      "text/plain": [
       "(48.63941024359666, 27.302196350252007)"
      ]
     },
     "execution_count": 54,
     "metadata": {},
     "output_type": "execute_result"
    }
   ],
   "execution_count": 54
  },
  {
   "metadata": {
    "ExecuteTime": {
     "end_time": "2024-11-24T14:27:16.956857Z",
     "start_time": "2024-11-24T14:27:16.942858Z"
    }
   },
   "cell_type": "code",
   "source": "assert np.all(european_option() >= geometric_mkhize())",
   "id": "7b0faeacd51db9e4",
   "outputs": [],
   "execution_count": 55
  },
  {
   "metadata": {
    "ExecuteTime": {
     "end_time": "2024-11-24T14:29:58.898717Z",
     "start_time": "2024-11-24T14:29:58.652273Z"
    }
   },
   "cell_type": "code",
   "source": [
    "sigmas = np.linspace(0.01, 1, 100)\n",
    "# r = np.linspace(0, 0.05, 100)\n",
    "r = 0.008\n",
    "asian_call = []\n",
    "european_call = []\n",
    "asian_put = []\n",
    "european_put = []\n",
    "for sigma in sigmas:\n",
    "    asian_call.append(geometric_mkhize(sigma=sigma)[0])\n",
    "    european_call.append(european_option(sigma=sigma)[0])\n",
    "    asian_put.append(geometric_mkhize(sigma=sigma)[1])\n",
    "    european_put.append(european_option(sigma=sigma)[1])\n",
    "\n",
    "plt.plot(sigmas, asian_call, label='asian call', color='red')\n",
    "plt.plot(sigmas, asian_put, label='asian put', color='red', linestyle='--')\n",
    "plt.plot(sigmas, european_call, label='european call', color='blue')\n",
    "plt.plot(sigmas, european_put, label='european put', color='blue', linestyle='--')\n",
    "plt.legend()\n",
    "plt.xlabel('sigma')\n",
    "plt.ylabel('option price')\n",
    "plt.show()"
   ],
   "id": "e68bac6b65ae2c04",
   "outputs": [
    {
     "data": {
      "text/plain": [
       "<Figure size 640x480 with 1 Axes>"
      ],
      "image/png": "[encoded data removed]"
     },
     "metadata": {},
     "output_type": "display_data"
    }
   ],
   "execution_count": 60
  },
  {
   "metadata": {
    "ExecuteTime": {
     "end_time": "2024-11-24T14:31:42.747648Z",
     "start_time": "2024-11-24T14:31:42.392818Z"
    }
   },
   "cell_type": "code",
   "source": [
    "sigma = 0.2\n",
    "rates = np.linspace(0, 0.05, 100)\n",
    "asian_call = []\n",
    "european_call = []\n",
    "asian_put = []\n",
    "european_put = []\n",
    "for r in rates:\n",
    "    asian_call.append(geometric_mkhize(r=r)[0])\n",
    "    european_call.append(european_option(r=r)[0])\n",
    "    asian_put.append(geometric_mkhize(r=r)[1])\n",
    "    european_put.append(european_option(r=r)[1])\n",
    "\n",
    "plt.plot(rates, asian_call, label='asian call', color='red')\n",
    "plt.plot(rates, asian_put, label='asian put', color='red', linestyle='--')\n",
    "plt.plot(rates, european_call, label='european call', color='blue')\n",
    "plt.plot(rates, european_put, label='european put', color='blue', linestyle='--')\n",
    "plt.legend()\n",
    "plt.xlabel('risk free rate')\n",
    "plt.ylabel('option price')\n",
    "plt.show()"
   ],
   "id": "c787d4bb7b36beed",
   "outputs": [
    {
     "data": {
      "text/plain": [
       "<Figure size 640x480 with 1 Axes>"
      ],
      "image/png": "[encoded data removed]"
     },
     "metadata": {},
     "output_type": "display_data"
    }
   ],
   "execution_count": 62
  },
  {
   "metadata": {},
   "cell_type": "code",
   "outputs": [],
   "execution_count": null,
   "source": "",
   "id": "50947cd51ecdfbc0"
  }
 ],
 "metadata": {
  "kernelspec": {
   "display_name": "Python 3",
   "language": "python",
   "name": "python3"
  },
  "language_info": {
   "codemirror_mode": {
    "name": "ipython",
    "version": 2
   },
   "file_extension": ".py",
   "mimetype": "text/x-python",
   "name": "python",
   "nbconvert_exporter": "python",
   "pygments_lexer": "ipython2",
   "version": "2.7.6"
  }
 },
 "nbformat": 4,
 "nbformat_minor": 5
}
