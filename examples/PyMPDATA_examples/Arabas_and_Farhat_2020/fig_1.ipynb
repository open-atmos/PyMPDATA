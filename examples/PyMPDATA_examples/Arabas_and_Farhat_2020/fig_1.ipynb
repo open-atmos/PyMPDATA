{
 "cells": [
  {
   "cell_type": "code",
   "execution_count": null,
   "metadata": {},
   "outputs": [],
   "source": [
    "# license: GPL v3\n",
    "# authors: Sylwester Arabas, Michael Olesik, Piotr Bartman\n",
    "# copyright: Jagiellonian University\n",
    "# based on Fig. 1 from Arabas & Farhat 2020 (https://doi.org/10.1016/j.cam.2019.05.023)"
   ]
  },
  {
   "cell_type": "code",
   "execution_count": null,
   "metadata": {
    "pycharm": {
     "name": "#%%\n"
    }
   },
   "outputs": [],
   "source": [
    "import sys\n",
    "if 'google.colab' in sys.modules:\n",
    "    !pip --quiet install open-atmos-jupyter-utils\n",
    "    from open_atmos_jupyter_utils import pip_install_on_colab\n",
    "    pip_install_on_colab('PyMPDATA-examples')"
   ]
  },
  {
   "cell_type": "code",
   "execution_count": null,
   "metadata": {},
   "outputs": [],
   "source": [
    "import numpy as np\n",
    "from matplotlib import pyplot\n",
    "from open_atmos_jupyter_utils import show_plot\n",
    "from PyMPDATA_examples.Arabas_and_Farhat_2020.simulation import Simulation\n",
    "from PyMPDATA_examples.Arabas_and_Farhat_2020.setup1_european_corridor import Settings\n",
    "from PyMPDATA_examples.Arabas_and_Farhat_2020.colors import colors"
   ]
  },
  {
   "cell_type": "code",
   "execution_count": null,
   "metadata": {},
   "outputs": [],
   "source": [
    "settings = Settings()\n",
    "simulation = Simulation(settings)"
   ]
  },
  {
   "cell_type": "code",
   "execution_count": null,
   "metadata": {},
   "outputs": [],
   "source": [
    "S = simulation.S\n",
    "psi_T = simulation.terminal_value()\n",
    "psi_0 = simulation.run(n_iters=2)\n",
    "psi_a = settings.analytical_solution(S)"
   ]
  },
  {
   "cell_type": "code",
   "execution_count": null,
   "metadata": {},
   "outputs": [],
   "source": [
    "fig, ax1 = pyplot.subplots()\n",
    "yscl = 1 / (settings.K2 - settings.K1)\n",
    "ax2 = pyplot.twinx()\n",
    "ax2.fill_between(S, yscl*(psi_0-psi_a), step=\"mid\", label='Absolute error (numerical-analytical)', alpha=.3, color='yellow')\n",
    "ax2.set_ylabel(\"absolute error / ($K_2-K_1$)\")\n",
    "ax1.step(S, yscl*psi_0, where='mid', label='Numerical solution for t=0', color=colors[2])\n",
    "ax1.step(S, yscl*psi_T, where='mid', label=\"Discretised terminal condition (discounted payoff)\", color=colors[0])\n",
    "ax1.plot(S, yscl*psi_a, label='Analytical solution for t=0', color=colors[1])\n",
    "ax1.set_xscale(\"log\")\n",
    "ax1.grid()\n",
    "ax1.set_xlabel(\"underlying asset price\")\n",
    "ax1.set_ylabel(\"instrument value / ($K_2-K_1$)\")\n",
    "ax1.set_ylim((-.05, 1.2))\n",
    "ax1.set_yticks(np.arange(0, 1.25, 0.25))\n",
    "ax2.set_ylim((-.008,.0045))\n",
    "ax2.set_yticks(np.arange(-.0075, .005, .0025))\n",
    "fig.legend(loc='upper left')\n",
    "show_plot()"
   ]
  },
  {
   "cell_type": "code",
   "execution_count": null,
   "metadata": {},
   "outputs": [],
   "source": [
    "scl = settings.K2 - settings.K1\n",
    "np.testing.assert_almost_equal(np.amax(psi_0 / scl), 1, decimal=2)"
   ]
  },
  {
   "cell_type": "code",
   "execution_count": null,
   "metadata": {},
   "outputs": [],
   "source": [
    "scl = settings.K2 - settings.K1\n",
    "np.testing.assert_almost_equal(np.amin(psi_0 / scl), 0, decimal=14)"
   ]
  },
  {
   "cell_type": "code",
   "execution_count": null,
   "metadata": {},
   "outputs": [],
   "source": [
    "abserr = psi_0 - psi_a\n",
    "maxabserr = np.amax(np.abs(abserr))\n",
    "assert np.abs(abserr[0]) < .0001 * maxabserr\n",
    "assert np.abs(abserr[-1]) < .001 * maxabserr\n",
    "assert maxabserr < .75"
   ]
  },
  {
   "cell_type": "code",
   "execution_count": null,
   "metadata": {},
   "outputs": [],
   "source": []
  }
 ],
 "metadata": {
  "kernelspec": {
   "display_name": "Python 3",
   "language": "python",
   "name": "python3"
  },
  "language_info": {
   "codemirror_mode": {
    "name": "ipython",
    "version": 3
   },
   "file_extension": ".py",
   "mimetype": "text/x-python",
   "name": "python",
   "nbconvert_exporter": "python",
   "pygments_lexer": "ipython3",
   "version": "3.8.2"
  }
 },
 "nbformat": 4,
 "nbformat_minor": 2
}
