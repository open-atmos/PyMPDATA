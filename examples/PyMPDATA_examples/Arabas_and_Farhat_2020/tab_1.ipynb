{
 "cells": [
  {
   "cell_type": "markdown",
   "metadata": {},
   "source": [
    "[![preview notebook](https://img.shields.io/static/v1?label=render%20on&logo=github&color=87ce3e&message=GitHub)](https://github.com/open-atmos/PyMPDATA/blob/main/examples/PyMPDATA_examples/Arabas_and_Farhat_2020/tab_1.ipynb)\n",
    "[![launch on mybinder.org](https://mybinder.org/badge_logo.svg)](https://mybinder.org/v2/gh/open-atmos/PyMPDATA.git/main?urlpath=lab/tree/examples/PyMPDATA_examples/Arabas_and_Farhat_2020/tab_1.ipynb)\n",
    "[![launch on Colab](https://colab.research.google.com/assets/colab-badge.svg)](https://colab.research.google.com/github/open-atmos/PyMPDATA/blob/main/examples/PyMPDATA_examples/Arabas_and_Farhat_2020/tab_1.ipynb)"
   ]
  },
  {
   "cell_type": "markdown",
   "metadata": {},
   "source": [
    "based on Tab. 1 from [Arabas & Farhat 2020](https://doi.org/10.1016/j.cam.2019.05.023)"
   ]
  },
  {
   "cell_type": "code",
   "execution_count": 1,
   "metadata": {
    "pycharm": {
     "name": "#%%\n"
    }
   },
   "outputs": [],
   "source": [
    "import sys\n",
    "if 'google.colab' in sys.modules:\n",
    "    !pip --quiet install open-atmos-jupyter-utils\n",
    "    from open_atmos_jupyter_utils import pip_install_on_colab\n",
    "    pip_install_on_colab('PyMPDATA-examples')"
   ]
  },
  {
   "cell_type": "code",
   "execution_count": 2,
   "metadata": {},
   "outputs": [],
   "source": [
    "import numpy as np\n",
    "from IPython.core.display import HTML\n",
    "from IPython.display import display\n",
    "from PyMPDATA_examples.Arabas_and_Farhat_2020.analysis_table_1 import table_1_data"
   ]
  },
  {
   "cell_type": "code",
   "execution_count": 3,
   "metadata": {},
   "outputs": [
    {
     "name": "stderr",
     "output_type": "stream",
     "text": [
      "[Parallel(n_jobs=-2)]: Using backend ThreadingBackend with 11 concurrent workers.\n",
      "[Parallel(n_jobs=-2)]: Done   2 out of  15 | elapsed:  2.3min remaining: 15.0min\n",
      "[Parallel(n_jobs=-2)]: Done   4 out of  15 | elapsed:  2.4min remaining:  6.7min\n",
      "[Parallel(n_jobs=-2)]: Done   6 out of  15 | elapsed:  2.6min remaining:  3.8min\n",
      "[Parallel(n_jobs=-2)]: Done   8 out of  15 | elapsed:  2.7min remaining:  2.3min\n",
      "[Parallel(n_jobs=-2)]: Done  10 out of  15 | elapsed:  2.8min remaining:  1.4min\n",
      "[Parallel(n_jobs=-2)]: Done  12 out of  15 | elapsed:  3.6min remaining:   54.0s\n",
      "[Parallel(n_jobs=-2)]: Done  15 out of  15 | elapsed:  4.0min finished\n"
     ]
    }
   ],
   "source": [
    "data = table_1_data()"
   ]
  },
  {
   "cell_type": "code",
   "execution_count": 4,
   "metadata": {},
   "outputs": [],
   "source": [
    "br = \"style='border-right: thin solid;'\"\n",
    "html = \"<table>\"\n",
    "html += \"<tr>\"\n",
    "html += f\"  <td colspan=2 {br}></td>\"\n",
    "html += \"  <td>C≈0.02</td>\"\n",
    "html += \"  <td>C≈0.01</td>\"\n",
    "html += f\"  <td {br} colspan=2>C≈0.005</td>\"\n",
    "html += \"  <td colspan=2></td>\"\n",
    "html += \"</tr>\"\n",
    "html += \"<tr style='border-bottom: thin solid;'>\"\n",
    "html += \"  <td>T</td>\"\n",
    "html += f\"  <td {br}>S<sub>0</sub></td>\"\n",
    "html += \"  <td>log<sub>2</sub>(E)</td>\" * 3\n",
    "html += f\"  <td {br}>f(S<sub>0</sub>,0)</td>\"\n",
    "html += \"  <td>BS93</td>\"\n",
    "html += \"  <td>European</td>\"\n",
    "html += \"</tr>\"\n",
    "last_T = None\n",
    "for row in data:\n",
    "    html += \"<tr>\"\n",
    "    for col, row_col in enumerate(row):\n",
    "        html += f\"<td {br if col in (1, 5) else ''}>\"\n",
    "        if col == 0:\n",
    "            if last_T != row[0]:\n",
    "                html += f\"{row_col:.2f}\"\n",
    "                last_T = row[0]\n",
    "        elif col == 1:\n",
    "            html += f\"{row_col}\"\n",
    "        elif col < 5:\n",
    "            html += f\"{row_col:.1f}\"\n",
    "        else:\n",
    "            html += f\"{row_col:.3f}\"\n",
    "        html += \"</td>\"\n",
    "    html += \"</tr>\"\n",
    "html += \"</table>\""
   ]
  },
  {
   "cell_type": "code",
   "execution_count": 5,
   "metadata": {},
   "outputs": [
    {
     "data": {
      "text/html": [
       "<table><tr>  <td colspan=2 style='border-right: thin solid;'></td>  <td>C≈0.02</td>  <td>C≈0.01</td>  <td style='border-right: thin solid;' colspan=2>C≈0.005</td>  <td colspan=2></td></tr><tr style='border-bottom: thin solid;'>  <td>T</td>  <td style='border-right: thin solid;'>S<sub>0</sub></td>  <td>log<sub>2</sub>(E)</td>  <td>log<sub>2</sub>(E)</td>  <td>log<sub>2</sub>(E)</td>  <td style='border-right: thin solid;'>f(S<sub>0</sub>,0)</td>  <td>BS93</td>  <td>European</td></tr><tr><td >0.25</td><td style='border-right: thin solid;'>80</td><td >-9.2</td><td >-10.3</td><td >-11.3</td><td style='border-right: thin solid;'>20.000</td><td >20.000</td><td >18.089</td></tr><tr><td ></td><td style='border-right: thin solid;'>90</td><td >-8.8</td><td >-10.2</td><td >-11.3</td><td style='border-right: thin solid;'>10.037</td><td >10.011</td><td >9.045</td></tr><tr><td ></td><td style='border-right: thin solid;'>100</td><td >-9.0</td><td >-10.3</td><td >-11.3</td><td style='border-right: thin solid;'>3.226</td><td >3.162</td><td >3.037</td></tr><tr><td ></td><td style='border-right: thin solid;'>110</td><td >-9.0</td><td >-10.3</td><td >-11.3</td><td style='border-right: thin solid;'>0.665</td><td >0.649</td><td >0.640</td></tr><tr><td ></td><td style='border-right: thin solid;'>120</td><td >-9.2</td><td >-10.2</td><td >-11.3</td><td style='border-right: thin solid;'>0.088</td><td >0.087</td><td >0.086</td></tr><tr><td >0.50</td><td style='border-right: thin solid;'>80</td><td >-9.4</td><td >-10.4</td><td >-11.4</td><td style='border-right: thin solid;'>20.000</td><td >20.000</td><td >16.648</td></tr><tr><td ></td><td style='border-right: thin solid;'>90</td><td >-9.1</td><td >-10.3</td><td >-11.4</td><td style='border-right: thin solid;'>10.291</td><td >10.240</td><td >8.834</td></tr><tr><td ></td><td style='border-right: thin solid;'>100</td><td >-9.2</td><td >-10.4</td><td >-11.4</td><td style='border-right: thin solid;'>4.191</td><td >4.109</td><td >3.785</td></tr><tr><td ></td><td style='border-right: thin solid;'>110</td><td >-9.3</td><td >-10.4</td><td >-11.4</td><td style='border-right: thin solid;'>1.411</td><td >1.372</td><td >1.312</td></tr><tr><td ></td><td style='border-right: thin solid;'>120</td><td >-9.3</td><td >-10.3</td><td >-11.4</td><td style='border-right: thin solid;'>0.397</td><td >0.385</td><td >0.376</td></tr><tr><td >3.00</td><td style='border-right: thin solid;'>80</td><td >-11.6</td><td >-12.3</td><td >-13.2</td><td style='border-right: thin solid;'>20.000</td><td >20.000</td><td >10.253</td></tr><tr><td ></td><td style='border-right: thin solid;'>90</td><td >-11.6</td><td >-12.3</td><td >-13.2</td><td style='border-right: thin solid;'>11.697</td><td >11.668</td><td >6.783</td></tr><tr><td ></td><td style='border-right: thin solid;'>100</td><td >-11.6</td><td >-12.3</td><td >-13.2</td><td style='border-right: thin solid;'>6.932</td><td >6.896</td><td >4.406</td></tr><tr><td ></td><td style='border-right: thin solid;'>110</td><td >-11.6</td><td >-12.3</td><td >-13.2</td><td style='border-right: thin solid;'>4.154</td><td >4.118</td><td >2.826</td></tr><tr><td ></td><td style='border-right: thin solid;'>120</td><td >-11.5</td><td >-12.3</td><td >-13.2</td><td style='border-right: thin solid;'>2.510</td><td >2.478</td><td >1.797</td></tr></table>"
      ],
      "text/plain": [
       "<IPython.core.display.HTML object>"
      ]
     },
     "metadata": {},
     "output_type": "display_data"
    }
   ],
   "source": [
    "display(HTML(html))"
   ]
  },
  {
   "cell_type": "code",
   "execution_count": 6,
   "metadata": {},
   "outputs": [],
   "source": [
    "def check(actual, desired):\n",
    "    assert actual[0] == desired[0]\n",
    "    assert actual[1] == desired[1]\n",
    "    assert np.round(actual[2], 1) <= desired[2]\n",
    "    assert np.round(actual[3], 1) <= desired[3]\n",
    "    assert np.round(actual[4], 1) <= desired[4]\n",
    "    np.testing.assert_allclose(actual[5:], desired[5:], rtol=0.0005, atol=0.005)"
   ]
  },
  {
   "cell_type": "code",
   "execution_count": 7,
   "metadata": {},
   "outputs": [],
   "source": [
    "check(actual=data[0], desired=(.25,  80, -8.3, -10.2, -11.3, 19.996, 20.000, 18.089))"
   ]
  },
  {
   "cell_type": "code",
   "execution_count": 8,
   "metadata": {},
   "outputs": [],
   "source": [
    "check(actual=data[1], desired=(.25,  90, -8.1, -10.1, -11.3, 10.035, 10.011,  9.045))"
   ]
  },
  {
   "cell_type": "code",
   "execution_count": 9,
   "metadata": {},
   "outputs": [],
   "source": [
    "check(actual=data[2], desired=(.25, 100, -8.0, -10.0, -11.3,  3.228,  3.162,  3.037))"
   ]
  },
  {
   "cell_type": "code",
   "execution_count": 10,
   "metadata": {},
   "outputs": [],
   "source": [
    "check(actual=data[3], desired=(.25, 110, -8.3, -10.1, -11.3,  0.667, 0.649, 0.640))"
   ]
  },
  {
   "cell_type": "code",
   "execution_count": 11,
   "metadata": {},
   "outputs": [],
   "source": [
    "check(actual=data[4], desired=(.25, 120, -8.3, -10.1, -11.3,  0.089, 0.087, 0.086))"
   ]
  },
  {
   "cell_type": "code",
   "execution_count": 12,
   "metadata": {},
   "outputs": [],
   "source": [
    "check(actual=data[5], desired=(.5, 80, -8.7, -10.3, -11.4, 19.996, 20.000, 16.648))"
   ]
  },
  {
   "cell_type": "code",
   "execution_count": 13,
   "metadata": {},
   "outputs": [],
   "source": [
    "check(actual=data[6], desired=(.5, 90, -8.5, -10.3, -11.4, 10.290, 10.240, 8.834))"
   ]
  },
  {
   "cell_type": "code",
   "execution_count": 14,
   "metadata": {},
   "outputs": [],
   "source": [
    "check(actual=data[7], desired=(.5, 100, -8.5, -10.2, -11.3, 4.193, 4.109, 3.785))"
   ]
  },
  {
   "cell_type": "code",
   "execution_count": 15,
   "metadata": {},
   "outputs": [],
   "source": [
    "check(actual=data[8], desired=(.5, 110, -8.7, -10.3, -11.4, 1.412, 1.372, 1.312))"
   ]
  },
  {
   "cell_type": "code",
   "execution_count": 16,
   "metadata": {},
   "outputs": [],
   "source": [
    "check(actual=data[9], desired=(.5, 120, -8.7, -10.3, -11.4, 0.397, 0.385, 0.376))"
   ]
  },
  {
   "cell_type": "code",
   "execution_count": 17,
   "metadata": {},
   "outputs": [],
   "source": [
    "check(actual=data[10], desired=(3, 80, -10.3, -12.2, -13.2, 19.996, 20.000, 10.253))"
   ]
  },
  {
   "cell_type": "code",
   "execution_count": 18,
   "metadata": {},
   "outputs": [],
   "source": [
    "check(actual=data[11], desired=(3, 90, -10.3, -12.2, -13.2, 11.696, 11.668, 6.783))"
   ]
  },
  {
   "cell_type": "code",
   "execution_count": 19,
   "metadata": {},
   "outputs": [],
   "source": [
    "check(actual=data[12], desired=(3, 100, -10.3, -12.2, -13.2, 6.931, 6.896, 4.406))"
   ]
  },
  {
   "cell_type": "code",
   "execution_count": 20,
   "metadata": {},
   "outputs": [],
   "source": [
    "check(actual=data[13], desired=(3, 110, -10.3, -12.2, -13.2, 4.154, 4.118, 2.826))"
   ]
  },
  {
   "cell_type": "code",
   "execution_count": 21,
   "metadata": {},
   "outputs": [],
   "source": [
    "check(actual=data[14], desired=(3, 120, -10.3, -12.2, -13.2, 2.510, 2.478, 1.797))"
   ]
  },
  {
   "cell_type": "code",
   "execution_count": null,
   "metadata": {},
   "outputs": [],
   "source": []
  }
 ],
 "metadata": {
  "kernelspec": {
   "display_name": "Python 3 (ipykernel)",
   "language": "python",
   "name": "python3"
  },
  "language_info": {
   "codemirror_mode": {
    "name": "ipython",
    "version": 3
   },
   "file_extension": ".py",
   "mimetype": "text/x-python",
   "name": "python",
   "nbconvert_exporter": "python",
   "pygments_lexer": "ipython3",
   "version": "3.9.2"
  }
 },
 "nbformat": 4,
 "nbformat_minor": 4
}
