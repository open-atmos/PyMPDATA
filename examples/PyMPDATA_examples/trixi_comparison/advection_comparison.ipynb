{
 "cells": [
  {
   "cell_type": "markdown",
   "id": "e333839d",
   "metadata": {},
   "source": [
    "[![Binder](https://mybinder.org/badge_logo.svg)](https://mybinder.org/v2/gh/open-atmos/PyMPDATA.git/main?urlpath=lab/tree/examples/PyMPDATA_examples/advection_diffusion_2d/advection-diffusion-2d.ipynb)\n",
    "[![Open In Colab](https://colab.research.google.com/assets/colab-badge.svg)](https://colab.research.google.com/github/open-atmos/examples/blob/main/examples/PyMPDATA_examples/advection_diffusion_2d/advection-diffusion-2d.ipynb)"
   ]
  },
  {
   "metadata": {},
   "cell_type": "markdown",
   "source": [
    "# Introduction\n",
    "Trixi.jl is a numerical simulation framework for conservation laws written in Julia. It is based on the Discontinuous Galerkin (DG) method and for the purpose of this comparison, we will use the StructuredMesh for data representation.\n",
    "\n",
    "This notebook compares the results of a simple advection equation solved in 2D by PyMPDATA and Trixi.jl.\n",
    "The general flow of the notebook is as follows:\n",
    "1. We define the advection equation and the common settings for both PyMPDATA and Trixi.jl in the JSON file.\n",
    "2. We run the simulation in Trixi.jl and save the results.\n",
    "3. We use Trixi2Vtk to convert the results to a vtk file.\n",
    "4. We reshape the results from Trixi.jl to match the shape of the results from PyMPDATA.\n",
    "5. We run the simulation in PyMPDATA for a bigger nx and ny, to account for the polynomial degree in Trixi.jl. \n",
    "6. We compare the results from PyMPDATA and Trixi.jl.\n",
    "7. We assert that the results are close to each other, this is to ensure that the implementation of PyMPDATA is correct.\n",
    "\n",
    "To run the notebook, Julia and the following Julia packages are required:\n",
    "- JSON\n",
    "- Trixi\n",
    "- OrdinaryDiffEq\n",
    "- Trixi2Vtk\n",
    "- Pkg"
   ],
   "id": "2448bffa3ee6d9ff"
  },
  {
   "cell_type": "markdown",
   "id": "0f162ce9-5704-4464-8b67-be8c86ecabc8",
   "metadata": {},
   "source": [
    "## common settings"
   ]
  },
  {
   "metadata": {
    "ExecuteTime": {
     "end_time": "2024-10-15T11:12:13.173162Z",
     "start_time": "2024-10-15T11:12:13.167042Z"
    }
   },
   "cell_type": "code",
   "source": [
    "SETUP = {\n",
    "    \"nx\": 32,\n",
    "    \"ny\": 32,\n",
    "    \"ux\": 0.25,\n",
    "    \"uy\": 0.25,\n",
    "    \"dt\": 0.025,\n",
    "    \"tmax\": 2.0,\n",
    "    \"polydeg\": 2,\n",
    "    \"omega\": 3.141592,\n",
    "    \"min_x\": -1.0,\n",
    "    \"min_y\": -1.0,\n",
    "    \"max_x\": 1.0,\n",
    "    \"max_y\": 1.0\n",
    "}\n",
    "\n",
    "assert SETUP[\"nx\"] == SETUP[\"ny\"]\n",
    "\n",
    "import json\n",
    "import subprocess\n",
    "with open('setup.json', 'w', encoding='UTF-8') as f:\n",
    "    json.dump(SETUP, f)"
   ],
   "id": "dff76910f0610a2d",
   "outputs": [],
   "execution_count": 1
  },
  {
   "metadata": {},
   "cell_type": "markdown",
   "source": [
    "## Trixi.jl"
   ],
   "id": "52cd27020f7efe9"
  },
  {
   "metadata": {
    "ExecuteTime": {
     "end_time": "2024-10-15T11:12:13.223789Z",
     "start_time": "2024-10-15T11:12:13.218476Z"
    }
   },
   "cell_type": "code",
   "source": [
    "%%writefile trixi.jl\n",
    "import Pkg\n",
    "Pkg.add([\"JSON\", \"Trixi\", \"OrdinaryDiffEq\", \"Trixi2Vtk\"])\n",
    "using JSON\n",
    "using Trixi\n",
    "using OrdinaryDiffEq\n",
    "using Trixi2Vtk\n",
    "\n",
    "setup = JSON.parsefile(\"./setup.json\")\n",
    "\n",
    "advection_velocity = (setup[\"ux\"], setup[\"uy\"])\n",
    "equations = LinearScalarAdvectionEquation2D(advection_velocity)\n",
    "solver = DGSEM(polydeg = setup[\"polydeg\"])\n",
    "\n",
    "function initial_condition(x, t, equations::LinearScalarAdvectionEquation2D)\n",
    "    return SVector(sin(setup[\"omega\"]*sum(x)) + 1)\n",
    "end\n",
    "\n",
    "cells_per_dimension = (setup[\"nx\"], setup[\"ny\"])\n",
    "coordinates_min = (setup[\"min_x\"], setup[\"min_y\"])\n",
    "coordinates_max = (setup[\"max_x\"], setup[\"max_y\"])\n",
    "\n",
    "mesh = StructuredMesh(cells_per_dimension, coordinates_min, coordinates_max)\n",
    "semi = SemidiscretizationHyperbolic(mesh, equations, initial_condition, solver)\n",
    "\n",
    "tspan = (0.0, setup[\"tmax\"])\n",
    "ode = semidiscretize(semi, tspan);\n",
    "\n",
    "summary_callback = SummaryCallback()\n",
    "save_solution = SaveSolutionCallback(save_initial_solution = false, interval=100)\n",
    "\n",
    "stepsize_callback = StepsizeCallback(cfl = 1.6)\n",
    "\n",
    "callbacks = CallbackSet(summary_callback, save_solution, stepsize_callback)\n",
    "\n",
    "time_int_tol = 1e-6\n",
    "sol = solve(ode, CarpenterKennedy2N54();\n",
    "            abstol = time_int_tol,\n",
    "            reltol = time_int_tol,\n",
    "            dt = setup[\"dt\"],\n",
    "            ode_default_options()..., callback = callbacks);\n",
    "\n",
    "summary_callback()"
   ],
   "id": "6586bff9a39d588f",
   "outputs": [
    {
     "name": "stdout",
     "output_type": "stream",
     "text": [
      "Overwriting trixi.jl\n"
     ]
    }
   ],
   "execution_count": 2
  },
  {
   "metadata": {
    "ExecuteTime": {
     "end_time": "2024-10-15T11:13:12.407588Z",
     "start_time": "2024-10-15T11:12:13.237811Z"
    }
   },
   "cell_type": "code",
   "source": "subprocess.run([\"julia\", \"trixi.jl\"], check=True)",
   "id": "56fb8302adfc01e7",
   "outputs": [
    {
     "data": {
      "text/plain": [
       "CompletedProcess(args=['julia', 'trixi.jl'], returncode=0)"
      ]
     },
     "execution_count": 3,
     "metadata": {},
     "output_type": "execute_result"
    }
   ],
   "execution_count": 3
  },
  {
   "metadata": {},
   "cell_type": "markdown",
   "source": "## PyMPDATA",
   "id": "a30cc2b4961f1be7"
  },
  {
   "metadata": {
    "ExecuteTime": {
     "end_time": "2024-10-15T11:13:14.552172Z",
     "start_time": "2024-10-15T11:13:12.408591Z"
    }
   },
   "cell_type": "code",
   "source": [
    "import numpy as np\n",
    "import meshio\n",
    "from open_atmos_jupyter_utils import show_plot\n",
    "import matplotlib.pyplot as plt\n",
    "from PyMPDATA import Solver, ScalarField, VectorField, Stepper, Options\n",
    "from PyMPDATA.boundary_conditions import Periodic\n",
    "import os"
   ],
   "id": "9aaadc4a5234804a",
   "outputs": [],
   "execution_count": 4
  },
  {
   "metadata": {
    "ExecuteTime": {
     "end_time": "2024-10-15T11:13:14.557254Z",
     "start_time": "2024-10-15T11:13:14.553174Z"
    }
   },
   "cell_type": "code",
   "source": [
    "dt = SETUP[\"dt\"]\n",
    "tmax = SETUP[\"tmax\"]\n",
    "nt = int(tmax / dt)\n",
    "\n",
    "nx = SETUP[\"nx\"] * SETUP[\"polydeg\"] + 1\n",
    "ny = SETUP[\"ny\"] * SETUP[\"polydeg\"] + 1\n",
    "ux  = SETUP[\"ux\"]\n",
    "uy = SETUP[\"uy\"]\n",
    "omega = SETUP[\"omega\"]\n",
    "\n",
    "min_x, min_y = SETUP[\"min_x\"], SETUP[\"min_y\"]\n",
    "max_x, max_y = SETUP[\"max_x\"], SETUP[\"max_y\"]\n",
    "dx_temp = (max_x - min_x) / (nx - 1)\n",
    "dy_temp = (max_y - min_y) / (ny - 1)\n",
    "min_x, max_x = min_x - dx_temp/2, max_x + dx_temp/2\n",
    "min_y, max_y = min_y - dy_temp/2, max_y + dy_temp/2\n",
    "dx = (max_x - min_x) / nx\n",
    "dy = (max_y - min_y) / ny\n",
    "Cx = ux * dt / dx\n",
    "Cy = uy * dt / dy"
   ],
   "id": "9a0f60b51e32ce3e",
   "outputs": [],
   "execution_count": 5
  },
  {
   "metadata": {
    "ExecuteTime": {
     "end_time": "2024-10-15T11:13:14.568856Z",
     "start_time": "2024-10-15T11:13:14.558259Z"
    }
   },
   "cell_type": "code",
   "source": [
    "opt = Options(n_iters=3)\n",
    "boundary_conditions = (Periodic(), Periodic())"
   ],
   "id": "64e3274fa4ac14a6",
   "outputs": [],
   "execution_count": 6
  },
  {
   "metadata": {
    "ExecuteTime": {
     "end_time": "2024-10-15T11:13:14.585089Z",
     "start_time": "2024-10-15T11:13:14.569861Z"
    }
   },
   "cell_type": "code",
   "source": [
    "def initial_condition():\n",
    "    return np.array(\n",
    "    [\n",
    "        np.sin(omega*(x+y)) + 1 for x in np.linspace(min_x, max_x, nx)\n",
    "        for y in np.linspace(min_y, max_y, ny)\n",
    "    ],\n",
    "    dtype=float\n",
    ").reshape((nx, ny))\n",
    "\n",
    "advectee = ScalarField(data=initial_condition(), halo=opt.n_halo, boundary_conditions=boundary_conditions)"
   ],
   "id": "cab790be5c425ea5",
   "outputs": [],
   "execution_count": 7
  },
  {
   "metadata": {
    "ExecuteTime": {
     "end_time": "2024-10-15T11:13:14.594072Z",
     "start_time": "2024-10-15T11:13:14.585089Z"
    }
   },
   "cell_type": "code",
   "source": [
    "field_x = np.full((nx+1, ny), Cx, dtype=opt.dtype)\n",
    "field_y = np.full((nx, ny+1), Cy, dtype=opt.dtype)\n",
    "\n",
    "advector = VectorField(\n",
    "    data=(field_x, field_y),\n",
    "    halo=opt.n_halo,\n",
    "    boundary_conditions=(boundary_conditions[0], Periodic())\n",
    ")"
   ],
   "id": "b454a74473b8f900",
   "outputs": [],
   "execution_count": 8
  },
  {
   "metadata": {
    "ExecuteTime": {
     "end_time": "2024-10-15T11:13:15.952188Z",
     "start_time": "2024-10-15T11:13:14.595068Z"
    }
   },
   "cell_type": "code",
   "source": [
    "stepper = Stepper(options=opt, n_dims=2)\n",
    "solver = Solver(stepper=stepper, advector=advector, advectee=advectee)"
   ],
   "id": "ce055b2d3a61a491",
   "outputs": [],
   "execution_count": 9
  },
  {
   "metadata": {
    "ExecuteTime": {
     "end_time": "2024-10-15T11:13:15.956173Z",
     "start_time": "2024-10-15T11:13:15.952188Z"
    }
   },
   "cell_type": "code",
   "source": [
    "vmin = np.min(solver.advectee.get())\n",
    "vmax = np.max(solver.advectee.get())"
   ],
   "id": "5290dbc73bd36d29",
   "outputs": [],
   "execution_count": 10
  },
  {
   "metadata": {
    "ExecuteTime": {
     "end_time": "2024-10-15T11:13:45.581913Z",
     "start_time": "2024-10-15T11:13:15.957178Z"
    }
   },
   "cell_type": "code",
   "source": "_ = solver.advance(n_steps=nt)",
   "id": "b29adee15e8ff545",
   "outputs": [],
   "execution_count": 11
  },
  {
   "metadata": {
    "ExecuteTime": {
     "end_time": "2024-10-15T11:13:45.586629Z",
     "start_time": "2024-10-15T11:13:45.583902Z"
    }
   },
   "cell_type": "code",
   "source": "pympdata_result_state = solver.advectee.get().copy()",
   "id": "f59fd725765b765e",
   "outputs": [],
   "execution_count": 12
  },
  {
   "metadata": {
    "ExecuteTime": {
     "end_time": "2024-10-15T11:13:46.387282Z",
     "start_time": "2024-10-15T11:13:45.587623Z"
    }
   },
   "cell_type": "code",
   "source": [
    "plt.imshow(pympdata_result_state, cmap='viridis', vmin=vmin, vmax=vmax)\n",
    "plt.colorbar()\n",
    "plt.xlabel('x')\n",
    "plt.ylabel('y')\n",
    "plt.title('PyMDATA solution')\n",
    "show_plot()"
   ],
   "id": "a041cd5f2c2dbaa",
   "outputs": [
    {
     "data": {
      "text/plain": [
       "<Figure size 640x480 with 2 Axes>"
      ],
      "image/svg+xml": "<?xml version=\"1.0\" encoding=\"utf-8\" standalone=\"no\"?>\n<!DOCTYPE svg PUBLIC \"-//W3C//DTD SVG 1.1//EN\"\n  \"http://www.w3.org/Graphics/SVG/1.1/DTD/svg11.dtd\">\n<svg xmlns:xlink=\"http://www.w3.org/1999/xlink\" width=\"374.34235pt\" height=\"325.986375pt\" viewBox=\"0 0 374.34235 325.986375\" xmlns=\"http://www.w3.org/2000/svg\" version=\"1.1\">\n <metadata>\n  <rdf:RDF xmlns:dc=\"http://purl.org/dc/elements/1.1/\" xmlns:cc=\"http://creativecommons.org/ns#\" xmlns:rdf=\"http://www.w3.org/1999/02/22-rdf-syntax-ns#\">\n   <cc:Work>\n    <dc:type rdf:resource=\"http://purl.org/dc/dcmitype/StillImage\"/>\n    <dc:date>2024-10-15T13:13:46.341772</dc:date>\n    <dc:format>image/svg+xml</dc:format>\n    <dc:creator>\n     <cc:Agent>\n      <dc:title>Matplotlib v3.9.1, https://matplotlib.org/</dc:title>\n     </cc:Agent>\n    </dc:creator>\n   </cc:Work>\n  </rdf:RDF>\n </metadata>\n <defs>\n  <style type=\"text/css\">*{stroke-linejoin: round; stroke-linecap: butt}</style>\n </defs>\n <g id=\"figure_1\">\n  <g id=\"patch_1\">\n   <path d=\"M 0 325.986375 \nL 374.34235 325.986375 \nL 374.34235 0 \nL 0 0 \nz\n\" style=\"fill: #ffffff\"/>\n  </g>\n  <g id=\"axes_1\">\n   <g id=\"patch_2\">\n    <path d=\"M 40.603125 288.430125 \nL 306.715125 288.430125 \nL 306.715125 22.318125 \nL 40.603125 22.318125 \nz\n\" style=\"fill: #ffffff\"/>\n   </g>\n   <g clip-path=\"url(#pd8e5be72ee)\">\n    <image xlink:href=\"data:image/png;base64,\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\" id=\"image453e9c843e\" transform=\"scale(1 -1) translate(0 -266.4)\" x=\"40.603125\" y=\"-22.030125\" width=\"266.4\" height=\"266.4\"/>\n   </g>\n   <g id=\"matplotlib.axis_1\">\n    <g id=\"xtick_1\">\n     <g id=\"line2d_1\">\n      <defs>\n       <path id=\"mcb0111a2fd\" d=\"M 0 0 \nL 0 3.5 \n\" style=\"stroke: #000000; stroke-width: 0.8\"/>\n      </defs>\n      <g>\n       <use xlink:href=\"#mcb0111a2fd\" x=\"42.65014\" y=\"288.430125\" style=\"stroke: #000000; stroke-width: 0.8\"/>\n      </g>\n     </g>\n     <g id=\"text_1\">\n      <!-- 0 -->\n      <g transform=\"translate(39.46889 303.028562) scale(0.1 -0.1)\">\n       <defs>\n        <path id=\"DejaVuSans-30\" d=\"M 2034 4250 \nQ 1547 4250 1301 3770 \nQ 1056 3291 1056 2328 \nQ 1056 1369 1301 889 \nQ 1547 409 2034 409 \nQ 2525 409 2770 889 \nQ 3016 1369 3016 2328 \nQ 3016 3291 2770 3770 \nQ 2525 4250 2034 4250 \nz\nM 2034 4750 \nQ 2819 4750 3233 4129 \nQ 3647 3509 3647 2328 \nQ 3647 1150 3233 529 \nQ 2819 -91 2034 -91 \nQ 1250 -91 836 529 \nQ 422 1150 422 2328 \nQ 422 3509 836 4129 \nQ 1250 4750 2034 4750 \nz\n\" transform=\"scale(0.015625)\"/>\n       </defs>\n       <use xlink:href=\"#DejaVuSans-30\"/>\n      </g>\n     </g>\n    </g>\n    <g id=\"xtick_2\">\n     <g id=\"line2d_2\">\n      <g>\n       <use xlink:href=\"#mcb0111a2fd\" x=\"83.590448\" y=\"288.430125\" style=\"stroke: #000000; stroke-width: 0.8\"/>\n      </g>\n     </g>\n     <g id=\"text_2\">\n      <!-- 10 -->\n      <g transform=\"translate(77.227948 303.028562) scale(0.1 -0.1)\">\n       <defs>\n        <path id=\"DejaVuSans-31\" d=\"M 794 531 \nL 1825 531 \nL 1825 4091 \nL 703 3866 \nL 703 4441 \nL 1819 4666 \nL 2450 4666 \nL 2450 531 \nL 3481 531 \nL 3481 0 \nL 794 0 \nL 794 531 \nz\n\" transform=\"scale(0.015625)\"/>\n       </defs>\n       <use xlink:href=\"#DejaVuSans-31\"/>\n       <use xlink:href=\"#DejaVuSans-30\" x=\"63.623047\"/>\n      </g>\n     </g>\n    </g>\n    <g id=\"xtick_3\">\n     <g id=\"line2d_3\">\n      <g>\n       <use xlink:href=\"#mcb0111a2fd\" x=\"124.530756\" y=\"288.430125\" style=\"stroke: #000000; stroke-width: 0.8\"/>\n      </g>\n     </g>\n     <g id=\"text_3\">\n      <!-- 20 -->\n      <g transform=\"translate(118.168256 303.028562) scale(0.1 -0.1)\">\n       <defs>\n        <path id=\"DejaVuSans-32\" d=\"M 1228 531 \nL 3431 531 \nL 3431 0 \nL 469 0 \nL 469 531 \nQ 828 903 1448 1529 \nQ 2069 2156 2228 2338 \nQ 2531 2678 2651 2914 \nQ 2772 3150 2772 3378 \nQ 2772 3750 2511 3984 \nQ 2250 4219 1831 4219 \nQ 1534 4219 1204 4116 \nQ 875 4013 500 3803 \nL 500 4441 \nQ 881 4594 1212 4672 \nQ 1544 4750 1819 4750 \nQ 2544 4750 2975 4387 \nQ 3406 4025 3406 3419 \nQ 3406 3131 3298 2873 \nQ 3191 2616 2906 2266 \nQ 2828 2175 2409 1742 \nQ 1991 1309 1228 531 \nz\n\" transform=\"scale(0.015625)\"/>\n       </defs>\n       <use xlink:href=\"#DejaVuSans-32\"/>\n       <use xlink:href=\"#DejaVuSans-30\" x=\"63.623047\"/>\n      </g>\n     </g>\n    </g>\n    <g id=\"xtick_4\">\n     <g id=\"line2d_4\">\n      <g>\n       <use xlink:href=\"#mcb0111a2fd\" x=\"165.471063\" y=\"288.430125\" style=\"stroke: #000000; stroke-width: 0.8\"/>\n      </g>\n     </g>\n     <g id=\"text_4\">\n      <!-- 30 -->\n      <g transform=\"translate(159.108563 303.028562) scale(0.1 -0.1)\">\n       <defs>\n        <path id=\"DejaVuSans-33\" d=\"M 2597 2516 \nQ 3050 2419 3304 2112 \nQ 3559 1806 3559 1356 \nQ 3559 666 3084 287 \nQ 2609 -91 1734 -91 \nQ 1441 -91 1130 -33 \nQ 819 25 488 141 \nL 488 750 \nQ 750 597 1062 519 \nQ 1375 441 1716 441 \nQ 2309 441 2620 675 \nQ 2931 909 2931 1356 \nQ 2931 1769 2642 2001 \nQ 2353 2234 1838 2234 \nL 1294 2234 \nL 1294 2753 \nL 1863 2753 \nQ 2328 2753 2575 2939 \nQ 2822 3125 2822 3475 \nQ 2822 3834 2567 4026 \nQ 2313 4219 1838 4219 \nQ 1578 4219 1281 4162 \nQ 984 4106 628 3988 \nL 628 4550 \nQ 988 4650 1302 4700 \nQ 1616 4750 1894 4750 \nQ 2613 4750 3031 4423 \nQ 3450 4097 3450 3541 \nQ 3450 3153 3228 2886 \nQ 3006 2619 2597 2516 \nz\n\" transform=\"scale(0.015625)\"/>\n       </defs>\n       <use xlink:href=\"#DejaVuSans-33\"/>\n       <use xlink:href=\"#DejaVuSans-30\" x=\"63.623047\"/>\n      </g>\n     </g>\n    </g>\n    <g id=\"xtick_5\">\n     <g id=\"line2d_5\">\n      <g>\n       <use xlink:href=\"#mcb0111a2fd\" x=\"206.411371\" y=\"288.430125\" style=\"stroke: #000000; stroke-width: 0.8\"/>\n      </g>\n     </g>\n     <g id=\"text_5\">\n      <!-- 40 -->\n      <g transform=\"translate(200.048871 303.028562) scale(0.1 -0.1)\">\n       <defs>\n        <path id=\"DejaVuSans-34\" d=\"M 2419 4116 \nL 825 1625 \nL 2419 1625 \nL 2419 4116 \nz\nM 2253 4666 \nL 3047 4666 \nL 3047 1625 \nL 3713 1625 \nL 3713 1100 \nL 3047 1100 \nL 3047 0 \nL 2419 0 \nL 2419 1100 \nL 313 1100 \nL 313 1709 \nL 2253 4666 \nz\n\" transform=\"scale(0.015625)\"/>\n       </defs>\n       <use xlink:href=\"#DejaVuSans-34\"/>\n       <use xlink:href=\"#DejaVuSans-30\" x=\"63.623047\"/>\n      </g>\n     </g>\n    </g>\n    <g id=\"xtick_6\">\n     <g id=\"line2d_6\">\n      <g>\n       <use xlink:href=\"#mcb0111a2fd\" x=\"247.351679\" y=\"288.430125\" style=\"stroke: #000000; stroke-width: 0.8\"/>\n      </g>\n     </g>\n     <g id=\"text_6\">\n      <!-- 50 -->\n      <g transform=\"translate(240.989179 303.028562) scale(0.1 -0.1)\">\n       <defs>\n        <path id=\"DejaVuSans-35\" d=\"M 691 4666 \nL 3169 4666 \nL 3169 4134 \nL 1269 4134 \nL 1269 2991 \nQ 1406 3038 1543 3061 \nQ 1681 3084 1819 3084 \nQ 2600 3084 3056 2656 \nQ 3513 2228 3513 1497 \nQ 3513 744 3044 326 \nQ 2575 -91 1722 -91 \nQ 1428 -91 1123 -41 \nQ 819 9 494 109 \nL 494 744 \nQ 775 591 1075 516 \nQ 1375 441 1709 441 \nQ 2250 441 2565 725 \nQ 2881 1009 2881 1497 \nQ 2881 1984 2565 2268 \nQ 2250 2553 1709 2553 \nQ 1456 2553 1204 2497 \nQ 953 2441 691 2322 \nL 691 4666 \nz\n\" transform=\"scale(0.015625)\"/>\n       </defs>\n       <use xlink:href=\"#DejaVuSans-35\"/>\n       <use xlink:href=\"#DejaVuSans-30\" x=\"63.623047\"/>\n      </g>\n     </g>\n    </g>\n    <g id=\"xtick_7\">\n     <g id=\"line2d_7\">\n      <g>\n       <use xlink:href=\"#mcb0111a2fd\" x=\"288.291987\" y=\"288.430125\" style=\"stroke: #000000; stroke-width: 0.8\"/>\n      </g>\n     </g>\n     <g id=\"text_7\">\n      <!-- 60 -->\n      <g transform=\"translate(281.929487 303.028562) scale(0.1 -0.1)\">\n       <defs>\n        <path id=\"DejaVuSans-36\" d=\"M 2113 2584 \nQ 1688 2584 1439 2293 \nQ 1191 2003 1191 1497 \nQ 1191 994 1439 701 \nQ 1688 409 2113 409 \nQ 2538 409 2786 701 \nQ 3034 994 3034 1497 \nQ 3034 2003 2786 2293 \nQ 2538 2584 2113 2584 \nz\nM 3366 4563 \nL 3366 3988 \nQ 3128 4100 2886 4159 \nQ 2644 4219 2406 4219 \nQ 1781 4219 1451 3797 \nQ 1122 3375 1075 2522 \nQ 1259 2794 1537 2939 \nQ 1816 3084 2150 3084 \nQ 2853 3084 3261 2657 \nQ 3669 2231 3669 1497 \nQ 3669 778 3244 343 \nQ 2819 -91 2113 -91 \nQ 1303 -91 875 529 \nQ 447 1150 447 2328 \nQ 447 3434 972 4092 \nQ 1497 4750 2381 4750 \nQ 2619 4750 2861 4703 \nQ 3103 4656 3366 4563 \nz\n\" transform=\"scale(0.015625)\"/>\n       </defs>\n       <use xlink:href=\"#DejaVuSans-36\"/>\n       <use xlink:href=\"#DejaVuSans-30\" x=\"63.623047\"/>\n      </g>\n     </g>\n    </g>\n    <g id=\"text_8\">\n     <!-- x -->\n     <g transform=\"translate(170.69975 316.706687) scale(0.1 -0.1)\">\n      <defs>\n       <path id=\"DejaVuSans-78\" d=\"M 3513 3500 \nL 2247 1797 \nL 3578 0 \nL 2900 0 \nL 1881 1375 \nL 863 0 \nL 184 0 \nL 1544 1831 \nL 300 3500 \nL 978 3500 \nL 1906 2253 \nL 2834 3500 \nL 3513 3500 \nz\n\" transform=\"scale(0.015625)\"/>\n      </defs>\n      <use xlink:href=\"#DejaVuSans-78\"/>\n     </g>\n    </g>\n   </g>\n   <g id=\"matplotlib.axis_2\">\n    <g id=\"ytick_1\">\n     <g id=\"line2d_8\">\n      <defs>\n       <path id=\"m2c45dea66f\" d=\"M 0 0 \nL -3.5 0 \n\" style=\"stroke: #000000; stroke-width: 0.8\"/>\n      </defs>\n      <g>\n       <use xlink:href=\"#m2c45dea66f\" x=\"40.603125\" y=\"24.36514\" style=\"stroke: #000000; stroke-width: 0.8\"/>\n      </g>\n     </g>\n     <g id=\"text_9\">\n      <!-- 0 -->\n      <g transform=\"translate(27.240625 28.164359) scale(0.1 -0.1)\">\n       <use xlink:href=\"#DejaVuSans-30\"/>\n      </g>\n     </g>\n    </g>\n    <g id=\"ytick_2\">\n     <g id=\"line2d_9\">\n      <g>\n       <use xlink:href=\"#m2c45dea66f\" x=\"40.603125\" y=\"65.305448\" style=\"stroke: #000000; stroke-width: 0.8\"/>\n      </g>\n     </g>\n     <g id=\"text_10\">\n      <!-- 10 -->\n      <g transform=\"translate(20.878125 69.104667) scale(0.1 -0.1)\">\n       <use xlink:href=\"#DejaVuSans-31\"/>\n       <use xlink:href=\"#DejaVuSans-30\" x=\"63.623047\"/>\n      </g>\n     </g>\n    </g>\n    <g id=\"ytick_3\">\n     <g id=\"line2d_10\">\n      <g>\n       <use xlink:href=\"#m2c45dea66f\" x=\"40.603125\" y=\"106.245756\" style=\"stroke: #000000; stroke-width: 0.8\"/>\n      </g>\n     </g>\n     <g id=\"text_11\">\n      <!-- 20 -->\n      <g transform=\"translate(20.878125 110.044975) scale(0.1 -0.1)\">\n       <use xlink:href=\"#DejaVuSans-32\"/>\n       <use xlink:href=\"#DejaVuSans-30\" x=\"63.623047\"/>\n      </g>\n     </g>\n    </g>\n    <g id=\"ytick_4\">\n     <g id=\"line2d_11\">\n      <g>\n       <use xlink:href=\"#m2c45dea66f\" x=\"40.603125\" y=\"147.186063\" style=\"stroke: #000000; stroke-width: 0.8\"/>\n      </g>\n     </g>\n     <g id=\"text_12\">\n      <!-- 30 -->\n      <g transform=\"translate(20.878125 150.985282) scale(0.1 -0.1)\">\n       <use xlink:href=\"#DejaVuSans-33\"/>\n       <use xlink:href=\"#DejaVuSans-30\" x=\"63.623047\"/>\n      </g>\n     </g>\n    </g>\n    <g id=\"ytick_5\">\n     <g id=\"line2d_12\">\n      <g>\n       <use xlink:href=\"#m2c45dea66f\" x=\"40.603125\" y=\"188.126371\" style=\"stroke: #000000; stroke-width: 0.8\"/>\n      </g>\n     </g>\n     <g id=\"text_13\">\n      <!-- 40 -->\n      <g transform=\"translate(20.878125 191.92559) scale(0.1 -0.1)\">\n       <use xlink:href=\"#DejaVuSans-34\"/>\n       <use xlink:href=\"#DejaVuSans-30\" x=\"63.623047\"/>\n      </g>\n     </g>\n    </g>\n    <g id=\"ytick_6\">\n     <g id=\"line2d_13\">\n      <g>\n       <use xlink:href=\"#m2c45dea66f\" x=\"40.603125\" y=\"229.066679\" style=\"stroke: #000000; stroke-width: 0.8\"/>\n      </g>\n     </g>\n     <g id=\"text_14\">\n      <!-- 50 -->\n      <g transform=\"translate(20.878125 232.865898) scale(0.1 -0.1)\">\n       <use xlink:href=\"#DejaVuSans-35\"/>\n       <use xlink:href=\"#DejaVuSans-30\" x=\"63.623047\"/>\n      </g>\n     </g>\n    </g>\n    <g id=\"ytick_7\">\n     <g id=\"line2d_14\">\n      <g>\n       <use xlink:href=\"#m2c45dea66f\" x=\"40.603125\" y=\"270.006987\" style=\"stroke: #000000; stroke-width: 0.8\"/>\n      </g>\n     </g>\n     <g id=\"text_15\">\n      <!-- 60 -->\n      <g transform=\"translate(20.878125 273.806205) scale(0.1 -0.1)\">\n       <use xlink:href=\"#DejaVuSans-36\"/>\n       <use xlink:href=\"#DejaVuSans-30\" x=\"63.623047\"/>\n      </g>\n     </g>\n    </g>\n    <g id=\"text_16\">\n     <!-- y -->\n     <g transform=\"translate(14.798438 158.3335) rotate(-90) scale(0.1 -0.1)\">\n      <defs>\n       <path id=\"DejaVuSans-79\" d=\"M 2059 -325 \nQ 1816 -950 1584 -1140 \nQ 1353 -1331 966 -1331 \nL 506 -1331 \nL 506 -850 \nL 844 -850 \nQ 1081 -850 1212 -737 \nQ 1344 -625 1503 -206 \nL 1606 56 \nL 191 3500 \nL 800 3500 \nL 1894 763 \nL 2988 3500 \nL 3597 3500 \nL 2059 -325 \nz\n\" transform=\"scale(0.015625)\"/>\n      </defs>\n      <use xlink:href=\"#DejaVuSans-79\"/>\n     </g>\n    </g>\n   </g>\n   <g id=\"patch_3\">\n    <path d=\"M 40.603125 288.430125 \nL 40.603125 22.318125 \n\" style=\"fill: none; stroke: #000000; stroke-width: 0.8; stroke-linejoin: miter; stroke-linecap: square\"/>\n   </g>\n   <g id=\"patch_4\">\n    <path d=\"M 306.715125 288.430125 \nL 306.715125 22.318125 \n\" style=\"fill: none; stroke: #000000; stroke-width: 0.8; stroke-linejoin: miter; stroke-linecap: square\"/>\n   </g>\n   <g id=\"patch_5\">\n    <path d=\"M 40.603125 288.430125 \nL 306.715125 288.430125 \n\" style=\"fill: none; stroke: #000000; stroke-width: 0.8; stroke-linejoin: miter; stroke-linecap: square\"/>\n   </g>\n   <g id=\"patch_6\">\n    <path d=\"M 40.603125 22.318125 \nL 306.715125 22.318125 \n\" style=\"fill: none; stroke: #000000; stroke-width: 0.8; stroke-linejoin: miter; stroke-linecap: square\"/>\n   </g>\n   <g id=\"text_17\">\n    <!-- PyMDATA solution -->\n    <g transform=\"translate(120.188812 16.318125) scale(0.12 -0.12)\">\n     <defs>\n      <path id=\"DejaVuSans-50\" d=\"M 1259 4147 \nL 1259 2394 \nL 2053 2394 \nQ 2494 2394 2734 2622 \nQ 2975 2850 2975 3272 \nQ 2975 3691 2734 3919 \nQ 2494 4147 2053 4147 \nL 1259 4147 \nz\nM 628 4666 \nL 2053 4666 \nQ 2838 4666 3239 4311 \nQ 3641 3956 3641 3272 \nQ 3641 2581 3239 2228 \nQ 2838 1875 2053 1875 \nL 1259 1875 \nL 1259 0 \nL 628 0 \nL 628 4666 \nz\n\" transform=\"scale(0.015625)\"/>\n      <path id=\"DejaVuSans-4d\" d=\"M 628 4666 \nL 1569 4666 \nL 2759 1491 \nL 3956 4666 \nL 4897 4666 \nL 4897 0 \nL 4281 0 \nL 4281 4097 \nL 3078 897 \nL 2444 897 \nL 1241 4097 \nL 1241 0 \nL 628 0 \nL 628 4666 \nz\n\" transform=\"scale(0.015625)\"/>\n      <path id=\"DejaVuSans-44\" d=\"M 1259 4147 \nL 1259 519 \nL 2022 519 \nQ 2988 519 3436 956 \nQ 3884 1394 3884 2338 \nQ 3884 3275 3436 3711 \nQ 2988 4147 2022 4147 \nL 1259 4147 \nz\nM 628 4666 \nL 1925 4666 \nQ 3281 4666 3915 4102 \nQ 4550 3538 4550 2338 \nQ 4550 1131 3912 565 \nQ 3275 0 1925 0 \nL 628 0 \nL 628 4666 \nz\n\" transform=\"scale(0.015625)\"/>\n      <path id=\"DejaVuSans-41\" d=\"M 2188 4044 \nL 1331 1722 \nL 3047 1722 \nL 2188 4044 \nz\nM 1831 4666 \nL 2547 4666 \nL 4325 0 \nL 3669 0 \nL 3244 1197 \nL 1141 1197 \nL 716 0 \nL 50 0 \nL 1831 4666 \nz\n\" transform=\"scale(0.015625)\"/>\n      <path id=\"DejaVuSans-54\" d=\"M -19 4666 \nL 3928 4666 \nL 3928 4134 \nL 2272 4134 \nL 2272 0 \nL 1638 0 \nL 1638 4134 \nL -19 4134 \nL -19 4666 \nz\n\" transform=\"scale(0.015625)\"/>\n      <path id=\"DejaVuSans-20\" transform=\"scale(0.015625)\"/>\n      <path id=\"DejaVuSans-73\" d=\"M 2834 3397 \nL 2834 2853 \nQ 2591 2978 2328 3040 \nQ 2066 3103 1784 3103 \nQ 1356 3103 1142 2972 \nQ 928 2841 928 2578 \nQ 928 2378 1081 2264 \nQ 1234 2150 1697 2047 \nL 1894 2003 \nQ 2506 1872 2764 1633 \nQ 3022 1394 3022 966 \nQ 3022 478 2636 193 \nQ 2250 -91 1575 -91 \nQ 1294 -91 989 -36 \nQ 684 19 347 128 \nL 347 722 \nQ 666 556 975 473 \nQ 1284 391 1588 391 \nQ 1994 391 2212 530 \nQ 2431 669 2431 922 \nQ 2431 1156 2273 1281 \nQ 2116 1406 1581 1522 \nL 1381 1569 \nQ 847 1681 609 1914 \nQ 372 2147 372 2553 \nQ 372 3047 722 3315 \nQ 1072 3584 1716 3584 \nQ 2034 3584 2315 3537 \nQ 2597 3491 2834 3397 \nz\n\" transform=\"scale(0.015625)\"/>\n      <path id=\"DejaVuSans-6f\" d=\"M 1959 3097 \nQ 1497 3097 1228 2736 \nQ 959 2375 959 1747 \nQ 959 1119 1226 758 \nQ 1494 397 1959 397 \nQ 2419 397 2687 759 \nQ 2956 1122 2956 1747 \nQ 2956 2369 2687 2733 \nQ 2419 3097 1959 3097 \nz\nM 1959 3584 \nQ 2709 3584 3137 3096 \nQ 3566 2609 3566 1747 \nQ 3566 888 3137 398 \nQ 2709 -91 1959 -91 \nQ 1206 -91 779 398 \nQ 353 888 353 1747 \nQ 353 2609 779 3096 \nQ 1206 3584 1959 3584 \nz\n\" transform=\"scale(0.015625)\"/>\n      <path id=\"DejaVuSans-6c\" d=\"M 603 4863 \nL 1178 4863 \nL 1178 0 \nL 603 0 \nL 603 4863 \nz\n\" transform=\"scale(0.015625)\"/>\n      <path id=\"DejaVuSans-75\" d=\"M 544 1381 \nL 544 3500 \nL 1119 3500 \nL 1119 1403 \nQ 1119 906 1312 657 \nQ 1506 409 1894 409 \nQ 2359 409 2629 706 \nQ 2900 1003 2900 1516 \nL 2900 3500 \nL 3475 3500 \nL 3475 0 \nL 2900 0 \nL 2900 538 \nQ 2691 219 2414 64 \nQ 2138 -91 1772 -91 \nQ 1169 -91 856 284 \nQ 544 659 544 1381 \nz\nM 1991 3584 \nL 1991 3584 \nz\n\" transform=\"scale(0.015625)\"/>\n      <path id=\"DejaVuSans-74\" d=\"M 1172 4494 \nL 1172 3500 \nL 2356 3500 \nL 2356 3053 \nL 1172 3053 \nL 1172 1153 \nQ 1172 725 1289 603 \nQ 1406 481 1766 481 \nL 2356 481 \nL 2356 0 \nL 1766 0 \nQ 1100 0 847 248 \nQ 594 497 594 1153 \nL 594 3053 \nL 172 3053 \nL 172 3500 \nL 594 3500 \nL 594 4494 \nL 1172 4494 \nz\n\" transform=\"scale(0.015625)\"/>\n      <path id=\"DejaVuSans-69\" d=\"M 603 3500 \nL 1178 3500 \nL 1178 0 \nL 603 0 \nL 603 3500 \nz\nM 603 4863 \nL 1178 4863 \nL 1178 4134 \nL 603 4134 \nL 603 4863 \nz\n\" transform=\"scale(0.015625)\"/>\n      <path id=\"DejaVuSans-6e\" d=\"M 3513 2113 \nL 3513 0 \nL 2938 0 \nL 2938 2094 \nQ 2938 2591 2744 2837 \nQ 2550 3084 2163 3084 \nQ 1697 3084 1428 2787 \nQ 1159 2491 1159 1978 \nL 1159 0 \nL 581 0 \nL 581 3500 \nL 1159 3500 \nL 1159 2956 \nQ 1366 3272 1645 3428 \nQ 1925 3584 2291 3584 \nQ 2894 3584 3203 3211 \nQ 3513 2838 3513 2113 \nz\n\" transform=\"scale(0.015625)\"/>\n     </defs>\n     <use xlink:href=\"#DejaVuSans-50\"/>\n     <use xlink:href=\"#DejaVuSans-79\" x=\"60.302734\"/>\n     <use xlink:href=\"#DejaVuSans-4d\" x=\"119.482422\"/>\n     <use xlink:href=\"#DejaVuSans-44\" x=\"205.761719\"/>\n     <use xlink:href=\"#DejaVuSans-41\" x=\"281.013672\"/>\n     <use xlink:href=\"#DejaVuSans-54\" x=\"341.671875\"/>\n     <use xlink:href=\"#DejaVuSans-41\" x=\"395.005859\"/>\n     <use xlink:href=\"#DejaVuSans-20\" x=\"463.414062\"/>\n     <use xlink:href=\"#DejaVuSans-73\" x=\"495.201172\"/>\n     <use xlink:href=\"#DejaVuSans-6f\" x=\"547.300781\"/>\n     <use xlink:href=\"#DejaVuSans-6c\" x=\"608.482422\"/>\n     <use xlink:href=\"#DejaVuSans-75\" x=\"636.265625\"/>\n     <use xlink:href=\"#DejaVuSans-74\" x=\"699.644531\"/>\n     <use xlink:href=\"#DejaVuSans-69\" x=\"738.853516\"/>\n     <use xlink:href=\"#DejaVuSans-6f\" x=\"766.636719\"/>\n     <use xlink:href=\"#DejaVuSans-6e\" x=\"827.818359\"/>\n    </g>\n   </g>\n  </g>\n  <g id=\"axes_2\">\n   <g id=\"patch_7\">\n    <path d=\"M 324.571125 288.430125 \nL 337.876725 288.430125 \nL 337.876725 22.318125 \nL 324.571125 22.318125 \nz\n\" style=\"fill: #ffffff\"/>\n   </g>\n   <image xlink:href=\"data:image/png;base64,\niVBORw0KGgoAAAANSUhEUgAAABIAAAFyCAYAAAD4TYq5AAAB8UlEQVR4nO2d2w0CMQwEnUtKowT6L4VQgvkYodHKLmCVfdhJjtOxXut9C6iHAKmqOrUYrLOexQBRK+I0CqZWHDUGiHQNSraPWtmoYTkC7acGm48a59oku6tg17KTPTttU0rXdNRsrp0r1IgC8lHLTTaVI8z+YNemafsyJpvBMSb75jbthVwTJpsKZPI8ElLjXGOAspuWARJeIYz2Q0BGauNaBxS80wbPI+roZ6Q2gWyBdN0fPNiGWl/Rlxqba8KZrdNoqPU11P4JFKwR8jZcKan5Rm3wLqKjNhr1JWza5FGbS200agtb0cyjviaQPwBF28+ca5Pt97kWHUgMKDXZPrGVyWbs94ktdM3XtD6NJtk9EPSziPF85Ask17QVq9HKtT+aGgSEdT8ltlAjHzVwO7JRg5gpqXG9huDUeZI18lGDgIJde6CDVrBrwmQPtR+AhMmmqAW7ZgMCNaLutEJqwa7lziPQtQ8FpNMouWkh17aPGucao5Gwafdo1AIZkx07ancwNWyDpJqWWpFxOxIetIZaB0R1v3EXoQabsGmD5xHnmq1pwZ3W5hrYa9i9X6dR8MzOnUfcfU3nGhjI2Kc13GATniFljzSMTat7IwqcR0ydLdQI+o4WtSRyZmPUbB8uAV3TUeNcg/6qwKgRRk32Gf4vtfqN5qlVmUMAAAAASUVORK5CYII=\" id=\"imaged7a3d378e5\" transform=\"scale(1 -1) translate(0 -266.4)\" x=\"324.72\" y=\"-21.6\" width=\"12.96\" height=\"266.4\"/>\n   <g id=\"matplotlib.axis_3\"/>\n   <g id=\"matplotlib.axis_4\">\n    <g id=\"ytick_8\">\n     <g id=\"line2d_15\">\n      <defs>\n       <path id=\"mf266c89a04\" d=\"M 0 0 \nL 3.5 0 \n\" style=\"stroke: #000000; stroke-width: 0.8\"/>\n      </defs>\n      <g>\n       <use xlink:href=\"#mf266c89a04\" x=\"337.876725\" y=\"255.196189\" style=\"stroke: #000000; stroke-width: 0.8\"/>\n      </g>\n     </g>\n     <g id=\"text_18\">\n      <!-- 0.25 -->\n      <g transform=\"translate(344.876725 258.995407) scale(0.1 -0.1)\">\n       <defs>\n        <path id=\"DejaVuSans-2e\" d=\"M 684 794 \nL 1344 794 \nL 1344 0 \nL 684 0 \nL 684 794 \nz\n\" transform=\"scale(0.015625)\"/>\n       </defs>\n       <use xlink:href=\"#DejaVuSans-30\"/>\n       <use xlink:href=\"#DejaVuSans-2e\" x=\"63.623047\"/>\n       <use xlink:href=\"#DejaVuSans-32\" x=\"95.410156\"/>\n       <use xlink:href=\"#DejaVuSans-35\" x=\"159.033203\"/>\n      </g>\n     </g>\n    </g>\n    <g id=\"ytick_9\">\n     <g id=\"line2d_16\">\n      <g>\n       <use xlink:href=\"#mf266c89a04\" x=\"337.876725\" y=\"221.922167\" style=\"stroke: #000000; stroke-width: 0.8\"/>\n      </g>\n     </g>\n     <g id=\"text_19\">\n      <!-- 0.50 -->\n      <g transform=\"translate(344.876725 225.721386) scale(0.1 -0.1)\">\n       <use xlink:href=\"#DejaVuSans-30\"/>\n       <use xlink:href=\"#DejaVuSans-2e\" x=\"63.623047\"/>\n       <use xlink:href=\"#DejaVuSans-35\" x=\"95.410156\"/>\n       <use xlink:href=\"#DejaVuSans-30\" x=\"159.033203\"/>\n      </g>\n     </g>\n    </g>\n    <g id=\"ytick_10\">\n     <g id=\"line2d_17\">\n      <g>\n       <use xlink:href=\"#mf266c89a04\" x=\"337.876725\" y=\"188.648146\" style=\"stroke: #000000; stroke-width: 0.8\"/>\n      </g>\n     </g>\n     <g id=\"text_20\">\n      <!-- 0.75 -->\n      <g transform=\"translate(344.876725 192.447365) scale(0.1 -0.1)\">\n       <defs>\n        <path id=\"DejaVuSans-37\" d=\"M 525 4666 \nL 3525 4666 \nL 3525 4397 \nL 1831 0 \nL 1172 0 \nL 2766 4134 \nL 525 4134 \nL 525 4666 \nz\n\" transform=\"scale(0.015625)\"/>\n       </defs>\n       <use xlink:href=\"#DejaVuSans-30\"/>\n       <use xlink:href=\"#DejaVuSans-2e\" x=\"63.623047\"/>\n       <use xlink:href=\"#DejaVuSans-37\" x=\"95.410156\"/>\n       <use xlink:href=\"#DejaVuSans-35\" x=\"159.033203\"/>\n      </g>\n     </g>\n    </g>\n    <g id=\"ytick_11\">\n     <g id=\"line2d_18\">\n      <g>\n       <use xlink:href=\"#mf266c89a04\" x=\"337.876725\" y=\"155.374125\" style=\"stroke: #000000; stroke-width: 0.8\"/>\n      </g>\n     </g>\n     <g id=\"text_21\">\n      <!-- 1.00 -->\n      <g transform=\"translate(344.876725 159.173344) scale(0.1 -0.1)\">\n       <use xlink:href=\"#DejaVuSans-31\"/>\n       <use xlink:href=\"#DejaVuSans-2e\" x=\"63.623047\"/>\n       <use xlink:href=\"#DejaVuSans-30\" x=\"95.410156\"/>\n       <use xlink:href=\"#DejaVuSans-30\" x=\"159.033203\"/>\n      </g>\n     </g>\n    </g>\n    <g id=\"ytick_12\">\n     <g id=\"line2d_19\">\n      <g>\n       <use xlink:href=\"#mf266c89a04\" x=\"337.876725\" y=\"122.100104\" style=\"stroke: #000000; stroke-width: 0.8\"/>\n      </g>\n     </g>\n     <g id=\"text_22\">\n      <!-- 1.25 -->\n      <g transform=\"translate(344.876725 125.899323) scale(0.1 -0.1)\">\n       <use xlink:href=\"#DejaVuSans-31\"/>\n       <use xlink:href=\"#DejaVuSans-2e\" x=\"63.623047\"/>\n       <use xlink:href=\"#DejaVuSans-32\" x=\"95.410156\"/>\n       <use xlink:href=\"#DejaVuSans-35\" x=\"159.033203\"/>\n      </g>\n     </g>\n    </g>\n    <g id=\"ytick_13\">\n     <g id=\"line2d_20\">\n      <g>\n       <use xlink:href=\"#mf266c89a04\" x=\"337.876725\" y=\"88.826083\" style=\"stroke: #000000; stroke-width: 0.8\"/>\n      </g>\n     </g>\n     <g id=\"text_23\">\n      <!-- 1.50 -->\n      <g transform=\"translate(344.876725 92.625301) scale(0.1 -0.1)\">\n       <use xlink:href=\"#DejaVuSans-31\"/>\n       <use xlink:href=\"#DejaVuSans-2e\" x=\"63.623047\"/>\n       <use xlink:href=\"#DejaVuSans-35\" x=\"95.410156\"/>\n       <use xlink:href=\"#DejaVuSans-30\" x=\"159.033203\"/>\n      </g>\n     </g>\n    </g>\n    <g id=\"ytick_14\">\n     <g id=\"line2d_21\">\n      <g>\n       <use xlink:href=\"#mf266c89a04\" x=\"337.876725\" y=\"55.552061\" style=\"stroke: #000000; stroke-width: 0.8\"/>\n      </g>\n     </g>\n     <g id=\"text_24\">\n      <!-- 1.75 -->\n      <g transform=\"translate(344.876725 59.35128) scale(0.1 -0.1)\">\n       <use xlink:href=\"#DejaVuSans-31\"/>\n       <use xlink:href=\"#DejaVuSans-2e\" x=\"63.623047\"/>\n       <use xlink:href=\"#DejaVuSans-37\" x=\"95.410156\"/>\n       <use xlink:href=\"#DejaVuSans-35\" x=\"159.033203\"/>\n      </g>\n     </g>\n    </g>\n   </g>\n   <g id=\"LineCollection_1\"/>\n   <g id=\"patch_8\">\n    <path d=\"M 324.571125 288.430125 \nL 331.223925 288.430125 \nL 337.876725 288.430125 \nL 337.876725 22.318125 \nL 331.223925 22.318125 \nL 324.571125 22.318125 \nL 324.571125 288.430125 \nz\n\" style=\"fill: none; stroke: #000000; stroke-width: 0.8; stroke-linejoin: miter; stroke-linecap: square\"/>\n   </g>\n  </g>\n </g>\n <defs>\n  <clipPath id=\"pd8e5be72ee\">\n   <rect x=\"40.603125\" y=\"22.318125\" width=\"266.112\" height=\"266.112\"/>\n  </clipPath>\n </defs>\n</svg>\n"
     },
     "metadata": {},
     "output_type": "display_data"
    },
    {
     "data": {
      "text/plain": [
       "HTML(value=\"<a href='.\\\\tmpe87tyq36.pdf' target='_blank'>.\\\\tmpe87tyq36.pdf</a><br>\")"
      ],
      "application/vnd.jupyter.widget-view+json": {
       "version_major": 2,
       "version_minor": 0,
       "model_id": "675ad169418947df8509614efdb3edce"
      }
     },
     "metadata": {},
     "output_type": "display_data"
    }
   ],
   "execution_count": 13
  },
  {
   "metadata": {
    "ExecuteTime": {
     "end_time": "2024-10-15T11:13:46.390952Z",
     "start_time": "2024-10-15T11:13:46.387282Z"
    }
   },
   "cell_type": "code",
   "source": "solution_filename = [f for f in os.listdir(\"./out\") if \"solution\" in f][0]",
   "id": "c58862c96237cccf",
   "outputs": [],
   "execution_count": 14
  },
  {
   "metadata": {
    "ExecuteTime": {
     "end_time": "2024-10-15T11:13:46.403148Z",
     "start_time": "2024-10-15T11:13:46.391956Z"
    }
   },
   "cell_type": "code",
   "source": [
    "%%writefile to_vtk.jl\n",
    "using Trixi2Vtk\n",
    "trixi2vtk(joinpath(\"out\", ARGS[1]))"
   ],
   "id": "8d35a730ab764f86",
   "outputs": [
    {
     "name": "stdout",
     "output_type": "stream",
     "text": [
      "Overwriting to_vtk.jl\n"
     ]
    }
   ],
   "execution_count": 15
  },
  {
   "metadata": {
    "ExecuteTime": {
     "end_time": "2024-10-15T11:13:57.760570Z",
     "start_time": "2024-10-15T11:13:46.403148Z"
    }
   },
   "cell_type": "code",
   "source": "subprocess.run([\"julia\", \"to_vtk.jl\", solution_filename], check=True)",
   "id": "960cee65b6c01544",
   "outputs": [
    {
     "data": {
      "text/plain": [
       "CompletedProcess(args=['julia', 'to_vtk.jl', 'solution_000030.h5'], returncode=0)"
      ]
     },
     "execution_count": 16,
     "metadata": {},
     "output_type": "execute_result"
    }
   ],
   "execution_count": 16
  },
  {
   "metadata": {
    "ExecuteTime": {
     "end_time": "2024-10-15T11:13:57.770744Z",
     "start_time": "2024-10-15T11:13:57.761587Z"
    }
   },
   "cell_type": "code",
   "source": [
    "try:\n",
    "    vtu_filename = [f for f in os.listdir(\"./\") if \"vtu\" in f][0]\n",
    "    mesh = meshio.read(vtu_filename)\n",
    "    trixi_points = ((mesh.points[:,:2] + 1)*SETUP[\"nx\"]*SETUP[\"polydeg\"]/2).round().astype(np.int16)\n",
    "    assert trixi_points.shape[0] == SETUP[\"nx\"]**2 * (SETUP[\"polydeg\"] + 1)**2\n",
    "except Exception as e:\n",
    "    e.args += (list(os.walk(os.path.curdir)),)\n",
    "    raise e"
   ],
   "id": "451911db51e18682",
   "outputs": [],
   "execution_count": 17
  },
  {
   "metadata": {
    "ExecuteTime": {
     "end_time": "2024-10-15T11:13:57.784545Z",
     "start_time": "2024-10-15T11:13:57.771744Z"
    }
   },
   "cell_type": "code",
   "source": [
    "trixi_output = np.zeros(pympdata_result_state.shape)\n",
    "for i in range(trixi_points.shape[0]):\n",
    "    trixi_output[trixi_points[i][0], trixi_points[i][1]] = mesh.point_data['scalar'][i][0]"
   ],
   "id": "58595cff705f196c",
   "outputs": [],
   "execution_count": 18
  },
  {
   "metadata": {
    "ExecuteTime": {
     "end_time": "2024-10-15T11:13:58.058042Z",
     "start_time": "2024-10-15T11:13:57.785550Z"
    }
   },
   "cell_type": "code",
   "source": [
    "plt.imshow(trixi_output, cmap='viridis', vmin=vmin, vmax=vmax)\n",
    "plt.colorbar()\n",
    "plt.xlabel('x')\n",
    "plt.ylabel('y')\n",
    "plt.title(\"Trixi solution\")\n",
    "show_plot()"
   ],
   "id": "a126dbabdf719ee3",
   "outputs": [
    {
     "data": {
      "text/plain": [
       "<Figure size 640x480 with 2 Axes>"
      ],
      "image/svg+xml": "<?xml version=\"1.0\" encoding=\"utf-8\" standalone=\"no\"?>\n<!DOCTYPE svg PUBLIC \"-//W3C//DTD SVG 1.1//EN\"\n  \"http://www.w3.org/Graphics/SVG/1.1/DTD/svg11.dtd\">\n<svg xmlns:xlink=\"http://www.w3.org/1999/xlink\" width=\"374.34235pt\" height=\"325.986375pt\" viewBox=\"0 0 374.34235 325.986375\" xmlns=\"http://www.w3.org/2000/svg\" version=\"1.1\">\n <metadata>\n  <rdf:RDF xmlns:dc=\"http://purl.org/dc/elements/1.1/\" xmlns:cc=\"http://creativecommons.org/ns#\" xmlns:rdf=\"http://www.w3.org/1999/02/22-rdf-syntax-ns#\">\n   <cc:Work>\n    <dc:type rdf:resource=\"http://purl.org/dc/dcmitype/StillImage\"/>\n    <dc:date>2024-10-15T13:13:58.011584</dc:date>\n    <dc:format>image/svg+xml</dc:format>\n    <dc:creator>\n     <cc:Agent>\n      <dc:title>Matplotlib v3.9.1, https://matplotlib.org/</dc:title>\n     </cc:Agent>\n    </dc:creator>\n   </cc:Work>\n  </rdf:RDF>\n </metadata>\n <defs>\n  <style type=\"text/css\">*{stroke-linejoin: round; stroke-linecap: butt}</style>\n </defs>\n <g id=\"figure_1\">\n  <g id=\"patch_1\">\n   <path d=\"M 0 325.986375 \nL 374.34235 325.986375 \nL 374.34235 0 \nL 0 0 \nz\n\" style=\"fill: #ffffff\"/>\n  </g>\n  <g id=\"axes_1\">\n   <g id=\"patch_2\">\n    <path d=\"M 40.603125 288.430125 \nL 306.715125 288.430125 \nL 306.715125 22.318125 \nL 40.603125 22.318125 \nz\n\" style=\"fill: #ffffff\"/>\n   </g>\n   <g clip-path=\"url(#p829c4734db)\">\n    <image xlink:href=\"data:image/png;base64,\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\" id=\"imageb3ac5224d6\" transform=\"scale(1 -1) translate(0 -266.4)\" x=\"40.603125\" y=\"-22.030125\" width=\"266.4\" height=\"266.4\"/>\n   </g>\n   <g id=\"matplotlib.axis_1\">\n    <g id=\"xtick_1\">\n     <g id=\"line2d_1\">\n      <defs>\n       <path id=\"m195163cd38\" d=\"M 0 0 \nL 0 3.5 \n\" style=\"stroke: #000000; stroke-width: 0.8\"/>\n      </defs>\n      <g>\n       <use xlink:href=\"#m195163cd38\" x=\"42.65014\" y=\"288.430125\" style=\"stroke: #000000; stroke-width: 0.8\"/>\n      </g>\n     </g>\n     <g id=\"text_1\">\n      <!-- 0 -->\n      <g transform=\"translate(39.46889 303.028562) scale(0.1 -0.1)\">\n       <defs>\n        <path id=\"DejaVuSans-30\" d=\"M 2034 4250 \nQ 1547 4250 1301 3770 \nQ 1056 3291 1056 2328 \nQ 1056 1369 1301 889 \nQ 1547 409 2034 409 \nQ 2525 409 2770 889 \nQ 3016 1369 3016 2328 \nQ 3016 3291 2770 3770 \nQ 2525 4250 2034 4250 \nz\nM 2034 4750 \nQ 2819 4750 3233 4129 \nQ 3647 3509 3647 2328 \nQ 3647 1150 3233 529 \nQ 2819 -91 2034 -91 \nQ 1250 -91 836 529 \nQ 422 1150 422 2328 \nQ 422 3509 836 4129 \nQ 1250 4750 2034 4750 \nz\n\" transform=\"scale(0.015625)\"/>\n       </defs>\n       <use xlink:href=\"#DejaVuSans-30\"/>\n      </g>\n     </g>\n    </g>\n    <g id=\"xtick_2\">\n     <g id=\"line2d_2\">\n      <g>\n       <use xlink:href=\"#m195163cd38\" x=\"83.590448\" y=\"288.430125\" style=\"stroke: #000000; stroke-width: 0.8\"/>\n      </g>\n     </g>\n     <g id=\"text_2\">\n      <!-- 10 -->\n      <g transform=\"translate(77.227948 303.028562) scale(0.1 -0.1)\">\n       <defs>\n        <path id=\"DejaVuSans-31\" d=\"M 794 531 \nL 1825 531 \nL 1825 4091 \nL 703 3866 \nL 703 4441 \nL 1819 4666 \nL 2450 4666 \nL 2450 531 \nL 3481 531 \nL 3481 0 \nL 794 0 \nL 794 531 \nz\n\" transform=\"scale(0.015625)\"/>\n       </defs>\n       <use xlink:href=\"#DejaVuSans-31\"/>\n       <use xlink:href=\"#DejaVuSans-30\" x=\"63.623047\"/>\n      </g>\n     </g>\n    </g>\n    <g id=\"xtick_3\">\n     <g id=\"line2d_3\">\n      <g>\n       <use xlink:href=\"#m195163cd38\" x=\"124.530756\" y=\"288.430125\" style=\"stroke: #000000; stroke-width: 0.8\"/>\n      </g>\n     </g>\n     <g id=\"text_3\">\n      <!-- 20 -->\n      <g transform=\"translate(118.168256 303.028562) scale(0.1 -0.1)\">\n       <defs>\n        <path id=\"DejaVuSans-32\" d=\"M 1228 531 \nL 3431 531 \nL 3431 0 \nL 469 0 \nL 469 531 \nQ 828 903 1448 1529 \nQ 2069 2156 2228 2338 \nQ 2531 2678 2651 2914 \nQ 2772 3150 2772 3378 \nQ 2772 3750 2511 3984 \nQ 2250 4219 1831 4219 \nQ 1534 4219 1204 4116 \nQ 875 4013 500 3803 \nL 500 4441 \nQ 881 4594 1212 4672 \nQ 1544 4750 1819 4750 \nQ 2544 4750 2975 4387 \nQ 3406 4025 3406 3419 \nQ 3406 3131 3298 2873 \nQ 3191 2616 2906 2266 \nQ 2828 2175 2409 1742 \nQ 1991 1309 1228 531 \nz\n\" transform=\"scale(0.015625)\"/>\n       </defs>\n       <use xlink:href=\"#DejaVuSans-32\"/>\n       <use xlink:href=\"#DejaVuSans-30\" x=\"63.623047\"/>\n      </g>\n     </g>\n    </g>\n    <g id=\"xtick_4\">\n     <g id=\"line2d_4\">\n      <g>\n       <use xlink:href=\"#m195163cd38\" x=\"165.471063\" y=\"288.430125\" style=\"stroke: #000000; stroke-width: 0.8\"/>\n      </g>\n     </g>\n     <g id=\"text_4\">\n      <!-- 30 -->\n      <g transform=\"translate(159.108563 303.028562) scale(0.1 -0.1)\">\n       <defs>\n        <path id=\"DejaVuSans-33\" d=\"M 2597 2516 \nQ 3050 2419 3304 2112 \nQ 3559 1806 3559 1356 \nQ 3559 666 3084 287 \nQ 2609 -91 1734 -91 \nQ 1441 -91 1130 -33 \nQ 819 25 488 141 \nL 488 750 \nQ 750 597 1062 519 \nQ 1375 441 1716 441 \nQ 2309 441 2620 675 \nQ 2931 909 2931 1356 \nQ 2931 1769 2642 2001 \nQ 2353 2234 1838 2234 \nL 1294 2234 \nL 1294 2753 \nL 1863 2753 \nQ 2328 2753 2575 2939 \nQ 2822 3125 2822 3475 \nQ 2822 3834 2567 4026 \nQ 2313 4219 1838 4219 \nQ 1578 4219 1281 4162 \nQ 984 4106 628 3988 \nL 628 4550 \nQ 988 4650 1302 4700 \nQ 1616 4750 1894 4750 \nQ 2613 4750 3031 4423 \nQ 3450 4097 3450 3541 \nQ 3450 3153 3228 2886 \nQ 3006 2619 2597 2516 \nz\n\" transform=\"scale(0.015625)\"/>\n       </defs>\n       <use xlink:href=\"#DejaVuSans-33\"/>\n       <use xlink:href=\"#DejaVuSans-30\" x=\"63.623047\"/>\n      </g>\n     </g>\n    </g>\n    <g id=\"xtick_5\">\n     <g id=\"line2d_5\">\n      <g>\n       <use xlink:href=\"#m195163cd38\" x=\"206.411371\" y=\"288.430125\" style=\"stroke: #000000; stroke-width: 0.8\"/>\n      </g>\n     </g>\n     <g id=\"text_5\">\n      <!-- 40 -->\n      <g transform=\"translate(200.048871 303.028562) scale(0.1 -0.1)\">\n       <defs>\n        <path id=\"DejaVuSans-34\" d=\"M 2419 4116 \nL 825 1625 \nL 2419 1625 \nL 2419 4116 \nz\nM 2253 4666 \nL 3047 4666 \nL 3047 1625 \nL 3713 1625 \nL 3713 1100 \nL 3047 1100 \nL 3047 0 \nL 2419 0 \nL 2419 1100 \nL 313 1100 \nL 313 1709 \nL 2253 4666 \nz\n\" transform=\"scale(0.015625)\"/>\n       </defs>\n       <use xlink:href=\"#DejaVuSans-34\"/>\n       <use xlink:href=\"#DejaVuSans-30\" x=\"63.623047\"/>\n      </g>\n     </g>\n    </g>\n    <g id=\"xtick_6\">\n     <g id=\"line2d_6\">\n      <g>\n       <use xlink:href=\"#m195163cd38\" x=\"247.351679\" y=\"288.430125\" style=\"stroke: #000000; stroke-width: 0.8\"/>\n      </g>\n     </g>\n     <g id=\"text_6\">\n      <!-- 50 -->\n      <g transform=\"translate(240.989179 303.028562) scale(0.1 -0.1)\">\n       <defs>\n        <path id=\"DejaVuSans-35\" d=\"M 691 4666 \nL 3169 4666 \nL 3169 4134 \nL 1269 4134 \nL 1269 2991 \nQ 1406 3038 1543 3061 \nQ 1681 3084 1819 3084 \nQ 2600 3084 3056 2656 \nQ 3513 2228 3513 1497 \nQ 3513 744 3044 326 \nQ 2575 -91 1722 -91 \nQ 1428 -91 1123 -41 \nQ 819 9 494 109 \nL 494 744 \nQ 775 591 1075 516 \nQ 1375 441 1709 441 \nQ 2250 441 2565 725 \nQ 2881 1009 2881 1497 \nQ 2881 1984 2565 2268 \nQ 2250 2553 1709 2553 \nQ 1456 2553 1204 2497 \nQ 953 2441 691 2322 \nL 691 4666 \nz\n\" transform=\"scale(0.015625)\"/>\n       </defs>\n       <use xlink:href=\"#DejaVuSans-35\"/>\n       <use xlink:href=\"#DejaVuSans-30\" x=\"63.623047\"/>\n      </g>\n     </g>\n    </g>\n    <g id=\"xtick_7\">\n     <g id=\"line2d_7\">\n      <g>\n       <use xlink:href=\"#m195163cd38\" x=\"288.291987\" y=\"288.430125\" style=\"stroke: #000000; stroke-width: 0.8\"/>\n      </g>\n     </g>\n     <g id=\"text_7\">\n      <!-- 60 -->\n      <g transform=\"translate(281.929487 303.028562) scale(0.1 -0.1)\">\n       <defs>\n        <path id=\"DejaVuSans-36\" d=\"M 2113 2584 \nQ 1688 2584 1439 2293 \nQ 1191 2003 1191 1497 \nQ 1191 994 1439 701 \nQ 1688 409 2113 409 \nQ 2538 409 2786 701 \nQ 3034 994 3034 1497 \nQ 3034 2003 2786 2293 \nQ 2538 2584 2113 2584 \nz\nM 3366 4563 \nL 3366 3988 \nQ 3128 4100 2886 4159 \nQ 2644 4219 2406 4219 \nQ 1781 4219 1451 3797 \nQ 1122 3375 1075 2522 \nQ 1259 2794 1537 2939 \nQ 1816 3084 2150 3084 \nQ 2853 3084 3261 2657 \nQ 3669 2231 3669 1497 \nQ 3669 778 3244 343 \nQ 2819 -91 2113 -91 \nQ 1303 -91 875 529 \nQ 447 1150 447 2328 \nQ 447 3434 972 4092 \nQ 1497 4750 2381 4750 \nQ 2619 4750 2861 4703 \nQ 3103 4656 3366 4563 \nz\n\" transform=\"scale(0.015625)\"/>\n       </defs>\n       <use xlink:href=\"#DejaVuSans-36\"/>\n       <use xlink:href=\"#DejaVuSans-30\" x=\"63.623047\"/>\n      </g>\n     </g>\n    </g>\n    <g id=\"text_8\">\n     <!-- x -->\n     <g transform=\"translate(170.69975 316.706687) scale(0.1 -0.1)\">\n      <defs>\n       <path id=\"DejaVuSans-78\" d=\"M 3513 3500 \nL 2247 1797 \nL 3578 0 \nL 2900 0 \nL 1881 1375 \nL 863 0 \nL 184 0 \nL 1544 1831 \nL 300 3500 \nL 978 3500 \nL 1906 2253 \nL 2834 3500 \nL 3513 3500 \nz\n\" transform=\"scale(0.015625)\"/>\n      </defs>\n      <use xlink:href=\"#DejaVuSans-78\"/>\n     </g>\n    </g>\n   </g>\n   <g id=\"matplotlib.axis_2\">\n    <g id=\"ytick_1\">\n     <g id=\"line2d_8\">\n      <defs>\n       <path id=\"mcbd86b4a13\" d=\"M 0 0 \nL -3.5 0 \n\" style=\"stroke: #000000; stroke-width: 0.8\"/>\n      </defs>\n      <g>\n       <use xlink:href=\"#mcbd86b4a13\" x=\"40.603125\" y=\"24.36514\" style=\"stroke: #000000; stroke-width: 0.8\"/>\n      </g>\n     </g>\n     <g id=\"text_9\">\n      <!-- 0 -->\n      <g transform=\"translate(27.240625 28.164359) scale(0.1 -0.1)\">\n       <use xlink:href=\"#DejaVuSans-30\"/>\n      </g>\n     </g>\n    </g>\n    <g id=\"ytick_2\">\n     <g id=\"line2d_9\">\n      <g>\n       <use xlink:href=\"#mcbd86b4a13\" x=\"40.603125\" y=\"65.305448\" style=\"stroke: #000000; stroke-width: 0.8\"/>\n      </g>\n     </g>\n     <g id=\"text_10\">\n      <!-- 10 -->\n      <g transform=\"translate(20.878125 69.104667) scale(0.1 -0.1)\">\n       <use xlink:href=\"#DejaVuSans-31\"/>\n       <use xlink:href=\"#DejaVuSans-30\" x=\"63.623047\"/>\n      </g>\n     </g>\n    </g>\n    <g id=\"ytick_3\">\n     <g id=\"line2d_10\">\n      <g>\n       <use xlink:href=\"#mcbd86b4a13\" x=\"40.603125\" y=\"106.245756\" style=\"stroke: #000000; stroke-width: 0.8\"/>\n      </g>\n     </g>\n     <g id=\"text_11\">\n      <!-- 20 -->\n      <g transform=\"translate(20.878125 110.044975) scale(0.1 -0.1)\">\n       <use xlink:href=\"#DejaVuSans-32\"/>\n       <use xlink:href=\"#DejaVuSans-30\" x=\"63.623047\"/>\n      </g>\n     </g>\n    </g>\n    <g id=\"ytick_4\">\n     <g id=\"line2d_11\">\n      <g>\n       <use xlink:href=\"#mcbd86b4a13\" x=\"40.603125\" y=\"147.186063\" style=\"stroke: #000000; stroke-width: 0.8\"/>\n      </g>\n     </g>\n     <g id=\"text_12\">\n      <!-- 30 -->\n      <g transform=\"translate(20.878125 150.985282) scale(0.1 -0.1)\">\n       <use xlink:href=\"#DejaVuSans-33\"/>\n       <use xlink:href=\"#DejaVuSans-30\" x=\"63.623047\"/>\n      </g>\n     </g>\n    </g>\n    <g id=\"ytick_5\">\n     <g id=\"line2d_12\">\n      <g>\n       <use xlink:href=\"#mcbd86b4a13\" x=\"40.603125\" y=\"188.126371\" style=\"stroke: #000000; stroke-width: 0.8\"/>\n      </g>\n     </g>\n     <g id=\"text_13\">\n      <!-- 40 -->\n      <g transform=\"translate(20.878125 191.92559) scale(0.1 -0.1)\">\n       <use xlink:href=\"#DejaVuSans-34\"/>\n       <use xlink:href=\"#DejaVuSans-30\" x=\"63.623047\"/>\n      </g>\n     </g>\n    </g>\n    <g id=\"ytick_6\">\n     <g id=\"line2d_13\">\n      <g>\n       <use xlink:href=\"#mcbd86b4a13\" x=\"40.603125\" y=\"229.066679\" style=\"stroke: #000000; stroke-width: 0.8\"/>\n      </g>\n     </g>\n     <g id=\"text_14\">\n      <!-- 50 -->\n      <g transform=\"translate(20.878125 232.865898) scale(0.1 -0.1)\">\n       <use xlink:href=\"#DejaVuSans-35\"/>\n       <use xlink:href=\"#DejaVuSans-30\" x=\"63.623047\"/>\n      </g>\n     </g>\n    </g>\n    <g id=\"ytick_7\">\n     <g id=\"line2d_14\">\n      <g>\n       <use xlink:href=\"#mcbd86b4a13\" x=\"40.603125\" y=\"270.006987\" style=\"stroke: #000000; stroke-width: 0.8\"/>\n      </g>\n     </g>\n     <g id=\"text_15\">\n      <!-- 60 -->\n      <g transform=\"translate(20.878125 273.806205) scale(0.1 -0.1)\">\n       <use xlink:href=\"#DejaVuSans-36\"/>\n       <use xlink:href=\"#DejaVuSans-30\" x=\"63.623047\"/>\n      </g>\n     </g>\n    </g>\n    <g id=\"text_16\">\n     <!-- y -->\n     <g transform=\"translate(14.798438 158.3335) rotate(-90) scale(0.1 -0.1)\">\n      <defs>\n       <path id=\"DejaVuSans-79\" d=\"M 2059 -325 \nQ 1816 -950 1584 -1140 \nQ 1353 -1331 966 -1331 \nL 506 -1331 \nL 506 -850 \nL 844 -850 \nQ 1081 -850 1212 -737 \nQ 1344 -625 1503 -206 \nL 1606 56 \nL 191 3500 \nL 800 3500 \nL 1894 763 \nL 2988 3500 \nL 3597 3500 \nL 2059 -325 \nz\n\" transform=\"scale(0.015625)\"/>\n      </defs>\n      <use xlink:href=\"#DejaVuSans-79\"/>\n     </g>\n    </g>\n   </g>\n   <g id=\"patch_3\">\n    <path d=\"M 40.603125 288.430125 \nL 40.603125 22.318125 \n\" style=\"fill: none; stroke: #000000; stroke-width: 0.8; stroke-linejoin: miter; stroke-linecap: square\"/>\n   </g>\n   <g id=\"patch_4\">\n    <path d=\"M 306.715125 288.430125 \nL 306.715125 22.318125 \n\" style=\"fill: none; stroke: #000000; stroke-width: 0.8; stroke-linejoin: miter; stroke-linecap: square\"/>\n   </g>\n   <g id=\"patch_5\">\n    <path d=\"M 40.603125 288.430125 \nL 306.715125 288.430125 \n\" style=\"fill: none; stroke: #000000; stroke-width: 0.8; stroke-linejoin: miter; stroke-linecap: square\"/>\n   </g>\n   <g id=\"patch_6\">\n    <path d=\"M 40.603125 22.318125 \nL 306.715125 22.318125 \n\" style=\"fill: none; stroke: #000000; stroke-width: 0.8; stroke-linejoin: miter; stroke-linecap: square\"/>\n   </g>\n   <g id=\"text_17\">\n    <!-- Trixi solution -->\n    <g transform=\"translate(135.861937 16.318125) scale(0.12 -0.12)\">\n     <defs>\n      <path id=\"DejaVuSans-54\" d=\"M -19 4666 \nL 3928 4666 \nL 3928 4134 \nL 2272 4134 \nL 2272 0 \nL 1638 0 \nL 1638 4134 \nL -19 4134 \nL -19 4666 \nz\n\" transform=\"scale(0.015625)\"/>\n      <path id=\"DejaVuSans-72\" d=\"M 2631 2963 \nQ 2534 3019 2420 3045 \nQ 2306 3072 2169 3072 \nQ 1681 3072 1420 2755 \nQ 1159 2438 1159 1844 \nL 1159 0 \nL 581 0 \nL 581 3500 \nL 1159 3500 \nL 1159 2956 \nQ 1341 3275 1631 3429 \nQ 1922 3584 2338 3584 \nQ 2397 3584 2469 3576 \nQ 2541 3569 2628 3553 \nL 2631 2963 \nz\n\" transform=\"scale(0.015625)\"/>\n      <path id=\"DejaVuSans-69\" d=\"M 603 3500 \nL 1178 3500 \nL 1178 0 \nL 603 0 \nL 603 3500 \nz\nM 603 4863 \nL 1178 4863 \nL 1178 4134 \nL 603 4134 \nL 603 4863 \nz\n\" transform=\"scale(0.015625)\"/>\n      <path id=\"DejaVuSans-20\" transform=\"scale(0.015625)\"/>\n      <path id=\"DejaVuSans-73\" d=\"M 2834 3397 \nL 2834 2853 \nQ 2591 2978 2328 3040 \nQ 2066 3103 1784 3103 \nQ 1356 3103 1142 2972 \nQ 928 2841 928 2578 \nQ 928 2378 1081 2264 \nQ 1234 2150 1697 2047 \nL 1894 2003 \nQ 2506 1872 2764 1633 \nQ 3022 1394 3022 966 \nQ 3022 478 2636 193 \nQ 2250 -91 1575 -91 \nQ 1294 -91 989 -36 \nQ 684 19 347 128 \nL 347 722 \nQ 666 556 975 473 \nQ 1284 391 1588 391 \nQ 1994 391 2212 530 \nQ 2431 669 2431 922 \nQ 2431 1156 2273 1281 \nQ 2116 1406 1581 1522 \nL 1381 1569 \nQ 847 1681 609 1914 \nQ 372 2147 372 2553 \nQ 372 3047 722 3315 \nQ 1072 3584 1716 3584 \nQ 2034 3584 2315 3537 \nQ 2597 3491 2834 3397 \nz\n\" transform=\"scale(0.015625)\"/>\n      <path id=\"DejaVuSans-6f\" d=\"M 1959 3097 \nQ 1497 3097 1228 2736 \nQ 959 2375 959 1747 \nQ 959 1119 1226 758 \nQ 1494 397 1959 397 \nQ 2419 397 2687 759 \nQ 2956 1122 2956 1747 \nQ 2956 2369 2687 2733 \nQ 2419 3097 1959 3097 \nz\nM 1959 3584 \nQ 2709 3584 3137 3096 \nQ 3566 2609 3566 1747 \nQ 3566 888 3137 398 \nQ 2709 -91 1959 -91 \nQ 1206 -91 779 398 \nQ 353 888 353 1747 \nQ 353 2609 779 3096 \nQ 1206 3584 1959 3584 \nz\n\" transform=\"scale(0.015625)\"/>\n      <path id=\"DejaVuSans-6c\" d=\"M 603 4863 \nL 1178 4863 \nL 1178 0 \nL 603 0 \nL 603 4863 \nz\n\" transform=\"scale(0.015625)\"/>\n      <path id=\"DejaVuSans-75\" d=\"M 544 1381 \nL 544 3500 \nL 1119 3500 \nL 1119 1403 \nQ 1119 906 1312 657 \nQ 1506 409 1894 409 \nQ 2359 409 2629 706 \nQ 2900 1003 2900 1516 \nL 2900 3500 \nL 3475 3500 \nL 3475 0 \nL 2900 0 \nL 2900 538 \nQ 2691 219 2414 64 \nQ 2138 -91 1772 -91 \nQ 1169 -91 856 284 \nQ 544 659 544 1381 \nz\nM 1991 3584 \nL 1991 3584 \nz\n\" transform=\"scale(0.015625)\"/>\n      <path id=\"DejaVuSans-74\" d=\"M 1172 4494 \nL 1172 3500 \nL 2356 3500 \nL 2356 3053 \nL 1172 3053 \nL 1172 1153 \nQ 1172 725 1289 603 \nQ 1406 481 1766 481 \nL 2356 481 \nL 2356 0 \nL 1766 0 \nQ 1100 0 847 248 \nQ 594 497 594 1153 \nL 594 3053 \nL 172 3053 \nL 172 3500 \nL 594 3500 \nL 594 4494 \nL 1172 4494 \nz\n\" transform=\"scale(0.015625)\"/>\n      <path id=\"DejaVuSans-6e\" d=\"M 3513 2113 \nL 3513 0 \nL 2938 0 \nL 2938 2094 \nQ 2938 2591 2744 2837 \nQ 2550 3084 2163 3084 \nQ 1697 3084 1428 2787 \nQ 1159 2491 1159 1978 \nL 1159 0 \nL 581 0 \nL 581 3500 \nL 1159 3500 \nL 1159 2956 \nQ 1366 3272 1645 3428 \nQ 1925 3584 2291 3584 \nQ 2894 3584 3203 3211 \nQ 3513 2838 3513 2113 \nz\n\" transform=\"scale(0.015625)\"/>\n     </defs>\n     <use xlink:href=\"#DejaVuSans-54\"/>\n     <use xlink:href=\"#DejaVuSans-72\" x=\"46.333984\"/>\n     <use xlink:href=\"#DejaVuSans-69\" x=\"87.447266\"/>\n     <use xlink:href=\"#DejaVuSans-78\" x=\"115.230469\"/>\n     <use xlink:href=\"#DejaVuSans-69\" x=\"174.410156\"/>\n     <use xlink:href=\"#DejaVuSans-20\" x=\"202.193359\"/>\n     <use xlink:href=\"#DejaVuSans-73\" x=\"233.980469\"/>\n     <use xlink:href=\"#DejaVuSans-6f\" x=\"286.080078\"/>\n     <use xlink:href=\"#DejaVuSans-6c\" x=\"347.261719\"/>\n     <use xlink:href=\"#DejaVuSans-75\" x=\"375.044922\"/>\n     <use xlink:href=\"#DejaVuSans-74\" x=\"438.423828\"/>\n     <use xlink:href=\"#DejaVuSans-69\" x=\"477.632812\"/>\n     <use xlink:href=\"#DejaVuSans-6f\" x=\"505.416016\"/>\n     <use xlink:href=\"#DejaVuSans-6e\" x=\"566.597656\"/>\n    </g>\n   </g>\n  </g>\n  <g id=\"axes_2\">\n   <g id=\"patch_7\">\n    <path d=\"M 324.571125 288.430125 \nL 337.876725 288.430125 \nL 337.876725 22.318125 \nL 324.571125 22.318125 \nz\n\" style=\"fill: #ffffff\"/>\n   </g>\n   <image xlink:href=\"data:image/png;base64,\niVBORw0KGgoAAAANSUhEUgAAABIAAAFyCAYAAAD4TYq5AAAB8UlEQVR4nO2d2w0CMQwEnUtKowT6L4VQgvkYodHKLmCVfdhJjtOxXut9C6iHAKmqOrUYrLOexQBRK+I0CqZWHDUGiHQNSraPWtmoYTkC7acGm48a59oku6tg17KTPTttU0rXdNRsrp0r1IgC8lHLTTaVI8z+YNemafsyJpvBMSb75jbthVwTJpsKZPI8ElLjXGOAspuWARJeIYz2Q0BGauNaBxS80wbPI+roZ6Q2gWyBdN0fPNiGWl/Rlxqba8KZrdNoqPU11P4JFKwR8jZcKan5Rm3wLqKjNhr1JWza5FGbS200agtb0cyjviaQPwBF28+ca5Pt97kWHUgMKDXZPrGVyWbs94ktdM3XtD6NJtk9EPSziPF85Ask17QVq9HKtT+aGgSEdT8ltlAjHzVwO7JRg5gpqXG9huDUeZI18lGDgIJde6CDVrBrwmQPtR+AhMmmqAW7ZgMCNaLutEJqwa7lziPQtQ8FpNMouWkh17aPGucao5Gwafdo1AIZkx07ancwNWyDpJqWWpFxOxIetIZaB0R1v3EXoQabsGmD5xHnmq1pwZ3W5hrYa9i9X6dR8MzOnUfcfU3nGhjI2Kc13GATniFljzSMTat7IwqcR0ydLdQI+o4WtSRyZmPUbB8uAV3TUeNcg/6qwKgRRk32Gf4vtfqN5qlVmUMAAAAASUVORK5CYII=\" id=\"image50443eefe2\" transform=\"scale(1 -1) translate(0 -266.4)\" x=\"324.72\" y=\"-21.6\" width=\"12.96\" height=\"266.4\"/>\n   <g id=\"matplotlib.axis_3\"/>\n   <g id=\"matplotlib.axis_4\">\n    <g id=\"ytick_8\">\n     <g id=\"line2d_15\">\n      <defs>\n       <path id=\"m736de8d918\" d=\"M 0 0 \nL 3.5 0 \n\" style=\"stroke: #000000; stroke-width: 0.8\"/>\n      </defs>\n      <g>\n       <use xlink:href=\"#m736de8d918\" x=\"337.876725\" y=\"255.196189\" style=\"stroke: #000000; stroke-width: 0.8\"/>\n      </g>\n     </g>\n     <g id=\"text_18\">\n      <!-- 0.25 -->\n      <g transform=\"translate(344.876725 258.995407) scale(0.1 -0.1)\">\n       <defs>\n        <path id=\"DejaVuSans-2e\" d=\"M 684 794 \nL 1344 794 \nL 1344 0 \nL 684 0 \nL 684 794 \nz\n\" transform=\"scale(0.015625)\"/>\n       </defs>\n       <use xlink:href=\"#DejaVuSans-30\"/>\n       <use xlink:href=\"#DejaVuSans-2e\" x=\"63.623047\"/>\n       <use xlink:href=\"#DejaVuSans-32\" x=\"95.410156\"/>\n       <use xlink:href=\"#DejaVuSans-35\" x=\"159.033203\"/>\n      </g>\n     </g>\n    </g>\n    <g id=\"ytick_9\">\n     <g id=\"line2d_16\">\n      <g>\n       <use xlink:href=\"#m736de8d918\" x=\"337.876725\" y=\"221.922167\" style=\"stroke: #000000; stroke-width: 0.8\"/>\n      </g>\n     </g>\n     <g id=\"text_19\">\n      <!-- 0.50 -->\n      <g transform=\"translate(344.876725 225.721386) scale(0.1 -0.1)\">\n       <use xlink:href=\"#DejaVuSans-30\"/>\n       <use xlink:href=\"#DejaVuSans-2e\" x=\"63.623047\"/>\n       <use xlink:href=\"#DejaVuSans-35\" x=\"95.410156\"/>\n       <use xlink:href=\"#DejaVuSans-30\" x=\"159.033203\"/>\n      </g>\n     </g>\n    </g>\n    <g id=\"ytick_10\">\n     <g id=\"line2d_17\">\n      <g>\n       <use xlink:href=\"#m736de8d918\" x=\"337.876725\" y=\"188.648146\" style=\"stroke: #000000; stroke-width: 0.8\"/>\n      </g>\n     </g>\n     <g id=\"text_20\">\n      <!-- 0.75 -->\n      <g transform=\"translate(344.876725 192.447365) scale(0.1 -0.1)\">\n       <defs>\n        <path id=\"DejaVuSans-37\" d=\"M 525 4666 \nL 3525 4666 \nL 3525 4397 \nL 1831 0 \nL 1172 0 \nL 2766 4134 \nL 525 4134 \nL 525 4666 \nz\n\" transform=\"scale(0.015625)\"/>\n       </defs>\n       <use xlink:href=\"#DejaVuSans-30\"/>\n       <use xlink:href=\"#DejaVuSans-2e\" x=\"63.623047\"/>\n       <use xlink:href=\"#DejaVuSans-37\" x=\"95.410156\"/>\n       <use xlink:href=\"#DejaVuSans-35\" x=\"159.033203\"/>\n      </g>\n     </g>\n    </g>\n    <g id=\"ytick_11\">\n     <g id=\"line2d_18\">\n      <g>\n       <use xlink:href=\"#m736de8d918\" x=\"337.876725\" y=\"155.374125\" style=\"stroke: #000000; stroke-width: 0.8\"/>\n      </g>\n     </g>\n     <g id=\"text_21\">\n      <!-- 1.00 -->\n      <g transform=\"translate(344.876725 159.173344) scale(0.1 -0.1)\">\n       <use xlink:href=\"#DejaVuSans-31\"/>\n       <use xlink:href=\"#DejaVuSans-2e\" x=\"63.623047\"/>\n       <use xlink:href=\"#DejaVuSans-30\" x=\"95.410156\"/>\n       <use xlink:href=\"#DejaVuSans-30\" x=\"159.033203\"/>\n      </g>\n     </g>\n    </g>\n    <g id=\"ytick_12\">\n     <g id=\"line2d_19\">\n      <g>\n       <use xlink:href=\"#m736de8d918\" x=\"337.876725\" y=\"122.100104\" style=\"stroke: #000000; stroke-width: 0.8\"/>\n      </g>\n     </g>\n     <g id=\"text_22\">\n      <!-- 1.25 -->\n      <g transform=\"translate(344.876725 125.899323) scale(0.1 -0.1)\">\n       <use xlink:href=\"#DejaVuSans-31\"/>\n       <use xlink:href=\"#DejaVuSans-2e\" x=\"63.623047\"/>\n       <use xlink:href=\"#DejaVuSans-32\" x=\"95.410156\"/>\n       <use xlink:href=\"#DejaVuSans-35\" x=\"159.033203\"/>\n      </g>\n     </g>\n    </g>\n    <g id=\"ytick_13\">\n     <g id=\"line2d_20\">\n      <g>\n       <use xlink:href=\"#m736de8d918\" x=\"337.876725\" y=\"88.826083\" style=\"stroke: #000000; stroke-width: 0.8\"/>\n      </g>\n     </g>\n     <g id=\"text_23\">\n      <!-- 1.50 -->\n      <g transform=\"translate(344.876725 92.625301) scale(0.1 -0.1)\">\n       <use xlink:href=\"#DejaVuSans-31\"/>\n       <use xlink:href=\"#DejaVuSans-2e\" x=\"63.623047\"/>\n       <use xlink:href=\"#DejaVuSans-35\" x=\"95.410156\"/>\n       <use xlink:href=\"#DejaVuSans-30\" x=\"159.033203\"/>\n      </g>\n     </g>\n    </g>\n    <g id=\"ytick_14\">\n     <g id=\"line2d_21\">\n      <g>\n       <use xlink:href=\"#m736de8d918\" x=\"337.876725\" y=\"55.552061\" style=\"stroke: #000000; stroke-width: 0.8\"/>\n      </g>\n     </g>\n     <g id=\"text_24\">\n      <!-- 1.75 -->\n      <g transform=\"translate(344.876725 59.35128) scale(0.1 -0.1)\">\n       <use xlink:href=\"#DejaVuSans-31\"/>\n       <use xlink:href=\"#DejaVuSans-2e\" x=\"63.623047\"/>\n       <use xlink:href=\"#DejaVuSans-37\" x=\"95.410156\"/>\n       <use xlink:href=\"#DejaVuSans-35\" x=\"159.033203\"/>\n      </g>\n     </g>\n    </g>\n   </g>\n   <g id=\"LineCollection_1\"/>\n   <g id=\"patch_8\">\n    <path d=\"M 324.571125 288.430125 \nL 331.223925 288.430125 \nL 337.876725 288.430125 \nL 337.876725 22.318125 \nL 331.223925 22.318125 \nL 324.571125 22.318125 \nL 324.571125 288.430125 \nz\n\" style=\"fill: none; stroke: #000000; stroke-width: 0.8; stroke-linejoin: miter; stroke-linecap: square\"/>\n   </g>\n  </g>\n </g>\n <defs>\n  <clipPath id=\"p829c4734db\">\n   <rect x=\"40.603125\" y=\"22.318125\" width=\"266.112\" height=\"266.112\"/>\n  </clipPath>\n </defs>\n</svg>\n"
     },
     "metadata": {},
     "output_type": "display_data"
    },
    {
     "data": {
      "text/plain": [
       "HTML(value=\"<a href='.\\\\tmp9i_l1kcg.pdf' target='_blank'>.\\\\tmp9i_l1kcg.pdf</a><br>\")"
      ],
      "application/vnd.jupyter.widget-view+json": {
       "version_major": 2,
       "version_minor": 0,
       "model_id": "5f4c37bbeb3f42feaeb1dca1ed50cffa"
      }
     },
     "metadata": {},
     "output_type": "display_data"
    }
   ],
   "execution_count": 19
  },
  {
   "metadata": {
    "ExecuteTime": {
     "end_time": "2024-10-15T11:13:58.063266Z",
     "start_time": "2024-10-15T11:13:58.059056Z"
    }
   },
   "cell_type": "code",
   "source": [
    "residual = pympdata_result_state - trixi_output\n",
    "rmse = np.sqrt(np.mean(residual**2))\n",
    "mse = np.mean(residual**2)\n",
    "max_diff = np.max(np.abs(residual))\n",
    "min_diff = np.min(np.abs(residual))"
   ],
   "id": "ec2fffd2627288b4",
   "outputs": [],
   "execution_count": 20
  },
  {
   "metadata": {
    "ExecuteTime": {
     "end_time": "2024-10-15T11:13:58.073023Z",
     "start_time": "2024-10-15T11:13:58.064280Z"
    }
   },
   "cell_type": "code",
   "source": [
    "assert np.allclose(rmse, 6.94e-2, 0.1)\n",
    "assert np.allclose(mse, 4.81e-3, 0.1)\n",
    "assert np.allclose(max_diff, 0.285, 0.1)\n",
    "assert np.allclose(min_diff, 2.69e-5, 0.1)"
   ],
   "id": "a7496a6f898495a3",
   "outputs": [],
   "execution_count": 21
  },
  {
   "metadata": {
    "ExecuteTime": {
     "end_time": "2024-10-15T11:13:58.075711Z",
     "start_time": "2024-10-15T11:13:58.073023Z"
    }
   },
   "cell_type": "code",
   "source": "",
   "id": "119bd01509fa1ceb",
   "outputs": [],
   "execution_count": 21
  }
 ],
 "metadata": {
  "kernelspec": {
   "display_name": "Python 3 (ipykernel)",
   "language": "python",
   "name": "python3"
  },
  "language_info": {
   "codemirror_mode": {
    "name": "ipython",
    "version": 3
   },
   "file_extension": ".py",
   "mimetype": "text/x-python",
   "name": "python",
   "nbconvert_exporter": "python",
   "pygments_lexer": "ipython3",
   "version": "3.9.2"
  }
 },
 "nbformat": 4,
 "nbformat_minor": 5
}
