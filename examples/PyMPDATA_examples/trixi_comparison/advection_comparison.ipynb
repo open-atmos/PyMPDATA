{
 "cells": [
  {
   "cell_type": "markdown",
   "id": "e333839d",
   "metadata": {},
   "source": [
    "[![Binder](https://mybinder.org/badge_logo.svg)](https://mybinder.org/v2/gh/open-atmos/PyMPDATA.git/main?urlpath=lab/tree/examples/PyMPDATA_examples/advection_diffusion_2d/advection-diffusion-2d.ipynb)\n",
    "[![Open In Colab](https://colab.research.google.com/assets/colab-badge.svg)](https://colab.research.google.com/github/open-atmos/examples/blob/main/examples/PyMPDATA_examples/advection_diffusion_2d/advection-diffusion-2d.ipynb)"
   ]
  },
  {
   "cell_type": "markdown",
   "id": "0f162ce9-5704-4464-8b67-be8c86ecabc8",
   "metadata": {},
   "source": [
    "## common settings"
   ]
  },
  {
   "metadata": {},
   "cell_type": "code",
   "source": [
    "SETUP = {\n",
    "    \"nx\": 32,\n",
    "    \"ny\": 32,\n",
    "    \"ux\": 0.25,\n",
    "    \"uy\": 0.25,\n",
    "    \"dt\": 0.025,\n",
    "    \"tmax\": 5.0,\n",
    "    \"polydeg\": 3\n",
    "}\n",
    "\n",
    "assert SETUP[\"nx\"] == SETUP[\"ny\"]\n",
    "\n",
    "import json\n",
    "with open('setup.json', 'w', encoding='UTF-8') as f:\n",
    "    json.dump(SETUP, f)"
   ],
   "id": "dff76910f0610a2d",
   "outputs": [],
   "execution_count": null
  },
  {
   "metadata": {},
   "cell_type": "markdown",
   "source": [
    "## Trixi.jl"
   ],
   "id": "52cd27020f7efe9"
  },
  {
   "metadata": {},
   "cell_type": "code",
   "source": [
    "%%writefile trixi.jl\n",
    "import Pkg\n",
    "Pkg.add([\"JSON\", \"Trixi\", \"OrdinaryDiffEq\", \"Trixi2Vtk\"])\n",
    "using JSON\n",
    "using Trixi\n",
    "using OrdinaryDiffEq\n",
    "using Trixi2Vtk\n",
    "\n",
    "setup = JSON.parsefile(\"./setup.json\")\n",
    "\n",
    "advection_velocity = (setup[\"ux\"], setup[\"uy\"])\n",
    "equations = LinearScalarAdvectionEquation2D(advection_velocity)\n",
    "solver = DGSEM(polydeg = setup[\"polydeg\"])\n",
    "\n",
    "function initial_condition(x, t, equations::LinearScalarAdvectionEquation2D)\n",
    "    return SVector(sin(pi*sum(x)) + 1)\n",
    "end\n",
    "\n",
    "cells_per_dimension = (setup[\"nx\"], setup[\"ny\"])\n",
    "coordinates_min = (-1.0, -1.0)\n",
    "coordinates_max = ( 1.0,  1.0)\n",
    "\n",
    "mesh = StructuredMesh(cells_per_dimension, coordinates_min, coordinates_max)\n",
    "semi = SemidiscretizationHyperbolic(mesh, equations, initial_condition, solver)\n",
    "\n",
    "tspan = (0.0, setup[\"tmax\"])\n",
    "ode = semidiscretize(semi, tspan);\n",
    "\n",
    "summary_callback = SummaryCallback()\n",
    "save_solution = SaveSolutionCallback(interval=100)\n",
    "\n",
    "stepsize_callback = StepsizeCallback(cfl = 1.6)\n",
    "\n",
    "callbacks = CallbackSet(summary_callback, save_solution, stepsize_callback)\n",
    "\n",
    "time_int_tol = 1e-6\n",
    "sol = solve(ode, CarpenterKennedy2N54();\n",
    "            abstol = time_int_tol,\n",
    "            reltol = time_int_tol,\n",
    "            dt = setup[\"dt\"],\n",
    "            ode_default_options()..., callback = callbacks);\n",
    "\n",
    "summary_callback()\n",
    "trixi2vtk(\"out/solution_000101.h5\")"
   ],
   "id": "6586bff9a39d588f",
   "outputs": [],
   "execution_count": null
  },
  {
   "metadata": {},
   "cell_type": "code",
   "source": "_ = !julia trixi.jl ",
   "id": "56fb8302adfc01e7",
   "outputs": [],
   "execution_count": null
  },
  {
   "metadata": {},
   "cell_type": "code",
   "source": [
    "with open(\"solution_000101.vtu\") as f:\n",
    "    pass"
   ],
   "id": "c53042f5724a7289",
   "outputs": [],
   "execution_count": null
  },
  {
   "metadata": {},
   "cell_type": "markdown",
   "source": "## PyMPDATA",
   "id": "a30cc2b4961f1be7"
  },
  {
   "metadata": {},
   "cell_type": "code",
   "source": [
    "import numpy as np\n",
    "import meshio\n",
    "from open_atmos_jupyter_utils import show_plot\n",
    "import matplotlib.pyplot as plt\n",
    "from PyMPDATA import Solver, ScalarField, VectorField, Stepper, Options\n",
    "from PyMPDATA.boundary_conditions import Periodic"
   ],
   "id": "9aaadc4a5234804a",
   "outputs": [],
   "execution_count": null
  },
  {
   "metadata": {},
   "cell_type": "code",
   "source": [
    "mu = 0.0\n",
    "dt = SETUP[\"dt\"]\n",
    "tmax = SETUP[\"tmax\"]\n",
    "nt = int(tmax / dt)\n",
    "\n",
    "nx = SETUP[\"nx\"] * SETUP[\"polydeg\"] + 1\n",
    "ny = SETUP[\"ny\"] * SETUP[\"polydeg\"] + 1\n",
    "ux  = SETUP[\"ux\"]\n",
    "uy = SETUP[\"uy\"]\n",
    "\n",
    "omega = np.pi\n",
    "\n",
    "min_x, min_y = -1, -1\n",
    "max_x, max_y = 1, 1\n",
    "dx_temp = (max_x - min_x) / (nx - 1)\n",
    "dy_temp = (max_y - min_y) / (ny - 1)\n",
    "min_x, max_x = min_x - dx_temp/2, max_x + dx_temp/2\n",
    "min_y, max_y = min_y - dy_temp/2, max_y + dy_temp/2\n",
    "dx = (max_x - min_x) / nx\n",
    "dy = (max_y - min_y) / ny\n",
    "Cx = ux * dt / dx\n",
    "Cy = uy * dt / dy"
   ],
   "id": "9a0f60b51e32ce3e",
   "outputs": [],
   "execution_count": null
  },
  {
   "metadata": {},
   "cell_type": "code",
   "source": [
    "opt = Options(n_iters=3, non_zero_mu_coeff=True)\n",
    "boundary_conditions = (Periodic(), Periodic())"
   ],
   "id": "64e3274fa4ac14a6",
   "outputs": [],
   "execution_count": null
  },
  {
   "metadata": {},
   "cell_type": "code",
   "source": [
    "def analytic_solution(x, y, t):\n",
    "    return np.sin(omega*(x-ux*t+y-uy*t))*np.exp(-2*mu*t*omega**2) + 1"
   ],
   "id": "1f2e59f8bb5f083a",
   "outputs": [],
   "execution_count": null
  },
  {
   "metadata": {},
   "cell_type": "code",
   "source": [
    "def z(t):\n",
    "    return np.array(\n",
    "    [\n",
    "        analytic_solution(x, y, t=t) for x in np.linspace(min_x, max_x, nx)\n",
    "        for y in np.linspace(min_y, max_y, ny)\n",
    "    ],\n",
    "    dtype=float\n",
    ").reshape((nx, ny))\n",
    "\n",
    "advectee = ScalarField(data=z(t=0), halo=opt.n_halo, boundary_conditions=boundary_conditions)"
   ],
   "id": "cab790be5c425ea5",
   "outputs": [],
   "execution_count": null
  },
  {
   "metadata": {},
   "cell_type": "code",
   "source": [
    "field_x = np.full((nx+1, ny), Cx, dtype=opt.dtype)\n",
    "field_y = np.full((nx, ny+1), Cy, dtype=opt.dtype)\n",
    "\n",
    "advector = VectorField(\n",
    "    data=(field_x, field_y),\n",
    "    halo=opt.n_halo,\n",
    "    boundary_conditions=(boundary_conditions[0], Periodic())\n",
    ")"
   ],
   "id": "b454a74473b8f900",
   "outputs": [],
   "execution_count": null
  },
  {
   "metadata": {},
   "cell_type": "code",
   "source": [
    "stepper = Stepper(options=opt, n_dims=2)\n",
    "solver = Solver(stepper=stepper, advector=advector, advectee=advectee)"
   ],
   "id": "ce055b2d3a61a491",
   "outputs": [],
   "execution_count": null
  },
  {
   "metadata": {},
   "cell_type": "code",
   "source": [
    "vmin = np.min(solver.advectee.get())\n",
    "vmax = np.max(solver.advectee.get())"
   ],
   "id": "5290dbc73bd36d29",
   "outputs": [],
   "execution_count": null
  },
  {
   "metadata": {},
   "cell_type": "code",
   "source": "_ = solver.advance(n_steps=nt, mu_coeff=(mu, mu))",
   "id": "b29adee15e8ff545",
   "outputs": [],
   "execution_count": null
  },
  {
   "metadata": {},
   "cell_type": "code",
   "source": "pympdata_result_state = solver.advectee.get().copy()",
   "id": "f59fd725765b765e",
   "outputs": [],
   "execution_count": null
  },
  {
   "metadata": {},
   "cell_type": "code",
   "source": [
    "plt.imshow(pympdata_result_state, cmap='viridis', vmin=vmin, vmax=vmax)\n",
    "plt.colorbar()\n",
    "plt.xlabel('x')\n",
    "plt.ylabel('y')\n",
    "plt.title('PyMDATA solution')\n",
    "show_plot()"
   ],
   "id": "a041cd5f2c2dbaa",
   "outputs": [],
   "execution_count": null
  },
  {
   "metadata": {},
   "cell_type": "code",
   "source": [
    "mesh = meshio.read(\"solution_000101.vtu\")\n",
    "trixi_points = ((mesh.points[:,:2] + 1)*SETUP[\"nx\"]*SETUP[\"polydeg\"]/2).round().astype(np.int16)\n",
    "assert trixi_points.shape[0] == SETUP[\"nx\"]**2 * (SETUP[\"polydeg\"] + 1)**2"
   ],
   "id": "451911db51e18682",
   "outputs": [],
   "execution_count": null
  },
  {
   "metadata": {},
   "cell_type": "code",
   "source": [
    "trixi_output = np.zeros(pympdata_result_state.shape)\n",
    "for i in range(trixi_points.shape[0]):\n",
    "    trixi_output[trixi_points[i][0], trixi_points[i][1]] = mesh.point_data['scalar'][i][0]"
   ],
   "id": "58595cff705f196c",
   "outputs": [],
   "execution_count": null
  },
  {
   "metadata": {},
   "cell_type": "code",
   "source": [
    "plt.imshow(trixi_output, cmap='viridis', vmin=vmin, vmax=vmax)\n",
    "plt.colorbar()\n",
    "plt.xlabel('x')\n",
    "plt.ylabel('y')\n",
    "plt.title(\"Trixi solution\")\n",
    "show_plot()"
   ],
   "id": "a126dbabdf719ee3",
   "outputs": [],
   "execution_count": null
  },
  {
   "metadata": {},
   "cell_type": "code",
   "source": [
    "residual = pympdata_result_state - trixi_output\n",
    "rmse = np.sqrt(np.mean(residual))\n",
    "mae = np.mean(residual)\n",
    "max_diff = np.max(np.abs(residual))\n",
    "min_diff = np.min(np.abs(residual))"
   ],
   "id": "ec2fffd2627288b4",
   "outputs": [],
   "execution_count": null
  },
  {
   "metadata": {},
   "cell_type": "code",
   "source": [
    "assert np.allclose(rmse, 1.03e-2, 0.01)\n",
    "assert np.allclose(mae, 1.06e-4, 0.01)\n",
    "assert np.allclose(max_diff, 0.189, 0.01)\n",
    "assert np.allclose(min_diff, 7.74e-5, 0.01)"
   ],
   "id": "a7496a6f898495a3",
   "outputs": [],
   "execution_count": null
  },
  {
   "metadata": {},
   "cell_type": "code",
   "source": "",
   "id": "6bca4fafb5a1b9d0",
   "outputs": [],
   "execution_count": null
  }
 ],
 "metadata": {
  "kernelspec": {
   "display_name": "Python 3 (ipykernel)",
   "language": "python",
   "name": "python3"
  },
  "language_info": {
   "codemirror_mode": {
    "name": "ipython",
    "version": 3
   },
   "file_extension": ".py",
   "mimetype": "text/x-python",
   "name": "python",
   "nbconvert_exporter": "python",
   "pygments_lexer": "ipython3",
   "version": "3.9.2"
  }
 },
 "nbformat": 4,
 "nbformat_minor": 5
}
