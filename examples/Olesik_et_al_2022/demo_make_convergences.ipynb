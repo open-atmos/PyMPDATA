{
 "cells": [
  {
   "cell_type": "markdown",
   "metadata": {},
   "source": [
    "[![Binder](https://mybinder.org/badge_logo.svg)](https://mybinder.org/v2/gh/open-atmos/PyMPDATA.git/main?filepath=examples/PyMPDATA_examples/Olesik_et_al_2022/demo_make_convergences.ipynb)\n",
    "[![Open In Colab](https://colab.research.google.com/assets/colab-badge.svg)](https://colab.research.google.com/github/open-atmos/PyMPDATA/blob/main/examples/PyMPDATA_examples/Olesik_et_al_2022/demo_make_convergences.ipynb)"
   ]
  },
  {
   "cell_type": "code",
   "execution_count": null,
   "metadata": {},
   "outputs": [],
   "source": [
    "import sys\n",
    "if 'google.colab' in sys.modules:\n",
    "    !pip --quiet install open-atmos-jupyter-utils\n",
    "    from open_atmos_jupyter_utils import pip_install_on_colab\n",
    "    pip_install_on_colab('PyMPDATA-examples')"
   ]
  },
  {
   "cell_type": "code",
   "execution_count": null,
   "metadata": {},
   "outputs": [],
   "source": [
    "import os\n",
    "import numpy as np\n",
    "import matplotlib.pyplot as plt\n",
    "from open_atmos_jupyter_utils import show_plot\n",
    "from joblib import Parallel, parallel_backend, delayed\n",
    "from PyMPDATA.options import Options\n",
    "from PyMPDATA_examples.Olesik_et_al_2022.settings import Settings, default_opt_set, option_string\n",
    "from PyMPDATA_examples.Olesik_et_al_2022.coordinates import x_p2\n",
    "from PyMPDATA_examples.Olesik_et_al_2022.simulation import Simulation\n",
    "from PyMPDATA_examples.Olesik_et_al_2022.equilibrium_drop_growth import PdfEvolver\n",
    "from PyMPDATA_examples.utils.discretisation import discretised_analytical_solution\n",
    "from PyMPDATA_examples.utils.error_norms import Smolarkiewicz_Grabowski_1990_eq21"
   ]
  },
  {
   "cell_type": "code",
   "execution_count": null,
   "metadata": {},
   "outputs": [],
   "source": [
    "CI = 'CI' in os.environ\n",
    "GCs = np.linspace(.05,.95, 3) if CI else np.linspace(.05,.95, 7)\n",
    "nrs = np.array([2**n for n in (range(7, 10) if CI else range(7,15))], dtype=int)"
   ]
  },
  {
   "cell_type": "code",
   "execution_count": null,
   "metadata": {},
   "outputs": [],
   "source": [
    "grid_layout = x_p2()\n",
    "psi_coord = x_p2()\n",
    "settings = Settings()"
   ]
  },
  {
   "cell_type": "code",
   "execution_count": null,
   "metadata": {},
   "outputs": [],
   "source": [
    "const = min(np.log2(1/nrs)) - 1\n",
    "\n",
    "\n",
    "def phi(cour):\n",
    "    return cour * np.pi / 2\n",
    "\n",
    "def rho(n):\n",
    "    return np.log2(1/n) - const\n",
    "\n",
    "\n",
    "def polar_plot(nr, cour, values, name):\n",
    "    theta_array = phi(cour)\n",
    "    r_array = rho(nr)\n",
    "\n",
    "    X, Y = np.meshgrid(theta_array, r_array)\n",
    "    Z = np.array(list(values)).reshape(len(r_array), len(theta_array))\n",
    "\n",
    "    min_val = -26\n",
    "    max_val = -2\n",
    "\n",
    "    amplitude = max_val - min_val\n",
    "    if name == 'log$_2$(err)':\n",
    "        levels = np.linspace(\n",
    "            min_val,\n",
    "            max_val,\n",
    "            int(amplitude + 1)\n",
    "        )\n",
    "    else:\n",
    "        levels = 7\n",
    "\n",
    "    ax = plt.subplot(111, projection='polar')\n",
    "    cnt = ax.contourf(X, Y, Z, levels, cmap='jet')\n",
    "    plt.contour(X, Y, Z, levels, colors='black')\n",
    "    ax.scatter(X, Y, alpha=.8, s=10)\n",
    "    legend = plt.colorbar(cnt, ax=ax, pad=0.1)\n",
    "    legend.set_label(r'$log_2(Err_{L2})$', rotation=90)\n",
    "    ax.set_thetalim(min(theta_array),max(theta_array))\n",
    "    ax.set_rlim(0, max(r_array))\n",
    "    \n",
    "    ticks = r_array\n",
    "    ax.set_yticks(ticks)\n",
    "    ax.set_yticklabels(\"$2^{\" + f\"{int(-tick - const):d}\" + \"}$\" for tick in ticks)\n",
    "    \n",
    "    ax.set_thetagrids(cour * 90, tuple(f\"{c:.2g}\" for c in cour))\n",
    "    ax.grid(True)\n",
    "    ax.set_xlabel(r\"$nx$\", labelpad=18)\n",
    "    ax.annotate(r'$C$', xy=(.8, .85), xycoords='axes fraction')"
   ]
  },
  {
   "cell_type": "code",
   "execution_count": null,
   "metadata": {},
   "outputs": [],
   "source": [
    "def analysis(settings, GC, opt):\n",
    "    options = Options(**opt)\n",
    "    simulation = Simulation(settings, grid_layout,  psi_coord, options, GC)\n",
    "    simulation.step(simulation.out_steps[-1])\n",
    "    t = simulation.out_steps[-1] * simulation.dt\n",
    "    rh = simulation.rh\n",
    "    pdf_t = PdfEvolver(settings.pdf, settings.drdt, t)\n",
    "    def pdf_arg(r):\n",
    "        return pdf_t(r* rh.units).magnitude\n",
    "    analytical = discretised_analytical_solution(\n",
    "                simulation.rh.magnitude,\n",
    "                pdf_arg, midpoint_value = True,\n",
    "                r=simulation.r.magnitude\n",
    "            ) * pdf_t(rh[0]).units\n",
    "    numerical = simulation.n_of_r\n",
    "    error = np.log2(Smolarkiewicz_Grabowski_1990_eq21(numerical.magnitude, analytical.magnitude, t.magnitude))\n",
    "    return settings.nr, GC, error"
   ]
  },
  {
   "cell_type": "code",
   "execution_count": null,
   "metadata": {},
   "outputs": [],
   "source": [
    "for opt in default_opt_set.values():\n",
    "    with parallel_backend('threading', n_jobs=-2):\n",
    "        results0 = Parallel(verbose=10)(\n",
    "            delayed(analysis)(Settings(nr = nr, mixing_ratios_g_kg = [1.05,]), GC, opt)\n",
    "            for nr in nrs\n",
    "            for GC in GCs\n",
    "        )\n",
    "    results = tuple(tuple(i) for i in zip(*results0))\n",
    "    plot_setup = np.array(results[0:2])\n",
    "    measures = {'log$_2$(err)':results[2]}\n",
    "    opt=option_string(str(opt))\n",
    "    print(opt)\n",
    "    for k, measure in measures.items():\n",
    "        polar_plot(nrs, GCs, measure, name=k)\n",
    "        show_plot(filename = f'convergence_{k}_{opt}.pdf')"
   ]
  },
  {
   "cell_type": "code",
   "execution_count": null,
   "metadata": {},
   "outputs": [],
   "source": []
  }
 ],
 "metadata": {
  "kernelspec": {
   "display_name": "Python 3",
   "language": "python",
   "name": "python3"
  },
  "language_info": {
   "codemirror_mode": {
    "name": "ipython",
    "version": 3
   },
   "file_extension": ".py",
   "mimetype": "text/x-python",
   "name": "python",
   "nbconvert_exporter": "python",
   "pygments_lexer": "ipython3",
   "version": "3.8.2"
  }
 },
 "nbformat": 4,
 "nbformat_minor": 4
}
