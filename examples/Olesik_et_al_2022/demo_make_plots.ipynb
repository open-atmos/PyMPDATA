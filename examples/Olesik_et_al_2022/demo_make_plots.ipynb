{
 "cells": [
  {
   "cell_type": "markdown",
   "metadata": {},
   "source": [
    "[![Binder](https://mybinder.org/badge_logo.svg)](https://mybinder.org/v2/gh/open-atmos/PyMPDATA.git/main?filepath=examples/PyMPDATA_examples/Olesik_et_al_2022/demo_make_plots.ipynb)\n",
    "[![Open In Colab](https://colab.research.google.com/assets/colab-badge.svg)](https://colab.research.google.com/github/open-atmos/PyMPDATA/blob/main/examples/PyMPDATA_examples/Olesik_et_al_2022/demo_make_plots.ipynb)"
   ]
  },
  {
   "cell_type": "code",
   "execution_count": null,
   "metadata": {},
   "outputs": [],
   "source": [
    "import os\n",
    "os.environ[\"NUMBA_DISABLE_JIT\"] = \"1\""
   ]
  },
  {
   "cell_type": "code",
   "execution_count": null,
   "metadata": {},
   "outputs": [],
   "source": [
    "import sys\n",
    "if 'google.colab' in sys.modules:\n",
    "    !pip --quiet install open-atmos-jupyter-utils\n",
    "    from open_atmos_jupyter_utils import pip_install_on_colab\n",
    "    pip_install_on_colab('PyMPDATA-examples')"
   ]
  },
  {
   "cell_type": "code",
   "execution_count": null,
   "metadata": {},
   "outputs": [],
   "source": [
    "from matplotlib import pyplot\n",
    "from open_atmos_jupyter_utils import show_plot\n",
    "from PyMPDATA_examples.Olesik_et_al_2022.analysis import compute_figure_data, rel_disp, third_moment\n",
    "from PyMPDATA_examples.Olesik_et_al_2022.equilibrium_drop_growth import PdfEvolver\n",
    "from PyMPDATA_examples.Olesik_et_al_2022.plotter import Plotter\n",
    "from PyMPDATA_examples.Olesik_et_al_2022.coordinates import x_id, x_p2, x_log_of_pn\n",
    "from PyMPDATA_examples.Olesik_et_al_2022.settings import default_opt_set, colors, default_mixing_ratios_g_kg, option_string"
   ]
  },
  {
   "cell_type": "code",
   "execution_count": null,
   "metadata": {},
   "outputs": [],
   "source": [
    "plot_steps = [0, 2, 5]\n",
    "def compute_and_plot(psi_coord, grid_layout, n_bins, GC_max, variants, plots, filename):\n",
    "    results, settings = compute_figure_data(\n",
    "        psi_coord=psi_coord, \n",
    "        grid_layouts=(grid_layout,),\n",
    "        nr=n_bins,\n",
    "        GC_max = GC_max,\n",
    "        opt_set=tuple(default_opt_set[variant] for variant in variants)\n",
    "    )\n",
    "    return_value = {}\n",
    "    for _, result in results.items():\n",
    "        out_steps = result['grid']['out_steps']\n",
    "        dt = result['grid']['dt']\n",
    "        plotter = Plotter(settings, plots=plots)\n",
    "        for opt_i, opts in enumerate(result['numerical']):\n",
    "            variant = variants[opt_i]\n",
    "            plot_data = result['numerical'][opts]\n",
    "            for i, out_step in enumerate(out_steps):\n",
    "                mnorm = settings.mixing_ratios[i]\n",
    "                t = out_step * dt\n",
    "                linewidth = 1.5\n",
    "                if opt_i == 0 and i in plot_steps:\n",
    "                    plotter.pdf_curve(PdfEvolver(settings.pdf, settings.drdt, t), mnorm)\n",
    "                    plotter.pdf_histogram(\n",
    "                        result['grid']['r'],\n",
    "                        result['analytical'][i],\n",
    "                        bin_boundaries = result['grid']['rh'],\n",
    "                        label='discretised analytical solution (actual dotted)', \n",
    "                        mnorm=mnorm,\n",
    "                        color='black',\n",
    "                        linewidth = linewidth\n",
    "                    )\n",
    "                    \n",
    "                opts = option_string(opts)\n",
    "\n",
    "                    \n",
    "                if variant not in return_value:\n",
    "                    return_value[variant] = {'R_d': [], 'R_m': [], 'label': opts}\n",
    "\n",
    "                if i in [0, 2, 5]: \n",
    "                    plotter.pdf_histogram(\n",
    "                        result['grid']['r'],\n",
    "                        plot_data[i], \n",
    "                        label=opts, \n",
    "                        bin_boundaries=result['grid']['rh'],\n",
    "                        linewidth = linewidth,\n",
    "                        mnorm=mnorm, color = colors[variant], fill=False\n",
    "                    )\n",
    "                \n",
    "                dp_dr = psi_coord.dx_dr(result['grid']['r'])\n",
    "                numeric_rel_d = rel_disp(result['grid']['rh'], plot_data[i]/dp_dr, psi_coord)\n",
    "                analytic_rel_d = rel_disp(result['grid']['rh'], result['analytical'][i]/dp_dr, psi_coord)\n",
    "                dispersion_ratio = (numeric_rel_d / analytic_rel_d - 1) * 100\n",
    "                return_value[variant]['R_d'].append(dispersion_ratio)\n",
    "                                \n",
    "                numeric_mass = third_moment(result['grid']['rh'], plot_data[i]/dp_dr, psi_coord, normalised=False)\n",
    "                analytic_mass = third_moment(result['grid']['rh'], result['analytical'][i]/dp_dr, psi_coord, normalised=False)\n",
    "                mass_ratio = (numeric_mass / analytic_mass - 1) * 100\n",
    "                return_value[variant]['R_m'].append(mass_ratio)\n",
    "\n",
    "        pyplot.legend(bbox_to_anchor=(0.5, -0.25), loc='upper center')\n",
    "        show_plot(filename)\n",
    "    return return_value"
   ]
  },
  {
   "cell_type": "code",
   "execution_count": null,
   "metadata": {},
   "outputs": [],
   "source": [
    "n_bins = 75\n",
    "plot_setup_radius_square_mass_doubling = {\"psi_coord\":x_p2(), \"grid_layout\":x_log_of_pn(r0=1, base=2), \"GC_max\":.26,\"n_bins\":n_bins}\n",
    "plot_setup_radius_linear = {\"psi_coord\":x_id(), \"grid_layout\":x_id(), \"GC_max\":.07, \"n_bins\":n_bins}\n",
    "plot_setup_default = plot_setup_radius_square_mass_doubling\n",
    "table_data = []"
   ]
  },
  {
   "cell_type": "code",
   "execution_count": null,
   "metadata": {},
   "outputs": [],
   "source": [
    "compute_and_plot(**plot_setup_radius_linear, variants=('a',), plots=['n','m'],  filename = 'fig_upwindb.pdf');"
   ]
  },
  {
   "cell_type": "code",
   "execution_count": null,
   "metadata": {},
   "outputs": [],
   "source": [
    "table_data.append(compute_and_plot(**plot_setup_default, variants=('a',), plots=['n','m'], filename = 'fig_upwinda.pdf'))"
   ]
  },
  {
   "cell_type": "code",
   "execution_count": null,
   "metadata": {},
   "outputs": [],
   "source": [
    "table_data.append(compute_and_plot(**plot_setup_default, variants=('a','b','g'), plots=['n'], filename = 'fig_mpdatas.pdf'))"
   ]
  },
  {
   "cell_type": "code",
   "execution_count": null,
   "metadata": {},
   "outputs": [],
   "source": [
    "table_data.append(compute_and_plot(**plot_setup_default, variants=('b', 'c'), plots=['n'], filename = 'fig_iga.pdf'))"
   ]
  },
  {
   "cell_type": "code",
   "execution_count": null,
   "metadata": {},
   "outputs": [],
   "source": [
    "table_data.append(compute_and_plot(**plot_setup_default, variants=('c','d'), plots=['n'], filename = 'fig_iga_fct.pdf'))"
   ]
  },
  {
   "cell_type": "code",
   "execution_count": null,
   "metadata": {},
   "outputs": [],
   "source": [
    "table_data.append(compute_and_plot(**plot_setup_default, variants=('d','e'), plots=['n'], filename = 'fig_iga_fct_dpdc.pdf'))"
   ]
  },
  {
   "cell_type": "code",
   "execution_count": null,
   "metadata": {},
   "outputs": [],
   "source": [
    "table_data.append(compute_and_plot(**plot_setup_default, variants=('g','f'), plots=['n'], filename = 'fig_tot.pdf'))"
   ]
  },
  {
   "cell_type": "code",
   "execution_count": null,
   "metadata": {},
   "outputs": [],
   "source": [
    "table_data.append(compute_and_plot(**plot_setup_default, variants=('f','h'), plots=['n'], filename = 'fig_multiopt.pdf'))"
   ]
  },
  {
   "cell_type": "code",
   "execution_count": null,
   "metadata": {},
   "outputs": [],
   "source": [
    "plot_data = {}\n",
    "for datum in table_data:\n",
    "    for key, value in datum.items():\n",
    "        plot_data[key] = value\n",
    "        \n",
    "pyplot.rcParams['xtick.bottom'] = pyplot.rcParams['xtick.labelbottom'] = False\n",
    "pyplot.rcParams['xtick.top'] = pyplot.rcParams['xtick.labeltop'] = True\n",
    "        \n",
    "def plot_measures(measure, ax, legend=False): \n",
    "    for variant, values in plot_data.items():\n",
    "        Y = default_mixing_ratios_g_kg\n",
    "        X = tuple(x.magnitude for x in values[measure])\n",
    "        ax.scatter(X, Y, label=values['label'], color=colors[variant])\n",
    "        ax.plot(X, Y, color='gray', linestyle='dotted')\n",
    "    ax.grid()\n",
    "    ax.invert_yaxis()\n",
    "    ax.set_xlabel(f'${measure}$ [%]', labelpad=-370)\n",
    "    ax.set_ylabel('mixing ratio [g kg$^{-1}$]', rotation=270, labelpad=30)\n",
    "    \n",
    "    for tl in ax.get_xticklabels():\n",
    "        tl.set_rotation(-90)\n",
    "    for tl in ax.get_yticklabels():\n",
    "        tl.set_rotation(-90)\n",
    "\n",
    "    if legend:\n",
    "        pyplot.legend(bbox_to_anchor=(+0.5, -0.15), loc='upper center')\n",
    "fig, axs = pyplot.subplots(2,1, figsize=(11,13))\n",
    "\n",
    "plot_measures('R_d', axs[0])\n",
    "plot_measures('R_m', axs[1], legend=True)\n",
    "\n",
    "show_plot('measures.pdf')"
   ]
  },
  {
   "cell_type": "code",
   "execution_count": null,
   "metadata": {},
   "outputs": [],
   "source": []
  },
  {
   "cell_type": "code",
   "execution_count": null,
   "metadata": {},
   "outputs": [],
   "source": []
  }
 ],
 "metadata": {
  "kernelspec": {
   "display_name": "Python 3 (ipykernel)",
   "language": "python",
   "name": "python3"
  },
  "language_info": {
   "codemirror_mode": {
    "name": "ipython",
    "version": 3
   },
   "file_extension": ".py",
   "mimetype": "text/x-python",
   "name": "python",
   "nbconvert_exporter": "python",
   "pygments_lexer": "ipython3",
   "version": "3.8.9"
  }
 },
 "nbformat": 4,
 "nbformat_minor": 2
}
