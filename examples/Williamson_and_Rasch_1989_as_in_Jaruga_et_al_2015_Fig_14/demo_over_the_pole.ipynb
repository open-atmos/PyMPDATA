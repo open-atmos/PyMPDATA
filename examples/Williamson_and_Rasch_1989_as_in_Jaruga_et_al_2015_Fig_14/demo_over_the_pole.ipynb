{
 "cells": [
  {
   "cell_type": "markdown",
   "metadata": {},
   "source": [
    "[![Binder](https://mybinder.org/badge_logo.svg)](https://mybinder.org/v2/gh/open-atmos/PyMPDATA.git/main?filepath=examples/PyMPDATA_examples/Williamson_and_Rasch_1989_as_in_Jaruga_et_al_2015_Fig_14/demo_over_the_pole.ipynb)\n",
    "[![Open In Colab](https://colab.research.google.com/assets/colab-badge.svg)](https://colab.research.google.com/github/open-atmos/PyMPDATA/blob/main/examples/PyMPDATA_examples/Williamson_and_Rasch_1989_as_in_Jaruga_et_al_2015_Fig_14/demo_over_the_pole.ipynb)"
   ]
  },
  {
   "cell_type": "code",
   "execution_count": null,
   "metadata": {},
   "outputs": [],
   "source": [
    "# based on MoAC project by Michał Sadowski"
   ]
  },
  {
   "cell_type": "code",
   "execution_count": null,
   "metadata": {},
   "outputs": [],
   "source": [
    "import sys\n",
    "if 'google.colab' in sys.modules:\n",
    "    !pip --quiet install open-atmos-jupyter-utils\n",
    "    from open_atmos_jupyter_utils import pip_install_on_colab\n",
    "    pip_install_on_colab('PyMPDATA-examples')"
   ]
  },
  {
   "cell_type": "code",
   "execution_count": null,
   "metadata": {},
   "outputs": [],
   "source": [
    "import os\n",
    "import numpy as np\n",
    "import numba\n",
    "import matplotlib.pyplot as plt\n",
    "import matplotlib\n",
    "from IPython.display import Video\n",
    "from PyMPDATA import VectorField, ScalarField, Options, Solver, Stepper\n",
    "from PyMPDATA.boundary_conditions import Periodic, Polar"
   ]
  },
  {
   "cell_type": "code",
   "execution_count": null,
   "metadata": {},
   "outputs": [],
   "source": [
    "options = Options(n_iters=1) #"
   ]
  },
  {
   "cell_type": "code",
   "execution_count": null,
   "metadata": {},
   "outputs": [],
   "source": [
    "nlon = 64 # original: 128\n",
    "nlat = 32 # original: 64\n",
    "nt = 5120/3 # original: 5120\n",
    "dlmb = 2*np.pi / nlon\n",
    "dphi = np.pi / nlat\n",
    "\n",
    "r = 5/64*np.pi #  original: 7/64*n.pi\n",
    "x0 = 3*np.pi / 2\n",
    "y0 = 0\n",
    "\n",
    "udt = 2*np.pi / nt\n",
    "b = -np.pi / 2\n",
    "h0 = 0"
   ]
  },
  {
   "cell_type": "code",
   "execution_count": null,
   "metadata": {},
   "outputs": [],
   "source": [
    "boundary_conditions = (Periodic(), Polar((nlon, nlat), 0, -1))"
   ]
  },
  {
   "cell_type": "code",
   "execution_count": null,
   "metadata": {},
   "outputs": [],
   "source": [
    "@numba.njit()\n",
    "def pdf(i, j):\n",
    "    tmp = 2*(\n",
    "        (np.cos(dphi * (j + 0.5) - np.pi / 2) * np.sin((dlmb * (i+.5) - x0) / 2))**2 +\n",
    "        np.sin((dphi * (j + 0.5) - np.pi / 2 - y0) / 2)**2\n",
    "    )\n",
    "    return h0 + np.where(\n",
    "        # if\n",
    "        tmp - r**2 <= 0,\n",
    "        # then\n",
    "        1 - np.sqrt(tmp)/r,\n",
    "        # else\n",
    "        0.\n",
    "    )"
   ]
  },
  {
   "cell_type": "code",
   "execution_count": null,
   "metadata": {},
   "outputs": [],
   "source": [
    "def ad_x(i, j):\n",
    "    return dlmb * udt * (\n",
    "        np.cos(b) * np.cos(j * dphi - np.pi / 2) + \n",
    "        np.sin(b) * np.sin(j * dphi - np.pi / 2) * np.cos((i+.5) * dlmb)\n",
    "    )"
   ]
  },
  {
   "cell_type": "code",
   "execution_count": null,
   "metadata": {},
   "outputs": [],
   "source": [
    "def ad_y(i, j):\n",
    "    return -dlmb * udt * np.sin(b) * np.sin(i * dlmb)* np.cos((j+.5) * dphi - np.pi / 2)"
   ]
  },
  {
   "cell_type": "code",
   "execution_count": null,
   "metadata": {},
   "outputs": [],
   "source": [
    "advector_x = np.array([[\n",
    "    ad_x(i, j)\n",
    "    for j in range(nlat)] for i in range(nlon+1)])\n",
    "\n",
    "advector_y = np.array([[\n",
    "    ad_y(i, j)\n",
    "    for j in range(nlat+1)] for i in range(nlon)])"
   ]
  },
  {
   "cell_type": "code",
   "execution_count": null,
   "metadata": {},
   "outputs": [],
   "source": []
  },
  {
   "cell_type": "code",
   "execution_count": null,
   "metadata": {},
   "outputs": [],
   "source": [
    "plt.imshow(advector_x)\n",
    "plt.colorbar()\n",
    "print(np.amin(advector_x), np.amax(advector_x))\n",
    "np.testing.assert_array_almost_equal(advector_x[0,:], advector_x[-1,:])"
   ]
  },
  {
   "cell_type": "code",
   "execution_count": null,
   "metadata": {},
   "outputs": [],
   "source": [
    "plt.imshow(advector_y)\n",
    "plt.colorbar()\n",
    "print(np.amin(advector_y), np.amax(advector_y))\n",
    "np.testing.assert_array_almost_equal(advector_y[:,0], - advector_y[:,-1])"
   ]
  },
  {
   "cell_type": "code",
   "execution_count": null,
   "metadata": {},
   "outputs": [],
   "source": [
    "advector = VectorField(\n",
    "    data=(advector_x, advector_y),\n",
    "    halo=options.n_halo,\n",
    "    boundary_conditions=boundary_conditions    \n",
    ")"
   ]
  },
  {
   "cell_type": "code",
   "execution_count": null,
   "metadata": {},
   "outputs": [],
   "source": [
    "dx = 1\n",
    "dy = 1\n",
    "nx = nlon\n",
    "ny = nlat\n",
    "\n",
    "ux, uy = np.mgrid[\n",
    "    0 : (nx+1)*dx : dx,\n",
    "    dy/2 : ny*dy : dy\n",
    "]\n",
    "\n",
    "vx, vy = np.mgrid[\n",
    "    dx/2 : nx*dx : dx,\n",
    "    0: (ny+1)*dy : dy\n",
    "]\n",
    "\n",
    "fig = plt.figure(figsize=(15,10))\n",
    "plt.xticks(ux[:,0])\n",
    "plt.yticks(vy[0,:])\n",
    "plt.grid()\n",
    "plt.quiver(ux, uy, advector.get_component(0), 0, pivot='mid', scale=.025)\n",
    "plt.quiver(vx, vy, 0, advector.get_component(1), pivot='mid', scale=.025)"
   ]
  },
  {
   "cell_type": "code",
   "execution_count": null,
   "metadata": {},
   "outputs": [],
   "source": [
    "@numba.njit()\n",
    "def pdf_g_factor(_, y):\n",
    "    return dlmb * dphi * np.cos(dphi * (y + .5) - np.pi / 2)\n",
    "g_factor_z = np.array([[\n",
    "    pdf_g_factor(i, j)\n",
    "    for j in range(nlat)] for i in range(nlon)])"
   ]
  },
  {
   "cell_type": "code",
   "execution_count": null,
   "metadata": {},
   "outputs": [],
   "source": [
    "plt.imshow(g_factor_z)\n",
    "plt.colorbar()\n",
    "print(np.amin(np.abs(g_factor_z)))"
   ]
  },
  {
   "cell_type": "code",
   "execution_count": null,
   "metadata": {},
   "outputs": [],
   "source": [
    "Cx_max = np.amax(np.abs((advector_x[1:,:]+advector_x[:-1,:])/2/g_factor_z))\n",
    "print(Cx_max)\n",
    "assert Cx_max < 1"
   ]
  },
  {
   "cell_type": "code",
   "execution_count": null,
   "metadata": {},
   "outputs": [],
   "source": [
    "Cy_max = np.amax(np.abs((advector_y[:,1:]+advector_y[:,:-1])/2/g_factor_z))\n",
    "print(Cy_max)\n",
    "assert Cy_max < 1"
   ]
  },
  {
   "cell_type": "code",
   "execution_count": null,
   "metadata": {},
   "outputs": [],
   "source": [
    "g_factor = ScalarField(\n",
    "    data=g_factor_z, \n",
    "    halo=options.n_halo, \n",
    "    boundary_conditions=boundary_conditions\n",
    ")"
   ]
  },
  {
   "cell_type": "code",
   "execution_count": null,
   "metadata": {},
   "outputs": [],
   "source": [
    "z = np.array([[\n",
    "    pdf(i, j)\n",
    "    for j in range(nlat)] for i in range(nlon)])\n",
    "\n",
    "advectee = ScalarField(\n",
    "    data=z, \n",
    "    halo=options.n_halo, \n",
    "    boundary_conditions=boundary_conditions\n",
    ")"
   ]
  },
  {
   "cell_type": "code",
   "execution_count": null,
   "metadata": {},
   "outputs": [],
   "source": [
    "stepper = Stepper(options=options, n_dims=2, non_unit_g_factor=True)"
   ]
  },
  {
   "cell_type": "code",
   "execution_count": null,
   "metadata": {},
   "outputs": [],
   "source": [
    "solver = Solver(stepper=stepper, advectee=advectee, advector=advector, g_factor=g_factor)"
   ]
  },
  {
   "cell_type": "code",
   "execution_count": null,
   "metadata": {},
   "outputs": [],
   "source": [
    "plt.imshow(solver.advectee.get())\n",
    "plt.colorbar()"
   ]
  },
  {
   "cell_type": "code",
   "execution_count": null,
   "metadata": {},
   "outputs": [],
   "source": [
    "states_history = [z]\n",
    "for i in range(64):\n",
    "    solver.advance(n_steps=128)\n",
    "    states_history.append(solver.advectee.get().copy())    "
   ]
  },
  {
   "cell_type": "markdown",
   "metadata": {},
   "source": [
    "# Plots "
   ]
  },
  {
   "cell_type": "code",
   "execution_count": null,
   "metadata": {},
   "outputs": [],
   "source": [
    "from matplotlib import cm\n",
    "# import matplotlib.animation as animation\n",
    "\n",
    "theta = np.linspace(0, 1, nlat+1, endpoint=True) * np.pi\n",
    "phi   = np.linspace(0, 1, nlon+1, endpoint=True) * 2 * np.pi\n",
    "\n",
    "X = np.outer(np.sin(theta), np.cos(phi))\n",
    "Y = np.outer(np.sin(theta), np.sin(phi))\n",
    "Z = np.outer(np.cos(theta), np.ones(nlon+1))\n",
    "\n",
    "def plot_state(state, save_path=None):\n",
    "    fig = plt.figure(figsize=(15,10))\n",
    "    ax = fig.add_subplot(111, projection='3d')\n",
    "    ax.set_axis_off()\n",
    "    norm = matplotlib.colors.Normalize(vmin=h0, vmax=h0+.05)\n",
    "    ax.plot_surface(X, Y, Z, rstride=1, cstride=1, \n",
    "                    facecolors=cm.copper_r(norm(state.T)), alpha=0.6, linewidth=.75)\n",
    "    m = cm.ScalarMappable(cmap=cm.copper_r, norm=norm)\n",
    "    m.set_array([])\n",
    "    plt.colorbar(m, shrink=.5)\n",
    "    if save_path:\n",
    "        plt.savefig(save_path)\n",
    "    return plt.show()"
   ]
  },
  {
   "cell_type": "code",
   "execution_count": null,
   "metadata": {},
   "outputs": [],
   "source": [
    "!rm -rf animation\n",
    "!mkdir animation\n",
    "paths = []\n",
    "for i, state in enumerate(states_history):\n",
    "    path = f'animation/{i}.png'\n",
    "    paths.append(path)\n",
    "    plot_state(state, path)\n",
    "    print(np.amin(state), np.amax(state))"
   ]
  },
  {
   "cell_type": "code",
   "execution_count": null,
   "metadata": {},
   "outputs": [],
   "source": [
    "if 'CI' not in os.environ:\n",
    "    os.system(\"ffmpeg -f image2 -r 10 -i ./animation/%01d.png -vcodec mpeg4 -y simulation.mp4\")"
   ]
  },
  {
   "cell_type": "code",
   "execution_count": null,
   "metadata": {},
   "outputs": [],
   "source": [
    "if 'CI' not in os.environ:\n",
    "    Video(\"simulation.mp4\")"
   ]
  },
  {
   "cell_type": "code",
   "execution_count": null,
   "metadata": {},
   "outputs": [],
   "source": [
    "# for i in *.png; do convert $i -flatten -trim +repage -bordercolor white -border 5 _$i; done;\n",
    "# convert _*.png anim.gif"
   ]
  },
  {
   "cell_type": "code",
   "execution_count": null,
   "metadata": {},
   "outputs": [],
   "source": []
  }
 ],
 "metadata": {
  "kernelspec": {
   "display_name": "Python 3",
   "language": "python",
   "name": "python3"
  },
  "language_info": {
   "codemirror_mode": {
    "name": "ipython",
    "version": 3
   },
   "file_extension": ".py",
   "mimetype": "text/x-python",
   "name": "python",
   "nbconvert_exporter": "python",
   "pygments_lexer": "ipython3",
   "version": "3.8.7"
  }
 },
 "nbformat": 4,
 "nbformat_minor": 4
}
