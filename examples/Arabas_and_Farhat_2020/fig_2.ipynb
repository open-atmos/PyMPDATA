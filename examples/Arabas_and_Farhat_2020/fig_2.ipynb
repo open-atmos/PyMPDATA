{
 "cells": [
  {
   "cell_type": "code",
   "execution_count": null,
   "metadata": {},
   "outputs": [],
   "source": [
    "# license: GPL v3\n",
    "# authors: Sylwester Arabas, Michael Olesik, Piotr Bartman\n",
    "# copyright: Jagiellonian University\n",
    "# based on Fig. 2 from Arabas & Farhat 2020 (https://doi.org/10.1016/j.cam.2019.05.023)"
   ]
  },
  {
   "cell_type": "code",
   "execution_count": null,
   "metadata": {
    "pycharm": {
     "name": "#%%\n"
    }
   },
   "outputs": [],
   "source": [
    "import sys\n",
    "if 'google.colab' in sys.modules:\n",
    "    !pip --quiet install atmos-atmos-jupyter-utils\n",
    "    from open_atmos_jupyter_utils import pip_install_on_colab\n",
    "    pip_install_on_colab('PyMPDATA-examples')"
   ]
  },
  {
   "cell_type": "code",
   "execution_count": null,
   "metadata": {},
   "outputs": [],
   "source": [
    "import numpy as np\n",
    "from matplotlib import pyplot\n",
    "from open_atmos_jupyter_utils import show_plot\n",
    "from PyMPDATA_examples.Arabas_and_Farhat_2020.colors import colors\n",
    "from PyMPDATA_examples.Arabas_and_Farhat_2020.analysis_figures_2_and_3 import convergence_in_space"
   ]
  },
  {
   "cell_type": "code",
   "execution_count": null,
   "metadata": {},
   "outputs": [],
   "source": [
    "# note: delete \"num=...\" for same number of points as in the paper\n",
    "data_C_err = convergence_in_space(num=3)"
   ]
  },
  {
   "cell_type": "code",
   "execution_count": null,
   "metadata": {},
   "outputs": [],
   "source": [
    "fig, ax = pyplot.subplots()\n",
    "x = np.array(next(iter(data_C_err.values()))[0])\n",
    "ax.plot(x, 2*x+11, '--', label=\"error ∝ $Δx^2$\", color='black')\n",
    "ax.plot(x, 3*x+8, label=\"error ∝ $Δx^3$\", color='black')\n",
    "i=0\n",
    "for key, value in data_C_err.items():\n",
    "    ax.plot(\n",
    "        *value, \n",
    "        marker='o', \n",
    "        label=key, \n",
    "        linewidth=1 if key.startswith(\"upwind\") else 3,\n",
    "        color=colors[i//2]\n",
    "    )\n",
    "    i += 1\n",
    "ax.set_xlabel(\"log$_2(C)$ ∝ log$_2(Δx/λ^2)$\")\n",
    "ax.set_ylabel(\"log$_2$(truncation error)\")\n",
    "fig.legend(loc='lower right')\n",
    "show_plot()"
   ]
  },
  {
   "cell_type": "code",
   "execution_count": null,
   "metadata": {},
   "outputs": [],
   "source": [
    "upwind_1st_order_convergence_rate = 2\n",
    "for key, value in data_C_err.items():\n",
    "    if key.startswith(\"upwind\"):\n",
    "        x, y = value[0], value[1]\n",
    "        slope = np.diff(y) / np.diff(x)\n",
    "        np.testing.assert_almost_equal(np.mean(slope), 2, 1)"
   ]
  },
  {
   "cell_type": "code",
   "execution_count": null,
   "metadata": {},
   "outputs": [],
   "source": [
    "mpdata_almost_2nd_order_convergence_rate = 2.8\n",
    "for key, value in data_C_err.items():\n",
    "    if key.startswith(\"MPDATA\"):\n",
    "        x, y = value[0], value[1]\n",
    "        slope = np.diff(y) / np.diff(x)\n",
    "        assert np.mean(slope) >= 2.8"
   ]
  },
  {
   "cell_type": "code",
   "execution_count": null,
   "metadata": {},
   "outputs": [],
   "source": []
  },
  {
   "cell_type": "code",
   "execution_count": null,
   "metadata": {},
   "outputs": [],
   "source": []
  },
  {
   "cell_type": "code",
   "execution_count": null,
   "metadata": {},
   "outputs": [],
   "source": []
  }
 ],
 "metadata": {
  "kernelspec": {
   "display_name": "Python 3",
   "language": "python",
   "name": "python3"
  },
  "language_info": {
   "codemirror_mode": {
    "name": "ipython",
    "version": 3
   },
   "file_extension": ".py",
   "mimetype": "text/x-python",
   "name": "python",
   "nbconvert_exporter": "python",
   "pygments_lexer": "ipython3",
   "version": "3.8.2"
  }
 },
 "nbformat": 4,
 "nbformat_minor": 2
}
